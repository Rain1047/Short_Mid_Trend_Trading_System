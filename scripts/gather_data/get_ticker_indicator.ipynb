{
 "cells": [
  {
   "cell_type": "code",
   "execution_count": 5,
   "metadata": {},
   "outputs": [],
   "source": [
    "import pandas as pd\n",
    "import yfinance as yf \n",
    "from sqlalchemy import create_engine\n",
    "import talib as ta\n",
    "engine = create_engine('sqlite:///../../dataset/us/us_ticker_list_with_name.db')"
   ]
  },
  {
   "cell_type": "code",
   "execution_count": null,
   "metadata": {},
   "outputs": [],
   "source": [
    "ticker_df = pd.read_sql('TOTAL',con=engine)\n",
    "ticker_list = ticker_df.Symbol.to_list()\n",
    "ticker_str = ''\n",
    "for ticker in ticker_list:\n",
    "    ticker_str = ticker_str + str(ticker) + \" \"\n",
    "# download data    \n",
    "data = yf.download(\n",
    "    tickers = ticker_str,\n",
    "    # tickers = 'AAPL BABA AMZN',\n",
    "    period = '2y',\n",
    "    interval = '1d',\n",
    "    group_by = 'ticker',\n",
    "    auto_adjust = True,\n",
    "    treads = True\n",
    ")\n",
    "\n",
    "# 关闭警告的设置方法\n",
    "pd.set_option('mode.chained_assignment', None)\n",
    "error_list = []\n",
    "total = pd.DataFrame(columns=['Open', 'High', 'Low', 'Close', 'Volume', 'datetime', 'MA10', 'MA20',\n",
    "       'MA50', 'MA150', 'MA200', 'VMA20', 'VMA50', 'symbol'])\n",
    "for ticker in ticker_list:\n",
    "    try:\n",
    "        print('{} start'.format(ticker))\n",
    "        df = data['{}'.format(ticker)]\n",
    "        # 去除空行\n",
    "        df.dropna(axis=0, inplace=True)\n",
    "        df['symbol'] = ticker\n",
    "        df['datetime'] = df.index\n",
    "        timeperiod = [10,20,50,150,200]\n",
    "        for period in timeperiod:\n",
    "            df['MA{}'.format(period)] = ta.SMA(df.Close, timeperiod=period)\n",
    "        vol_timeperiod = [20,50]\n",
    "        for period in vol_timeperiod:\n",
    "            df['VMA{}'.format(period)] = ta.SMA(df.Volume, timeperiod=period)\n",
    "        df['52week_high'] = df.tail(252).High.max()\n",
    "        df['52week_low'] = df.tail(252).Low.min()\n",
    "\n",
    "        df = df.tail(252)\n",
    "        df['rs'] = round((df.tail(1).Close.values[0] - df.head(1).Close.values[0]) / df.head(1).Close.values[0],3)\n",
    "\n",
    "        target = df.tail(1)\n",
    "        total = pd.concat([total, target],ignore_index=True)\n",
    "    except:\n",
    "        print('{} error'.format(ticker))\n",
    "        error_list.append(ticker)\n",
    "total.dropna(inplace=True)\n",
    "total.index = range(len(total))\n",
    "total.datetime = total.datetime.apply(lambda x:str(x)[:10])"
   ]
  },
  {
   "cell_type": "code",
   "execution_count": 7,
   "metadata": {},
   "outputs": [],
   "source": [
    "engine = create_engine('sqlite:///../../dataset/us/us_ticker_with_indicator.db')"
   ]
  },
  {
   "cell_type": "code",
   "execution_count": null,
   "metadata": {},
   "outputs": [
    {
     "data": {
      "text/plain": [
       "6121"
      ]
     },
     "execution_count": 79,
     "metadata": {},
     "output_type": "execute_result"
    }
   ],
   "source": [
    "datetime = total.iloc[1].datetime\n",
    "total.to_sql('{}'.format(datetime),if_exists='replace', con=engine, index=None)"
   ]
  },
  {
   "cell_type": "code",
   "execution_count": null,
   "metadata": {},
   "outputs": [],
   "source": []
  }
 ],
 "metadata": {
  "kernelspec": {
   "display_name": "Python 3.9.12 ('.env')",
   "language": "python",
   "name": "python3"
  },
  "language_info": {
   "codemirror_mode": {
    "name": "ipython",
    "version": 3
   },
   "file_extension": ".py",
   "mimetype": "text/x-python",
   "name": "python",
   "nbconvert_exporter": "python",
   "pygments_lexer": "ipython3",
   "version": "3.9.12"
  },
  "orig_nbformat": 4,
  "vscode": {
   "interpreter": {
    "hash": "275094a250fb64a879cf604ce7b88b81b1f18c35ecd757c3dc3951589b6fa1fd"
   }
  }
 },
 "nbformat": 4,
 "nbformat_minor": 2
}
