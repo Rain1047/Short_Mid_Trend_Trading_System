{
 "cells": [
  {
   "cell_type": "code",
   "execution_count": null,
   "metadata": {},
   "outputs": [],
   "source": [
    "import pandas as pd\n",
    "import requests\n",
    "import urllib.parse\n",
    "import urllib.request\n",
    "import sqlite3\n",
    "from datetime import datetime\n",
    "from urllib.request import urlopen\n",
    "from sqlalchemy import create_engine\n",
    "from bs4 import BeautifulSoup\n",
    "from tqdm import tqdm\n",
    "# define the header\n",
    "# write your own header here\n",
    "# get your header at \"chrome://version\"\n",
    "headers = {'User-Agent':'Mozilla/5.0 (Macintosh; Intel Mac OS X 10_15_7) AppleWebKit/537.36 (KHTML, like Gecko) Chrome/104.0.0.0 Safari/537.36'}\n",
    "# create engine\n",
    "engine = create_engine('sqlite:///../../dataset/us/us_ticker_net_income_mac.db')\n",
    "# # create database connection\n",
    "# database = '../../dataset/us/us_ticker_eps_annual.db'\n",
    "# conn = sqlite3.connect(database)\n",
    "# print('sql connect success!')\n",
    "# import the list\n",
    "name_engine = create_engine('sqlite:///../../dataset/us/us_ticker_list_with_name.db')\n",
    "log_engine = create_engine('sqlite:///../../dataset/us/us_log_record.db')\n",
    "name_df = pd.read_sql('TOTAL', con=name_engine)"
   ]
  }
 ],
 "metadata": {
  "language_info": {
   "name": "python"
  },
  "orig_nbformat": 4
 },
 "nbformat": 4,
 "nbformat_minor": 2
}
