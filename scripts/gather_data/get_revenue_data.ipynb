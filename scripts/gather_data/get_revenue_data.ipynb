{
 "cells": [
  {
   "cell_type": "code",
   "execution_count": 1,
   "metadata": {},
   "outputs": [],
   "source": [
    "import pandas as pd\n",
    "import requests\n",
    "import urllib.parse\n",
    "import urllib.request\n",
    "import sqlite3\n",
    "from datetime import datetime\n",
    "from urllib.request import urlopen\n",
    "from sqlalchemy import create_engine\n",
    "from bs4 import BeautifulSoup\n",
    "from tqdm import tqdm\n",
    "# define the header\n",
    "# write your own header here\n",
    "# get your header at \"chrome://version\"\n",
    "headers = {'User-Agent':'Mozilla/5.0 (Macintosh; Intel Mac OS X 10_15_7) AppleWebKit/537.36 (KHTML, like Gecko) Chrome/104.0.0.0 Safari/537.36'}\n",
    "# create engine\n",
    "engine = create_engine('sqlite:///../../dataset/us/us_ticker_revenue_mac.db')\n",
    "# # create database connection\n",
    "# database = '../../dataset/us/us_ticker_eps_annual.db'\n",
    "# conn = sqlite3.connect(database)\n",
    "# print('sql connect success!')\n",
    "# import the list\n",
    "name_engine = create_engine('sqlite:///../../dataset/us/us_ticker_list_with_name.db')\n",
    "log_engine = create_engine('sqlite:///../../dataset/us/us_log_record.db')\n",
    "name_df = pd.read_sql('TOTAL', con=name_engine)"
   ]
  },
  {
   "cell_type": "code",
   "execution_count": 2,
   "metadata": {},
   "outputs": [],
   "source": [
    "runtime = datetime.now()\n",
    "if runtime.month < 10:\n",
    "    if runtime.day < 10:\n",
    "        runtime = str(runtime.year) + '0' + str(runtime.month) + '0' +str(runtime.day)\n",
    "    else:\n",
    "        runtime = str(runtime.year) + '0' + str(runtime.month) + str(runtime.day)\n",
    "else:\n",
    "    runtime = str(runtime.year) + str(runtime.month) + str(runtime.day)"
   ]
  },
  {
   "cell_type": "code",
   "execution_count": 3,
   "metadata": {},
   "outputs": [],
   "source": [
    "ticker_symbol_list = name_df.Symbol.to_list()\n",
    "ticker_name_list = name_df['Company Name'].to_list()\n",
    "ticker_length = len(ticker_symbol_list)"
   ]
  },
  {
   "cell_type": "code",
   "execution_count": 4,
   "metadata": {},
   "outputs": [
    {
     "name": "stderr",
     "output_type": "stream",
     "text": [
      "100%|██████████| 6247/6247 [12:38:48<00:00,  7.29s/it]\n"
     ]
    }
   ],
   "source": [
    "for i in tqdm(range(ticker_length)):\n",
    "        try:\n",
    "                html_data = requests.get('https://www.macrotrends.net/stocks/charts/{}/{}/revenue'.format(ticker_symbol_list[i], ticker_name_list[i]),headers=headers, timeout=20)\n",
    "                soup = BeautifulSoup(html_data.text, 'lxml')\n",
    "                target_table = soup.find_all('table', attrs={'class':'historical_data_table'})\n",
    "                # Annual\n",
    "                target_table_01 = target_table[0]\n",
    "                ticker_revenue_annual = pd.DataFrame(columns=['datetime','revenue'])\n",
    "                log_df = pd.DataFrame(columns=['symbol','status'])\n",
    "                # ------------------------------- # \n",
    "                #        get annual revenue\n",
    "                # ------------------------------- #\n",
    "                for row in target_table_01.find_all('tr'):\n",
    "                        col = row.find_all('td')\n",
    "                        len_col = len(col)\n",
    "                        if len_col == 2:\n",
    "                                date = col[0].text\n",
    "                                revenue = col[1].text[1:].replace(',','')\n",
    "                                temp = pd.DataFrame([[date, revenue]],columns=['datetime','revenue'])\n",
    "                                ticker_revenue_annual = pd.concat([ticker_revenue_annual,temp],ignore_index=True)\n",
    "                ticker_revenue_annual.dropna(inplace=True)\n",
    "                ticker_revenue_annual.revenue = ticker_revenue_annual.revenue.astype(int)\n",
    "                ticker_revenue_annual.to_sql('{}-Annual'.format(ticker_symbol_list[i]), con=engine, if_exists='replace',index=None)\n",
    "\n",
    "                # ------------------------------- # \n",
    "                #        get quarter revenue\n",
    "                # ------------------------------- #\n",
    "                # Quarter \n",
    "                target_table_02 = target_table[1]\n",
    "                ticker_revenue_quarter = pd.DataFrame(columns=['datetime','revenue'])\n",
    "                for row in target_table_02.find_all('tr'):\n",
    "                        col = row.find_all('td')\n",
    "                        len_col = len(col)\n",
    "                        if len_col == 2:\n",
    "                                date = col[0].text\n",
    "                                revenue = col[1].text[1:].replace(',','')\n",
    "                                temp = pd.DataFrame([[date, revenue]],columns=['datetime','revenue'])\n",
    "                                ticker_revenue_quarter = pd.concat([ticker_revenue_quarter,temp],ignore_index=True)\n",
    "                ticker_revenue_quarter.revenue = ticker_revenue_quarter.revenue.astype(float)\n",
    "                ticker_revenue_quarter.to_sql('{}-Quarter'.format(ticker_symbol_list[i]),con=engine, if_exists='replace',index=None)\n",
    "        except:\n",
    "                status = 'fail'\n",
    "                temp_log = pd.DataFrame([[ticker_symbol_list[i], status]], columns=['symbol', 'status'])\n",
    "                log_df = pd.concat([log_df,temp_log])\n",
    "                log_df.to_sql('{}-revenue-record'.format(time),con=log_engine,if_exists='replace',index=None)"
   ]
  },
  {
   "cell_type": "code",
   "execution_count": 27,
   "metadata": {},
   "outputs": [
    {
     "data": {
      "text/plain": [
       "<table class=\"historical_data_table table\">\n",
       "<thead>\n",
       "<tr>\n",
       "<th colspan=\"2\" style=\"text-align:center\">Microsoft Annual Revenue<br/><span style=\"font-size:14px;\">(Millions of US $)</span></th>\n",
       "</tr>\n",
       "</thead>\n",
       "<tbody>\n",
       "<tr>\n",
       "<td style=\"text-align:center\">2022</td>\n",
       "<td style=\"text-align:center\">$198,270</td>\n",
       "</tr>\n",
       "<tr>\n",
       "<td style=\"text-align:center\">2021</td>\n",
       "<td style=\"text-align:center\">$168,088</td>\n",
       "</tr>\n",
       "<tr>\n",
       "<td style=\"text-align:center\">2020</td>\n",
       "<td style=\"text-align:center\">$143,015</td>\n",
       "</tr>\n",
       "<tr>\n",
       "<td style=\"text-align:center\">2019</td>\n",
       "<td style=\"text-align:center\">$125,843</td>\n",
       "</tr>\n",
       "<tr>\n",
       "<td style=\"text-align:center\">2018</td>\n",
       "<td style=\"text-align:center\">$110,360</td>\n",
       "</tr>\n",
       "<tr>\n",
       "<td style=\"text-align:center\">2017</td>\n",
       "<td style=\"text-align:center\">$96,571</td>\n",
       "</tr>\n",
       "<tr>\n",
       "<td style=\"text-align:center\">2016</td>\n",
       "<td style=\"text-align:center\">$91,154</td>\n",
       "</tr>\n",
       "<tr>\n",
       "<td style=\"text-align:center\">2015</td>\n",
       "<td style=\"text-align:center\">$93,580</td>\n",
       "</tr>\n",
       "<tr>\n",
       "<td style=\"text-align:center\">2014</td>\n",
       "<td style=\"text-align:center\">$86,833</td>\n",
       "</tr>\n",
       "<tr>\n",
       "<td style=\"text-align:center\">2013</td>\n",
       "<td style=\"text-align:center\">$77,849</td>\n",
       "</tr>\n",
       "<tr>\n",
       "<td style=\"text-align:center\">2012</td>\n",
       "<td style=\"text-align:center\">$73,723</td>\n",
       "</tr>\n",
       "<tr>\n",
       "<td style=\"text-align:center\">2011</td>\n",
       "<td style=\"text-align:center\">$69,943</td>\n",
       "</tr>\n",
       "<tr>\n",
       "<td style=\"text-align:center\">2010</td>\n",
       "<td style=\"text-align:center\">$62,484</td>\n",
       "</tr>\n",
       "<tr>\n",
       "<td style=\"text-align:center\">2009</td>\n",
       "<td style=\"text-align:center\">$58,437</td>\n",
       "</tr>\n",
       "</tbody>\n",
       "</table>"
      ]
     },
     "execution_count": 27,
     "metadata": {},
     "output_type": "execute_result"
    }
   ],
   "source": [
    "target_table_01"
   ]
  },
  {
   "cell_type": "code",
   "execution_count": 28,
   "metadata": {},
   "outputs": [],
   "source": [
    "for row in target_table_01.find_all('tr'):\n",
    "        col = row.find_all('td')\n",
    "        len_col = len(col)\n",
    "        if len_col == 2:\n",
    "                date = col[0].text\n",
    "                revenue = col[1].text[1:].replace(',','')\n",
    "                temp = pd.DataFrame([[date, revenue]],columns=['datetime','revenue'])\n",
    "                ticker_revenue_annual = pd.concat([ticker_revenue_annual,temp],ignore_index=True)"
   ]
  },
  {
   "cell_type": "code",
   "execution_count": 29,
   "metadata": {},
   "outputs": [
    {
     "data": {
      "text/html": [
       "<div>\n",
       "<style scoped>\n",
       "    .dataframe tbody tr th:only-of-type {\n",
       "        vertical-align: middle;\n",
       "    }\n",
       "\n",
       "    .dataframe tbody tr th {\n",
       "        vertical-align: top;\n",
       "    }\n",
       "\n",
       "    .dataframe thead th {\n",
       "        text-align: right;\n",
       "    }\n",
       "</style>\n",
       "<table border=\"1\" class=\"dataframe\">\n",
       "  <thead>\n",
       "    <tr style=\"text-align: right;\">\n",
       "      <th></th>\n",
       "      <th>datetime</th>\n",
       "      <th>revenue</th>\n",
       "    </tr>\n",
       "  </thead>\n",
       "  <tbody>\n",
       "    <tr>\n",
       "      <th>0</th>\n",
       "      <td>2022</td>\n",
       "      <td>198270</td>\n",
       "    </tr>\n",
       "    <tr>\n",
       "      <th>1</th>\n",
       "      <td>2021</td>\n",
       "      <td>168088</td>\n",
       "    </tr>\n",
       "    <tr>\n",
       "      <th>2</th>\n",
       "      <td>2020</td>\n",
       "      <td>143015</td>\n",
       "    </tr>\n",
       "    <tr>\n",
       "      <th>3</th>\n",
       "      <td>2019</td>\n",
       "      <td>125843</td>\n",
       "    </tr>\n",
       "    <tr>\n",
       "      <th>4</th>\n",
       "      <td>2018</td>\n",
       "      <td>110360</td>\n",
       "    </tr>\n",
       "    <tr>\n",
       "      <th>5</th>\n",
       "      <td>2017</td>\n",
       "      <td>96571</td>\n",
       "    </tr>\n",
       "    <tr>\n",
       "      <th>6</th>\n",
       "      <td>2016</td>\n",
       "      <td>91154</td>\n",
       "    </tr>\n",
       "    <tr>\n",
       "      <th>7</th>\n",
       "      <td>2015</td>\n",
       "      <td>93580</td>\n",
       "    </tr>\n",
       "    <tr>\n",
       "      <th>8</th>\n",
       "      <td>2014</td>\n",
       "      <td>86833</td>\n",
       "    </tr>\n",
       "    <tr>\n",
       "      <th>9</th>\n",
       "      <td>2013</td>\n",
       "      <td>77849</td>\n",
       "    </tr>\n",
       "    <tr>\n",
       "      <th>10</th>\n",
       "      <td>2012</td>\n",
       "      <td>73723</td>\n",
       "    </tr>\n",
       "    <tr>\n",
       "      <th>11</th>\n",
       "      <td>2011</td>\n",
       "      <td>69943</td>\n",
       "    </tr>\n",
       "    <tr>\n",
       "      <th>12</th>\n",
       "      <td>2010</td>\n",
       "      <td>62484</td>\n",
       "    </tr>\n",
       "    <tr>\n",
       "      <th>13</th>\n",
       "      <td>2009</td>\n",
       "      <td>58437</td>\n",
       "    </tr>\n",
       "  </tbody>\n",
       "</table>\n",
       "</div>"
      ],
      "text/plain": [
       "   datetime revenue\n",
       "0      2022  198270\n",
       "1      2021  168088\n",
       "2      2020  143015\n",
       "3      2019  125843\n",
       "4      2018  110360\n",
       "5      2017   96571\n",
       "6      2016   91154\n",
       "7      2015   93580\n",
       "8      2014   86833\n",
       "9      2013   77849\n",
       "10     2012   73723\n",
       "11     2011   69943\n",
       "12     2010   62484\n",
       "13     2009   58437"
      ]
     },
     "execution_count": 29,
     "metadata": {},
     "output_type": "execute_result"
    }
   ],
   "source": [
    "ticker_revenue_annual"
   ]
  },
  {
   "cell_type": "code",
   "execution_count": null,
   "metadata": {},
   "outputs": [],
   "source": []
  },
  {
   "cell_type": "code",
   "execution_count": 13,
   "metadata": {},
   "outputs": [
    {
     "data": {
      "text/plain": [
       "51865"
      ]
     },
     "execution_count": 13,
     "metadata": {},
     "output_type": "execute_result"
    }
   ],
   "source": [
    "num1 = '$51,865'\n",
    "num1 = num1[1:].replace(',','')\n",
    "num1 = int(num1)\n",
    "num1"
   ]
  },
  {
   "cell_type": "code",
   "execution_count": null,
   "metadata": {},
   "outputs": [],
   "source": []
  }
 ],
 "metadata": {
  "kernelspec": {
   "display_name": "Python 3.9.12 ('.env')",
   "language": "python",
   "name": "python3"
  },
  "language_info": {
   "codemirror_mode": {
    "name": "ipython",
    "version": 3
   },
   "file_extension": ".py",
   "mimetype": "text/x-python",
   "name": "python",
   "nbconvert_exporter": "python",
   "pygments_lexer": "ipython3",
   "version": "3.9.12"
  },
  "orig_nbformat": 4,
  "vscode": {
   "interpreter": {
    "hash": "275094a250fb64a879cf604ce7b88b81b1f18c35ecd757c3dc3951589b6fa1fd"
   }
  }
 },
 "nbformat": 4,
 "nbformat_minor": 2
}
