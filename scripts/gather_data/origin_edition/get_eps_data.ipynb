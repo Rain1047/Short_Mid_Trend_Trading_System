{
 "cells": [
  {
   "cell_type": "code",
   "execution_count": 1,
   "metadata": {},
   "outputs": [
    {
     "name": "stdout",
     "output_type": "stream",
     "text": [
      "sql connect success!\n"
     ]
    }
   ],
   "source": [
    "import pandas as pd\n",
    "import requests\n",
    "import urllib.parse\n",
    "import urllib.request\n",
    "import sqlite3\n",
    "from urllib.request import urlopen\n",
    "from sqlalchemy import create_engine\n",
    "from bs4 import BeautifulSoup\n",
    "# define the header\n",
    "# write your own header here\n",
    "# get your header at \"chrome://version\"\n",
    "headers = {'User-Agent':'Mozilla/5.0 (Macintosh; Intel Mac OS X 10_15_7) AppleWebKit/537.36 (KHTML, like Gecko) Chrome/104.0.0.0 Safari/537.36'}\n",
    "# create engine\n",
    "engine = create_engine('sqlite:///../../dataset/us/us_ticker_eps_annual.db')\n",
    "# create database connection\n",
    "database = '../../dataset/us/us_ticker_eps_annual.db'\n",
    "conn = sqlite3.connect(database)\n",
    "print('sql connect success!')\n",
    "# import the list\n",
    "ticker_list = pd.read_csv('ticker_list_with_name.csv')"
   ]
  },
  {
   "cell_type": "code",
   "execution_count": 2,
   "metadata": {},
   "outputs": [],
   "source": [
    "ticker_list = pd.read_csv('ticker_list_with_name.csv')"
   ]
  },
  {
   "cell_type": "code",
   "execution_count": 4,
   "metadata": {},
   "outputs": [
    {
     "data": {
      "text/html": [
       "<div>\n",
       "<style scoped>\n",
       "    .dataframe tbody tr th:only-of-type {\n",
       "        vertical-align: middle;\n",
       "    }\n",
       "\n",
       "    .dataframe tbody tr th {\n",
       "        vertical-align: top;\n",
       "    }\n",
       "\n",
       "    .dataframe thead th {\n",
       "        text-align: right;\n",
       "    }\n",
       "</style>\n",
       "<table border=\"1\" class=\"dataframe\">\n",
       "  <thead>\n",
       "    <tr style=\"text-align: right;\">\n",
       "      <th></th>\n",
       "      <th>Symbol</th>\n",
       "      <th>Company Name</th>\n",
       "    </tr>\n",
       "  </thead>\n",
       "  <tbody>\n",
       "    <tr>\n",
       "      <th>3673</th>\n",
       "      <td>MOBV</td>\n",
       "      <td>Mobiv-Acquisition</td>\n",
       "    </tr>\n",
       "  </tbody>\n",
       "</table>\n",
       "</div>"
      ],
      "text/plain": [
       "     Symbol       Company Name\n",
       "3673   MOBV  Mobiv-Acquisition"
      ]
     },
     "execution_count": 4,
     "metadata": {},
     "output_type": "execute_result"
    }
   ],
   "source": [
    "ticker_list[ticker_list.Symbol == 'MOBV']"
   ]
  },
  {
   "cell_type": "code",
   "execution_count": 4,
   "metadata": {},
   "outputs": [],
   "source": [
    "ticker_list['Company Name'] = ticker_list['Company Name'].str.replace(' ', '-')\n",
    "# ticker_list.to_csv('ticker_list_with_name.csv',index=None)"
   ]
  },
  {
   "cell_type": "code",
   "execution_count": 5,
   "metadata": {},
   "outputs": [
    {
     "data": {
      "text/html": [
       "<div>\n",
       "<style scoped>\n",
       "    .dataframe tbody tr th:only-of-type {\n",
       "        vertical-align: middle;\n",
       "    }\n",
       "\n",
       "    .dataframe tbody tr th {\n",
       "        vertical-align: top;\n",
       "    }\n",
       "\n",
       "    .dataframe thead th {\n",
       "        text-align: right;\n",
       "    }\n",
       "</style>\n",
       "<table border=\"1\" class=\"dataframe\">\n",
       "  <thead>\n",
       "    <tr style=\"text-align: right;\">\n",
       "      <th></th>\n",
       "      <th>Symbol</th>\n",
       "      <th>Company Name</th>\n",
       "    </tr>\n",
       "  </thead>\n",
       "  <tbody>\n",
       "    <tr>\n",
       "      <th>0</th>\n",
       "      <td>A</td>\n",
       "      <td>Agilent-Technologies</td>\n",
       "    </tr>\n",
       "    <tr>\n",
       "      <th>1</th>\n",
       "      <td>AA</td>\n",
       "      <td>Alcoa</td>\n",
       "    </tr>\n",
       "    <tr>\n",
       "      <th>2</th>\n",
       "      <td>AAC</td>\n",
       "      <td>Ares-Acquisition</td>\n",
       "    </tr>\n",
       "    <tr>\n",
       "      <th>3</th>\n",
       "      <td>AACG</td>\n",
       "      <td>ATA-Creativity-Global</td>\n",
       "    </tr>\n",
       "    <tr>\n",
       "      <th>4</th>\n",
       "      <td>AACI</td>\n",
       "      <td>Armada-Acquisition-I</td>\n",
       "    </tr>\n",
       "    <tr>\n",
       "      <th>...</th>\n",
       "      <td>...</td>\n",
       "      <td>...</td>\n",
       "    </tr>\n",
       "    <tr>\n",
       "      <th>6240</th>\n",
       "      <td>ZWS</td>\n",
       "      <td>Zurn-Water-Solutions</td>\n",
       "    </tr>\n",
       "    <tr>\n",
       "      <th>6241</th>\n",
       "      <td>ZY</td>\n",
       "      <td>Zymergen</td>\n",
       "    </tr>\n",
       "    <tr>\n",
       "      <th>6242</th>\n",
       "      <td>ZYME</td>\n",
       "      <td>Zymeworks</td>\n",
       "    </tr>\n",
       "    <tr>\n",
       "      <th>6243</th>\n",
       "      <td>ZYNE</td>\n",
       "      <td>Zynerba-Pharmaceuticals</td>\n",
       "    </tr>\n",
       "    <tr>\n",
       "      <th>6244</th>\n",
       "      <td>ZYXI</td>\n",
       "      <td>Zynex</td>\n",
       "    </tr>\n",
       "  </tbody>\n",
       "</table>\n",
       "<p>6245 rows × 2 columns</p>\n",
       "</div>"
      ],
      "text/plain": [
       "     Symbol             Company Name\n",
       "0         A     Agilent-Technologies\n",
       "1        AA                    Alcoa\n",
       "2       AAC         Ares-Acquisition\n",
       "3      AACG    ATA-Creativity-Global\n",
       "4      AACI     Armada-Acquisition-I\n",
       "...     ...                      ...\n",
       "6240    ZWS     Zurn-Water-Solutions\n",
       "6241     ZY                 Zymergen\n",
       "6242   ZYME                Zymeworks\n",
       "6243   ZYNE  Zynerba-Pharmaceuticals\n",
       "6244   ZYXI                    Zynex\n",
       "\n",
       "[6245 rows x 2 columns]"
      ]
     },
     "execution_count": 5,
     "metadata": {},
     "output_type": "execute_result"
    }
   ],
   "source": [
    "ticker_list"
   ]
  },
  {
   "cell_type": "code",
   "execution_count": 6,
   "metadata": {},
   "outputs": [],
   "source": [
    "ticker_symbol_list = ticker_list.Symbol.to_list()\n",
    "ticker_name_list = ticker_list['Company Name'].to_list()\n",
    "ticker_length = len(ticker_symbol_list)\n",
    "# record result\n",
    "log_list = []"
   ]
  },
  {
   "cell_type": "code",
   "execution_count": null,
   "metadata": {},
   "outputs": [],
   "source": [
    "\n",
    "for i in range(ticker_length):\n",
    "    try:\n",
    "        html_data = requests.get('https://www.macrotrends.net/stocks/charts/{}/{}/eps-earnings-per-share-diluted'.format(ticker_symbol_list[i], ticker_name_list[i]),headers=headers)\n",
    "        log_list.append('{} ok'.format(ticker_symbol_list[i]))\n",
    "        print('{} ok'.format(ticker_symbol_list[i]))\n",
    "    except:\n",
    "        log_list.append('{} fail'.format(ticker_symbol_list[i]))\n",
    "        \n",
    "log_df = pd.DataFrame(log_list)\n",
    "log_df"
   ]
  },
  {
   "cell_type": "code",
   "execution_count": 11,
   "metadata": {},
   "outputs": [
    {
     "data": {
      "text/html": [
       "<div>\n",
       "<style scoped>\n",
       "    .dataframe tbody tr th:only-of-type {\n",
       "        vertical-align: middle;\n",
       "    }\n",
       "\n",
       "    .dataframe tbody tr th {\n",
       "        vertical-align: top;\n",
       "    }\n",
       "\n",
       "    .dataframe thead th {\n",
       "        text-align: right;\n",
       "    }\n",
       "</style>\n",
       "<table border=\"1\" class=\"dataframe\">\n",
       "  <thead>\n",
       "    <tr style=\"text-align: right;\">\n",
       "      <th></th>\n",
       "      <th>Symbol</th>\n",
       "      <th>Company Name</th>\n",
       "    </tr>\n",
       "  </thead>\n",
       "  <tbody>\n",
       "    <tr>\n",
       "      <th>14</th>\n",
       "      <td>AAPL</td>\n",
       "      <td>Apple</td>\n",
       "    </tr>\n",
       "  </tbody>\n",
       "</table>\n",
       "</div>"
      ],
      "text/plain": [
       "   Symbol Company Name\n",
       "14   AAPL        Apple"
      ]
     },
     "execution_count": 11,
     "metadata": {},
     "output_type": "execute_result"
    }
   ],
   "source": [
    "ticker_list[ticker_list.Symbol == 'AAPL']"
   ]
  },
  {
   "cell_type": "code",
   "execution_count": 14,
   "metadata": {},
   "outputs": [],
   "source": [
    "html_data = requests.get('https://www.macrotrends.net/stocks/charts/{}/{}/eps-earnings-per-share-diluted'.format('AAPL', 'apple'),headers=headers)\n",
    "soup = BeautifulSoup(html_data.text, 'lxml')\n",
    "target_table = soup.find_all('table', attrs={'class':'historical_data_table'})\n",
    "# Annual\n",
    "target_table_01 = target_table[0]\n",
    "ticker_eps_annual = pd.DataFrame(columns=['datetime','eps'])\n",
    "for row in target_table_01.find_all('tr'):\n",
    "    col = row.find_all('td')\n",
    "    len_col = len(col)\n",
    "    # print(len_col)\n",
    "    # create the dataframe\n",
    "    if len_col == 2:\n",
    "        date = col[0].text\n",
    "        eps = col[1].text[1:]\n",
    "        temp = pd.DataFrame([[date, eps]],columns=['datetime','eps'])\n",
    "        ticker_eps_annual = pd.concat([ticker_eps_annual,temp],ignore_index=True)"
   ]
  },
  {
   "cell_type": "code",
   "execution_count": 18,
   "metadata": {},
   "outputs": [
    {
     "data": {
      "text/plain": [
       "datetime     object\n",
       "eps         float64\n",
       "dtype: object"
      ]
     },
     "execution_count": 18,
     "metadata": {},
     "output_type": "execute_result"
    }
   ],
   "source": [
    "ticker_eps_annual.eps = ticker_eps_annual.eps.astype(float)\n",
    "ticker_eps_annual.dtypes"
   ]
  },
  {
   "cell_type": "code",
   "execution_count": 19,
   "metadata": {},
   "outputs": [],
   "source": [
    "target_table_02 = target_table[1]\n",
    "ticker_eps_quarter = pd.DataFrame(columns=['datetime','eps'])\n",
    "for row in target_table_02.find_all('tr'):\n",
    "    col = row.find_all('td')\n",
    "    len_col = len(col)\n",
    "    # print(len_col)\n",
    "    # create the dataframe\n",
    "    if len_col == 2:\n",
    "        date = col[0].text\n",
    "        eps = col[1].text[1:]\n",
    "        temp = pd.DataFrame([[date, eps]],columns=['datetime','eps'])\n",
    "        ticker_eps_quarter = pd.concat([ticker_eps_quarter,temp],ignore_index=True)\n",
    "ticker_eps_quarter.eps = ticker_eps_quarter.eps.astype(float)"
   ]
  },
  {
   "cell_type": "code",
   "execution_count": 57,
   "metadata": {},
   "outputs": [],
   "source": [
    "# concat\n",
    "datetime = 2020\n",
    "eps = 2.02\n",
    "temp = pd.DataFrame([[datetime, eps]],columns=['datetime','eps'])"
   ]
  },
  {
   "cell_type": "code",
   "execution_count": 24,
   "metadata": {},
   "outputs": [
    {
     "data": {
      "text/html": [
       "<div>\n",
       "<style scoped>\n",
       "    .dataframe tbody tr th:only-of-type {\n",
       "        vertical-align: middle;\n",
       "    }\n",
       "\n",
       "    .dataframe tbody tr th {\n",
       "        vertical-align: top;\n",
       "    }\n",
       "\n",
       "    .dataframe thead th {\n",
       "        text-align: right;\n",
       "    }\n",
       "</style>\n",
       "<table border=\"1\" class=\"dataframe\">\n",
       "  <thead>\n",
       "    <tr style=\"text-align: right;\">\n",
       "      <th></th>\n",
       "      <th>datetime</th>\n",
       "      <th>eps</th>\n",
       "    </tr>\n",
       "  </thead>\n",
       "  <tbody>\n",
       "    <tr>\n",
       "      <th>0</th>\n",
       "      <td>2021</td>\n",
       "      <td>5.61</td>\n",
       "    </tr>\n",
       "    <tr>\n",
       "      <th>1</th>\n",
       "      <td>2020</td>\n",
       "      <td>3.28</td>\n",
       "    </tr>\n",
       "    <tr>\n",
       "      <th>2</th>\n",
       "      <td>2019</td>\n",
       "      <td>2.97</td>\n",
       "    </tr>\n",
       "    <tr>\n",
       "      <th>3</th>\n",
       "      <td>2018</td>\n",
       "      <td>2.98</td>\n",
       "    </tr>\n",
       "    <tr>\n",
       "      <th>4</th>\n",
       "      <td>2017</td>\n",
       "      <td>2.30</td>\n",
       "    </tr>\n",
       "    <tr>\n",
       "      <th>5</th>\n",
       "      <td>2016</td>\n",
       "      <td>2.08</td>\n",
       "    </tr>\n",
       "    <tr>\n",
       "      <th>6</th>\n",
       "      <td>2015</td>\n",
       "      <td>2.31</td>\n",
       "    </tr>\n",
       "    <tr>\n",
       "      <th>7</th>\n",
       "      <td>2014</td>\n",
       "      <td>1.61</td>\n",
       "    </tr>\n",
       "    <tr>\n",
       "      <th>8</th>\n",
       "      <td>2013</td>\n",
       "      <td>1.42</td>\n",
       "    </tr>\n",
       "    <tr>\n",
       "      <th>9</th>\n",
       "      <td>2012</td>\n",
       "      <td>1.58</td>\n",
       "    </tr>\n",
       "    <tr>\n",
       "      <th>10</th>\n",
       "      <td>2011</td>\n",
       "      <td>0.99</td>\n",
       "    </tr>\n",
       "    <tr>\n",
       "      <th>11</th>\n",
       "      <td>2010</td>\n",
       "      <td>0.54</td>\n",
       "    </tr>\n",
       "    <tr>\n",
       "      <th>12</th>\n",
       "      <td>2009</td>\n",
       "      <td>0.32</td>\n",
       "    </tr>\n",
       "  </tbody>\n",
       "</table>\n",
       "</div>"
      ],
      "text/plain": [
       "   datetime   eps\n",
       "0      2021  5.61\n",
       "1      2020  3.28\n",
       "2      2019  2.97\n",
       "3      2018  2.98\n",
       "4      2017  2.30\n",
       "5      2016  2.08\n",
       "6      2015  2.31\n",
       "7      2014  1.61\n",
       "8      2013  1.42\n",
       "9      2012  1.58\n",
       "10     2011  0.99\n",
       "11     2010  0.54\n",
       "12     2009  0.32"
      ]
     },
     "execution_count": 24,
     "metadata": {},
     "output_type": "execute_result"
    }
   ],
   "source": [
    "ticker_eps_annual"
   ]
  },
  {
   "cell_type": "code",
   "execution_count": 30,
   "metadata": {},
   "outputs": [
    {
     "name": "stdout",
     "output_type": "stream",
     "text": [
      "Table name already exists\n",
      "AAPL data load success!\n"
     ]
    }
   ],
   "source": [
    "try:\n",
    "    cursor = conn.cursor()\n",
    "    cursor.execute('CREATE TABLE {}'.format('AAPL'))\n",
    "    conn.commit()\n",
    "    print(\"{} table ceate successful!\".format('AAPL'))\n",
    "except:\n",
    "    print(\"Table name already exists\")\n",
    "try:\n",
    "    ticker_eps_annual.to_sql('AAPL', conn, if_exists='replace', index=False)\n",
    "    print('{} data load success!'.format('AAPL'))\n",
    "except:\n",
    "    print('{} already exit'.format('AAPL'))"
   ]
  },
  {
   "cell_type": "code",
   "execution_count": 47,
   "metadata": {},
   "outputs": [
    {
     "data": {
      "text/plain": [
       "54"
      ]
     },
     "execution_count": 47,
     "metadata": {},
     "output_type": "execute_result"
    }
   ],
   "source": [
    "engine = create_engine('sqlite:///../../dataset/us/us_ticker_eps_quarter.db')\n",
    "ticker_eps_quarter.to_sql('AAPL',con=engine)"
   ]
  },
  {
   "cell_type": "code",
   "execution_count": null,
   "metadata": {},
   "outputs": [],
   "source": [
    "ticker_eps_quarter.to_sql('AAPL', con = engine)"
   ]
  },
  {
   "cell_type": "code",
   "execution_count": 42,
   "metadata": {},
   "outputs": [
    {
     "data": {
      "text/plain": [
       "2"
      ]
     },
     "execution_count": 42,
     "metadata": {},
     "output_type": "execute_result"
    }
   ],
   "source": [
    "from sqlalchemy import create_engine\n",
    "\n",
    "#参数字段 sqlite:///<database path>\n",
    "engine = create_engine('sqlite:///test.db')\n",
    "import pandas\n",
    "data = {\n",
    "\t'name':['小明','小红']\n",
    "}\n",
    "\n",
    "df = pandas.DataFrame(data)\n",
    "df.to_sql('tb_test',con=engine) "
   ]
  },
  {
   "cell_type": "code",
   "execution_count": null,
   "metadata": {},
   "outputs": [],
   "source": []
  }
 ],
 "metadata": {
  "kernelspec": {
   "display_name": "Python 3.9.12 ('.env')",
   "language": "python",
   "name": "python3"
  },
  "language_info": {
   "codemirror_mode": {
    "name": "ipython",
    "version": 3
   },
   "file_extension": ".py",
   "mimetype": "text/x-python",
   "name": "python",
   "nbconvert_exporter": "python",
   "pygments_lexer": "ipython3",
   "version": "3.9.12"
  },
  "orig_nbformat": 4,
  "vscode": {
   "interpreter": {
    "hash": "275094a250fb64a879cf604ce7b88b81b1f18c35ecd757c3dc3951589b6fa1fd"
   }
  }
 },
 "nbformat": 4,
 "nbformat_minor": 2
}
