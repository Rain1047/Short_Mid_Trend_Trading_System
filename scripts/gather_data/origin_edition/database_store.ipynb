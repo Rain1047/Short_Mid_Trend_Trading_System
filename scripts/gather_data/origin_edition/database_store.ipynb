{
 "cells": [
  {
   "cell_type": "code",
   "execution_count": 18,
   "metadata": {},
   "outputs": [
    {
     "name": "stdout",
     "output_type": "stream",
     "text": [
      "connect success!\n"
     ]
    }
   ],
   "source": [
    "# 存入数据库\n",
    "## Write into SQL\n",
    "import sqlite3\n",
    "#\n",
    "import pandas as pd \n",
    "from datetime import datetime\n",
    "## connect database\n",
    "database = \"ticker_symbol_us.db\"\n",
    "conn = sqlite3.connect(database)\n",
    "print('connect success!')"
   ]
  },
  {
   "cell_type": "markdown",
   "metadata": {},
   "source": [
    "### <a href=\"#us\">US</a>\n",
    "\n",
    "### <a href=\"#ch\">CH</a>"
   ]
  },
  {
   "cell_type": "markdown",
   "metadata": {},
   "source": [
    "### <span id=\"us\">US</span>"
   ]
  },
  {
   "cell_type": "code",
   "execution_count": 3,
   "metadata": {},
   "outputs": [
    {
     "name": "stdout",
     "output_type": "stream",
     "text": [
      "Table ceate successful!\n"
     ]
    }
   ],
   "source": [
    "# create the table(only once)\n",
    "try:\n",
    "    cursor = conn.cursor()\n",
    "    cursor.execute('CREATE TABLE {}(Ticker, Sector, Exchange)'.format('NASDAQ'))\n",
    "    conn.commit()\n",
    "    print(\"Table ceate successful!\")\n",
    "except:\n",
    "    print(\"Table name already exists\")"
   ]
  },
  {
   "cell_type": "code",
   "execution_count": 12,
   "metadata": {},
   "outputs": [],
   "source": [
    "df = pd.read_csv('nasdaq_ticker.csv',index_col=None)\n",
    "df.drop(columns='Unnamed: 0',inplace=True)"
   ]
  },
  {
   "cell_type": "code",
   "execution_count": 6,
   "metadata": {},
   "outputs": [],
   "source": [
    "# 写入（如果没有就写入，否则建立资料表）\n",
    "try:\n",
    "    df.to_sql('{}'.format('NASDAQ'), conn, if_exists='replace',index=False)\n",
    "except:\n",
    "    print('df already exits')"
   ]
  },
  {
   "cell_type": "code",
   "execution_count": 7,
   "metadata": {},
   "outputs": [
    {
     "name": "stdout",
     "output_type": "stream",
     "text": [
      "Table ceate successful!\n"
     ]
    }
   ],
   "source": [
    "# create the table(only once)\n",
    "try:\n",
    "    cursor = conn.cursor()\n",
    "    cursor.execute('CREATE TABLE {}(Ticker, Sector, Exchange)'.format('NYSE'))\n",
    "    conn.commit()\n",
    "    print(\"Table ceate successful!\")\n",
    "except:\n",
    "    print(\"Table name already exists\")"
   ]
  },
  {
   "cell_type": "code",
   "execution_count": 10,
   "metadata": {},
   "outputs": [],
   "source": [
    "nyse_df = pd.read_csv('nyse_ticker.csv',index_col=False)\n",
    "nyse_df.drop(columns='Unnamed: 0',inplace=True)"
   ]
  },
  {
   "cell_type": "code",
   "execution_count": 9,
   "metadata": {},
   "outputs": [],
   "source": [
    "# 写入（如果没有就写入，否则建立资料表）\n",
    "try:\n",
    "    df.to_sql('{}'.format('NYSE'), conn, if_exists='replace',index=False)\n",
    "except:\n",
    "    print('df already exits')"
   ]
  },
  {
   "cell_type": "code",
   "execution_count": 14,
   "metadata": {},
   "outputs": [
    {
     "name": "stderr",
     "output_type": "stream",
     "text": [
      "C:\\Users\\Rain\\AppData\\Local\\Temp\\ipykernel_27396\\2657175054.py:1: FutureWarning: The frame.append method is deprecated and will be removed from pandas in a future version. Use pandas.concat instead.\n",
      "  df = df.append(nyse_df)\n"
     ]
    }
   ],
   "source": [
    "df = df.append(nyse_df)\n",
    "df.index = range(len(df))"
   ]
  },
  {
   "cell_type": "code",
   "execution_count": 19,
   "metadata": {},
   "outputs": [
    {
     "name": "stdout",
     "output_type": "stream",
     "text": [
      "Table ceate successful!\n"
     ]
    }
   ],
   "source": [
    "# create the table(only once)\n",
    "try:\n",
    "    cursor = conn.cursor()\n",
    "    cursor.execute('CREATE TABLE {}(Ticker, Sector, Exchange)'.format('TOTAL'))\n",
    "    conn.commit()\n",
    "    print(\"Table ceate successful!\")\n",
    "except:\n",
    "    print(\"Table name already exists\")"
   ]
  },
  {
   "cell_type": "code",
   "execution_count": 20,
   "metadata": {},
   "outputs": [],
   "source": [
    "# 写入（如果没有就写入，否则建立资料表）\n",
    "try:\n",
    "    df.to_sql('{}'.format('TOTAL'), conn, if_exists='replace',index=False)\n",
    "except:\n",
    "    print('df already exits')"
   ]
  },
  {
   "cell_type": "markdown",
   "metadata": {},
   "source": [
    "### <span id=\"ch\">CH</span>"
   ]
  },
  {
   "cell_type": "code",
   "execution_count": 1,
   "metadata": {},
   "outputs": [
    {
     "name": "stdout",
     "output_type": "stream",
     "text": [
      "connect success!\n"
     ]
    }
   ],
   "source": [
    "# 存入数据库\n",
    "## Write into SQL\n",
    "import sqlite3\n",
    "#\n",
    "import pandas as pd \n",
    "from datetime import datetime\n",
    "## connect database\n",
    "database = \"ticker_symbol_ch.db\"\n",
    "conn = sqlite3.connect(database)\n",
    "print('connect success!')"
   ]
  },
  {
   "cell_type": "code",
   "execution_count": 2,
   "metadata": {},
   "outputs": [],
   "source": [
    "sse_df = pd.read_csv('sse_ticker.csv',index_col=None)\n",
    "sse_df.drop(columns='Unnamed: 0',inplace=True)\n",
    "sse_df.drop(columns=['area'], inplace=True)\n",
    "sse_df['exchange'] = 'SSE'"
   ]
  },
  {
   "cell_type": "code",
   "execution_count": 3,
   "metadata": {},
   "outputs": [
    {
     "data": {
      "text/html": [
       "<div>\n",
       "<style scoped>\n",
       "    .dataframe tbody tr th:only-of-type {\n",
       "        vertical-align: middle;\n",
       "    }\n",
       "\n",
       "    .dataframe tbody tr th {\n",
       "        vertical-align: top;\n",
       "    }\n",
       "\n",
       "    .dataframe thead th {\n",
       "        text-align: right;\n",
       "    }\n",
       "</style>\n",
       "<table border=\"1\" class=\"dataframe\">\n",
       "  <thead>\n",
       "    <tr style=\"text-align: right;\">\n",
       "      <th></th>\n",
       "      <th>ts_code</th>\n",
       "      <th>symbol</th>\n",
       "      <th>name</th>\n",
       "      <th>industry</th>\n",
       "      <th>exchange</th>\n",
       "    </tr>\n",
       "  </thead>\n",
       "  <tbody>\n",
       "    <tr>\n",
       "      <th>0</th>\n",
       "      <td>600000.SH</td>\n",
       "      <td>600000</td>\n",
       "      <td>浦发银行</td>\n",
       "      <td>银行</td>\n",
       "      <td>SSE</td>\n",
       "    </tr>\n",
       "    <tr>\n",
       "      <th>1</th>\n",
       "      <td>600004.SH</td>\n",
       "      <td>600004</td>\n",
       "      <td>白云机场</td>\n",
       "      <td>机场</td>\n",
       "      <td>SSE</td>\n",
       "    </tr>\n",
       "    <tr>\n",
       "      <th>2</th>\n",
       "      <td>600006.SH</td>\n",
       "      <td>600006</td>\n",
       "      <td>东风汽车</td>\n",
       "      <td>汽车整车</td>\n",
       "      <td>SSE</td>\n",
       "    </tr>\n",
       "    <tr>\n",
       "      <th>3</th>\n",
       "      <td>600007.SH</td>\n",
       "      <td>600007</td>\n",
       "      <td>中国国贸</td>\n",
       "      <td>园区开发</td>\n",
       "      <td>SSE</td>\n",
       "    </tr>\n",
       "    <tr>\n",
       "      <th>4</th>\n",
       "      <td>600008.SH</td>\n",
       "      <td>600008</td>\n",
       "      <td>首创环保</td>\n",
       "      <td>环境保护</td>\n",
       "      <td>SSE</td>\n",
       "    </tr>\n",
       "    <tr>\n",
       "      <th>...</th>\n",
       "      <td>...</td>\n",
       "      <td>...</td>\n",
       "      <td>...</td>\n",
       "      <td>...</td>\n",
       "      <td>...</td>\n",
       "    </tr>\n",
       "    <tr>\n",
       "      <th>2087</th>\n",
       "      <td>688799.SH</td>\n",
       "      <td>688799</td>\n",
       "      <td>华纳药厂</td>\n",
       "      <td>化学制药</td>\n",
       "      <td>SSE</td>\n",
       "    </tr>\n",
       "    <tr>\n",
       "      <th>2088</th>\n",
       "      <td>688800.SH</td>\n",
       "      <td>688800</td>\n",
       "      <td>瑞可达</td>\n",
       "      <td>元器件</td>\n",
       "      <td>SSE</td>\n",
       "    </tr>\n",
       "    <tr>\n",
       "      <th>2089</th>\n",
       "      <td>688819.SH</td>\n",
       "      <td>688819</td>\n",
       "      <td>天能股份</td>\n",
       "      <td>电气设备</td>\n",
       "      <td>SSE</td>\n",
       "    </tr>\n",
       "    <tr>\n",
       "      <th>2090</th>\n",
       "      <td>688981.SH</td>\n",
       "      <td>688981</td>\n",
       "      <td>中芯国际</td>\n",
       "      <td>半导体</td>\n",
       "      <td>SSE</td>\n",
       "    </tr>\n",
       "    <tr>\n",
       "      <th>2091</th>\n",
       "      <td>689009.SH</td>\n",
       "      <td>689009</td>\n",
       "      <td>九号公司-WD</td>\n",
       "      <td>摩托车</td>\n",
       "      <td>SSE</td>\n",
       "    </tr>\n",
       "  </tbody>\n",
       "</table>\n",
       "<p>2092 rows × 5 columns</p>\n",
       "</div>"
      ],
      "text/plain": [
       "        ts_code  symbol     name industry exchange\n",
       "0     600000.SH  600000     浦发银行       银行      SSE\n",
       "1     600004.SH  600004     白云机场       机场      SSE\n",
       "2     600006.SH  600006     东风汽车     汽车整车      SSE\n",
       "3     600007.SH  600007     中国国贸     园区开发      SSE\n",
       "4     600008.SH  600008     首创环保     环境保护      SSE\n",
       "...         ...     ...      ...      ...      ...\n",
       "2087  688799.SH  688799     华纳药厂     化学制药      SSE\n",
       "2088  688800.SH  688800      瑞可达      元器件      SSE\n",
       "2089  688819.SH  688819     天能股份     电气设备      SSE\n",
       "2090  688981.SH  688981     中芯国际      半导体      SSE\n",
       "2091  689009.SH  689009  九号公司-WD      摩托车      SSE\n",
       "\n",
       "[2092 rows x 5 columns]"
      ]
     },
     "execution_count": 3,
     "metadata": {},
     "output_type": "execute_result"
    }
   ],
   "source": [
    "sse_df"
   ]
  },
  {
   "cell_type": "code",
   "execution_count": 4,
   "metadata": {},
   "outputs": [
    {
     "name": "stdout",
     "output_type": "stream",
     "text": [
      "Table name already exists\n"
     ]
    }
   ],
   "source": [
    "# create the table(only once)\n",
    "try:\n",
    "    cursor = conn.cursor()\n",
    "    cursor.execute('CREATE TABLE {}(symbol, name, industry, exchange)'.format('SSE'))\n",
    "    conn.commit()\n",
    "    print(\"Table ceate successful!\")\n",
    "except:\n",
    "    print(\"Table name already exists\")"
   ]
  },
  {
   "cell_type": "code",
   "execution_count": 5,
   "metadata": {},
   "outputs": [],
   "source": [
    "# 写入（如果没有就写入，否则建立资料表）\n",
    "try:\n",
    "    sse_df.to_sql('{}'.format('SSE'), conn, if_exists='replace',index=False)\n",
    "except:\n",
    "    print('df already exits')"
   ]
  },
  {
   "cell_type": "code",
   "execution_count": 6,
   "metadata": {},
   "outputs": [],
   "source": [
    "szse_df = pd.read_csv('szse_ticker.csv',index_col=None,converters = {u'symbol':str})\n",
    "szse_df.drop(columns='Unnamed: 0',inplace=True)\n",
    "szse_df.drop(columns=['area'], inplace=True)\n",
    "szse_df['exchange'] = 'SZSE'"
   ]
  },
  {
   "cell_type": "code",
   "execution_count": 7,
   "metadata": {},
   "outputs": [
    {
     "data": {
      "text/html": [
       "<div>\n",
       "<style scoped>\n",
       "    .dataframe tbody tr th:only-of-type {\n",
       "        vertical-align: middle;\n",
       "    }\n",
       "\n",
       "    .dataframe tbody tr th {\n",
       "        vertical-align: top;\n",
       "    }\n",
       "\n",
       "    .dataframe thead th {\n",
       "        text-align: right;\n",
       "    }\n",
       "</style>\n",
       "<table border=\"1\" class=\"dataframe\">\n",
       "  <thead>\n",
       "    <tr style=\"text-align: right;\">\n",
       "      <th></th>\n",
       "      <th>ts_code</th>\n",
       "      <th>symbol</th>\n",
       "      <th>name</th>\n",
       "      <th>industry</th>\n",
       "      <th>exchange</th>\n",
       "    </tr>\n",
       "  </thead>\n",
       "  <tbody>\n",
       "    <tr>\n",
       "      <th>0</th>\n",
       "      <td>000001.SZ</td>\n",
       "      <td>000001</td>\n",
       "      <td>平安银行</td>\n",
       "      <td>银行</td>\n",
       "      <td>SZSE</td>\n",
       "    </tr>\n",
       "    <tr>\n",
       "      <th>1</th>\n",
       "      <td>000002.SZ</td>\n",
       "      <td>000002</td>\n",
       "      <td>万科A</td>\n",
       "      <td>全国地产</td>\n",
       "      <td>SZSE</td>\n",
       "    </tr>\n",
       "    <tr>\n",
       "      <th>2</th>\n",
       "      <td>000004.SZ</td>\n",
       "      <td>000004</td>\n",
       "      <td>ST国华</td>\n",
       "      <td>软件服务</td>\n",
       "      <td>SZSE</td>\n",
       "    </tr>\n",
       "    <tr>\n",
       "      <th>3</th>\n",
       "      <td>000005.SZ</td>\n",
       "      <td>000005</td>\n",
       "      <td>ST星源</td>\n",
       "      <td>环境保护</td>\n",
       "      <td>SZSE</td>\n",
       "    </tr>\n",
       "    <tr>\n",
       "      <th>4</th>\n",
       "      <td>000006.SZ</td>\n",
       "      <td>000006</td>\n",
       "      <td>深振业A</td>\n",
       "      <td>区域地产</td>\n",
       "      <td>SZSE</td>\n",
       "    </tr>\n",
       "    <tr>\n",
       "      <th>...</th>\n",
       "      <td>...</td>\n",
       "      <td>...</td>\n",
       "      <td>...</td>\n",
       "      <td>...</td>\n",
       "      <td>...</td>\n",
       "    </tr>\n",
       "    <tr>\n",
       "      <th>2630</th>\n",
       "      <td>301288.SZ</td>\n",
       "      <td>301288</td>\n",
       "      <td>清研环境</td>\n",
       "      <td>环境保护</td>\n",
       "      <td>SZSE</td>\n",
       "    </tr>\n",
       "    <tr>\n",
       "      <th>2631</th>\n",
       "      <td>301289.SZ</td>\n",
       "      <td>301289</td>\n",
       "      <td>国缆检测</td>\n",
       "      <td>综合类</td>\n",
       "      <td>SZSE</td>\n",
       "    </tr>\n",
       "    <tr>\n",
       "      <th>2632</th>\n",
       "      <td>301298.SZ</td>\n",
       "      <td>301298</td>\n",
       "      <td>东利机械</td>\n",
       "      <td>汽车配件</td>\n",
       "      <td>SZSE</td>\n",
       "    </tr>\n",
       "    <tr>\n",
       "      <th>2633</th>\n",
       "      <td>301302.SZ</td>\n",
       "      <td>301302</td>\n",
       "      <td>华如科技</td>\n",
       "      <td>软件服务</td>\n",
       "      <td>SZSE</td>\n",
       "    </tr>\n",
       "    <tr>\n",
       "      <th>2634</th>\n",
       "      <td>301312.SZ</td>\n",
       "      <td>301312</td>\n",
       "      <td>C智立方</td>\n",
       "      <td>专用机械</td>\n",
       "      <td>SZSE</td>\n",
       "    </tr>\n",
       "  </tbody>\n",
       "</table>\n",
       "<p>2635 rows × 5 columns</p>\n",
       "</div>"
      ],
      "text/plain": [
       "        ts_code  symbol  name industry exchange\n",
       "0     000001.SZ  000001  平安银行       银行     SZSE\n",
       "1     000002.SZ  000002   万科A     全国地产     SZSE\n",
       "2     000004.SZ  000004  ST国华     软件服务     SZSE\n",
       "3     000005.SZ  000005  ST星源     环境保护     SZSE\n",
       "4     000006.SZ  000006  深振业A     区域地产     SZSE\n",
       "...         ...     ...   ...      ...      ...\n",
       "2630  301288.SZ  301288  清研环境     环境保护     SZSE\n",
       "2631  301289.SZ  301289  国缆检测      综合类     SZSE\n",
       "2632  301298.SZ  301298  东利机械     汽车配件     SZSE\n",
       "2633  301302.SZ  301302  华如科技     软件服务     SZSE\n",
       "2634  301312.SZ  301312  C智立方     专用机械     SZSE\n",
       "\n",
       "[2635 rows x 5 columns]"
      ]
     },
     "execution_count": 7,
     "metadata": {},
     "output_type": "execute_result"
    }
   ],
   "source": [
    "szse_df"
   ]
  },
  {
   "cell_type": "code",
   "execution_count": 8,
   "metadata": {},
   "outputs": [
    {
     "name": "stdout",
     "output_type": "stream",
     "text": [
      "Table name already exists\n"
     ]
    }
   ],
   "source": [
    "# create the table(only once)\n",
    "try:\n",
    "    cursor = conn.cursor()\n",
    "    cursor.execute('CREATE TABLE {}(symbol, name, industry, exchange)'.format('SZSE'))\n",
    "    conn.commit()\n",
    "    print(\"Table ceate successful!\")\n",
    "except:\n",
    "    print(\"Table name already exists\")"
   ]
  },
  {
   "cell_type": "code",
   "execution_count": 9,
   "metadata": {},
   "outputs": [],
   "source": [
    "# 写入（如果没有就写入，否则建立资料表）\n",
    "try:\n",
    "    szse_df.to_sql('{}'.format('SZSE'), conn, if_exists='replace',index=False)\n",
    "except:\n",
    "    print('df already exits')"
   ]
  },
  {
   "cell_type": "code",
   "execution_count": 10,
   "metadata": {},
   "outputs": [
    {
     "data": {
      "text/html": [
       "<div>\n",
       "<style scoped>\n",
       "    .dataframe tbody tr th:only-of-type {\n",
       "        vertical-align: middle;\n",
       "    }\n",
       "\n",
       "    .dataframe tbody tr th {\n",
       "        vertical-align: top;\n",
       "    }\n",
       "\n",
       "    .dataframe thead th {\n",
       "        text-align: right;\n",
       "    }\n",
       "</style>\n",
       "<table border=\"1\" class=\"dataframe\">\n",
       "  <thead>\n",
       "    <tr style=\"text-align: right;\">\n",
       "      <th></th>\n",
       "      <th>ts_code</th>\n",
       "      <th>symbol</th>\n",
       "      <th>name</th>\n",
       "      <th>industry</th>\n",
       "      <th>exchange</th>\n",
       "    </tr>\n",
       "  </thead>\n",
       "  <tbody>\n",
       "    <tr>\n",
       "      <th>0</th>\n",
       "      <td>600000.SH</td>\n",
       "      <td>600000</td>\n",
       "      <td>浦发银行</td>\n",
       "      <td>银行</td>\n",
       "      <td>SSE</td>\n",
       "    </tr>\n",
       "    <tr>\n",
       "      <th>1</th>\n",
       "      <td>600004.SH</td>\n",
       "      <td>600004</td>\n",
       "      <td>白云机场</td>\n",
       "      <td>机场</td>\n",
       "      <td>SSE</td>\n",
       "    </tr>\n",
       "    <tr>\n",
       "      <th>2</th>\n",
       "      <td>600006.SH</td>\n",
       "      <td>600006</td>\n",
       "      <td>东风汽车</td>\n",
       "      <td>汽车整车</td>\n",
       "      <td>SSE</td>\n",
       "    </tr>\n",
       "    <tr>\n",
       "      <th>3</th>\n",
       "      <td>600007.SH</td>\n",
       "      <td>600007</td>\n",
       "      <td>中国国贸</td>\n",
       "      <td>园区开发</td>\n",
       "      <td>SSE</td>\n",
       "    </tr>\n",
       "    <tr>\n",
       "      <th>4</th>\n",
       "      <td>600008.SH</td>\n",
       "      <td>600008</td>\n",
       "      <td>首创环保</td>\n",
       "      <td>环境保护</td>\n",
       "      <td>SSE</td>\n",
       "    </tr>\n",
       "    <tr>\n",
       "      <th>...</th>\n",
       "      <td>...</td>\n",
       "      <td>...</td>\n",
       "      <td>...</td>\n",
       "      <td>...</td>\n",
       "      <td>...</td>\n",
       "    </tr>\n",
       "    <tr>\n",
       "      <th>2087</th>\n",
       "      <td>688799.SH</td>\n",
       "      <td>688799</td>\n",
       "      <td>华纳药厂</td>\n",
       "      <td>化学制药</td>\n",
       "      <td>SSE</td>\n",
       "    </tr>\n",
       "    <tr>\n",
       "      <th>2088</th>\n",
       "      <td>688800.SH</td>\n",
       "      <td>688800</td>\n",
       "      <td>瑞可达</td>\n",
       "      <td>元器件</td>\n",
       "      <td>SSE</td>\n",
       "    </tr>\n",
       "    <tr>\n",
       "      <th>2089</th>\n",
       "      <td>688819.SH</td>\n",
       "      <td>688819</td>\n",
       "      <td>天能股份</td>\n",
       "      <td>电气设备</td>\n",
       "      <td>SSE</td>\n",
       "    </tr>\n",
       "    <tr>\n",
       "      <th>2090</th>\n",
       "      <td>688981.SH</td>\n",
       "      <td>688981</td>\n",
       "      <td>中芯国际</td>\n",
       "      <td>半导体</td>\n",
       "      <td>SSE</td>\n",
       "    </tr>\n",
       "    <tr>\n",
       "      <th>2091</th>\n",
       "      <td>689009.SH</td>\n",
       "      <td>689009</td>\n",
       "      <td>九号公司-WD</td>\n",
       "      <td>摩托车</td>\n",
       "      <td>SSE</td>\n",
       "    </tr>\n",
       "  </tbody>\n",
       "</table>\n",
       "<p>2092 rows × 5 columns</p>\n",
       "</div>"
      ],
      "text/plain": [
       "        ts_code  symbol     name industry exchange\n",
       "0     600000.SH  600000     浦发银行       银行      SSE\n",
       "1     600004.SH  600004     白云机场       机场      SSE\n",
       "2     600006.SH  600006     东风汽车     汽车整车      SSE\n",
       "3     600007.SH  600007     中国国贸     园区开发      SSE\n",
       "4     600008.SH  600008     首创环保     环境保护      SSE\n",
       "...         ...     ...      ...      ...      ...\n",
       "2087  688799.SH  688799     华纳药厂     化学制药      SSE\n",
       "2088  688800.SH  688800      瑞可达      元器件      SSE\n",
       "2089  688819.SH  688819     天能股份     电气设备      SSE\n",
       "2090  688981.SH  688981     中芯国际      半导体      SSE\n",
       "2091  689009.SH  689009  九号公司-WD      摩托车      SSE\n",
       "\n",
       "[2092 rows x 5 columns]"
      ]
     },
     "execution_count": 10,
     "metadata": {},
     "output_type": "execute_result"
    }
   ],
   "source": [
    "sse_df"
   ]
  },
  {
   "cell_type": "code",
   "execution_count": 11,
   "metadata": {},
   "outputs": [
    {
     "data": {
      "text/html": [
       "<div>\n",
       "<style scoped>\n",
       "    .dataframe tbody tr th:only-of-type {\n",
       "        vertical-align: middle;\n",
       "    }\n",
       "\n",
       "    .dataframe tbody tr th {\n",
       "        vertical-align: top;\n",
       "    }\n",
       "\n",
       "    .dataframe thead th {\n",
       "        text-align: right;\n",
       "    }\n",
       "</style>\n",
       "<table border=\"1\" class=\"dataframe\">\n",
       "  <thead>\n",
       "    <tr style=\"text-align: right;\">\n",
       "      <th></th>\n",
       "      <th>ts_code</th>\n",
       "      <th>symbol</th>\n",
       "      <th>name</th>\n",
       "      <th>industry</th>\n",
       "      <th>exchange</th>\n",
       "    </tr>\n",
       "  </thead>\n",
       "  <tbody>\n",
       "    <tr>\n",
       "      <th>0</th>\n",
       "      <td>000001.SZ</td>\n",
       "      <td>000001</td>\n",
       "      <td>平安银行</td>\n",
       "      <td>银行</td>\n",
       "      <td>SZSE</td>\n",
       "    </tr>\n",
       "    <tr>\n",
       "      <th>1</th>\n",
       "      <td>000002.SZ</td>\n",
       "      <td>000002</td>\n",
       "      <td>万科A</td>\n",
       "      <td>全国地产</td>\n",
       "      <td>SZSE</td>\n",
       "    </tr>\n",
       "    <tr>\n",
       "      <th>2</th>\n",
       "      <td>000004.SZ</td>\n",
       "      <td>000004</td>\n",
       "      <td>ST国华</td>\n",
       "      <td>软件服务</td>\n",
       "      <td>SZSE</td>\n",
       "    </tr>\n",
       "    <tr>\n",
       "      <th>3</th>\n",
       "      <td>000005.SZ</td>\n",
       "      <td>000005</td>\n",
       "      <td>ST星源</td>\n",
       "      <td>环境保护</td>\n",
       "      <td>SZSE</td>\n",
       "    </tr>\n",
       "    <tr>\n",
       "      <th>4</th>\n",
       "      <td>000006.SZ</td>\n",
       "      <td>000006</td>\n",
       "      <td>深振业A</td>\n",
       "      <td>区域地产</td>\n",
       "      <td>SZSE</td>\n",
       "    </tr>\n",
       "    <tr>\n",
       "      <th>...</th>\n",
       "      <td>...</td>\n",
       "      <td>...</td>\n",
       "      <td>...</td>\n",
       "      <td>...</td>\n",
       "      <td>...</td>\n",
       "    </tr>\n",
       "    <tr>\n",
       "      <th>2630</th>\n",
       "      <td>301288.SZ</td>\n",
       "      <td>301288</td>\n",
       "      <td>清研环境</td>\n",
       "      <td>环境保护</td>\n",
       "      <td>SZSE</td>\n",
       "    </tr>\n",
       "    <tr>\n",
       "      <th>2631</th>\n",
       "      <td>301289.SZ</td>\n",
       "      <td>301289</td>\n",
       "      <td>国缆检测</td>\n",
       "      <td>综合类</td>\n",
       "      <td>SZSE</td>\n",
       "    </tr>\n",
       "    <tr>\n",
       "      <th>2632</th>\n",
       "      <td>301298.SZ</td>\n",
       "      <td>301298</td>\n",
       "      <td>东利机械</td>\n",
       "      <td>汽车配件</td>\n",
       "      <td>SZSE</td>\n",
       "    </tr>\n",
       "    <tr>\n",
       "      <th>2633</th>\n",
       "      <td>301302.SZ</td>\n",
       "      <td>301302</td>\n",
       "      <td>华如科技</td>\n",
       "      <td>软件服务</td>\n",
       "      <td>SZSE</td>\n",
       "    </tr>\n",
       "    <tr>\n",
       "      <th>2634</th>\n",
       "      <td>301312.SZ</td>\n",
       "      <td>301312</td>\n",
       "      <td>C智立方</td>\n",
       "      <td>专用机械</td>\n",
       "      <td>SZSE</td>\n",
       "    </tr>\n",
       "  </tbody>\n",
       "</table>\n",
       "<p>2635 rows × 5 columns</p>\n",
       "</div>"
      ],
      "text/plain": [
       "        ts_code  symbol  name industry exchange\n",
       "0     000001.SZ  000001  平安银行       银行     SZSE\n",
       "1     000002.SZ  000002   万科A     全国地产     SZSE\n",
       "2     000004.SZ  000004  ST国华     软件服务     SZSE\n",
       "3     000005.SZ  000005  ST星源     环境保护     SZSE\n",
       "4     000006.SZ  000006  深振业A     区域地产     SZSE\n",
       "...         ...     ...   ...      ...      ...\n",
       "2630  301288.SZ  301288  清研环境     环境保护     SZSE\n",
       "2631  301289.SZ  301289  国缆检测      综合类     SZSE\n",
       "2632  301298.SZ  301298  东利机械     汽车配件     SZSE\n",
       "2633  301302.SZ  301302  华如科技     软件服务     SZSE\n",
       "2634  301312.SZ  301312  C智立方     专用机械     SZSE\n",
       "\n",
       "[2635 rows x 5 columns]"
      ]
     },
     "execution_count": 11,
     "metadata": {},
     "output_type": "execute_result"
    }
   ],
   "source": [
    "szse_df"
   ]
  },
  {
   "cell_type": "code",
   "execution_count": 12,
   "metadata": {},
   "outputs": [
    {
     "name": "stderr",
     "output_type": "stream",
     "text": [
      "C:\\Users\\Rain\\AppData\\Local\\Temp\\ipykernel_30876\\2421358513.py:1: FutureWarning: The frame.append method is deprecated and will be removed from pandas in a future version. Use pandas.concat instead.\n",
      "  df = sse_df.append(szse_df)\n"
     ]
    }
   ],
   "source": [
    "df = sse_df.append(szse_df)\n",
    "df.index = range(len(df))"
   ]
  },
  {
   "cell_type": "code",
   "execution_count": 13,
   "metadata": {},
   "outputs": [
    {
     "data": {
      "text/html": [
       "<div>\n",
       "<style scoped>\n",
       "    .dataframe tbody tr th:only-of-type {\n",
       "        vertical-align: middle;\n",
       "    }\n",
       "\n",
       "    .dataframe tbody tr th {\n",
       "        vertical-align: top;\n",
       "    }\n",
       "\n",
       "    .dataframe thead th {\n",
       "        text-align: right;\n",
       "    }\n",
       "</style>\n",
       "<table border=\"1\" class=\"dataframe\">\n",
       "  <thead>\n",
       "    <tr style=\"text-align: right;\">\n",
       "      <th></th>\n",
       "      <th>ts_code</th>\n",
       "      <th>symbol</th>\n",
       "      <th>name</th>\n",
       "      <th>industry</th>\n",
       "      <th>exchange</th>\n",
       "    </tr>\n",
       "  </thead>\n",
       "  <tbody>\n",
       "    <tr>\n",
       "      <th>0</th>\n",
       "      <td>600000.SH</td>\n",
       "      <td>600000</td>\n",
       "      <td>浦发银行</td>\n",
       "      <td>银行</td>\n",
       "      <td>SSE</td>\n",
       "    </tr>\n",
       "    <tr>\n",
       "      <th>1</th>\n",
       "      <td>600004.SH</td>\n",
       "      <td>600004</td>\n",
       "      <td>白云机场</td>\n",
       "      <td>机场</td>\n",
       "      <td>SSE</td>\n",
       "    </tr>\n",
       "    <tr>\n",
       "      <th>2</th>\n",
       "      <td>600006.SH</td>\n",
       "      <td>600006</td>\n",
       "      <td>东风汽车</td>\n",
       "      <td>汽车整车</td>\n",
       "      <td>SSE</td>\n",
       "    </tr>\n",
       "    <tr>\n",
       "      <th>3</th>\n",
       "      <td>600007.SH</td>\n",
       "      <td>600007</td>\n",
       "      <td>中国国贸</td>\n",
       "      <td>园区开发</td>\n",
       "      <td>SSE</td>\n",
       "    </tr>\n",
       "    <tr>\n",
       "      <th>4</th>\n",
       "      <td>600008.SH</td>\n",
       "      <td>600008</td>\n",
       "      <td>首创环保</td>\n",
       "      <td>环境保护</td>\n",
       "      <td>SSE</td>\n",
       "    </tr>\n",
       "    <tr>\n",
       "      <th>...</th>\n",
       "      <td>...</td>\n",
       "      <td>...</td>\n",
       "      <td>...</td>\n",
       "      <td>...</td>\n",
       "      <td>...</td>\n",
       "    </tr>\n",
       "    <tr>\n",
       "      <th>4722</th>\n",
       "      <td>301288.SZ</td>\n",
       "      <td>301288</td>\n",
       "      <td>清研环境</td>\n",
       "      <td>环境保护</td>\n",
       "      <td>SZSE</td>\n",
       "    </tr>\n",
       "    <tr>\n",
       "      <th>4723</th>\n",
       "      <td>301289.SZ</td>\n",
       "      <td>301289</td>\n",
       "      <td>国缆检测</td>\n",
       "      <td>综合类</td>\n",
       "      <td>SZSE</td>\n",
       "    </tr>\n",
       "    <tr>\n",
       "      <th>4724</th>\n",
       "      <td>301298.SZ</td>\n",
       "      <td>301298</td>\n",
       "      <td>东利机械</td>\n",
       "      <td>汽车配件</td>\n",
       "      <td>SZSE</td>\n",
       "    </tr>\n",
       "    <tr>\n",
       "      <th>4725</th>\n",
       "      <td>301302.SZ</td>\n",
       "      <td>301302</td>\n",
       "      <td>华如科技</td>\n",
       "      <td>软件服务</td>\n",
       "      <td>SZSE</td>\n",
       "    </tr>\n",
       "    <tr>\n",
       "      <th>4726</th>\n",
       "      <td>301312.SZ</td>\n",
       "      <td>301312</td>\n",
       "      <td>C智立方</td>\n",
       "      <td>专用机械</td>\n",
       "      <td>SZSE</td>\n",
       "    </tr>\n",
       "  </tbody>\n",
       "</table>\n",
       "<p>4727 rows × 5 columns</p>\n",
       "</div>"
      ],
      "text/plain": [
       "        ts_code  symbol  name industry exchange\n",
       "0     600000.SH  600000  浦发银行       银行      SSE\n",
       "1     600004.SH  600004  白云机场       机场      SSE\n",
       "2     600006.SH  600006  东风汽车     汽车整车      SSE\n",
       "3     600007.SH  600007  中国国贸     园区开发      SSE\n",
       "4     600008.SH  600008  首创环保     环境保护      SSE\n",
       "...         ...     ...   ...      ...      ...\n",
       "4722  301288.SZ  301288  清研环境     环境保护     SZSE\n",
       "4723  301289.SZ  301289  国缆检测      综合类     SZSE\n",
       "4724  301298.SZ  301298  东利机械     汽车配件     SZSE\n",
       "4725  301302.SZ  301302  华如科技     软件服务     SZSE\n",
       "4726  301312.SZ  301312  C智立方     专用机械     SZSE\n",
       "\n",
       "[4727 rows x 5 columns]"
      ]
     },
     "execution_count": 13,
     "metadata": {},
     "output_type": "execute_result"
    }
   ],
   "source": [
    "df"
   ]
  },
  {
   "cell_type": "code",
   "execution_count": 14,
   "metadata": {},
   "outputs": [
    {
     "name": "stdout",
     "output_type": "stream",
     "text": [
      "Table name already exists\n"
     ]
    }
   ],
   "source": [
    "# create the table(only once)\n",
    "try:\n",
    "    cursor = conn.cursor()\n",
    "    cursor.execute('CREATE TABLE {}(symbol, name, industry, exchange)'.format('TOTAL'))\n",
    "    conn.commit()\n",
    "    print(\"Table ceate successful!\")\n",
    "except:\n",
    "    print(\"Table name already exists\")"
   ]
  },
  {
   "cell_type": "code",
   "execution_count": 15,
   "metadata": {},
   "outputs": [],
   "source": [
    "# 写入（如果没有就写入，否则建立资料表）\n",
    "try:\n",
    "    df.to_sql('{}'.format('TOTAL'), conn, if_exists='replace',index=False)\n",
    "except:\n",
    "    print('df already exits')"
   ]
  },
  {
   "cell_type": "code",
   "execution_count": null,
   "metadata": {},
   "outputs": [],
   "source": []
  }
 ],
 "metadata": {
  "kernelspec": {
   "display_name": "Python 3.9.12 ('.env')",
   "language": "python",
   "name": "python3"
  },
  "language_info": {
   "codemirror_mode": {
    "name": "ipython",
    "version": 3
   },
   "file_extension": ".py",
   "mimetype": "text/x-python",
   "name": "python",
   "nbconvert_exporter": "python",
   "pygments_lexer": "ipython3",
   "version": "3.9.12"
  },
  "orig_nbformat": 4,
  "vscode": {
   "interpreter": {
    "hash": "275094a250fb64a879cf604ce7b88b81b1f18c35ecd757c3dc3951589b6fa1fd"
   }
  }
 },
 "nbformat": 4,
 "nbformat_minor": 2
}
