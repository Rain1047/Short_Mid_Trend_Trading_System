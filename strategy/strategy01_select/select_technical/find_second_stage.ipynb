{
 "cells": [
  {
   "cell_type": "code",
   "execution_count": 1,
   "metadata": {},
   "outputs": [],
   "source": [
    "import backtrader as bt\n",
    "import pandas as pd\n",
    "import numpy as np\n",
    "# from get_score import get_score_ch\n",
    "from sqlalchemy import create_engine\n",
    "import talib as ta\n",
    "import datetime\n",
    "import pandas as pd\n",
    "engine= create_engine('sqlite:///../../../dataset/us/us_ticker_price_yf.db')"
   ]
  },
  {
   "cell_type": "code",
   "execution_count": 7,
   "metadata": {},
   "outputs": [],
   "source": [
    "ticker = 'AAPL'\n",
    "# ticker = 'INTC'\n",
    "date = '2020-06-11'\n",
    "# date = '2020-01-09'\n",
    "df = pd.read_sql('{}'.format(ticker), engine)\n",
    "df.rename(columns={'hgih':'high'},inplace=True)\n",
    "df['chg_pct'] = ((df.close - df.open)/df.open)*100\n",
    "df['close'] = df['close'].apply(lambda x: round(x,3))\n",
    "df['VMA20'] = ta.SMA(df.volume, timeperiod=20)\n",
    "df['VMA50'] = ta.SMA(df.volume, timeperiod=50)"
   ]
  },
  {
   "cell_type": "code",
   "execution_count": 8,
   "metadata": {},
   "outputs": [
    {
     "data": {
      "text/plain": [
       "600"
      ]
     },
     "execution_count": 8,
     "metadata": {},
     "output_type": "execute_result"
    }
   ],
   "source": [
    "df = df.tail(600)\n",
    "df.index = range(len(df))\n",
    "df_length = len(df)\n",
    "df_length"
   ]
  },
  {
   "cell_type": "code",
   "execution_count": 9,
   "metadata": {},
   "outputs": [
    {
     "data": {
      "text/plain": [
       "(29, 21)"
      ]
     },
     "execution_count": 9,
     "metadata": {},
     "output_type": "execute_result"
    }
   ],
   "source": [
    "temp = df[50:100]\n",
    "# n个bar内，升高的天数和降低的天数\n",
    "increase_day_count  = temp[temp.chg_pct > 0].datetime.count()\n",
    "decrease_day_count  = temp[temp.chg_pct < 0].datetime.count()\n",
    "increase_day_count, decrease_day_count"
   ]
  },
  {
   "cell_type": "code",
   "execution_count": 10,
   "metadata": {},
   "outputs": [
    {
     "data": {
      "text/plain": [
       "(129124524.138, 148713580.952)"
      ]
     },
     "execution_count": 10,
     "metadata": {},
     "output_type": "execute_result"
    }
   ],
   "source": [
    "# n个bar内，升高天数得volume均值和降低天数得volume均值\n",
    "increase_day_volume = round(temp[temp.chg_pct > 0].volume.mean(),3)\n",
    "decrease_day_volume = round(temp[temp.chg_pct < 0].volume.mean(),3)\n",
    "increase_day_volume, decrease_day_volume"
   ]
  },
  {
   "cell_type": "code",
   "execution_count": 15,
   "metadata": {},
   "outputs": [
    {
     "data": {
      "text/plain": [
       "(5, 7)"
      ]
     },
     "execution_count": 15,
     "metadata": {},
     "output_type": "execute_result"
    }
   ],
   "source": [
    "increase_date_count = temp.query('volume > VMA50 and chg_pct > 0').datetime.count()\n",
    "decrease_date_count = temp.query('volume > VMA50 and chg_pct < 0').datetime.count()\n",
    "increase_date_count, decrease_date_count"
   ]
  },
  {
   "cell_type": "code",
   "execution_count": 58,
   "metadata": {},
   "outputs": [
    {
     "name": "stdout",
     "output_type": "stream",
     "text": [
      "vol diff: -12033.0, rate diff: -3.22\n"
     ]
    }
   ],
   "source": [
    "# 关闭警告的设置方法\n",
    "pd.set_option('mode.chained_assignment', None)\n",
    "inputdate = '2020-06-11'\n",
    "\n",
    "targetindex = df[df.datetime == '{}'.format(inputdate)].index.values[0]\n",
    "startindex = targetindex - 50\n",
    "temp = df[startindex: targetindex]\n",
    "# \n",
    "increase_volume = round(temp[temp.chg_pct > 0].volume.mean(),3)\n",
    "decrease_volume = round(temp[temp.chg_pct < 0].volume.mean(),3)\n",
    "vol_diff = round((increase_volume - decrease_volume) / 1000,0)\n",
    "# \n",
    "increase_rate = round(temp.query('chg_pct > 0 and volume > VMA20').datetime.count() / temp.query('chg_pct > 0').datetime.count(),3)\n",
    "decrease_rate = round(temp.query('chg_pct < 0 and volume > VMA20').datetime.count() / temp.query('chg_pct < 0').datetime.count(),5)\n",
    "rate_diff = round((increase_rate - decrease_rate)*1000,3)\n",
    "\n",
    "print('vol diff: {}, rate diff: {}'.format(vol_diff, rate_diff))"
   ]
  },
  {
   "cell_type": "code",
   "execution_count": 63,
   "metadata": {},
   "outputs": [
    {
     "data": {
      "text/plain": [
       "0.31169899252964156"
      ]
     },
     "execution_count": 63,
     "metadata": {},
     "output_type": "execute_result"
    }
   ],
   "source": [
    "temp['factor'] = round(temp.volume / temp.VMA20, 3)\n",
    "increase_rate_fac = temp.query('chg_pct > 0 and volume > VMA20').factor.sum() / temp.query('chg_pct > 0').factor.sum()\n",
    "decrease_rate_fac = temp.query('chg_pct < 0 and volume > VMA20').factor.sum() / temp.query('chg_pct < 0').factor.sum()"
   ]
  },
  {
   "cell_type": "code",
   "execution_count": null,
   "metadata": {},
   "outputs": [],
   "source": []
  }
 ],
 "metadata": {
  "kernelspec": {
   "display_name": "Python 3.9.12 ('.env')",
   "language": "python",
   "name": "python3"
  },
  "language_info": {
   "codemirror_mode": {
    "name": "ipython",
    "version": 3
   },
   "file_extension": ".py",
   "mimetype": "text/x-python",
   "name": "python",
   "nbconvert_exporter": "python",
   "pygments_lexer": "ipython3",
   "version": "3.9.12"
  },
  "orig_nbformat": 4,
  "vscode": {
   "interpreter": {
    "hash": "275094a250fb64a879cf604ce7b88b81b1f18c35ecd757c3dc3951589b6fa1fd"
   }
  }
 },
 "nbformat": 4,
 "nbformat_minor": 2
}
