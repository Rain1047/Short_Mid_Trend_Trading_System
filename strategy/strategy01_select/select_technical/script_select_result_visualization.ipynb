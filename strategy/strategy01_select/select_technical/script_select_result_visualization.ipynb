{
 "cells": [
  {
   "cell_type": "code",
   "execution_count": 1,
   "metadata": {},
   "outputs": [],
   "source": [
    "import pandas as pd\n",
    "import numpy as np\n",
    "from sqlalchemy import create_engine"
   ]
  },
  {
   "cell_type": "code",
   "execution_count": 2,
   "metadata": {},
   "outputs": [],
   "source": [
    "price_engine = create_engine('sqlite:///../../../datatset/us/us_ticker_seven_year_price.db')\n",
    "# result_engine = create_engine('sqlite:///strategy\\strategy01_select\\select_technical\\select_test_result\\select_test_result.db')\n",
    "result_engine = create_engine('sqlite:///select_test_result/select_test_result.db')"
   ]
  },
  {
   "cell_type": "code",
   "execution_count": 3,
   "metadata": {},
   "outputs": [],
   "source": [
    "date_list = ['2019-04-01','2019-07-01','2019-10-01','2020-01-02',\n",
    "            '2020-04-01','2020-07-01','2020-10-01','2021-01-04'\n",
    "            '2021-04-01','2021-07-01','2021-10-01','2022-01-03']"
   ]
  },
  {
   "cell_type": "code",
   "execution_count": 4,
   "metadata": {},
   "outputs": [],
   "source": [
    "target_date = '2019-04-01'\n",
    "df = pd.read_sql('{}_test_res'.format(target_date),con=result_engine)\n",
    "df=df[df.apply(np.sum,axis=1)!=0]\n",
    "df.rename(columns={'declince_avg_90':'decline_avg_90'},inplace=True)"
   ]
  },
  {
   "cell_type": "code",
   "execution_count": 5,
   "metadata": {},
   "outputs": [
    {
     "data": {
      "text/html": [
       "<div>\n",
       "<style scoped>\n",
       "    .dataframe tbody tr th:only-of-type {\n",
       "        vertical-align: middle;\n",
       "    }\n",
       "\n",
       "    .dataframe tbody tr th {\n",
       "        vertical-align: top;\n",
       "    }\n",
       "\n",
       "    .dataframe thead th {\n",
       "        text-align: right;\n",
       "    }\n",
       "</style>\n",
       "<table border=\"1\" class=\"dataframe\">\n",
       "  <thead>\n",
       "    <tr style=\"text-align: right;\">\n",
       "      <th></th>\n",
       "      <th>profit_avg_60</th>\n",
       "      <th>profit_avg_90</th>\n",
       "      <th>profit_avg_120</th>\n",
       "      <th>decline_avg_60</th>\n",
       "      <th>decline_avg_90</th>\n",
       "      <th>decline_avg_120</th>\n",
       "    </tr>\n",
       "  </thead>\n",
       "  <tbody>\n",
       "    <tr>\n",
       "      <th>7</th>\n",
       "      <td>0.162109</td>\n",
       "      <td>0.235128</td>\n",
       "      <td>0.284579</td>\n",
       "      <td>-0.074499</td>\n",
       "      <td>-0.074499</td>\n",
       "      <td>-0.074499</td>\n",
       "    </tr>\n",
       "    <tr>\n",
       "      <th>9</th>\n",
       "      <td>0.103247</td>\n",
       "      <td>0.177699</td>\n",
       "      <td>0.206342</td>\n",
       "      <td>-0.027469</td>\n",
       "      <td>-0.036375</td>\n",
       "      <td>-0.036375</td>\n",
       "    </tr>\n",
       "    <tr>\n",
       "      <th>12</th>\n",
       "      <td>0.198328</td>\n",
       "      <td>0.305167</td>\n",
       "      <td>0.356838</td>\n",
       "      <td>-0.068526</td>\n",
       "      <td>-0.068526</td>\n",
       "      <td>-0.068526</td>\n",
       "    </tr>\n",
       "    <tr>\n",
       "      <th>14</th>\n",
       "      <td>0.139968</td>\n",
       "      <td>0.153225</td>\n",
       "      <td>0.247298</td>\n",
       "      <td>-0.052820</td>\n",
       "      <td>-0.072038</td>\n",
       "      <td>-0.072038</td>\n",
       "    </tr>\n",
       "    <tr>\n",
       "      <th>16</th>\n",
       "      <td>0.151099</td>\n",
       "      <td>0.227798</td>\n",
       "      <td>0.272932</td>\n",
       "      <td>-0.016527</td>\n",
       "      <td>-0.016527</td>\n",
       "      <td>-0.016527</td>\n",
       "    </tr>\n",
       "    <tr>\n",
       "      <th>...</th>\n",
       "      <td>...</td>\n",
       "      <td>...</td>\n",
       "      <td>...</td>\n",
       "      <td>...</td>\n",
       "      <td>...</td>\n",
       "      <td>...</td>\n",
       "    </tr>\n",
       "    <tr>\n",
       "      <th>9978</th>\n",
       "      <td>0.176326</td>\n",
       "      <td>0.221443</td>\n",
       "      <td>0.221443</td>\n",
       "      <td>-0.081679</td>\n",
       "      <td>-0.084699</td>\n",
       "      <td>-0.084699</td>\n",
       "    </tr>\n",
       "    <tr>\n",
       "      <th>9981</th>\n",
       "      <td>0.141843</td>\n",
       "      <td>0.176412</td>\n",
       "      <td>0.223733</td>\n",
       "      <td>-0.045455</td>\n",
       "      <td>-0.045455</td>\n",
       "      <td>-0.045455</td>\n",
       "    </tr>\n",
       "    <tr>\n",
       "      <th>9989</th>\n",
       "      <td>0.105565</td>\n",
       "      <td>0.122600</td>\n",
       "      <td>0.154771</td>\n",
       "      <td>-0.049457</td>\n",
       "      <td>-0.101894</td>\n",
       "      <td>-0.118737</td>\n",
       "    </tr>\n",
       "    <tr>\n",
       "      <th>9995</th>\n",
       "      <td>0.056373</td>\n",
       "      <td>0.113496</td>\n",
       "      <td>0.120477</td>\n",
       "      <td>-0.026592</td>\n",
       "      <td>-0.030166</td>\n",
       "      <td>-0.033360</td>\n",
       "    </tr>\n",
       "    <tr>\n",
       "      <th>9997</th>\n",
       "      <td>0.169530</td>\n",
       "      <td>0.194759</td>\n",
       "      <td>0.203088</td>\n",
       "      <td>-0.045644</td>\n",
       "      <td>-0.045644</td>\n",
       "      <td>-0.045644</td>\n",
       "    </tr>\n",
       "  </tbody>\n",
       "</table>\n",
       "<p>2686 rows × 6 columns</p>\n",
       "</div>"
      ],
      "text/plain": [
       "      profit_avg_60  profit_avg_90  profit_avg_120  decline_avg_60  \\\n",
       "7          0.162109       0.235128        0.284579       -0.074499   \n",
       "9          0.103247       0.177699        0.206342       -0.027469   \n",
       "12         0.198328       0.305167        0.356838       -0.068526   \n",
       "14         0.139968       0.153225        0.247298       -0.052820   \n",
       "16         0.151099       0.227798        0.272932       -0.016527   \n",
       "...             ...            ...             ...             ...   \n",
       "9978       0.176326       0.221443        0.221443       -0.081679   \n",
       "9981       0.141843       0.176412        0.223733       -0.045455   \n",
       "9989       0.105565       0.122600        0.154771       -0.049457   \n",
       "9995       0.056373       0.113496        0.120477       -0.026592   \n",
       "9997       0.169530       0.194759        0.203088       -0.045644   \n",
       "\n",
       "      decline_avg_90  decline_avg_120  \n",
       "7          -0.074499        -0.074499  \n",
       "9          -0.036375        -0.036375  \n",
       "12         -0.068526        -0.068526  \n",
       "14         -0.072038        -0.072038  \n",
       "16         -0.016527        -0.016527  \n",
       "...              ...              ...  \n",
       "9978       -0.084699        -0.084699  \n",
       "9981       -0.045455        -0.045455  \n",
       "9989       -0.101894        -0.118737  \n",
       "9995       -0.030166        -0.033360  \n",
       "9997       -0.045644        -0.045644  \n",
       "\n",
       "[2686 rows x 6 columns]"
      ]
     },
     "execution_count": 5,
     "metadata": {},
     "output_type": "execute_result"
    }
   ],
   "source": [
    "# df.query('profit_avg_60 > 0.05 and (profit_avg_60/2 + decline_avg_60) > 0')\n",
    "df.query('(profit_avg_60/2 + decline_avg_60) > 0')"
   ]
  },
  {
   "cell_type": "code",
   "execution_count": 6,
   "metadata": {},
   "outputs": [
    {
     "data": {
      "text/plain": [
       "4590"
      ]
     },
     "execution_count": 6,
     "metadata": {},
     "output_type": "execute_result"
    }
   ],
   "source": [
    "df.query('profit_avg_120 > 0.15').index.__len__()"
   ]
  },
  {
   "cell_type": "code",
   "execution_count": 7,
   "metadata": {},
   "outputs": [
    {
     "data": {
      "text/html": [
       "<div>\n",
       "<style scoped>\n",
       "    .dataframe tbody tr th:only-of-type {\n",
       "        vertical-align: middle;\n",
       "    }\n",
       "\n",
       "    .dataframe tbody tr th {\n",
       "        vertical-align: top;\n",
       "    }\n",
       "\n",
       "    .dataframe thead th {\n",
       "        text-align: right;\n",
       "    }\n",
       "</style>\n",
       "<table border=\"1\" class=\"dataframe\">\n",
       "  <thead>\n",
       "    <tr style=\"text-align: right;\">\n",
       "      <th></th>\n",
       "      <th>profit_avg_60</th>\n",
       "      <th>profit_avg_90</th>\n",
       "      <th>profit_avg_120</th>\n",
       "      <th>decline_avg_60</th>\n",
       "      <th>decline_avg_90</th>\n",
       "      <th>decline_avg_120</th>\n",
       "    </tr>\n",
       "  </thead>\n",
       "  <tbody>\n",
       "    <tr>\n",
       "      <th>0</th>\n",
       "      <td>0.085214</td>\n",
       "      <td>0.131444</td>\n",
       "      <td>0.190979</td>\n",
       "      <td>-0.051332</td>\n",
       "      <td>-0.051332</td>\n",
       "      <td>-0.051332</td>\n",
       "    </tr>\n",
       "    <tr>\n",
       "      <th>7</th>\n",
       "      <td>0.162109</td>\n",
       "      <td>0.235128</td>\n",
       "      <td>0.284579</td>\n",
       "      <td>-0.074499</td>\n",
       "      <td>-0.074499</td>\n",
       "      <td>-0.074499</td>\n",
       "    </tr>\n",
       "    <tr>\n",
       "      <th>9</th>\n",
       "      <td>0.103247</td>\n",
       "      <td>0.177699</td>\n",
       "      <td>0.206342</td>\n",
       "      <td>-0.027469</td>\n",
       "      <td>-0.036375</td>\n",
       "      <td>-0.036375</td>\n",
       "    </tr>\n",
       "    <tr>\n",
       "      <th>12</th>\n",
       "      <td>0.198328</td>\n",
       "      <td>0.305167</td>\n",
       "      <td>0.356838</td>\n",
       "      <td>-0.068526</td>\n",
       "      <td>-0.068526</td>\n",
       "      <td>-0.068526</td>\n",
       "    </tr>\n",
       "    <tr>\n",
       "      <th>14</th>\n",
       "      <td>0.139968</td>\n",
       "      <td>0.153225</td>\n",
       "      <td>0.247298</td>\n",
       "      <td>-0.052820</td>\n",
       "      <td>-0.072038</td>\n",
       "      <td>-0.072038</td>\n",
       "    </tr>\n",
       "    <tr>\n",
       "      <th>...</th>\n",
       "      <td>...</td>\n",
       "      <td>...</td>\n",
       "      <td>...</td>\n",
       "      <td>...</td>\n",
       "      <td>...</td>\n",
       "      <td>...</td>\n",
       "    </tr>\n",
       "    <tr>\n",
       "      <th>9981</th>\n",
       "      <td>0.141843</td>\n",
       "      <td>0.176412</td>\n",
       "      <td>0.223733</td>\n",
       "      <td>-0.045455</td>\n",
       "      <td>-0.045455</td>\n",
       "      <td>-0.045455</td>\n",
       "    </tr>\n",
       "    <tr>\n",
       "      <th>9990</th>\n",
       "      <td>0.112987</td>\n",
       "      <td>0.161347</td>\n",
       "      <td>0.174106</td>\n",
       "      <td>-0.064827</td>\n",
       "      <td>-0.071434</td>\n",
       "      <td>-0.099403</td>\n",
       "    </tr>\n",
       "    <tr>\n",
       "      <th>9995</th>\n",
       "      <td>0.056373</td>\n",
       "      <td>0.113496</td>\n",
       "      <td>0.120477</td>\n",
       "      <td>-0.026592</td>\n",
       "      <td>-0.030166</td>\n",
       "      <td>-0.033360</td>\n",
       "    </tr>\n",
       "    <tr>\n",
       "      <th>9997</th>\n",
       "      <td>0.169530</td>\n",
       "      <td>0.194759</td>\n",
       "      <td>0.203088</td>\n",
       "      <td>-0.045644</td>\n",
       "      <td>-0.045644</td>\n",
       "      <td>-0.045644</td>\n",
       "    </tr>\n",
       "    <tr>\n",
       "      <th>9998</th>\n",
       "      <td>0.045363</td>\n",
       "      <td>0.135446</td>\n",
       "      <td>0.171951</td>\n",
       "      <td>-0.047735</td>\n",
       "      <td>-0.047735</td>\n",
       "      <td>-0.047735</td>\n",
       "    </tr>\n",
       "  </tbody>\n",
       "</table>\n",
       "<p>3715 rows × 6 columns</p>\n",
       "</div>"
      ],
      "text/plain": [
       "      profit_avg_60  profit_avg_90  profit_avg_120  decline_avg_60  \\\n",
       "0          0.085214       0.131444        0.190979       -0.051332   \n",
       "7          0.162109       0.235128        0.284579       -0.074499   \n",
       "9          0.103247       0.177699        0.206342       -0.027469   \n",
       "12         0.198328       0.305167        0.356838       -0.068526   \n",
       "14         0.139968       0.153225        0.247298       -0.052820   \n",
       "...             ...            ...             ...             ...   \n",
       "9981       0.141843       0.176412        0.223733       -0.045455   \n",
       "9990       0.112987       0.161347        0.174106       -0.064827   \n",
       "9995       0.056373       0.113496        0.120477       -0.026592   \n",
       "9997       0.169530       0.194759        0.203088       -0.045644   \n",
       "9998       0.045363       0.135446        0.171951       -0.047735   \n",
       "\n",
       "      decline_avg_90  decline_avg_120  \n",
       "0          -0.051332        -0.051332  \n",
       "7          -0.074499        -0.074499  \n",
       "9          -0.036375        -0.036375  \n",
       "12         -0.068526        -0.068526  \n",
       "14         -0.072038        -0.072038  \n",
       "...              ...              ...  \n",
       "9981       -0.045455        -0.045455  \n",
       "9990       -0.071434        -0.099403  \n",
       "9995       -0.030166        -0.033360  \n",
       "9997       -0.045644        -0.045644  \n",
       "9998       -0.047735        -0.047735  \n",
       "\n",
       "[3715 rows x 6 columns]"
      ]
     },
     "execution_count": 7,
     "metadata": {},
     "output_type": "execute_result"
    }
   ],
   "source": [
    "df.query('(profit_avg_90/2 + decline_avg_90) > 0')"
   ]
  },
  {
   "cell_type": "code",
   "execution_count": 8,
   "metadata": {},
   "outputs": [
    {
     "data": {
      "text/html": [
       "<div>\n",
       "<style scoped>\n",
       "    .dataframe tbody tr th:only-of-type {\n",
       "        vertical-align: middle;\n",
       "    }\n",
       "\n",
       "    .dataframe tbody tr th {\n",
       "        vertical-align: top;\n",
       "    }\n",
       "\n",
       "    .dataframe thead th {\n",
       "        text-align: right;\n",
       "    }\n",
       "</style>\n",
       "<table border=\"1\" class=\"dataframe\">\n",
       "  <thead>\n",
       "    <tr style=\"text-align: right;\">\n",
       "      <th></th>\n",
       "      <th>profit_avg_60</th>\n",
       "      <th>profit_avg_90</th>\n",
       "      <th>profit_avg_120</th>\n",
       "      <th>decline_avg_60</th>\n",
       "      <th>decline_avg_90</th>\n",
       "      <th>decline_avg_120</th>\n",
       "    </tr>\n",
       "  </thead>\n",
       "  <tbody>\n",
       "    <tr>\n",
       "      <th>0</th>\n",
       "      <td>0.085214</td>\n",
       "      <td>0.131444</td>\n",
       "      <td>0.190979</td>\n",
       "      <td>-0.051332</td>\n",
       "      <td>-0.051332</td>\n",
       "      <td>-0.051332</td>\n",
       "    </tr>\n",
       "    <tr>\n",
       "      <th>7</th>\n",
       "      <td>0.162109</td>\n",
       "      <td>0.235128</td>\n",
       "      <td>0.284579</td>\n",
       "      <td>-0.074499</td>\n",
       "      <td>-0.074499</td>\n",
       "      <td>-0.074499</td>\n",
       "    </tr>\n",
       "    <tr>\n",
       "      <th>9</th>\n",
       "      <td>0.103247</td>\n",
       "      <td>0.177699</td>\n",
       "      <td>0.206342</td>\n",
       "      <td>-0.027469</td>\n",
       "      <td>-0.036375</td>\n",
       "      <td>-0.036375</td>\n",
       "    </tr>\n",
       "    <tr>\n",
       "      <th>12</th>\n",
       "      <td>0.198328</td>\n",
       "      <td>0.305167</td>\n",
       "      <td>0.356838</td>\n",
       "      <td>-0.068526</td>\n",
       "      <td>-0.068526</td>\n",
       "      <td>-0.068526</td>\n",
       "    </tr>\n",
       "    <tr>\n",
       "      <th>14</th>\n",
       "      <td>0.139968</td>\n",
       "      <td>0.153225</td>\n",
       "      <td>0.247298</td>\n",
       "      <td>-0.052820</td>\n",
       "      <td>-0.072038</td>\n",
       "      <td>-0.072038</td>\n",
       "    </tr>\n",
       "    <tr>\n",
       "      <th>...</th>\n",
       "      <td>...</td>\n",
       "      <td>...</td>\n",
       "      <td>...</td>\n",
       "      <td>...</td>\n",
       "      <td>...</td>\n",
       "      <td>...</td>\n",
       "    </tr>\n",
       "    <tr>\n",
       "      <th>9985</th>\n",
       "      <td>0.066171</td>\n",
       "      <td>0.092401</td>\n",
       "      <td>0.130211</td>\n",
       "      <td>-0.043686</td>\n",
       "      <td>-0.050177</td>\n",
       "      <td>-0.050177</td>\n",
       "    </tr>\n",
       "    <tr>\n",
       "      <th>9993</th>\n",
       "      <td>0.046565</td>\n",
       "      <td>0.097347</td>\n",
       "      <td>0.158702</td>\n",
       "      <td>-0.054960</td>\n",
       "      <td>-0.061451</td>\n",
       "      <td>-0.061451</td>\n",
       "    </tr>\n",
       "    <tr>\n",
       "      <th>9995</th>\n",
       "      <td>0.056373</td>\n",
       "      <td>0.113496</td>\n",
       "      <td>0.120477</td>\n",
       "      <td>-0.026592</td>\n",
       "      <td>-0.030166</td>\n",
       "      <td>-0.033360</td>\n",
       "    </tr>\n",
       "    <tr>\n",
       "      <th>9997</th>\n",
       "      <td>0.169530</td>\n",
       "      <td>0.194759</td>\n",
       "      <td>0.203088</td>\n",
       "      <td>-0.045644</td>\n",
       "      <td>-0.045644</td>\n",
       "      <td>-0.045644</td>\n",
       "    </tr>\n",
       "    <tr>\n",
       "      <th>9998</th>\n",
       "      <td>0.045363</td>\n",
       "      <td>0.135446</td>\n",
       "      <td>0.171951</td>\n",
       "      <td>-0.047735</td>\n",
       "      <td>-0.047735</td>\n",
       "      <td>-0.047735</td>\n",
       "    </tr>\n",
       "  </tbody>\n",
       "</table>\n",
       "<p>4285 rows × 6 columns</p>\n",
       "</div>"
      ],
      "text/plain": [
       "      profit_avg_60  profit_avg_90  profit_avg_120  decline_avg_60  \\\n",
       "0          0.085214       0.131444        0.190979       -0.051332   \n",
       "7          0.162109       0.235128        0.284579       -0.074499   \n",
       "9          0.103247       0.177699        0.206342       -0.027469   \n",
       "12         0.198328       0.305167        0.356838       -0.068526   \n",
       "14         0.139968       0.153225        0.247298       -0.052820   \n",
       "...             ...            ...             ...             ...   \n",
       "9985       0.066171       0.092401        0.130211       -0.043686   \n",
       "9993       0.046565       0.097347        0.158702       -0.054960   \n",
       "9995       0.056373       0.113496        0.120477       -0.026592   \n",
       "9997       0.169530       0.194759        0.203088       -0.045644   \n",
       "9998       0.045363       0.135446        0.171951       -0.047735   \n",
       "\n",
       "      decline_avg_90  decline_avg_120  \n",
       "0          -0.051332        -0.051332  \n",
       "7          -0.074499        -0.074499  \n",
       "9          -0.036375        -0.036375  \n",
       "12         -0.068526        -0.068526  \n",
       "14         -0.072038        -0.072038  \n",
       "...              ...              ...  \n",
       "9985       -0.050177        -0.050177  \n",
       "9993       -0.061451        -0.061451  \n",
       "9995       -0.030166        -0.033360  \n",
       "9997       -0.045644        -0.045644  \n",
       "9998       -0.047735        -0.047735  \n",
       "\n",
       "[4285 rows x 6 columns]"
      ]
     },
     "execution_count": 8,
     "metadata": {},
     "output_type": "execute_result"
    }
   ],
   "source": [
    "df.query('(profit_avg_120/2 + decline_avg_120) > 0')"
   ]
  },
  {
   "cell_type": "code",
   "execution_count": null,
   "metadata": {},
   "outputs": [],
   "source": []
  },
  {
   "cell_type": "code",
   "execution_count": 16,
   "metadata": {},
   "outputs": [
    {
     "data": {
      "application/vnd.plotly.v1+json": {
       "config": {
        "plotlyServerURL": "https://plot.ly"
       },
       "data": [
        {
         "domain": {
          "x": [
           0,
           0.2888888888888889
          ],
          "y": [
           0,
           1
          ]
         },
         "hole": 0.4,
         "hoverinfo": "label+percent+name",
         "labels": [
          "5%~10%",
          "0~5%",
          "10%~15%",
          "15%~20%",
          ">20%"
         ],
         "marker": {
          "colors": [
           "#AADEA4",
           "#E7F598",
           "#66C1A4",
           "#3287BD",
           "#235e84"
          ],
          "line": {
           "color": "#000000",
           "width": 2
          }
         },
         "name": "60 Day Profit",
         "type": "pie",
         "values": [
          2148,
          4959,
          1780,
          830,
          283
         ]
        },
        {
         "domain": {
          "x": [
           0.35555555555555557,
           0.6444444444444445
          ],
          "y": [
           0,
           1
          ]
         },
         "hole": 0.4,
         "hoverinfo": "label+percent+name",
         "labels": [
          "5%~10%",
          "0~5%",
          "10%~15%",
          "15%~20%",
          ">20%"
         ],
         "marker": {
          "colors": [
           "#AADEA4",
           "#E7F598",
           "#66C1A4",
           "#3287BD",
           "#235e84"
          ],
          "line": {
           "color": "#000000",
           "width": 2
          }
         },
         "name": "90 Day Profit",
         "type": "pie",
         "values": [
          630,
          3237,
          3213,
          1593,
          1327
         ]
        },
        {
         "domain": {
          "x": [
           0.7111111111111111,
           1
          ],
          "y": [
           0,
           1
          ]
         },
         "hole": 0.4,
         "hoverinfo": "label+percent+name",
         "labels": [
          "5%~10%",
          "0~5%",
          "10%~15%",
          "15%~20%",
          ">20%"
         ],
         "marker": {
          "colors": [
           "#AADEA4",
           "#E7F598",
           "#66C1A4",
           "#3287BD",
           "#235e84"
          ],
          "line": {
           "color": "#000000",
           "width": 2
          }
         },
         "name": "120 Day Profit",
         "type": "pie",
         "values": [
          287,
          2089,
          3034,
          2223,
          2367
         ]
        }
       ],
       "layout": {
        "annotations": [
         {
          "font": {
           "size": 20
          },
          "showarrow": false,
          "text": "60 Day",
          "x": 0.12,
          "y": 0.5
         },
         {
          "font": {
           "size": 20
          },
          "showarrow": false,
          "text": "90 Day",
          "x": 0.5,
          "y": 0.5
         },
         {
          "font": {
           "size": 20
          },
          "showarrow": false,
          "text": "120 Day",
          "x": 0.89,
          "y": 0.5
         }
        ],
        "paper_bgcolor": "#f7fdf7",
        "template": {
         "data": {
          "bar": [
           {
            "error_x": {
             "color": "#2a3f5f"
            },
            "error_y": {
             "color": "#2a3f5f"
            },
            "marker": {
             "line": {
              "color": "#E5ECF6",
              "width": 0.5
             },
             "pattern": {
              "fillmode": "overlay",
              "size": 10,
              "solidity": 0.2
             }
            },
            "type": "bar"
           }
          ],
          "barpolar": [
           {
            "marker": {
             "line": {
              "color": "#E5ECF6",
              "width": 0.5
             },
             "pattern": {
              "fillmode": "overlay",
              "size": 10,
              "solidity": 0.2
             }
            },
            "type": "barpolar"
           }
          ],
          "carpet": [
           {
            "aaxis": {
             "endlinecolor": "#2a3f5f",
             "gridcolor": "white",
             "linecolor": "white",
             "minorgridcolor": "white",
             "startlinecolor": "#2a3f5f"
            },
            "baxis": {
             "endlinecolor": "#2a3f5f",
             "gridcolor": "white",
             "linecolor": "white",
             "minorgridcolor": "white",
             "startlinecolor": "#2a3f5f"
            },
            "type": "carpet"
           }
          ],
          "choropleth": [
           {
            "colorbar": {
             "outlinewidth": 0,
             "ticks": ""
            },
            "type": "choropleth"
           }
          ],
          "contour": [
           {
            "colorbar": {
             "outlinewidth": 0,
             "ticks": ""
            },
            "colorscale": [
             [
              0,
              "#0d0887"
             ],
             [
              0.1111111111111111,
              "#46039f"
             ],
             [
              0.2222222222222222,
              "#7201a8"
             ],
             [
              0.3333333333333333,
              "#9c179e"
             ],
             [
              0.4444444444444444,
              "#bd3786"
             ],
             [
              0.5555555555555556,
              "#d8576b"
             ],
             [
              0.6666666666666666,
              "#ed7953"
             ],
             [
              0.7777777777777778,
              "#fb9f3a"
             ],
             [
              0.8888888888888888,
              "#fdca26"
             ],
             [
              1,
              "#f0f921"
             ]
            ],
            "type": "contour"
           }
          ],
          "contourcarpet": [
           {
            "colorbar": {
             "outlinewidth": 0,
             "ticks": ""
            },
            "type": "contourcarpet"
           }
          ],
          "heatmap": [
           {
            "colorbar": {
             "outlinewidth": 0,
             "ticks": ""
            },
            "colorscale": [
             [
              0,
              "#0d0887"
             ],
             [
              0.1111111111111111,
              "#46039f"
             ],
             [
              0.2222222222222222,
              "#7201a8"
             ],
             [
              0.3333333333333333,
              "#9c179e"
             ],
             [
              0.4444444444444444,
              "#bd3786"
             ],
             [
              0.5555555555555556,
              "#d8576b"
             ],
             [
              0.6666666666666666,
              "#ed7953"
             ],
             [
              0.7777777777777778,
              "#fb9f3a"
             ],
             [
              0.8888888888888888,
              "#fdca26"
             ],
             [
              1,
              "#f0f921"
             ]
            ],
            "type": "heatmap"
           }
          ],
          "heatmapgl": [
           {
            "colorbar": {
             "outlinewidth": 0,
             "ticks": ""
            },
            "colorscale": [
             [
              0,
              "#0d0887"
             ],
             [
              0.1111111111111111,
              "#46039f"
             ],
             [
              0.2222222222222222,
              "#7201a8"
             ],
             [
              0.3333333333333333,
              "#9c179e"
             ],
             [
              0.4444444444444444,
              "#bd3786"
             ],
             [
              0.5555555555555556,
              "#d8576b"
             ],
             [
              0.6666666666666666,
              "#ed7953"
             ],
             [
              0.7777777777777778,
              "#fb9f3a"
             ],
             [
              0.8888888888888888,
              "#fdca26"
             ],
             [
              1,
              "#f0f921"
             ]
            ],
            "type": "heatmapgl"
           }
          ],
          "histogram": [
           {
            "marker": {
             "pattern": {
              "fillmode": "overlay",
              "size": 10,
              "solidity": 0.2
             }
            },
            "type": "histogram"
           }
          ],
          "histogram2d": [
           {
            "colorbar": {
             "outlinewidth": 0,
             "ticks": ""
            },
            "colorscale": [
             [
              0,
              "#0d0887"
             ],
             [
              0.1111111111111111,
              "#46039f"
             ],
             [
              0.2222222222222222,
              "#7201a8"
             ],
             [
              0.3333333333333333,
              "#9c179e"
             ],
             [
              0.4444444444444444,
              "#bd3786"
             ],
             [
              0.5555555555555556,
              "#d8576b"
             ],
             [
              0.6666666666666666,
              "#ed7953"
             ],
             [
              0.7777777777777778,
              "#fb9f3a"
             ],
             [
              0.8888888888888888,
              "#fdca26"
             ],
             [
              1,
              "#f0f921"
             ]
            ],
            "type": "histogram2d"
           }
          ],
          "histogram2dcontour": [
           {
            "colorbar": {
             "outlinewidth": 0,
             "ticks": ""
            },
            "colorscale": [
             [
              0,
              "#0d0887"
             ],
             [
              0.1111111111111111,
              "#46039f"
             ],
             [
              0.2222222222222222,
              "#7201a8"
             ],
             [
              0.3333333333333333,
              "#9c179e"
             ],
             [
              0.4444444444444444,
              "#bd3786"
             ],
             [
              0.5555555555555556,
              "#d8576b"
             ],
             [
              0.6666666666666666,
              "#ed7953"
             ],
             [
              0.7777777777777778,
              "#fb9f3a"
             ],
             [
              0.8888888888888888,
              "#fdca26"
             ],
             [
              1,
              "#f0f921"
             ]
            ],
            "type": "histogram2dcontour"
           }
          ],
          "mesh3d": [
           {
            "colorbar": {
             "outlinewidth": 0,
             "ticks": ""
            },
            "type": "mesh3d"
           }
          ],
          "parcoords": [
           {
            "line": {
             "colorbar": {
              "outlinewidth": 0,
              "ticks": ""
             }
            },
            "type": "parcoords"
           }
          ],
          "pie": [
           {
            "automargin": true,
            "type": "pie"
           }
          ],
          "scatter": [
           {
            "fillpattern": {
             "fillmode": "overlay",
             "size": 10,
             "solidity": 0.2
            },
            "type": "scatter"
           }
          ],
          "scatter3d": [
           {
            "line": {
             "colorbar": {
              "outlinewidth": 0,
              "ticks": ""
             }
            },
            "marker": {
             "colorbar": {
              "outlinewidth": 0,
              "ticks": ""
             }
            },
            "type": "scatter3d"
           }
          ],
          "scattercarpet": [
           {
            "marker": {
             "colorbar": {
              "outlinewidth": 0,
              "ticks": ""
             }
            },
            "type": "scattercarpet"
           }
          ],
          "scattergeo": [
           {
            "marker": {
             "colorbar": {
              "outlinewidth": 0,
              "ticks": ""
             }
            },
            "type": "scattergeo"
           }
          ],
          "scattergl": [
           {
            "marker": {
             "colorbar": {
              "outlinewidth": 0,
              "ticks": ""
             }
            },
            "type": "scattergl"
           }
          ],
          "scattermapbox": [
           {
            "marker": {
             "colorbar": {
              "outlinewidth": 0,
              "ticks": ""
             }
            },
            "type": "scattermapbox"
           }
          ],
          "scatterpolar": [
           {
            "marker": {
             "colorbar": {
              "outlinewidth": 0,
              "ticks": ""
             }
            },
            "type": "scatterpolar"
           }
          ],
          "scatterpolargl": [
           {
            "marker": {
             "colorbar": {
              "outlinewidth": 0,
              "ticks": ""
             }
            },
            "type": "scatterpolargl"
           }
          ],
          "scatterternary": [
           {
            "marker": {
             "colorbar": {
              "outlinewidth": 0,
              "ticks": ""
             }
            },
            "type": "scatterternary"
           }
          ],
          "surface": [
           {
            "colorbar": {
             "outlinewidth": 0,
             "ticks": ""
            },
            "colorscale": [
             [
              0,
              "#0d0887"
             ],
             [
              0.1111111111111111,
              "#46039f"
             ],
             [
              0.2222222222222222,
              "#7201a8"
             ],
             [
              0.3333333333333333,
              "#9c179e"
             ],
             [
              0.4444444444444444,
              "#bd3786"
             ],
             [
              0.5555555555555556,
              "#d8576b"
             ],
             [
              0.6666666666666666,
              "#ed7953"
             ],
             [
              0.7777777777777778,
              "#fb9f3a"
             ],
             [
              0.8888888888888888,
              "#fdca26"
             ],
             [
              1,
              "#f0f921"
             ]
            ],
            "type": "surface"
           }
          ],
          "table": [
           {
            "cells": {
             "fill": {
              "color": "#EBF0F8"
             },
             "line": {
              "color": "white"
             }
            },
            "header": {
             "fill": {
              "color": "#C8D4E3"
             },
             "line": {
              "color": "white"
             }
            },
            "type": "table"
           }
          ]
         },
         "layout": {
          "annotationdefaults": {
           "arrowcolor": "#2a3f5f",
           "arrowhead": 0,
           "arrowwidth": 1
          },
          "autotypenumbers": "strict",
          "coloraxis": {
           "colorbar": {
            "outlinewidth": 0,
            "ticks": ""
           }
          },
          "colorscale": {
           "diverging": [
            [
             0,
             "#8e0152"
            ],
            [
             0.1,
             "#c51b7d"
            ],
            [
             0.2,
             "#de77ae"
            ],
            [
             0.3,
             "#f1b6da"
            ],
            [
             0.4,
             "#fde0ef"
            ],
            [
             0.5,
             "#f7f7f7"
            ],
            [
             0.6,
             "#e6f5d0"
            ],
            [
             0.7,
             "#b8e186"
            ],
            [
             0.8,
             "#7fbc41"
            ],
            [
             0.9,
             "#4d9221"
            ],
            [
             1,
             "#276419"
            ]
           ],
           "sequential": [
            [
             0,
             "#0d0887"
            ],
            [
             0.1111111111111111,
             "#46039f"
            ],
            [
             0.2222222222222222,
             "#7201a8"
            ],
            [
             0.3333333333333333,
             "#9c179e"
            ],
            [
             0.4444444444444444,
             "#bd3786"
            ],
            [
             0.5555555555555556,
             "#d8576b"
            ],
            [
             0.6666666666666666,
             "#ed7953"
            ],
            [
             0.7777777777777778,
             "#fb9f3a"
            ],
            [
             0.8888888888888888,
             "#fdca26"
            ],
            [
             1,
             "#f0f921"
            ]
           ],
           "sequentialminus": [
            [
             0,
             "#0d0887"
            ],
            [
             0.1111111111111111,
             "#46039f"
            ],
            [
             0.2222222222222222,
             "#7201a8"
            ],
            [
             0.3333333333333333,
             "#9c179e"
            ],
            [
             0.4444444444444444,
             "#bd3786"
            ],
            [
             0.5555555555555556,
             "#d8576b"
            ],
            [
             0.6666666666666666,
             "#ed7953"
            ],
            [
             0.7777777777777778,
             "#fb9f3a"
            ],
            [
             0.8888888888888888,
             "#fdca26"
            ],
            [
             1,
             "#f0f921"
            ]
           ]
          },
          "colorway": [
           "#636efa",
           "#EF553B",
           "#00cc96",
           "#ab63fa",
           "#FFA15A",
           "#19d3f3",
           "#FF6692",
           "#B6E880",
           "#FF97FF",
           "#FECB52"
          ],
          "font": {
           "color": "#2a3f5f"
          },
          "geo": {
           "bgcolor": "white",
           "lakecolor": "white",
           "landcolor": "#E5ECF6",
           "showlakes": true,
           "showland": true,
           "subunitcolor": "white"
          },
          "hoverlabel": {
           "align": "left"
          },
          "hovermode": "closest",
          "mapbox": {
           "style": "light"
          },
          "paper_bgcolor": "white",
          "plot_bgcolor": "#E5ECF6",
          "polar": {
           "angularaxis": {
            "gridcolor": "white",
            "linecolor": "white",
            "ticks": ""
           },
           "bgcolor": "#E5ECF6",
           "radialaxis": {
            "gridcolor": "white",
            "linecolor": "white",
            "ticks": ""
           }
          },
          "scene": {
           "xaxis": {
            "backgroundcolor": "#E5ECF6",
            "gridcolor": "white",
            "gridwidth": 2,
            "linecolor": "white",
            "showbackground": true,
            "ticks": "",
            "zerolinecolor": "white"
           },
           "yaxis": {
            "backgroundcolor": "#E5ECF6",
            "gridcolor": "white",
            "gridwidth": 2,
            "linecolor": "white",
            "showbackground": true,
            "ticks": "",
            "zerolinecolor": "white"
           },
           "zaxis": {
            "backgroundcolor": "#E5ECF6",
            "gridcolor": "white",
            "gridwidth": 2,
            "linecolor": "white",
            "showbackground": true,
            "ticks": "",
            "zerolinecolor": "white"
           }
          },
          "shapedefaults": {
           "line": {
            "color": "#2a3f5f"
           }
          },
          "ternary": {
           "aaxis": {
            "gridcolor": "white",
            "linecolor": "white",
            "ticks": ""
           },
           "baxis": {
            "gridcolor": "white",
            "linecolor": "white",
            "ticks": ""
           },
           "bgcolor": "#E5ECF6",
           "caxis": {
            "gridcolor": "white",
            "linecolor": "white",
            "ticks": ""
           }
          },
          "title": {
           "x": 0.05
          },
          "xaxis": {
           "automargin": true,
           "gridcolor": "white",
           "linecolor": "white",
           "ticks": "",
           "title": {
            "standoff": 15
           },
           "zerolinecolor": "white",
           "zerolinewidth": 2
          },
          "yaxis": {
           "automargin": true,
           "gridcolor": "white",
           "linecolor": "white",
           "ticks": "",
           "title": {
            "standoff": 15
           },
           "zerolinecolor": "white",
           "zerolinewidth": 2
          }
         }
        },
        "title": {
         "font": {
          "size": 25
         },
         "text": "2019-04-01 60/90/120 Days Profit Rate Distribution",
         "x": 0.5
        },
        "width": 1200
       }
      }
     },
     "metadata": {},
     "output_type": "display_data"
    }
   ],
   "source": [
    "import plotly.graph_objects as go\n",
    "from plotly.subplots import make_subplots\n",
    "\n",
    "labels = ['5%~10%', '0~5%', '10%~15%', '15%~20%', '>20%']\n",
    "# labels = [\"US\", \"China\", \"European Union\", \"Russian Federation\", \"Brazil\", \"India\",\n",
    "#           \"Rest of World\"]\n",
    "colors = ['#AADEA4','#E7F598','#66C1A4','#3287BD','#235e84']\n",
    "# Create subplots: use 'domain' type for Pie subplot\n",
    "fig = make_subplots(rows=1, cols=3, specs=[[{'type':'domain'}, {'type':'domain'}, {'type':'domain'}]])\n",
    "fig.add_trace(go.Pie(labels=labels, values=[df.query('profit_avg_60 < 0.05').index.__len__(), df.query('0.05 < profit_avg_60 < 0.1').index.__len__(), df.query('0.1 < profit_avg_60 <= 0.15').index.__len__(), df.query('0.15 < profit_avg_60 <= 0.2').index.__len__(), df.query('0.2 < profit_avg_60').index.__len__()], name=\"60 Day Profit\"),\n",
    "              1, 1)\n",
    "fig.add_trace(go.Pie(labels=labels, values=[df.query('profit_avg_90 < 0.05').index.__len__(), df.query('0.05 < profit_avg_90 < 0.1').index.__len__(), df.query('0.1 < profit_avg_90 <= 0.15').index.__len__(), df.query('0.15 < profit_avg_90 <= 0.2').index.__len__(), df.query('0.2 < profit_avg_90').index.__len__()], name=\"90 Day Profit\"),\n",
    "              1, 2)\n",
    "fig.add_trace(go.Pie(labels=labels, values=[df.query('profit_avg_120 < 0.05').index.__len__(), df.query('0.05 < profit_avg_120 < 0.1').index.__len__(), df.query('0.1 < profit_avg_120 <= 0.15').index.__len__(), df.query('0.15 < profit_avg_120 <= 0.2').index.__len__(), df.query('0.2 < profit_avg_120').index.__len__()], name=\"120 Day Profit\"),\n",
    "              1, 3)\n",
    "\n",
    "# Use `hole` to create a donut-like pie chart\n",
    "fig.update_traces(hole=.4, hoverinfo=\"label+percent+name\")\n",
    " \n",
    "fig.update_layout(\n",
    "    title_text=\"2019-04-01 60/90/120 Days Profit Rate Distribution\",\n",
    "    title_font_size=25,\n",
    "    title_x=0.5,\n",
    "    width=1200,\n",
    "    # title_xanchor='auto',\n",
    "    paper_bgcolor=\"#f7fdf7\",\n",
    "    # Add annotations in the center of the donut pies.\n",
    "    annotations=[dict(text='60 Day', x=0.12, y=0.5, font_size=20, showarrow=False),\n",
    "                 dict(text='90 Day', x=0.5, y=0.5, font_size=20, showarrow=False),\n",
    "                 dict(text='120 Day', x=0.89, y=0.5, font_size=20, showarrow=False)])\n",
    "\n",
    "fig.update_traces(marker=dict(colors=colors, line=dict(color='#000000',width=2)))\n",
    "fig.show()\n",
    "\n",
    "import os\n",
    "\n",
    "if not os.path.exists(\"select_result_visualization\"):\n",
    "    os.mkdir(\"select_result_visualization\")\n",
    "fig.write_image(\"select_result_visualization/fig1.png\",engine='auto')\n"
   ]
  },
  {
   "cell_type": "code",
   "execution_count": null,
   "metadata": {},
   "outputs": [],
   "source": []
  }
 ],
 "metadata": {
  "kernelspec": {
   "display_name": "Python 3.9.12 ('.env')",
   "language": "python",
   "name": "python3"
  },
  "language_info": {
   "codemirror_mode": {
    "name": "ipython",
    "version": 3
   },
   "file_extension": ".py",
   "mimetype": "text/x-python",
   "name": "python",
   "nbconvert_exporter": "python",
   "pygments_lexer": "ipython3",
   "version": "3.9.12"
  },
  "orig_nbformat": 4,
  "vscode": {
   "interpreter": {
    "hash": "275094a250fb64a879cf604ce7b88b81b1f18c35ecd757c3dc3951589b6fa1fd"
   }
  }
 },
 "nbformat": 4,
 "nbformat_minor": 2
}
