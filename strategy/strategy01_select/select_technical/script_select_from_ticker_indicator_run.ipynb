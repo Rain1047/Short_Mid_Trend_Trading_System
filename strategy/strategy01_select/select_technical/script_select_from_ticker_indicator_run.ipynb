{
 "cells": [
  {
   "cell_type": "code",
   "execution_count": 1,
   "metadata": {},
   "outputs": [],
   "source": [
    "import pandas as pd\n",
    "from sqlalchemy import create_engine"
   ]
  },
  {
   "cell_type": "code",
   "execution_count": 2,
   "metadata": {},
   "outputs": [],
   "source": [
    "tech_selected_engine = create_engine('sqlite:///../../../dataset/us/us_ticker_with_indicator.db')\n",
    "date_list = ['2019-04-01','2019-07-01','2019-10-01','2020-01-02',\n",
    "            '2020-04-01','2020-07-01','2020-10-01','2021-01-04'\n",
    "            '2021-04-01','2021-07-01','2021-10-01','2022-01-03']"
   ]
  },
  {
   "cell_type": "code",
   "execution_count": 3,
   "metadata": {},
   "outputs": [
    {
     "name": "stdout",
     "output_type": "stream",
     "text": [
      "connect success\n",
      "connect success\n",
      "connect success\n",
      "connect success\n",
      "connect success\n",
      "connect success\n",
      "connect success\n",
      "connect success\n",
      "connect success\n",
      "connect success\n"
     ]
    }
   ],
   "source": [
    "for date in date_list:\n",
    "    try:\n",
    "        df = pd.read_sql('{}'.format(date),con=tech_selected_engine)\n",
    "        print('connect success')\n",
    "    except:\n",
    "        continue"
   ]
  },
  {
   "cell_type": "code",
   "execution_count": null,
   "metadata": {},
   "outputs": [],
   "source": []
  }
 ],
 "metadata": {
  "kernelspec": {
   "display_name": "Python 3.9.12 ('.env')",
   "language": "python",
   "name": "python3"
  },
  "language_info": {
   "codemirror_mode": {
    "name": "ipython",
    "version": 3
   },
   "file_extension": ".py",
   "mimetype": "text/x-python",
   "name": "python",
   "nbconvert_exporter": "python",
   "pygments_lexer": "ipython3",
   "version": "3.9.12"
  },
  "orig_nbformat": 4,
  "vscode": {
   "interpreter": {
    "hash": "275094a250fb64a879cf604ce7b88b81b1f18c35ecd757c3dc3951589b6fa1fd"
   }
  }
 },
 "nbformat": 4,
 "nbformat_minor": 2
}
