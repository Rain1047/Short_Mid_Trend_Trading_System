{
 "cells": [
  {
   "cell_type": "code",
   "execution_count": null,
   "metadata": {},
   "outputs": [],
   "source": [
    "# get res \n"
   ]
  },
  {
   "cell_type": "code",
   "execution_count": 11,
   "metadata": {},
   "outputs": [],
   "source": [
    "import pandas as pd\n",
    "from sqlalchemy import create_engine\n",
    "\n",
    "def backtest_res(res,target_date):\n",
    "    # create engine\n",
    "    price_engine = create_engine('sqlite:///../../../dataset/us/us_ticker_seven_year_price.db')\n",
    "    result_engine = create_engine('sqlite:///../select_technical/select_result/select_result.db')\n",
    "    # create the test result\n",
    "    test_result = pd.DataFrame(columns=['profit_avg_60','profit_avg_90','profit_avg_120','decline_avg_60','declince_avg_90','decline_avg_120'])\n",
    "    test_count = 100\n",
    "    for i in range(test_count):\n",
    "        # 抽样\n",
    "        samples = res.sample(3)\n",
    "        samples_list = samples.ticker.to_list()\n",
    "        # store the data \n",
    "        profit_avg_60 = 0.0\n",
    "        profit_avg_90 = 0.0\n",
    "        profit_avg_120 = 0.0\n",
    "        decline_avg_60 = 0.0\n",
    "        decline_avg_90 = 0.0\n",
    "        decline_avg_120 = 0.0\n",
    "        for sample in samples_list:\n",
    "            try:rint(sample)            sample_price_df = pd.read_sql('{}'.format(sample), con=price_engine)\n",
    "                 start_price = sample_price_df[sample_price_df.datetime == target_date].Close.values[0]\n",
    "                if start_price < 12:\n",
    "                    break\n",
    "                else:\n",
    "                    sample_price_df = sample_price_df[start_index:]\n",
    "                    sample_price_df.index = range(len(sample_price_df))\n",
    "                    # \n",
    "                    max_60 = sample_price_df[0:43].Close.max()\n",
    "                    min_60 = sample_price_df[0:43].Close.min()\n",
    "                    max_90 = sample_price_df[0:65].Close.max()\n",
    "                    min_90 = sample_price_df[0:65].Close.min()\n",
    "                    max_120 = sample_price_df[0:85].Close.max()\n",
    "                    min_120 = sample_price_df[0:85].Close.min()\n",
    "                    # print(start_price,max_60,max_90,max_120)\n",
    "                    # \n",
    "                    profit_60 = (max_60 - start_price) / start_price\n",
    "                    profit_90 = (max_90 - start_price) / start_price\n",
    "                    profit_120 = (max_120 - start_price) / start_price\n",
    "                    decline_60 = (min_60 - start_price) / start_price\n",
    "                    decline_90 = (min_90 - start_price) / start_price\n",
    "                    decline_120 = (min_120 - start_price) / start_price\n",
    "                    # print(profit_60,profit_90,profit_120)\n",
    "                    # \n",
    "                    profit_avg_60 += profit_60\n",
    "                    profit_avg_90 += profit_90\n",
    "                    profit_avg_120 += profit_120\n",
    "                    decline_avg_60 += decline_60\n",
    "                    decline_avg_90 += decline_90\n",
    "                    decline_avg_120 += decline_120\n",
    "\n",
    "            except:\n",
    "                print('{} is wrong, result invalued'.format(sample))\n",
    "                break\n",
    "        profit_avg_60 = profit_avg_60 / 3\n",
    "        profit_avg_90 = profit_avg_90 / 3\n",
    "        profit_avg_120 = profit_avg_120 / 3\n",
    "        decline_avg_60 = decline_avg_60 / 3\n",
    "        decline_avg_90 = decline_avg_90 / 3\n",
    "        decline_avg_120 = decline_avg_120 / 3\n",
    "        temp = pd.DataFrame([[profit_avg_60,profit_avg_90,profit_avg_120,decline_avg_60,decline_avg_90,decline_avg_120]],columns=['profit_avg_60','profit_avg_90','profit_avg_120','decline_avg_60','declince_avg_90','decline_avg_120'])\n",
    "        test_result = pd.concat([test_result, temp],ignore_index=True)\n",
    "    # test_result.to_csv('backtest_result/{}_test_result.csv'.format(target_date),index=None)\n",
    "    test_result.to_sql('{}_test_res'.format(target_date),if_exists='replace',index=None, con=result_engine)\n",
    "    \n",
    "        "
   ]
  },
  {
   "cell_type": "code",
   "execution_count": 6,
   "metadata": {},
   "outputs": [],
   "source": [
    "import pandas as pd"
   ]
  },
  {
   "cell_type": "code",
   "execution_count": 12,
   "metadata": {},
   "outputs": [
    {
     "data": {
      "text/plain": [
       "'2019-04-01'"
      ]
     },
     "execution_count": 12,
     "metadata": {},
     "output_type": "execute_result"
    }
   ],
   "source": [
    "res = pd.read_csv('select_result/2019-04-01_res.csv')\n",
    "target_date = res.iloc[0].datetime\n",
    "target_date"
   ]
  },
  {
   "cell_type": "code",
   "execution_count": 13,
   "metadata": {},
   "outputs": [],
   "source": [
    "backtest_res(res,target_date)"
   ]
  },
  {
   "cell_type": "code",
   "execution_count": 10,
   "metadata": {},
   "outputs": [
    {
     "data": {
      "text/plain": [
       "159"
      ]
     },
     "execution_count": 10,
     "metadata": {},
     "output_type": "execute_result"
    }
   ],
   "source": [
    "\n"
   ]
  },
  {
   "cell_type": "code",
   "execution_count": null,
   "metadata": {},
   "outputs": [],
   "source": []
  }
 ],
 "metadata": {
  "kernelspec": {
   "display_name": "Python 3.9.12 ('.env')",
   "language": "python",
   "name": "python3"
  },
  "language_info": {
   "codemirror_mode": {
    "name": "ipython",
    "version": 3
   },
   "file_extension": ".py",
   "mimetype": "text/x-python",
   "name": "python",
   "nbconvert_exporter": "python",
   "pygments_lexer": "ipython3",
   "version": "3.9.12"
  },
  "orig_nbformat": 4,
  "vscode": {
   "interpreter": {
    "hash": "275094a250fb64a879cf604ce7b88b81b1f18c35ecd757c3dc3951589b6fa1fd"
   }
  }
 },
 "nbformat": 4,
 "nbformat_minor": 2
}
