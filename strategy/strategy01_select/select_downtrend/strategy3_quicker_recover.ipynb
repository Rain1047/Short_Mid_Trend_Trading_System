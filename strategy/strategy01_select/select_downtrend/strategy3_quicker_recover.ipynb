{
 "cells": [
  {
   "cell_type": "code",
   "execution_count": 4,
   "metadata": {},
   "outputs": [],
   "source": [
    "import pandas as pd\n",
    "from sqlalchemy import create_engine\n",
    "# price_engine = create_engine('sqlite:///../../../dataset/us/us_ticker_price_yf.db')\n",
    "# ticker_engine = create_engine('sqlite:///../../../dataset/us/us_ticker_list_with_name.db')\n",
    "# ticker_df = pd.read_sql('TOTAL', con=ticker_engine)\n",
    "# ticker_list = ticker_df.Symbol.to_list()"
   ]
  },
  {
   "cell_type": "code",
   "execution_count": 8,
   "metadata": {},
   "outputs": [
    {
     "data": {
      "text/html": [
       "<div>\n",
       "<style scoped>\n",
       "    .dataframe tbody tr th:only-of-type {\n",
       "        vertical-align: middle;\n",
       "    }\n",
       "\n",
       "    .dataframe tbody tr th {\n",
       "        vertical-align: top;\n",
       "    }\n",
       "\n",
       "    .dataframe thead th {\n",
       "        text-align: right;\n",
       "    }\n",
       "</style>\n",
       "<table border=\"1\" class=\"dataframe\">\n",
       "  <thead>\n",
       "    <tr style=\"text-align: right;\">\n",
       "      <th></th>\n",
       "      <th>Open</th>\n",
       "      <th>Close</th>\n",
       "      <th>High</th>\n",
       "      <th>Low</th>\n",
       "      <th>Volume</th>\n",
       "      <th>datetime</th>\n",
       "    </tr>\n",
       "  </thead>\n",
       "  <tbody>\n",
       "    <tr>\n",
       "      <th>0</th>\n",
       "      <td>4037.12</td>\n",
       "      <td>3932.69</td>\n",
       "      <td>4037.12</td>\n",
       "      <td>3921.28</td>\n",
       "      <td>2642497.0</td>\n",
       "      <td>2022-09-13</td>\n",
       "    </tr>\n",
       "    <tr>\n",
       "      <th>1</th>\n",
       "      <td>4083.67</td>\n",
       "      <td>4110.41</td>\n",
       "      <td>4119.28</td>\n",
       "      <td>4083.67</td>\n",
       "      <td>2147245.0</td>\n",
       "      <td>2022-09-12</td>\n",
       "    </tr>\n",
       "    <tr>\n",
       "      <th>2</th>\n",
       "      <td>4022.94</td>\n",
       "      <td>4067.36</td>\n",
       "      <td>4076.81</td>\n",
       "      <td>4022.94</td>\n",
       "      <td>2097275.0</td>\n",
       "      <td>2022-09-09</td>\n",
       "    </tr>\n",
       "    <tr>\n",
       "      <th>3</th>\n",
       "      <td>3959.94</td>\n",
       "      <td>4006.18</td>\n",
       "      <td>4010.50</td>\n",
       "      <td>3944.81</td>\n",
       "      <td>2290058.0</td>\n",
       "      <td>2022-09-08</td>\n",
       "    </tr>\n",
       "    <tr>\n",
       "      <th>4</th>\n",
       "      <td>3909.43</td>\n",
       "      <td>3979.87</td>\n",
       "      <td>3987.89</td>\n",
       "      <td>3906.03</td>\n",
       "      <td>2209800.0</td>\n",
       "      <td>2022-09-07</td>\n",
       "    </tr>\n",
       "    <tr>\n",
       "      <th>...</th>\n",
       "      <td>...</td>\n",
       "      <td>...</td>\n",
       "      <td>...</td>\n",
       "      <td>...</td>\n",
       "      <td>...</td>\n",
       "      <td>...</td>\n",
       "    </tr>\n",
       "    <tr>\n",
       "      <th>3995</th>\n",
       "      <td>1350.64</td>\n",
       "      <td>1353.42</td>\n",
       "      <td>1354.23</td>\n",
       "      <td>1348.60</td>\n",
       "      <td>NaN</td>\n",
       "      <td>2006-10-10</td>\n",
       "    </tr>\n",
       "    <tr>\n",
       "      <th>3996</th>\n",
       "      <td>1349.58</td>\n",
       "      <td>1350.66</td>\n",
       "      <td>1352.69</td>\n",
       "      <td>1346.55</td>\n",
       "      <td>NaN</td>\n",
       "      <td>2006-10-09</td>\n",
       "    </tr>\n",
       "    <tr>\n",
       "      <th>3997</th>\n",
       "      <td>1352.42</td>\n",
       "      <td>1349.58</td>\n",
       "      <td>1353.22</td>\n",
       "      <td>1344.21</td>\n",
       "      <td>NaN</td>\n",
       "      <td>2006-10-06</td>\n",
       "    </tr>\n",
       "    <tr>\n",
       "      <th>3998</th>\n",
       "      <td>1349.84</td>\n",
       "      <td>1353.22</td>\n",
       "      <td>1353.79</td>\n",
       "      <td>1347.75</td>\n",
       "      <td>NaN</td>\n",
       "      <td>2006-10-05</td>\n",
       "    </tr>\n",
       "    <tr>\n",
       "      <th>3999</th>\n",
       "      <td>1333.81</td>\n",
       "      <td>1350.22</td>\n",
       "      <td>1350.22</td>\n",
       "      <td>1331.48</td>\n",
       "      <td>NaN</td>\n",
       "      <td>2006-10-04</td>\n",
       "    </tr>\n",
       "  </tbody>\n",
       "</table>\n",
       "<p>4000 rows × 6 columns</p>\n",
       "</div>"
      ],
      "text/plain": [
       "         Open    Close     High      Low     Volume    datetime\n",
       "0     4037.12  3932.69  4037.12  3921.28  2642497.0  2022-09-13\n",
       "1     4083.67  4110.41  4119.28  4083.67  2147245.0  2022-09-12\n",
       "2     4022.94  4067.36  4076.81  4022.94  2097275.0  2022-09-09\n",
       "3     3959.94  4006.18  4010.50  3944.81  2290058.0  2022-09-08\n",
       "4     3909.43  3979.87  3987.89  3906.03  2209800.0  2022-09-07\n",
       "...       ...      ...      ...      ...        ...         ...\n",
       "3995  1350.64  1353.42  1354.23  1348.60        NaN  2006-10-10\n",
       "3996  1349.58  1350.66  1352.69  1346.55        NaN  2006-10-09\n",
       "3997  1352.42  1349.58  1353.22  1344.21        NaN  2006-10-06\n",
       "3998  1349.84  1353.22  1353.79  1347.75        NaN  2006-10-05\n",
       "3999  1333.81  1350.22  1350.22  1331.48        NaN  2006-10-04\n",
       "\n",
       "[4000 rows x 6 columns]"
      ]
     },
     "execution_count": 8,
     "metadata": {},
     "output_type": "execute_result"
    }
   ],
   "source": [
    "import tushare as ts\n",
    "pro = ts.pro_api(token='28ce867873a056747209a2ef0ff53d98ed850903fd954417ac69553b')\n",
    "price_engine = create_engine('sqlite:///../../../dataset/us/us_ticker_seven_year_price.db')\n",
    "#获取富时中国50指数\n",
    "df = pro.index_global(ts_code='SPX', start_date='20000201', end_date='20220913')\n",
    "df.trade_date = df.trade_date.apply(lambda x: str(x)[:4] + '-' + str(x)[4:6] + '-' + str(x)[6:])\n",
    "# df.to_csv('SPX.csv',index=None)\n",
    "df.rename(columns={\n",
    "    'close':'Close', \n",
    "    'open':'Open',\n",
    "    'high':'High',\n",
    "    'low':'Low',\n",
    "    'ts_code':'ticker',\n",
    "    'trade_date':'datetime',\n",
    "    'vol':'Volume'}, inplace=True)\n",
    "df = df[['Open','Close','High','Low','Volume','datetime']]\n",
    "df = df[::-1]"
   ]
  },
  {
   "cell_type": "code",
   "execution_count": 14,
   "metadata": {},
   "outputs": [
    {
     "data": {
      "text/plain": [
       "2802"
      ]
     },
     "execution_count": 14,
     "metadata": {},
     "output_type": "execute_result"
    }
   ],
   "source": [
    "df.index = range(len(df))\n",
    "df.dropna(inplace=True)\n",
    "df.to_sql('SPX',con=price_engine,if_exists='replace',index=None)"
   ]
  },
  {
   "cell_type": "code",
   "execution_count": 16,
   "metadata": {},
   "outputs": [
    {
     "data": {
      "text/html": [
       "<div>\n",
       "<style scoped>\n",
       "    .dataframe tbody tr th:only-of-type {\n",
       "        vertical-align: middle;\n",
       "    }\n",
       "\n",
       "    .dataframe tbody tr th {\n",
       "        vertical-align: top;\n",
       "    }\n",
       "\n",
       "    .dataframe thead th {\n",
       "        text-align: right;\n",
       "    }\n",
       "</style>\n",
       "<table border=\"1\" class=\"dataframe\">\n",
       "  <thead>\n",
       "    <tr style=\"text-align: right;\">\n",
       "      <th></th>\n",
       "      <th>Open</th>\n",
       "      <th>Close</th>\n",
       "      <th>High</th>\n",
       "      <th>Low</th>\n",
       "      <th>Volume</th>\n",
       "      <th>datetime</th>\n",
       "    </tr>\n",
       "  </thead>\n",
       "  <tbody>\n",
       "    <tr>\n",
       "      <th>0</th>\n",
       "      <td>1352.39</td>\n",
       "      <td>1343.80</td>\n",
       "      <td>1352.39</td>\n",
       "      <td>1333.71</td>\n",
       "      <td>604565.94</td>\n",
       "      <td>2011-07-08</td>\n",
       "    </tr>\n",
       "    <tr>\n",
       "      <th>1</th>\n",
       "      <td>1343.80</td>\n",
       "      <td>1319.49</td>\n",
       "      <td>1343.31</td>\n",
       "      <td>1316.42</td>\n",
       "      <td>634678.00</td>\n",
       "      <td>2011-07-11</td>\n",
       "    </tr>\n",
       "    <tr>\n",
       "      <th>2</th>\n",
       "      <td>1319.48</td>\n",
       "      <td>1313.64</td>\n",
       "      <td>1327.17</td>\n",
       "      <td>1313.33</td>\n",
       "      <td>727709.00</td>\n",
       "      <td>2011-07-12</td>\n",
       "    </tr>\n",
       "    <tr>\n",
       "      <th>3</th>\n",
       "      <td>1314.45</td>\n",
       "      <td>1317.72</td>\n",
       "      <td>1331.48</td>\n",
       "      <td>1314.45</td>\n",
       "      <td>665194.07</td>\n",
       "      <td>2011-07-13</td>\n",
       "    </tr>\n",
       "    <tr>\n",
       "      <th>4</th>\n",
       "      <td>1317.70</td>\n",
       "      <td>1308.87</td>\n",
       "      <td>1326.88</td>\n",
       "      <td>1306.51</td>\n",
       "      <td>720240.94</td>\n",
       "      <td>2011-07-14</td>\n",
       "    </tr>\n",
       "    <tr>\n",
       "      <th>...</th>\n",
       "      <td>...</td>\n",
       "      <td>...</td>\n",
       "      <td>...</td>\n",
       "      <td>...</td>\n",
       "      <td>...</td>\n",
       "      <td>...</td>\n",
       "    </tr>\n",
       "    <tr>\n",
       "      <th>2797</th>\n",
       "      <td>3909.43</td>\n",
       "      <td>3979.87</td>\n",
       "      <td>3987.89</td>\n",
       "      <td>3906.03</td>\n",
       "      <td>2209800.00</td>\n",
       "      <td>2022-09-07</td>\n",
       "    </tr>\n",
       "    <tr>\n",
       "      <th>2798</th>\n",
       "      <td>3959.94</td>\n",
       "      <td>4006.18</td>\n",
       "      <td>4010.50</td>\n",
       "      <td>3944.81</td>\n",
       "      <td>2290058.00</td>\n",
       "      <td>2022-09-08</td>\n",
       "    </tr>\n",
       "    <tr>\n",
       "      <th>2799</th>\n",
       "      <td>4022.94</td>\n",
       "      <td>4067.36</td>\n",
       "      <td>4076.81</td>\n",
       "      <td>4022.94</td>\n",
       "      <td>2097275.00</td>\n",
       "      <td>2022-09-09</td>\n",
       "    </tr>\n",
       "    <tr>\n",
       "      <th>2800</th>\n",
       "      <td>4083.67</td>\n",
       "      <td>4110.41</td>\n",
       "      <td>4119.28</td>\n",
       "      <td>4083.67</td>\n",
       "      <td>2147245.00</td>\n",
       "      <td>2022-09-12</td>\n",
       "    </tr>\n",
       "    <tr>\n",
       "      <th>2801</th>\n",
       "      <td>4037.12</td>\n",
       "      <td>3932.69</td>\n",
       "      <td>4037.12</td>\n",
       "      <td>3921.28</td>\n",
       "      <td>2642497.00</td>\n",
       "      <td>2022-09-13</td>\n",
       "    </tr>\n",
       "  </tbody>\n",
       "</table>\n",
       "<p>2802 rows × 6 columns</p>\n",
       "</div>"
      ],
      "text/plain": [
       "         Open    Close     High      Low      Volume    datetime\n",
       "0     1352.39  1343.80  1352.39  1333.71   604565.94  2011-07-08\n",
       "1     1343.80  1319.49  1343.31  1316.42   634678.00  2011-07-11\n",
       "2     1319.48  1313.64  1327.17  1313.33   727709.00  2011-07-12\n",
       "3     1314.45  1317.72  1331.48  1314.45   665194.07  2011-07-13\n",
       "4     1317.70  1308.87  1326.88  1306.51   720240.94  2011-07-14\n",
       "...       ...      ...      ...      ...         ...         ...\n",
       "2797  3909.43  3979.87  3987.89  3906.03  2209800.00  2022-09-07\n",
       "2798  3959.94  4006.18  4010.50  3944.81  2290058.00  2022-09-08\n",
       "2799  4022.94  4067.36  4076.81  4022.94  2097275.00  2022-09-09\n",
       "2800  4083.67  4110.41  4119.28  4083.67  2147245.00  2022-09-12\n",
       "2801  4037.12  3932.69  4037.12  3921.28  2642497.00  2022-09-13\n",
       "\n",
       "[2802 rows x 6 columns]"
      ]
     },
     "execution_count": 16,
     "metadata": {},
     "output_type": "execute_result"
    }
   ],
   "source": [
    "test = pd.read_sql('SPX',con=price_engine)\n",
    "test"
   ]
  },
  {
   "cell_type": "code",
   "execution_count": 32,
   "metadata": {},
   "outputs": [
    {
     "data": {
      "text/plain": [
       "515"
      ]
     },
     "execution_count": 32,
     "metadata": {},
     "output_type": "execute_result"
    }
   ],
   "source": [
    "downtrend_list =[['2022-01-03', '2022-06-21'],\n",
    "                ['2020-02-20', '2022-03-23'],\n",
    "                ['2018-10-03', '2018-12-26']]\n",
    "start_date = downtrend_list[1][0]\n",
    "end_date = downtrend_list[1][1]\n",
    "start_index = df[df.datetime == start_date].index.values[0]\n",
    "end_index = df[df.datetime == end_date].index.values[0]\n",
    "last_count = abs(start_index - end_index)\n",
    "last_count"
   ]
  },
  {
   "cell_type": "code",
   "execution_count": 33,
   "metadata": {},
   "outputs": [
    {
     "data": {
      "text/html": [
       "<div>\n",
       "<style scoped>\n",
       "    .dataframe tbody tr th:only-of-type {\n",
       "        vertical-align: middle;\n",
       "    }\n",
       "\n",
       "    .dataframe tbody tr th {\n",
       "        vertical-align: top;\n",
       "    }\n",
       "\n",
       "    .dataframe thead th {\n",
       "        text-align: right;\n",
       "    }\n",
       "</style>\n",
       "<table border=\"1\" class=\"dataframe\">\n",
       "  <thead>\n",
       "    <tr style=\"text-align: right;\">\n",
       "      <th></th>\n",
       "      <th>ticker</th>\n",
       "      <th>dec_rate</th>\n",
       "      <th>dec_time</th>\n",
       "      <th>rec_h_time</th>\n",
       "      <th>rec_l_time</th>\n",
       "      <th>pft_30</th>\n",
       "      <th>pft_60</th>\n",
       "      <th>pft_90</th>\n",
       "      <th>pft_180</th>\n",
       "    </tr>\n",
       "  </thead>\n",
       "  <tbody>\n",
       "    <tr>\n",
       "      <th>0</th>\n",
       "      <td>SPX</td>\n",
       "      <td>0.35</td>\n",
       "      <td>22</td>\n",
       "      <td>3</td>\n",
       "      <td>12</td>\n",
       "      <td>0.09296</td>\n",
       "      <td>0.137525</td>\n",
       "      <td>0.229013</td>\n",
       "      <td>0.3615</td>\n",
       "    </tr>\n",
       "  </tbody>\n",
       "</table>\n",
       "</div>"
      ],
      "text/plain": [
       "  ticker  dec_rate  dec_time  rec_h_time  rec_l_time   pft_30    pft_60  \\\n",
       "0    SPX      0.35        22           3          12  0.09296  0.137525   \n",
       "\n",
       "     pft_90  pft_180  \n",
       "0  0.229013   0.3615  "
      ]
     },
     "execution_count": 33,
     "metadata": {},
     "output_type": "execute_result"
    }
   ],
   "source": [
    "ticker = 'AAPL'\n",
    "ticker = 'BLAT'\n",
    "ticker = 'VIEW'\n",
    "ticker = 'SPX'\n",
    "start_date = '2022-01-03'\n",
    "start_date = '2020-02-20'\n",
    "res = pd.DataFrame()\n",
    "ticker_df = pd.read_sql('{}'.format(ticker),con=price_engine)\n",
    "# 初始价格\n",
    "start_price = ticker_df[ticker_df.datetime == start_date].Close.values[0]\n",
    "# 初始价格时的index\n",
    "tstart_index = ticker_df[ticker_df.datetime == start_date].index.values[0]\n",
    "# 下降中的最低价\n",
    "lowest_price = min(ticker_df[tstart_index:tstart_index+int(last_count*1.33)].Low)\n",
    "# 最低价时的index\n",
    "lowest_index = ticker_df[ticker_df.Low == lowest_price].index.values[0]\n",
    "# 下降率\n",
    "decline_rate = round((start_price - lowest_price) / start_price, 3)\n",
    "# 下降时间\n",
    "tlast_count = abs(lowest_index - tstart_index)\n",
    "# 更新df的范围，起始点为最低价\n",
    "ticker_df = ticker_df[lowest_index:]\n",
    "\n",
    "# 获取到达原价75%时的index和价格\n",
    "if ticker_df[ticker_df.Close >= start_price * 0.75].empty != True:\n",
    "    rev_h_index = ticker_df[ticker_df.Close >= start_price * 0.75].index.values[0]\n",
    "    rev_h_price = ticker_df[ticker_df.Close >= start_price * 0.75].Close.values[0]\n",
    "else:\n",
    "    rev_h_index = 9999\n",
    "    rev_h_price = 9999\n",
    "# 获取到达最低价125%时的index\n",
    "if ticker_df[ticker_df.Close >= lowest_price * 1.25].empty != True:\n",
    "    rev_l_index = ticker_df[ticker_df.Close >= lowest_price * 1.25].index.values[0]\n",
    "    rev_l_price = ticker_df[ticker_df.Close >= lowest_price * 1.25].Close.values[0]\n",
    "else: \n",
    "    rev_l_index = 9999\n",
    "    rev_l_price = 9999\n",
    "\n",
    "# 进场点（用于计算收益，取小的index）\n",
    "# get enter_point和enter_prices\n",
    "if rev_h_index == rev_l_index == 9999:\n",
    "    print('can not continue')\n",
    "    # return pd.DataFrame()\n",
    "elif rev_h_index == 9999:\n",
    "    rev_h_count = 9999\n",
    "    rev_l_count = abs(rev_l_index - lowest_index)\n",
    "    enter_point = rev_l_count\n",
    "    enter_price = rev_l_price\n",
    "elif rev_l_index == 9999:\n",
    "    rev_l_count = 9999\n",
    "    rev_h_count = abs(rev_h_index - lowest_index)\n",
    "    enter_point = rev_h_count\n",
    "    enter_price = rev_h_price\n",
    "else:\n",
    "    # 分别计算到达的时间\n",
    "    rev_h_count = abs(rev_h_index - lowest_index)\n",
    "    rev_l_count = abs(rev_l_index - lowest_index)\n",
    "    if rev_l_count < rev_h_count:\n",
    "        enter_point = rev_l_count\n",
    "        enter_price = rev_l_price\n",
    "    else:\n",
    "        enter_point = rev_h_count\n",
    "        enter_price = rev_h_price\n",
    "\n",
    "# 更新df范围，起始点变为进场点\n",
    "ticker_df = ticker_df[enter_point:]\n",
    "max_30 = max(ticker_df[:int(30/7*5)].Close)\n",
    "max_60 = max(ticker_df[:int(60/7*5)].Close)\n",
    "max_90 = max(ticker_df[:int(90/7*5)].Close)\n",
    "max_180 = max(ticker_df[:int(180/7*5)].Close)\n",
    "profit_30 = (max_30 - enter_price) / enter_price\n",
    "profit_60 = (max_60 - enter_price) / enter_price\n",
    "profit_90 = (max_90 - enter_price) / enter_price\n",
    "profit_180 = (max_180 - enter_price) / enter_price\n",
    "temp = pd.DataFrame([[ticker,decline_rate,tlast_count,rev_h_count, rev_l_count, profit_30,profit_60,profit_90,profit_180]],columns=['ticker','dec_rate','dec_time','rec_h_time','rec_l_time','pft_30','pft_60','pft_90','pft_180'])\n",
    "res = pd.concat([res,temp],ignore_index=True)\n",
    "res"
   ]
  },
  {
   "cell_type": "code",
   "execution_count": 35,
   "metadata": {},
   "outputs": [
    {
     "data": {
      "text/html": [
       "<div>\n",
       "<style scoped>\n",
       "    .dataframe tbody tr th:only-of-type {\n",
       "        vertical-align: middle;\n",
       "    }\n",
       "\n",
       "    .dataframe tbody tr th {\n",
       "        vertical-align: top;\n",
       "    }\n",
       "\n",
       "    .dataframe thead th {\n",
       "        text-align: right;\n",
       "    }\n",
       "</style>\n",
       "<table border=\"1\" class=\"dataframe\">\n",
       "  <thead>\n",
       "    <tr style=\"text-align: right;\">\n",
       "      <th></th>\n",
       "      <th>ticker</th>\n",
       "      <th>dec_rate</th>\n",
       "      <th>dec_time</th>\n",
       "      <th>rec_h_time</th>\n",
       "      <th>rec_l_time</th>\n",
       "      <th>pft_30</th>\n",
       "      <th>pft_60</th>\n",
       "      <th>pft_90</th>\n",
       "      <th>pft_180</th>\n",
       "    </tr>\n",
       "  </thead>\n",
       "  <tbody>\n",
       "    <tr>\n",
       "      <th>0</th>\n",
       "      <td>SPX</td>\n",
       "      <td>0.35</td>\n",
       "      <td>22</td>\n",
       "      <td>3</td>\n",
       "      <td>12</td>\n",
       "      <td>0.09296</td>\n",
       "      <td>0.137525</td>\n",
       "      <td>0.229013</td>\n",
       "      <td>0.3615</td>\n",
       "    </tr>\n",
       "    <tr>\n",
       "      <th>1</th>\n",
       "      <td>SPX</td>\n",
       "      <td>0.35</td>\n",
       "      <td>22</td>\n",
       "      <td>3</td>\n",
       "      <td>12</td>\n",
       "      <td>0.09296</td>\n",
       "      <td>0.137525</td>\n",
       "      <td>0.229013</td>\n",
       "      <td>0.3615</td>\n",
       "    </tr>\n",
       "  </tbody>\n",
       "</table>\n",
       "</div>"
      ],
      "text/plain": [
       "  ticker  dec_rate  dec_time  rec_h_time  rec_l_time   pft_30    pft_60  \\\n",
       "0    SPX      0.35        22           3          12  0.09296  0.137525   \n",
       "1    SPX      0.35        22           3          12  0.09296  0.137525   \n",
       "\n",
       "     pft_90  pft_180  \n",
       "0  0.229013   0.3615  \n",
       "1  0.229013   0.3615  "
      ]
     },
     "execution_count": 35,
     "metadata": {},
     "output_type": "execute_result"
    }
   ],
   "source": [
    "temp = pd.concat([temp,res],ignore_index=True)\n",
    "temp"
   ]
  },
  {
   "cell_type": "code",
   "execution_count": 8,
   "metadata": {},
   "outputs": [
    {
     "data": {
      "text/html": [
       "<div>\n",
       "<style scoped>\n",
       "    .dataframe tbody tr th:only-of-type {\n",
       "        vertical-align: middle;\n",
       "    }\n",
       "\n",
       "    .dataframe tbody tr th {\n",
       "        vertical-align: top;\n",
       "    }\n",
       "\n",
       "    .dataframe thead th {\n",
       "        text-align: right;\n",
       "    }\n",
       "</style>\n",
       "<table border=\"1\" class=\"dataframe\">\n",
       "  <thead>\n",
       "    <tr style=\"text-align: right;\">\n",
       "      <th></th>\n",
       "      <th>ticker</th>\n",
       "      <th>dec_rate</th>\n",
       "      <th>dec_time</th>\n",
       "      <th>rec_h_time</th>\n",
       "      <th>rec_l_time</th>\n",
       "      <th>pft_30</th>\n",
       "      <th>pft_60</th>\n",
       "      <th>pft_90</th>\n",
       "      <th>pft_180</th>\n",
       "    </tr>\n",
       "  </thead>\n",
       "  <tbody>\n",
       "    <tr>\n",
       "      <th>0</th>\n",
       "      <td>AAPL</td>\n",
       "      <td>0.388</td>\n",
       "      <td>62</td>\n",
       "      <td>22</td>\n",
       "      <td>45</td>\n",
       "      <td>0.009588</td>\n",
       "      <td>0.123493</td>\n",
       "      <td>0.215696</td>\n",
       "      <td>0.223103</td>\n",
       "    </tr>\n",
       "  </tbody>\n",
       "</table>\n",
       "</div>"
      ],
      "text/plain": [
       "  ticker  dec_rate  dec_time  rec_h_time  rec_l_time    pft_30    pft_60  \\\n",
       "0   AAPL     0.388        62          22          45  0.009588  0.123493   \n",
       "\n",
       "     pft_90   pft_180  \n",
       "0  0.215696  0.223103  "
      ]
     },
     "execution_count": 8,
     "metadata": {},
     "output_type": "execute_result"
    }
   ],
   "source": [
    "test = pd.DataFrame()\n",
    "res = pd.concat([res, test],ignore_index=True)\n",
    "res"
   ]
  },
  {
   "cell_type": "code",
   "execution_count": 104,
   "metadata": {},
   "outputs": [
    {
     "data": {
      "text/html": [
       "<div>\n",
       "<style scoped>\n",
       "    .dataframe tbody tr th:only-of-type {\n",
       "        vertical-align: middle;\n",
       "    }\n",
       "\n",
       "    .dataframe tbody tr th {\n",
       "        vertical-align: top;\n",
       "    }\n",
       "\n",
       "    .dataframe thead th {\n",
       "        text-align: right;\n",
       "    }\n",
       "</style>\n",
       "<table border=\"1\" class=\"dataframe\">\n",
       "  <thead>\n",
       "    <tr style=\"text-align: right;\">\n",
       "      <th></th>\n",
       "      <th>ticker</th>\n",
       "      <th>dec_rate</th>\n",
       "      <th>dec_time</th>\n",
       "      <th>rec_l_time</th>\n",
       "      <th>rec_h_time</th>\n",
       "      <th>pft_30</th>\n",
       "      <th>pft_60</th>\n",
       "      <th>pft_90</th>\n",
       "      <th>pft_180</th>\n",
       "    </tr>\n",
       "  </thead>\n",
       "  <tbody>\n",
       "  </tbody>\n",
       "</table>\n",
       "</div>"
      ],
      "text/plain": [
       "Empty DataFrame\n",
       "Columns: [ticker, dec_rate, dec_time, rec_l_time, rec_h_time, pft_30, pft_60, pft_90, pft_180]\n",
       "Index: []"
      ]
     },
     "execution_count": 104,
     "metadata": {},
     "output_type": "execute_result"
    }
   ],
   "source": [
    "temp"
   ]
  },
  {
   "cell_type": "code",
   "execution_count": 101,
   "metadata": {},
   "outputs": [
    {
     "data": {
      "text/plain": [
       "(0.388, 62)"
      ]
     },
     "execution_count": 101,
     "metadata": {},
     "output_type": "execute_result"
    }
   ],
   "source": [
    "decline_rate,tlast_count"
   ]
  },
  {
   "cell_type": "code",
   "execution_count": 102,
   "metadata": {},
   "outputs": [
    {
     "data": {
      "text/plain": [
       "(84, 107)"
      ]
     },
     "execution_count": 102,
     "metadata": {},
     "output_type": "execute_result"
    }
   ],
   "source": [
    "rev_h_count,rev_l_count"
   ]
  },
  {
   "cell_type": "code",
   "execution_count": 100,
   "metadata": {},
   "outputs": [
    {
     "data": {
      "text/plain": [
       "(0.16596439508661723,\n",
       " 0.16596439508661723,\n",
       " 0.21317253233178732,\n",
       " 0.32449102752452325)"
      ]
     },
     "execution_count": 100,
     "metadata": {},
     "output_type": "execute_result"
    }
   ],
   "source": [
    "profit_30,profit_60,profit_90,profit_180,"
   ]
  },
  {
   "cell_type": "code",
   "execution_count": 87,
   "metadata": {},
   "outputs": [
    {
     "ename": "ValueError",
     "evalue": "max() arg is an empty sequence",
     "output_type": "error",
     "traceback": [
      "\u001b[0;31m---------------------------------------------------------------------------\u001b[0m",
      "\u001b[0;31mValueError\u001b[0m                                Traceback (most recent call last)",
      "Input \u001b[0;32mIn [87]\u001b[0m, in \u001b[0;36m<cell line: 1>\u001b[0;34m()\u001b[0m\n\u001b[0;32m----> 1\u001b[0m max_30 \u001b[38;5;241m=\u001b[39m \u001b[38;5;28;43mmax\u001b[39;49m\u001b[43m(\u001b[49m\u001b[43mticker\u001b[49m\u001b[43m[\u001b[49m\u001b[43m:\u001b[49m\u001b[38;5;28;43mint\u001b[39;49m\u001b[43m(\u001b[49m\u001b[38;5;241;43m30\u001b[39;49m\u001b[38;5;241;43m/\u001b[39;49m\u001b[38;5;241;43m7\u001b[39;49m\u001b[38;5;241;43m*\u001b[39;49m\u001b[38;5;241;43m5\u001b[39;49m\u001b[43m)\u001b[49m\u001b[43m]\u001b[49m\u001b[38;5;241;43m.\u001b[39;49m\u001b[43mhigh\u001b[49m\u001b[43m)\u001b[49m\n\u001b[1;32m      2\u001b[0m max_60 \u001b[38;5;241m=\u001b[39m \u001b[38;5;28mmax\u001b[39m(ticker[:\u001b[38;5;28mint\u001b[39m(\u001b[38;5;241m60\u001b[39m\u001b[38;5;241m/\u001b[39m\u001b[38;5;241m7\u001b[39m\u001b[38;5;241m*\u001b[39m\u001b[38;5;241m5\u001b[39m)]\u001b[38;5;241m.\u001b[39mhigh)\n\u001b[1;32m      3\u001b[0m max_90 \u001b[38;5;241m=\u001b[39m \u001b[38;5;28mmax\u001b[39m(ticker[:\u001b[38;5;28mint\u001b[39m(\u001b[38;5;241m90\u001b[39m\u001b[38;5;241m/\u001b[39m\u001b[38;5;241m7\u001b[39m\u001b[38;5;241m*\u001b[39m\u001b[38;5;241m5\u001b[39m)]\u001b[38;5;241m.\u001b[39mhigh)\n",
      "\u001b[0;31mValueError\u001b[0m: max() arg is an empty sequence"
     ]
    }
   ],
   "source": []
  },
  {
   "cell_type": "code",
   "execution_count": 69,
   "metadata": {},
   "outputs": [
    {
     "data": {
      "text/plain": [
       "(-1376.3594973827155,\n",
       " -1376.3594973827155,\n",
       " -1376.3594973827155,\n",
       " -1376.3594973827155)"
      ]
     },
     "execution_count": 69,
     "metadata": {},
     "output_type": "execute_result"
    }
   ],
   "source": [
    "profit_30,profit_60,profit_90,profit_180"
   ]
  },
  {
   "cell_type": "code",
   "execution_count": 63,
   "metadata": {},
   "outputs": [
    {
     "data": {
      "text/plain": [
       "(10325, 256)"
      ]
     },
     "execution_count": 63,
     "metadata": {},
     "output_type": "execute_result"
    }
   ],
   "source": [
    "recover_l25_index, rev_h_count"
   ]
  },
  {
   "cell_type": "code",
   "execution_count": 65,
   "metadata": {},
   "outputs": [
    {
     "data": {
      "text/plain": [
       "(27, 256)"
      ]
     },
     "execution_count": 65,
     "metadata": {},
     "output_type": "execute_result"
    }
   ],
   "source": [
    "rev_l_count, rev_h_count"
   ]
  },
  {
   "cell_type": "code",
   "execution_count": 28,
   "metadata": {},
   "outputs": [
    {
     "data": {
      "text/html": [
       "<div>\n",
       "<style scoped>\n",
       "    .dataframe tbody tr th:only-of-type {\n",
       "        vertical-align: middle;\n",
       "    }\n",
       "\n",
       "    .dataframe tbody tr th {\n",
       "        vertical-align: top;\n",
       "    }\n",
       "\n",
       "    .dataframe thead th {\n",
       "        text-align: right;\n",
       "    }\n",
       "</style>\n",
       "<table border=\"1\" class=\"dataframe\">\n",
       "  <thead>\n",
       "    <tr style=\"text-align: right;\">\n",
       "      <th></th>\n",
       "      <th>open</th>\n",
       "      <th>hgih</th>\n",
       "      <th>low</th>\n",
       "      <th>close</th>\n",
       "      <th>Adj Close</th>\n",
       "      <th>volume</th>\n",
       "      <th>datetime</th>\n",
       "    </tr>\n",
       "  </thead>\n",
       "  <tbody>\n",
       "    <tr>\n",
       "      <th>9591</th>\n",
       "      <td>37.075001</td>\n",
       "      <td>39.307499</td>\n",
       "      <td>36.68</td>\n",
       "      <td>39.2925</td>\n",
       "      <td>38.039845</td>\n",
       "      <td>234330000</td>\n",
       "      <td>2018-12-26</td>\n",
       "    </tr>\n",
       "  </tbody>\n",
       "</table>\n",
       "</div>"
      ],
      "text/plain": [
       "           open       hgih    low    close  Adj Close     volume    datetime\n",
       "9591  37.075001  39.307499  36.68  39.2925  38.039845  234330000  2018-12-26"
      ]
     },
     "execution_count": 28,
     "metadata": {},
     "output_type": "execute_result"
    }
   ],
   "source": [
    "aapl[aapl.datetime == '2018-12-26']"
   ]
  },
  {
   "cell_type": "code",
   "execution_count": null,
   "metadata": {},
   "outputs": [],
   "source": []
  }
 ],
 "metadata": {
  "kernelspec": {
   "display_name": "Python 3.9.12 ('.env')",
   "language": "python",
   "name": "python3"
  },
  "language_info": {
   "codemirror_mode": {
    "name": "ipython",
    "version": 3
   },
   "file_extension": ".py",
   "mimetype": "text/x-python",
   "name": "python",
   "nbconvert_exporter": "python",
   "pygments_lexer": "ipython3",
   "version": "3.9.12"
  },
  "orig_nbformat": 4,
  "vscode": {
   "interpreter": {
    "hash": "275094a250fb64a879cf604ce7b88b81b1f18c35ecd757c3dc3951589b6fa1fd"
   }
  }
 },
 "nbformat": 4,
 "nbformat_minor": 2
}
