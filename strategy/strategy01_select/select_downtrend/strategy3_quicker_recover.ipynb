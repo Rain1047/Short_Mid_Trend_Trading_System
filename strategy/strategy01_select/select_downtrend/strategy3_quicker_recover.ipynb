{
 "cells": [
  {
   "cell_type": "code",
   "execution_count": 2,
   "metadata": {},
   "outputs": [],
   "source": [
    "import pandas as pd\n",
    "from sqlalchemy import create_engine\n",
    "price_engine = create_engine('sqlite:///../../../dataset/us/us_ticker_price_yf.db')\n",
    "ticker_engine = create_engine('sqlite:///../../../dataset/us/us_ticker_list_with_name.db')\n",
    "ticker_df = pd.read_sql('TOTAL', con=ticker_engine)\n",
    "ticker_list = ticker_df.Symbol.to_list()"
   ]
  },
  {
   "cell_type": "code",
   "execution_count": 4,
   "metadata": {},
   "outputs": [],
   "source": [
    "import tushare as ts\n",
    "pro = ts.pro_api(token='28ce867873a056747209a2ef0ff53d98ed850903fd954417ac69553b')\n",
    "\n",
    "#获取富时中国50指数\n",
    "df = pro.index_global(ts_code='SPX', start_date='20000201', end_date='20220913')"
   ]
  },
  {
   "cell_type": "code",
   "execution_count": 7,
   "metadata": {},
   "outputs": [
    {
     "data": {
      "text/plain": [
       "115"
      ]
     },
     "execution_count": 7,
     "metadata": {},
     "output_type": "execute_result"
    }
   ],
   "source": [
    "downtrend_list =[['2022-01-03', '2022-06-21'],\n",
    "                ['2020-02-20', '2022-03-23'],\n",
    "                ['2018-10-03', '2018-12-26']]\n",
    "start_date = downtrend_list[0][0]\n",
    "end_date = downtrend_list[0][1]\n",
    "start_index = df[df.trade_date == start_date.replace('-','')].index.values[0]\n",
    "end_index = df[df.trade_date == end_date.replace('-','')].index.values[0]\n",
    "last_count = abs(start_index - end_index)\n",
    "last_count"
   ]
  },
  {
   "cell_type": "code",
   "execution_count": 11,
   "metadata": {},
   "outputs": [
    {
     "data": {
      "text/html": [
       "<div>\n",
       "<style scoped>\n",
       "    .dataframe tbody tr th:only-of-type {\n",
       "        vertical-align: middle;\n",
       "    }\n",
       "\n",
       "    .dataframe tbody tr th {\n",
       "        vertical-align: top;\n",
       "    }\n",
       "\n",
       "    .dataframe thead th {\n",
       "        text-align: right;\n",
       "    }\n",
       "</style>\n",
       "<table border=\"1\" class=\"dataframe\">\n",
       "  <thead>\n",
       "    <tr style=\"text-align: right;\">\n",
       "      <th></th>\n",
       "      <th>ticker</th>\n",
       "      <th>dec_rate</th>\n",
       "      <th>dec_time</th>\n",
       "      <th>rec_h_time</th>\n",
       "      <th>rec_l_time</th>\n",
       "      <th>pft_30</th>\n",
       "      <th>pft_60</th>\n",
       "      <th>pft_90</th>\n",
       "      <th>pft_180</th>\n",
       "    </tr>\n",
       "  </thead>\n",
       "  <tbody>\n",
       "    <tr>\n",
       "      <th>0</th>\n",
       "      <td>VIEW</td>\n",
       "      <td>0.903</td>\n",
       "      <td>89</td>\n",
       "      <td>9606</td>\n",
       "      <td>0</td>\n",
       "      <td>3.96124</td>\n",
       "      <td>3.96124</td>\n",
       "      <td>3.96124</td>\n",
       "      <td>3.96124</td>\n",
       "    </tr>\n",
       "  </tbody>\n",
       "</table>\n",
       "</div>"
      ],
      "text/plain": [
       "  ticker  dec_rate  dec_time  rec_h_time  rec_l_time   pft_30   pft_60  \\\n",
       "0   VIEW     0.903        89        9606           0  3.96124  3.96124   \n",
       "\n",
       "    pft_90  pft_180  \n",
       "0  3.96124  3.96124  "
      ]
     },
     "execution_count": 11,
     "metadata": {},
     "output_type": "execute_result"
    }
   ],
   "source": [
    "ticker = 'AAPL'\n",
    "ticker = 'BLAT'\n",
    "ticker = 'VIEW'\n",
    "res = pd.DataFrame()\n",
    "ticker_df = pd.read_sql('{}'.format(ticker),con=price_engine)\n",
    "ticker_df.rename(columns={'hgih':'high'},inplace=True)\n",
    "# 初始价格\n",
    "start_price = ticker_df[ticker_df.datetime == start_date].close.values[0]\n",
    "# 初始价格时的index\n",
    "tstart_index = ticker_df[ticker_df.datetime == start_date].index.values[0]\n",
    "# 下降中的最低价\n",
    "lowest_price = min(ticker_df[tstart_index:tstart_index+int(last_count*1.33)].low)\n",
    "# 最低价时的index\n",
    "lowest_index = ticker_df[ticker_df.low == lowest_price].index.values[0]\n",
    "# 下降率\n",
    "decline_rate = round((start_price - lowest_price) / start_price, 3)\n",
    "# 下降时间\n",
    "tlast_count = abs(lowest_index - tstart_index)\n",
    "# 更新df的范围，起始点为最低价\n",
    "ticker_df = ticker_df[lowest_index:]\n",
    "\n",
    "# 获取到达原价75%时的index和价格\n",
    "if ticker_df[ticker_df.close >= start_price * 0.75].empty != True:\n",
    "    rev_h_index = ticker_df[ticker_df.close >= start_price * 0.75].index.values[0]\n",
    "    rev_h_price = ticker_df[ticker_df.close >= start_price * 0.75].close.values[0]\n",
    "else:\n",
    "    rev_h_index = 9999\n",
    "    rev_h_price = 9999\n",
    "# 获取到达最低价125%时的index\n",
    "if ticker_df[ticker_df.close >= lowest_price * 1.25].empty != True:\n",
    "    rev_l_index = ticker_df[ticker_df.close >= lowest_price * 1.25].index.values[0]\n",
    "    rev_l_price = ticker_df[ticker_df.close >= lowest_price * 1.25].close.values[0]\n",
    "else: \n",
    "    rev_l_index = 9999\n",
    "    rev_l_price = 9999\n",
    "\n",
    "# 进场点（用于计算收益，取小的index）\n",
    "if rev_h_index == rev_l_index == 9999:\n",
    "    print('can not continue')\n",
    "elif rev_h_index == 9999:\n",
    "    rev_h_count = 9999\n",
    "    rev_l_count = abs(rev_l_index - lowest_index)\n",
    "    enter_point = rev_l_count\n",
    "    enter_price = rev_l_price\n",
    "elif rev_l_index == 9999:\n",
    "    rev_l_count = 9999\n",
    "    rev_h_count = abs(rev_h_index - lowest_index)\n",
    "    enter_point = rev_h_count\n",
    "    enter_price = rev_h_price\n",
    "else:\n",
    "    # 分别计算到达的时间\n",
    "    rev_h_count = abs(rev_h_index - lowest_index)\n",
    "    rev_l_count = abs(rev_l_index - lowest_index)\n",
    "    if rev_l_count < rev_h_count:\n",
    "        enter_point = rev_l_count\n",
    "        enter_price = rev_l_price\n",
    "    else:\n",
    "        enter_point = rev_h_count\n",
    "        enter_price = rev_h_price\n",
    "# 更新df范围，起始点变为进场点\n",
    "ticker_df = ticker_df[enter_point:]\n",
    "max_30 = max(ticker_df[:int(30/7*5)].close)\n",
    "max_60 = max(ticker_df[:int(60/7*5)].close)\n",
    "max_90 = max(ticker_df[:int(90/7*5)].close)\n",
    "max_180 = max(ticker_df[:int(180/7*5)].close)\n",
    "profit_30 = (max_30 - enter_price) / enter_price\n",
    "profit_60 = (max_60 - enter_price) / enter_price\n",
    "profit_90 = (max_90 - enter_price) / enter_price\n",
    "profit_180 = (max_180 - enter_price) / enter_price\n",
    "temp = pd.DataFrame([[ticker,decline_rate,tlast_count,rev_h_count, rev_l_count, profit_30,profit_60,profit_90,profit_180]],columns=['ticker','dec_rate','dec_time','rec_h_time','rec_l_time','pft_30','pft_60','pft_90','pft_180'])\n",
    "res = pd.concat([res,temp],ignore_index=True)\n",
    "res"
   ]
  },
  {
   "cell_type": "code",
   "execution_count": 8,
   "metadata": {},
   "outputs": [
    {
     "data": {
      "text/html": [
       "<div>\n",
       "<style scoped>\n",
       "    .dataframe tbody tr th:only-of-type {\n",
       "        vertical-align: middle;\n",
       "    }\n",
       "\n",
       "    .dataframe tbody tr th {\n",
       "        vertical-align: top;\n",
       "    }\n",
       "\n",
       "    .dataframe thead th {\n",
       "        text-align: right;\n",
       "    }\n",
       "</style>\n",
       "<table border=\"1\" class=\"dataframe\">\n",
       "  <thead>\n",
       "    <tr style=\"text-align: right;\">\n",
       "      <th></th>\n",
       "      <th>ticker</th>\n",
       "      <th>dec_rate</th>\n",
       "      <th>dec_time</th>\n",
       "      <th>rec_h_time</th>\n",
       "      <th>rec_l_time</th>\n",
       "      <th>pft_30</th>\n",
       "      <th>pft_60</th>\n",
       "      <th>pft_90</th>\n",
       "      <th>pft_180</th>\n",
       "    </tr>\n",
       "  </thead>\n",
       "  <tbody>\n",
       "    <tr>\n",
       "      <th>0</th>\n",
       "      <td>AAPL</td>\n",
       "      <td>0.388</td>\n",
       "      <td>62</td>\n",
       "      <td>22</td>\n",
       "      <td>45</td>\n",
       "      <td>0.009588</td>\n",
       "      <td>0.123493</td>\n",
       "      <td>0.215696</td>\n",
       "      <td>0.223103</td>\n",
       "    </tr>\n",
       "  </tbody>\n",
       "</table>\n",
       "</div>"
      ],
      "text/plain": [
       "  ticker  dec_rate  dec_time  rec_h_time  rec_l_time    pft_30    pft_60  \\\n",
       "0   AAPL     0.388        62          22          45  0.009588  0.123493   \n",
       "\n",
       "     pft_90   pft_180  \n",
       "0  0.215696  0.223103  "
      ]
     },
     "execution_count": 8,
     "metadata": {},
     "output_type": "execute_result"
    }
   ],
   "source": [
    "test = pd.DataFrame()\n",
    "res = pd.concat([res, test],ignore_index=True)\n",
    "res"
   ]
  },
  {
   "cell_type": "code",
   "execution_count": 104,
   "metadata": {},
   "outputs": [
    {
     "data": {
      "text/html": [
       "<div>\n",
       "<style scoped>\n",
       "    .dataframe tbody tr th:only-of-type {\n",
       "        vertical-align: middle;\n",
       "    }\n",
       "\n",
       "    .dataframe tbody tr th {\n",
       "        vertical-align: top;\n",
       "    }\n",
       "\n",
       "    .dataframe thead th {\n",
       "        text-align: right;\n",
       "    }\n",
       "</style>\n",
       "<table border=\"1\" class=\"dataframe\">\n",
       "  <thead>\n",
       "    <tr style=\"text-align: right;\">\n",
       "      <th></th>\n",
       "      <th>ticker</th>\n",
       "      <th>dec_rate</th>\n",
       "      <th>dec_time</th>\n",
       "      <th>rec_l_time</th>\n",
       "      <th>rec_h_time</th>\n",
       "      <th>pft_30</th>\n",
       "      <th>pft_60</th>\n",
       "      <th>pft_90</th>\n",
       "      <th>pft_180</th>\n",
       "    </tr>\n",
       "  </thead>\n",
       "  <tbody>\n",
       "  </tbody>\n",
       "</table>\n",
       "</div>"
      ],
      "text/plain": [
       "Empty DataFrame\n",
       "Columns: [ticker, dec_rate, dec_time, rec_l_time, rec_h_time, pft_30, pft_60, pft_90, pft_180]\n",
       "Index: []"
      ]
     },
     "execution_count": 104,
     "metadata": {},
     "output_type": "execute_result"
    }
   ],
   "source": [
    "temp"
   ]
  },
  {
   "cell_type": "code",
   "execution_count": 101,
   "metadata": {},
   "outputs": [
    {
     "data": {
      "text/plain": [
       "(0.388, 62)"
      ]
     },
     "execution_count": 101,
     "metadata": {},
     "output_type": "execute_result"
    }
   ],
   "source": [
    "decline_rate,tlast_count"
   ]
  },
  {
   "cell_type": "code",
   "execution_count": 102,
   "metadata": {},
   "outputs": [
    {
     "data": {
      "text/plain": [
       "(84, 107)"
      ]
     },
     "execution_count": 102,
     "metadata": {},
     "output_type": "execute_result"
    }
   ],
   "source": [
    "rev_h_count,rev_l_count"
   ]
  },
  {
   "cell_type": "code",
   "execution_count": 100,
   "metadata": {},
   "outputs": [
    {
     "data": {
      "text/plain": [
       "(0.16596439508661723,\n",
       " 0.16596439508661723,\n",
       " 0.21317253233178732,\n",
       " 0.32449102752452325)"
      ]
     },
     "execution_count": 100,
     "metadata": {},
     "output_type": "execute_result"
    }
   ],
   "source": [
    "profit_30,profit_60,profit_90,profit_180,"
   ]
  },
  {
   "cell_type": "code",
   "execution_count": 87,
   "metadata": {},
   "outputs": [
    {
     "ename": "ValueError",
     "evalue": "max() arg is an empty sequence",
     "output_type": "error",
     "traceback": [
      "\u001b[0;31m---------------------------------------------------------------------------\u001b[0m",
      "\u001b[0;31mValueError\u001b[0m                                Traceback (most recent call last)",
      "Input \u001b[0;32mIn [87]\u001b[0m, in \u001b[0;36m<cell line: 1>\u001b[0;34m()\u001b[0m\n\u001b[0;32m----> 1\u001b[0m max_30 \u001b[38;5;241m=\u001b[39m \u001b[38;5;28;43mmax\u001b[39;49m\u001b[43m(\u001b[49m\u001b[43mticker\u001b[49m\u001b[43m[\u001b[49m\u001b[43m:\u001b[49m\u001b[38;5;28;43mint\u001b[39;49m\u001b[43m(\u001b[49m\u001b[38;5;241;43m30\u001b[39;49m\u001b[38;5;241;43m/\u001b[39;49m\u001b[38;5;241;43m7\u001b[39;49m\u001b[38;5;241;43m*\u001b[39;49m\u001b[38;5;241;43m5\u001b[39;49m\u001b[43m)\u001b[49m\u001b[43m]\u001b[49m\u001b[38;5;241;43m.\u001b[39;49m\u001b[43mhigh\u001b[49m\u001b[43m)\u001b[49m\n\u001b[1;32m      2\u001b[0m max_60 \u001b[38;5;241m=\u001b[39m \u001b[38;5;28mmax\u001b[39m(ticker[:\u001b[38;5;28mint\u001b[39m(\u001b[38;5;241m60\u001b[39m\u001b[38;5;241m/\u001b[39m\u001b[38;5;241m7\u001b[39m\u001b[38;5;241m*\u001b[39m\u001b[38;5;241m5\u001b[39m)]\u001b[38;5;241m.\u001b[39mhigh)\n\u001b[1;32m      3\u001b[0m max_90 \u001b[38;5;241m=\u001b[39m \u001b[38;5;28mmax\u001b[39m(ticker[:\u001b[38;5;28mint\u001b[39m(\u001b[38;5;241m90\u001b[39m\u001b[38;5;241m/\u001b[39m\u001b[38;5;241m7\u001b[39m\u001b[38;5;241m*\u001b[39m\u001b[38;5;241m5\u001b[39m)]\u001b[38;5;241m.\u001b[39mhigh)\n",
      "\u001b[0;31mValueError\u001b[0m: max() arg is an empty sequence"
     ]
    }
   ],
   "source": []
  },
  {
   "cell_type": "code",
   "execution_count": 69,
   "metadata": {},
   "outputs": [
    {
     "data": {
      "text/plain": [
       "(-1376.3594973827155,\n",
       " -1376.3594973827155,\n",
       " -1376.3594973827155,\n",
       " -1376.3594973827155)"
      ]
     },
     "execution_count": 69,
     "metadata": {},
     "output_type": "execute_result"
    }
   ],
   "source": [
    "profit_30,profit_60,profit_90,profit_180"
   ]
  },
  {
   "cell_type": "code",
   "execution_count": 63,
   "metadata": {},
   "outputs": [
    {
     "data": {
      "text/plain": [
       "(10325, 256)"
      ]
     },
     "execution_count": 63,
     "metadata": {},
     "output_type": "execute_result"
    }
   ],
   "source": [
    "recover_l25_index, rev_h_count"
   ]
  },
  {
   "cell_type": "code",
   "execution_count": 65,
   "metadata": {},
   "outputs": [
    {
     "data": {
      "text/plain": [
       "(27, 256)"
      ]
     },
     "execution_count": 65,
     "metadata": {},
     "output_type": "execute_result"
    }
   ],
   "source": [
    "rev_l_count, rev_h_count"
   ]
  },
  {
   "cell_type": "code",
   "execution_count": 28,
   "metadata": {},
   "outputs": [
    {
     "data": {
      "text/html": [
       "<div>\n",
       "<style scoped>\n",
       "    .dataframe tbody tr th:only-of-type {\n",
       "        vertical-align: middle;\n",
       "    }\n",
       "\n",
       "    .dataframe tbody tr th {\n",
       "        vertical-align: top;\n",
       "    }\n",
       "\n",
       "    .dataframe thead th {\n",
       "        text-align: right;\n",
       "    }\n",
       "</style>\n",
       "<table border=\"1\" class=\"dataframe\">\n",
       "  <thead>\n",
       "    <tr style=\"text-align: right;\">\n",
       "      <th></th>\n",
       "      <th>open</th>\n",
       "      <th>hgih</th>\n",
       "      <th>low</th>\n",
       "      <th>close</th>\n",
       "      <th>Adj Close</th>\n",
       "      <th>volume</th>\n",
       "      <th>datetime</th>\n",
       "    </tr>\n",
       "  </thead>\n",
       "  <tbody>\n",
       "    <tr>\n",
       "      <th>9591</th>\n",
       "      <td>37.075001</td>\n",
       "      <td>39.307499</td>\n",
       "      <td>36.68</td>\n",
       "      <td>39.2925</td>\n",
       "      <td>38.039845</td>\n",
       "      <td>234330000</td>\n",
       "      <td>2018-12-26</td>\n",
       "    </tr>\n",
       "  </tbody>\n",
       "</table>\n",
       "</div>"
      ],
      "text/plain": [
       "           open       hgih    low    close  Adj Close     volume    datetime\n",
       "9591  37.075001  39.307499  36.68  39.2925  38.039845  234330000  2018-12-26"
      ]
     },
     "execution_count": 28,
     "metadata": {},
     "output_type": "execute_result"
    }
   ],
   "source": [
    "aapl[aapl.datetime == '2018-12-26']"
   ]
  },
  {
   "cell_type": "code",
   "execution_count": null,
   "metadata": {},
   "outputs": [],
   "source": []
  }
 ],
 "metadata": {
  "kernelspec": {
   "display_name": "Python 3.9.12 ('.env')",
   "language": "python",
   "name": "python3"
  },
  "language_info": {
   "codemirror_mode": {
    "name": "ipython",
    "version": 3
   },
   "file_extension": ".py",
   "mimetype": "text/x-python",
   "name": "python",
   "nbconvert_exporter": "python",
   "pygments_lexer": "ipython3",
   "version": "3.9.12"
  },
  "orig_nbformat": 4,
  "vscode": {
   "interpreter": {
    "hash": "275094a250fb64a879cf604ce7b88b81b1f18c35ecd757c3dc3951589b6fa1fd"
   }
  }
 },
 "nbformat": 4,
 "nbformat_minor": 2
}
