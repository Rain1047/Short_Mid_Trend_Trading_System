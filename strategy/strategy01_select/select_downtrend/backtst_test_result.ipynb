{
 "cells": [
  {
   "cell_type": "code",
   "execution_count": 4,
   "metadata": {},
   "outputs": [],
   "source": [
    "import pandas as pd\n",
    "from sqlalchemy import create_engine\n",
    "downtrend_list =[['2022-01-03', '2022-06-21'],\n",
    "                ['2020-02-20', '2022-03-23'],\n",
    "                ['2018-10-03', '2018-12-26']]\n",
    "res_engine = create_engine('sqlite:///downtrend_select_result.db')"
   ]
  },
  {
   "cell_type": "code",
   "execution_count": 3,
   "metadata": {},
   "outputs": [
    {
     "data": {
      "text/plain": [
       "['2022-01-03', '2020-02-20', '2018-10-03']"
      ]
     },
     "execution_count": 3,
     "metadata": {},
     "output_type": "execute_result"
    }
   ],
   "source": [
    "start_date_list = []\n",
    "for period in downtrend_list:\n",
    "    start_date_list.append(period[0])\n",
    "start_date_list"
   ]
  },
  {
   "cell_type": "code",
   "execution_count": 5,
   "metadata": {},
   "outputs": [],
   "source": [
    "df = pd.read_sql(start_date_list[0], con=res_engine)"
   ]
  },
  {
   "cell_type": "code",
   "execution_count": 9,
   "metadata": {},
   "outputs": [
    {
     "data": {
      "text/plain": [
       "4289       0\n",
       "4101       0\n",
       "4099       0\n",
       "2018       0\n",
       "2020       0\n",
       "        ... \n",
       "2434    9906\n",
       "4467    9913\n",
       "665     9919\n",
       "3493    9950\n",
       "2095    9950\n",
       "Name: rec_h_time, Length: 5275, dtype: int64"
      ]
     },
     "execution_count": 9,
     "metadata": {},
     "output_type": "execute_result"
    }
   ],
   "source": [
    "test_df = df[['ticker','rec_h_time']]\n",
    "test_df.rec_h_time.sort_values()\n"
   ]
  },
  {
   "cell_type": "code",
   "execution_count": null,
   "metadata": {},
   "outputs": [],
   "source": []
  }
 ],
 "metadata": {
  "interpreter": {
   "hash": "c54b1d546a55c7081c560ec6c5e5b60c965bd5490ee7c941cda7746260792115"
  },
  "kernelspec": {
   "display_name": "Python 3.9.12 64-bit ('env_trade': conda)",
   "language": "python",
   "name": "python3"
  },
  "language_info": {
   "codemirror_mode": {
    "name": "ipython",
    "version": 3
   },
   "file_extension": ".py",
   "mimetype": "text/x-python",
   "name": "python",
   "nbconvert_exporter": "python",
   "pygments_lexer": "ipython3",
   "version": "3.9.12"
  },
  "orig_nbformat": 4
 },
 "nbformat": 4,
 "nbformat_minor": 2
}
