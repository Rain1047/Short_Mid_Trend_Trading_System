{
 "cells": [
  {
   "cell_type": "code",
   "execution_count": 4,
   "metadata": {},
   "outputs": [],
   "source": [
    "import pandas as pd\n",
    "from sqlalchemy import create_engine\n",
    "downtrend_list =[['2022-01-03', '2022-06-21'],\n",
    "                ['2020-02-20', '2022-03-23'],\n",
    "                ['2018-10-03', '2018-12-26']]\n",
    "res_engine = create_engine('sqlite:///downtrend_select_result.db')"
   ]
  },
  {
   "cell_type": "code",
   "execution_count": 3,
   "metadata": {},
   "outputs": [
    {
     "data": {
      "text/plain": [
       "['2022-01-03', '2020-02-20', '2018-10-03']"
      ]
     },
     "execution_count": 3,
     "metadata": {},
     "output_type": "execute_result"
    }
   ],
   "source": [
    "start_date_list = []\n",
    "for period in downtrend_list:\n",
    "    start_date_list.append(period[0])\n",
    "start_date_list"
   ]
  },
  {
   "cell_type": "code",
   "execution_count": 5,
   "metadata": {},
   "outputs": [],
   "source": [
    "df = pd.read_sql(start_date_list[0], con=res_engine)"
   ]
  },
  {
   "cell_type": "code",
   "execution_count": 10,
   "metadata": {},
   "outputs": [
    {
     "data": {
      "text/html": [
       "<div>\n",
       "<style scoped>\n",
       "    .dataframe tbody tr th:only-of-type {\n",
       "        vertical-align: middle;\n",
       "    }\n",
       "\n",
       "    .dataframe tbody tr th {\n",
       "        vertical-align: top;\n",
       "    }\n",
       "\n",
       "    .dataframe thead th {\n",
       "        text-align: right;\n",
       "    }\n",
       "</style>\n",
       "<table border=\"1\" class=\"dataframe\">\n",
       "  <thead>\n",
       "    <tr style=\"text-align: right;\">\n",
       "      <th></th>\n",
       "      <th>ticker</th>\n",
       "      <th>dec_rate</th>\n",
       "      <th>dec_time</th>\n",
       "      <th>rec_h_time</th>\n",
       "      <th>rec_l_time</th>\n",
       "      <th>pft_30</th>\n",
       "      <th>pft_60</th>\n",
       "      <th>pft_90</th>\n",
       "      <th>pft_180</th>\n",
       "    </tr>\n",
       "  </thead>\n",
       "  <tbody>\n",
       "    <tr>\n",
       "      <th>0</th>\n",
       "      <td>A</td>\n",
       "      <td>0.280</td>\n",
       "      <td>117</td>\n",
       "      <td>1</td>\n",
       "      <td>39</td>\n",
       "      <td>0.074328</td>\n",
       "      <td>0.201872</td>\n",
       "      <td>0.201872</td>\n",
       "      <td>0.201872</td>\n",
       "    </tr>\n",
       "    <tr>\n",
       "      <th>1</th>\n",
       "      <td>AA</td>\n",
       "      <td>0.343</td>\n",
       "      <td>132</td>\n",
       "      <td>5</td>\n",
       "      <td>11</td>\n",
       "      <td>0.194882</td>\n",
       "      <td>0.263237</td>\n",
       "      <td>0.263237</td>\n",
       "      <td>0.263237</td>\n",
       "    </tr>\n",
       "    <tr>\n",
       "      <th>2</th>\n",
       "      <td>AAC</td>\n",
       "      <td>0.006</td>\n",
       "      <td>105</td>\n",
       "      <td>0</td>\n",
       "      <td>9908</td>\n",
       "      <td>0.005144</td>\n",
       "      <td>0.006173</td>\n",
       "      <td>0.012346</td>\n",
       "      <td>0.013374</td>\n",
       "    </tr>\n",
       "    <tr>\n",
       "      <th>3</th>\n",
       "      <td>AACG</td>\n",
       "      <td>0.261</td>\n",
       "      <td>819</td>\n",
       "      <td>0</td>\n",
       "      <td>1</td>\n",
       "      <td>0.408602</td>\n",
       "      <td>0.408602</td>\n",
       "      <td>0.408602</td>\n",
       "      <td>0.408602</td>\n",
       "    </tr>\n",
       "    <tr>\n",
       "      <th>4</th>\n",
       "      <td>AACI</td>\n",
       "      <td>0.012</td>\n",
       "      <td>29</td>\n",
       "      <td>0</td>\n",
       "      <td>9992</td>\n",
       "      <td>0.000000</td>\n",
       "      <td>0.011224</td>\n",
       "      <td>0.011224</td>\n",
       "      <td>0.018163</td>\n",
       "    </tr>\n",
       "    <tr>\n",
       "      <th>...</th>\n",
       "      <td>...</td>\n",
       "      <td>...</td>\n",
       "      <td>...</td>\n",
       "      <td>...</td>\n",
       "      <td>...</td>\n",
       "      <td>...</td>\n",
       "      <td>...</td>\n",
       "      <td>...</td>\n",
       "      <td>...</td>\n",
       "    </tr>\n",
       "    <tr>\n",
       "      <th>5270</th>\n",
       "      <td>ZWS</td>\n",
       "      <td>0.284</td>\n",
       "      <td>95</td>\n",
       "      <td>3</td>\n",
       "      <td>8310</td>\n",
       "      <td>0.145434</td>\n",
       "      <td>0.166421</td>\n",
       "      <td>0.166421</td>\n",
       "      <td>0.166421</td>\n",
       "    </tr>\n",
       "    <tr>\n",
       "      <th>5271</th>\n",
       "      <td>ZY</td>\n",
       "      <td>0.843</td>\n",
       "      <td>98</td>\n",
       "      <td>9724</td>\n",
       "      <td>3</td>\n",
       "      <td>0.340580</td>\n",
       "      <td>0.775362</td>\n",
       "      <td>1.442029</td>\n",
       "      <td>1.442029</td>\n",
       "    </tr>\n",
       "    <tr>\n",
       "      <th>5272</th>\n",
       "      <td>ZYME</td>\n",
       "      <td>0.731</td>\n",
       "      <td>80</td>\n",
       "      <td>8740</td>\n",
       "      <td>1</td>\n",
       "      <td>0.170213</td>\n",
       "      <td>0.170213</td>\n",
       "      <td>0.170213</td>\n",
       "      <td>0.216039</td>\n",
       "    </tr>\n",
       "    <tr>\n",
       "      <th>5273</th>\n",
       "      <td>ZYNE</td>\n",
       "      <td>0.723</td>\n",
       "      <td>91</td>\n",
       "      <td>8314</td>\n",
       "      <td>18</td>\n",
       "      <td>0.000000</td>\n",
       "      <td>0.000000</td>\n",
       "      <td>0.054264</td>\n",
       "      <td>0.054264</td>\n",
       "    </tr>\n",
       "    <tr>\n",
       "      <th>5274</th>\n",
       "      <td>ZYXI</td>\n",
       "      <td>0.463</td>\n",
       "      <td>48</td>\n",
       "      <td>22</td>\n",
       "      <td>7</td>\n",
       "      <td>0.198400</td>\n",
       "      <td>0.198400</td>\n",
       "      <td>0.419200</td>\n",
       "      <td>0.585600</td>\n",
       "    </tr>\n",
       "  </tbody>\n",
       "</table>\n",
       "<p>5275 rows × 9 columns</p>\n",
       "</div>"
      ],
      "text/plain": [
       "     ticker  dec_rate  dec_time  rec_h_time  rec_l_time    pft_30    pft_60  \\\n",
       "0         A     0.280       117           1          39  0.074328  0.201872   \n",
       "1        AA     0.343       132           5          11  0.194882  0.263237   \n",
       "2       AAC     0.006       105           0        9908  0.005144  0.006173   \n",
       "3      AACG     0.261       819           0           1  0.408602  0.408602   \n",
       "4      AACI     0.012        29           0        9992  0.000000  0.011224   \n",
       "...     ...       ...       ...         ...         ...       ...       ...   \n",
       "5270    ZWS     0.284        95           3        8310  0.145434  0.166421   \n",
       "5271     ZY     0.843        98        9724           3  0.340580  0.775362   \n",
       "5272   ZYME     0.731        80        8740           1  0.170213  0.170213   \n",
       "5273   ZYNE     0.723        91        8314          18  0.000000  0.000000   \n",
       "5274   ZYXI     0.463        48          22           7  0.198400  0.198400   \n",
       "\n",
       "        pft_90   pft_180  \n",
       "0     0.201872  0.201872  \n",
       "1     0.263237  0.263237  \n",
       "2     0.012346  0.013374  \n",
       "3     0.408602  0.408602  \n",
       "4     0.011224  0.018163  \n",
       "...        ...       ...  \n",
       "5270  0.166421  0.166421  \n",
       "5271  1.442029  1.442029  \n",
       "5272  0.170213  0.216039  \n",
       "5273  0.054264  0.054264  \n",
       "5274  0.419200  0.585600  \n",
       "\n",
       "[5275 rows x 9 columns]"
      ]
     },
     "execution_count": 10,
     "metadata": {},
     "output_type": "execute_result"
    }
   ],
   "source": [
    "df"
   ]
  },
  {
   "cell_type": "code",
   "execution_count": 22,
   "metadata": {},
   "outputs": [
    {
     "data": {
      "text/plain": [
       "0.6507177033492823"
      ]
     },
     "execution_count": 22,
     "metadata": {},
     "output_type": "execute_result"
    }
   ],
   "source": [
    "temp = df[df.pft_60 > 0.3]\n",
    "len(temp[temp.dec_rate > 0.34]) / len(temp)"
   ]
  },
  {
   "cell_type": "code",
   "execution_count": 16,
   "metadata": {},
   "outputs": [
    {
     "data": {
      "text/plain": [
       "count    1055.000000\n",
       "mean        0.150815\n",
       "std         0.669351\n",
       "min         0.000000\n",
       "25%         0.009312\n",
       "50%         0.059536\n",
       "75%         0.192395\n",
       "max        20.964286\n",
       "Name: pft_60, dtype: float64"
      ]
     },
     "execution_count": 16,
     "metadata": {},
     "output_type": "execute_result"
    }
   ],
   "source": [
    "df.sort_values(by=['dec_rate']).head(int(len(df)/5)).pft_60.describe()"
   ]
  },
  {
   "cell_type": "code",
   "execution_count": 9,
   "metadata": {},
   "outputs": [
    {
     "data": {
      "text/plain": [
       "4289       0\n",
       "4101       0\n",
       "4099       0\n",
       "2018       0\n",
       "2020       0\n",
       "        ... \n",
       "2434    9906\n",
       "4467    9913\n",
       "665     9919\n",
       "3493    9950\n",
       "2095    9950\n",
       "Name: rec_h_time, Length: 5275, dtype: int64"
      ]
     },
     "execution_count": 9,
     "metadata": {},
     "output_type": "execute_result"
    }
   ],
   "source": [
    "test_df = df[['ticker','rec_h_time']]\n",
    "test_df[test_df.profit_60 > 0.3]\n"
   ]
  },
  {
   "cell_type": "code",
   "execution_count": null,
   "metadata": {},
   "outputs": [],
   "source": []
  }
 ],
 "metadata": {
  "interpreter": {
   "hash": "c54b1d546a55c7081c560ec6c5e5b60c965bd5490ee7c941cda7746260792115"
  },
  "kernelspec": {
   "display_name": "Python 3.9.12 64-bit ('env_trade': conda)",
   "language": "python",
   "name": "python3"
  },
  "language_info": {
   "codemirror_mode": {
    "name": "ipython",
    "version": 3
   },
   "file_extension": ".py",
   "mimetype": "text/x-python",
   "name": "python",
   "nbconvert_exporter": "python",
   "pygments_lexer": "ipython3",
   "version": "3.9.12"
  },
  "orig_nbformat": 4
 },
 "nbformat": 4,
 "nbformat_minor": 2
}
