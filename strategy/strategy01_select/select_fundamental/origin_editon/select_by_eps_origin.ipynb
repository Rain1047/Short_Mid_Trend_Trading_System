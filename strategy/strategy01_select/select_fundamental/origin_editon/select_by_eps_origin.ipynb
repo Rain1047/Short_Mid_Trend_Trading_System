{
 "cells": [
  {
   "cell_type": "code",
   "execution_count": 1,
   "metadata": {},
   "outputs": [],
   "source": [
    "import pandas as pd\n",
    "from sqlalchemy import create_engine"
   ]
  },
  {
   "cell_type": "code",
   "execution_count": 2,
   "metadata": {},
   "outputs": [],
   "source": [
    "name_engine = create_engine('sqlite:///../../../dataset/us/us_ticker_list_with_name.db')\n",
    "annual_engine = create_engine('sqlite:///../../../dataset/us/us_ticker_eps_annual.db')\n",
    "quarter_engine = create_engine('sqlite:///../../../dataset/us/us_ticker_eps_quarter.db')"
   ]
  },
  {
   "cell_type": "code",
   "execution_count": 3,
   "metadata": {},
   "outputs": [],
   "source": [
    "name_df = pd.read_sql('TOTAL', con=name_engine)\n",
    "name_list = name_df.Symbol.to_list()"
   ]
  },
  {
   "cell_type": "code",
   "execution_count": 12,
   "metadata": {},
   "outputs": [
    {
     "data": {
      "text/html": [
       "<div>\n",
       "<style scoped>\n",
       "    .dataframe tbody tr th:only-of-type {\n",
       "        vertical-align: middle;\n",
       "    }\n",
       "\n",
       "    .dataframe tbody tr th {\n",
       "        vertical-align: top;\n",
       "    }\n",
       "\n",
       "    .dataframe thead th {\n",
       "        text-align: right;\n",
       "    }\n",
       "</style>\n",
       "<table border=\"1\" class=\"dataframe\">\n",
       "  <thead>\n",
       "    <tr style=\"text-align: right;\">\n",
       "      <th></th>\n",
       "      <th>symbol</th>\n",
       "      <th>q_chg_rate</th>\n",
       "      <th>a_chg_rate</th>\n",
       "      <th>updatetime</th>\n",
       "    </tr>\n",
       "  </thead>\n",
       "  <tbody>\n",
       "  </tbody>\n",
       "</table>\n",
       "</div>"
      ],
      "text/plain": [
       "Empty DataFrame\n",
       "Columns: [symbol, q_chg_rate, a_chg_rate, updatetime]\n",
       "Index: []"
      ]
     },
     "execution_count": 12,
     "metadata": {},
     "output_type": "execute_result"
    }
   ],
   "source": [
    "selected_ticker = pd.DataFrame(columns=['symbol','q_chg_rate','a_chg_rate','update_time'])\n",
    "selected_ticker"
   ]
  },
  {
   "cell_type": "code",
   "execution_count": 13,
   "metadata": {},
   "outputs": [],
   "source": [
    "%%capture\n",
    "pd.set_option('mode.chained_assignment', None)\n",
    "for ticker in name_list:\n",
    "    try:\n",
    "        # quarter\n",
    "        quarter_eps = pd.read_sql('{}'.format(ticker),con=quarter_engine)\n",
    "        quarter_eps = quarter_eps.head(6)\n",
    "        if str(quarter_eps.iloc[0].datetime)[:4] != '2022':\n",
    "            continue\n",
    "        elif quarter_eps.iloc[:3].eps.min() < 0:\n",
    "            continue\n",
    "        else:\n",
    "            updatetime = quarter_eps.iloc[0].datetime\n",
    "            length = len(quarter_eps)\n",
    "            quarter_eps['q_chg_rate'] = 0.0\n",
    "            for i in range(length-1):\n",
    "                quarter_eps['q_chg_rate'].iloc[i]  = round(((quarter_eps.iloc[i].eps - quarter_eps.iloc[i+1].eps) / quarter_eps.iloc[i+1].eps),3).copy()\n",
    "            quarter_chg_rate = round(quarter_eps.iloc[:3].q_chg_rate.mean(),4)\n",
    "            # print('{} eps: {}'.format(ticker, quarter_chg_rate))\n",
    "\n",
    "        # annual\n",
    "        annual_eps = pd.read_sql('{}'.format(ticker),con=annual_engine)\n",
    "        annual_eps = annual_eps.head(6)\n",
    "        if str(annual_eps.iloc[0].datetime)[:4] != '2022':\n",
    "            continue\n",
    "        elif annual_eps.iloc[:3].eps.min() < 0:\n",
    "            continue\n",
    "        else:\n",
    "            length = len(annual_eps)\n",
    "            annual_eps['q_chg_rate'] = 0.0\n",
    "            for i in range(length-1):\n",
    "                annual_eps['q_chg_rate'].iloc[i]  = round(((annual_eps.iloc[i].eps - annual_eps.iloc[i+1].eps) / annual_eps.iloc[i+1].eps),3).copy()\n",
    "            annual_chg_rate = round(annual_eps.iloc[:3].q_chg_rate.mean(),4)\n",
    "            # print('{} eps: {}'.format(ticker, annual_chg_rate))\n",
    "        \n",
    "        if quarter_chg_rate > 0.25 and annual_chg_rate > 0.25:\n",
    "            # print('{} by quarter is {}'.format(ticker, mean_chg_rate))\n",
    "            temp = pd.DataFrame([[ticker, updatetime, quarter_chg_rate, annual_chg_rate]],columns=['symbol','update_time','q_chg_rate','a_chg_rate'])\n",
    "            selected_ticker = pd.concat([selected_ticker, temp],ignore_index=True)\n",
    "    except:\n",
    "        print('{} is error'.format(ticker))"
   ]
  },
  {
   "cell_type": "code",
   "execution_count": 15,
   "metadata": {},
   "outputs": [],
   "source": [
    "selected_ticker.drop(columns={'updatetime'},inplace=True)"
   ]
  },
  {
   "cell_type": "code",
   "execution_count": 16,
   "metadata": {},
   "outputs": [
    {
     "data": {
      "text/html": [
       "<div>\n",
       "<style scoped>\n",
       "    .dataframe tbody tr th:only-of-type {\n",
       "        vertical-align: middle;\n",
       "    }\n",
       "\n",
       "    .dataframe tbody tr th {\n",
       "        vertical-align: top;\n",
       "    }\n",
       "\n",
       "    .dataframe thead th {\n",
       "        text-align: right;\n",
       "    }\n",
       "</style>\n",
       "<table border=\"1\" class=\"dataframe\">\n",
       "  <thead>\n",
       "    <tr style=\"text-align: right;\">\n",
       "      <th></th>\n",
       "      <th>symbol</th>\n",
       "      <th>q_chg_rate</th>\n",
       "      <th>a_chg_rate</th>\n",
       "      <th>update_time</th>\n",
       "    </tr>\n",
       "  </thead>\n",
       "  <tbody>\n",
       "    <tr>\n",
       "      <th>0</th>\n",
       "      <td>AIR</td>\n",
       "      <td>0.3047</td>\n",
       "      <td>2.4937</td>\n",
       "      <td>2022-05-31</td>\n",
       "    </tr>\n",
       "    <tr>\n",
       "      <th>1</th>\n",
       "      <td>ASTL</td>\n",
       "      <td>0.3503</td>\n",
       "      <td>inf</td>\n",
       "      <td>2022-06-30</td>\n",
       "    </tr>\n",
       "    <tr>\n",
       "      <th>2</th>\n",
       "      <td>CALM</td>\n",
       "      <td>13.412</td>\n",
       "      <td>21.8147</td>\n",
       "      <td>2022-05-31</td>\n",
       "    </tr>\n",
       "    <tr>\n",
       "      <th>3</th>\n",
       "      <td>CTRN</td>\n",
       "      <td>0.5973</td>\n",
       "      <td>0.8277</td>\n",
       "      <td>2022-04-30</td>\n",
       "    </tr>\n",
       "    <tr>\n",
       "      <th>4</th>\n",
       "      <td>CVCO</td>\n",
       "      <td>0.3107</td>\n",
       "      <td>0.567</td>\n",
       "      <td>2022-06-30</td>\n",
       "    </tr>\n",
       "    <tr>\n",
       "      <th>5</th>\n",
       "      <td>EA</td>\n",
       "      <td>0.697</td>\n",
       "      <td>0.4447</td>\n",
       "      <td>2022-06-30</td>\n",
       "    </tr>\n",
       "    <tr>\n",
       "      <th>6</th>\n",
       "      <td>FIVE</td>\n",
       "      <td>1.134</td>\n",
       "      <td>0.376</td>\n",
       "      <td>2022-04-30</td>\n",
       "    </tr>\n",
       "    <tr>\n",
       "      <th>7</th>\n",
       "      <td>GIII</td>\n",
       "      <td>1.2087</td>\n",
       "      <td>2.2233</td>\n",
       "      <td>2022-04-30</td>\n",
       "    </tr>\n",
       "    <tr>\n",
       "      <th>8</th>\n",
       "      <td>JHX</td>\n",
       "      <td>0.455</td>\n",
       "      <td>0.2923</td>\n",
       "      <td>2022-06-30</td>\n",
       "    </tr>\n",
       "    <tr>\n",
       "      <th>9</th>\n",
       "      <td>LOW</td>\n",
       "      <td>0.3017</td>\n",
       "      <td>0.633</td>\n",
       "      <td>2022-07-31</td>\n",
       "    </tr>\n",
       "    <tr>\n",
       "      <th>10</th>\n",
       "      <td>LZB</td>\n",
       "      <td>0.4643</td>\n",
       "      <td>0.3377</td>\n",
       "      <td>2022-04-30</td>\n",
       "    </tr>\n",
       "    <tr>\n",
       "      <th>11</th>\n",
       "      <td>MCHP</td>\n",
       "      <td>0.2843</td>\n",
       "      <td>0.8803</td>\n",
       "      <td>2022-06-30</td>\n",
       "    </tr>\n",
       "    <tr>\n",
       "      <th>12</th>\n",
       "      <td>RPM</td>\n",
       "      <td>1.4477</td>\n",
       "      <td>0.2657</td>\n",
       "      <td>2022-05-31</td>\n",
       "    </tr>\n",
       "    <tr>\n",
       "      <th>13</th>\n",
       "      <td>SMCI</td>\n",
       "      <td>0.7587</td>\n",
       "      <td>0.6673</td>\n",
       "      <td>2022-06-30</td>\n",
       "    </tr>\n",
       "    <tr>\n",
       "      <th>14</th>\n",
       "      <td>SMFG</td>\n",
       "      <td>inf</td>\n",
       "      <td>0.5193</td>\n",
       "      <td>2022-06-30</td>\n",
       "    </tr>\n",
       "    <tr>\n",
       "      <th>15</th>\n",
       "      <td>SPWH</td>\n",
       "      <td>0.319</td>\n",
       "      <td>1.166</td>\n",
       "      <td>2022-04-30</td>\n",
       "    </tr>\n",
       "    <tr>\n",
       "      <th>16</th>\n",
       "      <td>SYY</td>\n",
       "      <td>0.306</td>\n",
       "      <td>0.716</td>\n",
       "      <td>2022-06-30</td>\n",
       "    </tr>\n",
       "    <tr>\n",
       "      <th>17</th>\n",
       "      <td>THR</td>\n",
       "      <td>10.5197</td>\n",
       "      <td>5.8683</td>\n",
       "      <td>2022-06-30</td>\n",
       "    </tr>\n",
       "    <tr>\n",
       "      <th>18</th>\n",
       "      <td>UHAL</td>\n",
       "      <td>0.6107</td>\n",
       "      <td>0.4703</td>\n",
       "      <td>2022-06-30</td>\n",
       "    </tr>\n",
       "    <tr>\n",
       "      <th>19</th>\n",
       "      <td>WMT</td>\n",
       "      <td>0.4227</td>\n",
       "      <td>0.412</td>\n",
       "      <td>2022-07-31</td>\n",
       "    </tr>\n",
       "  </tbody>\n",
       "</table>\n",
       "</div>"
      ],
      "text/plain": [
       "   symbol q_chg_rate a_chg_rate update_time\n",
       "0     AIR     0.3047     2.4937  2022-05-31\n",
       "1    ASTL     0.3503        inf  2022-06-30\n",
       "2    CALM     13.412    21.8147  2022-05-31\n",
       "3    CTRN     0.5973     0.8277  2022-04-30\n",
       "4    CVCO     0.3107      0.567  2022-06-30\n",
       "5      EA      0.697     0.4447  2022-06-30\n",
       "6    FIVE      1.134      0.376  2022-04-30\n",
       "7    GIII     1.2087     2.2233  2022-04-30\n",
       "8     JHX      0.455     0.2923  2022-06-30\n",
       "9     LOW     0.3017      0.633  2022-07-31\n",
       "10    LZB     0.4643     0.3377  2022-04-30\n",
       "11   MCHP     0.2843     0.8803  2022-06-30\n",
       "12    RPM     1.4477     0.2657  2022-05-31\n",
       "13   SMCI     0.7587     0.6673  2022-06-30\n",
       "14   SMFG        inf     0.5193  2022-06-30\n",
       "15   SPWH      0.319      1.166  2022-04-30\n",
       "16    SYY      0.306      0.716  2022-06-30\n",
       "17    THR    10.5197     5.8683  2022-06-30\n",
       "18   UHAL     0.6107     0.4703  2022-06-30\n",
       "19    WMT     0.4227      0.412  2022-07-31"
      ]
     },
     "execution_count": 16,
     "metadata": {},
     "output_type": "execute_result"
    }
   ],
   "source": [
    "selected_ticker"
   ]
  },
  {
   "cell_type": "code",
   "execution_count": null,
   "metadata": {},
   "outputs": [],
   "source": [
    "selected_ticker.to_csv('canslim_select.csv',index=None)"
   ]
  },
  {
   "cell_type": "code",
   "execution_count": 6,
   "metadata": {},
   "outputs": [],
   "source": [
    "ticker_list = ['MSFT','AAPL','BABA']"
   ]
  },
  {
   "cell_type": "code",
   "execution_count": 8,
   "metadata": {},
   "outputs": [
    {
     "name": "stderr",
     "output_type": "stream",
     "text": [
      "C:\\Users\\Rain\\AppData\\Local\\Temp\\ipykernel_4356\\1899474877.py:14: SettingWithCopyWarning: \n",
      "A value is trying to be set on a copy of a slice from a DataFrame\n",
      "\n",
      "See the caveats in the documentation: https://pandas.pydata.org/pandas-docs/stable/user_guide/indexing.html#returning-a-view-versus-a-copy\n",
      "  quarter_eps['q_chg_rate'].iloc[i]  = round(((quarter_eps.iloc[i].eps - quarter_eps.iloc[i+1].eps) / quarter_eps.iloc[i+1].eps),3).copy()\n",
      "C:\\Users\\Rain\\AppData\\Local\\Temp\\ipykernel_4356\\1899474877.py:29: SettingWithCopyWarning: \n",
      "A value is trying to be set on a copy of a slice from a DataFrame\n",
      "\n",
      "See the caveats in the documentation: https://pandas.pydata.org/pandas-docs/stable/user_guide/indexing.html#returning-a-view-versus-a-copy\n",
      "  annual_eps['q_chg_rate'].iloc[i]  = round(((annual_eps.iloc[i].eps - annual_eps.iloc[i+1].eps) / annual_eps.iloc[i+1].eps),3).copy()\n"
     ]
    },
    {
     "name": "stdout",
     "output_type": "stream",
     "text": [
      "MSFT quarter eps: -0.0617\n",
      "MSFT  annual eps: 0.245\n"
     ]
    },
    {
     "name": "stderr",
     "output_type": "stream",
     "text": [
      "C:\\Users\\Rain\\AppData\\Local\\Temp\\ipykernel_4356\\1899474877.py:14: SettingWithCopyWarning: \n",
      "A value is trying to be set on a copy of a slice from a DataFrame\n",
      "\n",
      "See the caveats in the documentation: https://pandas.pydata.org/pandas-docs/stable/user_guide/indexing.html#returning-a-view-versus-a-copy\n",
      "  quarter_eps['q_chg_rate'].iloc[i]  = round(((quarter_eps.iloc[i].eps - quarter_eps.iloc[i+1].eps) / quarter_eps.iloc[i+1].eps),3).copy()\n"
     ]
    },
    {
     "name": "stdout",
     "output_type": "stream",
     "text": [
      "AAPL quarter eps: 0.0733\n",
      "BABA weak\n"
     ]
    }
   ],
   "source": [
    "for ticker in ticker_list:\n",
    "    # quarter\n",
    "    quarter_eps = pd.read_sql('{}'.format(ticker),con=quarter_engine)\n",
    "    quarter_eps = quarter_eps.head(6)\n",
    "    if str(quarter_eps.iloc[0].datetime)[:4] != '2022':\n",
    "        continue\n",
    "    elif quarter_eps.iloc[:3].eps.min() < 0:\n",
    "        print('{} weak'.format(ticker))\n",
    "        continue\n",
    "    else:\n",
    "        length = len(quarter_eps)\n",
    "        quarter_eps['q_chg_rate'] = 0.0\n",
    "        for i in range(length-1):\n",
    "            quarter_eps['q_chg_rate'].iloc[i]  = round(((quarter_eps.iloc[i].eps - quarter_eps.iloc[i+1].eps) / quarter_eps.iloc[i+1].eps),3).copy()\n",
    "        quarter_chg_rate = round(quarter_eps.iloc[:3].q_chg_rate.mean(),4)\n",
    "        print('{} quarter eps: {}'.format(ticker, quarter_chg_rate))\n",
    "\n",
    "    # annual\n",
    "    annual_eps = pd.read_sql('{}'.format(ticker),con=annual_engine)\n",
    "    annual_eps = annual_eps.head(6)\n",
    "    if str(annual_eps.iloc[0].datetime)[:4] != '2022':\n",
    "        continue\n",
    "    elif annual_eps.iloc[:3].eps.min() < 0:\n",
    "        continue\n",
    "    else:\n",
    "        length = len(annual_eps)\n",
    "        annual_eps['q_chg_rate'] = 0.0\n",
    "        for i in range(length-1):\n",
    "            annual_eps['q_chg_rate'].iloc[i]  = round(((annual_eps.iloc[i].eps - annual_eps.iloc[i+1].eps) / annual_eps.iloc[i+1].eps),3).copy()\n",
    "        annual_chg_rate = round(annual_eps.iloc[:3].q_chg_rate.mean(),4)\n",
    "        print('{}  annual eps: {}'.format(ticker, annual_chg_rate))\n",
    "\n",
    "    if quarter_chg_rate > 0.25 and annual_chg_rate > 0.25:\n",
    "        # print('{} by quarter is {}'.format(ticker, mean_chg_rate))\n",
    "        temp = pd.DataFrame([[ticker, quarter_chg_rate, annual_chg_rate]],columns=['symbol','q_chg_rate','a_chg_rate'])\n",
    "        selected_ticker = pd.concat([selected_ticker, temp],ignore_index=True)"
   ]
  },
  {
   "cell_type": "code",
   "execution_count": 9,
   "metadata": {},
   "outputs": [
    {
     "data": {
      "text/html": [
       "<div>\n",
       "<style scoped>\n",
       "    .dataframe tbody tr th:only-of-type {\n",
       "        vertical-align: middle;\n",
       "    }\n",
       "\n",
       "    .dataframe tbody tr th {\n",
       "        vertical-align: top;\n",
       "    }\n",
       "\n",
       "    .dataframe thead th {\n",
       "        text-align: right;\n",
       "    }\n",
       "</style>\n",
       "<table border=\"1\" class=\"dataframe\">\n",
       "  <thead>\n",
       "    <tr style=\"text-align: right;\">\n",
       "      <th></th>\n",
       "      <th>symbol</th>\n",
       "      <th>q_chg_rate</th>\n",
       "      <th>a_chg_rate</th>\n",
       "    </tr>\n",
       "  </thead>\n",
       "  <tbody>\n",
       "  </tbody>\n",
       "</table>\n",
       "</div>"
      ],
      "text/plain": [
       "Empty DataFrame\n",
       "Columns: [symbol, q_chg_rate, a_chg_rate]\n",
       "Index: []"
      ]
     },
     "execution_count": 9,
     "metadata": {},
     "output_type": "execute_result"
    }
   ],
   "source": [
    "selected_ticker"
   ]
  },
  {
   "cell_type": "code",
   "execution_count": null,
   "metadata": {},
   "outputs": [],
   "source": []
  }
 ],
 "metadata": {
  "kernelspec": {
   "display_name": "Python 3.9.12 ('.env')",
   "language": "python",
   "name": "python3"
  },
  "language_info": {
   "codemirror_mode": {
    "name": "ipython",
    "version": 3
   },
   "file_extension": ".py",
   "mimetype": "text/x-python",
   "name": "python",
   "nbconvert_exporter": "python",
   "pygments_lexer": "ipython3",
   "version": "3.9.12"
  },
  "orig_nbformat": 4,
  "vscode": {
   "interpreter": {
    "hash": "275094a250fb64a879cf604ce7b88b81b1f18c35ecd757c3dc3951589b6fa1fd"
   }
  }
 },
 "nbformat": 4,
 "nbformat_minor": 2
}
