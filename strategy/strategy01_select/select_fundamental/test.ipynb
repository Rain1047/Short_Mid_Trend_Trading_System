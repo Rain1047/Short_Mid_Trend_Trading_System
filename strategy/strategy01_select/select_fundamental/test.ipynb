{
 "cells": [
  {
   "cell_type": "code",
   "execution_count": null,
   "metadata": {},
   "outputs": [],
   "source": [
    "for i in range(4):\n",
    "    print(i)"
   ]
  },
  {
   "cell_type": "code",
   "execution_count": 3,
   "metadata": {},
   "outputs": [
    {
     "data": {
      "text/html": [
       "<div>\n",
       "<style scoped>\n",
       "    .dataframe tbody tr th:only-of-type {\n",
       "        vertical-align: middle;\n",
       "    }\n",
       "\n",
       "    .dataframe tbody tr th {\n",
       "        vertical-align: top;\n",
       "    }\n",
       "\n",
       "    .dataframe thead th {\n",
       "        text-align: right;\n",
       "    }\n",
       "</style>\n",
       "<table border=\"1\" class=\"dataframe\">\n",
       "  <thead>\n",
       "    <tr style=\"text-align: right;\">\n",
       "      <th></th>\n",
       "      <th>1</th>\n",
       "      <th>2</th>\n",
       "      <th>3</th>\n",
       "      <th>4</th>\n",
       "    </tr>\n",
       "  </thead>\n",
       "  <tbody>\n",
       "    <tr>\n",
       "      <th>0</th>\n",
       "      <td>1</td>\n",
       "      <td>2</td>\n",
       "      <td>4</td>\n",
       "      <td>5</td>\n",
       "    </tr>\n",
       "  </tbody>\n",
       "</table>\n",
       "</div>"
      ],
      "text/plain": [
       "   1  2  3  4\n",
       "0  1  2  4  5"
      ]
     },
     "execution_count": 3,
     "metadata": {},
     "output_type": "execute_result"
    }
   ],
   "source": [
    "import pandas as pd\n",
    "\n",
    "df = pd.DataFrame([[1,2,4,5]],columns=['1','2','3','4'])\n",
    "df"
   ]
  },
  {
   "cell_type": "code",
   "execution_count": 8,
   "metadata": {},
   "outputs": [],
   "source": [
    "def test_df(df,temp1):\n",
    "    num = df['1'].values[0]\n",
    "    print(num,temp1)\n",
    "    if num > temp1:\n",
    "        return\n",
    "    else:\n",
    "        return 2"
   ]
  },
  {
   "cell_type": "code",
   "execution_count": 9,
   "metadata": {},
   "outputs": [
    {
     "name": "stdout",
     "output_type": "stream",
     "text": [
      "1 0\n"
     ]
    }
   ],
   "source": [
    "ans = test_df(df,0)\n",
    "ans"
   ]
  },
  {
   "cell_type": "code",
   "execution_count": 1,
   "metadata": {},
   "outputs": [],
   "source": [
    "# from select_by_fundamentals import select_by_eps_fixed as eps_fix\n",
    "# from select_by_fundamentals import select_by_eps as eps\n",
    "\n",
    "# eps()\n",
    "import pandas as pd\n",
    "import numpy as np\n",
    "from sqlalchemy import create_engine\n",
    "\n",
    "def get_name_list(target_add):\n",
    "    name_engine = create_engine('sqlite:///../../../dataset/us/us_ticker_list_with_name.db')\n",
    "    target_engine = create_engine(target_add)\n",
    "    name_df = pd.read_sql('TOTAL',con=name_engine)\n",
    "    name_list = name_df.Symbol.to_list()\n",
    "    # Clean the data\n",
    "    # 我们需要将没有这个数据的ticker从我们的list中去除，以提高下面程序运行的速度\n",
    "    for ticker in name_list:\n",
    "        try:\n",
    "            test_df = pd.read_sql('{}-Quarter'.format(ticker),con=target_engine)\n",
    "            print('{} get'.format(ticker))\n",
    "        except:\n",
    "            name_list.remove(ticker)\n",
    "    return name_list\n",
    "\n",
    "\n",
    "def select_by_eps_fixed(targetdate = 0):\n",
    "    # ignore the warnings\n",
    "    pd.set_option('mode.chained_assignment', None)\n",
    "    # get the name list \n",
    "    target_add = 'sqlite:///../../../dataset/us/us_ticker_eps_quarter.db'\n",
    "    name_list = get_name_list(target_add)\n",
    "    print('name list got')"
   ]
  }
 ],
 "metadata": {
  "interpreter": {
   "hash": "c54b1d546a55c7081c560ec6c5e5b60c965bd5490ee7c941cda7746260792115"
  },
  "kernelspec": {
   "display_name": "Python 3.9.12 64-bit ('env_trade': conda)",
   "language": "python",
   "name": "python3"
  },
  "language_info": {
   "codemirror_mode": {
    "name": "ipython",
    "version": 3
   },
   "file_extension": ".py",
   "mimetype": "text/x-python",
   "name": "python",
   "nbconvert_exporter": "python",
   "pygments_lexer": "ipython3",
   "version": "3.9.12"
  },
  "orig_nbformat": 4
 },
 "nbformat": 4,
 "nbformat_minor": 2
}
