{
 "cells": [
  {
   "cell_type": "code",
   "execution_count": 1,
   "metadata": {},
   "outputs": [],
   "source": [
    "import pandas as pd\n",
    "import numpy as np\n",
    "from sqlalchemy import create_engine\n",
    "name_engine = create_engine('sqlite:///../../../dataset/us/us_ticker_list_with_name.db')\n",
    "annual_engine = create_engine('sqlite:///../../../dataset/us/us_ticker_eps_annual.db')\n",
    "quarter_engine = create_engine('sqlite:///../../../dataset/us/us_ticker_eps_quarter.db')"
   ]
  },
  {
   "cell_type": "code",
   "execution_count": 28,
   "metadata": {},
   "outputs": [
    {
     "data": {
      "text/html": [
       "<div>\n",
       "<style scoped>\n",
       "    .dataframe tbody tr th:only-of-type {\n",
       "        vertical-align: middle;\n",
       "    }\n",
       "\n",
       "    .dataframe tbody tr th {\n",
       "        vertical-align: top;\n",
       "    }\n",
       "\n",
       "    .dataframe thead th {\n",
       "        text-align: right;\n",
       "    }\n",
       "</style>\n",
       "<table border=\"1\" class=\"dataframe\">\n",
       "  <thead>\n",
       "    <tr style=\"text-align: right;\">\n",
       "      <th></th>\n",
       "      <th>ticker</th>\n",
       "      <th>eps_g1</th>\n",
       "      <th>eps_g2</th>\n",
       "      <th>eps_g3</th>\n",
       "    </tr>\n",
       "  </thead>\n",
       "  <tbody>\n",
       "    <tr>\n",
       "      <th>42</th>\n",
       "      <td>ANET</td>\n",
       "      <td>0.516129</td>\n",
       "      <td>0.491228</td>\n",
       "      <td>0.275862</td>\n",
       "    </tr>\n",
       "    <tr>\n",
       "      <th>48</th>\n",
       "      <td>APH</td>\n",
       "      <td>0.288136</td>\n",
       "      <td>0.283019</td>\n",
       "      <td>0.275862</td>\n",
       "    </tr>\n",
       "    <tr>\n",
       "      <th>61</th>\n",
       "      <td>ARW</td>\n",
       "      <td>0.833688</td>\n",
       "      <td>0.831585</td>\n",
       "      <td>0.794449</td>\n",
       "    </tr>\n",
       "    <tr>\n",
       "      <th>109</th>\n",
       "      <td>BLD</td>\n",
       "      <td>0.774551</td>\n",
       "      <td>0.522574</td>\n",
       "      <td>0.241150</td>\n",
       "    </tr>\n",
       "    <tr>\n",
       "      <th>141</th>\n",
       "      <td>CASS</td>\n",
       "      <td>0.258078</td>\n",
       "      <td>0.237245</td>\n",
       "      <td>0.225000</td>\n",
       "    </tr>\n",
       "    <tr>\n",
       "      <th>161</th>\n",
       "      <td>CHRW</td>\n",
       "      <td>0.854167</td>\n",
       "      <td>0.601562</td>\n",
       "      <td>0.596330</td>\n",
       "    </tr>\n",
       "    <tr>\n",
       "      <th>162</th>\n",
       "      <td>CHTR</td>\n",
       "      <td>0.671174</td>\n",
       "      <td>0.552394</td>\n",
       "      <td>0.546312</td>\n",
       "    </tr>\n",
       "    <tr>\n",
       "      <th>175</th>\n",
       "      <td>CNXN</td>\n",
       "      <td>0.791375</td>\n",
       "      <td>0.730769</td>\n",
       "      <td>0.260417</td>\n",
       "    </tr>\n",
       "    <tr>\n",
       "      <th>211</th>\n",
       "      <td>DLNG</td>\n",
       "      <td>0.655303</td>\n",
       "      <td>0.438636</td>\n",
       "      <td>0.425000</td>\n",
       "    </tr>\n",
       "    <tr>\n",
       "      <th>214</th>\n",
       "      <td>DMTK</td>\n",
       "      <td>0.757165</td>\n",
       "      <td>0.742256</td>\n",
       "      <td>0.517952</td>\n",
       "    </tr>\n",
       "    <tr>\n",
       "      <th>237</th>\n",
       "      <td>ELA</td>\n",
       "      <td>0.589286</td>\n",
       "      <td>0.428571</td>\n",
       "      <td>0.259740</td>\n",
       "    </tr>\n",
       "    <tr>\n",
       "      <th>256</th>\n",
       "      <td>ESNT</td>\n",
       "      <td>0.801886</td>\n",
       "      <td>0.786777</td>\n",
       "      <td>0.574283</td>\n",
       "    </tr>\n",
       "    <tr>\n",
       "      <th>258</th>\n",
       "      <td>ETD</td>\n",
       "      <td>0.708333</td>\n",
       "      <td>0.590164</td>\n",
       "      <td>0.567164</td>\n",
       "    </tr>\n",
       "    <tr>\n",
       "      <th>274</th>\n",
       "      <td>FLT</td>\n",
       "      <td>0.367796</td>\n",
       "      <td>0.203321</td>\n",
       "      <td>0.203055</td>\n",
       "    </tr>\n",
       "    <tr>\n",
       "      <th>277</th>\n",
       "      <td>FORM</td>\n",
       "      <td>0.652174</td>\n",
       "      <td>0.520000</td>\n",
       "      <td>0.333333</td>\n",
       "    </tr>\n",
       "    <tr>\n",
       "      <th>322</th>\n",
       "      <td>GPC</td>\n",
       "      <td>0.536569</td>\n",
       "      <td>0.315000</td>\n",
       "      <td>0.248036</td>\n",
       "    </tr>\n",
       "    <tr>\n",
       "      <th>368</th>\n",
       "      <td>HYLN</td>\n",
       "      <td>0.530769</td>\n",
       "      <td>0.442857</td>\n",
       "      <td>0.392857</td>\n",
       "    </tr>\n",
       "    <tr>\n",
       "      <th>379</th>\n",
       "      <td>IMVT</td>\n",
       "      <td>0.323775</td>\n",
       "      <td>0.321759</td>\n",
       "      <td>0.262500</td>\n",
       "    </tr>\n",
       "    <tr>\n",
       "      <th>394</th>\n",
       "      <td>KALV</td>\n",
       "      <td>0.552772</td>\n",
       "      <td>0.511084</td>\n",
       "      <td>0.230639</td>\n",
       "    </tr>\n",
       "    <tr>\n",
       "      <th>400</th>\n",
       "      <td>KEYS</td>\n",
       "      <td>0.399621</td>\n",
       "      <td>0.386034</td>\n",
       "      <td>0.330435</td>\n",
       "    </tr>\n",
       "    <tr>\n",
       "      <th>424</th>\n",
       "      <td>LFUS</td>\n",
       "      <td>0.540204</td>\n",
       "      <td>0.442392</td>\n",
       "      <td>0.249461</td>\n",
       "    </tr>\n",
       "    <tr>\n",
       "      <th>437</th>\n",
       "      <td>LULU</td>\n",
       "      <td>0.333333</td>\n",
       "      <td>0.329365</td>\n",
       "      <td>0.309091</td>\n",
       "    </tr>\n",
       "    <tr>\n",
       "      <th>448</th>\n",
       "      <td>MBUU</td>\n",
       "      <td>0.559006</td>\n",
       "      <td>0.396040</td>\n",
       "      <td>0.267327</td>\n",
       "    </tr>\n",
       "    <tr>\n",
       "      <th>499</th>\n",
       "      <td>NOVT</td>\n",
       "      <td>0.570549</td>\n",
       "      <td>0.370982</td>\n",
       "      <td>0.368944</td>\n",
       "    </tr>\n",
       "    <tr>\n",
       "      <th>502</th>\n",
       "      <td>NSTG</td>\n",
       "      <td>0.416667</td>\n",
       "      <td>0.387097</td>\n",
       "      <td>0.260000</td>\n",
       "    </tr>\n",
       "    <tr>\n",
       "      <th>511</th>\n",
       "      <td>NVR</td>\n",
       "      <td>0.671854</td>\n",
       "      <td>0.491905</td>\n",
       "      <td>0.233699</td>\n",
       "    </tr>\n",
       "    <tr>\n",
       "      <th>542</th>\n",
       "      <td>PCAR</td>\n",
       "      <td>0.457746</td>\n",
       "      <td>0.274074</td>\n",
       "      <td>0.256410</td>\n",
       "    </tr>\n",
       "    <tr>\n",
       "      <th>571</th>\n",
       "      <td>PSNL</td>\n",
       "      <td>0.968560</td>\n",
       "      <td>0.743350</td>\n",
       "      <td>0.397884</td>\n",
       "    </tr>\n",
       "    <tr>\n",
       "      <th>578</th>\n",
       "      <td>QCOM</td>\n",
       "      <td>0.858757</td>\n",
       "      <td>0.679739</td>\n",
       "      <td>0.405660</td>\n",
       "    </tr>\n",
       "    <tr>\n",
       "      <th>590</th>\n",
       "      <td>REPL</td>\n",
       "      <td>0.471698</td>\n",
       "      <td>0.463415</td>\n",
       "      <td>0.295455</td>\n",
       "    </tr>\n",
       "    <tr>\n",
       "      <th>606</th>\n",
       "      <td>RUSHA</td>\n",
       "      <td>0.972658</td>\n",
       "      <td>0.820877</td>\n",
       "      <td>0.808219</td>\n",
       "    </tr>\n",
       "    <tr>\n",
       "      <th>607</th>\n",
       "      <td>RUSHB</td>\n",
       "      <td>0.972658</td>\n",
       "      <td>0.820877</td>\n",
       "      <td>0.808219</td>\n",
       "    </tr>\n",
       "    <tr>\n",
       "      <th>616</th>\n",
       "      <td>SBNY</td>\n",
       "      <td>0.554596</td>\n",
       "      <td>0.485594</td>\n",
       "      <td>0.408150</td>\n",
       "    </tr>\n",
       "    <tr>\n",
       "      <th>621</th>\n",
       "      <td>SE</td>\n",
       "      <td>0.688525</td>\n",
       "      <td>0.268293</td>\n",
       "      <td>0.256000</td>\n",
       "    </tr>\n",
       "    <tr>\n",
       "      <th>642</th>\n",
       "      <td>SMAR</td>\n",
       "      <td>0.791667</td>\n",
       "      <td>0.432692</td>\n",
       "      <td>0.353147</td>\n",
       "    </tr>\n",
       "    <tr>\n",
       "      <th>659</th>\n",
       "      <td>STAG</td>\n",
       "      <td>0.603846</td>\n",
       "      <td>0.566545</td>\n",
       "      <td>0.412698</td>\n",
       "    </tr>\n",
       "    <tr>\n",
       "      <th>663</th>\n",
       "      <td>STOR</td>\n",
       "      <td>0.457557</td>\n",
       "      <td>0.404762</td>\n",
       "      <td>0.309524</td>\n",
       "    </tr>\n",
       "    <tr>\n",
       "      <th>753</th>\n",
       "      <td>VXRT</td>\n",
       "      <td>0.769231</td>\n",
       "      <td>0.428571</td>\n",
       "      <td>0.214286</td>\n",
       "    </tr>\n",
       "  </tbody>\n",
       "</table>\n",
       "</div>"
      ],
      "text/plain": [
       "    ticker    eps_g1    eps_g2    eps_g3\n",
       "42    ANET  0.516129  0.491228  0.275862\n",
       "48     APH  0.288136  0.283019  0.275862\n",
       "61     ARW  0.833688  0.831585  0.794449\n",
       "109    BLD  0.774551  0.522574  0.241150\n",
       "141   CASS  0.258078  0.237245  0.225000\n",
       "161   CHRW  0.854167  0.601562  0.596330\n",
       "162   CHTR  0.671174  0.552394  0.546312\n",
       "175   CNXN  0.791375  0.730769  0.260417\n",
       "211   DLNG  0.655303  0.438636  0.425000\n",
       "214   DMTK  0.757165  0.742256  0.517952\n",
       "237    ELA  0.589286  0.428571  0.259740\n",
       "256   ESNT  0.801886  0.786777  0.574283\n",
       "258    ETD  0.708333  0.590164  0.567164\n",
       "274    FLT  0.367796  0.203321  0.203055\n",
       "277   FORM  0.652174  0.520000  0.333333\n",
       "322    GPC  0.536569  0.315000  0.248036\n",
       "368   HYLN  0.530769  0.442857  0.392857\n",
       "379   IMVT  0.323775  0.321759  0.262500\n",
       "394   KALV  0.552772  0.511084  0.230639\n",
       "400   KEYS  0.399621  0.386034  0.330435\n",
       "424   LFUS  0.540204  0.442392  0.249461\n",
       "437   LULU  0.333333  0.329365  0.309091\n",
       "448   MBUU  0.559006  0.396040  0.267327\n",
       "499   NOVT  0.570549  0.370982  0.368944\n",
       "502   NSTG  0.416667  0.387097  0.260000\n",
       "511    NVR  0.671854  0.491905  0.233699\n",
       "542   PCAR  0.457746  0.274074  0.256410\n",
       "571   PSNL  0.968560  0.743350  0.397884\n",
       "578   QCOM  0.858757  0.679739  0.405660\n",
       "590   REPL  0.471698  0.463415  0.295455\n",
       "606  RUSHA  0.972658  0.820877  0.808219\n",
       "607  RUSHB  0.972658  0.820877  0.808219\n",
       "616   SBNY  0.554596  0.485594  0.408150\n",
       "621     SE  0.688525  0.268293  0.256000\n",
       "642   SMAR  0.791667  0.432692  0.353147\n",
       "659   STAG  0.603846  0.566545  0.412698\n",
       "663   STOR  0.457557  0.404762  0.309524\n",
       "753   VXRT  0.769231  0.428571  0.214286"
      ]
     },
     "execution_count": 28,
     "metadata": {},
     "output_type": "execute_result"
    }
   ],
   "source": [
    "df[df.eps_g1 < 1]"
   ]
  },
  {
   "cell_type": "code",
   "execution_count": 6,
   "metadata": {},
   "outputs": [
    {
     "name": "stdout",
     "output_type": "stream",
     "text": [
      "    ticker     eps_g1     eps_g2     eps_g3\n",
      "0       AA   1.243618  51.838710  47.115385\n",
      "1      AAL  21.666667   0.279188  -0.607843\n",
      "2      AAT   4.100000   4.800000   1.362500\n",
      "3      ACB   3.388235  -0.776119  -0.927536\n",
      "4     ACCD   4.857143  -1.462366  -1.968750\n",
      "..     ...        ...        ...        ...\n",
      "953    YOU   2.000000       -inf       -inf\n",
      "954    YRD   3.461538  -2.057143  10.000000\n",
      "955    YVR   5.378571   5.303448   0.603448\n",
      "956   ZEST   3.555556  -1.395349 -13.000000\n",
      "957    ZIM   1.133041        inf        inf\n",
      "\n",
      "[958 rows x 4 columns]\n"
     ]
    }
   ],
   "source": [
    "print(df)"
   ]
  },
  {
   "cell_type": "code",
   "execution_count": 7,
   "metadata": {},
   "outputs": [],
   "source": [
    "name_df = pd.read_sql('TOTAL', con=name_engine)\n",
    "name_list = name_df.Symbol.to_list()"
   ]
  },
  {
   "cell_type": "markdown",
   "metadata": {},
   "source": [
    "# Code"
   ]
  },
  {
   "cell_type": "code",
   "execution_count": 9,
   "metadata": {},
   "outputs": [
    {
     "name": "stdout",
     "output_type": "stream",
     "text": [
      "A not selected\n",
      "AA selected\n"
     ]
    },
    {
     "name": "stderr",
     "output_type": "stream",
     "text": [
      "C:\\Users\\Rain\\AppData\\Local\\Temp\\ipykernel_23516\\2431815014.py:15: RuntimeWarning: divide by zero encountered in double_scalars\n",
      "  quarter_eps.yoy_growth.iloc[i] = (quarter_eps.eps.iloc[i] - quarter_eps.eps.iloc[i+4]) / quarter_eps.eps.iloc[i+4]\n",
      "C:\\Users\\Rain\\AppData\\Local\\Temp\\ipykernel_23516\\2431815014.py:15: RuntimeWarning: divide by zero encountered in double_scalars\n",
      "  quarter_eps.yoy_growth.iloc[i] = (quarter_eps.eps.iloc[i] - quarter_eps.eps.iloc[i+4]) / quarter_eps.eps.iloc[i+4]\n",
      "C:\\Users\\Rain\\AppData\\Local\\Temp\\ipykernel_23516\\2431815014.py:19: RuntimeWarning: invalid value encountered in double_scalars\n",
      "  quarter_eps.fixed_yoy_growth.iloc[i] = (quarter_eps.yoy_growth.iloc[i] + quarter_eps.yoy_growth.iloc[i+1]) / 2\n",
      "C:\\Users\\Rain\\AppData\\Local\\Temp\\ipykernel_23516\\2431815014.py:15: RuntimeWarning: divide by zero encountered in double_scalars\n",
      "  quarter_eps.yoy_growth.iloc[i] = (quarter_eps.eps.iloc[i] - quarter_eps.eps.iloc[i+4]) / quarter_eps.eps.iloc[i+4]\n"
     ]
    },
    {
     "name": "stdout",
     "output_type": "stream",
     "text": [
      "AAC not selected\n",
      "AACG not selected\n",
      "AACI data not enough\n",
      "AADI not selected\n"
     ]
    },
    {
     "name": "stderr",
     "output_type": "stream",
     "text": [
      "C:\\Users\\Rain\\AppData\\Local\\Temp\\ipykernel_23516\\2431815014.py:15: RuntimeWarning: divide by zero encountered in double_scalars\n",
      "  quarter_eps.yoy_growth.iloc[i] = (quarter_eps.eps.iloc[i] - quarter_eps.eps.iloc[i+4]) / quarter_eps.eps.iloc[i+4]\n",
      "C:\\Users\\Rain\\AppData\\Local\\Temp\\ipykernel_23516\\2431815014.py:15: RuntimeWarning: invalid value encountered in double_scalars\n",
      "  quarter_eps.yoy_growth.iloc[i] = (quarter_eps.eps.iloc[i] - quarter_eps.eps.iloc[i+4]) / quarter_eps.eps.iloc[i+4]\n"
     ]
    },
    {
     "name": "stdout",
     "output_type": "stream",
     "text": [
      "AAIC not selected\n",
      "AAL selected\n"
     ]
    },
    {
     "name": "stderr",
     "output_type": "stream",
     "text": [
      "C:\\Users\\Rain\\AppData\\Local\\Temp\\ipykernel_23516\\2431815014.py:15: RuntimeWarning: divide by zero encountered in double_scalars\n",
      "  quarter_eps.yoy_growth.iloc[i] = (quarter_eps.eps.iloc[i] - quarter_eps.eps.iloc[i+4]) / quarter_eps.eps.iloc[i+4]\n",
      "C:\\Users\\Rain\\AppData\\Local\\Temp\\ipykernel_23516\\2431815014.py:15: RuntimeWarning: divide by zero encountered in double_scalars\n",
      "  quarter_eps.yoy_growth.iloc[i] = (quarter_eps.eps.iloc[i] - quarter_eps.eps.iloc[i+4]) / quarter_eps.eps.iloc[i+4]\n",
      "C:\\Users\\Rain\\AppData\\Local\\Temp\\ipykernel_23516\\2431815014.py:15: RuntimeWarning: invalid value encountered in double_scalars\n",
      "  quarter_eps.yoy_growth.iloc[i] = (quarter_eps.eps.iloc[i] - quarter_eps.eps.iloc[i+4]) / quarter_eps.eps.iloc[i+4]\n"
     ]
    },
    {
     "name": "stdout",
     "output_type": "stream",
     "text": [
      "AAMC not selected\n",
      "AAME not selected\n"
     ]
    },
    {
     "name": "stderr",
     "output_type": "stream",
     "text": [
      "C:\\Users\\Rain\\AppData\\Local\\Temp\\ipykernel_23516\\2431815014.py:15: RuntimeWarning: divide by zero encountered in double_scalars\n",
      "  quarter_eps.yoy_growth.iloc[i] = (quarter_eps.eps.iloc[i] - quarter_eps.eps.iloc[i+4]) / quarter_eps.eps.iloc[i+4]\n",
      "C:\\Users\\Rain\\AppData\\Local\\Temp\\ipykernel_23516\\2431815014.py:15: RuntimeWarning: divide by zero encountered in double_scalars\n",
      "  quarter_eps.yoy_growth.iloc[i] = (quarter_eps.eps.iloc[i] - quarter_eps.eps.iloc[i+4]) / quarter_eps.eps.iloc[i+4]\n"
     ]
    },
    {
     "name": "stdout",
     "output_type": "stream",
     "text": [
      "AAN not selected\n",
      "AAOI not selected\n",
      "AAON not selected\n",
      "AAP not selected\n",
      "AAPL not selected\n",
      "AAQC not selected\n"
     ]
    },
    {
     "name": "stderr",
     "output_type": "stream",
     "text": [
      "C:\\Users\\Rain\\AppData\\Local\\Temp\\ipykernel_23516\\2431815014.py:15: RuntimeWarning: divide by zero encountered in double_scalars\n",
      "  quarter_eps.yoy_growth.iloc[i] = (quarter_eps.eps.iloc[i] - quarter_eps.eps.iloc[i+4]) / quarter_eps.eps.iloc[i+4]\n",
      "C:\\Users\\Rain\\AppData\\Local\\Temp\\ipykernel_23516\\2431815014.py:15: RuntimeWarning: divide by zero encountered in double_scalars\n",
      "  quarter_eps.yoy_growth.iloc[i] = (quarter_eps.eps.iloc[i] - quarter_eps.eps.iloc[i+4]) / quarter_eps.eps.iloc[i+4]\n",
      "C:\\Users\\Rain\\AppData\\Local\\Temp\\ipykernel_23516\\2431815014.py:15: RuntimeWarning: invalid value encountered in double_scalars\n",
      "  quarter_eps.yoy_growth.iloc[i] = (quarter_eps.eps.iloc[i] - quarter_eps.eps.iloc[i+4]) / quarter_eps.eps.iloc[i+4]\n",
      "C:\\Users\\Rain\\AppData\\Local\\Temp\\ipykernel_23516\\2431815014.py:19: RuntimeWarning: invalid value encountered in double_scalars\n",
      "  quarter_eps.fixed_yoy_growth.iloc[i] = (quarter_eps.yoy_growth.iloc[i] + quarter_eps.yoy_growth.iloc[i+1]) / 2\n"
     ]
    },
    {
     "name": "stdout",
     "output_type": "stream",
     "text": [
      "AAT selected\n",
      "AATC not selected\n"
     ]
    },
    {
     "name": "stderr",
     "output_type": "stream",
     "text": [
      "C:\\Users\\Rain\\AppData\\Local\\Temp\\ipykernel_23516\\2431815014.py:15: RuntimeWarning: divide by zero encountered in double_scalars\n",
      "  quarter_eps.yoy_growth.iloc[i] = (quarter_eps.eps.iloc[i] - quarter_eps.eps.iloc[i+4]) / quarter_eps.eps.iloc[i+4]\n",
      "C:\\Users\\Rain\\AppData\\Local\\Temp\\ipykernel_23516\\2431815014.py:15: RuntimeWarning: divide by zero encountered in double_scalars\n",
      "  quarter_eps.yoy_growth.iloc[i] = (quarter_eps.eps.iloc[i] - quarter_eps.eps.iloc[i+4]) / quarter_eps.eps.iloc[i+4]\n"
     ]
    },
    {
     "name": "stdout",
     "output_type": "stream",
     "text": [
      "AAU not selected\n",
      "AAWW not selected\n",
      "AB not selected\n",
      "ABB not selected\n"
     ]
    },
    {
     "name": "stderr",
     "output_type": "stream",
     "text": [
      "C:\\Users\\Rain\\AppData\\Local\\Temp\\ipykernel_23516\\2431815014.py:15: RuntimeWarning: divide by zero encountered in double_scalars\n",
      "  quarter_eps.yoy_growth.iloc[i] = (quarter_eps.eps.iloc[i] - quarter_eps.eps.iloc[i+4]) / quarter_eps.eps.iloc[i+4]\n"
     ]
    },
    {
     "name": "stdout",
     "output_type": "stream",
     "text": [
      "ABBV not selected\n",
      "ABC not selected\n",
      "ABCB not selected\n",
      "ABCL not selected\n"
     ]
    },
    {
     "name": "stderr",
     "output_type": "stream",
     "text": [
      "C:\\Users\\Rain\\AppData\\Local\\Temp\\ipykernel_23516\\2431815014.py:15: RuntimeWarning: divide by zero encountered in double_scalars\n",
      "  quarter_eps.yoy_growth.iloc[i] = (quarter_eps.eps.iloc[i] - quarter_eps.eps.iloc[i+4]) / quarter_eps.eps.iloc[i+4]\n",
      "C:\\Users\\Rain\\AppData\\Local\\Temp\\ipykernel_23516\\2431815014.py:19: RuntimeWarning: invalid value encountered in double_scalars\n",
      "  quarter_eps.fixed_yoy_growth.iloc[i] = (quarter_eps.yoy_growth.iloc[i] + quarter_eps.yoy_growth.iloc[i+1]) / 2\n"
     ]
    },
    {
     "name": "stdout",
     "output_type": "stream",
     "text": [
      "ABCM data not enough\n",
      "ABEO not exsit\n",
      "ABEV not selected\n"
     ]
    },
    {
     "name": "stderr",
     "output_type": "stream",
     "text": [
      "C:\\Users\\Rain\\AppData\\Local\\Temp\\ipykernel_23516\\2431815014.py:15: RuntimeWarning: divide by zero encountered in double_scalars\n",
      "  quarter_eps.yoy_growth.iloc[i] = (quarter_eps.eps.iloc[i] - quarter_eps.eps.iloc[i+4]) / quarter_eps.eps.iloc[i+4]\n"
     ]
    },
    {
     "name": "stdout",
     "output_type": "stream",
     "text": [
      "ABG not selected\n",
      "ABGI not selected\n",
      "ABIO not exsit\n"
     ]
    },
    {
     "name": "stderr",
     "output_type": "stream",
     "text": [
      "C:\\Users\\Rain\\AppData\\Local\\Temp\\ipykernel_23516\\2431815014.py:15: RuntimeWarning: divide by zero encountered in double_scalars\n",
      "  quarter_eps.yoy_growth.iloc[i] = (quarter_eps.eps.iloc[i] - quarter_eps.eps.iloc[i+4]) / quarter_eps.eps.iloc[i+4]\n"
     ]
    },
    {
     "name": "stdout",
     "output_type": "stream",
     "text": [
      "ABM not selected\n",
      "ABMD not selected\n"
     ]
    },
    {
     "name": "stderr",
     "output_type": "stream",
     "text": [
      "C:\\Users\\Rain\\AppData\\Local\\Temp\\ipykernel_23516\\2431815014.py:15: RuntimeWarning: divide by zero encountered in double_scalars\n",
      "  quarter_eps.yoy_growth.iloc[i] = (quarter_eps.eps.iloc[i] - quarter_eps.eps.iloc[i+4]) / quarter_eps.eps.iloc[i+4]\n",
      "C:\\Users\\Rain\\AppData\\Local\\Temp\\ipykernel_23516\\2431815014.py:19: RuntimeWarning: invalid value encountered in double_scalars\n",
      "  quarter_eps.fixed_yoy_growth.iloc[i] = (quarter_eps.yoy_growth.iloc[i] + quarter_eps.yoy_growth.iloc[i+1]) / 2\n",
      "C:\\Users\\Rain\\AppData\\Local\\Temp\\ipykernel_23516\\2431815014.py:15: RuntimeWarning: divide by zero encountered in double_scalars\n",
      "  quarter_eps.yoy_growth.iloc[i] = (quarter_eps.eps.iloc[i] - quarter_eps.eps.iloc[i+4]) / quarter_eps.eps.iloc[i+4]\n"
     ]
    },
    {
     "name": "stdout",
     "output_type": "stream",
     "text": [
      "ABNB not selected\n",
      "ABOS not selected\n",
      "ABR not selected\n",
      "ABSI not selected\n"
     ]
    },
    {
     "name": "stderr",
     "output_type": "stream",
     "text": [
      "C:\\Users\\Rain\\AppData\\Local\\Temp\\ipykernel_23516\\2431815014.py:15: RuntimeWarning: divide by zero encountered in double_scalars\n",
      "  quarter_eps.yoy_growth.iloc[i] = (quarter_eps.eps.iloc[i] - quarter_eps.eps.iloc[i+4]) / quarter_eps.eps.iloc[i+4]\n",
      "C:\\Users\\Rain\\AppData\\Local\\Temp\\ipykernel_23516\\2431815014.py:15: RuntimeWarning: divide by zero encountered in double_scalars\n",
      "  quarter_eps.yoy_growth.iloc[i] = (quarter_eps.eps.iloc[i] - quarter_eps.eps.iloc[i+4]) / quarter_eps.eps.iloc[i+4]\n"
     ]
    },
    {
     "name": "stdout",
     "output_type": "stream",
     "text": [
      "ABST not selected\n",
      "ABT not selected\n"
     ]
    },
    {
     "name": "stderr",
     "output_type": "stream",
     "text": [
      "C:\\Users\\Rain\\AppData\\Local\\Temp\\ipykernel_23516\\2431815014.py:15: RuntimeWarning: divide by zero encountered in double_scalars\n",
      "  quarter_eps.yoy_growth.iloc[i] = (quarter_eps.eps.iloc[i] - quarter_eps.eps.iloc[i+4]) / quarter_eps.eps.iloc[i+4]\n"
     ]
    },
    {
     "name": "stdout",
     "output_type": "stream",
     "text": [
      "ABTX not selected\n",
      "ABUS not selected\n",
      "ABVC not exsit\n"
     ]
    },
    {
     "name": "stderr",
     "output_type": "stream",
     "text": [
      "C:\\Users\\Rain\\AppData\\Local\\Temp\\ipykernel_23516\\2431815014.py:15: RuntimeWarning: divide by zero encountered in double_scalars\n",
      "  quarter_eps.yoy_growth.iloc[i] = (quarter_eps.eps.iloc[i] - quarter_eps.eps.iloc[i+4]) / quarter_eps.eps.iloc[i+4]\n",
      "C:\\Users\\Rain\\AppData\\Local\\Temp\\ipykernel_23516\\2431815014.py:15: RuntimeWarning: divide by zero encountered in double_scalars\n",
      "  quarter_eps.yoy_growth.iloc[i] = (quarter_eps.eps.iloc[i] - quarter_eps.eps.iloc[i+4]) / quarter_eps.eps.iloc[i+4]\n"
     ]
    },
    {
     "name": "stdout",
     "output_type": "stream",
     "text": [
      "AC not selected\n",
      "ACA not selected\n",
      "ACAB data not enough\n",
      "ACAC data not enough\n",
      "ACAD not selected\n",
      "ACAH not selected\n"
     ]
    },
    {
     "name": "stderr",
     "output_type": "stream",
     "text": [
      "C:\\Users\\Rain\\AppData\\Local\\Temp\\ipykernel_23516\\2431815014.py:15: RuntimeWarning: divide by zero encountered in double_scalars\n",
      "  quarter_eps.yoy_growth.iloc[i] = (quarter_eps.eps.iloc[i] - quarter_eps.eps.iloc[i+4]) / quarter_eps.eps.iloc[i+4]\n"
     ]
    },
    {
     "name": "stdout",
     "output_type": "stream",
     "text": [
      "ACAQ data not enough\n",
      "ACAX data not enough\n",
      "ACB selected"
     ]
    },
    {
     "name": "stderr",
     "output_type": "stream",
     "text": [
      "C:\\Users\\Rain\\AppData\\Local\\Temp\\ipykernel_23516\\2431815014.py:15: RuntimeWarning: divide by zero encountered in double_scalars\n",
      "  quarter_eps.yoy_growth.iloc[i] = (quarter_eps.eps.iloc[i] - quarter_eps.eps.iloc[i+4]) / quarter_eps.eps.iloc[i+4]\n",
      "C:\\Users\\Rain\\AppData\\Local\\Temp\\ipykernel_23516\\2431815014.py:15: RuntimeWarning: divide by zero encountered in double_scalars\n",
      "  quarter_eps.yoy_growth.iloc[i] = (quarter_eps.eps.iloc[i] - quarter_eps.eps.iloc[i+4]) / quarter_eps.eps.iloc[i+4]\n"
     ]
    },
    {
     "name": "stdout",
     "output_type": "stream",
     "text": [
      "\n",
      "ACBA not selected\n"
     ]
    },
    {
     "name": "stderr",
     "output_type": "stream",
     "text": [
      "C:\\Users\\Rain\\AppData\\Local\\Temp\\ipykernel_23516\\2431815014.py:15: RuntimeWarning: divide by zero encountered in double_scalars\n",
      "  quarter_eps.yoy_growth.iloc[i] = (quarter_eps.eps.iloc[i] - quarter_eps.eps.iloc[i+4]) / quarter_eps.eps.iloc[i+4]\n"
     ]
    },
    {
     "name": "stdout",
     "output_type": "stream",
     "text": [
      "ACCD selected\n",
      "ACCO not selected\n",
      "ACDI data not enough\n",
      "ACEL selected\n"
     ]
    },
    {
     "name": "stderr",
     "output_type": "stream",
     "text": [
      "C:\\Users\\Rain\\AppData\\Local\\Temp\\ipykernel_23516\\2431815014.py:15: RuntimeWarning: divide by zero encountered in double_scalars\n",
      "  quarter_eps.yoy_growth.iloc[i] = (quarter_eps.eps.iloc[i] - quarter_eps.eps.iloc[i+4]) / quarter_eps.eps.iloc[i+4]\n"
     ]
    },
    {
     "name": "stdout",
     "output_type": "stream",
     "text": [
      "ACER not selected\n",
      "ACET not selected\n"
     ]
    },
    {
     "name": "stderr",
     "output_type": "stream",
     "text": [
      "C:\\Users\\Rain\\AppData\\Local\\Temp\\ipykernel_23516\\2431815014.py:15: RuntimeWarning: divide by zero encountered in double_scalars\n",
      "  quarter_eps.yoy_growth.iloc[i] = (quarter_eps.eps.iloc[i] - quarter_eps.eps.iloc[i+4]) / quarter_eps.eps.iloc[i+4]\n",
      "C:\\Users\\Rain\\AppData\\Local\\Temp\\ipykernel_23516\\2431815014.py:15: RuntimeWarning: divide by zero encountered in double_scalars\n",
      "  quarter_eps.yoy_growth.iloc[i] = (quarter_eps.eps.iloc[i] - quarter_eps.eps.iloc[i+4]) / quarter_eps.eps.iloc[i+4]\n"
     ]
    },
    {
     "name": "stdout",
     "output_type": "stream",
     "text": [
      "ACEV not selected\n",
      "ACGL not selected\n",
      "ACH selected"
     ]
    },
    {
     "name": "stderr",
     "output_type": "stream",
     "text": [
      "C:\\Users\\Rain\\AppData\\Local\\Temp\\ipykernel_23516\\2431815014.py:15: RuntimeWarning: divide by zero encountered in double_scalars\n",
      "  quarter_eps.yoy_growth.iloc[i] = (quarter_eps.eps.iloc[i] - quarter_eps.eps.iloc[i+4]) / quarter_eps.eps.iloc[i+4]\n",
      "C:\\Users\\Rain\\AppData\\Local\\Temp\\ipykernel_23516\\2431815014.py:15: RuntimeWarning: divide by zero encountered in double_scalars\n",
      "  quarter_eps.yoy_growth.iloc[i] = (quarter_eps.eps.iloc[i] - quarter_eps.eps.iloc[i+4]) / quarter_eps.eps.iloc[i+4]\n"
     ]
    },
    {
     "name": "stdout",
     "output_type": "stream",
     "text": [
      "\n",
      "ACHC selected\n"
     ]
    },
    {
     "name": "stderr",
     "output_type": "stream",
     "text": [
      "C:\\Users\\Rain\\AppData\\Local\\Temp\\ipykernel_23516\\2431815014.py:15: RuntimeWarning: divide by zero encountered in double_scalars\n",
      "  quarter_eps.yoy_growth.iloc[i] = (quarter_eps.eps.iloc[i] - quarter_eps.eps.iloc[i+4]) / quarter_eps.eps.iloc[i+4]\n",
      "C:\\Users\\Rain\\AppData\\Local\\Temp\\ipykernel_23516\\2431815014.py:15: RuntimeWarning: divide by zero encountered in double_scalars\n",
      "  quarter_eps.yoy_growth.iloc[i] = (quarter_eps.eps.iloc[i] - quarter_eps.eps.iloc[i+4]) / quarter_eps.eps.iloc[i+4]\n"
     ]
    },
    {
     "name": "stdout",
     "output_type": "stream",
     "text": [
      "ACHL not selected\n",
      "ACHR not selected\n",
      "ACHV not exsit\n"
     ]
    },
    {
     "name": "stderr",
     "output_type": "stream",
     "text": [
      "C:\\Users\\Rain\\AppData\\Local\\Temp\\ipykernel_23516\\2431815014.py:15: RuntimeWarning: divide by zero encountered in double_scalars\n",
      "  quarter_eps.yoy_growth.iloc[i] = (quarter_eps.eps.iloc[i] - quarter_eps.eps.iloc[i+4]) / quarter_eps.eps.iloc[i+4]\n"
     ]
    },
    {
     "name": "stdout",
     "output_type": "stream",
     "text": [
      "ACI not selected\n",
      "ACII data not enough\n"
     ]
    },
    {
     "name": "stderr",
     "output_type": "stream",
     "text": [
      "C:\\Users\\Rain\\AppData\\Local\\Temp\\ipykernel_23516\\2431815014.py:15: RuntimeWarning: divide by zero encountered in double_scalars\n",
      "  quarter_eps.yoy_growth.iloc[i] = (quarter_eps.eps.iloc[i] - quarter_eps.eps.iloc[i+4]) / quarter_eps.eps.iloc[i+4]\n",
      "C:\\Users\\Rain\\AppData\\Local\\Temp\\ipykernel_23516\\2431815014.py:15: RuntimeWarning: divide by zero encountered in double_scalars\n",
      "  quarter_eps.yoy_growth.iloc[i] = (quarter_eps.eps.iloc[i] - quarter_eps.eps.iloc[i+4]) / quarter_eps.eps.iloc[i+4]\n"
     ]
    },
    {
     "name": "stdout",
     "output_type": "stream",
     "text": [
      "ACIU not selected\n",
      "ACIW selected\n",
      "ACKIT not exsit\n",
      "ACLS selected\n"
     ]
    },
    {
     "name": "stderr",
     "output_type": "stream",
     "text": [
      "C:\\Users\\Rain\\AppData\\Local\\Temp\\ipykernel_23516\\2431815014.py:15: RuntimeWarning: divide by zero encountered in double_scalars\n",
      "  quarter_eps.yoy_growth.iloc[i] = (quarter_eps.eps.iloc[i] - quarter_eps.eps.iloc[i+4]) / quarter_eps.eps.iloc[i+4]\n",
      "C:\\Users\\Rain\\AppData\\Local\\Temp\\ipykernel_23516\\2431815014.py:15: RuntimeWarning: invalid value encountered in double_scalars\n",
      "  quarter_eps.yoy_growth.iloc[i] = (quarter_eps.eps.iloc[i] - quarter_eps.eps.iloc[i+4]) / quarter_eps.eps.iloc[i+4]\n",
      "C:\\Users\\Rain\\AppData\\Local\\Temp\\ipykernel_23516\\2431815014.py:15: RuntimeWarning: divide by zero encountered in double_scalars\n",
      "  quarter_eps.yoy_growth.iloc[i] = (quarter_eps.eps.iloc[i] - quarter_eps.eps.iloc[i+4]) / quarter_eps.eps.iloc[i+4]\n"
     ]
    },
    {
     "name": "stdout",
     "output_type": "stream",
     "text": [
      "ACLX data not enough\n",
      "ACM selected\n",
      "ACMR not selected"
     ]
    },
    {
     "name": "stderr",
     "output_type": "stream",
     "text": [
      "C:\\Users\\Rain\\AppData\\Local\\Temp\\ipykernel_23516\\2431815014.py:15: RuntimeWarning: divide by zero encountered in double_scalars\n",
      "  quarter_eps.yoy_growth.iloc[i] = (quarter_eps.eps.iloc[i] - quarter_eps.eps.iloc[i+4]) / quarter_eps.eps.iloc[i+4]\n"
     ]
    },
    {
     "name": "stdout",
     "output_type": "stream",
     "text": [
      "\n",
      "ACN not selected\n",
      "ACNB not selected\n",
      "ACNT selected\n",
      "ACON data not enough\n",
      "ACOR not selected\n",
      "ACQR data not enough\n",
      "ACR not selected\n",
      "ACRE not selected\n"
     ]
    },
    {
     "name": "stderr",
     "output_type": "stream",
     "text": [
      "C:\\Users\\Rain\\AppData\\Local\\Temp\\ipykernel_23516\\2431815014.py:15: RuntimeWarning: divide by zero encountered in double_scalars\n",
      "  quarter_eps.yoy_growth.iloc[i] = (quarter_eps.eps.iloc[i] - quarter_eps.eps.iloc[i+4]) / quarter_eps.eps.iloc[i+4]\n",
      "C:\\Users\\Rain\\AppData\\Local\\Temp\\ipykernel_23516\\2431815014.py:15: RuntimeWarning: invalid value encountered in double_scalars\n",
      "  quarter_eps.yoy_growth.iloc[i] = (quarter_eps.eps.iloc[i] - quarter_eps.eps.iloc[i+4]) / quarter_eps.eps.iloc[i+4]\n",
      "C:\\Users\\Rain\\AppData\\Local\\Temp\\ipykernel_23516\\2431815014.py:15: RuntimeWarning: divide by zero encountered in double_scalars\n",
      "  quarter_eps.yoy_growth.iloc[i] = (quarter_eps.eps.iloc[i] - quarter_eps.eps.iloc[i+4]) / quarter_eps.eps.iloc[i+4]\n"
     ]
    },
    {
     "name": "stdout",
     "output_type": "stream",
     "text": [
      "ACRO not selected\n",
      "ACRS not selected\n"
     ]
    },
    {
     "name": "stderr",
     "output_type": "stream",
     "text": [
      "C:\\Users\\Rain\\AppData\\Local\\Temp\\ipykernel_23516\\2431815014.py:15: RuntimeWarning: divide by zero encountered in double_scalars\n",
      "  quarter_eps.yoy_growth.iloc[i] = (quarter_eps.eps.iloc[i] - quarter_eps.eps.iloc[i+4]) / quarter_eps.eps.iloc[i+4]\n",
      "C:\\Users\\Rain\\AppData\\Local\\Temp\\ipykernel_23516\\2431815014.py:15: RuntimeWarning: divide by zero encountered in double_scalars\n",
      "  quarter_eps.yoy_growth.iloc[i] = (quarter_eps.eps.iloc[i] - quarter_eps.eps.iloc[i+4]) / quarter_eps.eps.iloc[i+4]\n",
      "C:\\Users\\Rain\\AppData\\Local\\Temp\\ipykernel_23516\\2431815014.py:15: RuntimeWarning: divide by zero encountered in double_scalars\n",
      "  quarter_eps.yoy_growth.iloc[i] = (quarter_eps.eps.iloc[i] - quarter_eps.eps.iloc[i+4]) / quarter_eps.eps.iloc[i+4]\n"
     ]
    },
    {
     "name": "stdout",
     "output_type": "stream",
     "text": [
      "ACRX not selected\n",
      "ACST not selected\n"
     ]
    },
    {
     "name": "stderr",
     "output_type": "stream",
     "text": [
      "C:\\Users\\Rain\\AppData\\Local\\Temp\\ipykernel_23516\\2431815014.py:15: RuntimeWarning: divide by zero encountered in double_scalars\n",
      "  quarter_eps.yoy_growth.iloc[i] = (quarter_eps.eps.iloc[i] - quarter_eps.eps.iloc[i+4]) / quarter_eps.eps.iloc[i+4]\n"
     ]
    },
    {
     "name": "stdout",
     "output_type": "stream",
     "text": [
      "ACT not selected\n",
      "ACTG not selected\n",
      "ACU not selected\n",
      "ACVA selected\n",
      "ACXP not selected"
     ]
    },
    {
     "name": "stderr",
     "output_type": "stream",
     "text": [
      "C:\\Users\\Rain\\AppData\\Local\\Temp\\ipykernel_23516\\2431815014.py:15: RuntimeWarning: divide by zero encountered in double_scalars\n",
      "  quarter_eps.yoy_growth.iloc[i] = (quarter_eps.eps.iloc[i] - quarter_eps.eps.iloc[i+4]) / quarter_eps.eps.iloc[i+4]\n",
      "C:\\Users\\Rain\\AppData\\Local\\Temp\\ipykernel_23516\\2431815014.py:15: RuntimeWarning: divide by zero encountered in double_scalars\n",
      "  quarter_eps.yoy_growth.iloc[i] = (quarter_eps.eps.iloc[i] - quarter_eps.eps.iloc[i+4]) / quarter_eps.eps.iloc[i+4]\n"
     ]
    },
    {
     "name": "stdout",
     "output_type": "stream",
     "text": [
      "\n",
      "ADAG data not enough\n",
      "ADAL data not enough\n",
      "ADAP not selected\n"
     ]
    },
    {
     "name": "stderr",
     "output_type": "stream",
     "text": [
      "C:\\Users\\Rain\\AppData\\Local\\Temp\\ipykernel_23516\\2431815014.py:15: RuntimeWarning: divide by zero encountered in double_scalars\n",
      "  quarter_eps.yoy_growth.iloc[i] = (quarter_eps.eps.iloc[i] - quarter_eps.eps.iloc[i+4]) / quarter_eps.eps.iloc[i+4]\n",
      "C:\\Users\\Rain\\AppData\\Local\\Temp\\ipykernel_23516\\2431815014.py:15: RuntimeWarning: invalid value encountered in double_scalars\n",
      "  quarter_eps.yoy_growth.iloc[i] = (quarter_eps.eps.iloc[i] - quarter_eps.eps.iloc[i+4]) / quarter_eps.eps.iloc[i+4]\n"
     ]
    },
    {
     "name": "stdout",
     "output_type": "stream",
     "text": [
      "ADBE not selected\n",
      "ADC not selected\n",
      "ADCT not selected\n"
     ]
    },
    {
     "name": "stderr",
     "output_type": "stream",
     "text": [
      "C:\\Users\\Rain\\AppData\\Local\\Temp\\ipykernel_23516\\2431815014.py:15: RuntimeWarning: divide by zero encountered in double_scalars\n",
      "  quarter_eps.yoy_growth.iloc[i] = (quarter_eps.eps.iloc[i] - quarter_eps.eps.iloc[i+4]) / quarter_eps.eps.iloc[i+4]\n",
      "C:\\Users\\Rain\\AppData\\Local\\Temp\\ipykernel_23516\\2431815014.py:15: RuntimeWarning: divide by zero encountered in double_scalars\n",
      "  quarter_eps.yoy_growth.iloc[i] = (quarter_eps.eps.iloc[i] - quarter_eps.eps.iloc[i+4]) / quarter_eps.eps.iloc[i+4]\n"
     ]
    },
    {
     "name": "stdout",
     "output_type": "stream",
     "text": [
      "ADER not selected\n",
      "ADES not selected\n"
     ]
    },
    {
     "name": "stderr",
     "output_type": "stream",
     "text": [
      "C:\\Users\\Rain\\AppData\\Local\\Temp\\ipykernel_23516\\2431815014.py:15: RuntimeWarning: divide by zero encountered in double_scalars\n",
      "  quarter_eps.yoy_growth.iloc[i] = (quarter_eps.eps.iloc[i] - quarter_eps.eps.iloc[i+4]) / quarter_eps.eps.iloc[i+4]\n",
      "C:\\Users\\Rain\\AppData\\Local\\Temp\\ipykernel_23516\\2431815014.py:19: RuntimeWarning: invalid value encountered in double_scalars\n",
      "  quarter_eps.fixed_yoy_growth.iloc[i] = (quarter_eps.yoy_growth.iloc[i] + quarter_eps.yoy_growth.iloc[i+1]) / 2\n",
      "C:\\Users\\Rain\\AppData\\Local\\Temp\\ipykernel_23516\\2431815014.py:15: RuntimeWarning: divide by zero encountered in double_scalars\n",
      "  quarter_eps.yoy_growth.iloc[i] = (quarter_eps.eps.iloc[i] - quarter_eps.eps.iloc[i+4]) / quarter_eps.eps.iloc[i+4]\n",
      "C:\\Users\\Rain\\AppData\\Local\\Temp\\ipykernel_23516\\2431815014.py:19: RuntimeWarning: invalid value encountered in double_scalars\n",
      "  quarter_eps.fixed_yoy_growth.iloc[i] = (quarter_eps.yoy_growth.iloc[i] + quarter_eps.yoy_growth.iloc[i+1]) / 2\n"
     ]
    },
    {
     "name": "stdout",
     "output_type": "stream",
     "text": [
      "ADEX selected\n",
      "ADGI not selected\n"
     ]
    },
    {
     "name": "stderr",
     "output_type": "stream",
     "text": [
      "C:\\Users\\Rain\\AppData\\Local\\Temp\\ipykernel_23516\\2431815014.py:15: RuntimeWarning: divide by zero encountered in double_scalars\n",
      "  quarter_eps.yoy_growth.iloc[i] = (quarter_eps.eps.iloc[i] - quarter_eps.eps.iloc[i+4]) / quarter_eps.eps.iloc[i+4]\n",
      "C:\\Users\\Rain\\AppData\\Local\\Temp\\ipykernel_23516\\2431815014.py:15: RuntimeWarning: divide by zero encountered in double_scalars\n",
      "  quarter_eps.yoy_growth.iloc[i] = (quarter_eps.eps.iloc[i] - quarter_eps.eps.iloc[i+4]) / quarter_eps.eps.iloc[i+4]\n",
      "C:\\Users\\Rain\\AppData\\Local\\Temp\\ipykernel_23516\\2431815014.py:15: RuntimeWarning: invalid value encountered in double_scalars\n",
      "  quarter_eps.yoy_growth.iloc[i] = (quarter_eps.eps.iloc[i] - quarter_eps.eps.iloc[i+4]) / quarter_eps.eps.iloc[i+4]\n"
     ]
    },
    {
     "name": "stdout",
     "output_type": "stream",
     "text": [
      "ADI not selected\n",
      "ADIL not selected\n",
      "ADM not selected\n"
     ]
    },
    {
     "name": "stderr",
     "output_type": "stream",
     "text": [
      "C:\\Users\\Rain\\AppData\\Local\\Temp\\ipykernel_23516\\2431815014.py:15: RuntimeWarning: divide by zero encountered in double_scalars\n",
      "  quarter_eps.yoy_growth.iloc[i] = (quarter_eps.eps.iloc[i] - quarter_eps.eps.iloc[i+4]) / quarter_eps.eps.iloc[i+4]\n",
      "C:\\Users\\Rain\\AppData\\Local\\Temp\\ipykernel_23516\\2431815014.py:15: RuntimeWarning: divide by zero encountered in double_scalars\n",
      "  quarter_eps.yoy_growth.iloc[i] = (quarter_eps.eps.iloc[i] - quarter_eps.eps.iloc[i+4]) / quarter_eps.eps.iloc[i+4]\n",
      "C:\\Users\\Rain\\AppData\\Local\\Temp\\ipykernel_23516\\2431815014.py:15: RuntimeWarning: invalid value encountered in double_scalars\n",
      "  quarter_eps.yoy_growth.iloc[i] = (quarter_eps.eps.iloc[i] - quarter_eps.eps.iloc[i+4]) / quarter_eps.eps.iloc[i+4]\n"
     ]
    },
    {
     "name": "stdout",
     "output_type": "stream",
     "text": [
      "ADMA not selected\n",
      "ADMP not selected\n"
     ]
    },
    {
     "name": "stderr",
     "output_type": "stream",
     "text": [
      "C:\\Users\\Rain\\AppData\\Local\\Temp\\ipykernel_23516\\2431815014.py:15: RuntimeWarning: divide by zero encountered in double_scalars\n",
      "  quarter_eps.yoy_growth.iloc[i] = (quarter_eps.eps.iloc[i] - quarter_eps.eps.iloc[i+4]) / quarter_eps.eps.iloc[i+4]\n",
      "C:\\Users\\Rain\\AppData\\Local\\Temp\\ipykernel_23516\\2431815014.py:19: RuntimeWarning: invalid value encountered in double_scalars\n",
      "  quarter_eps.fixed_yoy_growth.iloc[i] = (quarter_eps.yoy_growth.iloc[i] + quarter_eps.yoy_growth.iloc[i+1]) / 2\n",
      "C:\\Users\\Rain\\AppData\\Local\\Temp\\ipykernel_23516\\2431815014.py:15: RuntimeWarning: divide by zero encountered in double_scalars\n",
      "  quarter_eps.yoy_growth.iloc[i] = (quarter_eps.eps.iloc[i] - quarter_eps.eps.iloc[i+4]) / quarter_eps.eps.iloc[i+4]\n"
     ]
    },
    {
     "name": "stdout",
     "output_type": "stream",
     "text": [
      "ADN selected\n",
      "ADNT not selected\n",
      "ADOC data not enough\n",
      "ADP not selected\n",
      "ADPT not selected\n"
     ]
    },
    {
     "name": "stderr",
     "output_type": "stream",
     "text": [
      "C:\\Users\\Rain\\AppData\\Local\\Temp\\ipykernel_23516\\2431815014.py:15: RuntimeWarning: divide by zero encountered in double_scalars\n",
      "  quarter_eps.yoy_growth.iloc[i] = (quarter_eps.eps.iloc[i] - quarter_eps.eps.iloc[i+4]) / quarter_eps.eps.iloc[i+4]\n",
      "C:\\Users\\Rain\\AppData\\Local\\Temp\\ipykernel_23516\\2431815014.py:15: RuntimeWarning: divide by zero encountered in double_scalars\n",
      "  quarter_eps.yoy_growth.iloc[i] = (quarter_eps.eps.iloc[i] - quarter_eps.eps.iloc[i+4]) / quarter_eps.eps.iloc[i+4]\n"
     ]
    },
    {
     "name": "stdout",
     "output_type": "stream",
     "text": [
      "ADRA not selected\n",
      "ADRT data not enough\n",
      "ADSE data not enough\n",
      "ADSK not selected\n"
     ]
    },
    {
     "name": "stderr",
     "output_type": "stream",
     "text": [
      "C:\\Users\\Rain\\AppData\\Local\\Temp\\ipykernel_23516\\2431815014.py:15: RuntimeWarning: divide by zero encountered in double_scalars\n",
      "  quarter_eps.yoy_growth.iloc[i] = (quarter_eps.eps.iloc[i] - quarter_eps.eps.iloc[i+4]) / quarter_eps.eps.iloc[i+4]\n",
      "C:\\Users\\Rain\\AppData\\Local\\Temp\\ipykernel_23516\\2431815014.py:19: RuntimeWarning: invalid value encountered in double_scalars\n",
      "  quarter_eps.fixed_yoy_growth.iloc[i] = (quarter_eps.yoy_growth.iloc[i] + quarter_eps.yoy_growth.iloc[i+1]) / 2\n",
      "C:\\Users\\Rain\\AppData\\Local\\Temp\\ipykernel_23516\\2431815014.py:15: RuntimeWarning: divide by zero encountered in double_scalars\n",
      "  quarter_eps.yoy_growth.iloc[i] = (quarter_eps.eps.iloc[i] - quarter_eps.eps.iloc[i+4]) / quarter_eps.eps.iloc[i+4]\n"
     ]
    },
    {
     "name": "stdout",
     "output_type": "stream",
     "text": [
      "ADT not selected\n",
      "ADTH selected\n",
      "ADTN not selected\n",
      "ADTX not selected\n"
     ]
    },
    {
     "name": "stderr",
     "output_type": "stream",
     "text": [
      "C:\\Users\\Rain\\AppData\\Local\\Temp\\ipykernel_23516\\2431815014.py:15: RuntimeWarning: divide by zero encountered in double_scalars\n",
      "  quarter_eps.yoy_growth.iloc[i] = (quarter_eps.eps.iloc[i] - quarter_eps.eps.iloc[i+4]) / quarter_eps.eps.iloc[i+4]\n"
     ]
    },
    {
     "name": "stdout",
     "output_type": "stream",
     "text": [
      "ADUS not selected\n",
      "ADV selected\n"
     ]
    },
    {
     "name": "stderr",
     "output_type": "stream",
     "text": [
      "C:\\Users\\Rain\\AppData\\Local\\Temp\\ipykernel_23516\\2431815014.py:15: RuntimeWarning: divide by zero encountered in double_scalars\n",
      "  quarter_eps.yoy_growth.iloc[i] = (quarter_eps.eps.iloc[i] - quarter_eps.eps.iloc[i+4]) / quarter_eps.eps.iloc[i+4]\n",
      "C:\\Users\\Rain\\AppData\\Local\\Temp\\ipykernel_23516\\2431815014.py:15: RuntimeWarning: divide by zero encountered in double_scalars\n",
      "  quarter_eps.yoy_growth.iloc[i] = (quarter_eps.eps.iloc[i] - quarter_eps.eps.iloc[i+4]) / quarter_eps.eps.iloc[i+4]\n"
     ]
    },
    {
     "name": "stdout",
     "output_type": "stream",
     "text": [
      "ADVM not selected\n",
      "ADXN not selected\n"
     ]
    },
    {
     "name": "stderr",
     "output_type": "stream",
     "text": [
      "C:\\Users\\Rain\\AppData\\Local\\Temp\\ipykernel_23516\\2431815014.py:15: RuntimeWarning: divide by zero encountered in double_scalars\n",
      "  quarter_eps.yoy_growth.iloc[i] = (quarter_eps.eps.iloc[i] - quarter_eps.eps.iloc[i+4]) / quarter_eps.eps.iloc[i+4]\n",
      "C:\\Users\\Rain\\AppData\\Local\\Temp\\ipykernel_23516\\2431815014.py:15: RuntimeWarning: divide by zero encountered in double_scalars\n",
      "  quarter_eps.yoy_growth.iloc[i] = (quarter_eps.eps.iloc[i] - quarter_eps.eps.iloc[i+4]) / quarter_eps.eps.iloc[i+4]\n"
     ]
    },
    {
     "name": "stdout",
     "output_type": "stream",
     "text": [
      "AE not selected\n",
      "AEAC not selected\n",
      "AEAE data not enough\n",
      "AEE not selected\n",
      "AEG not selected"
     ]
    },
    {
     "name": "stderr",
     "output_type": "stream",
     "text": [
      "C:\\Users\\Rain\\AppData\\Local\\Temp\\ipykernel_23516\\2431815014.py:15: RuntimeWarning: divide by zero encountered in double_scalars\n",
      "  quarter_eps.yoy_growth.iloc[i] = (quarter_eps.eps.iloc[i] - quarter_eps.eps.iloc[i+4]) / quarter_eps.eps.iloc[i+4]\n",
      "C:\\Users\\Rain\\AppData\\Local\\Temp\\ipykernel_23516\\2431815014.py:15: RuntimeWarning: divide by zero encountered in double_scalars\n",
      "  quarter_eps.yoy_growth.iloc[i] = (quarter_eps.eps.iloc[i] - quarter_eps.eps.iloc[i+4]) / quarter_eps.eps.iloc[i+4]\n"
     ]
    },
    {
     "name": "stdout",
     "output_type": "stream",
     "text": [
      "\n",
      "AEHA data not enough\n",
      "AEHL not selected"
     ]
    },
    {
     "name": "stderr",
     "output_type": "stream",
     "text": [
      "C:\\Users\\Rain\\AppData\\Local\\Temp\\ipykernel_23516\\2431815014.py:15: RuntimeWarning: divide by zero encountered in double_scalars\n",
      "  quarter_eps.yoy_growth.iloc[i] = (quarter_eps.eps.iloc[i] - quarter_eps.eps.iloc[i+4]) / quarter_eps.eps.iloc[i+4]\n",
      "C:\\Users\\Rain\\AppData\\Local\\Temp\\ipykernel_23516\\2431815014.py:15: RuntimeWarning: divide by zero encountered in double_scalars\n",
      "  quarter_eps.yoy_growth.iloc[i] = (quarter_eps.eps.iloc[i] - quarter_eps.eps.iloc[i+4]) / quarter_eps.eps.iloc[i+4]\n"
     ]
    },
    {
     "name": "stdout",
     "output_type": "stream",
     "text": [
      "\n",
      "AEHR not selected\n",
      "AEI not selected\n",
      "AEIS not selected\n",
      "AEL not selected\n",
      "AEM not selected\n"
     ]
    },
    {
     "name": "stderr",
     "output_type": "stream",
     "text": [
      "C:\\Users\\Rain\\AppData\\Local\\Temp\\ipykernel_23516\\2431815014.py:15: RuntimeWarning: divide by zero encountered in double_scalars\n",
      "  quarter_eps.yoy_growth.iloc[i] = (quarter_eps.eps.iloc[i] - quarter_eps.eps.iloc[i+4]) / quarter_eps.eps.iloc[i+4]\n",
      "C:\\Users\\Rain\\AppData\\Local\\Temp\\ipykernel_23516\\2431815014.py:15: RuntimeWarning: invalid value encountered in double_scalars\n",
      "  quarter_eps.yoy_growth.iloc[i] = (quarter_eps.eps.iloc[i] - quarter_eps.eps.iloc[i+4]) / quarter_eps.eps.iloc[i+4]\n",
      "C:\\Users\\Rain\\AppData\\Local\\Temp\\ipykernel_23516\\2431815014.py:15: RuntimeWarning: divide by zero encountered in double_scalars\n",
      "  quarter_eps.yoy_growth.iloc[i] = (quarter_eps.eps.iloc[i] - quarter_eps.eps.iloc[i+4]) / quarter_eps.eps.iloc[i+4]\n"
     ]
    },
    {
     "name": "stdout",
     "output_type": "stream",
     "text": [
      "AEMD not selected\n",
      "AENZ not selected\n",
      "AEO selected\n",
      "AEP not selected\n",
      "AER not selected\n"
     ]
    },
    {
     "name": "stderr",
     "output_type": "stream",
     "text": [
      "C:\\Users\\Rain\\AppData\\Local\\Temp\\ipykernel_23516\\2431815014.py:15: RuntimeWarning: divide by zero encountered in double_scalars\n",
      "  quarter_eps.yoy_growth.iloc[i] = (quarter_eps.eps.iloc[i] - quarter_eps.eps.iloc[i+4]) / quarter_eps.eps.iloc[i+4]\n",
      "C:\\Users\\Rain\\AppData\\Local\\Temp\\ipykernel_23516\\2431815014.py:15: RuntimeWarning: divide by zero encountered in double_scalars\n",
      "  quarter_eps.yoy_growth.iloc[i] = (quarter_eps.eps.iloc[i] - quarter_eps.eps.iloc[i+4]) / quarter_eps.eps.iloc[i+4]\n"
     ]
    },
    {
     "name": "stdout",
     "output_type": "stream",
     "text": [
      "AERC not selected\n",
      "AERI not selected\n"
     ]
    },
    {
     "name": "stderr",
     "output_type": "stream",
     "text": [
      "C:\\Users\\Rain\\AppData\\Local\\Temp\\ipykernel_23516\\2431815014.py:15: RuntimeWarning: divide by zero encountered in double_scalars\n",
      "  quarter_eps.yoy_growth.iloc[i] = (quarter_eps.eps.iloc[i] - quarter_eps.eps.iloc[i+4]) / quarter_eps.eps.iloc[i+4]\n",
      "C:\\Users\\Rain\\AppData\\Local\\Temp\\ipykernel_23516\\2431815014.py:15: RuntimeWarning: divide by zero encountered in double_scalars\n",
      "  quarter_eps.yoy_growth.iloc[i] = (quarter_eps.eps.iloc[i] - quarter_eps.eps.iloc[i+4]) / quarter_eps.eps.iloc[i+4]\n",
      "C:\\Users\\Rain\\AppData\\Local\\Temp\\ipykernel_23516\\2431815014.py:15: RuntimeWarning: divide by zero encountered in double_scalars\n",
      "  quarter_eps.yoy_growth.iloc[i] = (quarter_eps.eps.iloc[i] - quarter_eps.eps.iloc[i+4]) / quarter_eps.eps.iloc[i+4]\n"
     ]
    },
    {
     "name": "stdout",
     "output_type": "stream",
     "text": [
      "AES not selected\n",
      "AESE not selected\n",
      "AEVA not selected\n",
      "AEY not selected"
     ]
    },
    {
     "name": "stderr",
     "output_type": "stream",
     "text": [
      "C:\\Users\\Rain\\AppData\\Local\\Temp\\ipykernel_23516\\2431815014.py:15: RuntimeWarning: divide by zero encountered in double_scalars\n",
      "  quarter_eps.yoy_growth.iloc[i] = (quarter_eps.eps.iloc[i] - quarter_eps.eps.iloc[i+4]) / quarter_eps.eps.iloc[i+4]\n"
     ]
    },
    {
     "name": "stdout",
     "output_type": "stream",
     "text": [
      "\n",
      "AEYE not selected\n",
      "AEZS not exsit\n",
      "AFAC data not enough\n",
      "AFAQ data not enough\n",
      "AFAR data not enough\n"
     ]
    },
    {
     "name": "stderr",
     "output_type": "stream",
     "text": [
      "C:\\Users\\Rain\\AppData\\Local\\Temp\\ipykernel_23516\\2431815014.py:15: RuntimeWarning: divide by zero encountered in double_scalars\n",
      "  quarter_eps.yoy_growth.iloc[i] = (quarter_eps.eps.iloc[i] - quarter_eps.eps.iloc[i+4]) / quarter_eps.eps.iloc[i+4]\n",
      "C:\\Users\\Rain\\AppData\\Local\\Temp\\ipykernel_23516\\2431815014.py:15: RuntimeWarning: invalid value encountered in double_scalars\n",
      "  quarter_eps.yoy_growth.iloc[i] = (quarter_eps.eps.iloc[i] - quarter_eps.eps.iloc[i+4]) / quarter_eps.eps.iloc[i+4]\n",
      "C:\\Users\\Rain\\AppData\\Local\\Temp\\ipykernel_23516\\2431815014.py:19: RuntimeWarning: invalid value encountered in double_scalars\n",
      "  quarter_eps.fixed_yoy_growth.iloc[i] = (quarter_eps.yoy_growth.iloc[i] + quarter_eps.yoy_growth.iloc[i+1]) / 2\n",
      "C:\\Users\\Rain\\AppData\\Local\\Temp\\ipykernel_23516\\2431815014.py:15: RuntimeWarning: divide by zero encountered in double_scalars\n",
      "  quarter_eps.yoy_growth.iloc[i] = (quarter_eps.eps.iloc[i] - quarter_eps.eps.iloc[i+4]) / quarter_eps.eps.iloc[i+4]\n"
     ]
    },
    {
     "name": "stdout",
     "output_type": "stream",
     "text": [
      "AFBI not selected\n",
      "AFCG selected\n",
      "AFG not selected\n",
      "AFIB not selected\n"
     ]
    },
    {
     "name": "stderr",
     "output_type": "stream",
     "text": [
      "C:\\Users\\Rain\\AppData\\Local\\Temp\\ipykernel_23516\\2431815014.py:15: RuntimeWarning: divide by zero encountered in double_scalars\n",
      "  quarter_eps.yoy_growth.iloc[i] = (quarter_eps.eps.iloc[i] - quarter_eps.eps.iloc[i+4]) / quarter_eps.eps.iloc[i+4]\n"
     ]
    },
    {
     "name": "stdout",
     "output_type": "stream",
     "text": [
      "AFL not selected\n",
      "AFMD not selected\n"
     ]
    },
    {
     "name": "stderr",
     "output_type": "stream",
     "text": [
      "C:\\Users\\Rain\\AppData\\Local\\Temp\\ipykernel_23516\\2431815014.py:15: RuntimeWarning: divide by zero encountered in double_scalars\n",
      "  quarter_eps.yoy_growth.iloc[i] = (quarter_eps.eps.iloc[i] - quarter_eps.eps.iloc[i+4]) / quarter_eps.eps.iloc[i+4]\n",
      "C:\\Users\\Rain\\AppData\\Local\\Temp\\ipykernel_23516\\2431815014.py:15: RuntimeWarning: divide by zero encountered in double_scalars\n",
      "  quarter_eps.yoy_growth.iloc[i] = (quarter_eps.eps.iloc[i] - quarter_eps.eps.iloc[i+4]) / quarter_eps.eps.iloc[i+4]\n"
     ]
    },
    {
     "name": "stdout",
     "output_type": "stream",
     "text": [
      "AFRI selected\n",
      "AFRM not selected\n",
      "AFTR data not enough\n",
      "AFYA not selected\n",
      "AG not selected"
     ]
    },
    {
     "name": "stderr",
     "output_type": "stream",
     "text": [
      "C:\\Users\\Rain\\AppData\\Local\\Temp\\ipykernel_23516\\2431815014.py:15: RuntimeWarning: divide by zero encountered in double_scalars\n",
      "  quarter_eps.yoy_growth.iloc[i] = (quarter_eps.eps.iloc[i] - quarter_eps.eps.iloc[i+4]) / quarter_eps.eps.iloc[i+4]\n",
      "C:\\Users\\Rain\\AppData\\Local\\Temp\\ipykernel_23516\\2431815014.py:15: RuntimeWarning: divide by zero encountered in double_scalars\n",
      "  quarter_eps.yoy_growth.iloc[i] = (quarter_eps.eps.iloc[i] - quarter_eps.eps.iloc[i+4]) / quarter_eps.eps.iloc[i+4]\n"
     ]
    },
    {
     "name": "stdout",
     "output_type": "stream",
     "text": [
      "\n",
      "AGAC data not enough\n",
      "AGBA not selected"
     ]
    },
    {
     "name": "stderr",
     "output_type": "stream",
     "text": [
      "C:\\Users\\Rain\\AppData\\Local\\Temp\\ipykernel_23516\\2431815014.py:15: RuntimeWarning: divide by zero encountered in double_scalars\n",
      "  quarter_eps.yoy_growth.iloc[i] = (quarter_eps.eps.iloc[i] - quarter_eps.eps.iloc[i+4]) / quarter_eps.eps.iloc[i+4]\n",
      "C:\\Users\\Rain\\AppData\\Local\\Temp\\ipykernel_23516\\2431815014.py:15: RuntimeWarning: invalid value encountered in double_scalars\n",
      "  quarter_eps.yoy_growth.iloc[i] = (quarter_eps.eps.iloc[i] - quarter_eps.eps.iloc[i+4]) / quarter_eps.eps.iloc[i+4]\n"
     ]
    },
    {
     "name": "stdout",
     "output_type": "stream",
     "text": [
      "\n",
      "AGCB selected\n",
      "AGCO not selected\n"
     ]
    },
    {
     "name": "stderr",
     "output_type": "stream",
     "text": [
      "C:\\Users\\Rain\\AppData\\Local\\Temp\\ipykernel_23516\\2431815014.py:15: RuntimeWarning: divide by zero encountered in double_scalars\n",
      "  quarter_eps.yoy_growth.iloc[i] = (quarter_eps.eps.iloc[i] - quarter_eps.eps.iloc[i+4]) / quarter_eps.eps.iloc[i+4]\n"
     ]
    },
    {
     "name": "stdout",
     "output_type": "stream",
     "text": [
      "AGE not selected\n",
      "AGEN not selected\n"
     ]
    },
    {
     "name": "stderr",
     "output_type": "stream",
     "text": [
      "C:\\Users\\Rain\\AppData\\Local\\Temp\\ipykernel_23516\\2431815014.py:15: RuntimeWarning: divide by zero encountered in double_scalars\n",
      "  quarter_eps.yoy_growth.iloc[i] = (quarter_eps.eps.iloc[i] - quarter_eps.eps.iloc[i+4]) / quarter_eps.eps.iloc[i+4]\n",
      "C:\\Users\\Rain\\AppData\\Local\\Temp\\ipykernel_23516\\2431815014.py:15: RuntimeWarning: invalid value encountered in double_scalars\n",
      "  quarter_eps.yoy_growth.iloc[i] = (quarter_eps.eps.iloc[i] - quarter_eps.eps.iloc[i+4]) / quarter_eps.eps.iloc[i+4]\n",
      "C:\\Users\\Rain\\AppData\\Local\\Temp\\ipykernel_23516\\2431815014.py:15: RuntimeWarning: divide by zero encountered in double_scalars\n",
      "  quarter_eps.yoy_growth.iloc[i] = (quarter_eps.eps.iloc[i] - quarter_eps.eps.iloc[i+4]) / quarter_eps.eps.iloc[i+4]\n"
     ]
    },
    {
     "name": "stdout",
     "output_type": "stream",
     "text": [
      "AGFS not selected\n",
      "AGFY selected\n",
      "AGGR not exsit\n"
     ]
    },
    {
     "name": "stderr",
     "output_type": "stream",
     "text": [
      "C:\\Users\\Rain\\AppData\\Local\\Temp\\ipykernel_23516\\2431815014.py:15: RuntimeWarning: divide by zero encountered in double_scalars\n",
      "  quarter_eps.yoy_growth.iloc[i] = (quarter_eps.eps.iloc[i] - quarter_eps.eps.iloc[i+4]) / quarter_eps.eps.iloc[i+4]\n",
      "C:\\Users\\Rain\\AppData\\Local\\Temp\\ipykernel_23516\\2431815014.py:15: RuntimeWarning: invalid value encountered in double_scalars\n",
      "  quarter_eps.yoy_growth.iloc[i] = (quarter_eps.eps.iloc[i] - quarter_eps.eps.iloc[i+4]) / quarter_eps.eps.iloc[i+4]\n",
      "C:\\Users\\Rain\\AppData\\Local\\Temp\\ipykernel_23516\\2431815014.py:15: RuntimeWarning: divide by zero encountered in double_scalars\n",
      "  quarter_eps.yoy_growth.iloc[i] = (quarter_eps.eps.iloc[i] - quarter_eps.eps.iloc[i+4]) / quarter_eps.eps.iloc[i+4]\n"
     ]
    },
    {
     "name": "stdout",
     "output_type": "stream",
     "text": [
      "AGI not selected\n",
      "AGIL not selected\n"
     ]
    },
    {
     "name": "stderr",
     "output_type": "stream",
     "text": [
      "C:\\Users\\Rain\\AppData\\Local\\Temp\\ipykernel_23516\\2431815014.py:15: RuntimeWarning: divide by zero encountered in double_scalars\n",
      "  quarter_eps.yoy_growth.iloc[i] = (quarter_eps.eps.iloc[i] - quarter_eps.eps.iloc[i+4]) / quarter_eps.eps.iloc[i+4]\n",
      "C:\\Users\\Rain\\AppData\\Local\\Temp\\ipykernel_23516\\2431815014.py:15: RuntimeWarning: divide by zero encountered in double_scalars\n",
      "  quarter_eps.yoy_growth.iloc[i] = (quarter_eps.eps.iloc[i] - quarter_eps.eps.iloc[i+4]) / quarter_eps.eps.iloc[i+4]\n",
      "C:\\Users\\Rain\\AppData\\Local\\Temp\\ipykernel_23516\\2431815014.py:15: RuntimeWarning: divide by zero encountered in double_scalars\n",
      "  quarter_eps.yoy_growth.iloc[i] = (quarter_eps.eps.iloc[i] - quarter_eps.eps.iloc[i+4]) / quarter_eps.eps.iloc[i+4]\n"
     ]
    },
    {
     "name": "stdout",
     "output_type": "stream",
     "text": [
      "AGIO not selected\n",
      "AGL not selected\n",
      "AGLE selected\n",
      "AGM not selected\n",
      "AGMA not exsit\n"
     ]
    },
    {
     "name": "stderr",
     "output_type": "stream",
     "text": [
      "C:\\Users\\Rain\\AppData\\Local\\Temp\\ipykernel_23516\\2431815014.py:15: RuntimeWarning: divide by zero encountered in double_scalars\n",
      "  quarter_eps.yoy_growth.iloc[i] = (quarter_eps.eps.iloc[i] - quarter_eps.eps.iloc[i+4]) / quarter_eps.eps.iloc[i+4]\n",
      "C:\\Users\\Rain\\AppData\\Local\\Temp\\ipykernel_23516\\2431815014.py:15: RuntimeWarning: invalid value encountered in double_scalars\n",
      "  quarter_eps.yoy_growth.iloc[i] = (quarter_eps.eps.iloc[i] - quarter_eps.eps.iloc[i+4]) / quarter_eps.eps.iloc[i+4]\n"
     ]
    },
    {
     "name": "stdout",
     "output_type": "stream",
     "text": [
      "AGMH selected\n",
      "AGNC not selected\n",
      "AGO selected\n",
      "AGR not selected\n"
     ]
    },
    {
     "name": "stderr",
     "output_type": "stream",
     "text": [
      "C:\\Users\\Rain\\AppData\\Local\\Temp\\ipykernel_23516\\2431815014.py:15: RuntimeWarning: divide by zero encountered in double_scalars\n",
      "  quarter_eps.yoy_growth.iloc[i] = (quarter_eps.eps.iloc[i] - quarter_eps.eps.iloc[i+4]) / quarter_eps.eps.iloc[i+4]\n",
      "C:\\Users\\Rain\\AppData\\Local\\Temp\\ipykernel_23516\\2431815014.py:15: RuntimeWarning: divide by zero encountered in double_scalars\n",
      "  quarter_eps.yoy_growth.iloc[i] = (quarter_eps.eps.iloc[i] - quarter_eps.eps.iloc[i+4]) / quarter_eps.eps.iloc[i+4]\n",
      "C:\\Users\\Rain\\AppData\\Local\\Temp\\ipykernel_23516\\2431815014.py:15: RuntimeWarning: divide by zero encountered in double_scalars\n",
      "  quarter_eps.yoy_growth.iloc[i] = (quarter_eps.eps.iloc[i] - quarter_eps.eps.iloc[i+4]) / quarter_eps.eps.iloc[i+4]\n",
      "C:\\Users\\Rain\\AppData\\Local\\Temp\\ipykernel_23516\\2431815014.py:15: RuntimeWarning: invalid value encountered in double_scalars\n",
      "  quarter_eps.yoy_growth.iloc[i] = (quarter_eps.eps.iloc[i] - quarter_eps.eps.iloc[i+4]) / quarter_eps.eps.iloc[i+4]\n"
     ]
    },
    {
     "name": "stdout",
     "output_type": "stream",
     "text": [
      "AGRI not selected\n",
      "AGRO selected\n",
      "AGRX not exsit\n"
     ]
    },
    {
     "name": "stderr",
     "output_type": "stream",
     "text": [
      "C:\\Users\\Rain\\AppData\\Local\\Temp\\ipykernel_23516\\2431815014.py:15: RuntimeWarning: divide by zero encountered in double_scalars\n",
      "  quarter_eps.yoy_growth.iloc[i] = (quarter_eps.eps.iloc[i] - quarter_eps.eps.iloc[i+4]) / quarter_eps.eps.iloc[i+4]\n"
     ]
    },
    {
     "name": "stdout",
     "output_type": "stream",
     "text": [
      "AGS not selected\n",
      "AGTC not selected\n",
      "AGTI not selected"
     ]
    },
    {
     "name": "stderr",
     "output_type": "stream",
     "text": [
      "C:\\Users\\Rain\\AppData\\Local\\Temp\\ipykernel_23516\\2431815014.py:15: RuntimeWarning: divide by zero encountered in double_scalars\n",
      "  quarter_eps.yoy_growth.iloc[i] = (quarter_eps.eps.iloc[i] - quarter_eps.eps.iloc[i+4]) / quarter_eps.eps.iloc[i+4]\n",
      "C:\\Users\\Rain\\AppData\\Local\\Temp\\ipykernel_23516\\2431815014.py:15: RuntimeWarning: divide by zero encountered in double_scalars\n",
      "  quarter_eps.yoy_growth.iloc[i] = (quarter_eps.eps.iloc[i] - quarter_eps.eps.iloc[i+4]) / quarter_eps.eps.iloc[i+4]\n"
     ]
    },
    {
     "name": "stdout",
     "output_type": "stream",
     "text": [
      "\n",
      "AGX not selected\n",
      "AGYS not selected\n",
      "AHCO not selected\n",
      "AHG not selected\n"
     ]
    },
    {
     "name": "stderr",
     "output_type": "stream",
     "text": [
      "C:\\Users\\Rain\\AppData\\Local\\Temp\\ipykernel_23516\\2431815014.py:15: RuntimeWarning: divide by zero encountered in double_scalars\n",
      "  quarter_eps.yoy_growth.iloc[i] = (quarter_eps.eps.iloc[i] - quarter_eps.eps.iloc[i+4]) / quarter_eps.eps.iloc[i+4]\n",
      "C:\\Users\\Rain\\AppData\\Local\\Temp\\ipykernel_23516\\2431815014.py:15: RuntimeWarning: divide by zero encountered in double_scalars\n",
      "  quarter_eps.yoy_growth.iloc[i] = (quarter_eps.eps.iloc[i] - quarter_eps.eps.iloc[i+4]) / quarter_eps.eps.iloc[i+4]\n",
      "C:\\Users\\Rain\\AppData\\Local\\Temp\\ipykernel_23516\\2431815014.py:15: RuntimeWarning: divide by zero encountered in double_scalars\n",
      "  quarter_eps.yoy_growth.iloc[i] = (quarter_eps.eps.iloc[i] - quarter_eps.eps.iloc[i+4]) / quarter_eps.eps.iloc[i+4]\n",
      "C:\\Users\\Rain\\AppData\\Local\\Temp\\ipykernel_23516\\2431815014.py:15: RuntimeWarning: invalid value encountered in double_scalars\n",
      "  quarter_eps.yoy_growth.iloc[i] = (quarter_eps.eps.iloc[i] - quarter_eps.eps.iloc[i+4]) / quarter_eps.eps.iloc[i+4]\n"
     ]
    },
    {
     "name": "stdout",
     "output_type": "stream",
     "text": [
      "AHH selected\n",
      "AHI not exsit\n",
      "AHPA data not enough\n"
     ]
    },
    {
     "name": "stderr",
     "output_type": "stream",
     "text": [
      "C:\\Users\\Rain\\AppData\\Local\\Temp\\ipykernel_23516\\2431815014.py:15: RuntimeWarning: divide by zero encountered in double_scalars\n",
      "  quarter_eps.yoy_growth.iloc[i] = (quarter_eps.eps.iloc[i] - quarter_eps.eps.iloc[i+4]) / quarter_eps.eps.iloc[i+4]\n"
     ]
    },
    {
     "name": "stdout",
     "output_type": "stream",
     "text": [
      "AHPI selected\n",
      "AHRN data not enough\n"
     ]
    },
    {
     "name": "stderr",
     "output_type": "stream",
     "text": [
      "C:\\Users\\Rain\\AppData\\Local\\Temp\\ipykernel_23516\\2431815014.py:15: RuntimeWarning: divide by zero encountered in double_scalars\n",
      "  quarter_eps.yoy_growth.iloc[i] = (quarter_eps.eps.iloc[i] - quarter_eps.eps.iloc[i+4]) / quarter_eps.eps.iloc[i+4]\n"
     ]
    },
    {
     "name": "stdout",
     "output_type": "stream",
     "text": [
      "AHT not selected\n",
      "AI selected\n",
      "AIB data not enough\n",
      "AIG selected\n"
     ]
    },
    {
     "name": "stderr",
     "output_type": "stream",
     "text": [
      "C:\\Users\\Rain\\AppData\\Local\\Temp\\ipykernel_23516\\2431815014.py:15: RuntimeWarning: divide by zero encountered in double_scalars\n",
      "  quarter_eps.yoy_growth.iloc[i] = (quarter_eps.eps.iloc[i] - quarter_eps.eps.iloc[i+4]) / quarter_eps.eps.iloc[i+4]\n",
      "C:\\Users\\Rain\\AppData\\Local\\Temp\\ipykernel_23516\\2431815014.py:15: RuntimeWarning: divide by zero encountered in double_scalars\n",
      "  quarter_eps.yoy_growth.iloc[i] = (quarter_eps.eps.iloc[i] - quarter_eps.eps.iloc[i+4]) / quarter_eps.eps.iloc[i+4]\n"
     ]
    },
    {
     "name": "stdout",
     "output_type": "stream",
     "text": [
      "AIH not selected\n",
      "AIHS not selected\n",
      "AIKI not exsit\n",
      "AIM not selected\n",
      "AIMA not exsit\n",
      "AIMC not selected\n",
      "AIN not selected\n",
      "AINC not selected\n",
      "AIP not selected"
     ]
    },
    {
     "name": "stderr",
     "output_type": "stream",
     "text": [
      "C:\\Users\\Rain\\AppData\\Local\\Temp\\ipykernel_23516\\2431815014.py:15: RuntimeWarning: divide by zero encountered in double_scalars\n",
      "  quarter_eps.yoy_growth.iloc[i] = (quarter_eps.eps.iloc[i] - quarter_eps.eps.iloc[i+4]) / quarter_eps.eps.iloc[i+4]\n",
      "C:\\Users\\Rain\\AppData\\Local\\Temp\\ipykernel_23516\\2431815014.py:15: RuntimeWarning: divide by zero encountered in double_scalars\n",
      "  quarter_eps.yoy_growth.iloc[i] = (quarter_eps.eps.iloc[i] - quarter_eps.eps.iloc[i+4]) / quarter_eps.eps.iloc[i+4]\n"
     ]
    },
    {
     "name": "stdout",
     "output_type": "stream",
     "text": [
      "\n",
      "AIR not selected\n"
     ]
    },
    {
     "name": "stderr",
     "output_type": "stream",
     "text": [
      "C:\\Users\\Rain\\AppData\\Local\\Temp\\ipykernel_23516\\2431815014.py:15: RuntimeWarning: divide by zero encountered in double_scalars\n",
      "  quarter_eps.yoy_growth.iloc[i] = (quarter_eps.eps.iloc[i] - quarter_eps.eps.iloc[i+4]) / quarter_eps.eps.iloc[i+4]\n",
      "C:\\Users\\Rain\\AppData\\Local\\Temp\\ipykernel_23516\\2431815014.py:19: RuntimeWarning: invalid value encountered in double_scalars\n",
      "  quarter_eps.fixed_yoy_growth.iloc[i] = (quarter_eps.yoy_growth.iloc[i] + quarter_eps.yoy_growth.iloc[i+1]) / 2\n",
      "C:\\Users\\Rain\\AppData\\Local\\Temp\\ipykernel_23516\\2431815014.py:15: RuntimeWarning: divide by zero encountered in double_scalars\n",
      "  quarter_eps.yoy_growth.iloc[i] = (quarter_eps.eps.iloc[i] - quarter_eps.eps.iloc[i+4]) / quarter_eps.eps.iloc[i+4]\n"
     ]
    },
    {
     "name": "stdout",
     "output_type": "stream",
     "text": [
      "AIRC not selected\n",
      "AIRG not selected\n"
     ]
    },
    {
     "name": "stderr",
     "output_type": "stream",
     "text": [
      "C:\\Users\\Rain\\AppData\\Local\\Temp\\ipykernel_23516\\2431815014.py:15: RuntimeWarning: invalid value encountered in double_scalars\n",
      "  quarter_eps.yoy_growth.iloc[i] = (quarter_eps.eps.iloc[i] - quarter_eps.eps.iloc[i+4]) / quarter_eps.eps.iloc[i+4]\n",
      "C:\\Users\\Rain\\AppData\\Local\\Temp\\ipykernel_23516\\2431815014.py:15: RuntimeWarning: divide by zero encountered in double_scalars\n",
      "  quarter_eps.yoy_growth.iloc[i] = (quarter_eps.eps.iloc[i] - quarter_eps.eps.iloc[i+4]) / quarter_eps.eps.iloc[i+4]\n",
      "C:\\Users\\Rain\\AppData\\Local\\Temp\\ipykernel_23516\\2431815014.py:15: RuntimeWarning: divide by zero encountered in double_scalars\n",
      "  quarter_eps.yoy_growth.iloc[i] = (quarter_eps.eps.iloc[i] - quarter_eps.eps.iloc[i+4]) / quarter_eps.eps.iloc[i+4]\n",
      "C:\\Users\\Rain\\AppData\\Local\\Temp\\ipykernel_23516\\2431815014.py:15: RuntimeWarning: invalid value encountered in double_scalars\n",
      "  quarter_eps.yoy_growth.iloc[i] = (quarter_eps.eps.iloc[i] - quarter_eps.eps.iloc[i+4]) / quarter_eps.eps.iloc[i+4]\n",
      "C:\\Users\\Rain\\AppData\\Local\\Temp\\ipykernel_23516\\2431815014.py:19: RuntimeWarning: invalid value encountered in double_scalars\n",
      "  quarter_eps.fixed_yoy_growth.iloc[i] = (quarter_eps.yoy_growth.iloc[i] + quarter_eps.yoy_growth.iloc[i+1]) / 2\n"
     ]
    },
    {
     "name": "stdout",
     "output_type": "stream",
     "text": [
      "AIRI not selected\n",
      "AIRS selected\n"
     ]
    },
    {
     "name": "stderr",
     "output_type": "stream",
     "text": [
      "C:\\Users\\Rain\\AppData\\Local\\Temp\\ipykernel_23516\\2431815014.py:15: RuntimeWarning: divide by zero encountered in double_scalars\n",
      "  quarter_eps.yoy_growth.iloc[i] = (quarter_eps.eps.iloc[i] - quarter_eps.eps.iloc[i+4]) / quarter_eps.eps.iloc[i+4]\n"
     ]
    },
    {
     "name": "stdout",
     "output_type": "stream",
     "text": [
      "AIRT not selected\n",
      "AIT not selected\n"
     ]
    },
    {
     "name": "stderr",
     "output_type": "stream",
     "text": [
      "C:\\Users\\Rain\\AppData\\Local\\Temp\\ipykernel_23516\\2431815014.py:15: RuntimeWarning: invalid value encountered in double_scalars\n",
      "  quarter_eps.yoy_growth.iloc[i] = (quarter_eps.eps.iloc[i] - quarter_eps.eps.iloc[i+4]) / quarter_eps.eps.iloc[i+4]\n",
      "C:\\Users\\Rain\\AppData\\Local\\Temp\\ipykernel_23516\\2431815014.py:15: RuntimeWarning: divide by zero encountered in double_scalars\n",
      "  quarter_eps.yoy_growth.iloc[i] = (quarter_eps.eps.iloc[i] - quarter_eps.eps.iloc[i+4]) / quarter_eps.eps.iloc[i+4]\n",
      "C:\\Users\\Rain\\AppData\\Local\\Temp\\ipykernel_23516\\2431815014.py:15: RuntimeWarning: divide by zero encountered in double_scalars\n",
      "  quarter_eps.yoy_growth.iloc[i] = (quarter_eps.eps.iloc[i] - quarter_eps.eps.iloc[i+4]) / quarter_eps.eps.iloc[i+4]\n"
     ]
    },
    {
     "name": "stdout",
     "output_type": "stream",
     "text": [
      "AIU not selected\n",
      "AIV not selected\n",
      "AIZ not selected\n",
      "AJG not selected\n"
     ]
    },
    {
     "name": "stderr",
     "output_type": "stream",
     "text": [
      "C:\\Users\\Rain\\AppData\\Local\\Temp\\ipykernel_23516\\2431815014.py:15: RuntimeWarning: divide by zero encountered in double_scalars\n",
      "  quarter_eps.yoy_growth.iloc[i] = (quarter_eps.eps.iloc[i] - quarter_eps.eps.iloc[i+4]) / quarter_eps.eps.iloc[i+4]\n",
      "C:\\Users\\Rain\\AppData\\Local\\Temp\\ipykernel_23516\\2431815014.py:15: RuntimeWarning: invalid value encountered in double_scalars\n",
      "  quarter_eps.yoy_growth.iloc[i] = (quarter_eps.eps.iloc[i] - quarter_eps.eps.iloc[i+4]) / quarter_eps.eps.iloc[i+4]\n",
      "C:\\Users\\Rain\\AppData\\Local\\Temp\\ipykernel_23516\\2431815014.py:19: RuntimeWarning: invalid value encountered in double_scalars\n",
      "  quarter_eps.fixed_yoy_growth.iloc[i] = (quarter_eps.yoy_growth.iloc[i] + quarter_eps.yoy_growth.iloc[i+1]) / 2\n",
      "C:\\Users\\Rain\\AppData\\Local\\Temp\\ipykernel_23516\\2431815014.py:15: RuntimeWarning: divide by zero encountered in double_scalars\n",
      "  quarter_eps.yoy_growth.iloc[i] = (quarter_eps.eps.iloc[i] - quarter_eps.eps.iloc[i+4]) / quarter_eps.eps.iloc[i+4]\n"
     ]
    },
    {
     "name": "stdout",
     "output_type": "stream",
     "text": [
      "AJRD not selected\n",
      "AJX not selected\n"
     ]
    },
    {
     "name": "stderr",
     "output_type": "stream",
     "text": [
      "C:\\Users\\Rain\\AppData\\Local\\Temp\\ipykernel_23516\\2431815014.py:15: RuntimeWarning: invalid value encountered in double_scalars\n",
      "  quarter_eps.yoy_growth.iloc[i] = (quarter_eps.eps.iloc[i] - quarter_eps.eps.iloc[i+4]) / quarter_eps.eps.iloc[i+4]\n",
      "C:\\Users\\Rain\\AppData\\Local\\Temp\\ipykernel_23516\\2431815014.py:15: RuntimeWarning: divide by zero encountered in double_scalars\n",
      "  quarter_eps.yoy_growth.iloc[i] = (quarter_eps.eps.iloc[i] - quarter_eps.eps.iloc[i+4]) / quarter_eps.eps.iloc[i+4]\n"
     ]
    },
    {
     "name": "stdout",
     "output_type": "stream",
     "text": [
      "AKA not selected\n",
      "AKAM not selected\n",
      "AKAN data not enough\n",
      "AKBA not selected\n"
     ]
    },
    {
     "name": "stderr",
     "output_type": "stream",
     "text": [
      "C:\\Users\\Rain\\AppData\\Local\\Temp\\ipykernel_23516\\2431815014.py:15: RuntimeWarning: divide by zero encountered in double_scalars\n",
      "  quarter_eps.yoy_growth.iloc[i] = (quarter_eps.eps.iloc[i] - quarter_eps.eps.iloc[i+4]) / quarter_eps.eps.iloc[i+4]\n",
      "C:\\Users\\Rain\\AppData\\Local\\Temp\\ipykernel_23516\\2431815014.py:15: RuntimeWarning: divide by zero encountered in double_scalars\n",
      "  quarter_eps.yoy_growth.iloc[i] = (quarter_eps.eps.iloc[i] - quarter_eps.eps.iloc[i+4]) / quarter_eps.eps.iloc[i+4]\n",
      "C:\\Users\\Rain\\AppData\\Local\\Temp\\ipykernel_23516\\2431815014.py:19: RuntimeWarning: invalid value encountered in double_scalars\n",
      "  quarter_eps.fixed_yoy_growth.iloc[i] = (quarter_eps.yoy_growth.iloc[i] + quarter_eps.yoy_growth.iloc[i+1]) / 2\n"
     ]
    },
    {
     "name": "stdout",
     "output_type": "stream",
     "text": [
      "AKIC not selected\n",
      "AKOA not exsit\n",
      "AKOB not exsit\n",
      "AKR not selected\n"
     ]
    },
    {
     "name": "stderr",
     "output_type": "stream",
     "text": [
      "C:\\Users\\Rain\\AppData\\Local\\Temp\\ipykernel_23516\\2431815014.py:15: RuntimeWarning: divide by zero encountered in double_scalars\n",
      "  quarter_eps.yoy_growth.iloc[i] = (quarter_eps.eps.iloc[i] - quarter_eps.eps.iloc[i+4]) / quarter_eps.eps.iloc[i+4]\n",
      "C:\\Users\\Rain\\AppData\\Local\\Temp\\ipykernel_23516\\2431815014.py:15: RuntimeWarning: divide by zero encountered in double_scalars\n",
      "  quarter_eps.yoy_growth.iloc[i] = (quarter_eps.eps.iloc[i] - quarter_eps.eps.iloc[i+4]) / quarter_eps.eps.iloc[i+4]\n",
      "C:\\Users\\Rain\\AppData\\Local\\Temp\\ipykernel_23516\\2431815014.py:15: RuntimeWarning: invalid value encountered in double_scalars\n",
      "  quarter_eps.yoy_growth.iloc[i] = (quarter_eps.eps.iloc[i] - quarter_eps.eps.iloc[i+4]) / quarter_eps.eps.iloc[i+4]\n"
     ]
    },
    {
     "name": "stdout",
     "output_type": "stream",
     "text": [
      "AKRO not selected\n",
      "AKTS not selected\n"
     ]
    },
    {
     "name": "stderr",
     "output_type": "stream",
     "text": [
      "C:\\Users\\Rain\\AppData\\Local\\Temp\\ipykernel_23516\\2431815014.py:15: RuntimeWarning: divide by zero encountered in double_scalars\n",
      "  quarter_eps.yoy_growth.iloc[i] = (quarter_eps.eps.iloc[i] - quarter_eps.eps.iloc[i+4]) / quarter_eps.eps.iloc[i+4]\n",
      "C:\\Users\\Rain\\AppData\\Local\\Temp\\ipykernel_23516\\2431815014.py:15: RuntimeWarning: invalid value encountered in double_scalars\n",
      "  quarter_eps.yoy_growth.iloc[i] = (quarter_eps.eps.iloc[i] - quarter_eps.eps.iloc[i+4]) / quarter_eps.eps.iloc[i+4]\n",
      "C:\\Users\\Rain\\AppData\\Local\\Temp\\ipykernel_23516\\2431815014.py:15: RuntimeWarning: divide by zero encountered in double_scalars\n",
      "  quarter_eps.yoy_growth.iloc[i] = (quarter_eps.eps.iloc[i] - quarter_eps.eps.iloc[i+4]) / quarter_eps.eps.iloc[i+4]\n"
     ]
    },
    {
     "name": "stdout",
     "output_type": "stream",
     "text": [
      "AKTX not selected\n",
      "AKU selected\n",
      "AKUS not selected"
     ]
    },
    {
     "name": "stderr",
     "output_type": "stream",
     "text": [
      "C:\\Users\\Rain\\AppData\\Local\\Temp\\ipykernel_23516\\2431815014.py:15: RuntimeWarning: divide by zero encountered in double_scalars\n",
      "  quarter_eps.yoy_growth.iloc[i] = (quarter_eps.eps.iloc[i] - quarter_eps.eps.iloc[i+4]) / quarter_eps.eps.iloc[i+4]\n"
     ]
    },
    {
     "name": "stdout",
     "output_type": "stream",
     "text": [
      "\n",
      "AKYA selected\n",
      "AL not selected\n",
      "ALB not selected\n",
      "ALBO not selected\n",
      "ALC not selected"
     ]
    },
    {
     "name": "stderr",
     "output_type": "stream",
     "text": [
      "C:\\Users\\Rain\\AppData\\Local\\Temp\\ipykernel_23516\\2431815014.py:15: RuntimeWarning: divide by zero encountered in double_scalars\n",
      "  quarter_eps.yoy_growth.iloc[i] = (quarter_eps.eps.iloc[i] - quarter_eps.eps.iloc[i+4]) / quarter_eps.eps.iloc[i+4]\n",
      "C:\\Users\\Rain\\AppData\\Local\\Temp\\ipykernel_23516\\2431815014.py:15: RuntimeWarning: invalid value encountered in double_scalars\n",
      "  quarter_eps.yoy_growth.iloc[i] = (quarter_eps.eps.iloc[i] - quarter_eps.eps.iloc[i+4]) / quarter_eps.eps.iloc[i+4]\n",
      "C:\\Users\\Rain\\AppData\\Local\\Temp\\ipykernel_23516\\2431815014.py:15: RuntimeWarning: divide by zero encountered in double_scalars\n",
      "  quarter_eps.yoy_growth.iloc[i] = (quarter_eps.eps.iloc[i] - quarter_eps.eps.iloc[i+4]) / quarter_eps.eps.iloc[i+4]\n"
     ]
    },
    {
     "name": "stdout",
     "output_type": "stream",
     "text": [
      "\n",
      "ALCC data not enough\n",
      "ALCO selected\n",
      "ALDX not selected\n",
      "ALE not selected\n"
     ]
    },
    {
     "name": "stderr",
     "output_type": "stream",
     "text": [
      "C:\\Users\\Rain\\AppData\\Local\\Temp\\ipykernel_23516\\2431815014.py:15: RuntimeWarning: divide by zero encountered in double_scalars\n",
      "  quarter_eps.yoy_growth.iloc[i] = (quarter_eps.eps.iloc[i] - quarter_eps.eps.iloc[i+4]) / quarter_eps.eps.iloc[i+4]\n",
      "C:\\Users\\Rain\\AppData\\Local\\Temp\\ipykernel_23516\\2431815014.py:15: RuntimeWarning: divide by zero encountered in double_scalars\n",
      "  quarter_eps.yoy_growth.iloc[i] = (quarter_eps.eps.iloc[i] - quarter_eps.eps.iloc[i+4]) / quarter_eps.eps.iloc[i+4]\n"
     ]
    },
    {
     "name": "stdout",
     "output_type": "stream",
     "text": [
      "ALEC not selected\n",
      "ALEX not selected\n"
     ]
    },
    {
     "name": "stderr",
     "output_type": "stream",
     "text": [
      "C:\\Users\\Rain\\AppData\\Local\\Temp\\ipykernel_23516\\2431815014.py:15: RuntimeWarning: divide by zero encountered in double_scalars\n",
      "  quarter_eps.yoy_growth.iloc[i] = (quarter_eps.eps.iloc[i] - quarter_eps.eps.iloc[i+4]) / quarter_eps.eps.iloc[i+4]\n"
     ]
    },
    {
     "name": "stdout",
     "output_type": "stream",
     "text": [
      "ALF not selected\n",
      "ALG not selected\n"
     ]
    },
    {
     "name": "stderr",
     "output_type": "stream",
     "text": [
      "C:\\Users\\Rain\\AppData\\Local\\Temp\\ipykernel_23516\\2431815014.py:15: RuntimeWarning: divide by zero encountered in double_scalars\n",
      "  quarter_eps.yoy_growth.iloc[i] = (quarter_eps.eps.iloc[i] - quarter_eps.eps.iloc[i+4]) / quarter_eps.eps.iloc[i+4]\n",
      "C:\\Users\\Rain\\AppData\\Local\\Temp\\ipykernel_23516\\2431815014.py:15: RuntimeWarning: divide by zero encountered in double_scalars\n",
      "  quarter_eps.yoy_growth.iloc[i] = (quarter_eps.eps.iloc[i] - quarter_eps.eps.iloc[i+4]) / quarter_eps.eps.iloc[i+4]\n",
      "C:\\Users\\Rain\\AppData\\Local\\Temp\\ipykernel_23516\\2431815014.py:15: RuntimeWarning: divide by zero encountered in double_scalars\n",
      "  quarter_eps.yoy_growth.iloc[i] = (quarter_eps.eps.iloc[i] - quarter_eps.eps.iloc[i+4]) / quarter_eps.eps.iloc[i+4]\n"
     ]
    },
    {
     "name": "stdout",
     "output_type": "stream",
     "text": [
      "ALGM not selected\n",
      "ALGN not selected\n",
      "ALGS not selected\n",
      "ALGT not selected\n"
     ]
    },
    {
     "name": "stderr",
     "output_type": "stream",
     "text": [
      "C:\\Users\\Rain\\AppData\\Local\\Temp\\ipykernel_23516\\2431815014.py:15: RuntimeWarning: divide by zero encountered in double_scalars\n",
      "  quarter_eps.yoy_growth.iloc[i] = (quarter_eps.eps.iloc[i] - quarter_eps.eps.iloc[i+4]) / quarter_eps.eps.iloc[i+4]\n",
      "C:\\Users\\Rain\\AppData\\Local\\Temp\\ipykernel_23516\\2431815014.py:15: RuntimeWarning: divide by zero encountered in double_scalars\n",
      "  quarter_eps.yoy_growth.iloc[i] = (quarter_eps.eps.iloc[i] - quarter_eps.eps.iloc[i+4]) / quarter_eps.eps.iloc[i+4]\n"
     ]
    },
    {
     "name": "stdout",
     "output_type": "stream",
     "text": [
      "ALHC not selected\n",
      "ALIM not selected\n"
     ]
    },
    {
     "name": "stderr",
     "output_type": "stream",
     "text": [
      "C:\\Users\\Rain\\AppData\\Local\\Temp\\ipykernel_23516\\2431815014.py:15: RuntimeWarning: divide by zero encountered in double_scalars\n",
      "  quarter_eps.yoy_growth.iloc[i] = (quarter_eps.eps.iloc[i] - quarter_eps.eps.iloc[i+4]) / quarter_eps.eps.iloc[i+4]\n",
      "C:\\Users\\Rain\\AppData\\Local\\Temp\\ipykernel_23516\\2431815014.py:15: RuntimeWarning: invalid value encountered in double_scalars\n",
      "  quarter_eps.yoy_growth.iloc[i] = (quarter_eps.eps.iloc[i] - quarter_eps.eps.iloc[i+4]) / quarter_eps.eps.iloc[i+4]\n",
      "C:\\Users\\Rain\\AppData\\Local\\Temp\\ipykernel_23516\\2431815014.py:19: RuntimeWarning: invalid value encountered in double_scalars\n",
      "  quarter_eps.fixed_yoy_growth.iloc[i] = (quarter_eps.yoy_growth.iloc[i] + quarter_eps.yoy_growth.iloc[i+1]) / 2\n",
      "C:\\Users\\Rain\\AppData\\Local\\Temp\\ipykernel_23516\\2431815014.py:15: RuntimeWarning: divide by zero encountered in double_scalars\n",
      "  quarter_eps.yoy_growth.iloc[i] = (quarter_eps.eps.iloc[i] - quarter_eps.eps.iloc[i+4]) / quarter_eps.eps.iloc[i+4]\n"
     ]
    },
    {
     "name": "stdout",
     "output_type": "stream",
     "text": [
      "ALIT selected\n",
      "ALJJ not selected\n",
      "ALK not selected\n",
      "ALKS not selected\n",
      "ALKT not selected"
     ]
    },
    {
     "name": "stderr",
     "output_type": "stream",
     "text": [
      "C:\\Users\\Rain\\AppData\\Local\\Temp\\ipykernel_23516\\2431815014.py:15: RuntimeWarning: divide by zero encountered in double_scalars\n",
      "  quarter_eps.yoy_growth.iloc[i] = (quarter_eps.eps.iloc[i] - quarter_eps.eps.iloc[i+4]) / quarter_eps.eps.iloc[i+4]\n",
      "C:\\Users\\Rain\\AppData\\Local\\Temp\\ipykernel_23516\\2431815014.py:15: RuntimeWarning: invalid value encountered in double_scalars\n",
      "  quarter_eps.yoy_growth.iloc[i] = (quarter_eps.eps.iloc[i] - quarter_eps.eps.iloc[i+4]) / quarter_eps.eps.iloc[i+4]\n",
      "C:\\Users\\Rain\\AppData\\Local\\Temp\\ipykernel_23516\\2431815014.py:15: RuntimeWarning: divide by zero encountered in double_scalars\n",
      "  quarter_eps.yoy_growth.iloc[i] = (quarter_eps.eps.iloc[i] - quarter_eps.eps.iloc[i+4]) / quarter_eps.eps.iloc[i+4]\n"
     ]
    },
    {
     "name": "stdout",
     "output_type": "stream",
     "text": [
      "\n",
      "ALL not selected\n"
     ]
    },
    {
     "name": "stderr",
     "output_type": "stream",
     "text": [
      "C:\\Users\\Rain\\AppData\\Local\\Temp\\ipykernel_23516\\2431815014.py:15: RuntimeWarning: divide by zero encountered in double_scalars\n",
      "  quarter_eps.yoy_growth.iloc[i] = (quarter_eps.eps.iloc[i] - quarter_eps.eps.iloc[i+4]) / quarter_eps.eps.iloc[i+4]\n",
      "C:\\Users\\Rain\\AppData\\Local\\Temp\\ipykernel_23516\\2431815014.py:19: RuntimeWarning: invalid value encountered in double_scalars\n",
      "  quarter_eps.fixed_yoy_growth.iloc[i] = (quarter_eps.yoy_growth.iloc[i] + quarter_eps.yoy_growth.iloc[i+1]) / 2\n"
     ]
    },
    {
     "name": "stdout",
     "output_type": "stream",
     "text": [
      "ALLE not selected\n",
      "ALLG data not enough\n"
     ]
    },
    {
     "name": "stderr",
     "output_type": "stream",
     "text": [
      "C:\\Users\\Rain\\AppData\\Local\\Temp\\ipykernel_23516\\2431815014.py:15: RuntimeWarning: divide by zero encountered in double_scalars\n",
      "  quarter_eps.yoy_growth.iloc[i] = (quarter_eps.eps.iloc[i] - quarter_eps.eps.iloc[i+4]) / quarter_eps.eps.iloc[i+4]\n"
     ]
    },
    {
     "name": "stdout",
     "output_type": "stream",
     "text": [
      "ALLK selected\n",
      "ALLO not exsit\n",
      "ALLR data not enough\n"
     ]
    },
    {
     "name": "stderr",
     "output_type": "stream",
     "text": [
      "C:\\Users\\Rain\\AppData\\Local\\Temp\\ipykernel_23516\\2431815014.py:15: RuntimeWarning: divide by zero encountered in double_scalars\n",
      "  quarter_eps.yoy_growth.iloc[i] = (quarter_eps.eps.iloc[i] - quarter_eps.eps.iloc[i+4]) / quarter_eps.eps.iloc[i+4]\n",
      "C:\\Users\\Rain\\AppData\\Local\\Temp\\ipykernel_23516\\2431815014.py:15: RuntimeWarning: divide by zero encountered in double_scalars\n",
      "  quarter_eps.yoy_growth.iloc[i] = (quarter_eps.eps.iloc[i] - quarter_eps.eps.iloc[i+4]) / quarter_eps.eps.iloc[i+4]\n"
     ]
    },
    {
     "name": "stdout",
     "output_type": "stream",
     "text": [
      "ALLT not selected\n",
      "ALLY not exsit\n",
      "ALNA not selected\n",
      "ALNY not selected\n",
      "ALOR data not enough\n",
      "ALOT not selected"
     ]
    },
    {
     "name": "stderr",
     "output_type": "stream",
     "text": [
      "C:\\Users\\Rain\\AppData\\Local\\Temp\\ipykernel_23516\\2431815014.py:15: RuntimeWarning: divide by zero encountered in double_scalars\n",
      "  quarter_eps.yoy_growth.iloc[i] = (quarter_eps.eps.iloc[i] - quarter_eps.eps.iloc[i+4]) / quarter_eps.eps.iloc[i+4]\n",
      "C:\\Users\\Rain\\AppData\\Local\\Temp\\ipykernel_23516\\2431815014.py:19: RuntimeWarning: invalid value encountered in double_scalars\n",
      "  quarter_eps.fixed_yoy_growth.iloc[i] = (quarter_eps.yoy_growth.iloc[i] + quarter_eps.yoy_growth.iloc[i+1]) / 2\n"
     ]
    },
    {
     "name": "stdout",
     "output_type": "stream",
     "text": [
      "\n",
      "ALPA data not enough\n"
     ]
    },
    {
     "name": "stderr",
     "output_type": "stream",
     "text": [
      "C:\\Users\\Rain\\AppData\\Local\\Temp\\ipykernel_23516\\2431815014.py:15: RuntimeWarning: divide by zero encountered in double_scalars\n",
      "  quarter_eps.yoy_growth.iloc[i] = (quarter_eps.eps.iloc[i] - quarter_eps.eps.iloc[i+4]) / quarter_eps.eps.iloc[i+4]\n",
      "C:\\Users\\Rain\\AppData\\Local\\Temp\\ipykernel_23516\\2431815014.py:19: RuntimeWarning: invalid value encountered in double_scalars\n",
      "  quarter_eps.fixed_yoy_growth.iloc[i] = (quarter_eps.yoy_growth.iloc[i] + quarter_eps.yoy_growth.iloc[i+1]) / 2\n",
      "C:\\Users\\Rain\\AppData\\Local\\Temp\\ipykernel_23516\\2431815014.py:15: RuntimeWarning: divide by zero encountered in double_scalars\n",
      "  quarter_eps.yoy_growth.iloc[i] = (quarter_eps.eps.iloc[i] - quarter_eps.eps.iloc[i+4]) / quarter_eps.eps.iloc[i+4]\n"
     ]
    },
    {
     "name": "stdout",
     "output_type": "stream",
     "text": [
      "ALPN not selected\n",
      "ALPP not selected\n",
      "ALR not selected\n",
      "ALRM not selected\n",
      "ALRN not selected"
     ]
    },
    {
     "name": "stderr",
     "output_type": "stream",
     "text": [
      "C:\\Users\\Rain\\AppData\\Local\\Temp\\ipykernel_23516\\2431815014.py:15: RuntimeWarning: divide by zero encountered in double_scalars\n",
      "  quarter_eps.yoy_growth.iloc[i] = (quarter_eps.eps.iloc[i] - quarter_eps.eps.iloc[i+4]) / quarter_eps.eps.iloc[i+4]\n",
      "C:\\Users\\Rain\\AppData\\Local\\Temp\\ipykernel_23516\\2431815014.py:15: RuntimeWarning: divide by zero encountered in double_scalars\n",
      "  quarter_eps.yoy_growth.iloc[i] = (quarter_eps.eps.iloc[i] - quarter_eps.eps.iloc[i+4]) / quarter_eps.eps.iloc[i+4]\n"
     ]
    },
    {
     "name": "stdout",
     "output_type": "stream",
     "text": [
      "\n",
      "ALRS not selected\n",
      "ALSA data not enough\n"
     ]
    },
    {
     "name": "stderr",
     "output_type": "stream",
     "text": [
      "C:\\Users\\Rain\\AppData\\Local\\Temp\\ipykernel_23516\\2431815014.py:15: RuntimeWarning: divide by zero encountered in double_scalars\n",
      "  quarter_eps.yoy_growth.iloc[i] = (quarter_eps.eps.iloc[i] - quarter_eps.eps.iloc[i+4]) / quarter_eps.eps.iloc[i+4]\n",
      "C:\\Users\\Rain\\AppData\\Local\\Temp\\ipykernel_23516\\2431815014.py:15: RuntimeWarning: divide by zero encountered in double_scalars\n",
      "  quarter_eps.yoy_growth.iloc[i] = (quarter_eps.eps.iloc[i] - quarter_eps.eps.iloc[i+4]) / quarter_eps.eps.iloc[i+4]\n",
      "C:\\Users\\Rain\\AppData\\Local\\Temp\\ipykernel_23516\\2431815014.py:15: RuntimeWarning: divide by zero encountered in double_scalars\n",
      "  quarter_eps.yoy_growth.iloc[i] = (quarter_eps.eps.iloc[i] - quarter_eps.eps.iloc[i+4]) / quarter_eps.eps.iloc[i+4]\n",
      "C:\\Users\\Rain\\AppData\\Local\\Temp\\ipykernel_23516\\2431815014.py:15: RuntimeWarning: divide by zero encountered in double_scalars\n",
      "  quarter_eps.yoy_growth.iloc[i] = (quarter_eps.eps.iloc[i] - quarter_eps.eps.iloc[i+4]) / quarter_eps.eps.iloc[i+4]\n",
      "C:\\Users\\Rain\\AppData\\Local\\Temp\\ipykernel_23516\\2431815014.py:19: RuntimeWarning: invalid value encountered in double_scalars\n",
      "  quarter_eps.fixed_yoy_growth.iloc[i] = (quarter_eps.yoy_growth.iloc[i] + quarter_eps.yoy_growth.iloc[i+1]) / 2\n"
     ]
    },
    {
     "name": "stdout",
     "output_type": "stream",
     "text": [
      "ALSN not selected\n",
      "ALT not selected\n",
      "ALTG not selected\n",
      "ALTO selected\n",
      "ALTR selected\n"
     ]
    },
    {
     "name": "stderr",
     "output_type": "stream",
     "text": [
      "C:\\Users\\Rain\\AppData\\Local\\Temp\\ipykernel_23516\\2431815014.py:15: RuntimeWarning: divide by zero encountered in double_scalars\n",
      "  quarter_eps.yoy_growth.iloc[i] = (quarter_eps.eps.iloc[i] - quarter_eps.eps.iloc[i+4]) / quarter_eps.eps.iloc[i+4]\n",
      "C:\\Users\\Rain\\AppData\\Local\\Temp\\ipykernel_23516\\2431815014.py:15: RuntimeWarning: divide by zero encountered in double_scalars\n",
      "  quarter_eps.yoy_growth.iloc[i] = (quarter_eps.eps.iloc[i] - quarter_eps.eps.iloc[i+4]) / quarter_eps.eps.iloc[i+4]\n",
      "C:\\Users\\Rain\\AppData\\Local\\Temp\\ipykernel_23516\\2431815014.py:19: RuntimeWarning: invalid value encountered in double_scalars\n",
      "  quarter_eps.fixed_yoy_growth.iloc[i] = (quarter_eps.yoy_growth.iloc[i] + quarter_eps.yoy_growth.iloc[i+1]) / 2\n"
     ]
    },
    {
     "name": "stdout",
     "output_type": "stream",
     "text": [
      "ALTU not selected\n",
      "ALV not selected\n",
      "ALVO not selected"
     ]
    },
    {
     "name": "stderr",
     "output_type": "stream",
     "text": [
      "C:\\Users\\Rain\\AppData\\Local\\Temp\\ipykernel_23516\\2431815014.py:15: RuntimeWarning: divide by zero encountered in double_scalars\n",
      "  quarter_eps.yoy_growth.iloc[i] = (quarter_eps.eps.iloc[i] - quarter_eps.eps.iloc[i+4]) / quarter_eps.eps.iloc[i+4]\n",
      "C:\\Users\\Rain\\AppData\\Local\\Temp\\ipykernel_23516\\2431815014.py:19: RuntimeWarning: invalid value encountered in double_scalars\n",
      "  quarter_eps.fixed_yoy_growth.iloc[i] = (quarter_eps.yoy_growth.iloc[i] + quarter_eps.yoy_growth.iloc[i+1]) / 2\n",
      "C:\\Users\\Rain\\AppData\\Local\\Temp\\ipykernel_23516\\2431815014.py:15: RuntimeWarning: divide by zero encountered in double_scalars\n",
      "  quarter_eps.yoy_growth.iloc[i] = (quarter_eps.eps.iloc[i] - quarter_eps.eps.iloc[i+4]) / quarter_eps.eps.iloc[i+4]\n"
     ]
    },
    {
     "name": "stdout",
     "output_type": "stream",
     "text": [
      "\n",
      "ALVR not selected\n"
     ]
    },
    {
     "name": "stderr",
     "output_type": "stream",
     "text": [
      "C:\\Users\\Rain\\AppData\\Local\\Temp\\ipykernel_23516\\2431815014.py:15: RuntimeWarning: divide by zero encountered in double_scalars\n",
      "  quarter_eps.yoy_growth.iloc[i] = (quarter_eps.eps.iloc[i] - quarter_eps.eps.iloc[i+4]) / quarter_eps.eps.iloc[i+4]\n",
      "C:\\Users\\Rain\\AppData\\Local\\Temp\\ipykernel_23516\\2431815014.py:15: RuntimeWarning: divide by zero encountered in double_scalars\n",
      "  quarter_eps.yoy_growth.iloc[i] = (quarter_eps.eps.iloc[i] - quarter_eps.eps.iloc[i+4]) / quarter_eps.eps.iloc[i+4]\n",
      "C:\\Users\\Rain\\AppData\\Local\\Temp\\ipykernel_23516\\2431815014.py:15: RuntimeWarning: invalid value encountered in double_scalars\n",
      "  quarter_eps.yoy_growth.iloc[i] = (quarter_eps.eps.iloc[i] - quarter_eps.eps.iloc[i+4]) / quarter_eps.eps.iloc[i+4]\n",
      "C:\\Users\\Rain\\AppData\\Local\\Temp\\ipykernel_23516\\2431815014.py:15: RuntimeWarning: divide by zero encountered in double_scalars\n",
      "  quarter_eps.yoy_growth.iloc[i] = (quarter_eps.eps.iloc[i] - quarter_eps.eps.iloc[i+4]) / quarter_eps.eps.iloc[i+4]\n"
     ]
    },
    {
     "name": "stdout",
     "output_type": "stream",
     "text": [
      "ALX not selected\n",
      "ALXO selected\n",
      "ALYA not selected\n",
      "ALZN selected"
     ]
    },
    {
     "name": "stderr",
     "output_type": "stream",
     "text": [
      "C:\\Users\\Rain\\AppData\\Local\\Temp\\ipykernel_23516\\2431815014.py:15: RuntimeWarning: divide by zero encountered in double_scalars\n",
      "  quarter_eps.yoy_growth.iloc[i] = (quarter_eps.eps.iloc[i] - quarter_eps.eps.iloc[i+4]) / quarter_eps.eps.iloc[i+4]\n",
      "C:\\Users\\Rain\\AppData\\Local\\Temp\\ipykernel_23516\\2431815014.py:15: RuntimeWarning: invalid value encountered in double_scalars\n",
      "  quarter_eps.yoy_growth.iloc[i] = (quarter_eps.eps.iloc[i] - quarter_eps.eps.iloc[i+4]) / quarter_eps.eps.iloc[i+4]\n",
      "C:\\Users\\Rain\\AppData\\Local\\Temp\\ipykernel_23516\\2431815014.py:19: RuntimeWarning: invalid value encountered in double_scalars\n",
      "  quarter_eps.fixed_yoy_growth.iloc[i] = (quarter_eps.yoy_growth.iloc[i] + quarter_eps.yoy_growth.iloc[i+1]) / 2\n",
      "C:\\Users\\Rain\\AppData\\Local\\Temp\\ipykernel_23516\\2431815014.py:15: RuntimeWarning: divide by zero encountered in double_scalars\n",
      "  quarter_eps.yoy_growth.iloc[i] = (quarter_eps.eps.iloc[i] - quarter_eps.eps.iloc[i+4]) / quarter_eps.eps.iloc[i+4]\n"
     ]
    },
    {
     "name": "stdout",
     "output_type": "stream",
     "text": [
      "\n",
      "AM not selected\n",
      "AMAL not selected\n",
      "AMAM data not enough\n",
      "AMAO data not enough\n",
      "AMAT not selected\n"
     ]
    },
    {
     "name": "stderr",
     "output_type": "stream",
     "text": [
      "C:\\Users\\Rain\\AppData\\Local\\Temp\\ipykernel_23516\\2431815014.py:15: RuntimeWarning: divide by zero encountered in double_scalars\n",
      "  quarter_eps.yoy_growth.iloc[i] = (quarter_eps.eps.iloc[i] - quarter_eps.eps.iloc[i+4]) / quarter_eps.eps.iloc[i+4]\n",
      "C:\\Users\\Rain\\AppData\\Local\\Temp\\ipykernel_23516\\2431815014.py:15: RuntimeWarning: divide by zero encountered in double_scalars\n",
      "  quarter_eps.yoy_growth.iloc[i] = (quarter_eps.eps.iloc[i] - quarter_eps.eps.iloc[i+4]) / quarter_eps.eps.iloc[i+4]\n",
      "C:\\Users\\Rain\\AppData\\Local\\Temp\\ipykernel_23516\\2431815014.py:15: RuntimeWarning: invalid value encountered in double_scalars\n",
      "  quarter_eps.yoy_growth.iloc[i] = (quarter_eps.eps.iloc[i] - quarter_eps.eps.iloc[i+4]) / quarter_eps.eps.iloc[i+4]\n"
     ]
    },
    {
     "name": "stdout",
     "output_type": "stream",
     "text": [
      "AMBA not selected\n",
      "AMBC not selected\n"
     ]
    },
    {
     "name": "stderr",
     "output_type": "stream",
     "text": [
      "C:\\Users\\Rain\\AppData\\Local\\Temp\\ipykernel_23516\\2431815014.py:15: RuntimeWarning: divide by zero encountered in double_scalars\n",
      "  quarter_eps.yoy_growth.iloc[i] = (quarter_eps.eps.iloc[i] - quarter_eps.eps.iloc[i+4]) / quarter_eps.eps.iloc[i+4]\n"
     ]
    },
    {
     "name": "stdout",
     "output_type": "stream",
     "text": [
      "AMBO selected\n",
      "AMBP selected\n"
     ]
    },
    {
     "name": "stderr",
     "output_type": "stream",
     "text": [
      "C:\\Users\\Rain\\AppData\\Local\\Temp\\ipykernel_23516\\2431815014.py:15: RuntimeWarning: divide by zero encountered in double_scalars\n",
      "  quarter_eps.yoy_growth.iloc[i] = (quarter_eps.eps.iloc[i] - quarter_eps.eps.iloc[i+4]) / quarter_eps.eps.iloc[i+4]\n",
      "C:\\Users\\Rain\\AppData\\Local\\Temp\\ipykernel_23516\\2431815014.py:15: RuntimeWarning: divide by zero encountered in double_scalars\n",
      "  quarter_eps.yoy_growth.iloc[i] = (quarter_eps.eps.iloc[i] - quarter_eps.eps.iloc[i+4]) / quarter_eps.eps.iloc[i+4]\n",
      "C:\\Users\\Rain\\AppData\\Local\\Temp\\ipykernel_23516\\2431815014.py:15: RuntimeWarning: invalid value encountered in double_scalars\n",
      "  quarter_eps.yoy_growth.iloc[i] = (quarter_eps.eps.iloc[i] - quarter_eps.eps.iloc[i+4]) / quarter_eps.eps.iloc[i+4]\n"
     ]
    },
    {
     "name": "stdout",
     "output_type": "stream",
     "text": [
      "AMC not selected\n",
      "AMCI data not enough\n",
      "AMCR not selected\n",
      "AMCX selected\n"
     ]
    },
    {
     "name": "stderr",
     "output_type": "stream",
     "text": [
      "C:\\Users\\Rain\\AppData\\Local\\Temp\\ipykernel_23516\\2431815014.py:15: RuntimeWarning: divide by zero encountered in double_scalars\n",
      "  quarter_eps.yoy_growth.iloc[i] = (quarter_eps.eps.iloc[i] - quarter_eps.eps.iloc[i+4]) / quarter_eps.eps.iloc[i+4]\n"
     ]
    },
    {
     "name": "stdout",
     "output_type": "stream",
     "text": [
      "AMD not selected\n",
      "AME not selected\n",
      "AMED not selected\n",
      "AMEH not selected\n"
     ]
    },
    {
     "name": "stderr",
     "output_type": "stream",
     "text": [
      "C:\\Users\\Rain\\AppData\\Local\\Temp\\ipykernel_23516\\2431815014.py:15: RuntimeWarning: divide by zero encountered in double_scalars\n",
      "  quarter_eps.yoy_growth.iloc[i] = (quarter_eps.eps.iloc[i] - quarter_eps.eps.iloc[i+4]) / quarter_eps.eps.iloc[i+4]\n"
     ]
    },
    {
     "name": "stdout",
     "output_type": "stream",
     "text": [
      "AMG not selected\n",
      "AMGN selected\n"
     ]
    },
    {
     "name": "stderr",
     "output_type": "stream",
     "text": [
      "C:\\Users\\Rain\\AppData\\Local\\Temp\\ipykernel_23516\\2431815014.py:15: RuntimeWarning: divide by zero encountered in double_scalars\n",
      "  quarter_eps.yoy_growth.iloc[i] = (quarter_eps.eps.iloc[i] - quarter_eps.eps.iloc[i+4]) / quarter_eps.eps.iloc[i+4]\n",
      "C:\\Users\\Rain\\AppData\\Local\\Temp\\ipykernel_23516\\2431815014.py:15: RuntimeWarning: divide by zero encountered in double_scalars\n",
      "  quarter_eps.yoy_growth.iloc[i] = (quarter_eps.eps.iloc[i] - quarter_eps.eps.iloc[i+4]) / quarter_eps.eps.iloc[i+4]\n"
     ]
    },
    {
     "name": "stdout",
     "output_type": "stream",
     "text": [
      "AMH selected\n",
      "AMK selected\n"
     ]
    },
    {
     "name": "stderr",
     "output_type": "stream",
     "text": [
      "C:\\Users\\Rain\\AppData\\Local\\Temp\\ipykernel_23516\\2431815014.py:15: RuntimeWarning: divide by zero encountered in double_scalars\n",
      "  quarter_eps.yoy_growth.iloc[i] = (quarter_eps.eps.iloc[i] - quarter_eps.eps.iloc[i+4]) / quarter_eps.eps.iloc[i+4]\n",
      "C:\\Users\\Rain\\AppData\\Local\\Temp\\ipykernel_23516\\2431815014.py:15: RuntimeWarning: divide by zero encountered in double_scalars\n",
      "  quarter_eps.yoy_growth.iloc[i] = (quarter_eps.eps.iloc[i] - quarter_eps.eps.iloc[i+4]) / quarter_eps.eps.iloc[i+4]\n"
     ]
    },
    {
     "name": "stdout",
     "output_type": "stream",
     "text": [
      "AMKR not selected\n",
      "AMLX data not enough\n",
      "AMN selected\n",
      "AMNB not selected\n",
      "AMOT not selected\n",
      "AMOV not exsit\n",
      "AMP not selected\n"
     ]
    },
    {
     "name": "stderr",
     "output_type": "stream",
     "text": [
      "C:\\Users\\Rain\\AppData\\Local\\Temp\\ipykernel_23516\\2431815014.py:15: RuntimeWarning: divide by zero encountered in double_scalars\n",
      "  quarter_eps.yoy_growth.iloc[i] = (quarter_eps.eps.iloc[i] - quarter_eps.eps.iloc[i+4]) / quarter_eps.eps.iloc[i+4]\n",
      "C:\\Users\\Rain\\AppData\\Local\\Temp\\ipykernel_23516\\2431815014.py:15: RuntimeWarning: divide by zero encountered in double_scalars\n",
      "  quarter_eps.yoy_growth.iloc[i] = (quarter_eps.eps.iloc[i] - quarter_eps.eps.iloc[i+4]) / quarter_eps.eps.iloc[i+4]\n"
     ]
    },
    {
     "name": "stdout",
     "output_type": "stream",
     "text": [
      "AMPE not selected\n",
      "AMPG not selected\n"
     ]
    },
    {
     "name": "stderr",
     "output_type": "stream",
     "text": [
      "C:\\Users\\Rain\\AppData\\Local\\Temp\\ipykernel_23516\\2431815014.py:15: RuntimeWarning: divide by zero encountered in double_scalars\n",
      "  quarter_eps.yoy_growth.iloc[i] = (quarter_eps.eps.iloc[i] - quarter_eps.eps.iloc[i+4]) / quarter_eps.eps.iloc[i+4]\n",
      "C:\\Users\\Rain\\AppData\\Local\\Temp\\ipykernel_23516\\2431815014.py:15: RuntimeWarning: divide by zero encountered in double_scalars\n",
      "  quarter_eps.yoy_growth.iloc[i] = (quarter_eps.eps.iloc[i] - quarter_eps.eps.iloc[i+4]) / quarter_eps.eps.iloc[i+4]\n",
      "C:\\Users\\Rain\\AppData\\Local\\Temp\\ipykernel_23516\\2431815014.py:15: RuntimeWarning: divide by zero encountered in double_scalars\n",
      "  quarter_eps.yoy_growth.iloc[i] = (quarter_eps.eps.iloc[i] - quarter_eps.eps.iloc[i+4]) / quarter_eps.eps.iloc[i+4]\n"
     ]
    },
    {
     "name": "stdout",
     "output_type": "stream",
     "text": [
      "AMPH selected\n",
      "AMPI not selected\n",
      "AMPL not selected"
     ]
    },
    {
     "name": "stderr",
     "output_type": "stream",
     "text": [
      "C:\\Users\\Rain\\AppData\\Local\\Temp\\ipykernel_23516\\2431815014.py:15: RuntimeWarning: divide by zero encountered in double_scalars\n",
      "  quarter_eps.yoy_growth.iloc[i] = (quarter_eps.eps.iloc[i] - quarter_eps.eps.iloc[i+4]) / quarter_eps.eps.iloc[i+4]\n",
      "C:\\Users\\Rain\\AppData\\Local\\Temp\\ipykernel_23516\\2431815014.py:15: RuntimeWarning: divide by zero encountered in double_scalars\n",
      "  quarter_eps.yoy_growth.iloc[i] = (quarter_eps.eps.iloc[i] - quarter_eps.eps.iloc[i+4]) / quarter_eps.eps.iloc[i+4]\n",
      "C:\\Users\\Rain\\AppData\\Local\\Temp\\ipykernel_23516\\2431815014.py:15: RuntimeWarning: invalid value encountered in double_scalars\n",
      "  quarter_eps.yoy_growth.iloc[i] = (quarter_eps.eps.iloc[i] - quarter_eps.eps.iloc[i+4]) / quarter_eps.eps.iloc[i+4]\n"
     ]
    },
    {
     "name": "stdout",
     "output_type": "stream",
     "text": [
      "\n",
      "AMPS selected\n",
      "AMPY not selected\n"
     ]
    },
    {
     "name": "stderr",
     "output_type": "stream",
     "text": [
      "C:\\Users\\Rain\\AppData\\Local\\Temp\\ipykernel_23516\\2431815014.py:15: RuntimeWarning: divide by zero encountered in double_scalars\n",
      "  quarter_eps.yoy_growth.iloc[i] = (quarter_eps.eps.iloc[i] - quarter_eps.eps.iloc[i+4]) / quarter_eps.eps.iloc[i+4]\n"
     ]
    },
    {
     "name": "stdout",
     "output_type": "stream",
     "text": [
      "AMR not selected\n",
      "AMRC selected\n",
      "AMRK not selected\n"
     ]
    },
    {
     "name": "stderr",
     "output_type": "stream",
     "text": [
      "C:\\Users\\Rain\\AppData\\Local\\Temp\\ipykernel_23516\\2431815014.py:15: RuntimeWarning: divide by zero encountered in double_scalars\n",
      "  quarter_eps.yoy_growth.iloc[i] = (quarter_eps.eps.iloc[i] - quarter_eps.eps.iloc[i+4]) / quarter_eps.eps.iloc[i+4]\n",
      "C:\\Users\\Rain\\AppData\\Local\\Temp\\ipykernel_23516\\2431815014.py:15: RuntimeWarning: divide by zero encountered in double_scalars\n",
      "  quarter_eps.yoy_growth.iloc[i] = (quarter_eps.eps.iloc[i] - quarter_eps.eps.iloc[i+4]) / quarter_eps.eps.iloc[i+4]\n"
     ]
    },
    {
     "name": "stdout",
     "output_type": "stream",
     "text": [
      "AMRN not selected\n",
      "AMRS selected"
     ]
    },
    {
     "name": "stderr",
     "output_type": "stream",
     "text": [
      "C:\\Users\\Rain\\AppData\\Local\\Temp\\ipykernel_23516\\2431815014.py:15: RuntimeWarning: divide by zero encountered in double_scalars\n",
      "  quarter_eps.yoy_growth.iloc[i] = (quarter_eps.eps.iloc[i] - quarter_eps.eps.iloc[i+4]) / quarter_eps.eps.iloc[i+4]\n",
      "C:\\Users\\Rain\\AppData\\Local\\Temp\\ipykernel_23516\\2431815014.py:15: RuntimeWarning: divide by zero encountered in double_scalars\n",
      "  quarter_eps.yoy_growth.iloc[i] = (quarter_eps.eps.iloc[i] - quarter_eps.eps.iloc[i+4]) / quarter_eps.eps.iloc[i+4]\n",
      "C:\\Users\\Rain\\AppData\\Local\\Temp\\ipykernel_23516\\2431815014.py:15: RuntimeWarning: invalid value encountered in double_scalars\n",
      "  quarter_eps.yoy_growth.iloc[i] = (quarter_eps.eps.iloc[i] - quarter_eps.eps.iloc[i+4]) / quarter_eps.eps.iloc[i+4]\n",
      "C:\\Users\\Rain\\AppData\\Local\\Temp\\ipykernel_23516\\2431815014.py:19: RuntimeWarning: invalid value encountered in double_scalars\n",
      "  quarter_eps.fixed_yoy_growth.iloc[i] = (quarter_eps.yoy_growth.iloc[i] + quarter_eps.yoy_growth.iloc[i+1]) / 2\n"
     ]
    },
    {
     "name": "stdout",
     "output_type": "stream",
     "text": [
      "\n",
      "AMRX not exsit\n",
      "AMS selected\n",
      "AMSC not selected\n",
      "AMSF not selected\n",
      "AMST data not enough\n",
      "AMSWA not selected\n",
      "AMT not selected\n",
      "AMTB not selected\n"
     ]
    },
    {
     "name": "stderr",
     "output_type": "stream",
     "text": [
      "C:\\Users\\Rain\\AppData\\Local\\Temp\\ipykernel_23516\\2431815014.py:15: RuntimeWarning: divide by zero encountered in double_scalars\n",
      "  quarter_eps.yoy_growth.iloc[i] = (quarter_eps.eps.iloc[i] - quarter_eps.eps.iloc[i+4]) / quarter_eps.eps.iloc[i+4]\n",
      "C:\\Users\\Rain\\AppData\\Local\\Temp\\ipykernel_23516\\2431815014.py:15: RuntimeWarning: divide by zero encountered in double_scalars\n",
      "  quarter_eps.yoy_growth.iloc[i] = (quarter_eps.eps.iloc[i] - quarter_eps.eps.iloc[i+4]) / quarter_eps.eps.iloc[i+4]\n"
     ]
    },
    {
     "name": "stdout",
     "output_type": "stream",
     "text": [
      "AMTD data not enough\n",
      "AMTI not selected\n",
      "AMTX not selected\n",
      "AMWD selected\n"
     ]
    },
    {
     "name": "stderr",
     "output_type": "stream",
     "text": [
      "C:\\Users\\Rain\\AppData\\Local\\Temp\\ipykernel_23516\\2431815014.py:15: RuntimeWarning: divide by zero encountered in double_scalars\n",
      "  quarter_eps.yoy_growth.iloc[i] = (quarter_eps.eps.iloc[i] - quarter_eps.eps.iloc[i+4]) / quarter_eps.eps.iloc[i+4]\n",
      "C:\\Users\\Rain\\AppData\\Local\\Temp\\ipykernel_23516\\2431815014.py:15: RuntimeWarning: divide by zero encountered in double_scalars\n",
      "  quarter_eps.yoy_growth.iloc[i] = (quarter_eps.eps.iloc[i] - quarter_eps.eps.iloc[i+4]) / quarter_eps.eps.iloc[i+4]\n",
      "C:\\Users\\Rain\\AppData\\Local\\Temp\\ipykernel_23516\\2431815014.py:15: RuntimeWarning: divide by zero encountered in double_scalars\n",
      "  quarter_eps.yoy_growth.iloc[i] = (quarter_eps.eps.iloc[i] - quarter_eps.eps.iloc[i+4]) / quarter_eps.eps.iloc[i+4]\n"
     ]
    },
    {
     "name": "stdout",
     "output_type": "stream",
     "text": [
      "AMWL not selected\n",
      "AMX selected\n"
     ]
    },
    {
     "name": "stderr",
     "output_type": "stream",
     "text": [
      "C:\\Users\\Rain\\AppData\\Local\\Temp\\ipykernel_23516\\2431815014.py:15: RuntimeWarning: divide by zero encountered in double_scalars\n",
      "  quarter_eps.yoy_growth.iloc[i] = (quarter_eps.eps.iloc[i] - quarter_eps.eps.iloc[i+4]) / quarter_eps.eps.iloc[i+4]\n",
      "C:\\Users\\Rain\\AppData\\Local\\Temp\\ipykernel_23516\\2431815014.py:15: RuntimeWarning: divide by zero encountered in double_scalars\n",
      "  quarter_eps.yoy_growth.iloc[i] = (quarter_eps.eps.iloc[i] - quarter_eps.eps.iloc[i+4]) / quarter_eps.eps.iloc[i+4]\n",
      "C:\\Users\\Rain\\AppData\\Local\\Temp\\ipykernel_23516\\2431815014.py:15: RuntimeWarning: invalid value encountered in double_scalars\n",
      "  quarter_eps.yoy_growth.iloc[i] = (quarter_eps.eps.iloc[i] - quarter_eps.eps.iloc[i+4]) / quarter_eps.eps.iloc[i+4]\n"
     ]
    },
    {
     "name": "stdout",
     "output_type": "stream",
     "text": [
      "AMYT not selected\n",
      "AMZN not selected\n"
     ]
    },
    {
     "name": "stderr",
     "output_type": "stream",
     "text": [
      "C:\\Users\\Rain\\AppData\\Local\\Temp\\ipykernel_23516\\2431815014.py:15: RuntimeWarning: divide by zero encountered in double_scalars\n",
      "  quarter_eps.yoy_growth.iloc[i] = (quarter_eps.eps.iloc[i] - quarter_eps.eps.iloc[i+4]) / quarter_eps.eps.iloc[i+4]\n",
      "C:\\Users\\Rain\\AppData\\Local\\Temp\\ipykernel_23516\\2431815014.py:19: RuntimeWarning: invalid value encountered in double_scalars\n",
      "  quarter_eps.fixed_yoy_growth.iloc[i] = (quarter_eps.yoy_growth.iloc[i] + quarter_eps.yoy_growth.iloc[i+1]) / 2\n",
      "C:\\Users\\Rain\\AppData\\Local\\Temp\\ipykernel_23516\\2431815014.py:15: RuntimeWarning: divide by zero encountered in double_scalars\n",
      "  quarter_eps.yoy_growth.iloc[i] = (quarter_eps.eps.iloc[i] - quarter_eps.eps.iloc[i+4]) / quarter_eps.eps.iloc[i+4]\n"
     ]
    },
    {
     "name": "stdout",
     "output_type": "stream",
     "text": [
      "AN not selected\n",
      "ANAB selected\n",
      "ANAC not selected\n",
      "ANDE not selected\n",
      "ANEB not selected\n",
      "ANET selected"
     ]
    },
    {
     "name": "stderr",
     "output_type": "stream",
     "text": [
      "C:\\Users\\Rain\\AppData\\Local\\Temp\\ipykernel_23516\\2431815014.py:15: RuntimeWarning: divide by zero encountered in double_scalars\n",
      "  quarter_eps.yoy_growth.iloc[i] = (quarter_eps.eps.iloc[i] - quarter_eps.eps.iloc[i+4]) / quarter_eps.eps.iloc[i+4]\n",
      "C:\\Users\\Rain\\AppData\\Local\\Temp\\ipykernel_23516\\2431815014.py:15: RuntimeWarning: divide by zero encountered in double_scalars\n",
      "  quarter_eps.yoy_growth.iloc[i] = (quarter_eps.eps.iloc[i] - quarter_eps.eps.iloc[i+4]) / quarter_eps.eps.iloc[i+4]\n"
     ]
    },
    {
     "name": "stdout",
     "output_type": "stream",
     "text": [
      "\n",
      "ANF not selected\n"
     ]
    },
    {
     "name": "stderr",
     "output_type": "stream",
     "text": [
      "C:\\Users\\Rain\\AppData\\Local\\Temp\\ipykernel_23516\\2431815014.py:15: RuntimeWarning: divide by zero encountered in double_scalars\n",
      "  quarter_eps.yoy_growth.iloc[i] = (quarter_eps.eps.iloc[i] - quarter_eps.eps.iloc[i+4]) / quarter_eps.eps.iloc[i+4]\n",
      "C:\\Users\\Rain\\AppData\\Local\\Temp\\ipykernel_23516\\2431815014.py:15: RuntimeWarning: divide by zero encountered in double_scalars\n",
      "  quarter_eps.yoy_growth.iloc[i] = (quarter_eps.eps.iloc[i] - quarter_eps.eps.iloc[i+4]) / quarter_eps.eps.iloc[i+4]\n"
     ]
    },
    {
     "name": "stdout",
     "output_type": "stream",
     "text": [
      "ANGH not selected\n",
      "ANGI not selected\n"
     ]
    },
    {
     "name": "stderr",
     "output_type": "stream",
     "text": [
      "C:\\Users\\Rain\\AppData\\Local\\Temp\\ipykernel_23516\\2431815014.py:15: RuntimeWarning: divide by zero encountered in double_scalars\n",
      "  quarter_eps.yoy_growth.iloc[i] = (quarter_eps.eps.iloc[i] - quarter_eps.eps.iloc[i+4]) / quarter_eps.eps.iloc[i+4]\n",
      "C:\\Users\\Rain\\AppData\\Local\\Temp\\ipykernel_23516\\2431815014.py:15: RuntimeWarning: divide by zero encountered in double_scalars\n",
      "  quarter_eps.yoy_growth.iloc[i] = (quarter_eps.eps.iloc[i] - quarter_eps.eps.iloc[i+4]) / quarter_eps.eps.iloc[i+4]\n"
     ]
    },
    {
     "name": "stdout",
     "output_type": "stream",
     "text": [
      "ANGN not selected\n",
      "ANGO not selected\n",
      "ANIK not selected\n",
      "ANIP not exsit\n",
      "ANIX not selected\n"
     ]
    },
    {
     "name": "stderr",
     "output_type": "stream",
     "text": [
      "C:\\Users\\Rain\\AppData\\Local\\Temp\\ipykernel_23516\\2431815014.py:15: RuntimeWarning: divide by zero encountered in double_scalars\n",
      "  quarter_eps.yoy_growth.iloc[i] = (quarter_eps.eps.iloc[i] - quarter_eps.eps.iloc[i+4]) / quarter_eps.eps.iloc[i+4]\n",
      "C:\\Users\\Rain\\AppData\\Local\\Temp\\ipykernel_23516\\2431815014.py:15: RuntimeWarning: divide by zero encountered in double_scalars\n",
      "  quarter_eps.yoy_growth.iloc[i] = (quarter_eps.eps.iloc[i] - quarter_eps.eps.iloc[i+4]) / quarter_eps.eps.iloc[i+4]\n"
     ]
    },
    {
     "name": "stdout",
     "output_type": "stream",
     "text": [
      "ANNX not selected\n",
      "ANPC data not enough\n",
      "ANSS not selected\n",
      "ANTE not selected\n"
     ]
    },
    {
     "name": "stderr",
     "output_type": "stream",
     "text": [
      "C:\\Users\\Rain\\AppData\\Local\\Temp\\ipykernel_23516\\2431815014.py:15: RuntimeWarning: invalid value encountered in double_scalars\n",
      "  quarter_eps.yoy_growth.iloc[i] = (quarter_eps.eps.iloc[i] - quarter_eps.eps.iloc[i+4]) / quarter_eps.eps.iloc[i+4]\n"
     ]
    },
    {
     "name": "stdout",
     "output_type": "stream",
     "text": [
      "ANTX data not enough\n",
      "ANVS selected\n"
     ]
    },
    {
     "name": "stderr",
     "output_type": "stream",
     "text": [
      "C:\\Users\\Rain\\AppData\\Local\\Temp\\ipykernel_23516\\2431815014.py:15: RuntimeWarning: divide by zero encountered in double_scalars\n",
      "  quarter_eps.yoy_growth.iloc[i] = (quarter_eps.eps.iloc[i] - quarter_eps.eps.iloc[i+4]) / quarter_eps.eps.iloc[i+4]\n",
      "C:\\Users\\Rain\\AppData\\Local\\Temp\\ipykernel_23516\\2431815014.py:15: RuntimeWarning: divide by zero encountered in double_scalars\n",
      "  quarter_eps.yoy_growth.iloc[i] = (quarter_eps.eps.iloc[i] - quarter_eps.eps.iloc[i+4]) / quarter_eps.eps.iloc[i+4]\n"
     ]
    },
    {
     "name": "stdout",
     "output_type": "stream",
     "text": [
      "ANY selected\n",
      "ANZU selected\n"
     ]
    },
    {
     "name": "stderr",
     "output_type": "stream",
     "text": [
      "C:\\Users\\Rain\\AppData\\Local\\Temp\\ipykernel_23516\\2431815014.py:15: RuntimeWarning: divide by zero encountered in double_scalars\n",
      "  quarter_eps.yoy_growth.iloc[i] = (quarter_eps.eps.iloc[i] - quarter_eps.eps.iloc[i+4]) / quarter_eps.eps.iloc[i+4]\n"
     ]
    },
    {
     "name": "stdout",
     "output_type": "stream",
     "text": [
      "AOGO data not enough\n",
      "AOMR not selected\n"
     ]
    },
    {
     "name": "stderr",
     "output_type": "stream",
     "text": [
      "C:\\Users\\Rain\\AppData\\Local\\Temp\\ipykernel_23516\\2431815014.py:15: RuntimeWarning: divide by zero encountered in double_scalars\n",
      "  quarter_eps.yoy_growth.iloc[i] = (quarter_eps.eps.iloc[i] - quarter_eps.eps.iloc[i+4]) / quarter_eps.eps.iloc[i+4]\n"
     ]
    },
    {
     "name": "stdout",
     "output_type": "stream",
     "text": [
      "AON not selected\n",
      "AORT not selected\n"
     ]
    },
    {
     "name": "stderr",
     "output_type": "stream",
     "text": [
      "C:\\Users\\Rain\\AppData\\Local\\Temp\\ipykernel_23516\\2431815014.py:15: RuntimeWarning: divide by zero encountered in double_scalars\n",
      "  quarter_eps.yoy_growth.iloc[i] = (quarter_eps.eps.iloc[i] - quarter_eps.eps.iloc[i+4]) / quarter_eps.eps.iloc[i+4]\n"
     ]
    },
    {
     "name": "stdout",
     "output_type": "stream",
     "text": [
      "AOS not selected\n",
      "AOSL not selected\n"
     ]
    },
    {
     "name": "stderr",
     "output_type": "stream",
     "text": [
      "C:\\Users\\Rain\\AppData\\Local\\Temp\\ipykernel_23516\\2431815014.py:15: RuntimeWarning: divide by zero encountered in double_scalars\n",
      "  quarter_eps.yoy_growth.iloc[i] = (quarter_eps.eps.iloc[i] - quarter_eps.eps.iloc[i+4]) / quarter_eps.eps.iloc[i+4]\n",
      "C:\\Users\\Rain\\AppData\\Local\\Temp\\ipykernel_23516\\2431815014.py:15: RuntimeWarning: divide by zero encountered in double_scalars\n",
      "  quarter_eps.yoy_growth.iloc[i] = (quarter_eps.eps.iloc[i] - quarter_eps.eps.iloc[i+4]) / quarter_eps.eps.iloc[i+4]\n"
     ]
    },
    {
     "name": "stdout",
     "output_type": "stream",
     "text": [
      "AOUT not selected\n",
      "AP selected\n",
      "APA selected\n",
      "APAC data not enough\n",
      "APAM not selected"
     ]
    },
    {
     "name": "stderr",
     "output_type": "stream",
     "text": [
      "C:\\Users\\Rain\\AppData\\Local\\Temp\\ipykernel_23516\\2431815014.py:15: RuntimeWarning: divide by zero encountered in double_scalars\n",
      "  quarter_eps.yoy_growth.iloc[i] = (quarter_eps.eps.iloc[i] - quarter_eps.eps.iloc[i+4]) / quarter_eps.eps.iloc[i+4]\n",
      "C:\\Users\\Rain\\AppData\\Local\\Temp\\ipykernel_23516\\2431815014.py:15: RuntimeWarning: invalid value encountered in double_scalars\n",
      "  quarter_eps.yoy_growth.iloc[i] = (quarter_eps.eps.iloc[i] - quarter_eps.eps.iloc[i+4]) / quarter_eps.eps.iloc[i+4]\n"
     ]
    },
    {
     "name": "stdout",
     "output_type": "stream",
     "text": [
      "\n",
      "APCA data not enough\n",
      "APCX not exsit\n",
      "APD not selected\n",
      "APDN not selected\n"
     ]
    },
    {
     "name": "stderr",
     "output_type": "stream",
     "text": [
      "C:\\Users\\Rain\\AppData\\Local\\Temp\\ipykernel_23516\\2431815014.py:15: RuntimeWarning: divide by zero encountered in double_scalars\n",
      "  quarter_eps.yoy_growth.iloc[i] = (quarter_eps.eps.iloc[i] - quarter_eps.eps.iloc[i+4]) / quarter_eps.eps.iloc[i+4]\n",
      "C:\\Users\\Rain\\AppData\\Local\\Temp\\ipykernel_23516\\2431815014.py:15: RuntimeWarning: invalid value encountered in double_scalars\n",
      "  quarter_eps.yoy_growth.iloc[i] = (quarter_eps.eps.iloc[i] - quarter_eps.eps.iloc[i+4]) / quarter_eps.eps.iloc[i+4]\n",
      "C:\\Users\\Rain\\AppData\\Local\\Temp\\ipykernel_23516\\2431815014.py:15: RuntimeWarning: divide by zero encountered in double_scalars\n",
      "  quarter_eps.yoy_growth.iloc[i] = (quarter_eps.eps.iloc[i] - quarter_eps.eps.iloc[i+4]) / quarter_eps.eps.iloc[i+4]\n"
     ]
    },
    {
     "name": "stdout",
     "output_type": "stream",
     "text": [
      "APEI not selected\n",
      "APEN selected\n"
     ]
    },
    {
     "name": "stderr",
     "output_type": "stream",
     "text": [
      "C:\\Users\\Rain\\AppData\\Local\\Temp\\ipykernel_23516\\2431815014.py:15: RuntimeWarning: divide by zero encountered in double_scalars\n",
      "  quarter_eps.yoy_growth.iloc[i] = (quarter_eps.eps.iloc[i] - quarter_eps.eps.iloc[i+4]) / quarter_eps.eps.iloc[i+4]\n",
      "C:\\Users\\Rain\\AppData\\Local\\Temp\\ipykernel_23516\\2431815014.py:15: RuntimeWarning: invalid value encountered in double_scalars\n",
      "  quarter_eps.yoy_growth.iloc[i] = (quarter_eps.eps.iloc[i] - quarter_eps.eps.iloc[i+4]) / quarter_eps.eps.iloc[i+4]\n",
      "C:\\Users\\Rain\\AppData\\Local\\Temp\\ipykernel_23516\\2431815014.py:19: RuntimeWarning: invalid value encountered in double_scalars\n",
      "  quarter_eps.fixed_yoy_growth.iloc[i] = (quarter_eps.yoy_growth.iloc[i] + quarter_eps.yoy_growth.iloc[i+1]) / 2\n",
      "C:\\Users\\Rain\\AppData\\Local\\Temp\\ipykernel_23516\\2431815014.py:15: RuntimeWarning: divide by zero encountered in double_scalars\n",
      "  quarter_eps.yoy_growth.iloc[i] = (quarter_eps.eps.iloc[i] - quarter_eps.eps.iloc[i+4]) / quarter_eps.eps.iloc[i+4]\n",
      "C:\\Users\\Rain\\AppData\\Local\\Temp\\ipykernel_23516\\2431815014.py:19: RuntimeWarning: invalid value encountered in double_scalars\n",
      "  quarter_eps.fixed_yoy_growth.iloc[i] = (quarter_eps.yoy_growth.iloc[i] + quarter_eps.yoy_growth.iloc[i+1]) / 2\n"
     ]
    },
    {
     "name": "stdout",
     "output_type": "stream",
     "text": [
      "APG not selected\n",
      "APGB not selected\n"
     ]
    },
    {
     "name": "stderr",
     "output_type": "stream",
     "text": [
      "C:\\Users\\Rain\\AppData\\Local\\Temp\\ipykernel_23516\\2431815014.py:15: RuntimeWarning: divide by zero encountered in double_scalars\n",
      "  quarter_eps.yoy_growth.iloc[i] = (quarter_eps.eps.iloc[i] - quarter_eps.eps.iloc[i+4]) / quarter_eps.eps.iloc[i+4]\n",
      "C:\\Users\\Rain\\AppData\\Local\\Temp\\ipykernel_23516\\2431815014.py:19: RuntimeWarning: invalid value encountered in double_scalars\n",
      "  quarter_eps.fixed_yoy_growth.iloc[i] = (quarter_eps.yoy_growth.iloc[i] + quarter_eps.yoy_growth.iloc[i+1]) / 2\n"
     ]
    },
    {
     "name": "stdout",
     "output_type": "stream",
     "text": [
      "APGN selected\n",
      "APH selected\n"
     ]
    },
    {
     "name": "stderr",
     "output_type": "stream",
     "text": [
      "C:\\Users\\Rain\\AppData\\Local\\Temp\\ipykernel_23516\\2431815014.py:15: RuntimeWarning: divide by zero encountered in double_scalars\n",
      "  quarter_eps.yoy_growth.iloc[i] = (quarter_eps.eps.iloc[i] - quarter_eps.eps.iloc[i+4]) / quarter_eps.eps.iloc[i+4]\n"
     ]
    },
    {
     "name": "stdout",
     "output_type": "stream",
     "text": [
      "API not selected\n",
      "APLD data not enough\n"
     ]
    },
    {
     "name": "stderr",
     "output_type": "stream",
     "text": [
      "C:\\Users\\Rain\\AppData\\Local\\Temp\\ipykernel_23516\\2431815014.py:15: RuntimeWarning: divide by zero encountered in double_scalars\n",
      "  quarter_eps.yoy_growth.iloc[i] = (quarter_eps.eps.iloc[i] - quarter_eps.eps.iloc[i+4]) / quarter_eps.eps.iloc[i+4]\n",
      "C:\\Users\\Rain\\AppData\\Local\\Temp\\ipykernel_23516\\2431815014.py:15: RuntimeWarning: divide by zero encountered in double_scalars\n",
      "  quarter_eps.yoy_growth.iloc[i] = (quarter_eps.eps.iloc[i] - quarter_eps.eps.iloc[i+4]) / quarter_eps.eps.iloc[i+4]\n"
     ]
    },
    {
     "name": "stdout",
     "output_type": "stream",
     "text": [
      "APLE selected\n",
      "APLS not selected\n",
      "APLT not selected\n",
      "APM not selected\n"
     ]
    },
    {
     "name": "stderr",
     "output_type": "stream",
     "text": [
      "C:\\Users\\Rain\\AppData\\Local\\Temp\\ipykernel_23516\\2431815014.py:15: RuntimeWarning: invalid value encountered in double_scalars\n",
      "  quarter_eps.yoy_growth.iloc[i] = (quarter_eps.eps.iloc[i] - quarter_eps.eps.iloc[i+4]) / quarter_eps.eps.iloc[i+4]\n"
     ]
    },
    {
     "name": "stdout",
     "output_type": "stream",
     "text": [
      "APMI data not enough\n",
      "APN data not enough\n"
     ]
    },
    {
     "name": "stderr",
     "output_type": "stream",
     "text": [
      "C:\\Users\\Rain\\AppData\\Local\\Temp\\ipykernel_23516\\2431815014.py:15: RuntimeWarning: invalid value encountered in double_scalars\n",
      "  quarter_eps.yoy_growth.iloc[i] = (quarter_eps.eps.iloc[i] - quarter_eps.eps.iloc[i+4]) / quarter_eps.eps.iloc[i+4]\n",
      "C:\\Users\\Rain\\AppData\\Local\\Temp\\ipykernel_23516\\2431815014.py:15: RuntimeWarning: divide by zero encountered in double_scalars\n",
      "  quarter_eps.yoy_growth.iloc[i] = (quarter_eps.eps.iloc[i] - quarter_eps.eps.iloc[i+4]) / quarter_eps.eps.iloc[i+4]\n",
      "C:\\Users\\Rain\\AppData\\Local\\Temp\\ipykernel_23516\\2431815014.py:15: RuntimeWarning: divide by zero encountered in double_scalars\n",
      "  quarter_eps.yoy_growth.iloc[i] = (quarter_eps.eps.iloc[i] - quarter_eps.eps.iloc[i+4]) / quarter_eps.eps.iloc[i+4]\n"
     ]
    },
    {
     "name": "stdout",
     "output_type": "stream",
     "text": [
      "APO not selected\n",
      "APOG selected\n"
     ]
    },
    {
     "name": "stderr",
     "output_type": "stream",
     "text": [
      "C:\\Users\\Rain\\AppData\\Local\\Temp\\ipykernel_23516\\2431815014.py:15: RuntimeWarning: divide by zero encountered in double_scalars\n",
      "  quarter_eps.yoy_growth.iloc[i] = (quarter_eps.eps.iloc[i] - quarter_eps.eps.iloc[i+4]) / quarter_eps.eps.iloc[i+4]\n",
      "C:\\Users\\Rain\\AppData\\Local\\Temp\\ipykernel_23516\\2431815014.py:15: RuntimeWarning: divide by zero encountered in double_scalars\n",
      "  quarter_eps.yoy_growth.iloc[i] = (quarter_eps.eps.iloc[i] - quarter_eps.eps.iloc[i+4]) / quarter_eps.eps.iloc[i+4]\n"
     ]
    },
    {
     "name": "stdout",
     "output_type": "stream",
     "text": [
      "APP selected\n",
      "APPF not selected\n",
      "APPH not selected\n"
     ]
    },
    {
     "name": "stderr",
     "output_type": "stream",
     "text": [
      "C:\\Users\\Rain\\AppData\\Local\\Temp\\ipykernel_23516\\2431815014.py:15: RuntimeWarning: divide by zero encountered in double_scalars\n",
      "  quarter_eps.yoy_growth.iloc[i] = (quarter_eps.eps.iloc[i] - quarter_eps.eps.iloc[i+4]) / quarter_eps.eps.iloc[i+4]\n",
      "C:\\Users\\Rain\\AppData\\Local\\Temp\\ipykernel_23516\\2431815014.py:15: RuntimeWarning: divide by zero encountered in double_scalars\n",
      "  quarter_eps.yoy_growth.iloc[i] = (quarter_eps.eps.iloc[i] - quarter_eps.eps.iloc[i+4]) / quarter_eps.eps.iloc[i+4]\n",
      "C:\\Users\\Rain\\AppData\\Local\\Temp\\ipykernel_23516\\2431815014.py:15: RuntimeWarning: invalid value encountered in double_scalars\n",
      "  quarter_eps.yoy_growth.iloc[i] = (quarter_eps.eps.iloc[i] - quarter_eps.eps.iloc[i+4]) / quarter_eps.eps.iloc[i+4]\n",
      "C:\\Users\\Rain\\AppData\\Local\\Temp\\ipykernel_23516\\2431815014.py:15: RuntimeWarning: divide by zero encountered in double_scalars\n",
      "  quarter_eps.yoy_growth.iloc[i] = (quarter_eps.eps.iloc[i] - quarter_eps.eps.iloc[i+4]) / quarter_eps.eps.iloc[i+4]\n"
     ]
    },
    {
     "name": "stdout",
     "output_type": "stream",
     "text": [
      "APPN not selected\n",
      "APPS not selected\n",
      "APRE selected\n"
     ]
    },
    {
     "name": "stderr",
     "output_type": "stream",
     "text": [
      "C:\\Users\\Rain\\AppData\\Local\\Temp\\ipykernel_23516\\2431815014.py:15: RuntimeWarning: divide by zero encountered in double_scalars\n",
      "  quarter_eps.yoy_growth.iloc[i] = (quarter_eps.eps.iloc[i] - quarter_eps.eps.iloc[i+4]) / quarter_eps.eps.iloc[i+4]\n",
      "C:\\Users\\Rain\\AppData\\Local\\Temp\\ipykernel_23516\\2431815014.py:15: RuntimeWarning: divide by zero encountered in double_scalars\n",
      "  quarter_eps.yoy_growth.iloc[i] = (quarter_eps.eps.iloc[i] - quarter_eps.eps.iloc[i+4]) / quarter_eps.eps.iloc[i+4]\n",
      "C:\\Users\\Rain\\AppData\\Local\\Temp\\ipykernel_23516\\2431815014.py:15: RuntimeWarning: invalid value encountered in double_scalars\n",
      "  quarter_eps.yoy_growth.iloc[i] = (quarter_eps.eps.iloc[i] - quarter_eps.eps.iloc[i+4]) / quarter_eps.eps.iloc[i+4]\n"
     ]
    },
    {
     "name": "stdout",
     "output_type": "stream",
     "text": [
      "APRN not selected\n",
      "APT not selected\n",
      "APTM data not enough\n",
      "APTO not selected\n"
     ]
    },
    {
     "name": "stderr",
     "output_type": "stream",
     "text": [
      "C:\\Users\\Rain\\AppData\\Local\\Temp\\ipykernel_23516\\2431815014.py:15: RuntimeWarning: divide by zero encountered in double_scalars\n",
      "  quarter_eps.yoy_growth.iloc[i] = (quarter_eps.eps.iloc[i] - quarter_eps.eps.iloc[i+4]) / quarter_eps.eps.iloc[i+4]\n",
      "C:\\Users\\Rain\\AppData\\Local\\Temp\\ipykernel_23516\\2431815014.py:15: RuntimeWarning: divide by zero encountered in double_scalars\n",
      "  quarter_eps.yoy_growth.iloc[i] = (quarter_eps.eps.iloc[i] - quarter_eps.eps.iloc[i+4]) / quarter_eps.eps.iloc[i+4]\n"
     ]
    },
    {
     "name": "stdout",
     "output_type": "stream",
     "text": [
      "APTV not selected\n",
      "APTX not selected\n"
     ]
    },
    {
     "name": "stderr",
     "output_type": "stream",
     "text": [
      "C:\\Users\\Rain\\AppData\\Local\\Temp\\ipykernel_23516\\2431815014.py:15: RuntimeWarning: divide by zero encountered in double_scalars\n",
      "  quarter_eps.yoy_growth.iloc[i] = (quarter_eps.eps.iloc[i] - quarter_eps.eps.iloc[i+4]) / quarter_eps.eps.iloc[i+4]\n",
      "C:\\Users\\Rain\\AppData\\Local\\Temp\\ipykernel_23516\\2431815014.py:15: RuntimeWarning: divide by zero encountered in double_scalars\n",
      "  quarter_eps.yoy_growth.iloc[i] = (quarter_eps.eps.iloc[i] - quarter_eps.eps.iloc[i+4]) / quarter_eps.eps.iloc[i+4]\n",
      "C:\\Users\\Rain\\AppData\\Local\\Temp\\ipykernel_23516\\2431815014.py:15: RuntimeWarning: invalid value encountered in double_scalars\n",
      "  quarter_eps.yoy_growth.iloc[i] = (quarter_eps.eps.iloc[i] - quarter_eps.eps.iloc[i+4]) / quarter_eps.eps.iloc[i+4]\n"
     ]
    },
    {
     "name": "stdout",
     "output_type": "stream",
     "text": [
      "APVO not selected\n",
      "APWC not selected\n"
     ]
    },
    {
     "name": "stderr",
     "output_type": "stream",
     "text": [
      "C:\\Users\\Rain\\AppData\\Local\\Temp\\ipykernel_23516\\2431815014.py:15: RuntimeWarning: divide by zero encountered in double_scalars\n",
      "  quarter_eps.yoy_growth.iloc[i] = (quarter_eps.eps.iloc[i] - quarter_eps.eps.iloc[i+4]) / quarter_eps.eps.iloc[i+4]\n"
     ]
    },
    {
     "name": "stdout",
     "output_type": "stream",
     "text": [
      "APXI data not enough\n",
      "APYX not selected\n"
     ]
    },
    {
     "name": "stderr",
     "output_type": "stream",
     "text": [
      "C:\\Users\\Rain\\AppData\\Local\\Temp\\ipykernel_23516\\2431815014.py:15: RuntimeWarning: divide by zero encountered in double_scalars\n",
      "  quarter_eps.yoy_growth.iloc[i] = (quarter_eps.eps.iloc[i] - quarter_eps.eps.iloc[i+4]) / quarter_eps.eps.iloc[i+4]\n",
      "C:\\Users\\Rain\\AppData\\Local\\Temp\\ipykernel_23516\\2431815014.py:15: RuntimeWarning: invalid value encountered in double_scalars\n",
      "  quarter_eps.yoy_growth.iloc[i] = (quarter_eps.eps.iloc[i] - quarter_eps.eps.iloc[i+4]) / quarter_eps.eps.iloc[i+4]\n",
      "C:\\Users\\Rain\\AppData\\Local\\Temp\\ipykernel_23516\\2431815014.py:15: RuntimeWarning: divide by zero encountered in double_scalars\n",
      "  quarter_eps.yoy_growth.iloc[i] = (quarter_eps.eps.iloc[i] - quarter_eps.eps.iloc[i+4]) / quarter_eps.eps.iloc[i+4]\n"
     ]
    },
    {
     "name": "stdout",
     "output_type": "stream",
     "text": [
      "AQB not selected\n",
      "AQMS not selected\n"
     ]
    },
    {
     "name": "stderr",
     "output_type": "stream",
     "text": [
      "C:\\Users\\Rain\\AppData\\Local\\Temp\\ipykernel_23516\\2431815014.py:15: RuntimeWarning: divide by zero encountered in double_scalars\n",
      "  quarter_eps.yoy_growth.iloc[i] = (quarter_eps.eps.iloc[i] - quarter_eps.eps.iloc[i+4]) / quarter_eps.eps.iloc[i+4]\n"
     ]
    },
    {
     "name": "stdout",
     "output_type": "stream",
     "text": [
      "AQN selected\n",
      "AQST not selected\n",
      "AQUA not selected"
     ]
    },
    {
     "name": "stderr",
     "output_type": "stream",
     "text": [
      "C:\\Users\\Rain\\AppData\\Local\\Temp\\ipykernel_23516\\2431815014.py:15: RuntimeWarning: divide by zero encountered in double_scalars\n",
      "  quarter_eps.yoy_growth.iloc[i] = (quarter_eps.eps.iloc[i] - quarter_eps.eps.iloc[i+4]) / quarter_eps.eps.iloc[i+4]\n",
      "C:\\Users\\Rain\\AppData\\Local\\Temp\\ipykernel_23516\\2431815014.py:15: RuntimeWarning: divide by zero encountered in double_scalars\n",
      "  quarter_eps.yoy_growth.iloc[i] = (quarter_eps.eps.iloc[i] - quarter_eps.eps.iloc[i+4]) / quarter_eps.eps.iloc[i+4]\n"
     ]
    },
    {
     "name": "stdout",
     "output_type": "stream",
     "text": [
      "\n",
      "AR not exsit\n",
      "ARAV not selected\n"
     ]
    },
    {
     "name": "stderr",
     "output_type": "stream",
     "text": [
      "C:\\Users\\Rain\\AppData\\Local\\Temp\\ipykernel_23516\\2431815014.py:15: RuntimeWarning: divide by zero encountered in double_scalars\n",
      "  quarter_eps.yoy_growth.iloc[i] = (quarter_eps.eps.iloc[i] - quarter_eps.eps.iloc[i+4]) / quarter_eps.eps.iloc[i+4]\n",
      "C:\\Users\\Rain\\AppData\\Local\\Temp\\ipykernel_23516\\2431815014.py:15: RuntimeWarning: divide by zero encountered in double_scalars\n",
      "  quarter_eps.yoy_growth.iloc[i] = (quarter_eps.eps.iloc[i] - quarter_eps.eps.iloc[i+4]) / quarter_eps.eps.iloc[i+4]\n"
     ]
    },
    {
     "name": "stdout",
     "output_type": "stream",
     "text": [
      "ARAY not selected\n",
      "ARBE not selected\n",
      "ARBG selected"
     ]
    },
    {
     "name": "stderr",
     "output_type": "stream",
     "text": [
      "C:\\Users\\Rain\\AppData\\Local\\Temp\\ipykernel_23516\\2431815014.py:15: RuntimeWarning: divide by zero encountered in double_scalars\n",
      "  quarter_eps.yoy_growth.iloc[i] = (quarter_eps.eps.iloc[i] - quarter_eps.eps.iloc[i+4]) / quarter_eps.eps.iloc[i+4]\n",
      "C:\\Users\\Rain\\AppData\\Local\\Temp\\ipykernel_23516\\2431815014.py:15: RuntimeWarning: divide by zero encountered in double_scalars\n",
      "  quarter_eps.yoy_growth.iloc[i] = (quarter_eps.eps.iloc[i] - quarter_eps.eps.iloc[i+4]) / quarter_eps.eps.iloc[i+4]\n"
     ]
    },
    {
     "name": "stdout",
     "output_type": "stream",
     "text": [
      "\n",
      "ARBK data not enough\n",
      "ARC not selected\n",
      "ARCB selected\n",
      "ARCC not selected\n",
      "ARCE selected\n",
      "ARCH selected\n",
      "ARCK data not enough\n"
     ]
    },
    {
     "name": "stderr",
     "output_type": "stream",
     "text": [
      "C:\\Users\\Rain\\AppData\\Local\\Temp\\ipykernel_23516\\2431815014.py:15: RuntimeWarning: divide by zero encountered in double_scalars\n",
      "  quarter_eps.yoy_growth.iloc[i] = (quarter_eps.eps.iloc[i] - quarter_eps.eps.iloc[i+4]) / quarter_eps.eps.iloc[i+4]\n",
      "C:\\Users\\Rain\\AppData\\Local\\Temp\\ipykernel_23516\\2431815014.py:15: RuntimeWarning: divide by zero encountered in double_scalars\n",
      "  quarter_eps.yoy_growth.iloc[i] = (quarter_eps.eps.iloc[i] - quarter_eps.eps.iloc[i+4]) / quarter_eps.eps.iloc[i+4]\n"
     ]
    },
    {
     "name": "stdout",
     "output_type": "stream",
     "text": [
      "ARCO selected\n",
      "ARCT not selected\n"
     ]
    },
    {
     "name": "stderr",
     "output_type": "stream",
     "text": [
      "C:\\Users\\Rain\\AppData\\Local\\Temp\\ipykernel_23516\\2431815014.py:15: RuntimeWarning: divide by zero encountered in double_scalars\n",
      "  quarter_eps.yoy_growth.iloc[i] = (quarter_eps.eps.iloc[i] - quarter_eps.eps.iloc[i+4]) / quarter_eps.eps.iloc[i+4]\n",
      "C:\\Users\\Rain\\AppData\\Local\\Temp\\ipykernel_23516\\2431815014.py:15: RuntimeWarning: divide by zero encountered in double_scalars\n",
      "  quarter_eps.yoy_growth.iloc[i] = (quarter_eps.eps.iloc[i] - quarter_eps.eps.iloc[i+4]) / quarter_eps.eps.iloc[i+4]\n"
     ]
    },
    {
     "name": "stdout",
     "output_type": "stream",
     "text": [
      "ARDS not selected\n",
      "ARDX not selected\n",
      "ARE not selected\n",
      "AREB data not enough\n",
      "AREC not selected\n"
     ]
    },
    {
     "name": "stderr",
     "output_type": "stream",
     "text": [
      "C:\\Users\\Rain\\AppData\\Local\\Temp\\ipykernel_23516\\2431815014.py:15: RuntimeWarning: divide by zero encountered in double_scalars\n",
      "  quarter_eps.yoy_growth.iloc[i] = (quarter_eps.eps.iloc[i] - quarter_eps.eps.iloc[i+4]) / quarter_eps.eps.iloc[i+4]\n",
      "C:\\Users\\Rain\\AppData\\Local\\Temp\\ipykernel_23516\\2431815014.py:15: RuntimeWarning: invalid value encountered in double_scalars\n",
      "  quarter_eps.yoy_growth.iloc[i] = (quarter_eps.eps.iloc[i] - quarter_eps.eps.iloc[i+4]) / quarter_eps.eps.iloc[i+4]\n",
      "C:\\Users\\Rain\\AppData\\Local\\Temp\\ipykernel_23516\\2431815014.py:15: RuntimeWarning: divide by zero encountered in double_scalars\n",
      "  quarter_eps.yoy_growth.iloc[i] = (quarter_eps.eps.iloc[i] - quarter_eps.eps.iloc[i+4]) / quarter_eps.eps.iloc[i+4]\n",
      "C:\\Users\\Rain\\AppData\\Local\\Temp\\ipykernel_23516\\2431815014.py:15: RuntimeWarning: invalid value encountered in double_scalars\n",
      "  quarter_eps.yoy_growth.iloc[i] = (quarter_eps.eps.iloc[i] - quarter_eps.eps.iloc[i+4]) / quarter_eps.eps.iloc[i+4]\n"
     ]
    },
    {
     "name": "stdout",
     "output_type": "stream",
     "text": [
      "AREN not selected\n",
      "ARES not selected\n"
     ]
    },
    {
     "name": "stderr",
     "output_type": "stream",
     "text": [
      "C:\\Users\\Rain\\AppData\\Local\\Temp\\ipykernel_23516\\2431815014.py:15: RuntimeWarning: divide by zero encountered in double_scalars\n",
      "  quarter_eps.yoy_growth.iloc[i] = (quarter_eps.eps.iloc[i] - quarter_eps.eps.iloc[i+4]) / quarter_eps.eps.iloc[i+4]\n",
      "C:\\Users\\Rain\\AppData\\Local\\Temp\\ipykernel_23516\\2431815014.py:15: RuntimeWarning: invalid value encountered in double_scalars\n",
      "  quarter_eps.yoy_growth.iloc[i] = (quarter_eps.eps.iloc[i] - quarter_eps.eps.iloc[i+4]) / quarter_eps.eps.iloc[i+4]\n"
     ]
    },
    {
     "name": "stdout",
     "output_type": "stream",
     "text": [
      "ARGO not selected\n",
      "ARGU data not enough\n"
     ]
    },
    {
     "name": "stderr",
     "output_type": "stream",
     "text": [
      "C:\\Users\\Rain\\AppData\\Local\\Temp\\ipykernel_23516\\2431815014.py:15: RuntimeWarning: invalid value encountered in double_scalars\n",
      "  quarter_eps.yoy_growth.iloc[i] = (quarter_eps.eps.iloc[i] - quarter_eps.eps.iloc[i+4]) / quarter_eps.eps.iloc[i+4]\n",
      "C:\\Users\\Rain\\AppData\\Local\\Temp\\ipykernel_23516\\2431815014.py:15: RuntimeWarning: divide by zero encountered in double_scalars\n",
      "  quarter_eps.yoy_growth.iloc[i] = (quarter_eps.eps.iloc[i] - quarter_eps.eps.iloc[i+4]) / quarter_eps.eps.iloc[i+4]\n",
      "C:\\Users\\Rain\\AppData\\Local\\Temp\\ipykernel_23516\\2431815014.py:15: RuntimeWarning: divide by zero encountered in double_scalars\n",
      "  quarter_eps.yoy_growth.iloc[i] = (quarter_eps.eps.iloc[i] - quarter_eps.eps.iloc[i+4]) / quarter_eps.eps.iloc[i+4]\n"
     ]
    },
    {
     "name": "stdout",
     "output_type": "stream",
     "text": [
      "ARGX selected\n",
      "ARHS selected\n"
     ]
    },
    {
     "name": "stderr",
     "output_type": "stream",
     "text": [
      "C:\\Users\\Rain\\AppData\\Local\\Temp\\ipykernel_23516\\2431815014.py:15: RuntimeWarning: divide by zero encountered in double_scalars\n",
      "  quarter_eps.yoy_growth.iloc[i] = (quarter_eps.eps.iloc[i] - quarter_eps.eps.iloc[i+4]) / quarter_eps.eps.iloc[i+4]\n",
      "C:\\Users\\Rain\\AppData\\Local\\Temp\\ipykernel_23516\\2431815014.py:15: RuntimeWarning: divide by zero encountered in double_scalars\n",
      "  quarter_eps.yoy_growth.iloc[i] = (quarter_eps.eps.iloc[i] - quarter_eps.eps.iloc[i+4]) / quarter_eps.eps.iloc[i+4]\n",
      "C:\\Users\\Rain\\AppData\\Local\\Temp\\ipykernel_23516\\2431815014.py:15: RuntimeWarning: invalid value encountered in double_scalars\n",
      "  quarter_eps.yoy_growth.iloc[i] = (quarter_eps.eps.iloc[i] - quarter_eps.eps.iloc[i+4]) / quarter_eps.eps.iloc[i+4]\n",
      "C:\\Users\\Rain\\AppData\\Local\\Temp\\ipykernel_23516\\2431815014.py:19: RuntimeWarning: invalid value encountered in double_scalars\n",
      "  quarter_eps.fixed_yoy_growth.iloc[i] = (quarter_eps.yoy_growth.iloc[i] + quarter_eps.yoy_growth.iloc[i+1]) / 2\n"
     ]
    },
    {
     "name": "stdout",
     "output_type": "stream",
     "text": [
      "ARI not selected\n",
      "ARIS not selected\n",
      "ARIZ data not enough\n"
     ]
    },
    {
     "name": "stderr",
     "output_type": "stream",
     "text": [
      "C:\\Users\\Rain\\AppData\\Local\\Temp\\ipykernel_23516\\2431815014.py:15: RuntimeWarning: divide by zero encountered in double_scalars\n",
      "  quarter_eps.yoy_growth.iloc[i] = (quarter_eps.eps.iloc[i] - quarter_eps.eps.iloc[i+4]) / quarter_eps.eps.iloc[i+4]\n",
      "C:\\Users\\Rain\\AppData\\Local\\Temp\\ipykernel_23516\\2431815014.py:19: RuntimeWarning: invalid value encountered in double_scalars\n",
      "  quarter_eps.fixed_yoy_growth.iloc[i] = (quarter_eps.yoy_growth.iloc[i] + quarter_eps.yoy_growth.iloc[i+1]) / 2\n",
      "C:\\Users\\Rain\\AppData\\Local\\Temp\\ipykernel_23516\\2431815014.py:15: RuntimeWarning: divide by zero encountered in double_scalars\n",
      "  quarter_eps.yoy_growth.iloc[i] = (quarter_eps.eps.iloc[i] - quarter_eps.eps.iloc[i+4]) / quarter_eps.eps.iloc[i+4]\n"
     ]
    },
    {
     "name": "stdout",
     "output_type": "stream",
     "text": [
      "ARKO not selected\n",
      "ARKR not selected\n",
      "ARL not selected\n",
      "ARLO not selected\n"
     ]
    },
    {
     "name": "stderr",
     "output_type": "stream",
     "text": [
      "C:\\Users\\Rain\\AppData\\Local\\Temp\\ipykernel_23516\\2431815014.py:15: RuntimeWarning: divide by zero encountered in double_scalars\n",
      "  quarter_eps.yoy_growth.iloc[i] = (quarter_eps.eps.iloc[i] - quarter_eps.eps.iloc[i+4]) / quarter_eps.eps.iloc[i+4]\n",
      "C:\\Users\\Rain\\AppData\\Local\\Temp\\ipykernel_23516\\2431815014.py:15: RuntimeWarning: divide by zero encountered in double_scalars\n",
      "  quarter_eps.yoy_growth.iloc[i] = (quarter_eps.eps.iloc[i] - quarter_eps.eps.iloc[i+4]) / quarter_eps.eps.iloc[i+4]\n",
      "C:\\Users\\Rain\\AppData\\Local\\Temp\\ipykernel_23516\\2431815014.py:19: RuntimeWarning: invalid value encountered in double_scalars\n",
      "  quarter_eps.fixed_yoy_growth.iloc[i] = (quarter_eps.yoy_growth.iloc[i] + quarter_eps.yoy_growth.iloc[i+1]) / 2\n"
     ]
    },
    {
     "name": "stdout",
     "output_type": "stream",
     "text": [
      "ARLP selected\n",
      "ARMK not selected\n",
      "ARMP not exsit\n"
     ]
    },
    {
     "name": "stderr",
     "output_type": "stream",
     "text": [
      "C:\\Users\\Rain\\AppData\\Local\\Temp\\ipykernel_23516\\2431815014.py:15: RuntimeWarning: divide by zero encountered in double_scalars\n",
      "  quarter_eps.yoy_growth.iloc[i] = (quarter_eps.eps.iloc[i] - quarter_eps.eps.iloc[i+4]) / quarter_eps.eps.iloc[i+4]\n",
      "C:\\Users\\Rain\\AppData\\Local\\Temp\\ipykernel_23516\\2431815014.py:15: RuntimeWarning: divide by zero encountered in double_scalars\n",
      "  quarter_eps.yoy_growth.iloc[i] = (quarter_eps.eps.iloc[i] - quarter_eps.eps.iloc[i+4]) / quarter_eps.eps.iloc[i+4]\n",
      "C:\\Users\\Rain\\AppData\\Local\\Temp\\ipykernel_23516\\2431815014.py:19: RuntimeWarning: invalid value encountered in double_scalars\n",
      "  quarter_eps.fixed_yoy_growth.iloc[i] = (quarter_eps.yoy_growth.iloc[i] + quarter_eps.yoy_growth.iloc[i+1]) / 2\n"
     ]
    },
    {
     "name": "stdout",
     "output_type": "stream",
     "text": [
      "ARNC not selected\n",
      "AROC not selected\n",
      "AROW not selected\n",
      "ARQQ data not enough\n",
      "ARQT not selected\n"
     ]
    },
    {
     "name": "stderr",
     "output_type": "stream",
     "text": [
      "C:\\Users\\Rain\\AppData\\Local\\Temp\\ipykernel_23516\\2431815014.py:15: RuntimeWarning: divide by zero encountered in double_scalars\n",
      "  quarter_eps.yoy_growth.iloc[i] = (quarter_eps.eps.iloc[i] - quarter_eps.eps.iloc[i+4]) / quarter_eps.eps.iloc[i+4]\n",
      "C:\\Users\\Rain\\AppData\\Local\\Temp\\ipykernel_23516\\2431815014.py:15: RuntimeWarning: divide by zero encountered in double_scalars\n",
      "  quarter_eps.yoy_growth.iloc[i] = (quarter_eps.eps.iloc[i] - quarter_eps.eps.iloc[i+4]) / quarter_eps.eps.iloc[i+4]\n",
      "C:\\Users\\Rain\\AppData\\Local\\Temp\\ipykernel_23516\\2431815014.py:15: RuntimeWarning: divide by zero encountered in double_scalars\n",
      "  quarter_eps.yoy_growth.iloc[i] = (quarter_eps.eps.iloc[i] - quarter_eps.eps.iloc[i+4]) / quarter_eps.eps.iloc[i+4]\n"
     ]
    },
    {
     "name": "stdout",
     "output_type": "stream",
     "text": [
      "ARR not selected\n",
      "ARRW not selected\n"
     ]
    },
    {
     "name": "stderr",
     "output_type": "stream",
     "text": [
      "C:\\Users\\Rain\\AppData\\Local\\Temp\\ipykernel_23516\\2431815014.py:15: RuntimeWarning: divide by zero encountered in double_scalars\n",
      "  quarter_eps.yoy_growth.iloc[i] = (quarter_eps.eps.iloc[i] - quarter_eps.eps.iloc[i+4]) / quarter_eps.eps.iloc[i+4]\n"
     ]
    },
    {
     "name": "stdout",
     "output_type": "stream",
     "text": [
      "ARRY selected\n",
      "ARTE data not enough\n"
     ]
    },
    {
     "name": "stderr",
     "output_type": "stream",
     "text": [
      "C:\\Users\\Rain\\AppData\\Local\\Temp\\ipykernel_23516\\2431815014.py:15: RuntimeWarning: divide by zero encountered in double_scalars\n",
      "  quarter_eps.yoy_growth.iloc[i] = (quarter_eps.eps.iloc[i] - quarter_eps.eps.iloc[i+4]) / quarter_eps.eps.iloc[i+4]\n",
      "C:\\Users\\Rain\\AppData\\Local\\Temp\\ipykernel_23516\\2431815014.py:15: RuntimeWarning: invalid value encountered in double_scalars\n",
      "  quarter_eps.yoy_growth.iloc[i] = (quarter_eps.eps.iloc[i] - quarter_eps.eps.iloc[i+4]) / quarter_eps.eps.iloc[i+4]\n"
     ]
    },
    {
     "name": "stdout",
     "output_type": "stream",
     "text": [
      "ARTL not selected\n",
      "ARTNA not selected\n"
     ]
    },
    {
     "name": "stderr",
     "output_type": "stream",
     "text": [
      "C:\\Users\\Rain\\AppData\\Local\\Temp\\ipykernel_23516\\2431815014.py:15: RuntimeWarning: divide by zero encountered in double_scalars\n",
      "  quarter_eps.yoy_growth.iloc[i] = (quarter_eps.eps.iloc[i] - quarter_eps.eps.iloc[i+4]) / quarter_eps.eps.iloc[i+4]\n"
     ]
    },
    {
     "name": "stdout",
     "output_type": "stream",
     "text": [
      "ARTW selected\n",
      "ARVL data not enough\n"
     ]
    },
    {
     "name": "stderr",
     "output_type": "stream",
     "text": [
      "C:\\Users\\Rain\\AppData\\Local\\Temp\\ipykernel_23516\\2431815014.py:15: RuntimeWarning: divide by zero encountered in double_scalars\n",
      "  quarter_eps.yoy_growth.iloc[i] = (quarter_eps.eps.iloc[i] - quarter_eps.eps.iloc[i+4]) / quarter_eps.eps.iloc[i+4]\n"
     ]
    },
    {
     "name": "stdout",
     "output_type": "stream",
     "text": [
      "ARVN not selected\n",
      "ARW selected\n",
      "ARWR selected\n",
      "ARYD not selected\n"
     ]
    },
    {
     "name": "stderr",
     "output_type": "stream",
     "text": [
      "C:\\Users\\Rain\\AppData\\Local\\Temp\\ipykernel_23516\\2431815014.py:15: RuntimeWarning: divide by zero encountered in double_scalars\n",
      "  quarter_eps.yoy_growth.iloc[i] = (quarter_eps.eps.iloc[i] - quarter_eps.eps.iloc[i+4]) / quarter_eps.eps.iloc[i+4]\n"
     ]
    },
    {
     "name": "stdout",
     "output_type": "stream",
     "text": [
      "ARYE data not enough\n",
      "ASA data not enough\n",
      "ASAI data not enough\n",
      "ASAN not selected\n",
      "ASAQ not selected"
     ]
    },
    {
     "name": "stderr",
     "output_type": "stream",
     "text": [
      "C:\\Users\\Rain\\AppData\\Local\\Temp\\ipykernel_23516\\2431815014.py:15: RuntimeWarning: divide by zero encountered in double_scalars\n",
      "  quarter_eps.yoy_growth.iloc[i] = (quarter_eps.eps.iloc[i] - quarter_eps.eps.iloc[i+4]) / quarter_eps.eps.iloc[i+4]\n",
      "C:\\Users\\Rain\\AppData\\Local\\Temp\\ipykernel_23516\\2431815014.py:15: RuntimeWarning: divide by zero encountered in double_scalars\n",
      "  quarter_eps.yoy_growth.iloc[i] = (quarter_eps.eps.iloc[i] - quarter_eps.eps.iloc[i+4]) / quarter_eps.eps.iloc[i+4]\n",
      "C:\\Users\\Rain\\AppData\\Local\\Temp\\ipykernel_23516\\2431815014.py:19: RuntimeWarning: invalid value encountered in double_scalars\n",
      "  quarter_eps.fixed_yoy_growth.iloc[i] = (quarter_eps.yoy_growth.iloc[i] + quarter_eps.yoy_growth.iloc[i+1]) / 2\n"
     ]
    },
    {
     "name": "stdout",
     "output_type": "stream",
     "text": [
      "\n",
      "ASAX data not enough\n",
      "ASB not selected\n",
      "ASC not selected\n"
     ]
    },
    {
     "name": "stderr",
     "output_type": "stream",
     "text": [
      "C:\\Users\\Rain\\AppData\\Local\\Temp\\ipykernel_23516\\2431815014.py:15: RuntimeWarning: divide by zero encountered in double_scalars\n",
      "  quarter_eps.yoy_growth.iloc[i] = (quarter_eps.eps.iloc[i] - quarter_eps.eps.iloc[i+4]) / quarter_eps.eps.iloc[i+4]\n"
     ]
    },
    {
     "name": "stdout",
     "output_type": "stream",
     "text": [
      "ASCA data not enough\n",
      "ASCB data not enough\n",
      "ASGN not selected\n",
      "ASH selected\n"
     ]
    },
    {
     "name": "stderr",
     "output_type": "stream",
     "text": [
      "C:\\Users\\Rain\\AppData\\Local\\Temp\\ipykernel_23516\\2431815014.py:15: RuntimeWarning: divide by zero encountered in double_scalars\n",
      "  quarter_eps.yoy_growth.iloc[i] = (quarter_eps.eps.iloc[i] - quarter_eps.eps.iloc[i+4]) / quarter_eps.eps.iloc[i+4]\n",
      "C:\\Users\\Rain\\AppData\\Local\\Temp\\ipykernel_23516\\2431815014.py:15: RuntimeWarning: invalid value encountered in double_scalars\n",
      "  quarter_eps.yoy_growth.iloc[i] = (quarter_eps.eps.iloc[i] - quarter_eps.eps.iloc[i+4]) / quarter_eps.eps.iloc[i+4]\n",
      "C:\\Users\\Rain\\AppData\\Local\\Temp\\ipykernel_23516\\2431815014.py:15: RuntimeWarning: divide by zero encountered in double_scalars\n",
      "  quarter_eps.yoy_growth.iloc[i] = (quarter_eps.eps.iloc[i] - quarter_eps.eps.iloc[i+4]) / quarter_eps.eps.iloc[i+4]\n",
      "C:\\Users\\Rain\\AppData\\Local\\Temp\\ipykernel_23516\\2431815014.py:15: RuntimeWarning: divide by zero encountered in double_scalars\n",
      "  quarter_eps.yoy_growth.iloc[i] = (quarter_eps.eps.iloc[i] - quarter_eps.eps.iloc[i+4]) / quarter_eps.eps.iloc[i+4]\n"
     ]
    },
    {
     "name": "stdout",
     "output_type": "stream",
     "text": [
      "ASIX not selected\n",
      "ASLE not selected\n",
      "ASLN not selected\n",
      "ASM not selected\n"
     ]
    },
    {
     "name": "stderr",
     "output_type": "stream",
     "text": [
      "C:\\Users\\Rain\\AppData\\Local\\Temp\\ipykernel_23516\\2431815014.py:15: RuntimeWarning: divide by zero encountered in double_scalars\n",
      "  quarter_eps.yoy_growth.iloc[i] = (quarter_eps.eps.iloc[i] - quarter_eps.eps.iloc[i+4]) / quarter_eps.eps.iloc[i+4]\n",
      "C:\\Users\\Rain\\AppData\\Local\\Temp\\ipykernel_23516\\2431815014.py:15: RuntimeWarning: divide by zero encountered in double_scalars\n",
      "  quarter_eps.yoy_growth.iloc[i] = (quarter_eps.eps.iloc[i] - quarter_eps.eps.iloc[i+4]) / quarter_eps.eps.iloc[i+4]\n"
     ]
    },
    {
     "name": "stdout",
     "output_type": "stream",
     "text": [
      "ASMB not selected\n",
      "ASML not selected\n"
     ]
    },
    {
     "name": "stderr",
     "output_type": "stream",
     "text": [
      "C:\\Users\\Rain\\AppData\\Local\\Temp\\ipykernel_23516\\2431815014.py:15: RuntimeWarning: divide by zero encountered in double_scalars\n",
      "  quarter_eps.yoy_growth.iloc[i] = (quarter_eps.eps.iloc[i] - quarter_eps.eps.iloc[i+4]) / quarter_eps.eps.iloc[i+4]\n",
      "C:\\Users\\Rain\\AppData\\Local\\Temp\\ipykernel_23516\\2431815014.py:15: RuntimeWarning: divide by zero encountered in double_scalars\n",
      "  quarter_eps.yoy_growth.iloc[i] = (quarter_eps.eps.iloc[i] - quarter_eps.eps.iloc[i+4]) / quarter_eps.eps.iloc[i+4]\n"
     ]
    },
    {
     "name": "stdout",
     "output_type": "stream",
     "text": [
      "ASND not selected\n",
      "ASNS data not enough\n",
      "ASO not selected\n",
      "ASPA data not enough\n",
      "ASPN not exsit\n",
      "ASPS not selected\n"
     ]
    },
    {
     "name": "stderr",
     "output_type": "stream",
     "text": [
      "C:\\Users\\Rain\\AppData\\Local\\Temp\\ipykernel_23516\\2431815014.py:15: RuntimeWarning: divide by zero encountered in double_scalars\n",
      "  quarter_eps.yoy_growth.iloc[i] = (quarter_eps.eps.iloc[i] - quarter_eps.eps.iloc[i+4]) / quarter_eps.eps.iloc[i+4]\n"
     ]
    },
    {
     "name": "stdout",
     "output_type": "stream",
     "text": [
      "ASPU not selected\n",
      "ASR not selected\n",
      "ASRT not selected\n",
      "ASRV not selected\n",
      "ASTC not selected\n",
      "ASTE not selected\n"
     ]
    },
    {
     "name": "stderr",
     "output_type": "stream",
     "text": [
      "C:\\Users\\Rain\\AppData\\Local\\Temp\\ipykernel_23516\\2431815014.py:15: RuntimeWarning: divide by zero encountered in double_scalars\n",
      "  quarter_eps.yoy_growth.iloc[i] = (quarter_eps.eps.iloc[i] - quarter_eps.eps.iloc[i+4]) / quarter_eps.eps.iloc[i+4]\n",
      "C:\\Users\\Rain\\AppData\\Local\\Temp\\ipykernel_23516\\2431815014.py:15: RuntimeWarning: divide by zero encountered in double_scalars\n",
      "  quarter_eps.yoy_growth.iloc[i] = (quarter_eps.eps.iloc[i] - quarter_eps.eps.iloc[i+4]) / quarter_eps.eps.iloc[i+4]\n",
      "C:\\Users\\Rain\\AppData\\Local\\Temp\\ipykernel_23516\\2431815014.py:15: RuntimeWarning: divide by zero encountered in double_scalars\n",
      "  quarter_eps.yoy_growth.iloc[i] = (quarter_eps.eps.iloc[i] - quarter_eps.eps.iloc[i+4]) / quarter_eps.eps.iloc[i+4]\n",
      "C:\\Users\\Rain\\AppData\\Local\\Temp\\ipykernel_23516\\2431815014.py:15: RuntimeWarning: invalid value encountered in double_scalars\n",
      "  quarter_eps.yoy_growth.iloc[i] = (quarter_eps.eps.iloc[i] - quarter_eps.eps.iloc[i+4]) / quarter_eps.eps.iloc[i+4]\n",
      "C:\\Users\\Rain\\AppData\\Local\\Temp\\ipykernel_23516\\2431815014.py:19: RuntimeWarning: invalid value encountered in double_scalars\n",
      "  quarter_eps.fixed_yoy_growth.iloc[i] = (quarter_eps.yoy_growth.iloc[i] + quarter_eps.yoy_growth.iloc[i+1]) / 2\n"
     ]
    },
    {
     "name": "stdout",
     "output_type": "stream",
     "text": [
      "ASTL selected\n",
      "ASTR not selected\n"
     ]
    },
    {
     "name": "stderr",
     "output_type": "stream",
     "text": [
      "C:\\Users\\Rain\\AppData\\Local\\Temp\\ipykernel_23516\\2431815014.py:15: RuntimeWarning: divide by zero encountered in double_scalars\n",
      "  quarter_eps.yoy_growth.iloc[i] = (quarter_eps.eps.iloc[i] - quarter_eps.eps.iloc[i+4]) / quarter_eps.eps.iloc[i+4]\n"
     ]
    },
    {
     "name": "stdout",
     "output_type": "stream",
     "text": [
      "ASTS not selected\n",
      "ASUR not selected\n",
      "ASX not selected\n",
      "ASXC not selected\n"
     ]
    },
    {
     "name": "stderr",
     "output_type": "stream",
     "text": [
      "C:\\Users\\Rain\\AppData\\Local\\Temp\\ipykernel_23516\\2431815014.py:15: RuntimeWarning: divide by zero encountered in double_scalars\n",
      "  quarter_eps.yoy_growth.iloc[i] = (quarter_eps.eps.iloc[i] - quarter_eps.eps.iloc[i+4]) / quarter_eps.eps.iloc[i+4]\n",
      "C:\\Users\\Rain\\AppData\\Local\\Temp\\ipykernel_23516\\2431815014.py:15: RuntimeWarning: divide by zero encountered in double_scalars\n",
      "  quarter_eps.yoy_growth.iloc[i] = (quarter_eps.eps.iloc[i] - quarter_eps.eps.iloc[i+4]) / quarter_eps.eps.iloc[i+4]\n"
     ]
    },
    {
     "name": "stdout",
     "output_type": "stream",
     "text": [
      "ASYS selected\n",
      "ASZ data not enough\n"
     ]
    },
    {
     "name": "stderr",
     "output_type": "stream",
     "text": [
      "C:\\Users\\Rain\\AppData\\Local\\Temp\\ipykernel_23516\\2431815014.py:15: RuntimeWarning: invalid value encountered in double_scalars\n",
      "  quarter_eps.yoy_growth.iloc[i] = (quarter_eps.eps.iloc[i] - quarter_eps.eps.iloc[i+4]) / quarter_eps.eps.iloc[i+4]\n",
      "C:\\Users\\Rain\\AppData\\Local\\Temp\\ipykernel_23516\\2431815014.py:15: RuntimeWarning: divide by zero encountered in double_scalars\n",
      "  quarter_eps.yoy_growth.iloc[i] = (quarter_eps.eps.iloc[i] - quarter_eps.eps.iloc[i+4]) / quarter_eps.eps.iloc[i+4]\n",
      "C:\\Users\\Rain\\AppData\\Local\\Temp\\ipykernel_23516\\2431815014.py:15: RuntimeWarning: divide by zero encountered in double_scalars\n",
      "  quarter_eps.yoy_growth.iloc[i] = (quarter_eps.eps.iloc[i] - quarter_eps.eps.iloc[i+4]) / quarter_eps.eps.iloc[i+4]\n"
     ]
    },
    {
     "name": "stdout",
     "output_type": "stream",
     "text": [
      "ATA not selected\n",
      "ATAI not selected\n"
     ]
    },
    {
     "name": "stderr",
     "output_type": "stream",
     "text": [
      "C:\\Users\\Rain\\AppData\\Local\\Temp\\ipykernel_23516\\2431815014.py:15: RuntimeWarning: divide by zero encountered in double_scalars\n",
      "  quarter_eps.yoy_growth.iloc[i] = (quarter_eps.eps.iloc[i] - quarter_eps.eps.iloc[i+4]) / quarter_eps.eps.iloc[i+4]\n",
      "C:\\Users\\Rain\\AppData\\Local\\Temp\\ipykernel_23516\\2431815014.py:15: RuntimeWarning: divide by zero encountered in double_scalars\n",
      "  quarter_eps.yoy_growth.iloc[i] = (quarter_eps.eps.iloc[i] - quarter_eps.eps.iloc[i+4]) / quarter_eps.eps.iloc[i+4]\n"
     ]
    },
    {
     "name": "stdout",
     "output_type": "stream",
     "text": [
      "ATAK data not enough\n",
      "ATAQ not selected\n",
      "ATAX selected\n",
      "ATC not exsit\n",
      "ATCO selected\n",
      "ATCX not selected\n"
     ]
    },
    {
     "name": "stderr",
     "output_type": "stream",
     "text": [
      "C:\\Users\\Rain\\AppData\\Local\\Temp\\ipykernel_23516\\2431815014.py:15: RuntimeWarning: divide by zero encountered in double_scalars\n",
      "  quarter_eps.yoy_growth.iloc[i] = (quarter_eps.eps.iloc[i] - quarter_eps.eps.iloc[i+4]) / quarter_eps.eps.iloc[i+4]\n",
      "C:\\Users\\Rain\\AppData\\Local\\Temp\\ipykernel_23516\\2431815014.py:15: RuntimeWarning: invalid value encountered in double_scalars\n",
      "  quarter_eps.yoy_growth.iloc[i] = (quarter_eps.eps.iloc[i] - quarter_eps.eps.iloc[i+4]) / quarter_eps.eps.iloc[i+4]\n",
      "C:\\Users\\Rain\\AppData\\Local\\Temp\\ipykernel_23516\\2431815014.py:15: RuntimeWarning: divide by zero encountered in double_scalars\n",
      "  quarter_eps.yoy_growth.iloc[i] = (quarter_eps.eps.iloc[i] - quarter_eps.eps.iloc[i+4]) / quarter_eps.eps.iloc[i+4]\n"
     ]
    },
    {
     "name": "stdout",
     "output_type": "stream",
     "text": [
      "ATEC not selected\n",
      "ATEK data not enough\n"
     ]
    },
    {
     "name": "stderr",
     "output_type": "stream",
     "text": [
      "C:\\Users\\Rain\\AppData\\Local\\Temp\\ipykernel_23516\\2431815014.py:15: RuntimeWarning: divide by zero encountered in double_scalars\n",
      "  quarter_eps.yoy_growth.iloc[i] = (quarter_eps.eps.iloc[i] - quarter_eps.eps.iloc[i+4]) / quarter_eps.eps.iloc[i+4]\n",
      "C:\\Users\\Rain\\AppData\\Local\\Temp\\ipykernel_23516\\2431815014.py:15: RuntimeWarning: divide by zero encountered in double_scalars\n",
      "  quarter_eps.yoy_growth.iloc[i] = (quarter_eps.eps.iloc[i] - quarter_eps.eps.iloc[i+4]) / quarter_eps.eps.iloc[i+4]\n"
     ]
    },
    {
     "name": "stdout",
     "output_type": "stream",
     "text": [
      "ATEN selected\n",
      "ATER not selected\n"
     ]
    },
    {
     "name": "stderr",
     "output_type": "stream",
     "text": [
      "C:\\Users\\Rain\\AppData\\Local\\Temp\\ipykernel_23516\\2431815014.py:15: RuntimeWarning: divide by zero encountered in double_scalars\n",
      "  quarter_eps.yoy_growth.iloc[i] = (quarter_eps.eps.iloc[i] - quarter_eps.eps.iloc[i+4]) / quarter_eps.eps.iloc[i+4]\n"
     ]
    },
    {
     "name": "stdout",
     "output_type": "stream",
     "text": [
      "ATEX not selected\n",
      "ATGE selected\n"
     ]
    },
    {
     "name": "stderr",
     "output_type": "stream",
     "text": [
      "C:\\Users\\Rain\\AppData\\Local\\Temp\\ipykernel_23516\\2431815014.py:15: RuntimeWarning: divide by zero encountered in double_scalars\n",
      "  quarter_eps.yoy_growth.iloc[i] = (quarter_eps.eps.iloc[i] - quarter_eps.eps.iloc[i+4]) / quarter_eps.eps.iloc[i+4]\n",
      "C:\\Users\\Rain\\AppData\\Local\\Temp\\ipykernel_23516\\2431815014.py:15: RuntimeWarning: invalid value encountered in double_scalars\n",
      "  quarter_eps.yoy_growth.iloc[i] = (quarter_eps.eps.iloc[i] - quarter_eps.eps.iloc[i+4]) / quarter_eps.eps.iloc[i+4]\n"
     ]
    },
    {
     "name": "stdout",
     "output_type": "stream",
     "text": [
      "ATHA not selected\n",
      "ATHE not selected\n",
      "ATHM not selected\n",
      "ATHX not selected\n",
      "ATI not selected\n",
      "ATIF data not enough\n"
     ]
    },
    {
     "name": "stderr",
     "output_type": "stream",
     "text": [
      "C:\\Users\\Rain\\AppData\\Local\\Temp\\ipykernel_23516\\2431815014.py:15: RuntimeWarning: divide by zero encountered in double_scalars\n",
      "  quarter_eps.yoy_growth.iloc[i] = (quarter_eps.eps.iloc[i] - quarter_eps.eps.iloc[i+4]) / quarter_eps.eps.iloc[i+4]\n",
      "C:\\Users\\Rain\\AppData\\Local\\Temp\\ipykernel_23516\\2431815014.py:19: RuntimeWarning: invalid value encountered in double_scalars\n",
      "  quarter_eps.fixed_yoy_growth.iloc[i] = (quarter_eps.yoy_growth.iloc[i] + quarter_eps.yoy_growth.iloc[i+1]) / 2\n",
      "C:\\Users\\Rain\\AppData\\Local\\Temp\\ipykernel_23516\\2431815014.py:15: RuntimeWarning: divide by zero encountered in double_scalars\n",
      "  quarter_eps.yoy_growth.iloc[i] = (quarter_eps.eps.iloc[i] - quarter_eps.eps.iloc[i+4]) / quarter_eps.eps.iloc[i+4]\n"
     ]
    },
    {
     "name": "stdout",
     "output_type": "stream",
     "text": [
      "ATIP selected\n",
      "ATKR not selected\n"
     ]
    },
    {
     "name": "stderr",
     "output_type": "stream",
     "text": [
      "C:\\Users\\Rain\\AppData\\Local\\Temp\\ipykernel_23516\\2431815014.py:15: RuntimeWarning: divide by zero encountered in double_scalars\n",
      "  quarter_eps.yoy_growth.iloc[i] = (quarter_eps.eps.iloc[i] - quarter_eps.eps.iloc[i+4]) / quarter_eps.eps.iloc[i+4]\n"
     ]
    },
    {
     "name": "stdout",
     "output_type": "stream",
     "text": [
      "ATLC not selected\n",
      "ATLO not selected\n"
     ]
    },
    {
     "name": "stderr",
     "output_type": "stream",
     "text": [
      "C:\\Users\\Rain\\AppData\\Local\\Temp\\ipykernel_23516\\2431815014.py:15: RuntimeWarning: divide by zero encountered in double_scalars\n",
      "  quarter_eps.yoy_growth.iloc[i] = (quarter_eps.eps.iloc[i] - quarter_eps.eps.iloc[i+4]) / quarter_eps.eps.iloc[i+4]\n"
     ]
    },
    {
     "name": "stdout",
     "output_type": "stream",
     "text": [
      "ATNF not selected\n",
      "ATNI not selected\n"
     ]
    },
    {
     "name": "stderr",
     "output_type": "stream",
     "text": [
      "C:\\Users\\Rain\\AppData\\Local\\Temp\\ipykernel_23516\\2431815014.py:15: RuntimeWarning: divide by zero encountered in double_scalars\n",
      "  quarter_eps.yoy_growth.iloc[i] = (quarter_eps.eps.iloc[i] - quarter_eps.eps.iloc[i+4]) / quarter_eps.eps.iloc[i+4]\n",
      "C:\\Users\\Rain\\AppData\\Local\\Temp\\ipykernel_23516\\2431815014.py:15: RuntimeWarning: divide by zero encountered in double_scalars\n",
      "  quarter_eps.yoy_growth.iloc[i] = (quarter_eps.eps.iloc[i] - quarter_eps.eps.iloc[i+4]) / quarter_eps.eps.iloc[i+4]\n"
     ]
    },
    {
     "name": "stdout",
     "output_type": "stream",
     "text": [
      "ATNM not selected\n",
      "ATNX not selected\n",
      "ATO not selected\n",
      "ATOM not selected\n"
     ]
    },
    {
     "name": "stderr",
     "output_type": "stream",
     "text": [
      "C:\\Users\\Rain\\AppData\\Local\\Temp\\ipykernel_23516\\2431815014.py:15: RuntimeWarning: divide by zero encountered in double_scalars\n",
      "  quarter_eps.yoy_growth.iloc[i] = (quarter_eps.eps.iloc[i] - quarter_eps.eps.iloc[i+4]) / quarter_eps.eps.iloc[i+4]\n",
      "C:\\Users\\Rain\\AppData\\Local\\Temp\\ipykernel_23516\\2431815014.py:15: RuntimeWarning: divide by zero encountered in double_scalars\n",
      "  quarter_eps.yoy_growth.iloc[i] = (quarter_eps.eps.iloc[i] - quarter_eps.eps.iloc[i+4]) / quarter_eps.eps.iloc[i+4]\n"
     ]
    },
    {
     "name": "stdout",
     "output_type": "stream",
     "text": [
      "ATOS not selected\n",
      "ATR not selected\n"
     ]
    },
    {
     "name": "stderr",
     "output_type": "stream",
     "text": [
      "C:\\Users\\Rain\\AppData\\Local\\Temp\\ipykernel_23516\\2431815014.py:15: RuntimeWarning: divide by zero encountered in double_scalars\n",
      "  quarter_eps.yoy_growth.iloc[i] = (quarter_eps.eps.iloc[i] - quarter_eps.eps.iloc[i+4]) / quarter_eps.eps.iloc[i+4]\n",
      "C:\\Users\\Rain\\AppData\\Local\\Temp\\ipykernel_23516\\2431815014.py:15: RuntimeWarning: invalid value encountered in double_scalars\n",
      "  quarter_eps.yoy_growth.iloc[i] = (quarter_eps.eps.iloc[i] - quarter_eps.eps.iloc[i+4]) / quarter_eps.eps.iloc[i+4]\n",
      "C:\\Users\\Rain\\AppData\\Local\\Temp\\ipykernel_23516\\2431815014.py:15: RuntimeWarning: divide by zero encountered in double_scalars\n",
      "  quarter_eps.yoy_growth.iloc[i] = (quarter_eps.eps.iloc[i] - quarter_eps.eps.iloc[i+4]) / quarter_eps.eps.iloc[i+4]\n"
     ]
    },
    {
     "name": "stdout",
     "output_type": "stream",
     "text": [
      "ATRA not selected\n",
      "ATRC not selected\n",
      "ATRI not selected\n",
      "ATRO not selected\n"
     ]
    },
    {
     "name": "stderr",
     "output_type": "stream",
     "text": [
      "C:\\Users\\Rain\\AppData\\Local\\Temp\\ipykernel_23516\\2431815014.py:15: RuntimeWarning: divide by zero encountered in double_scalars\n",
      "  quarter_eps.yoy_growth.iloc[i] = (quarter_eps.eps.iloc[i] - quarter_eps.eps.iloc[i+4]) / quarter_eps.eps.iloc[i+4]\n"
     ]
    },
    {
     "name": "stdout",
     "output_type": "stream",
     "text": [
      "ATSG not selected\n",
      "ATTO selected\n"
     ]
    },
    {
     "name": "stderr",
     "output_type": "stream",
     "text": [
      "C:\\Users\\Rain\\AppData\\Local\\Temp\\ipykernel_23516\\2431815014.py:15: RuntimeWarning: divide by zero encountered in double_scalars\n",
      "  quarter_eps.yoy_growth.iloc[i] = (quarter_eps.eps.iloc[i] - quarter_eps.eps.iloc[i+4]) / quarter_eps.eps.iloc[i+4]\n",
      "C:\\Users\\Rain\\AppData\\Local\\Temp\\ipykernel_23516\\2431815014.py:15: RuntimeWarning: divide by zero encountered in double_scalars\n",
      "  quarter_eps.yoy_growth.iloc[i] = (quarter_eps.eps.iloc[i] - quarter_eps.eps.iloc[i+4]) / quarter_eps.eps.iloc[i+4]\n"
     ]
    },
    {
     "name": "stdout",
     "output_type": "stream",
     "text": [
      "ATUS not selected\n",
      "ATVI not selected\n"
     ]
    },
    {
     "name": "stderr",
     "output_type": "stream",
     "text": [
      "C:\\Users\\Rain\\AppData\\Local\\Temp\\ipykernel_23516\\2431815014.py:15: RuntimeWarning: divide by zero encountered in double_scalars\n",
      "  quarter_eps.yoy_growth.iloc[i] = (quarter_eps.eps.iloc[i] - quarter_eps.eps.iloc[i+4]) / quarter_eps.eps.iloc[i+4]\n",
      "C:\\Users\\Rain\\AppData\\Local\\Temp\\ipykernel_23516\\2431815014.py:15: RuntimeWarning: divide by zero encountered in double_scalars\n",
      "  quarter_eps.yoy_growth.iloc[i] = (quarter_eps.eps.iloc[i] - quarter_eps.eps.iloc[i+4]) / quarter_eps.eps.iloc[i+4]\n"
     ]
    },
    {
     "name": "stdout",
     "output_type": "stream",
     "text": [
      "ATXI not selected\n",
      "ATXS not exsit\n",
      "ATY not selected\n"
     ]
    },
    {
     "name": "stderr",
     "output_type": "stream",
     "text": [
      "C:\\Users\\Rain\\AppData\\Local\\Temp\\ipykernel_23516\\2431815014.py:15: RuntimeWarning: invalid value encountered in double_scalars\n",
      "  quarter_eps.yoy_growth.iloc[i] = (quarter_eps.eps.iloc[i] - quarter_eps.eps.iloc[i+4]) / quarter_eps.eps.iloc[i+4]\n",
      "C:\\Users\\Rain\\AppData\\Local\\Temp\\ipykernel_23516\\2431815014.py:15: RuntimeWarning: divide by zero encountered in double_scalars\n",
      "  quarter_eps.yoy_growth.iloc[i] = (quarter_eps.eps.iloc[i] - quarter_eps.eps.iloc[i+4]) / quarter_eps.eps.iloc[i+4]\n"
     ]
    },
    {
     "name": "stdout",
     "output_type": "stream",
     "text": [
      "AU not selected\n",
      "AUB not selected\n",
      "AUBN not selected\n",
      "AUD not selected\n"
     ]
    },
    {
     "name": "stderr",
     "output_type": "stream",
     "text": [
      "C:\\Users\\Rain\\AppData\\Local\\Temp\\ipykernel_23516\\2431815014.py:15: RuntimeWarning: divide by zero encountered in double_scalars\n",
      "  quarter_eps.yoy_growth.iloc[i] = (quarter_eps.eps.iloc[i] - quarter_eps.eps.iloc[i+4]) / quarter_eps.eps.iloc[i+4]\n",
      "C:\\Users\\Rain\\AppData\\Local\\Temp\\ipykernel_23516\\2431815014.py:15: RuntimeWarning: divide by zero encountered in double_scalars\n",
      "  quarter_eps.yoy_growth.iloc[i] = (quarter_eps.eps.iloc[i] - quarter_eps.eps.iloc[i+4]) / quarter_eps.eps.iloc[i+4]\n",
      "C:\\Users\\Rain\\AppData\\Local\\Temp\\ipykernel_23516\\2431815014.py:15: RuntimeWarning: invalid value encountered in double_scalars\n",
      "  quarter_eps.yoy_growth.iloc[i] = (quarter_eps.eps.iloc[i] - quarter_eps.eps.iloc[i+4]) / quarter_eps.eps.iloc[i+4]\n"
     ]
    },
    {
     "name": "stdout",
     "output_type": "stream",
     "text": [
      "AUDC not selected\n",
      "AUGX not selected\n"
     ]
    },
    {
     "name": "stderr",
     "output_type": "stream",
     "text": [
      "C:\\Users\\Rain\\AppData\\Local\\Temp\\ipykernel_23516\\2431815014.py:15: RuntimeWarning: divide by zero encountered in double_scalars\n",
      "  quarter_eps.yoy_growth.iloc[i] = (quarter_eps.eps.iloc[i] - quarter_eps.eps.iloc[i+4]) / quarter_eps.eps.iloc[i+4]\n",
      "C:\\Users\\Rain\\AppData\\Local\\Temp\\ipykernel_23516\\2431815014.py:15: RuntimeWarning: divide by zero encountered in double_scalars\n",
      "  quarter_eps.yoy_growth.iloc[i] = (quarter_eps.eps.iloc[i] - quarter_eps.eps.iloc[i+4]) / quarter_eps.eps.iloc[i+4]\n"
     ]
    },
    {
     "name": "stdout",
     "output_type": "stream",
     "text": [
      "AUID not selected\n",
      "AUMN not selected\n"
     ]
    },
    {
     "name": "stderr",
     "output_type": "stream",
     "text": [
      "C:\\Users\\Rain\\AppData\\Local\\Temp\\ipykernel_23516\\2431815014.py:15: RuntimeWarning: divide by zero encountered in double_scalars\n",
      "  quarter_eps.yoy_growth.iloc[i] = (quarter_eps.eps.iloc[i] - quarter_eps.eps.iloc[i+4]) / quarter_eps.eps.iloc[i+4]\n",
      "C:\\Users\\Rain\\AppData\\Local\\Temp\\ipykernel_23516\\2431815014.py:15: RuntimeWarning: divide by zero encountered in double_scalars\n",
      "  quarter_eps.yoy_growth.iloc[i] = (quarter_eps.eps.iloc[i] - quarter_eps.eps.iloc[i+4]) / quarter_eps.eps.iloc[i+4]\n"
     ]
    },
    {
     "name": "stdout",
     "output_type": "stream",
     "text": [
      "AUPH not selected\n",
      "AUR selected\n"
     ]
    },
    {
     "name": "stderr",
     "output_type": "stream",
     "text": [
      "C:\\Users\\Rain\\AppData\\Local\\Temp\\ipykernel_23516\\2431815014.py:15: RuntimeWarning: divide by zero encountered in double_scalars\n",
      "  quarter_eps.yoy_growth.iloc[i] = (quarter_eps.eps.iloc[i] - quarter_eps.eps.iloc[i+4]) / quarter_eps.eps.iloc[i+4]\n",
      "C:\\Users\\Rain\\AppData\\Local\\Temp\\ipykernel_23516\\2431815014.py:15: RuntimeWarning: divide by zero encountered in double_scalars\n",
      "  quarter_eps.yoy_growth.iloc[i] = (quarter_eps.eps.iloc[i] - quarter_eps.eps.iloc[i+4]) / quarter_eps.eps.iloc[i+4]\n"
     ]
    },
    {
     "name": "stdout",
     "output_type": "stream",
     "text": [
      "AURA not selected\n",
      "AURC not selected\n"
     ]
    },
    {
     "name": "stderr",
     "output_type": "stream",
     "text": [
      "C:\\Users\\Rain\\AppData\\Local\\Temp\\ipykernel_23516\\2431815014.py:15: RuntimeWarning: divide by zero encountered in double_scalars\n",
      "  quarter_eps.yoy_growth.iloc[i] = (quarter_eps.eps.iloc[i] - quarter_eps.eps.iloc[i+4]) / quarter_eps.eps.iloc[i+4]\n",
      "C:\\Users\\Rain\\AppData\\Local\\Temp\\ipykernel_23516\\2431815014.py:15: RuntimeWarning: divide by zero encountered in double_scalars\n",
      "  quarter_eps.yoy_growth.iloc[i] = (quarter_eps.eps.iloc[i] - quarter_eps.eps.iloc[i+4]) / quarter_eps.eps.iloc[i+4]\n"
     ]
    },
    {
     "name": "stdout",
     "output_type": "stream",
     "text": [
      "AUS not selected\n",
      "AUST data not enough\n"
     ]
    },
    {
     "name": "stderr",
     "output_type": "stream",
     "text": [
      "C:\\Users\\Rain\\AppData\\Local\\Temp\\ipykernel_23516\\2431815014.py:15: RuntimeWarning: divide by zero encountered in double_scalars\n",
      "  quarter_eps.yoy_growth.iloc[i] = (quarter_eps.eps.iloc[i] - quarter_eps.eps.iloc[i+4]) / quarter_eps.eps.iloc[i+4]\n"
     ]
    },
    {
     "name": "stdout",
     "output_type": "stream",
     "text": [
      "AUTL not selected\n",
      "AUTO selected\n",
      "AUUD data not enough\n",
      "AUVI not selected\n"
     ]
    },
    {
     "name": "stderr",
     "output_type": "stream",
     "text": [
      "C:\\Users\\Rain\\AppData\\Local\\Temp\\ipykernel_23516\\2431815014.py:15: RuntimeWarning: divide by zero encountered in double_scalars\n",
      "  quarter_eps.yoy_growth.iloc[i] = (quarter_eps.eps.iloc[i] - quarter_eps.eps.iloc[i+4]) / quarter_eps.eps.iloc[i+4]\n",
      "C:\\Users\\Rain\\AppData\\Local\\Temp\\ipykernel_23516\\2431815014.py:15: RuntimeWarning: divide by zero encountered in double_scalars\n",
      "  quarter_eps.yoy_growth.iloc[i] = (quarter_eps.eps.iloc[i] - quarter_eps.eps.iloc[i+4]) / quarter_eps.eps.iloc[i+4]\n"
     ]
    },
    {
     "name": "stdout",
     "output_type": "stream",
     "text": [
      "AUY not selected\n",
      "AVA not selected\n",
      "AVAC data not enough\n",
      "AVAH not selected\n"
     ]
    },
    {
     "name": "stderr",
     "output_type": "stream",
     "text": [
      "C:\\Users\\Rain\\AppData\\Local\\Temp\\ipykernel_23516\\2431815014.py:15: RuntimeWarning: divide by zero encountered in double_scalars\n",
      "  quarter_eps.yoy_growth.iloc[i] = (quarter_eps.eps.iloc[i] - quarter_eps.eps.iloc[i+4]) / quarter_eps.eps.iloc[i+4]\n",
      "C:\\Users\\Rain\\AppData\\Local\\Temp\\ipykernel_23516\\2431815014.py:15: RuntimeWarning: divide by zero encountered in double_scalars\n",
      "  quarter_eps.yoy_growth.iloc[i] = (quarter_eps.eps.iloc[i] - quarter_eps.eps.iloc[i+4]) / quarter_eps.eps.iloc[i+4]\n"
     ]
    },
    {
     "name": "stdout",
     "output_type": "stream",
     "text": [
      "AVAL not selected\n",
      "AVAN selected\n"
     ]
    },
    {
     "name": "stderr",
     "output_type": "stream",
     "text": [
      "C:\\Users\\Rain\\AppData\\Local\\Temp\\ipykernel_23516\\2431815014.py:15: RuntimeWarning: divide by zero encountered in double_scalars\n",
      "  quarter_eps.yoy_growth.iloc[i] = (quarter_eps.eps.iloc[i] - quarter_eps.eps.iloc[i+4]) / quarter_eps.eps.iloc[i+4]\n"
     ]
    },
    {
     "name": "stdout",
     "output_type": "stream",
     "text": [
      "AVAV not selected\n",
      "AVB not selected\n"
     ]
    },
    {
     "name": "stderr",
     "output_type": "stream",
     "text": [
      "C:\\Users\\Rain\\AppData\\Local\\Temp\\ipykernel_23516\\2431815014.py:15: RuntimeWarning: divide by zero encountered in double_scalars\n",
      "  quarter_eps.yoy_growth.iloc[i] = (quarter_eps.eps.iloc[i] - quarter_eps.eps.iloc[i+4]) / quarter_eps.eps.iloc[i+4]\n",
      "C:\\Users\\Rain\\AppData\\Local\\Temp\\ipykernel_23516\\2431815014.py:15: RuntimeWarning: invalid value encountered in double_scalars\n",
      "  quarter_eps.yoy_growth.iloc[i] = (quarter_eps.eps.iloc[i] - quarter_eps.eps.iloc[i+4]) / quarter_eps.eps.iloc[i+4]\n",
      "C:\\Users\\Rain\\AppData\\Local\\Temp\\ipykernel_23516\\2431815014.py:19: RuntimeWarning: invalid value encountered in double_scalars\n",
      "  quarter_eps.fixed_yoy_growth.iloc[i] = (quarter_eps.yoy_growth.iloc[i] + quarter_eps.yoy_growth.iloc[i+1]) / 2\n",
      "C:\\Users\\Rain\\AppData\\Local\\Temp\\ipykernel_23516\\2431815014.py:15: RuntimeWarning: divide by zero encountered in double_scalars\n",
      "  quarter_eps.yoy_growth.iloc[i] = (quarter_eps.eps.iloc[i] - quarter_eps.eps.iloc[i+4]) / quarter_eps.eps.iloc[i+4]\n"
     ]
    },
    {
     "name": "stdout",
     "output_type": "stream",
     "text": [
      "AVCO not selected\n",
      "AVCT not exsit\n",
      "AVD selected\n",
      "AVDL selected\n",
      "AVDX not selected\n"
     ]
    },
    {
     "name": "stderr",
     "output_type": "stream",
     "text": [
      "C:\\Users\\Rain\\AppData\\Local\\Temp\\ipykernel_23516\\2431815014.py:15: RuntimeWarning: divide by zero encountered in double_scalars\n",
      "  quarter_eps.yoy_growth.iloc[i] = (quarter_eps.eps.iloc[i] - quarter_eps.eps.iloc[i+4]) / quarter_eps.eps.iloc[i+4]\n"
     ]
    },
    {
     "name": "stdout",
     "output_type": "stream",
     "text": [
      "AVEO not selected\n",
      "AVGO not selected\n",
      "AVGR not exsit\n",
      "AVHI data not enough\n",
      "AVID not selected\n"
     ]
    },
    {
     "name": "stderr",
     "output_type": "stream",
     "text": [
      "C:\\Users\\Rain\\AppData\\Local\\Temp\\ipykernel_23516\\2431815014.py:15: RuntimeWarning: divide by zero encountered in double_scalars\n",
      "  quarter_eps.yoy_growth.iloc[i] = (quarter_eps.eps.iloc[i] - quarter_eps.eps.iloc[i+4]) / quarter_eps.eps.iloc[i+4]\n",
      "C:\\Users\\Rain\\AppData\\Local\\Temp\\ipykernel_23516\\2431815014.py:15: RuntimeWarning: divide by zero encountered in double_scalars\n",
      "  quarter_eps.yoy_growth.iloc[i] = (quarter_eps.eps.iloc[i] - quarter_eps.eps.iloc[i+4]) / quarter_eps.eps.iloc[i+4]\n",
      "C:\\Users\\Rain\\AppData\\Local\\Temp\\ipykernel_23516\\2431815014.py:19: RuntimeWarning: invalid value encountered in double_scalars\n",
      "  quarter_eps.fixed_yoy_growth.iloc[i] = (quarter_eps.yoy_growth.iloc[i] + quarter_eps.yoy_growth.iloc[i+1]) / 2\n"
     ]
    },
    {
     "name": "stdout",
     "output_type": "stream",
     "text": [
      "AVIR not selected\n",
      "AVLR not selected\n"
     ]
    },
    {
     "name": "stderr",
     "output_type": "stream",
     "text": [
      "C:\\Users\\Rain\\AppData\\Local\\Temp\\ipykernel_23516\\2431815014.py:15: RuntimeWarning: divide by zero encountered in double_scalars\n",
      "  quarter_eps.yoy_growth.iloc[i] = (quarter_eps.eps.iloc[i] - quarter_eps.eps.iloc[i+4]) / quarter_eps.eps.iloc[i+4]\n",
      "C:\\Users\\Rain\\AppData\\Local\\Temp\\ipykernel_23516\\2431815014.py:15: RuntimeWarning: invalid value encountered in double_scalars\n",
      "  quarter_eps.yoy_growth.iloc[i] = (quarter_eps.eps.iloc[i] - quarter_eps.eps.iloc[i+4]) / quarter_eps.eps.iloc[i+4]\n",
      "C:\\Users\\Rain\\AppData\\Local\\Temp\\ipykernel_23516\\2431815014.py:15: RuntimeWarning: divide by zero encountered in double_scalars\n",
      "  quarter_eps.yoy_growth.iloc[i] = (quarter_eps.eps.iloc[i] - quarter_eps.eps.iloc[i+4]) / quarter_eps.eps.iloc[i+4]\n",
      "C:\\Users\\Rain\\AppData\\Local\\Temp\\ipykernel_23516\\2431815014.py:19: RuntimeWarning: invalid value encountered in double_scalars\n",
      "  quarter_eps.fixed_yoy_growth.iloc[i] = (quarter_eps.yoy_growth.iloc[i] + quarter_eps.yoy_growth.iloc[i+1]) / 2\n"
     ]
    },
    {
     "name": "stdout",
     "output_type": "stream",
     "text": [
      "AVNS not selected\n",
      "AVNT not selected\n",
      "AVNW not selected\n",
      "AVO not selected\n"
     ]
    },
    {
     "name": "stderr",
     "output_type": "stream",
     "text": [
      "C:\\Users\\Rain\\AppData\\Local\\Temp\\ipykernel_23516\\2431815014.py:15: RuntimeWarning: divide by zero encountered in double_scalars\n",
      "  quarter_eps.yoy_growth.iloc[i] = (quarter_eps.eps.iloc[i] - quarter_eps.eps.iloc[i+4]) / quarter_eps.eps.iloc[i+4]\n",
      "C:\\Users\\Rain\\AppData\\Local\\Temp\\ipykernel_23516\\2431815014.py:15: RuntimeWarning: divide by zero encountered in double_scalars\n",
      "  quarter_eps.yoy_growth.iloc[i] = (quarter_eps.eps.iloc[i] - quarter_eps.eps.iloc[i+4]) / quarter_eps.eps.iloc[i+4]\n",
      "C:\\Users\\Rain\\AppData\\Local\\Temp\\ipykernel_23516\\2431815014.py:19: RuntimeWarning: invalid value encountered in double_scalars\n",
      "  quarter_eps.fixed_yoy_growth.iloc[i] = (quarter_eps.yoy_growth.iloc[i] + quarter_eps.yoy_growth.iloc[i+1]) / 2\n",
      "C:\\Users\\Rain\\AppData\\Local\\Temp\\ipykernel_23516\\2431815014.py:15: RuntimeWarning: divide by zero encountered in double_scalars\n",
      "  quarter_eps.yoy_growth.iloc[i] = (quarter_eps.eps.iloc[i] - quarter_eps.eps.iloc[i+4]) / quarter_eps.eps.iloc[i+4]\n"
     ]
    },
    {
     "name": "stdout",
     "output_type": "stream",
     "text": [
      "AVPT not selected\n",
      "AVRO not selected\n",
      "AVT selected\n",
      "AVTE not selected\n"
     ]
    },
    {
     "name": "stderr",
     "output_type": "stream",
     "text": [
      "C:\\Users\\Rain\\AppData\\Local\\Temp\\ipykernel_23516\\2431815014.py:15: RuntimeWarning: divide by zero encountered in double_scalars\n",
      "  quarter_eps.yoy_growth.iloc[i] = (quarter_eps.eps.iloc[i] - quarter_eps.eps.iloc[i+4]) / quarter_eps.eps.iloc[i+4]\n",
      "C:\\Users\\Rain\\AppData\\Local\\Temp\\ipykernel_23516\\2431815014.py:15: RuntimeWarning: divide by zero encountered in double_scalars\n",
      "  quarter_eps.yoy_growth.iloc[i] = (quarter_eps.eps.iloc[i] - quarter_eps.eps.iloc[i+4]) / quarter_eps.eps.iloc[i+4]\n"
     ]
    },
    {
     "name": "stdout",
     "output_type": "stream",
     "text": [
      "AVTR not selected\n",
      "AVTX not selected\n"
     ]
    },
    {
     "name": "stderr",
     "output_type": "stream",
     "text": [
      "C:\\Users\\Rain\\AppData\\Local\\Temp\\ipykernel_23516\\2431815014.py:15: RuntimeWarning: divide by zero encountered in double_scalars\n",
      "  quarter_eps.yoy_growth.iloc[i] = (quarter_eps.eps.iloc[i] - quarter_eps.eps.iloc[i+4]) / quarter_eps.eps.iloc[i+4]\n",
      "C:\\Users\\Rain\\AppData\\Local\\Temp\\ipykernel_23516\\2431815014.py:15: RuntimeWarning: divide by zero encountered in double_scalars\n",
      "  quarter_eps.yoy_growth.iloc[i] = (quarter_eps.eps.iloc[i] - quarter_eps.eps.iloc[i+4]) / quarter_eps.eps.iloc[i+4]\n"
     ]
    },
    {
     "name": "stdout",
     "output_type": "stream",
     "text": [
      "AVXL not selected\n",
      "AVY not selected\n"
     ]
    },
    {
     "name": "stderr",
     "output_type": "stream",
     "text": [
      "C:\\Users\\Rain\\AppData\\Local\\Temp\\ipykernel_23516\\2431815014.py:15: RuntimeWarning: divide by zero encountered in double_scalars\n",
      "  quarter_eps.yoy_growth.iloc[i] = (quarter_eps.eps.iloc[i] - quarter_eps.eps.iloc[i+4]) / quarter_eps.eps.iloc[i+4]\n",
      "C:\\Users\\Rain\\AppData\\Local\\Temp\\ipykernel_23516\\2431815014.py:19: RuntimeWarning: invalid value encountered in double_scalars\n",
      "  quarter_eps.fixed_yoy_growth.iloc[i] = (quarter_eps.yoy_growth.iloc[i] + quarter_eps.yoy_growth.iloc[i+1]) / 2\n"
     ]
    },
    {
     "name": "stdout",
     "output_type": "stream",
     "text": [
      "AVYA selected\n",
      "AWH not selected\n",
      "AWI not selected\n",
      "AWK not selected\n"
     ]
    },
    {
     "name": "stderr",
     "output_type": "stream",
     "text": [
      "C:\\Users\\Rain\\AppData\\Local\\Temp\\ipykernel_23516\\2431815014.py:15: RuntimeWarning: divide by zero encountered in double_scalars\n",
      "  quarter_eps.yoy_growth.iloc[i] = (quarter_eps.eps.iloc[i] - quarter_eps.eps.iloc[i+4]) / quarter_eps.eps.iloc[i+4]\n"
     ]
    },
    {
     "name": "stdout",
     "output_type": "stream",
     "text": [
      "AWR not selected\n",
      "AWRE not selected\n"
     ]
    },
    {
     "name": "stderr",
     "output_type": "stream",
     "text": [
      "C:\\Users\\Rain\\AppData\\Local\\Temp\\ipykernel_23516\\2431815014.py:15: RuntimeWarning: divide by zero encountered in double_scalars\n",
      "  quarter_eps.yoy_growth.iloc[i] = (quarter_eps.eps.iloc[i] - quarter_eps.eps.iloc[i+4]) / quarter_eps.eps.iloc[i+4]\n",
      "C:\\Users\\Rain\\AppData\\Local\\Temp\\ipykernel_23516\\2431815014.py:15: RuntimeWarning: divide by zero encountered in double_scalars\n",
      "  quarter_eps.yoy_growth.iloc[i] = (quarter_eps.eps.iloc[i] - quarter_eps.eps.iloc[i+4]) / quarter_eps.eps.iloc[i+4]\n",
      "C:\\Users\\Rain\\AppData\\Local\\Temp\\ipykernel_23516\\2431815014.py:15: RuntimeWarning: invalid value encountered in double_scalars\n",
      "  quarter_eps.yoy_growth.iloc[i] = (quarter_eps.eps.iloc[i] - quarter_eps.eps.iloc[i+4]) / quarter_eps.eps.iloc[i+4]\n"
     ]
    },
    {
     "name": "stdout",
     "output_type": "stream",
     "text": [
      "AWX not selected\n",
      "AX not selected\n",
      "AXAC data not enough\n",
      "AXDX not selected\n"
     ]
    },
    {
     "name": "stderr",
     "output_type": "stream",
     "text": [
      "C:\\Users\\Rain\\AppData\\Local\\Temp\\ipykernel_23516\\2431815014.py:15: RuntimeWarning: divide by zero encountered in double_scalars\n",
      "  quarter_eps.yoy_growth.iloc[i] = (quarter_eps.eps.iloc[i] - quarter_eps.eps.iloc[i+4]) / quarter_eps.eps.iloc[i+4]\n",
      "C:\\Users\\Rain\\AppData\\Local\\Temp\\ipykernel_23516\\2431815014.py:15: RuntimeWarning: invalid value encountered in double_scalars\n",
      "  quarter_eps.yoy_growth.iloc[i] = (quarter_eps.eps.iloc[i] - quarter_eps.eps.iloc[i+4]) / quarter_eps.eps.iloc[i+4]\n"
     ]
    },
    {
     "name": "stdout",
     "output_type": "stream",
     "text": [
      "AXGN not selected\n",
      "AXH data not enough\n",
      "AXL not selected\n"
     ]
    },
    {
     "name": "stderr",
     "output_type": "stream",
     "text": [
      "C:\\Users\\Rain\\AppData\\Local\\Temp\\ipykernel_23516\\2431815014.py:15: RuntimeWarning: divide by zero encountered in double_scalars\n",
      "  quarter_eps.yoy_growth.iloc[i] = (quarter_eps.eps.iloc[i] - quarter_eps.eps.iloc[i+4]) / quarter_eps.eps.iloc[i+4]\n",
      "C:\\Users\\Rain\\AppData\\Local\\Temp\\ipykernel_23516\\2431815014.py:15: RuntimeWarning: divide by zero encountered in double_scalars\n",
      "  quarter_eps.yoy_growth.iloc[i] = (quarter_eps.eps.iloc[i] - quarter_eps.eps.iloc[i+4]) / quarter_eps.eps.iloc[i+4]\n"
     ]
    },
    {
     "name": "stdout",
     "output_type": "stream",
     "text": [
      "AXLA not selected\n",
      "AXNX not selected\n"
     ]
    },
    {
     "name": "stderr",
     "output_type": "stream",
     "text": [
      "C:\\Users\\Rain\\AppData\\Local\\Temp\\ipykernel_23516\\2431815014.py:15: RuntimeWarning: divide by zero encountered in double_scalars\n",
      "  quarter_eps.yoy_growth.iloc[i] = (quarter_eps.eps.iloc[i] - quarter_eps.eps.iloc[i+4]) / quarter_eps.eps.iloc[i+4]\n",
      "C:\\Users\\Rain\\AppData\\Local\\Temp\\ipykernel_23516\\2431815014.py:19: RuntimeWarning: invalid value encountered in double_scalars\n",
      "  quarter_eps.fixed_yoy_growth.iloc[i] = (quarter_eps.yoy_growth.iloc[i] + quarter_eps.yoy_growth.iloc[i+1]) / 2\n"
     ]
    },
    {
     "name": "stdout",
     "output_type": "stream",
     "text": [
      "AXON not selected\n",
      "AXP not selected\n"
     ]
    },
    {
     "name": "stderr",
     "output_type": "stream",
     "text": [
      "C:\\Users\\Rain\\AppData\\Local\\Temp\\ipykernel_23516\\2431815014.py:15: RuntimeWarning: divide by zero encountered in double_scalars\n",
      "  quarter_eps.yoy_growth.iloc[i] = (quarter_eps.eps.iloc[i] - quarter_eps.eps.iloc[i+4]) / quarter_eps.eps.iloc[i+4]\n",
      "C:\\Users\\Rain\\AppData\\Local\\Temp\\ipykernel_23516\\2431815014.py:15: RuntimeWarning: invalid value encountered in double_scalars\n",
      "  quarter_eps.yoy_growth.iloc[i] = (quarter_eps.eps.iloc[i] - quarter_eps.eps.iloc[i+4]) / quarter_eps.eps.iloc[i+4]\n",
      "C:\\Users\\Rain\\AppData\\Local\\Temp\\ipykernel_23516\\2431815014.py:19: RuntimeWarning: invalid value encountered in double_scalars\n",
      "  quarter_eps.fixed_yoy_growth.iloc[i] = (quarter_eps.yoy_growth.iloc[i] + quarter_eps.yoy_growth.iloc[i+1]) / 2\n"
     ]
    },
    {
     "name": "stdout",
     "output_type": "stream",
     "text": [
      "AXR selected\n",
      "AXS not selected\n"
     ]
    },
    {
     "name": "stderr",
     "output_type": "stream",
     "text": [
      "C:\\Users\\Rain\\AppData\\Local\\Temp\\ipykernel_23516\\2431815014.py:15: RuntimeWarning: divide by zero encountered in double_scalars\n",
      "  quarter_eps.yoy_growth.iloc[i] = (quarter_eps.eps.iloc[i] - quarter_eps.eps.iloc[i+4]) / quarter_eps.eps.iloc[i+4]\n",
      "C:\\Users\\Rain\\AppData\\Local\\Temp\\ipykernel_23516\\2431815014.py:15: RuntimeWarning: divide by zero encountered in double_scalars\n",
      "  quarter_eps.yoy_growth.iloc[i] = (quarter_eps.eps.iloc[i] - quarter_eps.eps.iloc[i+4]) / quarter_eps.eps.iloc[i+4]\n",
      "C:\\Users\\Rain\\AppData\\Local\\Temp\\ipykernel_23516\\2431815014.py:15: RuntimeWarning: invalid value encountered in double_scalars\n",
      "  quarter_eps.yoy_growth.iloc[i] = (quarter_eps.eps.iloc[i] - quarter_eps.eps.iloc[i+4]) / quarter_eps.eps.iloc[i+4]\n",
      "C:\\Users\\Rain\\AppData\\Local\\Temp\\ipykernel_23516\\2431815014.py:19: RuntimeWarning: invalid value encountered in double_scalars\n",
      "  quarter_eps.fixed_yoy_growth.iloc[i] = (quarter_eps.yoy_growth.iloc[i] + quarter_eps.yoy_growth.iloc[i+1]) / 2\n"
     ]
    },
    {
     "name": "stdout",
     "output_type": "stream",
     "text": [
      "AXSM not selected\n",
      "AXTA not selected\n"
     ]
    },
    {
     "name": "stderr",
     "output_type": "stream",
     "text": [
      "C:\\Users\\Rain\\AppData\\Local\\Temp\\ipykernel_23516\\2431815014.py:15: RuntimeWarning: divide by zero encountered in double_scalars\n",
      "  quarter_eps.yoy_growth.iloc[i] = (quarter_eps.eps.iloc[i] - quarter_eps.eps.iloc[i+4]) / quarter_eps.eps.iloc[i+4]\n",
      "C:\\Users\\Rain\\AppData\\Local\\Temp\\ipykernel_23516\\2431815014.py:15: RuntimeWarning: divide by zero encountered in double_scalars\n",
      "  quarter_eps.yoy_growth.iloc[i] = (quarter_eps.eps.iloc[i] - quarter_eps.eps.iloc[i+4]) / quarter_eps.eps.iloc[i+4]\n"
     ]
    },
    {
     "name": "stdout",
     "output_type": "stream",
     "text": [
      "AXTI not selected\n",
      "AXU selected\n",
      "AY not selected\n",
      "AYI not selected\n",
      "AYLA not selected\n",
      "AYRO not exsit\n",
      "AYTU not exsit\n"
     ]
    },
    {
     "name": "stderr",
     "output_type": "stream",
     "text": [
      "C:\\Users\\Rain\\AppData\\Local\\Temp\\ipykernel_23516\\2431815014.py:15: RuntimeWarning: divide by zero encountered in double_scalars\n",
      "  quarter_eps.yoy_growth.iloc[i] = (quarter_eps.eps.iloc[i] - quarter_eps.eps.iloc[i+4]) / quarter_eps.eps.iloc[i+4]\n",
      "C:\\Users\\Rain\\AppData\\Local\\Temp\\ipykernel_23516\\2431815014.py:15: RuntimeWarning: divide by zero encountered in double_scalars\n",
      "  quarter_eps.yoy_growth.iloc[i] = (quarter_eps.eps.iloc[i] - quarter_eps.eps.iloc[i+4]) / quarter_eps.eps.iloc[i+4]\n",
      "C:\\Users\\Rain\\AppData\\Local\\Temp\\ipykernel_23516\\2431815014.py:15: RuntimeWarning: divide by zero encountered in double_scalars\n",
      "  quarter_eps.yoy_growth.iloc[i] = (quarter_eps.eps.iloc[i] - quarter_eps.eps.iloc[i+4]) / quarter_eps.eps.iloc[i+4]\n"
     ]
    },
    {
     "name": "stdout",
     "output_type": "stream",
     "text": [
      "AYX selected\n",
      "AZ not selected\n"
     ]
    },
    {
     "name": "stderr",
     "output_type": "stream",
     "text": [
      "C:\\Users\\Rain\\AppData\\Local\\Temp\\ipykernel_23516\\2431815014.py:15: RuntimeWarning: divide by zero encountered in double_scalars\n",
      "  quarter_eps.yoy_growth.iloc[i] = (quarter_eps.eps.iloc[i] - quarter_eps.eps.iloc[i+4]) / quarter_eps.eps.iloc[i+4]\n",
      "C:\\Users\\Rain\\AppData\\Local\\Temp\\ipykernel_23516\\2431815014.py:15: RuntimeWarning: divide by zero encountered in double_scalars\n",
      "  quarter_eps.yoy_growth.iloc[i] = (quarter_eps.eps.iloc[i] - quarter_eps.eps.iloc[i+4]) / quarter_eps.eps.iloc[i+4]\n",
      "C:\\Users\\Rain\\AppData\\Local\\Temp\\ipykernel_23516\\2431815014.py:15: RuntimeWarning: divide by zero encountered in double_scalars\n",
      "  quarter_eps.yoy_growth.iloc[i] = (quarter_eps.eps.iloc[i] - quarter_eps.eps.iloc[i+4]) / quarter_eps.eps.iloc[i+4]\n"
     ]
    },
    {
     "name": "stdout",
     "output_type": "stream",
     "text": [
      "AZEK not selected\n",
      "AZN not selected\n",
      "AZO not selected\n",
      "AZPN not selected\n"
     ]
    },
    {
     "name": "stderr",
     "output_type": "stream",
     "text": [
      "C:\\Users\\Rain\\AppData\\Local\\Temp\\ipykernel_23516\\2431815014.py:15: RuntimeWarning: divide by zero encountered in double_scalars\n",
      "  quarter_eps.yoy_growth.iloc[i] = (quarter_eps.eps.iloc[i] - quarter_eps.eps.iloc[i+4]) / quarter_eps.eps.iloc[i+4]\n",
      "C:\\Users\\Rain\\AppData\\Local\\Temp\\ipykernel_23516\\2431815014.py:15: RuntimeWarning: divide by zero encountered in double_scalars\n",
      "  quarter_eps.yoy_growth.iloc[i] = (quarter_eps.eps.iloc[i] - quarter_eps.eps.iloc[i+4]) / quarter_eps.eps.iloc[i+4]\n"
     ]
    },
    {
     "name": "stdout",
     "output_type": "stream",
     "text": [
      "AZRE not selected\n",
      "AZTA selected\n"
     ]
    },
    {
     "name": "stderr",
     "output_type": "stream",
     "text": [
      "C:\\Users\\Rain\\AppData\\Local\\Temp\\ipykernel_23516\\2431815014.py:15: RuntimeWarning: divide by zero encountered in double_scalars\n",
      "  quarter_eps.yoy_growth.iloc[i] = (quarter_eps.eps.iloc[i] - quarter_eps.eps.iloc[i+4]) / quarter_eps.eps.iloc[i+4]\n",
      "C:\\Users\\Rain\\AppData\\Local\\Temp\\ipykernel_23516\\2431815014.py:15: RuntimeWarning: divide by zero encountered in double_scalars\n",
      "  quarter_eps.yoy_growth.iloc[i] = (quarter_eps.eps.iloc[i] - quarter_eps.eps.iloc[i+4]) / quarter_eps.eps.iloc[i+4]\n"
     ]
    },
    {
     "name": "stdout",
     "output_type": "stream",
     "text": [
      "AZUL not selected\n",
      "AZYO selected\n"
     ]
    },
    {
     "name": "stderr",
     "output_type": "stream",
     "text": [
      "C:\\Users\\Rain\\AppData\\Local\\Temp\\ipykernel_23516\\2431815014.py:15: RuntimeWarning: divide by zero encountered in double_scalars\n",
      "  quarter_eps.yoy_growth.iloc[i] = (quarter_eps.eps.iloc[i] - quarter_eps.eps.iloc[i+4]) / quarter_eps.eps.iloc[i+4]\n"
     ]
    },
    {
     "name": "stdout",
     "output_type": "stream",
     "text": [
      "AZZ not selected\n",
      "B not selected\n",
      "BA not selected\n"
     ]
    },
    {
     "name": "stderr",
     "output_type": "stream",
     "text": [
      "C:\\Users\\Rain\\AppData\\Local\\Temp\\ipykernel_23516\\2431815014.py:15: RuntimeWarning: divide by zero encountered in double_scalars\n",
      "  quarter_eps.yoy_growth.iloc[i] = (quarter_eps.eps.iloc[i] - quarter_eps.eps.iloc[i+4]) / quarter_eps.eps.iloc[i+4]\n",
      "C:\\Users\\Rain\\AppData\\Local\\Temp\\ipykernel_23516\\2431815014.py:15: RuntimeWarning: divide by zero encountered in double_scalars\n",
      "  quarter_eps.yoy_growth.iloc[i] = (quarter_eps.eps.iloc[i] - quarter_eps.eps.iloc[i+4]) / quarter_eps.eps.iloc[i+4]\n"
     ]
    },
    {
     "name": "stdout",
     "output_type": "stream",
     "text": [
      "BABA selected\n",
      "BAC not selected\n",
      "BACA data not enough\n",
      "BACK not selected\n"
     ]
    },
    {
     "name": "stderr",
     "output_type": "stream",
     "text": [
      "C:\\Users\\Rain\\AppData\\Local\\Temp\\ipykernel_23516\\2431815014.py:15: RuntimeWarning: divide by zero encountered in double_scalars\n",
      "  quarter_eps.yoy_growth.iloc[i] = (quarter_eps.eps.iloc[i] - quarter_eps.eps.iloc[i+4]) / quarter_eps.eps.iloc[i+4]\n",
      "C:\\Users\\Rain\\AppData\\Local\\Temp\\ipykernel_23516\\2431815014.py:15: RuntimeWarning: invalid value encountered in double_scalars\n",
      "  quarter_eps.yoy_growth.iloc[i] = (quarter_eps.eps.iloc[i] - quarter_eps.eps.iloc[i+4]) / quarter_eps.eps.iloc[i+4]\n"
     ]
    },
    {
     "name": "stdout",
     "output_type": "stream",
     "text": [
      "BAFN data not enough\n",
      "BAH not selected\n"
     ]
    },
    {
     "name": "stderr",
     "output_type": "stream",
     "text": [
      "C:\\Users\\Rain\\AppData\\Local\\Temp\\ipykernel_23516\\2431815014.py:15: RuntimeWarning: divide by zero encountered in double_scalars\n",
      "  quarter_eps.yoy_growth.iloc[i] = (quarter_eps.eps.iloc[i] - quarter_eps.eps.iloc[i+4]) / quarter_eps.eps.iloc[i+4]\n"
     ]
    },
    {
     "name": "stdout",
     "output_type": "stream",
     "text": [
      "BAK not selected\n",
      "BALL not selected\n"
     ]
    },
    {
     "name": "stderr",
     "output_type": "stream",
     "text": [
      "C:\\Users\\Rain\\AppData\\Local\\Temp\\ipykernel_23516\\2431815014.py:15: RuntimeWarning: divide by zero encountered in double_scalars\n",
      "  quarter_eps.yoy_growth.iloc[i] = (quarter_eps.eps.iloc[i] - quarter_eps.eps.iloc[i+4]) / quarter_eps.eps.iloc[i+4]\n"
     ]
    },
    {
     "name": "stdout",
     "output_type": "stream",
     "text": [
      "BALY not selected\n",
      "BAM not selected\n"
     ]
    },
    {
     "name": "stderr",
     "output_type": "stream",
     "text": [
      "C:\\Users\\Rain\\AppData\\Local\\Temp\\ipykernel_23516\\2431815014.py:15: RuntimeWarning: divide by zero encountered in double_scalars\n",
      "  quarter_eps.yoy_growth.iloc[i] = (quarter_eps.eps.iloc[i] - quarter_eps.eps.iloc[i+4]) / quarter_eps.eps.iloc[i+4]\n",
      "C:\\Users\\Rain\\AppData\\Local\\Temp\\ipykernel_23516\\2431815014.py:15: RuntimeWarning: invalid value encountered in double_scalars\n",
      "  quarter_eps.yoy_growth.iloc[i] = (quarter_eps.eps.iloc[i] - quarter_eps.eps.iloc[i+4]) / quarter_eps.eps.iloc[i+4]\n",
      "C:\\Users\\Rain\\AppData\\Local\\Temp\\ipykernel_23516\\2431815014.py:15: RuntimeWarning: divide by zero encountered in double_scalars\n",
      "  quarter_eps.yoy_growth.iloc[i] = (quarter_eps.eps.iloc[i] - quarter_eps.eps.iloc[i+4]) / quarter_eps.eps.iloc[i+4]\n"
     ]
    },
    {
     "name": "stdout",
     "output_type": "stream",
     "text": [
      "BAMR selected\n",
      "BANC selected\n"
     ]
    },
    {
     "name": "stderr",
     "output_type": "stream",
     "text": [
      "C:\\Users\\Rain\\AppData\\Local\\Temp\\ipykernel_23516\\2431815014.py:15: RuntimeWarning: divide by zero encountered in double_scalars\n",
      "  quarter_eps.yoy_growth.iloc[i] = (quarter_eps.eps.iloc[i] - quarter_eps.eps.iloc[i+4]) / quarter_eps.eps.iloc[i+4]\n"
     ]
    },
    {
     "name": "stdout",
     "output_type": "stream",
     "text": [
      "BAND not selected\n",
      "BANF not selected\n",
      "BANR not selected\n",
      "BANX not selected\n",
      "BAOS data not enough\n",
      "BAP selected\n",
      "BARK not selected\n"
     ]
    },
    {
     "name": "stderr",
     "output_type": "stream",
     "text": [
      "C:\\Users\\Rain\\AppData\\Local\\Temp\\ipykernel_23516\\2431815014.py:15: RuntimeWarning: divide by zero encountered in double_scalars\n",
      "  quarter_eps.yoy_growth.iloc[i] = (quarter_eps.eps.iloc[i] - quarter_eps.eps.iloc[i+4]) / quarter_eps.eps.iloc[i+4]\n",
      "C:\\Users\\Rain\\AppData\\Local\\Temp\\ipykernel_23516\\2431815014.py:15: RuntimeWarning: divide by zero encountered in double_scalars\n",
      "  quarter_eps.yoy_growth.iloc[i] = (quarter_eps.eps.iloc[i] - quarter_eps.eps.iloc[i+4]) / quarter_eps.eps.iloc[i+4]\n"
     ]
    },
    {
     "name": "stdout",
     "output_type": "stream",
     "text": [
      "BASE selected\n",
      "BATL not selected\n"
     ]
    },
    {
     "name": "stderr",
     "output_type": "stream",
     "text": [
      "C:\\Users\\Rain\\AppData\\Local\\Temp\\ipykernel_23516\\2431815014.py:15: RuntimeWarning: divide by zero encountered in double_scalars\n",
      "  quarter_eps.yoy_growth.iloc[i] = (quarter_eps.eps.iloc[i] - quarter_eps.eps.iloc[i+4]) / quarter_eps.eps.iloc[i+4]\n",
      "C:\\Users\\Rain\\AppData\\Local\\Temp\\ipykernel_23516\\2431815014.py:15: RuntimeWarning: divide by zero encountered in double_scalars\n",
      "  quarter_eps.yoy_growth.iloc[i] = (quarter_eps.eps.iloc[i] - quarter_eps.eps.iloc[i+4]) / quarter_eps.eps.iloc[i+4]\n"
     ]
    },
    {
     "name": "stdout",
     "output_type": "stream",
     "text": [
      "BAX not selected\n",
      "BB selected\n"
     ]
    },
    {
     "name": "stderr",
     "output_type": "stream",
     "text": [
      "C:\\Users\\Rain\\AppData\\Local\\Temp\\ipykernel_23516\\2431815014.py:15: RuntimeWarning: divide by zero encountered in double_scalars\n",
      "  quarter_eps.yoy_growth.iloc[i] = (quarter_eps.eps.iloc[i] - quarter_eps.eps.iloc[i+4]) / quarter_eps.eps.iloc[i+4]\n"
     ]
    },
    {
     "name": "stdout",
     "output_type": "stream",
     "text": [
      "BBAI selected\n",
      "BBAR not selected\n",
      "BBBY selected\n",
      "BBCP not selected\n",
      "BBD not selected\n"
     ]
    },
    {
     "name": "stderr",
     "output_type": "stream",
     "text": [
      "C:\\Users\\Rain\\AppData\\Local\\Temp\\ipykernel_23516\\2431815014.py:15: RuntimeWarning: divide by zero encountered in double_scalars\n",
      "  quarter_eps.yoy_growth.iloc[i] = (quarter_eps.eps.iloc[i] - quarter_eps.eps.iloc[i+4]) / quarter_eps.eps.iloc[i+4]\n"
     ]
    },
    {
     "name": "stdout",
     "output_type": "stream",
     "text": [
      "BBDC not selected\n",
      "BBDO not selected\n"
     ]
    },
    {
     "name": "stderr",
     "output_type": "stream",
     "text": [
      "C:\\Users\\Rain\\AppData\\Local\\Temp\\ipykernel_23516\\2431815014.py:15: RuntimeWarning: divide by zero encountered in double_scalars\n",
      "  quarter_eps.yoy_growth.iloc[i] = (quarter_eps.eps.iloc[i] - quarter_eps.eps.iloc[i+4]) / quarter_eps.eps.iloc[i+4]\n",
      "C:\\Users\\Rain\\AppData\\Local\\Temp\\ipykernel_23516\\2431815014.py:15: RuntimeWarning: divide by zero encountered in double_scalars\n",
      "  quarter_eps.yoy_growth.iloc[i] = (quarter_eps.eps.iloc[i] - quarter_eps.eps.iloc[i+4]) / quarter_eps.eps.iloc[i+4]\n"
     ]
    },
    {
     "name": "stdout",
     "output_type": "stream",
     "text": [
      "BBGI not selected\n",
      "BBI not exsit\n",
      "BBIG not selected\n"
     ]
    },
    {
     "name": "stderr",
     "output_type": "stream",
     "text": [
      "C:\\Users\\Rain\\AppData\\Local\\Temp\\ipykernel_23516\\2431815014.py:15: RuntimeWarning: divide by zero encountered in double_scalars\n",
      "  quarter_eps.yoy_growth.iloc[i] = (quarter_eps.eps.iloc[i] - quarter_eps.eps.iloc[i+4]) / quarter_eps.eps.iloc[i+4]\n",
      "C:\\Users\\Rain\\AppData\\Local\\Temp\\ipykernel_23516\\2431815014.py:15: RuntimeWarning: divide by zero encountered in double_scalars\n",
      "  quarter_eps.yoy_growth.iloc[i] = (quarter_eps.eps.iloc[i] - quarter_eps.eps.iloc[i+4]) / quarter_eps.eps.iloc[i+4]\n",
      "C:\\Users\\Rain\\AppData\\Local\\Temp\\ipykernel_23516\\2431815014.py:15: RuntimeWarning: divide by zero encountered in double_scalars\n",
      "  quarter_eps.yoy_growth.iloc[i] = (quarter_eps.eps.iloc[i] - quarter_eps.eps.iloc[i+4]) / quarter_eps.eps.iloc[i+4]\n",
      "C:\\Users\\Rain\\AppData\\Local\\Temp\\ipykernel_23516\\2431815014.py:19: RuntimeWarning: invalid value encountered in double_scalars\n",
      "  quarter_eps.fixed_yoy_growth.iloc[i] = (quarter_eps.yoy_growth.iloc[i] + quarter_eps.yoy_growth.iloc[i+1]) / 2\n"
     ]
    },
    {
     "name": "stdout",
     "output_type": "stream",
     "text": [
      "BBIO not selected\n",
      "BBLG not selected\n"
     ]
    },
    {
     "name": "stderr",
     "output_type": "stream",
     "text": [
      "C:\\Users\\Rain\\AppData\\Local\\Temp\\ipykernel_23516\\2431815014.py:15: RuntimeWarning: divide by zero encountered in double_scalars\n",
      "  quarter_eps.yoy_growth.iloc[i] = (quarter_eps.eps.iloc[i] - quarter_eps.eps.iloc[i+4]) / quarter_eps.eps.iloc[i+4]\n",
      "C:\\Users\\Rain\\AppData\\Local\\Temp\\ipykernel_23516\\2431815014.py:15: RuntimeWarning: invalid value encountered in double_scalars\n",
      "  quarter_eps.yoy_growth.iloc[i] = (quarter_eps.eps.iloc[i] - quarter_eps.eps.iloc[i+4]) / quarter_eps.eps.iloc[i+4]\n",
      "C:\\Users\\Rain\\AppData\\Local\\Temp\\ipykernel_23516\\2431815014.py:15: RuntimeWarning: divide by zero encountered in double_scalars\n",
      "  quarter_eps.yoy_growth.iloc[i] = (quarter_eps.eps.iloc[i] - quarter_eps.eps.iloc[i+4]) / quarter_eps.eps.iloc[i+4]\n"
     ]
    },
    {
     "name": "stdout",
     "output_type": "stream",
     "text": [
      "BBLN selected\n",
      "BBQ not selected\n",
      "BBSI not selected\n",
      "BBU not selected\n",
      "BBUC not exsit\n"
     ]
    },
    {
     "name": "stderr",
     "output_type": "stream",
     "text": [
      "C:\\Users\\Rain\\AppData\\Local\\Temp\\ipykernel_23516\\2431815014.py:15: RuntimeWarning: divide by zero encountered in double_scalars\n",
      "  quarter_eps.yoy_growth.iloc[i] = (quarter_eps.eps.iloc[i] - quarter_eps.eps.iloc[i+4]) / quarter_eps.eps.iloc[i+4]\n",
      "C:\\Users\\Rain\\AppData\\Local\\Temp\\ipykernel_23516\\2431815014.py:15: RuntimeWarning: invalid value encountered in double_scalars\n",
      "  quarter_eps.yoy_growth.iloc[i] = (quarter_eps.eps.iloc[i] - quarter_eps.eps.iloc[i+4]) / quarter_eps.eps.iloc[i+4]\n",
      "C:\\Users\\Rain\\AppData\\Local\\Temp\\ipykernel_23516\\2431815014.py:19: RuntimeWarning: invalid value encountered in double_scalars\n",
      "  quarter_eps.fixed_yoy_growth.iloc[i] = (quarter_eps.yoy_growth.iloc[i] + quarter_eps.yoy_growth.iloc[i+1]) / 2\n"
     ]
    },
    {
     "name": "stdout",
     "output_type": "stream",
     "text": [
      "BBVA selected\n",
      "BBW not exsit\n",
      "BBWI not selected\n"
     ]
    },
    {
     "name": "stderr",
     "output_type": "stream",
     "text": [
      "C:\\Users\\Rain\\AppData\\Local\\Temp\\ipykernel_23516\\2431815014.py:15: RuntimeWarning: divide by zero encountered in double_scalars\n",
      "  quarter_eps.yoy_growth.iloc[i] = (quarter_eps.eps.iloc[i] - quarter_eps.eps.iloc[i+4]) / quarter_eps.eps.iloc[i+4]\n"
     ]
    },
    {
     "name": "stdout",
     "output_type": "stream",
     "text": [
      "BBY not selected\n",
      "BC not selected\n"
     ]
    },
    {
     "name": "stderr",
     "output_type": "stream",
     "text": [
      "C:\\Users\\Rain\\AppData\\Local\\Temp\\ipykernel_23516\\2431815014.py:15: RuntimeWarning: divide by zero encountered in double_scalars\n",
      "  quarter_eps.yoy_growth.iloc[i] = (quarter_eps.eps.iloc[i] - quarter_eps.eps.iloc[i+4]) / quarter_eps.eps.iloc[i+4]\n"
     ]
    },
    {
     "name": "stdout",
     "output_type": "stream",
     "text": [
      "BCAB not selected\n",
      "BCAN not exsit\n",
      "BCBP not selected\n"
     ]
    },
    {
     "name": "stderr",
     "output_type": "stream",
     "text": [
      "C:\\Users\\Rain\\AppData\\Local\\Temp\\ipykernel_23516\\2431815014.py:15: RuntimeWarning: divide by zero encountered in double_scalars\n",
      "  quarter_eps.yoy_growth.iloc[i] = (quarter_eps.eps.iloc[i] - quarter_eps.eps.iloc[i+4]) / quarter_eps.eps.iloc[i+4]\n",
      "C:\\Users\\Rain\\AppData\\Local\\Temp\\ipykernel_23516\\2431815014.py:15: RuntimeWarning: divide by zero encountered in double_scalars\n",
      "  quarter_eps.yoy_growth.iloc[i] = (quarter_eps.eps.iloc[i] - quarter_eps.eps.iloc[i+4]) / quarter_eps.eps.iloc[i+4]\n"
     ]
    },
    {
     "name": "stdout",
     "output_type": "stream",
     "text": [
      "BCC not selected\n",
      "BCDA not selected\n",
      "BCE not selected\n",
      "BCEL not selected\n"
     ]
    },
    {
     "name": "stderr",
     "output_type": "stream",
     "text": [
      "C:\\Users\\Rain\\AppData\\Local\\Temp\\ipykernel_23516\\2431815014.py:15: RuntimeWarning: divide by zero encountered in double_scalars\n",
      "  quarter_eps.yoy_growth.iloc[i] = (quarter_eps.eps.iloc[i] - quarter_eps.eps.iloc[i+4]) / quarter_eps.eps.iloc[i+4]\n"
     ]
    },
    {
     "name": "stdout",
     "output_type": "stream",
     "text": [
      "BCH selected\n",
      "BCLI not selected\n"
     ]
    },
    {
     "name": "stderr",
     "output_type": "stream",
     "text": [
      "C:\\Users\\Rain\\AppData\\Local\\Temp\\ipykernel_23516\\2431815014.py:15: RuntimeWarning: divide by zero encountered in double_scalars\n",
      "  quarter_eps.yoy_growth.iloc[i] = (quarter_eps.eps.iloc[i] - quarter_eps.eps.iloc[i+4]) / quarter_eps.eps.iloc[i+4]\n",
      "C:\\Users\\Rain\\AppData\\Local\\Temp\\ipykernel_23516\\2431815014.py:15: RuntimeWarning: invalid value encountered in double_scalars\n",
      "  quarter_eps.yoy_growth.iloc[i] = (quarter_eps.eps.iloc[i] - quarter_eps.eps.iloc[i+4]) / quarter_eps.eps.iloc[i+4]\n",
      "C:\\Users\\Rain\\AppData\\Local\\Temp\\ipykernel_23516\\2431815014.py:15: RuntimeWarning: divide by zero encountered in double_scalars\n",
      "  quarter_eps.yoy_growth.iloc[i] = (quarter_eps.eps.iloc[i] - quarter_eps.eps.iloc[i+4]) / quarter_eps.eps.iloc[i+4]\n"
     ]
    },
    {
     "name": "stdout",
     "output_type": "stream",
     "text": [
      "BCML not selected\n",
      "BCO selected\n",
      "BCOR not selected\n"
     ]
    },
    {
     "name": "stderr",
     "output_type": "stream",
     "text": [
      "C:\\Users\\Rain\\AppData\\Local\\Temp\\ipykernel_23516\\2431815014.py:15: RuntimeWarning: divide by zero encountered in double_scalars\n",
      "  quarter_eps.yoy_growth.iloc[i] = (quarter_eps.eps.iloc[i] - quarter_eps.eps.iloc[i+4]) / quarter_eps.eps.iloc[i+4]\n"
     ]
    },
    {
     "name": "stdout",
     "output_type": "stream",
     "text": [
      "BCOV not selected\n"
     ]
    },
    {
     "name": "stderr",
     "output_type": "stream",
     "text": [
      "C:\\Users\\Rain\\AppData\\Local\\Temp\\ipykernel_23516\\2431815014.py:15: RuntimeWarning: divide by zero encountered in double_scalars\n",
      "  quarter_eps.yoy_growth.iloc[i] = (quarter_eps.eps.iloc[i] - quarter_eps.eps.iloc[i+4]) / quarter_eps.eps.iloc[i+4]\n",
      "C:\\Users\\Rain\\AppData\\Local\\Temp\\ipykernel_23516\\2431815014.py:15: RuntimeWarning: invalid value encountered in double_scalars\n",
      "  quarter_eps.yoy_growth.iloc[i] = (quarter_eps.eps.iloc[i] - quarter_eps.eps.iloc[i+4]) / quarter_eps.eps.iloc[i+4]\n"
     ]
    },
    {
     "name": "stdout",
     "output_type": "stream",
     "text": [
      "BCOW not selected\n",
      "BCPC not selected\n",
      "BCRX not selected\n"
     ]
    },
    {
     "name": "stderr",
     "output_type": "stream",
     "text": [
      "C:\\Users\\Rain\\AppData\\Local\\Temp\\ipykernel_23516\\2431815014.py:15: RuntimeWarning: divide by zero encountered in double_scalars\n",
      "  quarter_eps.yoy_growth.iloc[i] = (quarter_eps.eps.iloc[i] - quarter_eps.eps.iloc[i+4]) / quarter_eps.eps.iloc[i+4]\n"
     ]
    },
    {
     "name": "stdout",
     "output_type": "stream",
     "text": [
      "BCS not selected\n",
      "BCSA data not enough\n"
     ]
    },
    {
     "name": "stderr",
     "output_type": "stream",
     "text": [
      "C:\\Users\\Rain\\AppData\\Local\\Temp\\ipykernel_23516\\2431815014.py:15: RuntimeWarning: divide by zero encountered in double_scalars\n",
      "  quarter_eps.yoy_growth.iloc[i] = (quarter_eps.eps.iloc[i] - quarter_eps.eps.iloc[i+4]) / quarter_eps.eps.iloc[i+4]\n",
      "C:\\Users\\Rain\\AppData\\Local\\Temp\\ipykernel_23516\\2431815014.py:15: RuntimeWarning: divide by zero encountered in double_scalars\n",
      "  quarter_eps.yoy_growth.iloc[i] = (quarter_eps.eps.iloc[i] - quarter_eps.eps.iloc[i+4]) / quarter_eps.eps.iloc[i+4]\n",
      "C:\\Users\\Rain\\AppData\\Local\\Temp\\ipykernel_23516\\2431815014.py:15: RuntimeWarning: invalid value encountered in double_scalars\n",
      "  quarter_eps.yoy_growth.iloc[i] = (quarter_eps.eps.iloc[i] - quarter_eps.eps.iloc[i+4]) / quarter_eps.eps.iloc[i+4]\n"
     ]
    },
    {
     "name": "stdout",
     "output_type": "stream",
     "text": [
      "BCSF not selected\n"
     ]
    },
    {
     "name": "stderr",
     "output_type": "stream",
     "text": [
      "C:\\Users\\Rain\\AppData\\Local\\Temp\\ipykernel_23516\\2431815014.py:19: RuntimeWarning: invalid value encountered in double_scalars\n",
      "  quarter_eps.fixed_yoy_growth.iloc[i] = (quarter_eps.yoy_growth.iloc[i] + quarter_eps.yoy_growth.iloc[i+1]) / 2\n",
      "C:\\Users\\Rain\\AppData\\Local\\Temp\\ipykernel_23516\\2431815014.py:15: RuntimeWarning: divide by zero encountered in double_scalars\n",
      "  quarter_eps.yoy_growth.iloc[i] = (quarter_eps.eps.iloc[i] - quarter_eps.eps.iloc[i+4]) / quarter_eps.eps.iloc[i+4]\n"
     ]
    },
    {
     "name": "stdout",
     "output_type": "stream",
     "text": [
      "BCTX not selected\n",
      "BCYC not selected\n",
      "BDC not selected\n"
     ]
    },
    {
     "name": "stderr",
     "output_type": "stream",
     "text": [
      "C:\\Users\\Rain\\AppData\\Local\\Temp\\ipykernel_23516\\2431815014.py:15: RuntimeWarning: divide by zero encountered in double_scalars\n",
      "  quarter_eps.yoy_growth.iloc[i] = (quarter_eps.eps.iloc[i] - quarter_eps.eps.iloc[i+4]) / quarter_eps.eps.iloc[i+4]\n"
     ]
    },
    {
     "name": "stdout",
     "output_type": "stream",
     "text": [
      "BDL not selected\n",
      "BDN selected\n"
     ]
    },
    {
     "name": "stderr",
     "output_type": "stream",
     "text": [
      "C:\\Users\\Rain\\AppData\\Local\\Temp\\ipykernel_23516\\2431815014.py:15: RuntimeWarning: divide by zero encountered in double_scalars\n",
      "  quarter_eps.yoy_growth.iloc[i] = (quarter_eps.eps.iloc[i] - quarter_eps.eps.iloc[i+4]) / quarter_eps.eps.iloc[i+4]\n"
     ]
    },
    {
     "name": "stdout",
     "output_type": "stream",
     "text": [
      "BDSX not selected\n",
      "BDTX not selected\n"
     ]
    },
    {
     "name": "stderr",
     "output_type": "stream",
     "text": [
      "C:\\Users\\Rain\\AppData\\Local\\Temp\\ipykernel_23516\\2431815014.py:15: RuntimeWarning: divide by zero encountered in double_scalars\n",
      "  quarter_eps.yoy_growth.iloc[i] = (quarter_eps.eps.iloc[i] - quarter_eps.eps.iloc[i+4]) / quarter_eps.eps.iloc[i+4]\n"
     ]
    },
    {
     "name": "stdout",
     "output_type": "stream",
     "text": [
      "BDX not selected\n",
      "BE selected\n"
     ]
    },
    {
     "name": "stderr",
     "output_type": "stream",
     "text": [
      "C:\\Users\\Rain\\AppData\\Local\\Temp\\ipykernel_23516\\2431815014.py:15: RuntimeWarning: divide by zero encountered in double_scalars\n",
      "  quarter_eps.yoy_growth.iloc[i] = (quarter_eps.eps.iloc[i] - quarter_eps.eps.iloc[i+4]) / quarter_eps.eps.iloc[i+4]\n",
      "C:\\Users\\Rain\\AppData\\Local\\Temp\\ipykernel_23516\\2431815014.py:15: RuntimeWarning: divide by zero encountered in double_scalars\n",
      "  quarter_eps.yoy_growth.iloc[i] = (quarter_eps.eps.iloc[i] - quarter_eps.eps.iloc[i+4]) / quarter_eps.eps.iloc[i+4]\n"
     ]
    },
    {
     "name": "stdout",
     "output_type": "stream",
     "text": [
      "BEAM not selected\n",
      "BEAT selected\n"
     ]
    },
    {
     "name": "stderr",
     "output_type": "stream",
     "text": [
      "C:\\Users\\Rain\\AppData\\Local\\Temp\\ipykernel_23516\\2431815014.py:15: RuntimeWarning: divide by zero encountered in double_scalars\n",
      "  quarter_eps.yoy_growth.iloc[i] = (quarter_eps.eps.iloc[i] - quarter_eps.eps.iloc[i+4]) / quarter_eps.eps.iloc[i+4]\n",
      "C:\\Users\\Rain\\AppData\\Local\\Temp\\ipykernel_23516\\2431815014.py:15: RuntimeWarning: invalid value encountered in double_scalars\n",
      "  quarter_eps.yoy_growth.iloc[i] = (quarter_eps.eps.iloc[i] - quarter_eps.eps.iloc[i+4]) / quarter_eps.eps.iloc[i+4]\n",
      "C:\\Users\\Rain\\AppData\\Local\\Temp\\ipykernel_23516\\2431815014.py:15: RuntimeWarning: divide by zero encountered in double_scalars\n",
      "  quarter_eps.yoy_growth.iloc[i] = (quarter_eps.eps.iloc[i] - quarter_eps.eps.iloc[i+4]) / quarter_eps.eps.iloc[i+4]\n"
     ]
    },
    {
     "name": "stdout",
     "output_type": "stream",
     "text": [
      "BECN selected\n",
      "BEDU not selected\n"
     ]
    },
    {
     "name": "stderr",
     "output_type": "stream",
     "text": [
      "C:\\Users\\Rain\\AppData\\Local\\Temp\\ipykernel_23516\\2431815014.py:15: RuntimeWarning: divide by zero encountered in double_scalars\n",
      "  quarter_eps.yoy_growth.iloc[i] = (quarter_eps.eps.iloc[i] - quarter_eps.eps.iloc[i+4]) / quarter_eps.eps.iloc[i+4]\n",
      "C:\\Users\\Rain\\AppData\\Local\\Temp\\ipykernel_23516\\2431815014.py:19: RuntimeWarning: invalid value encountered in double_scalars\n",
      "  quarter_eps.fixed_yoy_growth.iloc[i] = (quarter_eps.yoy_growth.iloc[i] + quarter_eps.yoy_growth.iloc[i+1]) / 2\n",
      "C:\\Users\\Rain\\AppData\\Local\\Temp\\ipykernel_23516\\2431815014.py:15: RuntimeWarning: divide by zero encountered in double_scalars\n",
      "  quarter_eps.yoy_growth.iloc[i] = (quarter_eps.eps.iloc[i] - quarter_eps.eps.iloc[i+4]) / quarter_eps.eps.iloc[i+4]\n",
      "C:\\Users\\Rain\\AppData\\Local\\Temp\\ipykernel_23516\\2431815014.py:19: RuntimeWarning: invalid value encountered in double_scalars\n",
      "  quarter_eps.fixed_yoy_growth.iloc[i] = (quarter_eps.yoy_growth.iloc[i] + quarter_eps.yoy_growth.iloc[i+1]) / 2\n"
     ]
    },
    {
     "name": "stdout",
     "output_type": "stream",
     "text": [
      "BEEM not selected\n",
      "BEKE not selected\n"
     ]
    },
    {
     "name": "stderr",
     "output_type": "stream",
     "text": [
      "C:\\Users\\Rain\\AppData\\Local\\Temp\\ipykernel_23516\\2431815014.py:15: RuntimeWarning: divide by zero encountered in double_scalars\n",
      "  quarter_eps.yoy_growth.iloc[i] = (quarter_eps.eps.iloc[i] - quarter_eps.eps.iloc[i+4]) / quarter_eps.eps.iloc[i+4]\n",
      "C:\\Users\\Rain\\AppData\\Local\\Temp\\ipykernel_23516\\2431815014.py:15: RuntimeWarning: divide by zero encountered in double_scalars\n",
      "  quarter_eps.yoy_growth.iloc[i] = (quarter_eps.eps.iloc[i] - quarter_eps.eps.iloc[i+4]) / quarter_eps.eps.iloc[i+4]\n"
     ]
    },
    {
     "name": "stdout",
     "output_type": "stream",
     "text": [
      "BELFA selected\n",
      "BELFB selected\n"
     ]
    },
    {
     "name": "stderr",
     "output_type": "stream",
     "text": [
      "C:\\Users\\Rain\\AppData\\Local\\Temp\\ipykernel_23516\\2431815014.py:15: RuntimeWarning: divide by zero encountered in double_scalars\n",
      "  quarter_eps.yoy_growth.iloc[i] = (quarter_eps.eps.iloc[i] - quarter_eps.eps.iloc[i+4]) / quarter_eps.eps.iloc[i+4]\n"
     ]
    },
    {
     "name": "stdout",
     "output_type": "stream",
     "text": [
      "BEN not selected\n",
      "BENE not selected\n"
     ]
    },
    {
     "name": "stderr",
     "output_type": "stream",
     "text": [
      "C:\\Users\\Rain\\AppData\\Local\\Temp\\ipykernel_23516\\2431815014.py:15: RuntimeWarning: divide by zero encountered in double_scalars\n",
      "  quarter_eps.yoy_growth.iloc[i] = (quarter_eps.eps.iloc[i] - quarter_eps.eps.iloc[i+4]) / quarter_eps.eps.iloc[i+4]\n",
      "C:\\Users\\Rain\\AppData\\Local\\Temp\\ipykernel_23516\\2431815014.py:19: RuntimeWarning: invalid value encountered in double_scalars\n",
      "  quarter_eps.fixed_yoy_growth.iloc[i] = (quarter_eps.yoy_growth.iloc[i] + quarter_eps.yoy_growth.iloc[i+1]) / 2\n"
     ]
    },
    {
     "name": "stdout",
     "output_type": "stream",
     "text": [
      "BEP not selected\n",
      "BEPC not selected\n"
     ]
    },
    {
     "name": "stderr",
     "output_type": "stream",
     "text": [
      "C:\\Users\\Rain\\AppData\\Local\\Temp\\ipykernel_23516\\2431815014.py:15: RuntimeWarning: invalid value encountered in double_scalars\n",
      "  quarter_eps.yoy_growth.iloc[i] = (quarter_eps.eps.iloc[i] - quarter_eps.eps.iloc[i+4]) / quarter_eps.eps.iloc[i+4]\n",
      "C:\\Users\\Rain\\AppData\\Local\\Temp\\ipykernel_23516\\2431815014.py:15: RuntimeWarning: divide by zero encountered in double_scalars\n",
      "  quarter_eps.yoy_growth.iloc[i] = (quarter_eps.eps.iloc[i] - quarter_eps.eps.iloc[i+4]) / quarter_eps.eps.iloc[i+4]\n"
     ]
    },
    {
     "name": "stdout",
     "output_type": "stream",
     "text": [
      "BERY not selected\n",
      "BEST not selected\n",
      "BFA not exsit\n",
      "BFB not exsit\n"
     ]
    },
    {
     "name": "stderr",
     "output_type": "stream",
     "text": [
      "C:\\Users\\Rain\\AppData\\Local\\Temp\\ipykernel_23516\\2431815014.py:15: RuntimeWarning: divide by zero encountered in double_scalars\n",
      "  quarter_eps.yoy_growth.iloc[i] = (quarter_eps.eps.iloc[i] - quarter_eps.eps.iloc[i+4]) / quarter_eps.eps.iloc[i+4]\n"
     ]
    },
    {
     "name": "stdout",
     "output_type": "stream",
     "text": [
      "BFAC data not enough\n",
      "BFAM selected\n"
     ]
    },
    {
     "name": "stderr",
     "output_type": "stream",
     "text": [
      "C:\\Users\\Rain\\AppData\\Local\\Temp\\ipykernel_23516\\2431815014.py:15: RuntimeWarning: divide by zero encountered in double_scalars\n",
      "  quarter_eps.yoy_growth.iloc[i] = (quarter_eps.eps.iloc[i] - quarter_eps.eps.iloc[i+4]) / quarter_eps.eps.iloc[i+4]\n",
      "C:\\Users\\Rain\\AppData\\Local\\Temp\\ipykernel_23516\\2431815014.py:15: RuntimeWarning: divide by zero encountered in double_scalars\n",
      "  quarter_eps.yoy_growth.iloc[i] = (quarter_eps.eps.iloc[i] - quarter_eps.eps.iloc[i+4]) / quarter_eps.eps.iloc[i+4]\n"
     ]
    },
    {
     "name": "stdout",
     "output_type": "stream",
     "text": [
      "BFC not selected\n",
      "BFH not selected\n"
     ]
    },
    {
     "name": "stderr",
     "output_type": "stream",
     "text": [
      "C:\\Users\\Rain\\AppData\\Local\\Temp\\ipykernel_23516\\2431815014.py:15: RuntimeWarning: divide by zero encountered in double_scalars\n",
      "  quarter_eps.yoy_growth.iloc[i] = (quarter_eps.eps.iloc[i] - quarter_eps.eps.iloc[i+4]) / quarter_eps.eps.iloc[i+4]\n",
      "C:\\Users\\Rain\\AppData\\Local\\Temp\\ipykernel_23516\\2431815014.py:15: RuntimeWarning: invalid value encountered in double_scalars\n",
      "  quarter_eps.yoy_growth.iloc[i] = (quarter_eps.eps.iloc[i] - quarter_eps.eps.iloc[i+4]) / quarter_eps.eps.iloc[i+4]\n",
      "C:\\Users\\Rain\\AppData\\Local\\Temp\\ipykernel_23516\\2431815014.py:19: RuntimeWarning: invalid value encountered in double_scalars\n",
      "  quarter_eps.fixed_yoy_growth.iloc[i] = (quarter_eps.yoy_growth.iloc[i] + quarter_eps.yoy_growth.iloc[i+1]) / 2\n",
      "C:\\Users\\Rain\\AppData\\Local\\Temp\\ipykernel_23516\\2431815014.py:15: RuntimeWarning: divide by zero encountered in double_scalars\n",
      "  quarter_eps.yoy_growth.iloc[i] = (quarter_eps.eps.iloc[i] - quarter_eps.eps.iloc[i+4]) / quarter_eps.eps.iloc[i+4]\n"
     ]
    },
    {
     "name": "stdout",
     "output_type": "stream",
     "text": [
      "BFI selected\n",
      "BFIN not selected\n"
     ]
    },
    {
     "name": "stderr",
     "output_type": "stream",
     "text": [
      "C:\\Users\\Rain\\AppData\\Local\\Temp\\ipykernel_23516\\2431815014.py:15: RuntimeWarning: divide by zero encountered in double_scalars\n",
      "  quarter_eps.yoy_growth.iloc[i] = (quarter_eps.eps.iloc[i] - quarter_eps.eps.iloc[i+4]) / quarter_eps.eps.iloc[i+4]\n"
     ]
    },
    {
     "name": "stdout",
     "output_type": "stream",
     "text": [
      "BFLY selected\n",
      "BFRI not exsit\n",
      "BFS not selected\n"
     ]
    },
    {
     "name": "stderr",
     "output_type": "stream",
     "text": [
      "C:\\Users\\Rain\\AppData\\Local\\Temp\\ipykernel_23516\\2431815014.py:15: RuntimeWarning: divide by zero encountered in double_scalars\n",
      "  quarter_eps.yoy_growth.iloc[i] = (quarter_eps.eps.iloc[i] - quarter_eps.eps.iloc[i+4]) / quarter_eps.eps.iloc[i+4]\n",
      "C:\\Users\\Rain\\AppData\\Local\\Temp\\ipykernel_23516\\2431815014.py:15: RuntimeWarning: divide by zero encountered in double_scalars\n",
      "  quarter_eps.yoy_growth.iloc[i] = (quarter_eps.eps.iloc[i] - quarter_eps.eps.iloc[i+4]) / quarter_eps.eps.iloc[i+4]\n"
     ]
    },
    {
     "name": "stdout",
     "output_type": "stream",
     "text": [
      "BFST not selected\n",
      "BG not selected\n",
      "BGCP not selected"
     ]
    },
    {
     "name": "stderr",
     "output_type": "stream",
     "text": [
      "C:\\Users\\Rain\\AppData\\Local\\Temp\\ipykernel_23516\\2431815014.py:15: RuntimeWarning: divide by zero encountered in double_scalars\n",
      "  quarter_eps.yoy_growth.iloc[i] = (quarter_eps.eps.iloc[i] - quarter_eps.eps.iloc[i+4]) / quarter_eps.eps.iloc[i+4]\n",
      "C:\\Users\\Rain\\AppData\\Local\\Temp\\ipykernel_23516\\2431815014.py:15: RuntimeWarning: divide by zero encountered in double_scalars\n",
      "  quarter_eps.yoy_growth.iloc[i] = (quarter_eps.eps.iloc[i] - quarter_eps.eps.iloc[i+4]) / quarter_eps.eps.iloc[i+4]\n",
      "C:\\Users\\Rain\\AppData\\Local\\Temp\\ipykernel_23516\\2431815014.py:15: RuntimeWarning: invalid value encountered in double_scalars\n",
      "  quarter_eps.yoy_growth.iloc[i] = (quarter_eps.eps.iloc[i] - quarter_eps.eps.iloc[i+4]) / quarter_eps.eps.iloc[i+4]\n"
     ]
    },
    {
     "name": "stdout",
     "output_type": "stream",
     "text": [
      "\n",
      "BGFV not selected\n",
      "BGI data not enough\n",
      "BGNE not selected"
     ]
    },
    {
     "name": "stderr",
     "output_type": "stream",
     "text": [
      "C:\\Users\\Rain\\AppData\\Local\\Temp\\ipykernel_23516\\2431815014.py:15: RuntimeWarning: divide by zero encountered in double_scalars\n",
      "  quarter_eps.yoy_growth.iloc[i] = (quarter_eps.eps.iloc[i] - quarter_eps.eps.iloc[i+4]) / quarter_eps.eps.iloc[i+4]\n",
      "C:\\Users\\Rain\\AppData\\Local\\Temp\\ipykernel_23516\\2431815014.py:15: RuntimeWarning: divide by zero encountered in double_scalars\n",
      "  quarter_eps.yoy_growth.iloc[i] = (quarter_eps.eps.iloc[i] - quarter_eps.eps.iloc[i+4]) / quarter_eps.eps.iloc[i+4]\n"
     ]
    },
    {
     "name": "stdout",
     "output_type": "stream",
     "text": [
      "\n",
      "BGRY not selected\n",
      "BGS not selected\n"
     ]
    },
    {
     "name": "stderr",
     "output_type": "stream",
     "text": [
      "C:\\Users\\Rain\\AppData\\Local\\Temp\\ipykernel_23516\\2431815014.py:15: RuntimeWarning: divide by zero encountered in double_scalars\n",
      "  quarter_eps.yoy_growth.iloc[i] = (quarter_eps.eps.iloc[i] - quarter_eps.eps.iloc[i+4]) / quarter_eps.eps.iloc[i+4]\n",
      "C:\\Users\\Rain\\AppData\\Local\\Temp\\ipykernel_23516\\2431815014.py:15: RuntimeWarning: invalid value encountered in double_scalars\n",
      "  quarter_eps.yoy_growth.iloc[i] = (quarter_eps.eps.iloc[i] - quarter_eps.eps.iloc[i+4]) / quarter_eps.eps.iloc[i+4]\n",
      "C:\\Users\\Rain\\AppData\\Local\\Temp\\ipykernel_23516\\2431815014.py:19: RuntimeWarning: invalid value encountered in double_scalars\n",
      "  quarter_eps.fixed_yoy_growth.iloc[i] = (quarter_eps.yoy_growth.iloc[i] + quarter_eps.yoy_growth.iloc[i+1]) / 2\n"
     ]
    },
    {
     "name": "stdout",
     "output_type": "stream",
     "text": [
      "BGSF selected\n",
      "BGSX data not enough\n",
      "BGXX data not enough\n",
      "BH selected\n"
     ]
    },
    {
     "name": "stderr",
     "output_type": "stream",
     "text": [
      "C:\\Users\\Rain\\AppData\\Local\\Temp\\ipykernel_23516\\2431815014.py:15: RuntimeWarning: divide by zero encountered in double_scalars\n",
      "  quarter_eps.yoy_growth.iloc[i] = (quarter_eps.eps.iloc[i] - quarter_eps.eps.iloc[i+4]) / quarter_eps.eps.iloc[i+4]\n",
      "C:\\Users\\Rain\\AppData\\Local\\Temp\\ipykernel_23516\\2431815014.py:15: RuntimeWarning: invalid value encountered in double_scalars\n",
      "  quarter_eps.yoy_growth.iloc[i] = (quarter_eps.eps.iloc[i] - quarter_eps.eps.iloc[i+4]) / quarter_eps.eps.iloc[i+4]\n"
     ]
    },
    {
     "name": "stdout",
     "output_type": "stream",
     "text": [
      "BHA not exsit\n",
      "BHAC data not enough\n"
     ]
    },
    {
     "name": "stderr",
     "output_type": "stream",
     "text": [
      "C:\\Users\\Rain\\AppData\\Local\\Temp\\ipykernel_23516\\2431815014.py:15: RuntimeWarning: divide by zero encountered in double_scalars\n",
      "  quarter_eps.yoy_growth.iloc[i] = (quarter_eps.eps.iloc[i] - quarter_eps.eps.iloc[i+4]) / quarter_eps.eps.iloc[i+4]\n"
     ]
    },
    {
     "name": "stdout",
     "output_type": "stream",
     "text": [
      "BHAT not selected\n",
      "BHB not selected\n",
      "BHC not selected\n",
      "BHE selected\n"
     ]
    },
    {
     "name": "stderr",
     "output_type": "stream",
     "text": [
      "C:\\Users\\Rain\\AppData\\Local\\Temp\\ipykernel_23516\\2431815014.py:15: RuntimeWarning: divide by zero encountered in double_scalars\n",
      "  quarter_eps.yoy_growth.iloc[i] = (quarter_eps.eps.iloc[i] - quarter_eps.eps.iloc[i+4]) / quarter_eps.eps.iloc[i+4]\n",
      "C:\\Users\\Rain\\AppData\\Local\\Temp\\ipykernel_23516\\2431815014.py:15: RuntimeWarning: divide by zero encountered in double_scalars\n",
      "  quarter_eps.yoy_growth.iloc[i] = (quarter_eps.eps.iloc[i] - quarter_eps.eps.iloc[i+4]) / quarter_eps.eps.iloc[i+4]\n",
      "C:\\Users\\Rain\\AppData\\Local\\Temp\\ipykernel_23516\\2431815014.py:15: RuntimeWarning: invalid value encountered in double_scalars\n",
      "  quarter_eps.yoy_growth.iloc[i] = (quarter_eps.eps.iloc[i] - quarter_eps.eps.iloc[i+4]) / quarter_eps.eps.iloc[i+4]\n"
     ]
    },
    {
     "name": "stdout",
     "output_type": "stream",
     "text": [
      "BHF selected\n",
      "BHG not selected\n"
     ]
    },
    {
     "name": "stderr",
     "output_type": "stream",
     "text": [
      "C:\\Users\\Rain\\AppData\\Local\\Temp\\ipykernel_23516\\2431815014.py:15: RuntimeWarning: divide by zero encountered in double_scalars\n",
      "  quarter_eps.yoy_growth.iloc[i] = (quarter_eps.eps.iloc[i] - quarter_eps.eps.iloc[i+4]) / quarter_eps.eps.iloc[i+4]\n"
     ]
    },
    {
     "name": "stdout",
     "output_type": "stream",
     "text": [
      "BHIL not selected\n",
      "BHLB not selected\n",
      "BHP not selected\n"
     ]
    },
    {
     "name": "stderr",
     "output_type": "stream",
     "text": [
      "C:\\Users\\Rain\\AppData\\Local\\Temp\\ipykernel_23516\\2431815014.py:15: RuntimeWarning: invalid value encountered in double_scalars\n",
      "  quarter_eps.yoy_growth.iloc[i] = (quarter_eps.eps.iloc[i] - quarter_eps.eps.iloc[i+4]) / quarter_eps.eps.iloc[i+4]\n",
      "C:\\Users\\Rain\\AppData\\Local\\Temp\\ipykernel_23516\\2431815014.py:15: RuntimeWarning: divide by zero encountered in double_scalars\n",
      "  quarter_eps.yoy_growth.iloc[i] = (quarter_eps.eps.iloc[i] - quarter_eps.eps.iloc[i+4]) / quarter_eps.eps.iloc[i+4]\n",
      "C:\\Users\\Rain\\AppData\\Local\\Temp\\ipykernel_23516\\2431815014.py:19: RuntimeWarning: invalid value encountered in double_scalars\n",
      "  quarter_eps.fixed_yoy_growth.iloc[i] = (quarter_eps.yoy_growth.iloc[i] + quarter_eps.yoy_growth.iloc[i+1]) / 2\n"
     ]
    },
    {
     "name": "stdout",
     "output_type": "stream",
     "text": [
      "BHR not selected\n",
      "BHSE not selected\n"
     ]
    },
    {
     "name": "stderr",
     "output_type": "stream",
     "text": [
      "C:\\Users\\Rain\\AppData\\Local\\Temp\\ipykernel_23516\\2431815014.py:15: RuntimeWarning: divide by zero encountered in double_scalars\n",
      "  quarter_eps.yoy_growth.iloc[i] = (quarter_eps.eps.iloc[i] - quarter_eps.eps.iloc[i+4]) / quarter_eps.eps.iloc[i+4]\n",
      "C:\\Users\\Rain\\AppData\\Local\\Temp\\ipykernel_23516\\2431815014.py:15: RuntimeWarning: invalid value encountered in double_scalars\n",
      "  quarter_eps.yoy_growth.iloc[i] = (quarter_eps.eps.iloc[i] - quarter_eps.eps.iloc[i+4]) / quarter_eps.eps.iloc[i+4]\n",
      "C:\\Users\\Rain\\AppData\\Local\\Temp\\ipykernel_23516\\2431815014.py:19: RuntimeWarning: invalid value encountered in double_scalars\n",
      "  quarter_eps.fixed_yoy_growth.iloc[i] = (quarter_eps.yoy_growth.iloc[i] + quarter_eps.yoy_growth.iloc[i+1]) / 2\n",
      "C:\\Users\\Rain\\AppData\\Local\\Temp\\ipykernel_23516\\2431815014.py:15: RuntimeWarning: divide by zero encountered in double_scalars\n",
      "  quarter_eps.yoy_growth.iloc[i] = (quarter_eps.eps.iloc[i] - quarter_eps.eps.iloc[i+4]) / quarter_eps.eps.iloc[i+4]\n"
     ]
    },
    {
     "name": "stdout",
     "output_type": "stream",
     "text": [
      "BHVN not selected\n",
      "BIDU not selected\n"
     ]
    },
    {
     "name": "stderr",
     "output_type": "stream",
     "text": [
      "C:\\Users\\Rain\\AppData\\Local\\Temp\\ipykernel_23516\\2431815014.py:15: RuntimeWarning: divide by zero encountered in double_scalars\n",
      "  quarter_eps.yoy_growth.iloc[i] = (quarter_eps.eps.iloc[i] - quarter_eps.eps.iloc[i+4]) / quarter_eps.eps.iloc[i+4]\n"
     ]
    },
    {
     "name": "stdout",
     "output_type": "stream",
     "text": [
      "BIG not selected\n",
      "BIGC selected\n"
     ]
    },
    {
     "name": "stderr",
     "output_type": "stream",
     "text": [
      "C:\\Users\\Rain\\AppData\\Local\\Temp\\ipykernel_23516\\2431815014.py:15: RuntimeWarning: divide by zero encountered in double_scalars\n",
      "  quarter_eps.yoy_growth.iloc[i] = (quarter_eps.eps.iloc[i] - quarter_eps.eps.iloc[i+4]) / quarter_eps.eps.iloc[i+4]\n"
     ]
    },
    {
     "name": "stdout",
     "output_type": "stream",
     "text": [
      "BIIB selected\n",
      "BILI selected\n"
     ]
    },
    {
     "name": "stderr",
     "output_type": "stream",
     "text": [
      "C:\\Users\\Rain\\AppData\\Local\\Temp\\ipykernel_23516\\2431815014.py:15: RuntimeWarning: divide by zero encountered in double_scalars\n",
      "  quarter_eps.yoy_growth.iloc[i] = (quarter_eps.eps.iloc[i] - quarter_eps.eps.iloc[i+4]) / quarter_eps.eps.iloc[i+4]\n",
      "C:\\Users\\Rain\\AppData\\Local\\Temp\\ipykernel_23516\\2431815014.py:15: RuntimeWarning: divide by zero encountered in double_scalars\n",
      "  quarter_eps.yoy_growth.iloc[i] = (quarter_eps.eps.iloc[i] - quarter_eps.eps.iloc[i+4]) / quarter_eps.eps.iloc[i+4]\n"
     ]
    },
    {
     "name": "stdout",
     "output_type": "stream",
     "text": [
      "BILL selected\n",
      "BIMI selected\n"
     ]
    },
    {
     "name": "stderr",
     "output_type": "stream",
     "text": [
      "C:\\Users\\Rain\\AppData\\Local\\Temp\\ipykernel_23516\\2431815014.py:15: RuntimeWarning: divide by zero encountered in double_scalars\n",
      "  quarter_eps.yoy_growth.iloc[i] = (quarter_eps.eps.iloc[i] - quarter_eps.eps.iloc[i+4]) / quarter_eps.eps.iloc[i+4]\n",
      "C:\\Users\\Rain\\AppData\\Local\\Temp\\ipykernel_23516\\2431815014.py:15: RuntimeWarning: invalid value encountered in double_scalars\n",
      "  quarter_eps.yoy_growth.iloc[i] = (quarter_eps.eps.iloc[i] - quarter_eps.eps.iloc[i+4]) / quarter_eps.eps.iloc[i+4]\n"
     ]
    },
    {
     "name": "stdout",
     "output_type": "stream",
     "text": [
      "BIO not selected\n",
      "BIOC not exsit\n",
      "BIOL selected\n"
     ]
    },
    {
     "name": "stderr",
     "output_type": "stream",
     "text": [
      "C:\\Users\\Rain\\AppData\\Local\\Temp\\ipykernel_23516\\2431815014.py:15: RuntimeWarning: divide by zero encountered in double_scalars\n",
      "  quarter_eps.yoy_growth.iloc[i] = (quarter_eps.eps.iloc[i] - quarter_eps.eps.iloc[i+4]) / quarter_eps.eps.iloc[i+4]\n"
     ]
    },
    {
     "name": "stdout",
     "output_type": "stream",
     "text": [
      "BIOR not selected\n",
      "BIOS data not enough\n"
     ]
    },
    {
     "name": "stderr",
     "output_type": "stream",
     "text": [
      "C:\\Users\\Rain\\AppData\\Local\\Temp\\ipykernel_23516\\2431815014.py:15: RuntimeWarning: divide by zero encountered in double_scalars\n",
      "  quarter_eps.yoy_growth.iloc[i] = (quarter_eps.eps.iloc[i] - quarter_eps.eps.iloc[i+4]) / quarter_eps.eps.iloc[i+4]\n",
      "C:\\Users\\Rain\\AppData\\Local\\Temp\\ipykernel_23516\\2431815014.py:15: RuntimeWarning: divide by zero encountered in double_scalars\n",
      "  quarter_eps.yoy_growth.iloc[i] = (quarter_eps.eps.iloc[i] - quarter_eps.eps.iloc[i+4]) / quarter_eps.eps.iloc[i+4]\n",
      "C:\\Users\\Rain\\AppData\\Local\\Temp\\ipykernel_23516\\2431815014.py:15: RuntimeWarning: invalid value encountered in double_scalars\n",
      "  quarter_eps.yoy_growth.iloc[i] = (quarter_eps.eps.iloc[i] - quarter_eps.eps.iloc[i+4]) / quarter_eps.eps.iloc[i+4]\n"
     ]
    },
    {
     "name": "stdout",
     "output_type": "stream",
     "text": [
      "BIOT selected\n",
      "BIOX selected\n"
     ]
    },
    {
     "name": "stderr",
     "output_type": "stream",
     "text": [
      "C:\\Users\\Rain\\AppData\\Local\\Temp\\ipykernel_23516\\2431815014.py:15: RuntimeWarning: divide by zero encountered in double_scalars\n",
      "  quarter_eps.yoy_growth.iloc[i] = (quarter_eps.eps.iloc[i] - quarter_eps.eps.iloc[i+4]) / quarter_eps.eps.iloc[i+4]\n",
      "C:\\Users\\Rain\\AppData\\Local\\Temp\\ipykernel_23516\\2431815014.py:15: RuntimeWarning: invalid value encountered in double_scalars\n",
      "  quarter_eps.yoy_growth.iloc[i] = (quarter_eps.eps.iloc[i] - quarter_eps.eps.iloc[i+4]) / quarter_eps.eps.iloc[i+4]\n",
      "C:\\Users\\Rain\\AppData\\Local\\Temp\\ipykernel_23516\\2431815014.py:15: RuntimeWarning: divide by zero encountered in double_scalars\n",
      "  quarter_eps.yoy_growth.iloc[i] = (quarter_eps.eps.iloc[i] - quarter_eps.eps.iloc[i+4]) / quarter_eps.eps.iloc[i+4]\n"
     ]
    },
    {
     "name": "stdout",
     "output_type": "stream",
     "text": [
      "BIP not selected\n",
      "BIPC not exsit\n",
      "BIRD not selected\n"
     ]
    },
    {
     "name": "stderr",
     "output_type": "stream",
     "text": [
      "C:\\Users\\Rain\\AppData\\Local\\Temp\\ipykernel_23516\\2431815014.py:15: RuntimeWarning: divide by zero encountered in double_scalars\n",
      "  quarter_eps.yoy_growth.iloc[i] = (quarter_eps.eps.iloc[i] - quarter_eps.eps.iloc[i+4]) / quarter_eps.eps.iloc[i+4]\n",
      "C:\\Users\\Rain\\AppData\\Local\\Temp\\ipykernel_23516\\2431815014.py:15: RuntimeWarning: divide by zero encountered in double_scalars\n",
      "  quarter_eps.yoy_growth.iloc[i] = (quarter_eps.eps.iloc[i] - quarter_eps.eps.iloc[i+4]) / quarter_eps.eps.iloc[i+4]\n",
      "C:\\Users\\Rain\\AppData\\Local\\Temp\\ipykernel_23516\\2431815014.py:15: RuntimeWarning: divide by zero encountered in double_scalars\n",
      "  quarter_eps.yoy_growth.iloc[i] = (quarter_eps.eps.iloc[i] - quarter_eps.eps.iloc[i+4]) / quarter_eps.eps.iloc[i+4]\n",
      "C:\\Users\\Rain\\AppData\\Local\\Temp\\ipykernel_23516\\2431815014.py:15: RuntimeWarning: invalid value encountered in double_scalars\n",
      "  quarter_eps.yoy_growth.iloc[i] = (quarter_eps.eps.iloc[i] - quarter_eps.eps.iloc[i+4]) / quarter_eps.eps.iloc[i+4]\n"
     ]
    },
    {
     "name": "stdout",
     "output_type": "stream",
     "text": [
      "BITE selected\n",
      "BITF selected\n",
      "BIVI not selected"
     ]
    },
    {
     "name": "stderr",
     "output_type": "stream",
     "text": [
      "C:\\Users\\Rain\\AppData\\Local\\Temp\\ipykernel_23516\\2431815014.py:15: RuntimeWarning: divide by zero encountered in double_scalars\n",
      "  quarter_eps.yoy_growth.iloc[i] = (quarter_eps.eps.iloc[i] - quarter_eps.eps.iloc[i+4]) / quarter_eps.eps.iloc[i+4]\n",
      "C:\\Users\\Rain\\AppData\\Local\\Temp\\ipykernel_23516\\2431815014.py:15: RuntimeWarning: divide by zero encountered in double_scalars\n",
      "  quarter_eps.yoy_growth.iloc[i] = (quarter_eps.eps.iloc[i] - quarter_eps.eps.iloc[i+4]) / quarter_eps.eps.iloc[i+4]\n"
     ]
    },
    {
     "name": "stdout",
     "output_type": "stream",
     "text": [
      "\n",
      "BJ not selected\n",
      "BJDX not selected\n",
      "BJRI not selected\n",
      "BK not selected\n",
      "BKCC not selected\n",
      "BKD not selected\n",
      "BKE not selected\n",
      "BKEP not exsit\n",
      "BKH not selected\n"
     ]
    },
    {
     "name": "stderr",
     "output_type": "stream",
     "text": [
      "C:\\Users\\Rain\\AppData\\Local\\Temp\\ipykernel_23516\\2431815014.py:15: RuntimeWarning: divide by zero encountered in double_scalars\n",
      "  quarter_eps.yoy_growth.iloc[i] = (quarter_eps.eps.iloc[i] - quarter_eps.eps.iloc[i+4]) / quarter_eps.eps.iloc[i+4]\n",
      "C:\\Users\\Rain\\AppData\\Local\\Temp\\ipykernel_23516\\2431815014.py:15: RuntimeWarning: invalid value encountered in double_scalars\n",
      "  quarter_eps.yoy_growth.iloc[i] = (quarter_eps.eps.iloc[i] - quarter_eps.eps.iloc[i+4]) / quarter_eps.eps.iloc[i+4]\n",
      "C:\\Users\\Rain\\AppData\\Local\\Temp\\ipykernel_23516\\2431815014.py:15: RuntimeWarning: divide by zero encountered in double_scalars\n",
      "  quarter_eps.yoy_growth.iloc[i] = (quarter_eps.eps.iloc[i] - quarter_eps.eps.iloc[i+4]) / quarter_eps.eps.iloc[i+4]\n",
      "C:\\Users\\Rain\\AppData\\Local\\Temp\\ipykernel_23516\\2431815014.py:19: RuntimeWarning: invalid value encountered in double_scalars\n",
      "  quarter_eps.fixed_yoy_growth.iloc[i] = (quarter_eps.yoy_growth.iloc[i] + quarter_eps.yoy_growth.iloc[i+1]) / 2\n"
     ]
    },
    {
     "name": "stdout",
     "output_type": "stream",
     "text": [
      "BKI selected\n",
      "BKKT not selected\n",
      "BKNG selected\n",
      "BKR selected\n"
     ]
    },
    {
     "name": "stderr",
     "output_type": "stream",
     "text": [
      "C:\\Users\\Rain\\AppData\\Local\\Temp\\ipykernel_23516\\2431815014.py:15: RuntimeWarning: divide by zero encountered in double_scalars\n",
      "  quarter_eps.yoy_growth.iloc[i] = (quarter_eps.eps.iloc[i] - quarter_eps.eps.iloc[i+4]) / quarter_eps.eps.iloc[i+4]\n",
      "C:\\Users\\Rain\\AppData\\Local\\Temp\\ipykernel_23516\\2431815014.py:15: RuntimeWarning: invalid value encountered in double_scalars\n",
      "  quarter_eps.yoy_growth.iloc[i] = (quarter_eps.eps.iloc[i] - quarter_eps.eps.iloc[i+4]) / quarter_eps.eps.iloc[i+4]\n",
      "C:\\Users\\Rain\\AppData\\Local\\Temp\\ipykernel_23516\\2431815014.py:19: RuntimeWarning: invalid value encountered in double_scalars\n",
      "  quarter_eps.fixed_yoy_growth.iloc[i] = (quarter_eps.yoy_growth.iloc[i] + quarter_eps.yoy_growth.iloc[i+1]) / 2\n"
     ]
    },
    {
     "name": "stdout",
     "output_type": "stream",
     "text": [
      "BKSC not selected\n",
      "BKSY not selected\n"
     ]
    },
    {
     "name": "stderr",
     "output_type": "stream",
     "text": [
      "C:\\Users\\Rain\\AppData\\Local\\Temp\\ipykernel_23516\\2431815014.py:15: RuntimeWarning: divide by zero encountered in double_scalars\n",
      "  quarter_eps.yoy_growth.iloc[i] = (quarter_eps.eps.iloc[i] - quarter_eps.eps.iloc[i+4]) / quarter_eps.eps.iloc[i+4]\n",
      "C:\\Users\\Rain\\AppData\\Local\\Temp\\ipykernel_23516\\2431815014.py:15: RuntimeWarning: invalid value encountered in double_scalars\n",
      "  quarter_eps.yoy_growth.iloc[i] = (quarter_eps.eps.iloc[i] - quarter_eps.eps.iloc[i+4]) / quarter_eps.eps.iloc[i+4]\n",
      "C:\\Users\\Rain\\AppData\\Local\\Temp\\ipykernel_23516\\2431815014.py:19: RuntimeWarning: invalid value encountered in double_scalars\n",
      "  quarter_eps.fixed_yoy_growth.iloc[i] = (quarter_eps.yoy_growth.iloc[i] + quarter_eps.yoy_growth.iloc[i+1]) / 2\n",
      "C:\\Users\\Rain\\AppData\\Local\\Temp\\ipykernel_23516\\2431815014.py:15: RuntimeWarning: divide by zero encountered in double_scalars\n",
      "  quarter_eps.yoy_growth.iloc[i] = (quarter_eps.eps.iloc[i] - quarter_eps.eps.iloc[i+4]) / quarter_eps.eps.iloc[i+4]\n"
     ]
    },
    {
     "name": "stdout",
     "output_type": "stream",
     "text": [
      "BKTI not selected\n",
      "BKU not selected\n"
     ]
    },
    {
     "name": "stderr",
     "output_type": "stream",
     "text": [
      "C:\\Users\\Rain\\AppData\\Local\\Temp\\ipykernel_23516\\2431815014.py:15: RuntimeWarning: divide by zero encountered in double_scalars\n",
      "  quarter_eps.yoy_growth.iloc[i] = (quarter_eps.eps.iloc[i] - quarter_eps.eps.iloc[i+4]) / quarter_eps.eps.iloc[i+4]\n",
      "C:\\Users\\Rain\\AppData\\Local\\Temp\\ipykernel_23516\\2431815014.py:15: RuntimeWarning: divide by zero encountered in double_scalars\n",
      "  quarter_eps.yoy_growth.iloc[i] = (quarter_eps.eps.iloc[i] - quarter_eps.eps.iloc[i+4]) / quarter_eps.eps.iloc[i+4]\n",
      "C:\\Users\\Rain\\AppData\\Local\\Temp\\ipykernel_23516\\2431815014.py:15: RuntimeWarning: invalid value encountered in double_scalars\n",
      "  quarter_eps.yoy_growth.iloc[i] = (quarter_eps.eps.iloc[i] - quarter_eps.eps.iloc[i+4]) / quarter_eps.eps.iloc[i+4]\n"
     ]
    },
    {
     "name": "stdout",
     "output_type": "stream",
     "text": [
      "BKYI not selected\n",
      "BL not selected\n"
     ]
    },
    {
     "name": "stderr",
     "output_type": "stream",
     "text": [
      "C:\\Users\\Rain\\AppData\\Local\\Temp\\ipykernel_23516\\2431815014.py:15: RuntimeWarning: divide by zero encountered in double_scalars\n",
      "  quarter_eps.yoy_growth.iloc[i] = (quarter_eps.eps.iloc[i] - quarter_eps.eps.iloc[i+4]) / quarter_eps.eps.iloc[i+4]\n",
      "C:\\Users\\Rain\\AppData\\Local\\Temp\\ipykernel_23516\\2431815014.py:15: RuntimeWarning: divide by zero encountered in double_scalars\n",
      "  quarter_eps.yoy_growth.iloc[i] = (quarter_eps.eps.iloc[i] - quarter_eps.eps.iloc[i+4]) / quarter_eps.eps.iloc[i+4]\n",
      "C:\\Users\\Rain\\AppData\\Local\\Temp\\ipykernel_23516\\2431815014.py:15: RuntimeWarning: invalid value encountered in double_scalars\n",
      "  quarter_eps.yoy_growth.iloc[i] = (quarter_eps.eps.iloc[i] - quarter_eps.eps.iloc[i+4]) / quarter_eps.eps.iloc[i+4]\n"
     ]
    },
    {
     "name": "stdout",
     "output_type": "stream",
     "text": [
      "BLBD selected\n",
      "BLBX selected\n"
     ]
    },
    {
     "name": "stderr",
     "output_type": "stream",
     "text": [
      "C:\\Users\\Rain\\AppData\\Local\\Temp\\ipykernel_23516\\2431815014.py:15: RuntimeWarning: divide by zero encountered in double_scalars\n",
      "  quarter_eps.yoy_growth.iloc[i] = (quarter_eps.eps.iloc[i] - quarter_eps.eps.iloc[i+4]) / quarter_eps.eps.iloc[i+4]\n",
      "C:\\Users\\Rain\\AppData\\Local\\Temp\\ipykernel_23516\\2431815014.py:15: RuntimeWarning: divide by zero encountered in double_scalars\n",
      "  quarter_eps.yoy_growth.iloc[i] = (quarter_eps.eps.iloc[i] - quarter_eps.eps.iloc[i+4]) / quarter_eps.eps.iloc[i+4]\n"
     ]
    },
    {
     "name": "stdout",
     "output_type": "stream",
     "text": [
      "BLCM not selected\n",
      "BLCO data not enough\n"
     ]
    },
    {
     "name": "stderr",
     "output_type": "stream",
     "text": [
      "C:\\Users\\Rain\\AppData\\Local\\Temp\\ipykernel_23516\\2431815014.py:15: RuntimeWarning: divide by zero encountered in double_scalars\n",
      "  quarter_eps.yoy_growth.iloc[i] = (quarter_eps.eps.iloc[i] - quarter_eps.eps.iloc[i+4]) / quarter_eps.eps.iloc[i+4]\n",
      "C:\\Users\\Rain\\AppData\\Local\\Temp\\ipykernel_23516\\2431815014.py:15: RuntimeWarning: invalid value encountered in double_scalars\n",
      "  quarter_eps.yoy_growth.iloc[i] = (quarter_eps.eps.iloc[i] - quarter_eps.eps.iloc[i+4]) / quarter_eps.eps.iloc[i+4]\n"
     ]
    },
    {
     "name": "stdout",
     "output_type": "stream",
     "text": [
      "BLD selected\n",
      "BLDE not selected\n"
     ]
    },
    {
     "name": "stderr",
     "output_type": "stream",
     "text": [
      "C:\\Users\\Rain\\AppData\\Local\\Temp\\ipykernel_23516\\2431815014.py:15: RuntimeWarning: divide by zero encountered in double_scalars\n",
      "  quarter_eps.yoy_growth.iloc[i] = (quarter_eps.eps.iloc[i] - quarter_eps.eps.iloc[i+4]) / quarter_eps.eps.iloc[i+4]\n",
      "C:\\Users\\Rain\\AppData\\Local\\Temp\\ipykernel_23516\\2431815014.py:15: RuntimeWarning: invalid value encountered in double_scalars\n",
      "  quarter_eps.yoy_growth.iloc[i] = (quarter_eps.eps.iloc[i] - quarter_eps.eps.iloc[i+4]) / quarter_eps.eps.iloc[i+4]\n"
     ]
    },
    {
     "name": "stdout",
     "output_type": "stream",
     "text": [
      "BLDP selected\n",
      "BLDR selected\n",
      "BLEU data not enough\n",
      "BLFS not selected\n"
     ]
    },
    {
     "name": "stderr",
     "output_type": "stream",
     "text": [
      "C:\\Users\\Rain\\AppData\\Local\\Temp\\ipykernel_23516\\2431815014.py:15: RuntimeWarning: divide by zero encountered in double_scalars\n",
      "  quarter_eps.yoy_growth.iloc[i] = (quarter_eps.eps.iloc[i] - quarter_eps.eps.iloc[i+4]) / quarter_eps.eps.iloc[i+4]\n",
      "C:\\Users\\Rain\\AppData\\Local\\Temp\\ipykernel_23516\\2431815014.py:15: RuntimeWarning: invalid value encountered in double_scalars\n",
      "  quarter_eps.yoy_growth.iloc[i] = (quarter_eps.eps.iloc[i] - quarter_eps.eps.iloc[i+4]) / quarter_eps.eps.iloc[i+4]\n",
      "C:\\Users\\Rain\\AppData\\Local\\Temp\\ipykernel_23516\\2431815014.py:15: RuntimeWarning: invalid value encountered in double_scalars\n",
      "  quarter_eps.yoy_growth.iloc[i] = (quarter_eps.eps.iloc[i] - quarter_eps.eps.iloc[i+4]) / quarter_eps.eps.iloc[i+4]\n",
      "C:\\Users\\Rain\\AppData\\Local\\Temp\\ipykernel_23516\\2431815014.py:15: RuntimeWarning: divide by zero encountered in double_scalars\n",
      "  quarter_eps.yoy_growth.iloc[i] = (quarter_eps.eps.iloc[i] - quarter_eps.eps.iloc[i+4]) / quarter_eps.eps.iloc[i+4]\n",
      "C:\\Users\\Rain\\AppData\\Local\\Temp\\ipykernel_23516\\2431815014.py:19: RuntimeWarning: invalid value encountered in double_scalars\n",
      "  quarter_eps.fixed_yoy_growth.iloc[i] = (quarter_eps.yoy_growth.iloc[i] + quarter_eps.yoy_growth.iloc[i+1]) / 2\n"
     ]
    },
    {
     "name": "stdout",
     "output_type": "stream",
     "text": [
      "BLFY not selected\n",
      "BLI not selected\n"
     ]
    },
    {
     "name": "stderr",
     "output_type": "stream",
     "text": [
      "C:\\Users\\Rain\\AppData\\Local\\Temp\\ipykernel_23516\\2431815014.py:15: RuntimeWarning: divide by zero encountered in double_scalars\n",
      "  quarter_eps.yoy_growth.iloc[i] = (quarter_eps.eps.iloc[i] - quarter_eps.eps.iloc[i+4]) / quarter_eps.eps.iloc[i+4]\n",
      "C:\\Users\\Rain\\AppData\\Local\\Temp\\ipykernel_23516\\2431815014.py:15: RuntimeWarning: divide by zero encountered in double_scalars\n",
      "  quarter_eps.yoy_growth.iloc[i] = (quarter_eps.eps.iloc[i] - quarter_eps.eps.iloc[i+4]) / quarter_eps.eps.iloc[i+4]\n",
      "C:\\Users\\Rain\\AppData\\Local\\Temp\\ipykernel_23516\\2431815014.py:15: RuntimeWarning: invalid value encountered in double_scalars\n",
      "  quarter_eps.yoy_growth.iloc[i] = (quarter_eps.eps.iloc[i] - quarter_eps.eps.iloc[i+4]) / quarter_eps.eps.iloc[i+4]\n"
     ]
    },
    {
     "name": "stdout",
     "output_type": "stream",
     "text": [
      "BLIN not selected\n",
      "BLK not selected\n"
     ]
    },
    {
     "name": "stderr",
     "output_type": "stream",
     "text": [
      "C:\\Users\\Rain\\AppData\\Local\\Temp\\ipykernel_23516\\2431815014.py:15: RuntimeWarning: divide by zero encountered in double_scalars\n",
      "  quarter_eps.yoy_growth.iloc[i] = (quarter_eps.eps.iloc[i] - quarter_eps.eps.iloc[i+4]) / quarter_eps.eps.iloc[i+4]\n",
      "C:\\Users\\Rain\\AppData\\Local\\Temp\\ipykernel_23516\\2431815014.py:15: RuntimeWarning: divide by zero encountered in double_scalars\n",
      "  quarter_eps.yoy_growth.iloc[i] = (quarter_eps.eps.iloc[i] - quarter_eps.eps.iloc[i+4]) / quarter_eps.eps.iloc[i+4]\n"
     ]
    },
    {
     "name": "stdout",
     "output_type": "stream",
     "text": [
      "BLKB not selected\n",
      "BLMN not selected\n"
     ]
    },
    {
     "name": "stderr",
     "output_type": "stream",
     "text": [
      "C:\\Users\\Rain\\AppData\\Local\\Temp\\ipykernel_23516\\2431815014.py:15: RuntimeWarning: divide by zero encountered in double_scalars\n",
      "  quarter_eps.yoy_growth.iloc[i] = (quarter_eps.eps.iloc[i] - quarter_eps.eps.iloc[i+4]) / quarter_eps.eps.iloc[i+4]\n"
     ]
    },
    {
     "name": "stdout",
     "output_type": "stream",
     "text": [
      "BLND not selected\n",
      "BLNG data not enough\n"
     ]
    },
    {
     "name": "stderr",
     "output_type": "stream",
     "text": [
      "C:\\Users\\Rain\\AppData\\Local\\Temp\\ipykernel_23516\\2431815014.py:15: RuntimeWarning: divide by zero encountered in double_scalars\n",
      "  quarter_eps.yoy_growth.iloc[i] = (quarter_eps.eps.iloc[i] - quarter_eps.eps.iloc[i+4]) / quarter_eps.eps.iloc[i+4]\n",
      "C:\\Users\\Rain\\AppData\\Local\\Temp\\ipykernel_23516\\2431815014.py:19: RuntimeWarning: invalid value encountered in double_scalars\n",
      "  quarter_eps.fixed_yoy_growth.iloc[i] = (quarter_eps.yoy_growth.iloc[i] + quarter_eps.yoy_growth.iloc[i+1]) / 2\n",
      "C:\\Users\\Rain\\AppData\\Local\\Temp\\ipykernel_23516\\2431815014.py:15: RuntimeWarning: divide by zero encountered in double_scalars\n",
      "  quarter_eps.yoy_growth.iloc[i] = (quarter_eps.eps.iloc[i] - quarter_eps.eps.iloc[i+4]) / quarter_eps.eps.iloc[i+4]\n"
     ]
    },
    {
     "name": "stdout",
     "output_type": "stream",
     "text": [
      "BLNK not selected\n",
      "BLPH not selected\n",
      "BLRX not selected\n",
      "BLSA data not enough\n",
      "BLTE data not enough\n"
     ]
    },
    {
     "name": "stderr",
     "output_type": "stream",
     "text": [
      "C:\\Users\\Rain\\AppData\\Local\\Temp\\ipykernel_23516\\2431815014.py:15: RuntimeWarning: invalid value encountered in double_scalars\n",
      "  quarter_eps.yoy_growth.iloc[i] = (quarter_eps.eps.iloc[i] - quarter_eps.eps.iloc[i+4]) / quarter_eps.eps.iloc[i+4]\n",
      "C:\\Users\\Rain\\AppData\\Local\\Temp\\ipykernel_23516\\2431815014.py:15: RuntimeWarning: divide by zero encountered in double_scalars\n",
      "  quarter_eps.yoy_growth.iloc[i] = (quarter_eps.eps.iloc[i] - quarter_eps.eps.iloc[i+4]) / quarter_eps.eps.iloc[i+4]\n",
      "C:\\Users\\Rain\\AppData\\Local\\Temp\\ipykernel_23516\\2431815014.py:15: RuntimeWarning: divide by zero encountered in double_scalars\n",
      "  quarter_eps.yoy_growth.iloc[i] = (quarter_eps.eps.iloc[i] - quarter_eps.eps.iloc[i+4]) / quarter_eps.eps.iloc[i+4]\n",
      "C:\\Users\\Rain\\AppData\\Local\\Temp\\ipykernel_23516\\2431815014.py:19: RuntimeWarning: invalid value encountered in double_scalars\n",
      "  quarter_eps.fixed_yoy_growth.iloc[i] = (quarter_eps.yoy_growth.iloc[i] + quarter_eps.yoy_growth.iloc[i+1]) / 2\n"
     ]
    },
    {
     "name": "stdout",
     "output_type": "stream",
     "text": [
      "BLTS not selected\n",
      "BLU not selected\n"
     ]
    },
    {
     "name": "stderr",
     "output_type": "stream",
     "text": [
      "C:\\Users\\Rain\\AppData\\Local\\Temp\\ipykernel_23516\\2431815014.py:15: RuntimeWarning: divide by zero encountered in double_scalars\n",
      "  quarter_eps.yoy_growth.iloc[i] = (quarter_eps.eps.iloc[i] - quarter_eps.eps.iloc[i+4]) / quarter_eps.eps.iloc[i+4]\n",
      "C:\\Users\\Rain\\AppData\\Local\\Temp\\ipykernel_23516\\2431815014.py:15: RuntimeWarning: divide by zero encountered in double_scalars\n",
      "  quarter_eps.yoy_growth.iloc[i] = (quarter_eps.eps.iloc[i] - quarter_eps.eps.iloc[i+4]) / quarter_eps.eps.iloc[i+4]\n"
     ]
    },
    {
     "name": "stdout",
     "output_type": "stream",
     "text": [
      "BLUA not selected\n",
      "BLUE not selected\n"
     ]
    },
    {
     "name": "stderr",
     "output_type": "stream",
     "text": [
      "C:\\Users\\Rain\\AppData\\Local\\Temp\\ipykernel_23516\\2431815014.py:15: RuntimeWarning: divide by zero encountered in double_scalars\n",
      "  quarter_eps.yoy_growth.iloc[i] = (quarter_eps.eps.iloc[i] - quarter_eps.eps.iloc[i+4]) / quarter_eps.eps.iloc[i+4]\n",
      "C:\\Users\\Rain\\AppData\\Local\\Temp\\ipykernel_23516\\2431815014.py:15: RuntimeWarning: divide by zero encountered in double_scalars\n",
      "  quarter_eps.yoy_growth.iloc[i] = (quarter_eps.eps.iloc[i] - quarter_eps.eps.iloc[i+4]) / quarter_eps.eps.iloc[i+4]\n"
     ]
    },
    {
     "name": "stdout",
     "output_type": "stream",
     "text": [
      "BLX not selected\n",
      "BLZE selected\n",
      "BMA selected\n",
      "BMAC data not enough\n",
      "BMAQ data not enough\n",
      "BMBL not selected"
     ]
    },
    {
     "name": "stderr",
     "output_type": "stream",
     "text": [
      "C:\\Users\\Rain\\AppData\\Local\\Temp\\ipykernel_23516\\2431815014.py:15: RuntimeWarning: divide by zero encountered in double_scalars\n",
      "  quarter_eps.yoy_growth.iloc[i] = (quarter_eps.eps.iloc[i] - quarter_eps.eps.iloc[i+4]) / quarter_eps.eps.iloc[i+4]\n",
      "C:\\Users\\Rain\\AppData\\Local\\Temp\\ipykernel_23516\\2431815014.py:15: RuntimeWarning: invalid value encountered in double_scalars\n",
      "  quarter_eps.yoy_growth.iloc[i] = (quarter_eps.eps.iloc[i] - quarter_eps.eps.iloc[i+4]) / quarter_eps.eps.iloc[i+4]\n",
      "C:\\Users\\Rain\\AppData\\Local\\Temp\\ipykernel_23516\\2431815014.py:15: RuntimeWarning: divide by zero encountered in double_scalars\n",
      "  quarter_eps.yoy_growth.iloc[i] = (quarter_eps.eps.iloc[i] - quarter_eps.eps.iloc[i+4]) / quarter_eps.eps.iloc[i+4]\n"
     ]
    },
    {
     "name": "stdout",
     "output_type": "stream",
     "text": [
      "\n",
      "BMEA not selected\n",
      "BMI not selected\n",
      "BMO selected\n",
      "BMRA not selected\n"
     ]
    },
    {
     "name": "stderr",
     "output_type": "stream",
     "text": [
      "C:\\Users\\Rain\\AppData\\Local\\Temp\\ipykernel_23516\\2431815014.py:15: RuntimeWarning: divide by zero encountered in double_scalars\n",
      "  quarter_eps.yoy_growth.iloc[i] = (quarter_eps.eps.iloc[i] - quarter_eps.eps.iloc[i+4]) / quarter_eps.eps.iloc[i+4]\n",
      "C:\\Users\\Rain\\AppData\\Local\\Temp\\ipykernel_23516\\2431815014.py:15: RuntimeWarning: invalid value encountered in double_scalars\n",
      "  quarter_eps.yoy_growth.iloc[i] = (quarter_eps.eps.iloc[i] - quarter_eps.eps.iloc[i+4]) / quarter_eps.eps.iloc[i+4]\n"
     ]
    },
    {
     "name": "stdout",
     "output_type": "stream",
     "text": [
      "BMRC not selected\n",
      "BMRN selected\n",
      "BMTX selected\n"
     ]
    },
    {
     "name": "stderr",
     "output_type": "stream",
     "text": [
      "C:\\Users\\Rain\\AppData\\Local\\Temp\\ipykernel_23516\\2431815014.py:15: RuntimeWarning: divide by zero encountered in double_scalars\n",
      "  quarter_eps.yoy_growth.iloc[i] = (quarter_eps.eps.iloc[i] - quarter_eps.eps.iloc[i+4]) / quarter_eps.eps.iloc[i+4]\n"
     ]
    },
    {
     "name": "stdout",
     "output_type": "stream",
     "text": [
      "BMY not selected\n",
      "BNED not selected\n"
     ]
    },
    {
     "name": "stderr",
     "output_type": "stream",
     "text": [
      "C:\\Users\\Rain\\AppData\\Local\\Temp\\ipykernel_23516\\2431815014.py:15: RuntimeWarning: divide by zero encountered in double_scalars\n",
      "  quarter_eps.yoy_growth.iloc[i] = (quarter_eps.eps.iloc[i] - quarter_eps.eps.iloc[i+4]) / quarter_eps.eps.iloc[i+4]\n",
      "C:\\Users\\Rain\\AppData\\Local\\Temp\\ipykernel_23516\\2431815014.py:19: RuntimeWarning: invalid value encountered in double_scalars\n",
      "  quarter_eps.fixed_yoy_growth.iloc[i] = (quarter_eps.yoy_growth.iloc[i] + quarter_eps.yoy_growth.iloc[i+1]) / 2\n",
      "C:\\Users\\Rain\\AppData\\Local\\Temp\\ipykernel_23516\\2431815014.py:15: RuntimeWarning: divide by zero encountered in double_scalars\n",
      "  quarter_eps.yoy_growth.iloc[i] = (quarter_eps.eps.iloc[i] - quarter_eps.eps.iloc[i+4]) / quarter_eps.eps.iloc[i+4]\n"
     ]
    },
    {
     "name": "stdout",
     "output_type": "stream",
     "text": [
      "BNFT not selected\n",
      "BNGO selected\n"
     ]
    },
    {
     "name": "stderr",
     "output_type": "stream",
     "text": [
      "C:\\Users\\Rain\\AppData\\Local\\Temp\\ipykernel_23516\\2431815014.py:15: RuntimeWarning: divide by zero encountered in double_scalars\n",
      "  quarter_eps.yoy_growth.iloc[i] = (quarter_eps.eps.iloc[i] - quarter_eps.eps.iloc[i+4]) / quarter_eps.eps.iloc[i+4]\n"
     ]
    },
    {
     "name": "stdout",
     "output_type": "stream",
     "text": [
      "BNIX data not enough\n",
      "BNL not selected\n"
     ]
    },
    {
     "name": "stderr",
     "output_type": "stream",
     "text": [
      "C:\\Users\\Rain\\AppData\\Local\\Temp\\ipykernel_23516\\2431815014.py:15: RuntimeWarning: divide by zero encountered in double_scalars\n",
      "  quarter_eps.yoy_growth.iloc[i] = (quarter_eps.eps.iloc[i] - quarter_eps.eps.iloc[i+4]) / quarter_eps.eps.iloc[i+4]\n"
     ]
    },
    {
     "name": "stdout",
     "output_type": "stream",
     "text": [
      "BNNR data not enough\n",
      "BNOX data not enough\n"
     ]
    },
    {
     "name": "stderr",
     "output_type": "stream",
     "text": [
      "C:\\Users\\Rain\\AppData\\Local\\Temp\\ipykernel_23516\\2431815014.py:15: RuntimeWarning: divide by zero encountered in double_scalars\n",
      "  quarter_eps.yoy_growth.iloc[i] = (quarter_eps.eps.iloc[i] - quarter_eps.eps.iloc[i+4]) / quarter_eps.eps.iloc[i+4]\n"
     ]
    },
    {
     "name": "stdout",
     "output_type": "stream",
     "text": [
      "BNR not selected\n",
      "BNRG data not enough\n",
      "BNS not selected\n",
      "BNSO data not enough\n",
      "BNTC not exsit\n",
      "BNTX not selected\n"
     ]
    },
    {
     "name": "stderr",
     "output_type": "stream",
     "text": [
      "C:\\Users\\Rain\\AppData\\Local\\Temp\\ipykernel_23516\\2431815014.py:15: RuntimeWarning: divide by zero encountered in double_scalars\n",
      "  quarter_eps.yoy_growth.iloc[i] = (quarter_eps.eps.iloc[i] - quarter_eps.eps.iloc[i+4]) / quarter_eps.eps.iloc[i+4]\n",
      "C:\\Users\\Rain\\AppData\\Local\\Temp\\ipykernel_23516\\2431815014.py:15: RuntimeWarning: divide by zero encountered in double_scalars\n",
      "  quarter_eps.yoy_growth.iloc[i] = (quarter_eps.eps.iloc[i] - quarter_eps.eps.iloc[i+4]) / quarter_eps.eps.iloc[i+4]\n"
     ]
    },
    {
     "name": "stdout",
     "output_type": "stream",
     "text": [
      "BOAC not selected\n",
      "BOAS data not enough\n",
      "BOC not selected"
     ]
    },
    {
     "name": "stderr",
     "output_type": "stream",
     "text": [
      "C:\\Users\\Rain\\AppData\\Local\\Temp\\ipykernel_23516\\2431815014.py:15: RuntimeWarning: divide by zero encountered in double_scalars\n",
      "  quarter_eps.yoy_growth.iloc[i] = (quarter_eps.eps.iloc[i] - quarter_eps.eps.iloc[i+4]) / quarter_eps.eps.iloc[i+4]\n",
      "C:\\Users\\Rain\\AppData\\Local\\Temp\\ipykernel_23516\\2431815014.py:15: RuntimeWarning: divide by zero encountered in double_scalars\n",
      "  quarter_eps.yoy_growth.iloc[i] = (quarter_eps.eps.iloc[i] - quarter_eps.eps.iloc[i+4]) / quarter_eps.eps.iloc[i+4]\n"
     ]
    },
    {
     "name": "stdout",
     "output_type": "stream",
     "text": [
      "\n",
      "BOCN data not enough\n",
      "BODY selected\n",
      "BOH not selected\n",
      "BOKF not selected\n",
      "BOLT not selected"
     ]
    },
    {
     "name": "stderr",
     "output_type": "stream",
     "text": [
      "C:\\Users\\Rain\\AppData\\Local\\Temp\\ipykernel_23516\\2431815014.py:15: RuntimeWarning: divide by zero encountered in double_scalars\n",
      "  quarter_eps.yoy_growth.iloc[i] = (quarter_eps.eps.iloc[i] - quarter_eps.eps.iloc[i+4]) / quarter_eps.eps.iloc[i+4]\n"
     ]
    },
    {
     "name": "stdout",
     "output_type": "stream",
     "text": [
      "\n",
      "BON data not enough\n",
      "BOOM not selected\n"
     ]
    },
    {
     "name": "stderr",
     "output_type": "stream",
     "text": [
      "C:\\Users\\Rain\\AppData\\Local\\Temp\\ipykernel_23516\\2431815014.py:15: RuntimeWarning: divide by zero encountered in double_scalars\n",
      "  quarter_eps.yoy_growth.iloc[i] = (quarter_eps.eps.iloc[i] - quarter_eps.eps.iloc[i+4]) / quarter_eps.eps.iloc[i+4]\n",
      "C:\\Users\\Rain\\AppData\\Local\\Temp\\ipykernel_23516\\2431815014.py:15: RuntimeWarning: invalid value encountered in double_scalars\n",
      "  quarter_eps.yoy_growth.iloc[i] = (quarter_eps.eps.iloc[i] - quarter_eps.eps.iloc[i+4]) / quarter_eps.eps.iloc[i+4]\n",
      "C:\\Users\\Rain\\AppData\\Local\\Temp\\ipykernel_23516\\2431815014.py:15: RuntimeWarning: divide by zero encountered in double_scalars\n",
      "  quarter_eps.yoy_growth.iloc[i] = (quarter_eps.eps.iloc[i] - quarter_eps.eps.iloc[i+4]) / quarter_eps.eps.iloc[i+4]\n"
     ]
    },
    {
     "name": "stdout",
     "output_type": "stream",
     "text": [
      "BOOT not selected\n",
      "BORR selected\n"
     ]
    },
    {
     "name": "stderr",
     "output_type": "stream",
     "text": [
      "C:\\Users\\Rain\\AppData\\Local\\Temp\\ipykernel_23516\\2431815014.py:15: RuntimeWarning: divide by zero encountered in double_scalars\n",
      "  quarter_eps.yoy_growth.iloc[i] = (quarter_eps.eps.iloc[i] - quarter_eps.eps.iloc[i+4]) / quarter_eps.eps.iloc[i+4]\n"
     ]
    },
    {
     "name": "stdout",
     "output_type": "stream",
     "text": [
      "BOSC selected\n",
      "BOTJ not selected\n",
      "BOWL data not enough\n"
     ]
    },
    {
     "name": "stderr",
     "output_type": "stream",
     "text": [
      "C:\\Users\\Rain\\AppData\\Local\\Temp\\ipykernel_23516\\2431815014.py:15: RuntimeWarning: divide by zero encountered in double_scalars\n",
      "  quarter_eps.yoy_growth.iloc[i] = (quarter_eps.eps.iloc[i] - quarter_eps.eps.iloc[i+4]) / quarter_eps.eps.iloc[i+4]\n",
      "C:\\Users\\Rain\\AppData\\Local\\Temp\\ipykernel_23516\\2431815014.py:15: RuntimeWarning: divide by zero encountered in double_scalars\n",
      "  quarter_eps.yoy_growth.iloc[i] = (quarter_eps.eps.iloc[i] - quarter_eps.eps.iloc[i+4]) / quarter_eps.eps.iloc[i+4]\n",
      "C:\\Users\\Rain\\AppData\\Local\\Temp\\ipykernel_23516\\2431815014.py:19: RuntimeWarning: invalid value encountered in double_scalars\n",
      "  quarter_eps.fixed_yoy_growth.iloc[i] = (quarter_eps.yoy_growth.iloc[i] + quarter_eps.yoy_growth.iloc[i+1]) / 2\n"
     ]
    },
    {
     "name": "stdout",
     "output_type": "stream",
     "text": [
      "BOX not selected\n",
      "BOXD not selected\n"
     ]
    },
    {
     "name": "stderr",
     "output_type": "stream",
     "text": [
      "C:\\Users\\Rain\\AppData\\Local\\Temp\\ipykernel_23516\\2431815014.py:15: RuntimeWarning: divide by zero encountered in double_scalars\n",
      "  quarter_eps.yoy_growth.iloc[i] = (quarter_eps.eps.iloc[i] - quarter_eps.eps.iloc[i+4]) / quarter_eps.eps.iloc[i+4]\n",
      "C:\\Users\\Rain\\AppData\\Local\\Temp\\ipykernel_23516\\2431815014.py:19: RuntimeWarning: invalid value encountered in double_scalars\n",
      "  quarter_eps.fixed_yoy_growth.iloc[i] = (quarter_eps.yoy_growth.iloc[i] + quarter_eps.yoy_growth.iloc[i+1]) / 2\n"
     ]
    },
    {
     "name": "stdout",
     "output_type": "stream",
     "text": [
      "BOXL not selected\n",
      "BP selected\n",
      "BPAC data not enough\n",
      "BPMC not selected\n"
     ]
    },
    {
     "name": "stderr",
     "output_type": "stream",
     "text": [
      "C:\\Users\\Rain\\AppData\\Local\\Temp\\ipykernel_23516\\2431815014.py:15: RuntimeWarning: divide by zero encountered in double_scalars\n",
      "  quarter_eps.yoy_growth.iloc[i] = (quarter_eps.eps.iloc[i] - quarter_eps.eps.iloc[i+4]) / quarter_eps.eps.iloc[i+4]\n"
     ]
    },
    {
     "name": "stdout",
     "output_type": "stream",
     "text": [
      "BPOP not selected\n",
      "BPRN not selected\n"
     ]
    },
    {
     "name": "stderr",
     "output_type": "stream",
     "text": [
      "C:\\Users\\Rain\\AppData\\Local\\Temp\\ipykernel_23516\\2431815014.py:15: RuntimeWarning: divide by zero encountered in double_scalars\n",
      "  quarter_eps.yoy_growth.iloc[i] = (quarter_eps.eps.iloc[i] - quarter_eps.eps.iloc[i+4]) / quarter_eps.eps.iloc[i+4]\n",
      "C:\\Users\\Rain\\AppData\\Local\\Temp\\ipykernel_23516\\2431815014.py:15: RuntimeWarning: invalid value encountered in double_scalars\n",
      "  quarter_eps.yoy_growth.iloc[i] = (quarter_eps.eps.iloc[i] - quarter_eps.eps.iloc[i+4]) / quarter_eps.eps.iloc[i+4]\n"
     ]
    },
    {
     "name": "stdout",
     "output_type": "stream",
     "text": [
      "BPT selected\n",
      "BPTH not selected\n",
      "BPTS data not enough\n",
      "BQ not selected\n"
     ]
    },
    {
     "name": "stderr",
     "output_type": "stream",
     "text": [
      "C:\\Users\\Rain\\AppData\\Local\\Temp\\ipykernel_23516\\2431815014.py:15: RuntimeWarning: divide by zero encountered in double_scalars\n",
      "  quarter_eps.yoy_growth.iloc[i] = (quarter_eps.eps.iloc[i] - quarter_eps.eps.iloc[i+4]) / quarter_eps.eps.iloc[i+4]\n"
     ]
    },
    {
     "name": "stdout",
     "output_type": "stream",
     "text": [
      "BR not selected\n",
      "BRAC data not enough\n"
     ]
    },
    {
     "name": "stderr",
     "output_type": "stream",
     "text": [
      "C:\\Users\\Rain\\AppData\\Local\\Temp\\ipykernel_23516\\2431815014.py:15: RuntimeWarning: divide by zero encountered in double_scalars\n",
      "  quarter_eps.yoy_growth.iloc[i] = (quarter_eps.eps.iloc[i] - quarter_eps.eps.iloc[i+4]) / quarter_eps.eps.iloc[i+4]\n",
      "C:\\Users\\Rain\\AppData\\Local\\Temp\\ipykernel_23516\\2431815014.py:15: RuntimeWarning: divide by zero encountered in double_scalars\n",
      "  quarter_eps.yoy_growth.iloc[i] = (quarter_eps.eps.iloc[i] - quarter_eps.eps.iloc[i+4]) / quarter_eps.eps.iloc[i+4]\n",
      "C:\\Users\\Rain\\AppData\\Local\\Temp\\ipykernel_23516\\2431815014.py:15: RuntimeWarning: invalid value encountered in double_scalars\n",
      "  quarter_eps.yoy_growth.iloc[i] = (quarter_eps.eps.iloc[i] - quarter_eps.eps.iloc[i+4]) / quarter_eps.eps.iloc[i+4]\n"
     ]
    },
    {
     "name": "stdout",
     "output_type": "stream",
     "text": [
      "BRAG not selected\n",
      "BRBR not selected\n"
     ]
    },
    {
     "name": "stderr",
     "output_type": "stream",
     "text": [
      "C:\\Users\\Rain\\AppData\\Local\\Temp\\ipykernel_23516\\2431815014.py:15: RuntimeWarning: divide by zero encountered in double_scalars\n",
      "  quarter_eps.yoy_growth.iloc[i] = (quarter_eps.eps.iloc[i] - quarter_eps.eps.iloc[i+4]) / quarter_eps.eps.iloc[i+4]\n"
     ]
    },
    {
     "name": "stdout",
     "output_type": "stream",
     "text": [
      "BRBS not selected\n",
      "BRC not selected\n"
     ]
    },
    {
     "name": "stderr",
     "output_type": "stream",
     "text": [
      "C:\\Users\\Rain\\AppData\\Local\\Temp\\ipykernel_23516\\2431815014.py:15: RuntimeWarning: divide by zero encountered in double_scalars\n",
      "  quarter_eps.yoy_growth.iloc[i] = (quarter_eps.eps.iloc[i] - quarter_eps.eps.iloc[i+4]) / quarter_eps.eps.iloc[i+4]\n",
      "C:\\Users\\Rain\\AppData\\Local\\Temp\\ipykernel_23516\\2431815014.py:15: RuntimeWarning: invalid value encountered in double_scalars\n",
      "  quarter_eps.yoy_growth.iloc[i] = (quarter_eps.eps.iloc[i] - quarter_eps.eps.iloc[i+4]) / quarter_eps.eps.iloc[i+4]\n"
     ]
    },
    {
     "name": "stdout",
     "output_type": "stream",
     "text": [
      "BRCC not selected\n",
      "BRCN not selected\n",
      "BRD data not enough\n"
     ]
    },
    {
     "name": "stderr",
     "output_type": "stream",
     "text": [
      "C:\\Users\\Rain\\AppData\\Local\\Temp\\ipykernel_23516\\2431815014.py:15: RuntimeWarning: divide by zero encountered in double_scalars\n",
      "  quarter_eps.yoy_growth.iloc[i] = (quarter_eps.eps.iloc[i] - quarter_eps.eps.iloc[i+4]) / quarter_eps.eps.iloc[i+4]\n",
      "C:\\Users\\Rain\\AppData\\Local\\Temp\\ipykernel_23516\\2431815014.py:15: RuntimeWarning: invalid value encountered in double_scalars\n",
      "  quarter_eps.yoy_growth.iloc[i] = (quarter_eps.eps.iloc[i] - quarter_eps.eps.iloc[i+4]) / quarter_eps.eps.iloc[i+4]\n",
      "C:\\Users\\Rain\\AppData\\Local\\Temp\\ipykernel_23516\\2431815014.py:15: RuntimeWarning: divide by zero encountered in double_scalars\n",
      "  quarter_eps.yoy_growth.iloc[i] = (quarter_eps.eps.iloc[i] - quarter_eps.eps.iloc[i+4]) / quarter_eps.eps.iloc[i+4]\n"
     ]
    },
    {
     "name": "stdout",
     "output_type": "stream",
     "text": [
      "BRDG selected\n",
      "BRDS not selected\n"
     ]
    },
    {
     "name": "stderr",
     "output_type": "stream",
     "text": [
      "C:\\Users\\Rain\\AppData\\Local\\Temp\\ipykernel_23516\\2431815014.py:15: RuntimeWarning: divide by zero encountered in double_scalars\n",
      "  quarter_eps.yoy_growth.iloc[i] = (quarter_eps.eps.iloc[i] - quarter_eps.eps.iloc[i+4]) / quarter_eps.eps.iloc[i+4]\n",
      "C:\\Users\\Rain\\AppData\\Local\\Temp\\ipykernel_23516\\2431815014.py:15: RuntimeWarning: divide by zero encountered in double_scalars\n",
      "  quarter_eps.yoy_growth.iloc[i] = (quarter_eps.eps.iloc[i] - quarter_eps.eps.iloc[i+4]) / quarter_eps.eps.iloc[i+4]\n",
      "C:\\Users\\Rain\\AppData\\Local\\Temp\\ipykernel_23516\\2431815014.py:15: RuntimeWarning: invalid value encountered in double_scalars\n",
      "  quarter_eps.yoy_growth.iloc[i] = (quarter_eps.eps.iloc[i] - quarter_eps.eps.iloc[i+4]) / quarter_eps.eps.iloc[i+4]\n"
     ]
    },
    {
     "name": "stdout",
     "output_type": "stream",
     "text": [
      "BREZ not selected\n",
      "BRFH selected\n"
     ]
    },
    {
     "name": "stderr",
     "output_type": "stream",
     "text": [
      "C:\\Users\\Rain\\AppData\\Local\\Temp\\ipykernel_23516\\2431815014.py:15: RuntimeWarning: divide by zero encountered in double_scalars\n",
      "  quarter_eps.yoy_growth.iloc[i] = (quarter_eps.eps.iloc[i] - quarter_eps.eps.iloc[i+4]) / quarter_eps.eps.iloc[i+4]\n",
      "C:\\Users\\Rain\\AppData\\Local\\Temp\\ipykernel_23516\\2431815014.py:15: RuntimeWarning: divide by zero encountered in double_scalars\n",
      "  quarter_eps.yoy_growth.iloc[i] = (quarter_eps.eps.iloc[i] - quarter_eps.eps.iloc[i+4]) / quarter_eps.eps.iloc[i+4]\n"
     ]
    },
    {
     "name": "stdout",
     "output_type": "stream",
     "text": [
      "BRFS not selected\n",
      "BRG selected\n"
     ]
    },
    {
     "name": "stderr",
     "output_type": "stream",
     "text": [
      "C:\\Users\\Rain\\AppData\\Local\\Temp\\ipykernel_23516\\2431815014.py:15: RuntimeWarning: divide by zero encountered in double_scalars\n",
      "  quarter_eps.yoy_growth.iloc[i] = (quarter_eps.eps.iloc[i] - quarter_eps.eps.iloc[i+4]) / quarter_eps.eps.iloc[i+4]\n",
      "C:\\Users\\Rain\\AppData\\Local\\Temp\\ipykernel_23516\\2431815014.py:15: RuntimeWarning: divide by zero encountered in double_scalars\n",
      "  quarter_eps.yoy_growth.iloc[i] = (quarter_eps.eps.iloc[i] - quarter_eps.eps.iloc[i+4]) / quarter_eps.eps.iloc[i+4]\n",
      "C:\\Users\\Rain\\AppData\\Local\\Temp\\ipykernel_23516\\2431815014.py:19: RuntimeWarning: invalid value encountered in double_scalars\n",
      "  quarter_eps.fixed_yoy_growth.iloc[i] = (quarter_eps.yoy_growth.iloc[i] + quarter_eps.yoy_growth.iloc[i+1]) / 2\n"
     ]
    },
    {
     "name": "stdout",
     "output_type": "stream",
     "text": [
      "BRID not selected\n",
      "BRIV selected\n",
      "BRKA not exsit\n",
      "BRKB not exsit\n",
      "BRKH data not enough\n",
      "BRKL not selected\n",
      "BRKR not selected\n",
      "BRLI not selected\n"
     ]
    },
    {
     "name": "stderr",
     "output_type": "stream",
     "text": [
      "C:\\Users\\Rain\\AppData\\Local\\Temp\\ipykernel_23516\\2431815014.py:15: RuntimeWarning: divide by zero encountered in double_scalars\n",
      "  quarter_eps.yoy_growth.iloc[i] = (quarter_eps.eps.iloc[i] - quarter_eps.eps.iloc[i+4]) / quarter_eps.eps.iloc[i+4]\n",
      "C:\\Users\\Rain\\AppData\\Local\\Temp\\ipykernel_23516\\2431815014.py:15: RuntimeWarning: invalid value encountered in double_scalars\n",
      "  quarter_eps.yoy_growth.iloc[i] = (quarter_eps.eps.iloc[i] - quarter_eps.eps.iloc[i+4]) / quarter_eps.eps.iloc[i+4]\n",
      "C:\\Users\\Rain\\AppData\\Local\\Temp\\ipykernel_23516\\2431815014.py:15: RuntimeWarning: divide by zero encountered in double_scalars\n",
      "  quarter_eps.yoy_growth.iloc[i] = (quarter_eps.eps.iloc[i] - quarter_eps.eps.iloc[i+4]) / quarter_eps.eps.iloc[i+4]\n",
      "C:\\Users\\Rain\\AppData\\Local\\Temp\\ipykernel_23516\\2431815014.py:15: RuntimeWarning: invalid value encountered in double_scalars\n",
      "  quarter_eps.yoy_growth.iloc[i] = (quarter_eps.eps.iloc[i] - quarter_eps.eps.iloc[i+4]) / quarter_eps.eps.iloc[i+4]\n"
     ]
    },
    {
     "name": "stdout",
     "output_type": "stream",
     "text": [
      "BRLT selected\n",
      "BRMK not selected\n"
     ]
    },
    {
     "name": "stderr",
     "output_type": "stream",
     "text": [
      "C:\\Users\\Rain\\AppData\\Local\\Temp\\ipykernel_23516\\2431815014.py:15: RuntimeWarning: divide by zero encountered in double_scalars\n",
      "  quarter_eps.yoy_growth.iloc[i] = (quarter_eps.eps.iloc[i] - quarter_eps.eps.iloc[i+4]) / quarter_eps.eps.iloc[i+4]\n",
      "C:\\Users\\Rain\\AppData\\Local\\Temp\\ipykernel_23516\\2431815014.py:15: RuntimeWarning: invalid value encountered in double_scalars\n",
      "  quarter_eps.yoy_growth.iloc[i] = (quarter_eps.eps.iloc[i] - quarter_eps.eps.iloc[i+4]) / quarter_eps.eps.iloc[i+4]\n",
      "C:\\Users\\Rain\\AppData\\Local\\Temp\\ipykernel_23516\\2431815014.py:15: RuntimeWarning: divide by zero encountered in double_scalars\n",
      "  quarter_eps.yoy_growth.iloc[i] = (quarter_eps.eps.iloc[i] - quarter_eps.eps.iloc[i+4]) / quarter_eps.eps.iloc[i+4]\n"
     ]
    },
    {
     "name": "stdout",
     "output_type": "stream",
     "text": [
      "BRN not selected\n",
      "BRO not selected\n"
     ]
    },
    {
     "name": "stderr",
     "output_type": "stream",
     "text": [
      "C:\\Users\\Rain\\AppData\\Local\\Temp\\ipykernel_23516\\2431815014.py:15: RuntimeWarning: divide by zero encountered in double_scalars\n",
      "  quarter_eps.yoy_growth.iloc[i] = (quarter_eps.eps.iloc[i] - quarter_eps.eps.iloc[i+4]) / quarter_eps.eps.iloc[i+4]\n",
      "C:\\Users\\Rain\\AppData\\Local\\Temp\\ipykernel_23516\\2431815014.py:15: RuntimeWarning: divide by zero encountered in double_scalars\n",
      "  quarter_eps.yoy_growth.iloc[i] = (quarter_eps.eps.iloc[i] - quarter_eps.eps.iloc[i+4]) / quarter_eps.eps.iloc[i+4]\n",
      "C:\\Users\\Rain\\AppData\\Local\\Temp\\ipykernel_23516\\2431815014.py:15: RuntimeWarning: invalid value encountered in double_scalars\n",
      "  quarter_eps.yoy_growth.iloc[i] = (quarter_eps.eps.iloc[i] - quarter_eps.eps.iloc[i+4]) / quarter_eps.eps.iloc[i+4]\n",
      "C:\\Users\\Rain\\AppData\\Local\\Temp\\ipykernel_23516\\2431815014.py:15: RuntimeWarning: divide by zero encountered in double_scalars\n",
      "  quarter_eps.yoy_growth.iloc[i] = (quarter_eps.eps.iloc[i] - quarter_eps.eps.iloc[i+4]) / quarter_eps.eps.iloc[i+4]\n",
      "C:\\Users\\Rain\\AppData\\Local\\Temp\\ipykernel_23516\\2431815014.py:19: RuntimeWarning: invalid value encountered in double_scalars\n",
      "  quarter_eps.fixed_yoy_growth.iloc[i] = (quarter_eps.yoy_growth.iloc[i] + quarter_eps.yoy_growth.iloc[i+1]) / 2\n"
     ]
    },
    {
     "name": "stdout",
     "output_type": "stream",
     "text": [
      "BROG not selected\n",
      "BROS not selected\n"
     ]
    },
    {
     "name": "stderr",
     "output_type": "stream",
     "text": [
      "C:\\Users\\Rain\\AppData\\Local\\Temp\\ipykernel_23516\\2431815014.py:15: RuntimeWarning: divide by zero encountered in double_scalars\n",
      "  quarter_eps.yoy_growth.iloc[i] = (quarter_eps.eps.iloc[i] - quarter_eps.eps.iloc[i+4]) / quarter_eps.eps.iloc[i+4]\n"
     ]
    },
    {
     "name": "stdout",
     "output_type": "stream",
     "text": [
      "BRP not selected\n",
      "BRQS not selected\n"
     ]
    },
    {
     "name": "stderr",
     "output_type": "stream",
     "text": [
      "C:\\Users\\Rain\\AppData\\Local\\Temp\\ipykernel_23516\\2431815014.py:15: RuntimeWarning: divide by zero encountered in double_scalars\n",
      "  quarter_eps.yoy_growth.iloc[i] = (quarter_eps.eps.iloc[i] - quarter_eps.eps.iloc[i+4]) / quarter_eps.eps.iloc[i+4]\n",
      "C:\\Users\\Rain\\AppData\\Local\\Temp\\ipykernel_23516\\2431815014.py:15: RuntimeWarning: divide by zero encountered in double_scalars\n",
      "  quarter_eps.yoy_growth.iloc[i] = (quarter_eps.eps.iloc[i] - quarter_eps.eps.iloc[i+4]) / quarter_eps.eps.iloc[i+4]\n",
      "C:\\Users\\Rain\\AppData\\Local\\Temp\\ipykernel_23516\\2431815014.py:15: RuntimeWarning: invalid value encountered in double_scalars\n",
      "  quarter_eps.yoy_growth.iloc[i] = (quarter_eps.eps.iloc[i] - quarter_eps.eps.iloc[i+4]) / quarter_eps.eps.iloc[i+4]\n"
     ]
    },
    {
     "name": "stdout",
     "output_type": "stream",
     "text": [
      "BRSH data not enough\n",
      "BRSP not selected\n",
      "BRT selected\n",
      "BRTX not exsit\n"
     ]
    },
    {
     "name": "stderr",
     "output_type": "stream",
     "text": [
      "C:\\Users\\Rain\\AppData\\Local\\Temp\\ipykernel_23516\\2431815014.py:15: RuntimeWarning: divide by zero encountered in double_scalars\n",
      "  quarter_eps.yoy_growth.iloc[i] = (quarter_eps.eps.iloc[i] - quarter_eps.eps.iloc[i+4]) / quarter_eps.eps.iloc[i+4]\n",
      "C:\\Users\\Rain\\AppData\\Local\\Temp\\ipykernel_23516\\2431815014.py:15: RuntimeWarning: divide by zero encountered in double_scalars\n",
      "  quarter_eps.yoy_growth.iloc[i] = (quarter_eps.eps.iloc[i] - quarter_eps.eps.iloc[i+4]) / quarter_eps.eps.iloc[i+4]\n"
     ]
    },
    {
     "name": "stdout",
     "output_type": "stream",
     "text": [
      "BRX not selected\n",
      "BRY not selected\n",
      "BRZE not exsit\n",
      "BSAC selected\n",
      "BSAQ data not enough\n",
      "BSBK not selected"
     ]
    },
    {
     "name": "stderr",
     "output_type": "stream",
     "text": [
      "C:\\Users\\Rain\\AppData\\Local\\Temp\\ipykernel_23516\\2431815014.py:15: RuntimeWarning: divide by zero encountered in double_scalars\n",
      "  quarter_eps.yoy_growth.iloc[i] = (quarter_eps.eps.iloc[i] - quarter_eps.eps.iloc[i+4]) / quarter_eps.eps.iloc[i+4]\n",
      "C:\\Users\\Rain\\AppData\\Local\\Temp\\ipykernel_23516\\2431815014.py:15: RuntimeWarning: divide by zero encountered in double_scalars\n",
      "  quarter_eps.yoy_growth.iloc[i] = (quarter_eps.eps.iloc[i] - quarter_eps.eps.iloc[i+4]) / quarter_eps.eps.iloc[i+4]\n"
     ]
    },
    {
     "name": "stdout",
     "output_type": "stream",
     "text": [
      "\n",
      "BSBR not selected\n",
      "BSET selected\n",
      "BSFC selected\n"
     ]
    },
    {
     "name": "stderr",
     "output_type": "stream",
     "text": [
      "C:\\Users\\Rain\\AppData\\Local\\Temp\\ipykernel_23516\\2431815014.py:15: RuntimeWarning: divide by zero encountered in double_scalars\n",
      "  quarter_eps.yoy_growth.iloc[i] = (quarter_eps.eps.iloc[i] - quarter_eps.eps.iloc[i+4]) / quarter_eps.eps.iloc[i+4]\n"
     ]
    },
    {
     "name": "stdout",
     "output_type": "stream",
     "text": [
      "BSGA data not enough\n",
      "BSGM not selected\n"
     ]
    },
    {
     "name": "stderr",
     "output_type": "stream",
     "text": [
      "C:\\Users\\Rain\\AppData\\Local\\Temp\\ipykernel_23516\\2431815014.py:15: RuntimeWarning: divide by zero encountered in double_scalars\n",
      "  quarter_eps.yoy_growth.iloc[i] = (quarter_eps.eps.iloc[i] - quarter_eps.eps.iloc[i+4]) / quarter_eps.eps.iloc[i+4]\n",
      "C:\\Users\\Rain\\AppData\\Local\\Temp\\ipykernel_23516\\2431815014.py:15: RuntimeWarning: invalid value encountered in double_scalars\n",
      "  quarter_eps.yoy_growth.iloc[i] = (quarter_eps.eps.iloc[i] - quarter_eps.eps.iloc[i+4]) / quarter_eps.eps.iloc[i+4]\n",
      "C:\\Users\\Rain\\AppData\\Local\\Temp\\ipykernel_23516\\2431815014.py:15: RuntimeWarning: divide by zero encountered in double_scalars\n",
      "  quarter_eps.yoy_growth.iloc[i] = (quarter_eps.eps.iloc[i] - quarter_eps.eps.iloc[i+4]) / quarter_eps.eps.iloc[i+4]\n",
      "C:\\Users\\Rain\\AppData\\Local\\Temp\\ipykernel_23516\\2431815014.py:19: RuntimeWarning: invalid value encountered in double_scalars\n",
      "  quarter_eps.fixed_yoy_growth.iloc[i] = (quarter_eps.yoy_growth.iloc[i] + quarter_eps.yoy_growth.iloc[i+1]) / 2\n"
     ]
    },
    {
     "name": "stdout",
     "output_type": "stream",
     "text": [
      "BSIG not selected\n",
      "BSKY data not enough\n"
     ]
    },
    {
     "name": "stderr",
     "output_type": "stream",
     "text": [
      "C:\\Users\\Rain\\AppData\\Local\\Temp\\ipykernel_23516\\2431815014.py:15: RuntimeWarning: divide by zero encountered in double_scalars\n",
      "  quarter_eps.yoy_growth.iloc[i] = (quarter_eps.eps.iloc[i] - quarter_eps.eps.iloc[i+4]) / quarter_eps.eps.iloc[i+4]\n",
      "C:\\Users\\Rain\\AppData\\Local\\Temp\\ipykernel_23516\\2431815014.py:15: RuntimeWarning: invalid value encountered in double_scalars\n",
      "  quarter_eps.yoy_growth.iloc[i] = (quarter_eps.eps.iloc[i] - quarter_eps.eps.iloc[i+4]) / quarter_eps.eps.iloc[i+4]\n",
      "C:\\Users\\Rain\\AppData\\Local\\Temp\\ipykernel_23516\\2431815014.py:19: RuntimeWarning: invalid value encountered in double_scalars\n",
      "  quarter_eps.fixed_yoy_growth.iloc[i] = (quarter_eps.yoy_growth.iloc[i] + quarter_eps.yoy_growth.iloc[i+1]) / 2\n"
     ]
    },
    {
     "name": "stdout",
     "output_type": "stream",
     "text": [
      "BSM selected\n",
      "BSMX not selected\n"
     ]
    },
    {
     "name": "stderr",
     "output_type": "stream",
     "text": [
      "C:\\Users\\Rain\\AppData\\Local\\Temp\\ipykernel_23516\\2431815014.py:15: RuntimeWarning: divide by zero encountered in double_scalars\n",
      "  quarter_eps.yoy_growth.iloc[i] = (quarter_eps.eps.iloc[i] - quarter_eps.eps.iloc[i+4]) / quarter_eps.eps.iloc[i+4]\n"
     ]
    },
    {
     "name": "stdout",
     "output_type": "stream",
     "text": [
      "BSQR not selected\n",
      "BSRR not selected\n"
     ]
    },
    {
     "name": "stderr",
     "output_type": "stream",
     "text": [
      "C:\\Users\\Rain\\AppData\\Local\\Temp\\ipykernel_23516\\2431815014.py:15: RuntimeWarning: divide by zero encountered in double_scalars\n",
      "  quarter_eps.yoy_growth.iloc[i] = (quarter_eps.eps.iloc[i] - quarter_eps.eps.iloc[i+4]) / quarter_eps.eps.iloc[i+4]\n",
      "C:\\Users\\Rain\\AppData\\Local\\Temp\\ipykernel_23516\\2431815014.py:15: RuntimeWarning: divide by zero encountered in double_scalars\n",
      "  quarter_eps.yoy_growth.iloc[i] = (quarter_eps.eps.iloc[i] - quarter_eps.eps.iloc[i+4]) / quarter_eps.eps.iloc[i+4]\n"
     ]
    },
    {
     "name": "stdout",
     "output_type": "stream",
     "text": [
      "BSVN not selected\n",
      "BSX not selected\n"
     ]
    },
    {
     "name": "stderr",
     "output_type": "stream",
     "text": [
      "C:\\Users\\Rain\\AppData\\Local\\Temp\\ipykernel_23516\\2431815014.py:15: RuntimeWarning: divide by zero encountered in double_scalars\n",
      "  quarter_eps.yoy_growth.iloc[i] = (quarter_eps.eps.iloc[i] - quarter_eps.eps.iloc[i+4]) / quarter_eps.eps.iloc[i+4]\n",
      "C:\\Users\\Rain\\AppData\\Local\\Temp\\ipykernel_23516\\2431815014.py:15: RuntimeWarning: divide by zero encountered in double_scalars\n",
      "  quarter_eps.yoy_growth.iloc[i] = (quarter_eps.eps.iloc[i] - quarter_eps.eps.iloc[i+4]) / quarter_eps.eps.iloc[i+4]\n"
     ]
    },
    {
     "name": "stdout",
     "output_type": "stream",
     "text": [
      "BSY not selected\n",
      "BTAI not selected\n",
      "BTB not exsit\n"
     ]
    },
    {
     "name": "stderr",
     "output_type": "stream",
     "text": [
      "C:\\Users\\Rain\\AppData\\Local\\Temp\\ipykernel_23516\\2431815014.py:15: RuntimeWarning: invalid value encountered in double_scalars\n",
      "  quarter_eps.yoy_growth.iloc[i] = (quarter_eps.eps.iloc[i] - quarter_eps.eps.iloc[i+4]) / quarter_eps.eps.iloc[i+4]\n",
      "C:\\Users\\Rain\\AppData\\Local\\Temp\\ipykernel_23516\\2431815014.py:15: RuntimeWarning: divide by zero encountered in double_scalars\n",
      "  quarter_eps.yoy_growth.iloc[i] = (quarter_eps.eps.iloc[i] - quarter_eps.eps.iloc[i+4]) / quarter_eps.eps.iloc[i+4]\n",
      "C:\\Users\\Rain\\AppData\\Local\\Temp\\ipykernel_23516\\2431815014.py:15: RuntimeWarning: divide by zero encountered in double_scalars\n",
      "  quarter_eps.yoy_growth.iloc[i] = (quarter_eps.eps.iloc[i] - quarter_eps.eps.iloc[i+4]) / quarter_eps.eps.iloc[i+4]\n",
      "C:\\Users\\Rain\\AppData\\Local\\Temp\\ipykernel_23516\\2431815014.py:15: RuntimeWarning: invalid value encountered in double_scalars\n",
      "  quarter_eps.yoy_growth.iloc[i] = (quarter_eps.eps.iloc[i] - quarter_eps.eps.iloc[i+4]) / quarter_eps.eps.iloc[i+4]\n"
     ]
    },
    {
     "name": "stdout",
     "output_type": "stream",
     "text": [
      "BTBD not selected\n",
      "BTBT not selected\n"
     ]
    },
    {
     "name": "stderr",
     "output_type": "stream",
     "text": [
      "C:\\Users\\Rain\\AppData\\Local\\Temp\\ipykernel_23516\\2431815014.py:15: RuntimeWarning: divide by zero encountered in double_scalars\n",
      "  quarter_eps.yoy_growth.iloc[i] = (quarter_eps.eps.iloc[i] - quarter_eps.eps.iloc[i+4]) / quarter_eps.eps.iloc[i+4]\n"
     ]
    },
    {
     "name": "stdout",
     "output_type": "stream",
     "text": [
      "BTCM not selected\n",
      "BTCS not exsit\n",
      "BTCY not selected\n"
     ]
    },
    {
     "name": "stderr",
     "output_type": "stream",
     "text": [
      "C:\\Users\\Rain\\AppData\\Local\\Temp\\ipykernel_23516\\2431815014.py:15: RuntimeWarning: divide by zero encountered in double_scalars\n",
      "  quarter_eps.yoy_growth.iloc[i] = (quarter_eps.eps.iloc[i] - quarter_eps.eps.iloc[i+4]) / quarter_eps.eps.iloc[i+4]\n",
      "C:\\Users\\Rain\\AppData\\Local\\Temp\\ipykernel_23516\\2431815014.py:15: RuntimeWarning: invalid value encountered in double_scalars\n",
      "  quarter_eps.yoy_growth.iloc[i] = (quarter_eps.eps.iloc[i] - quarter_eps.eps.iloc[i+4]) / quarter_eps.eps.iloc[i+4]\n"
     ]
    },
    {
     "name": "stdout",
     "output_type": "stream",
     "text": [
      "BTG not selected\n",
      "BTI not selected\n"
     ]
    },
    {
     "name": "stderr",
     "output_type": "stream",
     "text": [
      "C:\\Users\\Rain\\AppData\\Local\\Temp\\ipykernel_23516\\2431815014.py:15: RuntimeWarning: divide by zero encountered in double_scalars\n",
      "  quarter_eps.yoy_growth.iloc[i] = (quarter_eps.eps.iloc[i] - quarter_eps.eps.iloc[i+4]) / quarter_eps.eps.iloc[i+4]\n",
      "C:\\Users\\Rain\\AppData\\Local\\Temp\\ipykernel_23516\\2431815014.py:15: RuntimeWarning: invalid value encountered in double_scalars\n",
      "  quarter_eps.yoy_growth.iloc[i] = (quarter_eps.eps.iloc[i] - quarter_eps.eps.iloc[i+4]) / quarter_eps.eps.iloc[i+4]\n",
      "C:\\Users\\Rain\\AppData\\Local\\Temp\\ipykernel_23516\\2431815014.py:15: RuntimeWarning: divide by zero encountered in double_scalars\n",
      "  quarter_eps.yoy_growth.iloc[i] = (quarter_eps.eps.iloc[i] - quarter_eps.eps.iloc[i+4]) / quarter_eps.eps.iloc[i+4]\n"
     ]
    },
    {
     "name": "stdout",
     "output_type": "stream",
     "text": [
      "BTN selected\n",
      "BTOG not selected\n",
      "BTRS not selected\n"
     ]
    },
    {
     "name": "stderr",
     "output_type": "stream",
     "text": [
      "C:\\Users\\Rain\\AppData\\Local\\Temp\\ipykernel_23516\\2431815014.py:15: RuntimeWarning: divide by zero encountered in double_scalars\n",
      "  quarter_eps.yoy_growth.iloc[i] = (quarter_eps.eps.iloc[i] - quarter_eps.eps.iloc[i+4]) / quarter_eps.eps.iloc[i+4]\n",
      "C:\\Users\\Rain\\AppData\\Local\\Temp\\ipykernel_23516\\2431815014.py:15: RuntimeWarning: invalid value encountered in double_scalars\n",
      "  quarter_eps.yoy_growth.iloc[i] = (quarter_eps.eps.iloc[i] - quarter_eps.eps.iloc[i+4]) / quarter_eps.eps.iloc[i+4]\n",
      "C:\\Users\\Rain\\AppData\\Local\\Temp\\ipykernel_23516\\2431815014.py:15: RuntimeWarning: divide by zero encountered in double_scalars\n",
      "  quarter_eps.yoy_growth.iloc[i] = (quarter_eps.eps.iloc[i] - quarter_eps.eps.iloc[i+4]) / quarter_eps.eps.iloc[i+4]\n"
     ]
    },
    {
     "name": "stdout",
     "output_type": "stream",
     "text": [
      "BTTR not selected\n",
      "BTTX not selected\n"
     ]
    },
    {
     "name": "stderr",
     "output_type": "stream",
     "text": [
      "C:\\Users\\Rain\\AppData\\Local\\Temp\\ipykernel_23516\\2431815014.py:15: RuntimeWarning: divide by zero encountered in double_scalars\n",
      "  quarter_eps.yoy_growth.iloc[i] = (quarter_eps.eps.iloc[i] - quarter_eps.eps.iloc[i+4]) / quarter_eps.eps.iloc[i+4]\n",
      "C:\\Users\\Rain\\AppData\\Local\\Temp\\ipykernel_23516\\2431815014.py:15: RuntimeWarning: divide by zero encountered in double_scalars\n",
      "  quarter_eps.yoy_growth.iloc[i] = (quarter_eps.eps.iloc[i] - quarter_eps.eps.iloc[i+4]) / quarter_eps.eps.iloc[i+4]\n",
      "C:\\Users\\Rain\\AppData\\Local\\Temp\\ipykernel_23516\\2431815014.py:15: RuntimeWarning: invalid value encountered in double_scalars\n",
      "  quarter_eps.yoy_growth.iloc[i] = (quarter_eps.eps.iloc[i] - quarter_eps.eps.iloc[i+4]) / quarter_eps.eps.iloc[i+4]\n"
     ]
    },
    {
     "name": "stdout",
     "output_type": "stream",
     "text": [
      "BTU not selected\n",
      "BTWN not selected\n",
      "BTX not selected\n",
      "BUD selected\n",
      "BUR data not enough\n",
      "BURL not selected\n"
     ]
    },
    {
     "name": "stderr",
     "output_type": "stream",
     "text": [
      "C:\\Users\\Rain\\AppData\\Local\\Temp\\ipykernel_23516\\2431815014.py:15: RuntimeWarning: divide by zero encountered in double_scalars\n",
      "  quarter_eps.yoy_growth.iloc[i] = (quarter_eps.eps.iloc[i] - quarter_eps.eps.iloc[i+4]) / quarter_eps.eps.iloc[i+4]\n"
     ]
    },
    {
     "name": "stdout",
     "output_type": "stream",
     "text": [
      "BUSE not selected\n",
      "BV not selected\n"
     ]
    },
    {
     "name": "stderr",
     "output_type": "stream",
     "text": [
      "C:\\Users\\Rain\\AppData\\Local\\Temp\\ipykernel_23516\\2431815014.py:15: RuntimeWarning: divide by zero encountered in double_scalars\n",
      "  quarter_eps.yoy_growth.iloc[i] = (quarter_eps.eps.iloc[i] - quarter_eps.eps.iloc[i+4]) / quarter_eps.eps.iloc[i+4]\n",
      "C:\\Users\\Rain\\AppData\\Local\\Temp\\ipykernel_23516\\2431815014.py:15: RuntimeWarning: divide by zero encountered in double_scalars\n",
      "  quarter_eps.yoy_growth.iloc[i] = (quarter_eps.eps.iloc[i] - quarter_eps.eps.iloc[i+4]) / quarter_eps.eps.iloc[i+4]\n"
     ]
    },
    {
     "name": "stdout",
     "output_type": "stream",
     "text": [
      "BVH selected\n",
      "BVN selected\n"
     ]
    },
    {
     "name": "stderr",
     "output_type": "stream",
     "text": [
      "C:\\Users\\Rain\\AppData\\Local\\Temp\\ipykernel_23516\\2431815014.py:15: RuntimeWarning: divide by zero encountered in double_scalars\n",
      "  quarter_eps.yoy_growth.iloc[i] = (quarter_eps.eps.iloc[i] - quarter_eps.eps.iloc[i+4]) / quarter_eps.eps.iloc[i+4]\n",
      "C:\\Users\\Rain\\AppData\\Local\\Temp\\ipykernel_23516\\2431815014.py:15: RuntimeWarning: invalid value encountered in double_scalars\n",
      "  quarter_eps.yoy_growth.iloc[i] = (quarter_eps.eps.iloc[i] - quarter_eps.eps.iloc[i+4]) / quarter_eps.eps.iloc[i+4]\n",
      "C:\\Users\\Rain\\AppData\\Local\\Temp\\ipykernel_23516\\2431815014.py:19: RuntimeWarning: invalid value encountered in double_scalars\n",
      "  quarter_eps.fixed_yoy_growth.iloc[i] = (quarter_eps.yoy_growth.iloc[i] + quarter_eps.yoy_growth.iloc[i+1]) / 2\n",
      "C:\\Users\\Rain\\AppData\\Local\\Temp\\ipykernel_23516\\2431815014.py:15: RuntimeWarning: divide by zero encountered in double_scalars\n",
      "  quarter_eps.yoy_growth.iloc[i] = (quarter_eps.eps.iloc[i] - quarter_eps.eps.iloc[i+4]) / quarter_eps.eps.iloc[i+4]\n",
      "C:\\Users\\Rain\\AppData\\Local\\Temp\\ipykernel_23516\\2431815014.py:15: RuntimeWarning: invalid value encountered in double_scalars\n",
      "  quarter_eps.yoy_growth.iloc[i] = (quarter_eps.eps.iloc[i] - quarter_eps.eps.iloc[i+4]) / quarter_eps.eps.iloc[i+4]\n"
     ]
    },
    {
     "name": "stdout",
     "output_type": "stream",
     "text": [
      "BVS selected\n",
      "BVXV not selected\n",
      "BW not selected\n",
      "BWA not selected\n",
      "BWAC not selected\n",
      "BWAQ data not enough\n"
     ]
    },
    {
     "name": "stderr",
     "output_type": "stream",
     "text": [
      "C:\\Users\\Rain\\AppData\\Local\\Temp\\ipykernel_23516\\2431815014.py:15: RuntimeWarning: invalid value encountered in double_scalars\n",
      "  quarter_eps.yoy_growth.iloc[i] = (quarter_eps.eps.iloc[i] - quarter_eps.eps.iloc[i+4]) / quarter_eps.eps.iloc[i+4]\n",
      "C:\\Users\\Rain\\AppData\\Local\\Temp\\ipykernel_23516\\2431815014.py:15: RuntimeWarning: divide by zero encountered in double_scalars\n",
      "  quarter_eps.yoy_growth.iloc[i] = (quarter_eps.eps.iloc[i] - quarter_eps.eps.iloc[i+4]) / quarter_eps.eps.iloc[i+4]\n"
     ]
    },
    {
     "name": "stdout",
     "output_type": "stream",
     "text": [
      "BWAY not selected\n",
      "BWB not selected\n"
     ]
    },
    {
     "name": "stderr",
     "output_type": "stream",
     "text": [
      "C:\\Users\\Rain\\AppData\\Local\\Temp\\ipykernel_23516\\2431815014.py:15: RuntimeWarning: divide by zero encountered in double_scalars\n",
      "  quarter_eps.yoy_growth.iloc[i] = (quarter_eps.eps.iloc[i] - quarter_eps.eps.iloc[i+4]) / quarter_eps.eps.iloc[i+4]\n"
     ]
    },
    {
     "name": "stdout",
     "output_type": "stream",
     "text": [
      "BWC data not enough\n",
      "BWEN not selected\n"
     ]
    },
    {
     "name": "stderr",
     "output_type": "stream",
     "text": [
      "C:\\Users\\Rain\\AppData\\Local\\Temp\\ipykernel_23516\\2431815014.py:15: RuntimeWarning: divide by zero encountered in double_scalars\n",
      "  quarter_eps.yoy_growth.iloc[i] = (quarter_eps.eps.iloc[i] - quarter_eps.eps.iloc[i+4]) / quarter_eps.eps.iloc[i+4]\n",
      "C:\\Users\\Rain\\AppData\\Local\\Temp\\ipykernel_23516\\2431815014.py:15: RuntimeWarning: divide by zero encountered in double_scalars\n",
      "  quarter_eps.yoy_growth.iloc[i] = (quarter_eps.eps.iloc[i] - quarter_eps.eps.iloc[i+4]) / quarter_eps.eps.iloc[i+4]\n",
      "C:\\Users\\Rain\\AppData\\Local\\Temp\\ipykernel_23516\\2431815014.py:15: RuntimeWarning: invalid value encountered in double_scalars\n",
      "  quarter_eps.yoy_growth.iloc[i] = (quarter_eps.eps.iloc[i] - quarter_eps.eps.iloc[i+4]) / quarter_eps.eps.iloc[i+4]\n"
     ]
    },
    {
     "name": "stdout",
     "output_type": "stream",
     "text": [
      "BWFG not selected\n",
      "BWMN not selected\n",
      "BWMX selected\n",
      "BWV data not enough\n"
     ]
    },
    {
     "name": "stderr",
     "output_type": "stream",
     "text": [
      "C:\\Users\\Rain\\AppData\\Local\\Temp\\ipykernel_23516\\2431815014.py:15: RuntimeWarning: divide by zero encountered in double_scalars\n",
      "  quarter_eps.yoy_growth.iloc[i] = (quarter_eps.eps.iloc[i] - quarter_eps.eps.iloc[i+4]) / quarter_eps.eps.iloc[i+4]\n"
     ]
    },
    {
     "name": "stdout",
     "output_type": "stream",
     "text": [
      "BWXT not selected\n",
      "BX not selected\n",
      "BXC not selected\n",
      "BXMT not selected\n",
      "BXP not selected\n"
     ]
    },
    {
     "name": "stderr",
     "output_type": "stream",
     "text": [
      "C:\\Users\\Rain\\AppData\\Local\\Temp\\ipykernel_23516\\2431815014.py:15: RuntimeWarning: divide by zero encountered in double_scalars\n",
      "  quarter_eps.yoy_growth.iloc[i] = (quarter_eps.eps.iloc[i] - quarter_eps.eps.iloc[i+4]) / quarter_eps.eps.iloc[i+4]\n",
      "C:\\Users\\Rain\\AppData\\Local\\Temp\\ipykernel_23516\\2431815014.py:15: RuntimeWarning: divide by zero encountered in double_scalars\n",
      "  quarter_eps.yoy_growth.iloc[i] = (quarter_eps.eps.iloc[i] - quarter_eps.eps.iloc[i+4]) / quarter_eps.eps.iloc[i+4]\n"
     ]
    },
    {
     "name": "stdout",
     "output_type": "stream",
     "text": [
      "BXRX not selected\n",
      "BY not selected\n"
     ]
    },
    {
     "name": "stderr",
     "output_type": "stream",
     "text": [
      "C:\\Users\\Rain\\AppData\\Local\\Temp\\ipykernel_23516\\2431815014.py:15: RuntimeWarning: divide by zero encountered in double_scalars\n",
      "  quarter_eps.yoy_growth.iloc[i] = (quarter_eps.eps.iloc[i] - quarter_eps.eps.iloc[i+4]) / quarter_eps.eps.iloc[i+4]\n",
      "C:\\Users\\Rain\\AppData\\Local\\Temp\\ipykernel_23516\\2431815014.py:15: RuntimeWarning: invalid value encountered in double_scalars\n",
      "  quarter_eps.yoy_growth.iloc[i] = (quarter_eps.eps.iloc[i] - quarter_eps.eps.iloc[i+4]) / quarter_eps.eps.iloc[i+4]\n",
      "C:\\Users\\Rain\\AppData\\Local\\Temp\\ipykernel_23516\\2431815014.py:19: RuntimeWarning: invalid value encountered in double_scalars\n",
      "  quarter_eps.fixed_yoy_growth.iloc[i] = (quarter_eps.yoy_growth.iloc[i] + quarter_eps.yoy_growth.iloc[i+1]) / 2\n",
      "C:\\Users\\Rain\\AppData\\Local\\Temp\\ipykernel_23516\\2431815014.py:15: RuntimeWarning: divide by zero encountered in double_scalars\n",
      "  quarter_eps.yoy_growth.iloc[i] = (quarter_eps.eps.iloc[i] - quarter_eps.eps.iloc[i+4]) / quarter_eps.eps.iloc[i+4]\n"
     ]
    },
    {
     "name": "stdout",
     "output_type": "stream",
     "text": [
      "BYD not selected\n",
      "BYFC selected\n",
      "BYN data not enough\n",
      "BYND selected\n",
      "BYNO data not enough\n"
     ]
    },
    {
     "name": "stderr",
     "output_type": "stream",
     "text": [
      "C:\\Users\\Rain\\AppData\\Local\\Temp\\ipykernel_23516\\2431815014.py:15: RuntimeWarning: divide by zero encountered in double_scalars\n",
      "  quarter_eps.yoy_growth.iloc[i] = (quarter_eps.eps.iloc[i] - quarter_eps.eps.iloc[i+4]) / quarter_eps.eps.iloc[i+4]\n",
      "C:\\Users\\Rain\\AppData\\Local\\Temp\\ipykernel_23516\\2431815014.py:15: RuntimeWarning: divide by zero encountered in double_scalars\n",
      "  quarter_eps.yoy_growth.iloc[i] = (quarter_eps.eps.iloc[i] - quarter_eps.eps.iloc[i+4]) / quarter_eps.eps.iloc[i+4]\n",
      "C:\\Users\\Rain\\AppData\\Local\\Temp\\ipykernel_23516\\2431815014.py:15: RuntimeWarning: invalid value encountered in double_scalars\n",
      "  quarter_eps.yoy_growth.iloc[i] = (quarter_eps.eps.iloc[i] - quarter_eps.eps.iloc[i+4]) / quarter_eps.eps.iloc[i+4]\n"
     ]
    },
    {
     "name": "stdout",
     "output_type": "stream",
     "text": [
      "BYRN selected\n",
      "BYSI not selected\n",
      "BYTS data not enough\n",
      "BZ data not enough\n",
      "BZFD selected\n"
     ]
    },
    {
     "name": "stderr",
     "output_type": "stream",
     "text": [
      "C:\\Users\\Rain\\AppData\\Local\\Temp\\ipykernel_23516\\2431815014.py:15: RuntimeWarning: divide by zero encountered in double_scalars\n",
      "  quarter_eps.yoy_growth.iloc[i] = (quarter_eps.eps.iloc[i] - quarter_eps.eps.iloc[i+4]) / quarter_eps.eps.iloc[i+4]\n",
      "C:\\Users\\Rain\\AppData\\Local\\Temp\\ipykernel_23516\\2431815014.py:19: RuntimeWarning: invalid value encountered in double_scalars\n",
      "  quarter_eps.fixed_yoy_growth.iloc[i] = (quarter_eps.yoy_growth.iloc[i] + quarter_eps.yoy_growth.iloc[i+1]) / 2\n",
      "C:\\Users\\Rain\\AppData\\Local\\Temp\\ipykernel_23516\\2431815014.py:15: RuntimeWarning: divide by zero encountered in double_scalars\n",
      "  quarter_eps.yoy_growth.iloc[i] = (quarter_eps.eps.iloc[i] - quarter_eps.eps.iloc[i+4]) / quarter_eps.eps.iloc[i+4]\n"
     ]
    },
    {
     "name": "stdout",
     "output_type": "stream",
     "text": [
      "BZH not selected\n",
      "BZUN not selected\n",
      "C not selected\n",
      "CAAP not selected\n"
     ]
    },
    {
     "name": "stderr",
     "output_type": "stream",
     "text": [
      "C:\\Users\\Rain\\AppData\\Local\\Temp\\ipykernel_23516\\2431815014.py:15: RuntimeWarning: divide by zero encountered in double_scalars\n",
      "  quarter_eps.yoy_growth.iloc[i] = (quarter_eps.eps.iloc[i] - quarter_eps.eps.iloc[i+4]) / quarter_eps.eps.iloc[i+4]\n",
      "C:\\Users\\Rain\\AppData\\Local\\Temp\\ipykernel_23516\\2431815014.py:19: RuntimeWarning: invalid value encountered in double_scalars\n",
      "  quarter_eps.fixed_yoy_growth.iloc[i] = (quarter_eps.yoy_growth.iloc[i] + quarter_eps.yoy_growth.iloc[i+1]) / 2\n",
      "C:\\Users\\Rain\\AppData\\Local\\Temp\\ipykernel_23516\\2431815014.py:15: RuntimeWarning: divide by zero encountered in double_scalars\n",
      "  quarter_eps.yoy_growth.iloc[i] = (quarter_eps.eps.iloc[i] - quarter_eps.eps.iloc[i+4]) / quarter_eps.eps.iloc[i+4]\n",
      "C:\\Users\\Rain\\AppData\\Local\\Temp\\ipykernel_23516\\2431815014.py:15: RuntimeWarning: divide by zero encountered in double_scalars\n",
      "  quarter_eps.yoy_growth.iloc[i] = (quarter_eps.eps.iloc[i] - quarter_eps.eps.iloc[i+4]) / quarter_eps.eps.iloc[i+4]\n"
     ]
    },
    {
     "name": "stdout",
     "output_type": "stream",
     "text": [
      "CAAS selected\n",
      "CABA not selected\n",
      "CABO not exsit\n",
      "CAC not selected\n",
      "CACC not selected\n",
      "CACI not selected\n",
      "CADE not selected\n",
      "CADL not selected"
     ]
    },
    {
     "name": "stderr",
     "output_type": "stream",
     "text": [
      "C:\\Users\\Rain\\AppData\\Local\\Temp\\ipykernel_23516\\2431815014.py:15: RuntimeWarning: divide by zero encountered in double_scalars\n",
      "  quarter_eps.yoy_growth.iloc[i] = (quarter_eps.eps.iloc[i] - quarter_eps.eps.iloc[i+4]) / quarter_eps.eps.iloc[i+4]\n"
     ]
    },
    {
     "name": "stdout",
     "output_type": "stream",
     "text": [
      "\n",
      "CAE not selected\n",
      "CAG not selected\n",
      "CAH not selected\n",
      "CAJ not selected\n",
      "CAKE not selected\n",
      "CAL selected\n",
      "CALA not exsit\n",
      "CALB not selected\n",
      "CALM not selected\n",
      "CALT not selected\n",
      "CALX not selected\n",
      "CAMP selected\n",
      "CAMT not selected\n"
     ]
    },
    {
     "name": "stderr",
     "output_type": "stream",
     "text": [
      "C:\\Users\\Rain\\AppData\\Local\\Temp\\ipykernel_23516\\2431815014.py:15: RuntimeWarning: divide by zero encountered in double_scalars\n",
      "  quarter_eps.yoy_growth.iloc[i] = (quarter_eps.eps.iloc[i] - quarter_eps.eps.iloc[i+4]) / quarter_eps.eps.iloc[i+4]\n",
      "C:\\Users\\Rain\\AppData\\Local\\Temp\\ipykernel_23516\\2431815014.py:15: RuntimeWarning: invalid value encountered in double_scalars\n",
      "  quarter_eps.yoy_growth.iloc[i] = (quarter_eps.eps.iloc[i] - quarter_eps.eps.iloc[i+4]) / quarter_eps.eps.iloc[i+4]\n",
      "C:\\Users\\Rain\\AppData\\Local\\Temp\\ipykernel_23516\\2431815014.py:15: RuntimeWarning: divide by zero encountered in double_scalars\n",
      "  quarter_eps.yoy_growth.iloc[i] = (quarter_eps.eps.iloc[i] - quarter_eps.eps.iloc[i+4]) / quarter_eps.eps.iloc[i+4]\n",
      "C:\\Users\\Rain\\AppData\\Local\\Temp\\ipykernel_23516\\2431815014.py:15: RuntimeWarning: divide by zero encountered in double_scalars\n",
      "  quarter_eps.yoy_growth.iloc[i] = (quarter_eps.eps.iloc[i] - quarter_eps.eps.iloc[i+4]) / quarter_eps.eps.iloc[i+4]\n"
     ]
    },
    {
     "name": "stdout",
     "output_type": "stream",
     "text": [
      "CAN selected\n",
      "CANF not selected\n"
     ]
    },
    {
     "name": "stderr",
     "output_type": "stream",
     "text": [
      "C:\\Users\\Rain\\AppData\\Local\\Temp\\ipykernel_23516\\2431815014.py:15: RuntimeWarning: divide by zero encountered in double_scalars\n",
      "  quarter_eps.yoy_growth.iloc[i] = (quarter_eps.eps.iloc[i] - quarter_eps.eps.iloc[i+4]) / quarter_eps.eps.iloc[i+4]\n",
      "C:\\Users\\Rain\\AppData\\Local\\Temp\\ipykernel_23516\\2431815014.py:15: RuntimeWarning: invalid value encountered in double_scalars\n",
      "  quarter_eps.yoy_growth.iloc[i] = (quarter_eps.eps.iloc[i] - quarter_eps.eps.iloc[i+4]) / quarter_eps.eps.iloc[i+4]\n",
      "C:\\Users\\Rain\\AppData\\Local\\Temp\\ipykernel_23516\\2431815014.py:15: RuntimeWarning: divide by zero encountered in double_scalars\n",
      "  quarter_eps.yoy_growth.iloc[i] = (quarter_eps.eps.iloc[i] - quarter_eps.eps.iloc[i+4]) / quarter_eps.eps.iloc[i+4]\n"
     ]
    },
    {
     "name": "stdout",
     "output_type": "stream",
     "text": [
      "CANG not selected\n",
      "CANO not selected\n"
     ]
    },
    {
     "name": "stderr",
     "output_type": "stream",
     "text": [
      "C:\\Users\\Rain\\AppData\\Local\\Temp\\ipykernel_23516\\2431815014.py:15: RuntimeWarning: divide by zero encountered in double_scalars\n",
      "  quarter_eps.yoy_growth.iloc[i] = (quarter_eps.eps.iloc[i] - quarter_eps.eps.iloc[i+4]) / quarter_eps.eps.iloc[i+4]\n",
      "C:\\Users\\Rain\\AppData\\Local\\Temp\\ipykernel_23516\\2431815014.py:15: RuntimeWarning: invalid value encountered in double_scalars\n",
      "  quarter_eps.yoy_growth.iloc[i] = (quarter_eps.eps.iloc[i] - quarter_eps.eps.iloc[i+4]) / quarter_eps.eps.iloc[i+4]\n",
      "C:\\Users\\Rain\\AppData\\Local\\Temp\\ipykernel_23516\\2431815014.py:19: RuntimeWarning: invalid value encountered in double_scalars\n",
      "  quarter_eps.fixed_yoy_growth.iloc[i] = (quarter_eps.yoy_growth.iloc[i] + quarter_eps.yoy_growth.iloc[i+1]) / 2\n"
     ]
    },
    {
     "name": "stdout",
     "output_type": "stream",
     "text": [
      "CAPL selected\n",
      "CAPR not selected\n",
      "CAR selected\n",
      "CARA not selected\n"
     ]
    },
    {
     "name": "stderr",
     "output_type": "stream",
     "text": [
      "C:\\Users\\Rain\\AppData\\Local\\Temp\\ipykernel_23516\\2431815014.py:15: RuntimeWarning: divide by zero encountered in double_scalars\n",
      "  quarter_eps.yoy_growth.iloc[i] = (quarter_eps.eps.iloc[i] - quarter_eps.eps.iloc[i+4]) / quarter_eps.eps.iloc[i+4]\n",
      "C:\\Users\\Rain\\AppData\\Local\\Temp\\ipykernel_23516\\2431815014.py:19: RuntimeWarning: invalid value encountered in double_scalars\n",
      "  quarter_eps.fixed_yoy_growth.iloc[i] = (quarter_eps.yoy_growth.iloc[i] + quarter_eps.yoy_growth.iloc[i+1]) / 2\n",
      "C:\\Users\\Rain\\AppData\\Local\\Temp\\ipykernel_23516\\2431815014.py:15: RuntimeWarning: divide by zero encountered in double_scalars\n",
      "  quarter_eps.yoy_growth.iloc[i] = (quarter_eps.eps.iloc[i] - quarter_eps.eps.iloc[i+4]) / quarter_eps.eps.iloc[i+4]\n"
     ]
    },
    {
     "name": "stdout",
     "output_type": "stream",
     "text": [
      "CARE selected\n",
      "CARG not selected\n"
     ]
    },
    {
     "name": "stderr",
     "output_type": "stream",
     "text": [
      "C:\\Users\\Rain\\AppData\\Local\\Temp\\ipykernel_23516\\2431815014.py:15: RuntimeWarning: divide by zero encountered in double_scalars\n",
      "  quarter_eps.yoy_growth.iloc[i] = (quarter_eps.eps.iloc[i] - quarter_eps.eps.iloc[i+4]) / quarter_eps.eps.iloc[i+4]\n",
      "C:\\Users\\Rain\\AppData\\Local\\Temp\\ipykernel_23516\\2431815014.py:15: RuntimeWarning: divide by zero encountered in double_scalars\n",
      "  quarter_eps.yoy_growth.iloc[i] = (quarter_eps.eps.iloc[i] - quarter_eps.eps.iloc[i+4]) / quarter_eps.eps.iloc[i+4]\n",
      "C:\\Users\\Rain\\AppData\\Local\\Temp\\ipykernel_23516\\2431815014.py:15: RuntimeWarning: divide by zero encountered in double_scalars\n",
      "  quarter_eps.yoy_growth.iloc[i] = (quarter_eps.eps.iloc[i] - quarter_eps.eps.iloc[i+4]) / quarter_eps.eps.iloc[i+4]\n"
     ]
    },
    {
     "name": "stdout",
     "output_type": "stream",
     "text": [
      "CARR selected\n",
      "CARS not selected\n",
      "CARV not selected\n",
      "CASA selected\n"
     ]
    },
    {
     "name": "stderr",
     "output_type": "stream",
     "text": [
      "C:\\Users\\Rain\\AppData\\Local\\Temp\\ipykernel_23516\\2431815014.py:15: RuntimeWarning: divide by zero encountered in double_scalars\n",
      "  quarter_eps.yoy_growth.iloc[i] = (quarter_eps.eps.iloc[i] - quarter_eps.eps.iloc[i+4]) / quarter_eps.eps.iloc[i+4]\n",
      "C:\\Users\\Rain\\AppData\\Local\\Temp\\ipykernel_23516\\2431815014.py:19: RuntimeWarning: invalid value encountered in double_scalars\n",
      "  quarter_eps.fixed_yoy_growth.iloc[i] = (quarter_eps.yoy_growth.iloc[i] + quarter_eps.yoy_growth.iloc[i+1]) / 2\n"
     ]
    },
    {
     "name": "stdout",
     "output_type": "stream",
     "text": [
      "CASH not selected\n",
      "CASI not selected\n",
      "CASS selected\n",
      "CASY not selected\n",
      "CAT not selected\n",
      "CATC not selected\n",
      "CATO not selected\n",
      "CATY not selected\n",
      "CB not selected\n",
      "CBAN not selected\n"
     ]
    },
    {
     "name": "stderr",
     "output_type": "stream",
     "text": [
      "C:\\Users\\Rain\\AppData\\Local\\Temp\\ipykernel_23516\\2431815014.py:15: RuntimeWarning: divide by zero encountered in double_scalars\n",
      "  quarter_eps.yoy_growth.iloc[i] = (quarter_eps.eps.iloc[i] - quarter_eps.eps.iloc[i+4]) / quarter_eps.eps.iloc[i+4]\n",
      "C:\\Users\\Rain\\AppData\\Local\\Temp\\ipykernel_23516\\2431815014.py:15: RuntimeWarning: divide by zero encountered in double_scalars\n",
      "  quarter_eps.yoy_growth.iloc[i] = (quarter_eps.eps.iloc[i] - quarter_eps.eps.iloc[i+4]) / quarter_eps.eps.iloc[i+4]\n",
      "C:\\Users\\Rain\\AppData\\Local\\Temp\\ipykernel_23516\\2431815014.py:15: RuntimeWarning: invalid value encountered in double_scalars\n",
      "  quarter_eps.yoy_growth.iloc[i] = (quarter_eps.eps.iloc[i] - quarter_eps.eps.iloc[i+4]) / quarter_eps.eps.iloc[i+4]\n"
     ]
    },
    {
     "name": "stdout",
     "output_type": "stream",
     "text": [
      "CBAT not selected\n",
      "CBAY not exsit\n",
      "CBD not selected\n"
     ]
    },
    {
     "name": "stderr",
     "output_type": "stream",
     "text": [
      "C:\\Users\\Rain\\AppData\\Local\\Temp\\ipykernel_23516\\2431815014.py:15: RuntimeWarning: divide by zero encountered in double_scalars\n",
      "  quarter_eps.yoy_growth.iloc[i] = (quarter_eps.eps.iloc[i] - quarter_eps.eps.iloc[i+4]) / quarter_eps.eps.iloc[i+4]\n",
      "C:\\Users\\Rain\\AppData\\Local\\Temp\\ipykernel_23516\\2431815014.py:15: RuntimeWarning: divide by zero encountered in double_scalars\n",
      "  quarter_eps.yoy_growth.iloc[i] = (quarter_eps.eps.iloc[i] - quarter_eps.eps.iloc[i+4]) / quarter_eps.eps.iloc[i+4]\n"
     ]
    },
    {
     "name": "stdout",
     "output_type": "stream",
     "text": [
      "CBFV not selected\n",
      "CBIO not selected\n",
      "CBL data not enough\n"
     ]
    },
    {
     "name": "stderr",
     "output_type": "stream",
     "text": [
      "C:\\Users\\Rain\\AppData\\Local\\Temp\\ipykernel_23516\\2431815014.py:15: RuntimeWarning: divide by zero encountered in double_scalars\n",
      "  quarter_eps.yoy_growth.iloc[i] = (quarter_eps.eps.iloc[i] - quarter_eps.eps.iloc[i+4]) / quarter_eps.eps.iloc[i+4]\n"
     ]
    },
    {
     "name": "stdout",
     "output_type": "stream",
     "text": [
      "CBNK not selected\n",
      "CBOE not selected\n",
      "CBRE not selected\n",
      "CBRG data not enough\n",
      "CBRL not selected\n",
      "CBSH not selected\n",
      "CBT not selected\n"
     ]
    },
    {
     "name": "stderr",
     "output_type": "stream",
     "text": [
      "C:\\Users\\Rain\\AppData\\Local\\Temp\\ipykernel_23516\\2431815014.py:15: RuntimeWarning: divide by zero encountered in double_scalars\n",
      "  quarter_eps.yoy_growth.iloc[i] = (quarter_eps.eps.iloc[i] - quarter_eps.eps.iloc[i+4]) / quarter_eps.eps.iloc[i+4]\n"
     ]
    },
    {
     "name": "stdout",
     "output_type": "stream",
     "text": [
      "CBTX not selected\n",
      "CBU not selected\n"
     ]
    },
    {
     "name": "stderr",
     "output_type": "stream",
     "text": [
      "C:\\Users\\Rain\\AppData\\Local\\Temp\\ipykernel_23516\\2431815014.py:15: RuntimeWarning: divide by zero encountered in double_scalars\n",
      "  quarter_eps.yoy_growth.iloc[i] = (quarter_eps.eps.iloc[i] - quarter_eps.eps.iloc[i+4]) / quarter_eps.eps.iloc[i+4]\n",
      "C:\\Users\\Rain\\AppData\\Local\\Temp\\ipykernel_23516\\2431815014.py:15: RuntimeWarning: divide by zero encountered in double_scalars\n",
      "  quarter_eps.yoy_growth.iloc[i] = (quarter_eps.eps.iloc[i] - quarter_eps.eps.iloc[i+4]) / quarter_eps.eps.iloc[i+4]\n",
      "C:\\Users\\Rain\\AppData\\Local\\Temp\\ipykernel_23516\\2431815014.py:15: RuntimeWarning: invalid value encountered in double_scalars\n",
      "  quarter_eps.yoy_growth.iloc[i] = (quarter_eps.eps.iloc[i] - quarter_eps.eps.iloc[i+4]) / quarter_eps.eps.iloc[i+4]\n",
      "C:\\Users\\Rain\\AppData\\Local\\Temp\\ipykernel_23516\\2431815014.py:19: RuntimeWarning: invalid value encountered in double_scalars\n",
      "  quarter_eps.fixed_yoy_growth.iloc[i] = (quarter_eps.yoy_growth.iloc[i] + quarter_eps.yoy_growth.iloc[i+1]) / 2\n"
     ]
    },
    {
     "name": "stdout",
     "output_type": "stream",
     "text": [
      "CBZ selected\n",
      "CC selected\n",
      "CCAI data not enough\n",
      "CCAP not selected\n",
      "CCB not selected"
     ]
    },
    {
     "name": "stderr",
     "output_type": "stream",
     "text": [
      "C:\\Users\\Rain\\AppData\\Local\\Temp\\ipykernel_23516\\2431815014.py:15: RuntimeWarning: divide by zero encountered in double_scalars\n",
      "  quarter_eps.yoy_growth.iloc[i] = (quarter_eps.eps.iloc[i] - quarter_eps.eps.iloc[i+4]) / quarter_eps.eps.iloc[i+4]\n",
      "C:\\Users\\Rain\\AppData\\Local\\Temp\\ipykernel_23516\\2431815014.py:15: RuntimeWarning: divide by zero encountered in double_scalars\n",
      "  quarter_eps.yoy_growth.iloc[i] = (quarter_eps.eps.iloc[i] - quarter_eps.eps.iloc[i+4]) / quarter_eps.eps.iloc[i+4]\n"
     ]
    },
    {
     "name": "stdout",
     "output_type": "stream",
     "text": [
      "\n",
      "CCBG not selected\n"
     ]
    },
    {
     "name": "stderr",
     "output_type": "stream",
     "text": [
      "C:\\Users\\Rain\\AppData\\Local\\Temp\\ipykernel_23516\\2431815014.py:15: RuntimeWarning: divide by zero encountered in double_scalars\n",
      "  quarter_eps.yoy_growth.iloc[i] = (quarter_eps.eps.iloc[i] - quarter_eps.eps.iloc[i+4]) / quarter_eps.eps.iloc[i+4]\n",
      "C:\\Users\\Rain\\AppData\\Local\\Temp\\ipykernel_23516\\2431815014.py:15: RuntimeWarning: divide by zero encountered in double_scalars\n",
      "  quarter_eps.yoy_growth.iloc[i] = (quarter_eps.eps.iloc[i] - quarter_eps.eps.iloc[i+4]) / quarter_eps.eps.iloc[i+4]\n"
     ]
    },
    {
     "name": "stdout",
     "output_type": "stream",
     "text": [
      "CCCC not selected\n",
      "CCCS not selected\n"
     ]
    },
    {
     "name": "stderr",
     "output_type": "stream",
     "text": [
      "C:\\Users\\Rain\\AppData\\Local\\Temp\\ipykernel_23516\\2431815014.py:15: RuntimeWarning: divide by zero encountered in double_scalars\n",
      "  quarter_eps.yoy_growth.iloc[i] = (quarter_eps.eps.iloc[i] - quarter_eps.eps.iloc[i+4]) / quarter_eps.eps.iloc[i+4]\n"
     ]
    },
    {
     "name": "stdout",
     "output_type": "stream",
     "text": [
      "CCEL not selected\n",
      "CCEP not selected\n"
     ]
    },
    {
     "name": "stderr",
     "output_type": "stream",
     "text": [
      "C:\\Users\\Rain\\AppData\\Local\\Temp\\ipykernel_23516\\2431815014.py:15: RuntimeWarning: divide by zero encountered in double_scalars\n",
      "  quarter_eps.yoy_growth.iloc[i] = (quarter_eps.eps.iloc[i] - quarter_eps.eps.iloc[i+4]) / quarter_eps.eps.iloc[i+4]\n",
      "C:\\Users\\Rain\\AppData\\Local\\Temp\\ipykernel_23516\\2431815014.py:15: RuntimeWarning: invalid value encountered in double_scalars\n",
      "  quarter_eps.yoy_growth.iloc[i] = (quarter_eps.eps.iloc[i] - quarter_eps.eps.iloc[i+4]) / quarter_eps.eps.iloc[i+4]\n"
     ]
    },
    {
     "name": "stdout",
     "output_type": "stream",
     "text": [
      "CCF not selected\n",
      "CCI selected\n"
     ]
    },
    {
     "name": "stderr",
     "output_type": "stream",
     "text": [
      "C:\\Users\\Rain\\AppData\\Local\\Temp\\ipykernel_23516\\2431815014.py:15: RuntimeWarning: divide by zero encountered in double_scalars\n",
      "  quarter_eps.yoy_growth.iloc[i] = (quarter_eps.eps.iloc[i] - quarter_eps.eps.iloc[i+4]) / quarter_eps.eps.iloc[i+4]\n"
     ]
    },
    {
     "name": "stdout",
     "output_type": "stream",
     "text": [
      "CCJ not selected\n",
      "CCK selected\n"
     ]
    },
    {
     "name": "stderr",
     "output_type": "stream",
     "text": [
      "C:\\Users\\Rain\\AppData\\Local\\Temp\\ipykernel_23516\\2431815014.py:15: RuntimeWarning: divide by zero encountered in double_scalars\n",
      "  quarter_eps.yoy_growth.iloc[i] = (quarter_eps.eps.iloc[i] - quarter_eps.eps.iloc[i+4]) / quarter_eps.eps.iloc[i+4]\n",
      "C:\\Users\\Rain\\AppData\\Local\\Temp\\ipykernel_23516\\2431815014.py:15: RuntimeWarning: divide by zero encountered in double_scalars\n",
      "  quarter_eps.yoy_growth.iloc[i] = (quarter_eps.eps.iloc[i] - quarter_eps.eps.iloc[i+4]) / quarter_eps.eps.iloc[i+4]\n"
     ]
    },
    {
     "name": "stdout",
     "output_type": "stream",
     "text": [
      "CCL not selected\n",
      "CCLP not selected\n",
      "CCM not selected\n",
      "CCNC not selected\n",
      "CCNE not selected\n",
      "CCO not selected\n"
     ]
    },
    {
     "name": "stderr",
     "output_type": "stream",
     "text": [
      "C:\\Users\\Rain\\AppData\\Local\\Temp\\ipykernel_23516\\2431815014.py:15: RuntimeWarning: divide by zero encountered in double_scalars\n",
      "  quarter_eps.yoy_growth.iloc[i] = (quarter_eps.eps.iloc[i] - quarter_eps.eps.iloc[i+4]) / quarter_eps.eps.iloc[i+4]\n",
      "C:\\Users\\Rain\\AppData\\Local\\Temp\\ipykernel_23516\\2431815014.py:15: RuntimeWarning: divide by zero encountered in double_scalars\n",
      "  quarter_eps.yoy_growth.iloc[i] = (quarter_eps.eps.iloc[i] - quarter_eps.eps.iloc[i+4]) / quarter_eps.eps.iloc[i+4]\n"
     ]
    },
    {
     "name": "stdout",
     "output_type": "stream",
     "text": [
      "CCOI not selected\n",
      "CCRD selected\n"
     ]
    },
    {
     "name": "stderr",
     "output_type": "stream",
     "text": [
      "C:\\Users\\Rain\\AppData\\Local\\Temp\\ipykernel_23516\\2431815014.py:15: RuntimeWarning: divide by zero encountered in double_scalars\n",
      "  quarter_eps.yoy_growth.iloc[i] = (quarter_eps.eps.iloc[i] - quarter_eps.eps.iloc[i+4]) / quarter_eps.eps.iloc[i+4]\n",
      "C:\\Users\\Rain\\AppData\\Local\\Temp\\ipykernel_23516\\2431815014.py:15: RuntimeWarning: divide by zero encountered in double_scalars\n",
      "  quarter_eps.yoy_growth.iloc[i] = (quarter_eps.eps.iloc[i] - quarter_eps.eps.iloc[i+4]) / quarter_eps.eps.iloc[i+4]\n"
     ]
    },
    {
     "name": "stdout",
     "output_type": "stream",
     "text": [
      "CCRN selected\n",
      "CCS not selected\n",
      "CCSI not selected"
     ]
    },
    {
     "name": "stderr",
     "output_type": "stream",
     "text": [
      "C:\\Users\\Rain\\AppData\\Local\\Temp\\ipykernel_23516\\2431815014.py:15: RuntimeWarning: divide by zero encountered in double_scalars\n",
      "  quarter_eps.yoy_growth.iloc[i] = (quarter_eps.eps.iloc[i] - quarter_eps.eps.iloc[i+4]) / quarter_eps.eps.iloc[i+4]\n",
      "C:\\Users\\Rain\\AppData\\Local\\Temp\\ipykernel_23516\\2431815014.py:15: RuntimeWarning: invalid value encountered in double_scalars\n",
      "  quarter_eps.yoy_growth.iloc[i] = (quarter_eps.eps.iloc[i] - quarter_eps.eps.iloc[i+4]) / quarter_eps.eps.iloc[i+4]\n",
      "C:\\Users\\Rain\\AppData\\Local\\Temp\\ipykernel_23516\\2431815014.py:15: RuntimeWarning: divide by zero encountered in double_scalars\n",
      "  quarter_eps.yoy_growth.iloc[i] = (quarter_eps.eps.iloc[i] - quarter_eps.eps.iloc[i+4]) / quarter_eps.eps.iloc[i+4]\n"
     ]
    },
    {
     "name": "stdout",
     "output_type": "stream",
     "text": [
      "\n",
      "CCTS data not enough\n",
      "CCU not selected"
     ]
    },
    {
     "name": "stderr",
     "output_type": "stream",
     "text": [
      "C:\\Users\\Rain\\AppData\\Local\\Temp\\ipykernel_23516\\2431815014.py:15: RuntimeWarning: divide by zero encountered in double_scalars\n",
      "  quarter_eps.yoy_growth.iloc[i] = (quarter_eps.eps.iloc[i] - quarter_eps.eps.iloc[i+4]) / quarter_eps.eps.iloc[i+4]\n",
      "C:\\Users\\Rain\\AppData\\Local\\Temp\\ipykernel_23516\\2431815014.py:15: RuntimeWarning: divide by zero encountered in double_scalars\n",
      "  quarter_eps.yoy_growth.iloc[i] = (quarter_eps.eps.iloc[i] - quarter_eps.eps.iloc[i+4]) / quarter_eps.eps.iloc[i+4]\n"
     ]
    },
    {
     "name": "stdout",
     "output_type": "stream",
     "text": [
      "\n",
      "CCV not selected\n",
      "CCVI not selected\n"
     ]
    },
    {
     "name": "stderr",
     "output_type": "stream",
     "text": [
      "C:\\Users\\Rain\\AppData\\Local\\Temp\\ipykernel_23516\\2431815014.py:15: RuntimeWarning: divide by zero encountered in double_scalars\n",
      "  quarter_eps.yoy_growth.iloc[i] = (quarter_eps.eps.iloc[i] - quarter_eps.eps.iloc[i+4]) / quarter_eps.eps.iloc[i+4]\n",
      "C:\\Users\\Rain\\AppData\\Local\\Temp\\ipykernel_23516\\2431815014.py:19: RuntimeWarning: invalid value encountered in double_scalars\n",
      "  quarter_eps.fixed_yoy_growth.iloc[i] = (quarter_eps.yoy_growth.iloc[i] + quarter_eps.yoy_growth.iloc[i+1]) / 2\n",
      "C:\\Users\\Rain\\AppData\\Local\\Temp\\ipykernel_23516\\2431815014.py:15: RuntimeWarning: divide by zero encountered in double_scalars\n",
      "  quarter_eps.yoy_growth.iloc[i] = (quarter_eps.eps.iloc[i] - quarter_eps.eps.iloc[i+4]) / quarter_eps.eps.iloc[i+4]\n"
     ]
    },
    {
     "name": "stdout",
     "output_type": "stream",
     "text": [
      "CCXI not selected\n",
      "CD not selected\n"
     ]
    },
    {
     "name": "stderr",
     "output_type": "stream",
     "text": [
      "C:\\Users\\Rain\\AppData\\Local\\Temp\\ipykernel_23516\\2431815014.py:15: RuntimeWarning: divide by zero encountered in double_scalars\n",
      "  quarter_eps.yoy_growth.iloc[i] = (quarter_eps.eps.iloc[i] - quarter_eps.eps.iloc[i+4]) / quarter_eps.eps.iloc[i+4]\n"
     ]
    },
    {
     "name": "stdout",
     "output_type": "stream",
     "text": [
      "CDAK not selected\n",
      "CDAQ data not enough\n"
     ]
    },
    {
     "name": "stderr",
     "output_type": "stream",
     "text": [
      "C:\\Users\\Rain\\AppData\\Local\\Temp\\ipykernel_23516\\2431815014.py:15: RuntimeWarning: divide by zero encountered in double_scalars\n",
      "  quarter_eps.yoy_growth.iloc[i] = (quarter_eps.eps.iloc[i] - quarter_eps.eps.iloc[i+4]) / quarter_eps.eps.iloc[i+4]\n",
      "C:\\Users\\Rain\\AppData\\Local\\Temp\\ipykernel_23516\\2431815014.py:19: RuntimeWarning: invalid value encountered in double_scalars\n",
      "  quarter_eps.fixed_yoy_growth.iloc[i] = (quarter_eps.yoy_growth.iloc[i] + quarter_eps.yoy_growth.iloc[i+1]) / 2\n",
      "C:\\Users\\Rain\\AppData\\Local\\Temp\\ipykernel_23516\\2431815014.py:15: RuntimeWarning: divide by zero encountered in double_scalars\n",
      "  quarter_eps.yoy_growth.iloc[i] = (quarter_eps.eps.iloc[i] - quarter_eps.eps.iloc[i+4]) / quarter_eps.eps.iloc[i+4]\n"
     ]
    },
    {
     "name": "stdout",
     "output_type": "stream",
     "text": [
      "CDAY not selected\n",
      "CDE not selected\n"
     ]
    },
    {
     "name": "stderr",
     "output_type": "stream",
     "text": [
      "C:\\Users\\Rain\\AppData\\Local\\Temp\\ipykernel_23516\\2431815014.py:15: RuntimeWarning: divide by zero encountered in double_scalars\n",
      "  quarter_eps.yoy_growth.iloc[i] = (quarter_eps.eps.iloc[i] - quarter_eps.eps.iloc[i+4]) / quarter_eps.eps.iloc[i+4]\n",
      "C:\\Users\\Rain\\AppData\\Local\\Temp\\ipykernel_23516\\2431815014.py:15: RuntimeWarning: invalid value encountered in double_scalars\n",
      "  quarter_eps.yoy_growth.iloc[i] = (quarter_eps.eps.iloc[i] - quarter_eps.eps.iloc[i+4]) / quarter_eps.eps.iloc[i+4]\n",
      "C:\\Users\\Rain\\AppData\\Local\\Temp\\ipykernel_23516\\2431815014.py:15: RuntimeWarning: divide by zero encountered in double_scalars\n",
      "  quarter_eps.yoy_growth.iloc[i] = (quarter_eps.eps.iloc[i] - quarter_eps.eps.iloc[i+4]) / quarter_eps.eps.iloc[i+4]\n",
      "C:\\Users\\Rain\\AppData\\Local\\Temp\\ipykernel_23516\\2431815014.py:15: RuntimeWarning: divide by zero encountered in double_scalars\n",
      "  quarter_eps.yoy_growth.iloc[i] = (quarter_eps.eps.iloc[i] - quarter_eps.eps.iloc[i+4]) / quarter_eps.eps.iloc[i+4]\n"
     ]
    },
    {
     "name": "stdout",
     "output_type": "stream",
     "text": [
      "CDEV not selected\n",
      "CDLX selected\n",
      "CDMO not selected"
     ]
    },
    {
     "name": "stderr",
     "output_type": "stream",
     "text": [
      "C:\\Users\\Rain\\AppData\\Local\\Temp\\ipykernel_23516\\2431815014.py:15: RuntimeWarning: divide by zero encountered in double_scalars\n",
      "  quarter_eps.yoy_growth.iloc[i] = (quarter_eps.eps.iloc[i] - quarter_eps.eps.iloc[i+4]) / quarter_eps.eps.iloc[i+4]\n"
     ]
    },
    {
     "name": "stdout",
     "output_type": "stream",
     "text": [
      "\n",
      "CDNA selected\n",
      "CDNS not selected\n"
     ]
    },
    {
     "name": "stderr",
     "output_type": "stream",
     "text": [
      "C:\\Users\\Rain\\AppData\\Local\\Temp\\ipykernel_23516\\2431815014.py:15: RuntimeWarning: divide by zero encountered in double_scalars\n",
      "  quarter_eps.yoy_growth.iloc[i] = (quarter_eps.eps.iloc[i] - quarter_eps.eps.iloc[i+4]) / quarter_eps.eps.iloc[i+4]\n",
      "C:\\Users\\Rain\\AppData\\Local\\Temp\\ipykernel_23516\\2431815014.py:15: RuntimeWarning: divide by zero encountered in double_scalars\n",
      "  quarter_eps.yoy_growth.iloc[i] = (quarter_eps.eps.iloc[i] - quarter_eps.eps.iloc[i+4]) / quarter_eps.eps.iloc[i+4]\n"
     ]
    },
    {
     "name": "stdout",
     "output_type": "stream",
     "text": [
      "CDR not selected\n",
      "CDRE not selected\n",
      "CDRO data not enough\n"
     ]
    },
    {
     "name": "stderr",
     "output_type": "stream",
     "text": [
      "C:\\Users\\Rain\\AppData\\Local\\Temp\\ipykernel_23516\\2431815014.py:15: RuntimeWarning: divide by zero encountered in double_scalars\n",
      "  quarter_eps.yoy_growth.iloc[i] = (quarter_eps.eps.iloc[i] - quarter_eps.eps.iloc[i+4]) / quarter_eps.eps.iloc[i+4]\n",
      "C:\\Users\\Rain\\AppData\\Local\\Temp\\ipykernel_23516\\2431815014.py:15: RuntimeWarning: divide by zero encountered in double_scalars\n",
      "  quarter_eps.yoy_growth.iloc[i] = (quarter_eps.eps.iloc[i] - quarter_eps.eps.iloc[i+4]) / quarter_eps.eps.iloc[i+4]\n",
      "C:\\Users\\Rain\\AppData\\Local\\Temp\\ipykernel_23516\\2431815014.py:15: RuntimeWarning: invalid value encountered in double_scalars\n",
      "  quarter_eps.yoy_growth.iloc[i] = (quarter_eps.eps.iloc[i] - quarter_eps.eps.iloc[i+4]) / quarter_eps.eps.iloc[i+4]\n",
      "C:\\Users\\Rain\\AppData\\Local\\Temp\\ipykernel_23516\\2431815014.py:15: RuntimeWarning: divide by zero encountered in double_scalars\n",
      "  quarter_eps.yoy_growth.iloc[i] = (quarter_eps.eps.iloc[i] - quarter_eps.eps.iloc[i+4]) / quarter_eps.eps.iloc[i+4]\n",
      "C:\\Users\\Rain\\AppData\\Local\\Temp\\ipykernel_23516\\2431815014.py:15: RuntimeWarning: invalid value encountered in double_scalars\n",
      "  quarter_eps.yoy_growth.iloc[i] = (quarter_eps.eps.iloc[i] - quarter_eps.eps.iloc[i+4]) / quarter_eps.eps.iloc[i+4]\n"
     ]
    },
    {
     "name": "stdout",
     "output_type": "stream",
     "text": [
      "CDTX not selected\n",
      "CDW not selected\n",
      "CDXC not selected"
     ]
    },
    {
     "name": "stderr",
     "output_type": "stream",
     "text": [
      "C:\\Users\\Rain\\AppData\\Local\\Temp\\ipykernel_23516\\2431815014.py:15: RuntimeWarning: divide by zero encountered in double_scalars\n",
      "  quarter_eps.yoy_growth.iloc[i] = (quarter_eps.eps.iloc[i] - quarter_eps.eps.iloc[i+4]) / quarter_eps.eps.iloc[i+4]\n"
     ]
    },
    {
     "name": "stdout",
     "output_type": "stream",
     "text": [
      "\n",
      "CDXS not selected\n",
      "CDZI not selected\n"
     ]
    },
    {
     "name": "stderr",
     "output_type": "stream",
     "text": [
      "C:\\Users\\Rain\\AppData\\Local\\Temp\\ipykernel_23516\\2431815014.py:15: RuntimeWarning: divide by zero encountered in double_scalars\n",
      "  quarter_eps.yoy_growth.iloc[i] = (quarter_eps.eps.iloc[i] - quarter_eps.eps.iloc[i+4]) / quarter_eps.eps.iloc[i+4]\n",
      "C:\\Users\\Rain\\AppData\\Local\\Temp\\ipykernel_23516\\2431815014.py:15: RuntimeWarning: divide by zero encountered in double_scalars\n",
      "  quarter_eps.yoy_growth.iloc[i] = (quarter_eps.eps.iloc[i] - quarter_eps.eps.iloc[i+4]) / quarter_eps.eps.iloc[i+4]\n",
      "C:\\Users\\Rain\\AppData\\Local\\Temp\\ipykernel_23516\\2431815014.py:15: RuntimeWarning: invalid value encountered in double_scalars\n",
      "  quarter_eps.yoy_growth.iloc[i] = (quarter_eps.eps.iloc[i] - quarter_eps.eps.iloc[i+4]) / quarter_eps.eps.iloc[i+4]\n",
      "C:\\Users\\Rain\\AppData\\Local\\Temp\\ipykernel_23516\\2431815014.py:15: RuntimeWarning: divide by zero encountered in double_scalars\n",
      "  quarter_eps.yoy_growth.iloc[i] = (quarter_eps.eps.iloc[i] - quarter_eps.eps.iloc[i+4]) / quarter_eps.eps.iloc[i+4]\n"
     ]
    },
    {
     "name": "stdout",
     "output_type": "stream",
     "text": [
      "CE not selected\n",
      "CEA not selected\n",
      "CEAD not selected\n",
      "CECE selected\n",
      "CEG not selected\n",
      "CEI not exsit\n"
     ]
    },
    {
     "name": "stderr",
     "output_type": "stream",
     "text": [
      "C:\\Users\\Rain\\AppData\\Local\\Temp\\ipykernel_23516\\2431815014.py:15: RuntimeWarning: divide by zero encountered in double_scalars\n",
      "  quarter_eps.yoy_growth.iloc[i] = (quarter_eps.eps.iloc[i] - quarter_eps.eps.iloc[i+4]) / quarter_eps.eps.iloc[i+4]\n",
      "C:\\Users\\Rain\\AppData\\Local\\Temp\\ipykernel_23516\\2431815014.py:15: RuntimeWarning: invalid value encountered in double_scalars\n",
      "  quarter_eps.yoy_growth.iloc[i] = (quarter_eps.eps.iloc[i] - quarter_eps.eps.iloc[i+4]) / quarter_eps.eps.iloc[i+4]\n",
      "C:\\Users\\Rain\\AppData\\Local\\Temp\\ipykernel_23516\\2431815014.py:19: RuntimeWarning: invalid value encountered in double_scalars\n",
      "  quarter_eps.fixed_yoy_growth.iloc[i] = (quarter_eps.yoy_growth.iloc[i] + quarter_eps.yoy_growth.iloc[i+1]) / 2\n",
      "C:\\Users\\Rain\\AppData\\Local\\Temp\\ipykernel_23516\\2431815014.py:15: RuntimeWarning: divide by zero encountered in double_scalars\n",
      "  quarter_eps.yoy_growth.iloc[i] = (quarter_eps.eps.iloc[i] - quarter_eps.eps.iloc[i+4]) / quarter_eps.eps.iloc[i+4]\n",
      "C:\\Users\\Rain\\AppData\\Local\\Temp\\ipykernel_23516\\2431815014.py:19: RuntimeWarning: invalid value encountered in double_scalars\n",
      "  quarter_eps.fixed_yoy_growth.iloc[i] = (quarter_eps.yoy_growth.iloc[i] + quarter_eps.yoy_growth.iloc[i+1]) / 2\n"
     ]
    },
    {
     "name": "stdout",
     "output_type": "stream",
     "text": [
      "CEIX selected\n",
      "CELC not selected\n"
     ]
    },
    {
     "name": "stderr",
     "output_type": "stream",
     "text": [
      "C:\\Users\\Rain\\AppData\\Local\\Temp\\ipykernel_23516\\2431815014.py:15: RuntimeWarning: divide by zero encountered in double_scalars\n",
      "  quarter_eps.yoy_growth.iloc[i] = (quarter_eps.eps.iloc[i] - quarter_eps.eps.iloc[i+4]) / quarter_eps.eps.iloc[i+4]\n",
      "C:\\Users\\Rain\\AppData\\Local\\Temp\\ipykernel_23516\\2431815014.py:15: RuntimeWarning: divide by zero encountered in double_scalars\n",
      "  quarter_eps.yoy_growth.iloc[i] = (quarter_eps.eps.iloc[i] - quarter_eps.eps.iloc[i+4]) / quarter_eps.eps.iloc[i+4]\n"
     ]
    },
    {
     "name": "stdout",
     "output_type": "stream",
     "text": [
      "CELH selected\n",
      "CELU not selected\n"
     ]
    },
    {
     "name": "stderr",
     "output_type": "stream",
     "text": [
      "C:\\Users\\Rain\\AppData\\Local\\Temp\\ipykernel_23516\\2431815014.py:15: RuntimeWarning: divide by zero encountered in double_scalars\n",
      "  quarter_eps.yoy_growth.iloc[i] = (quarter_eps.eps.iloc[i] - quarter_eps.eps.iloc[i+4]) / quarter_eps.eps.iloc[i+4]\n",
      "C:\\Users\\Rain\\AppData\\Local\\Temp\\ipykernel_23516\\2431815014.py:19: RuntimeWarning: invalid value encountered in double_scalars\n",
      "  quarter_eps.fixed_yoy_growth.iloc[i] = (quarter_eps.yoy_growth.iloc[i] + quarter_eps.yoy_growth.iloc[i+1]) / 2\n",
      "C:\\Users\\Rain\\AppData\\Local\\Temp\\ipykernel_23516\\2431815014.py:15: RuntimeWarning: divide by zero encountered in double_scalars\n",
      "  quarter_eps.yoy_growth.iloc[i] = (quarter_eps.eps.iloc[i] - quarter_eps.eps.iloc[i+4]) / quarter_eps.eps.iloc[i+4]\n",
      "C:\\Users\\Rain\\AppData\\Local\\Temp\\ipykernel_23516\\2431815014.py:15: RuntimeWarning: invalid value encountered in double_scalars\n",
      "  quarter_eps.yoy_growth.iloc[i] = (quarter_eps.eps.iloc[i] - quarter_eps.eps.iloc[i+4]) / quarter_eps.eps.iloc[i+4]\n"
     ]
    },
    {
     "name": "stdout",
     "output_type": "stream",
     "text": [
      "CELZ data not enough\n",
      "CEMI not selected\n",
      "CENN not exsit\n"
     ]
    },
    {
     "name": "stderr",
     "output_type": "stream",
     "text": [
      "C:\\Users\\Rain\\AppData\\Local\\Temp\\ipykernel_23516\\2431815014.py:15: RuntimeWarning: divide by zero encountered in double_scalars\n",
      "  quarter_eps.yoy_growth.iloc[i] = (quarter_eps.eps.iloc[i] - quarter_eps.eps.iloc[i+4]) / quarter_eps.eps.iloc[i+4]\n"
     ]
    },
    {
     "name": "stdout",
     "output_type": "stream",
     "text": [
      "CENQ not selected\n",
      "CENT not selected\n"
     ]
    },
    {
     "name": "stderr",
     "output_type": "stream",
     "text": [
      "C:\\Users\\Rain\\AppData\\Local\\Temp\\ipykernel_23516\\2431815014.py:15: RuntimeWarning: divide by zero encountered in double_scalars\n",
      "  quarter_eps.yoy_growth.iloc[i] = (quarter_eps.eps.iloc[i] - quarter_eps.eps.iloc[i+4]) / quarter_eps.eps.iloc[i+4]\n",
      "C:\\Users\\Rain\\AppData\\Local\\Temp\\ipykernel_23516\\2431815014.py:15: RuntimeWarning: divide by zero encountered in double_scalars\n",
      "  quarter_eps.yoy_growth.iloc[i] = (quarter_eps.eps.iloc[i] - quarter_eps.eps.iloc[i+4]) / quarter_eps.eps.iloc[i+4]\n"
     ]
    },
    {
     "name": "stdout",
     "output_type": "stream",
     "text": [
      "CENTA not selected\n",
      "CENX not selected\n",
      "CEPU selected\n"
     ]
    },
    {
     "name": "stderr",
     "output_type": "stream",
     "text": [
      "C:\\Users\\Rain\\AppData\\Local\\Temp\\ipykernel_23516\\2431815014.py:15: RuntimeWarning: divide by zero encountered in double_scalars\n",
      "  quarter_eps.yoy_growth.iloc[i] = (quarter_eps.eps.iloc[i] - quarter_eps.eps.iloc[i+4]) / quarter_eps.eps.iloc[i+4]\n",
      "C:\\Users\\Rain\\AppData\\Local\\Temp\\ipykernel_23516\\2431815014.py:15: RuntimeWarning: invalid value encountered in double_scalars\n",
      "  quarter_eps.yoy_growth.iloc[i] = (quarter_eps.eps.iloc[i] - quarter_eps.eps.iloc[i+4]) / quarter_eps.eps.iloc[i+4]\n",
      "C:\\Users\\Rain\\AppData\\Local\\Temp\\ipykernel_23516\\2431815014.py:15: RuntimeWarning: divide by zero encountered in double_scalars\n",
      "  quarter_eps.yoy_growth.iloc[i] = (quarter_eps.eps.iloc[i] - quarter_eps.eps.iloc[i+4]) / quarter_eps.eps.iloc[i+4]\n"
     ]
    },
    {
     "name": "stdout",
     "output_type": "stream",
     "text": [
      "CEQP not selected\n",
      "CERE not selected\n",
      "CERS not selected\n"
     ]
    },
    {
     "name": "stderr",
     "output_type": "stream",
     "text": [
      "C:\\Users\\Rain\\AppData\\Local\\Temp\\ipykernel_23516\\2431815014.py:15: RuntimeWarning: divide by zero encountered in double_scalars\n",
      "  quarter_eps.yoy_growth.iloc[i] = (quarter_eps.eps.iloc[i] - quarter_eps.eps.iloc[i+4]) / quarter_eps.eps.iloc[i+4]\n",
      "C:\\Users\\Rain\\AppData\\Local\\Temp\\ipykernel_23516\\2431815014.py:19: RuntimeWarning: invalid value encountered in double_scalars\n",
      "  quarter_eps.fixed_yoy_growth.iloc[i] = (quarter_eps.yoy_growth.iloc[i] + quarter_eps.yoy_growth.iloc[i+1]) / 2\n"
     ]
    },
    {
     "name": "stdout",
     "output_type": "stream",
     "text": [
      "CERT not selected\n",
      "CET data not enough\n"
     ]
    },
    {
     "name": "stderr",
     "output_type": "stream",
     "text": [
      "C:\\Users\\Rain\\AppData\\Local\\Temp\\ipykernel_23516\\2431815014.py:15: RuntimeWarning: divide by zero encountered in double_scalars\n",
      "  quarter_eps.yoy_growth.iloc[i] = (quarter_eps.eps.iloc[i] - quarter_eps.eps.iloc[i+4]) / quarter_eps.eps.iloc[i+4]\n",
      "C:\\Users\\Rain\\AppData\\Local\\Temp\\ipykernel_23516\\2431815014.py:15: RuntimeWarning: invalid value encountered in double_scalars\n",
      "  quarter_eps.yoy_growth.iloc[i] = (quarter_eps.eps.iloc[i] - quarter_eps.eps.iloc[i+4]) / quarter_eps.eps.iloc[i+4]\n"
     ]
    },
    {
     "name": "stdout",
     "output_type": "stream",
     "text": [
      "CETX not selected\n",
      "CEVA not selected\n",
      "CF selected\n",
      "CFB not selected\n",
      "CFBK not selected"
     ]
    },
    {
     "name": "stderr",
     "output_type": "stream",
     "text": [
      "C:\\Users\\Rain\\AppData\\Local\\Temp\\ipykernel_23516\\2431815014.py:15: RuntimeWarning: divide by zero encountered in double_scalars\n",
      "  quarter_eps.yoy_growth.iloc[i] = (quarter_eps.eps.iloc[i] - quarter_eps.eps.iloc[i+4]) / quarter_eps.eps.iloc[i+4]\n",
      "C:\\Users\\Rain\\AppData\\Local\\Temp\\ipykernel_23516\\2431815014.py:15: RuntimeWarning: divide by zero encountered in double_scalars\n",
      "  quarter_eps.yoy_growth.iloc[i] = (quarter_eps.eps.iloc[i] - quarter_eps.eps.iloc[i+4]) / quarter_eps.eps.iloc[i+4]\n",
      "C:\\Users\\Rain\\AppData\\Local\\Temp\\ipykernel_23516\\2431815014.py:15: RuntimeWarning: divide by zero encountered in double_scalars\n",
      "  quarter_eps.yoy_growth.iloc[i] = (quarter_eps.eps.iloc[i] - quarter_eps.eps.iloc[i+4]) / quarter_eps.eps.iloc[i+4]\n"
     ]
    },
    {
     "name": "stdout",
     "output_type": "stream",
     "text": [
      "\n",
      "CFFE selected\n",
      "CFFI not selected\n",
      "CFFN not selected\n",
      "CFFS data not enough\n"
     ]
    },
    {
     "name": "stderr",
     "output_type": "stream",
     "text": [
      "C:\\Users\\Rain\\AppData\\Local\\Temp\\ipykernel_23516\\2431815014.py:15: RuntimeWarning: divide by zero encountered in double_scalars\n",
      "  quarter_eps.yoy_growth.iloc[i] = (quarter_eps.eps.iloc[i] - quarter_eps.eps.iloc[i+4]) / quarter_eps.eps.iloc[i+4]\n",
      "C:\\Users\\Rain\\AppData\\Local\\Temp\\ipykernel_23516\\2431815014.py:15: RuntimeWarning: invalid value encountered in double_scalars\n",
      "  quarter_eps.yoy_growth.iloc[i] = (quarter_eps.eps.iloc[i] - quarter_eps.eps.iloc[i+4]) / quarter_eps.eps.iloc[i+4]\n",
      "C:\\Users\\Rain\\AppData\\Local\\Temp\\ipykernel_23516\\2431815014.py:15: RuntimeWarning: divide by zero encountered in double_scalars\n",
      "  quarter_eps.yoy_growth.iloc[i] = (quarter_eps.eps.iloc[i] - quarter_eps.eps.iloc[i+4]) / quarter_eps.eps.iloc[i+4]\n",
      "C:\\Users\\Rain\\AppData\\Local\\Temp\\ipykernel_23516\\2431815014.py:19: RuntimeWarning: invalid value encountered in double_scalars\n",
      "  quarter_eps.fixed_yoy_growth.iloc[i] = (quarter_eps.yoy_growth.iloc[i] + quarter_eps.yoy_growth.iloc[i+1]) / 2\n"
     ]
    },
    {
     "name": "stdout",
     "output_type": "stream",
     "text": [
      "CFG not selected\n",
      "CFIV not selected\n"
     ]
    },
    {
     "name": "stderr",
     "output_type": "stream",
     "text": [
      "C:\\Users\\Rain\\AppData\\Local\\Temp\\ipykernel_23516\\2431815014.py:15: RuntimeWarning: divide by zero encountered in double_scalars\n",
      "  quarter_eps.yoy_growth.iloc[i] = (quarter_eps.eps.iloc[i] - quarter_eps.eps.iloc[i+4]) / quarter_eps.eps.iloc[i+4]\n",
      "C:\\Users\\Rain\\AppData\\Local\\Temp\\ipykernel_23516\\2431815014.py:15: RuntimeWarning: divide by zero encountered in double_scalars\n",
      "  quarter_eps.yoy_growth.iloc[i] = (quarter_eps.eps.iloc[i] - quarter_eps.eps.iloc[i+4]) / quarter_eps.eps.iloc[i+4]\n"
     ]
    },
    {
     "name": "stdout",
     "output_type": "stream",
     "text": [
      "CFLT not selected\n",
      "CFMS not selected\n",
      "CFR not exsit\n"
     ]
    },
    {
     "name": "stderr",
     "output_type": "stream",
     "text": [
      "C:\\Users\\Rain\\AppData\\Local\\Temp\\ipykernel_23516\\2431815014.py:15: RuntimeWarning: divide by zero encountered in double_scalars\n",
      "  quarter_eps.yoy_growth.iloc[i] = (quarter_eps.eps.iloc[i] - quarter_eps.eps.iloc[i+4]) / quarter_eps.eps.iloc[i+4]\n",
      "C:\\Users\\Rain\\AppData\\Local\\Temp\\ipykernel_23516\\2431815014.py:15: RuntimeWarning: divide by zero encountered in double_scalars\n",
      "  quarter_eps.yoy_growth.iloc[i] = (quarter_eps.eps.iloc[i] - quarter_eps.eps.iloc[i+4]) / quarter_eps.eps.iloc[i+4]\n",
      "C:\\Users\\Rain\\AppData\\Local\\Temp\\ipykernel_23516\\2431815014.py:15: RuntimeWarning: invalid value encountered in double_scalars\n",
      "  quarter_eps.yoy_growth.iloc[i] = (quarter_eps.eps.iloc[i] - quarter_eps.eps.iloc[i+4]) / quarter_eps.eps.iloc[i+4]\n"
     ]
    },
    {
     "name": "stdout",
     "output_type": "stream",
     "text": [
      "CFRX selected\n",
      "CFSB data not enough\n",
      "CFVI selected\n",
      "CG not selected\n"
     ]
    },
    {
     "name": "stderr",
     "output_type": "stream",
     "text": [
      "C:\\Users\\Rain\\AppData\\Local\\Temp\\ipykernel_23516\\2431815014.py:15: RuntimeWarning: divide by zero encountered in double_scalars\n",
      "  quarter_eps.yoy_growth.iloc[i] = (quarter_eps.eps.iloc[i] - quarter_eps.eps.iloc[i+4]) / quarter_eps.eps.iloc[i+4]\n",
      "C:\\Users\\Rain\\AppData\\Local\\Temp\\ipykernel_23516\\2431815014.py:15: RuntimeWarning: invalid value encountered in double_scalars\n",
      "  quarter_eps.yoy_growth.iloc[i] = (quarter_eps.eps.iloc[i] - quarter_eps.eps.iloc[i+4]) / quarter_eps.eps.iloc[i+4]\n",
      "C:\\Users\\Rain\\AppData\\Local\\Temp\\ipykernel_23516\\2431815014.py:19: RuntimeWarning: invalid value encountered in double_scalars\n",
      "  quarter_eps.fixed_yoy_growth.iloc[i] = (quarter_eps.yoy_growth.iloc[i] + quarter_eps.yoy_growth.iloc[i+1]) / 2\n",
      "C:\\Users\\Rain\\AppData\\Local\\Temp\\ipykernel_23516\\2431815014.py:15: RuntimeWarning: divide by zero encountered in double_scalars\n",
      "  quarter_eps.yoy_growth.iloc[i] = (quarter_eps.eps.iloc[i] - quarter_eps.eps.iloc[i+4]) / quarter_eps.eps.iloc[i+4]\n"
     ]
    },
    {
     "name": "stdout",
     "output_type": "stream",
     "text": [
      "CGA not selected\n",
      "CGAU not selected\n",
      "CGBD not selected"
     ]
    },
    {
     "name": "stderr",
     "output_type": "stream",
     "text": [
      "C:\\Users\\Rain\\AppData\\Local\\Temp\\ipykernel_23516\\2431815014.py:15: RuntimeWarning: divide by zero encountered in double_scalars\n",
      "  quarter_eps.yoy_growth.iloc[i] = (quarter_eps.eps.iloc[i] - quarter_eps.eps.iloc[i+4]) / quarter_eps.eps.iloc[i+4]\n",
      "C:\\Users\\Rain\\AppData\\Local\\Temp\\ipykernel_23516\\2431815014.py:15: RuntimeWarning: invalid value encountered in double_scalars\n",
      "  quarter_eps.yoy_growth.iloc[i] = (quarter_eps.eps.iloc[i] - quarter_eps.eps.iloc[i+4]) / quarter_eps.eps.iloc[i+4]\n"
     ]
    },
    {
     "name": "stdout",
     "output_type": "stream",
     "text": [
      "\n",
      "CGC not selected\n"
     ]
    },
    {
     "name": "stderr",
     "output_type": "stream",
     "text": [
      "C:\\Users\\Rain\\AppData\\Local\\Temp\\ipykernel_23516\\2431815014.py:15: RuntimeWarning: divide by zero encountered in double_scalars\n",
      "  quarter_eps.yoy_growth.iloc[i] = (quarter_eps.eps.iloc[i] - quarter_eps.eps.iloc[i+4]) / quarter_eps.eps.iloc[i+4]\n",
      "C:\\Users\\Rain\\AppData\\Local\\Temp\\ipykernel_23516\\2431815014.py:15: RuntimeWarning: divide by zero encountered in double_scalars\n",
      "  quarter_eps.yoy_growth.iloc[i] = (quarter_eps.eps.iloc[i] - quarter_eps.eps.iloc[i+4]) / quarter_eps.eps.iloc[i+4]\n",
      "C:\\Users\\Rain\\AppData\\Local\\Temp\\ipykernel_23516\\2431815014.py:15: RuntimeWarning: divide by zero encountered in double_scalars\n",
      "  quarter_eps.yoy_growth.iloc[i] = (quarter_eps.eps.iloc[i] - quarter_eps.eps.iloc[i+4]) / quarter_eps.eps.iloc[i+4]\n"
     ]
    },
    {
     "name": "stdout",
     "output_type": "stream",
     "text": [
      "CGEM not selected\n",
      "CGEN not selected\n",
      "CGNT selected\n",
      "CGNX not selected\n",
      "CGRN not selected\n"
     ]
    },
    {
     "name": "stderr",
     "output_type": "stream",
     "text": [
      "C:\\Users\\Rain\\AppData\\Local\\Temp\\ipykernel_23516\\2431815014.py:15: RuntimeWarning: divide by zero encountered in double_scalars\n",
      "  quarter_eps.yoy_growth.iloc[i] = (quarter_eps.eps.iloc[i] - quarter_eps.eps.iloc[i+4]) / quarter_eps.eps.iloc[i+4]\n",
      "C:\\Users\\Rain\\AppData\\Local\\Temp\\ipykernel_23516\\2431815014.py:15: RuntimeWarning: divide by zero encountered in double_scalars\n",
      "  quarter_eps.yoy_growth.iloc[i] = (quarter_eps.eps.iloc[i] - quarter_eps.eps.iloc[i+4]) / quarter_eps.eps.iloc[i+4]\n"
     ]
    },
    {
     "name": "stdout",
     "output_type": "stream",
     "text": [
      "CGTX not selected\n",
      "CHAA data not enough\n"
     ]
    },
    {
     "name": "stderr",
     "output_type": "stream",
     "text": [
      "C:\\Users\\Rain\\AppData\\Local\\Temp\\ipykernel_23516\\2431815014.py:15: RuntimeWarning: divide by zero encountered in double_scalars\n",
      "  quarter_eps.yoy_growth.iloc[i] = (quarter_eps.eps.iloc[i] - quarter_eps.eps.iloc[i+4]) / quarter_eps.eps.iloc[i+4]\n"
     ]
    },
    {
     "name": "stdout",
     "output_type": "stream",
     "text": [
      "CHCI selected\n",
      "CHCO not selected\n"
     ]
    },
    {
     "name": "stderr",
     "output_type": "stream",
     "text": [
      "C:\\Users\\Rain\\AppData\\Local\\Temp\\ipykernel_23516\\2431815014.py:15: RuntimeWarning: divide by zero encountered in double_scalars\n",
      "  quarter_eps.yoy_growth.iloc[i] = (quarter_eps.eps.iloc[i] - quarter_eps.eps.iloc[i+4]) / quarter_eps.eps.iloc[i+4]\n",
      "C:\\Users\\Rain\\AppData\\Local\\Temp\\ipykernel_23516\\2431815014.py:19: RuntimeWarning: invalid value encountered in double_scalars\n",
      "  quarter_eps.fixed_yoy_growth.iloc[i] = (quarter_eps.yoy_growth.iloc[i] + quarter_eps.yoy_growth.iloc[i+1]) / 2\n"
     ]
    },
    {
     "name": "stdout",
     "output_type": "stream",
     "text": [
      "CHCT not selected\n",
      "CHD not selected\n",
      "CHDN selected\n",
      "CHE not selected\n",
      "CHEA data not enough\n"
     ]
    },
    {
     "name": "stderr",
     "output_type": "stream",
     "text": [
      "C:\\Users\\Rain\\AppData\\Local\\Temp\\ipykernel_23516\\2431815014.py:15: RuntimeWarning: divide by zero encountered in double_scalars\n",
      "  quarter_eps.yoy_growth.iloc[i] = (quarter_eps.eps.iloc[i] - quarter_eps.eps.iloc[i+4]) / quarter_eps.eps.iloc[i+4]\n",
      "C:\\Users\\Rain\\AppData\\Local\\Temp\\ipykernel_23516\\2431815014.py:15: RuntimeWarning: divide by zero encountered in double_scalars\n",
      "  quarter_eps.yoy_growth.iloc[i] = (quarter_eps.eps.iloc[i] - quarter_eps.eps.iloc[i+4]) / quarter_eps.eps.iloc[i+4]\n"
     ]
    },
    {
     "name": "stdout",
     "output_type": "stream",
     "text": [
      "CHEF selected\n",
      "CHEK not selected\n",
      "CHG data not enough\n"
     ]
    },
    {
     "name": "stderr",
     "output_type": "stream",
     "text": [
      "C:\\Users\\Rain\\AppData\\Local\\Temp\\ipykernel_23516\\2431815014.py:15: RuntimeWarning: divide by zero encountered in double_scalars\n",
      "  quarter_eps.yoy_growth.iloc[i] = (quarter_eps.eps.iloc[i] - quarter_eps.eps.iloc[i+4]) / quarter_eps.eps.iloc[i+4]\n",
      "C:\\Users\\Rain\\AppData\\Local\\Temp\\ipykernel_23516\\2431815014.py:15: RuntimeWarning: divide by zero encountered in double_scalars\n",
      "  quarter_eps.yoy_growth.iloc[i] = (quarter_eps.eps.iloc[i] - quarter_eps.eps.iloc[i+4]) / quarter_eps.eps.iloc[i+4]\n"
     ]
    },
    {
     "name": "stdout",
     "output_type": "stream",
     "text": [
      "CHGG not selected\n",
      "CHH selected\n"
     ]
    },
    {
     "name": "stderr",
     "output_type": "stream",
     "text": [
      "C:\\Users\\Rain\\AppData\\Local\\Temp\\ipykernel_23516\\2431815014.py:15: RuntimeWarning: divide by zero encountered in double_scalars\n",
      "  quarter_eps.yoy_growth.iloc[i] = (quarter_eps.eps.iloc[i] - quarter_eps.eps.iloc[i+4]) / quarter_eps.eps.iloc[i+4]\n"
     ]
    },
    {
     "name": "stdout",
     "output_type": "stream",
     "text": [
      "CHK not selected\n",
      "CHKP not selected\n"
     ]
    },
    {
     "name": "stderr",
     "output_type": "stream",
     "text": [
      "C:\\Users\\Rain\\AppData\\Local\\Temp\\ipykernel_23516\\2431815014.py:15: RuntimeWarning: divide by zero encountered in double_scalars\n",
      "  quarter_eps.yoy_growth.iloc[i] = (quarter_eps.eps.iloc[i] - quarter_eps.eps.iloc[i+4]) / quarter_eps.eps.iloc[i+4]\n",
      "C:\\Users\\Rain\\AppData\\Local\\Temp\\ipykernel_23516\\2431815014.py:15: RuntimeWarning: divide by zero encountered in double_scalars\n",
      "  quarter_eps.yoy_growth.iloc[i] = (quarter_eps.eps.iloc[i] - quarter_eps.eps.iloc[i+4]) / quarter_eps.eps.iloc[i+4]\n",
      "C:\\Users\\Rain\\AppData\\Local\\Temp\\ipykernel_23516\\2431815014.py:15: RuntimeWarning: divide by zero encountered in double_scalars\n",
      "  quarter_eps.yoy_growth.iloc[i] = (quarter_eps.eps.iloc[i] - quarter_eps.eps.iloc[i+4]) / quarter_eps.eps.iloc[i+4]\n"
     ]
    },
    {
     "name": "stdout",
     "output_type": "stream",
     "text": [
      "CHMG not selected\n",
      "CHMI not selected\n",
      "CHNG not selected"
     ]
    },
    {
     "name": "stderr",
     "output_type": "stream",
     "text": [
      "C:\\Users\\Rain\\AppData\\Local\\Temp\\ipykernel_23516\\2431815014.py:15: RuntimeWarning: divide by zero encountered in double_scalars\n",
      "  quarter_eps.yoy_growth.iloc[i] = (quarter_eps.eps.iloc[i] - quarter_eps.eps.iloc[i+4]) / quarter_eps.eps.iloc[i+4]\n",
      "C:\\Users\\Rain\\AppData\\Local\\Temp\\ipykernel_23516\\2431815014.py:15: RuntimeWarning: invalid value encountered in double_scalars\n",
      "  quarter_eps.yoy_growth.iloc[i] = (quarter_eps.eps.iloc[i] - quarter_eps.eps.iloc[i+4]) / quarter_eps.eps.iloc[i+4]\n",
      "C:\\Users\\Rain\\AppData\\Local\\Temp\\ipykernel_23516\\2431815014.py:15: RuntimeWarning: divide by zero encountered in double_scalars\n",
      "  quarter_eps.yoy_growth.iloc[i] = (quarter_eps.eps.iloc[i] - quarter_eps.eps.iloc[i+4]) / quarter_eps.eps.iloc[i+4]\n",
      "C:\\Users\\Rain\\AppData\\Local\\Temp\\ipykernel_23516\\2431815014.py:15: RuntimeWarning: invalid value encountered in double_scalars\n",
      "  quarter_eps.yoy_growth.iloc[i] = (quarter_eps.eps.iloc[i] - quarter_eps.eps.iloc[i+4]) / quarter_eps.eps.iloc[i+4]\n",
      "C:\\Users\\Rain\\AppData\\Local\\Temp\\ipykernel_23516\\2431815014.py:15: RuntimeWarning: divide by zero encountered in double_scalars\n",
      "  quarter_eps.yoy_growth.iloc[i] = (quarter_eps.eps.iloc[i] - quarter_eps.eps.iloc[i+4]) / quarter_eps.eps.iloc[i+4]\n"
     ]
    },
    {
     "name": "stdout",
     "output_type": "stream",
     "text": [
      "\n",
      "CHNR not selected\n",
      "CHPT not selected\n",
      "CHRA selected\n",
      "CHRD not selected\n",
      "CHRS not selected"
     ]
    },
    {
     "name": "stderr",
     "output_type": "stream",
     "text": [
      "C:\\Users\\Rain\\AppData\\Local\\Temp\\ipykernel_23516\\2431815014.py:15: RuntimeWarning: divide by zero encountered in double_scalars\n",
      "  quarter_eps.yoy_growth.iloc[i] = (quarter_eps.eps.iloc[i] - quarter_eps.eps.iloc[i+4]) / quarter_eps.eps.iloc[i+4]\n",
      "C:\\Users\\Rain\\AppData\\Local\\Temp\\ipykernel_23516\\2431815014.py:19: RuntimeWarning: invalid value encountered in double_scalars\n",
      "  quarter_eps.fixed_yoy_growth.iloc[i] = (quarter_eps.yoy_growth.iloc[i] + quarter_eps.yoy_growth.iloc[i+1]) / 2\n",
      "C:\\Users\\Rain\\AppData\\Local\\Temp\\ipykernel_23516\\2431815014.py:15: RuntimeWarning: divide by zero encountered in double_scalars\n",
      "  quarter_eps.yoy_growth.iloc[i] = (quarter_eps.eps.iloc[i] - quarter_eps.eps.iloc[i+4]) / quarter_eps.eps.iloc[i+4]\n"
     ]
    },
    {
     "name": "stdout",
     "output_type": "stream",
     "text": [
      "\n",
      "CHRW selected\n",
      "CHS not selected\n",
      "CHT not selected\n",
      "CHTR selected\n",
      "CHUY not selected\n",
      "CHWY not selected"
     ]
    },
    {
     "name": "stderr",
     "output_type": "stream",
     "text": [
      "C:\\Users\\Rain\\AppData\\Local\\Temp\\ipykernel_23516\\2431815014.py:15: RuntimeWarning: divide by zero encountered in double_scalars\n",
      "  quarter_eps.yoy_growth.iloc[i] = (quarter_eps.eps.iloc[i] - quarter_eps.eps.iloc[i+4]) / quarter_eps.eps.iloc[i+4]\n",
      "C:\\Users\\Rain\\AppData\\Local\\Temp\\ipykernel_23516\\2431815014.py:15: RuntimeWarning: divide by zero encountered in double_scalars\n",
      "  quarter_eps.yoy_growth.iloc[i] = (quarter_eps.eps.iloc[i] - quarter_eps.eps.iloc[i+4]) / quarter_eps.eps.iloc[i+4]\n",
      "C:\\Users\\Rain\\AppData\\Local\\Temp\\ipykernel_23516\\2431815014.py:15: RuntimeWarning: divide by zero encountered in double_scalars\n",
      "  quarter_eps.yoy_growth.iloc[i] = (quarter_eps.eps.iloc[i] - quarter_eps.eps.iloc[i+4]) / quarter_eps.eps.iloc[i+4]\n"
     ]
    },
    {
     "name": "stdout",
     "output_type": "stream",
     "text": [
      "\n",
      "CHX selected\n",
      "CI not selected\n",
      "CIA not selected\n",
      "CIAN data not enough\n"
     ]
    },
    {
     "name": "stderr",
     "output_type": "stream",
     "text": [
      "C:\\Users\\Rain\\AppData\\Local\\Temp\\ipykernel_23516\\2431815014.py:15: RuntimeWarning: divide by zero encountered in double_scalars\n",
      "  quarter_eps.yoy_growth.iloc[i] = (quarter_eps.eps.iloc[i] - quarter_eps.eps.iloc[i+4]) / quarter_eps.eps.iloc[i+4]\n",
      "C:\\Users\\Rain\\AppData\\Local\\Temp\\ipykernel_23516\\2431815014.py:15: RuntimeWarning: invalid value encountered in double_scalars\n",
      "  quarter_eps.yoy_growth.iloc[i] = (quarter_eps.eps.iloc[i] - quarter_eps.eps.iloc[i+4]) / quarter_eps.eps.iloc[i+4]\n"
     ]
    },
    {
     "name": "stdout",
     "output_type": "stream",
     "text": [
      "CIB not selected\n",
      "CIDM not selected\n",
      "CIEN not selected\n",
      "CIFR not selected\n"
     ]
    },
    {
     "name": "stderr",
     "output_type": "stream",
     "text": [
      "C:\\Users\\Rain\\AppData\\Local\\Temp\\ipykernel_23516\\2431815014.py:15: RuntimeWarning: divide by zero encountered in double_scalars\n",
      "  quarter_eps.yoy_growth.iloc[i] = (quarter_eps.eps.iloc[i] - quarter_eps.eps.iloc[i+4]) / quarter_eps.eps.iloc[i+4]\n",
      "C:\\Users\\Rain\\AppData\\Local\\Temp\\ipykernel_23516\\2431815014.py:15: RuntimeWarning: invalid value encountered in double_scalars\n",
      "  quarter_eps.yoy_growth.iloc[i] = (quarter_eps.eps.iloc[i] - quarter_eps.eps.iloc[i+4]) / quarter_eps.eps.iloc[i+4]\n",
      "C:\\Users\\Rain\\AppData\\Local\\Temp\\ipykernel_23516\\2431815014.py:15: RuntimeWarning: divide by zero encountered in double_scalars\n",
      "  quarter_eps.yoy_growth.iloc[i] = (quarter_eps.eps.iloc[i] - quarter_eps.eps.iloc[i+4]) / quarter_eps.eps.iloc[i+4]\n",
      "C:\\Users\\Rain\\AppData\\Local\\Temp\\ipykernel_23516\\2431815014.py:15: RuntimeWarning: invalid value encountered in double_scalars\n",
      "  quarter_eps.yoy_growth.iloc[i] = (quarter_eps.eps.iloc[i] - quarter_eps.eps.iloc[i+4]) / quarter_eps.eps.iloc[i+4]\n",
      "C:\\Users\\Rain\\AppData\\Local\\Temp\\ipykernel_23516\\2431815014.py:19: RuntimeWarning: invalid value encountered in double_scalars\n",
      "  quarter_eps.fixed_yoy_growth.iloc[i] = (quarter_eps.yoy_growth.iloc[i] + quarter_eps.yoy_growth.iloc[i+1]) / 2\n"
     ]
    },
    {
     "name": "stdout",
     "output_type": "stream",
     "text": [
      "CIG selected\n",
      "CIGI not selected\n",
      "CIH not exsit\n"
     ]
    },
    {
     "name": "stderr",
     "output_type": "stream",
     "text": [
      "C:\\Users\\Rain\\AppData\\Local\\Temp\\ipykernel_23516\\2431815014.py:15: RuntimeWarning: divide by zero encountered in double_scalars\n",
      "  quarter_eps.yoy_growth.iloc[i] = (quarter_eps.eps.iloc[i] - quarter_eps.eps.iloc[i+4]) / quarter_eps.eps.iloc[i+4]\n"
     ]
    },
    {
     "name": "stdout",
     "output_type": "stream",
     "text": [
      "CIIG data not enough\n",
      "CIM not selected\n"
     ]
    },
    {
     "name": "stderr",
     "output_type": "stream",
     "text": [
      "C:\\Users\\Rain\\AppData\\Local\\Temp\\ipykernel_23516\\2431815014.py:15: RuntimeWarning: divide by zero encountered in double_scalars\n",
      "  quarter_eps.yoy_growth.iloc[i] = (quarter_eps.eps.iloc[i] - quarter_eps.eps.iloc[i+4]) / quarter_eps.eps.iloc[i+4]\n"
     ]
    },
    {
     "name": "stdout",
     "output_type": "stream",
     "text": [
      "CINC data not enough\n",
      "CINF not selected\n",
      "CING data not enough\n",
      "CINT data not enough\n"
     ]
    },
    {
     "name": "stderr",
     "output_type": "stream",
     "text": [
      "C:\\Users\\Rain\\AppData\\Local\\Temp\\ipykernel_23516\\2431815014.py:15: RuntimeWarning: divide by zero encountered in double_scalars\n",
      "  quarter_eps.yoy_growth.iloc[i] = (quarter_eps.eps.iloc[i] - quarter_eps.eps.iloc[i+4]) / quarter_eps.eps.iloc[i+4]\n",
      "C:\\Users\\Rain\\AppData\\Local\\Temp\\ipykernel_23516\\2431815014.py:15: RuntimeWarning: invalid value encountered in double_scalars\n",
      "  quarter_eps.yoy_growth.iloc[i] = (quarter_eps.eps.iloc[i] - quarter_eps.eps.iloc[i+4]) / quarter_eps.eps.iloc[i+4]\n",
      "C:\\Users\\Rain\\AppData\\Local\\Temp\\ipykernel_23516\\2431815014.py:15: RuntimeWarning: divide by zero encountered in double_scalars\n",
      "  quarter_eps.yoy_growth.iloc[i] = (quarter_eps.eps.iloc[i] - quarter_eps.eps.iloc[i+4]) / quarter_eps.eps.iloc[i+4]\n"
     ]
    },
    {
     "name": "stdout",
     "output_type": "stream",
     "text": [
      "CIO selected\n",
      "CION not selected\n",
      "CIR not selected\n"
     ]
    },
    {
     "name": "stderr",
     "output_type": "stream",
     "text": [
      "C:\\Users\\Rain\\AppData\\Local\\Temp\\ipykernel_23516\\2431815014.py:15: RuntimeWarning: divide by zero encountered in double_scalars\n",
      "  quarter_eps.yoy_growth.iloc[i] = (quarter_eps.eps.iloc[i] - quarter_eps.eps.iloc[i+4]) / quarter_eps.eps.iloc[i+4]\n",
      "C:\\Users\\Rain\\AppData\\Local\\Temp\\ipykernel_23516\\2431815014.py:19: RuntimeWarning: invalid value encountered in double_scalars\n",
      "  quarter_eps.fixed_yoy_growth.iloc[i] = (quarter_eps.yoy_growth.iloc[i] + quarter_eps.yoy_growth.iloc[i+1]) / 2\n"
     ]
    },
    {
     "name": "stdout",
     "output_type": "stream",
     "text": [
      "CISO selected\n",
      "CITE data not enough\n"
     ]
    },
    {
     "name": "stderr",
     "output_type": "stream",
     "text": [
      "C:\\Users\\Rain\\AppData\\Local\\Temp\\ipykernel_23516\\2431815014.py:15: RuntimeWarning: divide by zero encountered in double_scalars\n",
      "  quarter_eps.yoy_growth.iloc[i] = (quarter_eps.eps.iloc[i] - quarter_eps.eps.iloc[i+4]) / quarter_eps.eps.iloc[i+4]\n",
      "C:\\Users\\Rain\\AppData\\Local\\Temp\\ipykernel_23516\\2431815014.py:15: RuntimeWarning: divide by zero encountered in double_scalars\n",
      "  quarter_eps.yoy_growth.iloc[i] = (quarter_eps.eps.iloc[i] - quarter_eps.eps.iloc[i+4]) / quarter_eps.eps.iloc[i+4]\n",
      "C:\\Users\\Rain\\AppData\\Local\\Temp\\ipykernel_23516\\2431815014.py:19: RuntimeWarning: invalid value encountered in double_scalars\n",
      "  quarter_eps.fixed_yoy_growth.iloc[i] = (quarter_eps.yoy_growth.iloc[i] + quarter_eps.yoy_growth.iloc[i+1]) / 2\n"
     ]
    },
    {
     "name": "stdout",
     "output_type": "stream",
     "text": [
      "CIVB not selected\n",
      "CIVI not selected\n",
      "CIX not selected\n",
      "CIXX not selected\n",
      "CIZN not selected\n",
      "CJJD not selected\n",
      "CKPT not selected\n",
      "CKX not selected"
     ]
    },
    {
     "name": "stderr",
     "output_type": "stream",
     "text": [
      "C:\\Users\\Rain\\AppData\\Local\\Temp\\ipykernel_23516\\2431815014.py:15: RuntimeWarning: divide by zero encountered in double_scalars\n",
      "  quarter_eps.yoy_growth.iloc[i] = (quarter_eps.eps.iloc[i] - quarter_eps.eps.iloc[i+4]) / quarter_eps.eps.iloc[i+4]\n",
      "C:\\Users\\Rain\\AppData\\Local\\Temp\\ipykernel_23516\\2431815014.py:15: RuntimeWarning: divide by zero encountered in double_scalars\n",
      "  quarter_eps.yoy_growth.iloc[i] = (quarter_eps.eps.iloc[i] - quarter_eps.eps.iloc[i+4]) / quarter_eps.eps.iloc[i+4]\n"
     ]
    },
    {
     "name": "stdout",
     "output_type": "stream",
     "text": [
      "\n",
      "CL not selected\n",
      "CLAA data not enough\n",
      "CLAQ not selected\n",
      "CLAR not selected"
     ]
    },
    {
     "name": "stderr",
     "output_type": "stream",
     "text": [
      "C:\\Users\\Rain\\AppData\\Local\\Temp\\ipykernel_23516\\2431815014.py:15: RuntimeWarning: divide by zero encountered in double_scalars\n",
      "  quarter_eps.yoy_growth.iloc[i] = (quarter_eps.eps.iloc[i] - quarter_eps.eps.iloc[i+4]) / quarter_eps.eps.iloc[i+4]\n",
      "C:\\Users\\Rain\\AppData\\Local\\Temp\\ipykernel_23516\\2431815014.py:19: RuntimeWarning: invalid value encountered in double_scalars\n",
      "  quarter_eps.fixed_yoy_growth.iloc[i] = (quarter_eps.yoy_growth.iloc[i] + quarter_eps.yoy_growth.iloc[i+1]) / 2\n",
      "C:\\Users\\Rain\\AppData\\Local\\Temp\\ipykernel_23516\\2431815014.py:15: RuntimeWarning: divide by zero encountered in double_scalars\n",
      "  quarter_eps.yoy_growth.iloc[i] = (quarter_eps.eps.iloc[i] - quarter_eps.eps.iloc[i+4]) / quarter_eps.eps.iloc[i+4]\n",
      "C:\\Users\\Rain\\AppData\\Local\\Temp\\ipykernel_23516\\2431815014.py:15: RuntimeWarning: divide by zero encountered in double_scalars\n",
      "  quarter_eps.yoy_growth.iloc[i] = (quarter_eps.eps.iloc[i] - quarter_eps.eps.iloc[i+4]) / quarter_eps.eps.iloc[i+4]\n",
      "C:\\Users\\Rain\\AppData\\Local\\Temp\\ipykernel_23516\\2431815014.py:19: RuntimeWarning: invalid value encountered in double_scalars\n",
      "  quarter_eps.fixed_yoy_growth.iloc[i] = (quarter_eps.yoy_growth.iloc[i] + quarter_eps.yoy_growth.iloc[i+1]) / 2\n"
     ]
    },
    {
     "name": "stdout",
     "output_type": "stream",
     "text": [
      "\n",
      "CLAS not selected\n",
      "CLAY data not enough\n",
      "CLB not selected\n",
      "CLBK not selected\n",
      "CLBR data not enough\n"
     ]
    },
    {
     "name": "stderr",
     "output_type": "stream",
     "text": [
      "C:\\Users\\Rain\\AppData\\Local\\Temp\\ipykernel_23516\\2431815014.py:15: RuntimeWarning: divide by zero encountered in double_scalars\n",
      "  quarter_eps.yoy_growth.iloc[i] = (quarter_eps.eps.iloc[i] - quarter_eps.eps.iloc[i+4]) / quarter_eps.eps.iloc[i+4]\n",
      "C:\\Users\\Rain\\AppData\\Local\\Temp\\ipykernel_23516\\2431815014.py:15: RuntimeWarning: invalid value encountered in double_scalars\n",
      "  quarter_eps.yoy_growth.iloc[i] = (quarter_eps.eps.iloc[i] - quarter_eps.eps.iloc[i+4]) / quarter_eps.eps.iloc[i+4]\n",
      "C:\\Users\\Rain\\AppData\\Local\\Temp\\ipykernel_23516\\2431815014.py:19: RuntimeWarning: invalid value encountered in double_scalars\n",
      "  quarter_eps.fixed_yoy_growth.iloc[i] = (quarter_eps.yoy_growth.iloc[i] + quarter_eps.yoy_growth.iloc[i+1]) / 2\n"
     ]
    },
    {
     "name": "stdout",
     "output_type": "stream",
     "text": [
      "CLBS not selected\n",
      "CLBT selected\n"
     ]
    },
    {
     "name": "stderr",
     "output_type": "stream",
     "text": [
      "C:\\Users\\Rain\\AppData\\Local\\Temp\\ipykernel_23516\\2431815014.py:15: RuntimeWarning: divide by zero encountered in double_scalars\n",
      "  quarter_eps.yoy_growth.iloc[i] = (quarter_eps.eps.iloc[i] - quarter_eps.eps.iloc[i+4]) / quarter_eps.eps.iloc[i+4]\n",
      "C:\\Users\\Rain\\AppData\\Local\\Temp\\ipykernel_23516\\2431815014.py:15: RuntimeWarning: divide by zero encountered in double_scalars\n",
      "  quarter_eps.yoy_growth.iloc[i] = (quarter_eps.eps.iloc[i] - quarter_eps.eps.iloc[i+4]) / quarter_eps.eps.iloc[i+4]\n",
      "C:\\Users\\Rain\\AppData\\Local\\Temp\\ipykernel_23516\\2431815014.py:15: RuntimeWarning: invalid value encountered in double_scalars\n",
      "  quarter_eps.yoy_growth.iloc[i] = (quarter_eps.eps.iloc[i] - quarter_eps.eps.iloc[i+4]) / quarter_eps.eps.iloc[i+4]\n"
     ]
    },
    {
     "name": "stdout",
     "output_type": "stream",
     "text": [
      "CLDT not selected\n",
      "CLDX selected\n",
      "CLEU data not enough\n",
      "CLF selected\n",
      "CLFD selected\n",
      "CLGN not selected\n",
      "CLH selected\n",
      "CLIM not selected\n",
      "CLIN data not enough\n"
     ]
    },
    {
     "name": "stderr",
     "output_type": "stream",
     "text": [
      "C:\\Users\\Rain\\AppData\\Local\\Temp\\ipykernel_23516\\2431815014.py:15: RuntimeWarning: divide by zero encountered in double_scalars\n",
      "  quarter_eps.yoy_growth.iloc[i] = (quarter_eps.eps.iloc[i] - quarter_eps.eps.iloc[i+4]) / quarter_eps.eps.iloc[i+4]\n"
     ]
    },
    {
     "name": "stdout",
     "output_type": "stream",
     "text": [
      "CLIR not selected\n",
      "CLLS not selected\n"
     ]
    },
    {
     "name": "stderr",
     "output_type": "stream",
     "text": [
      "C:\\Users\\Rain\\AppData\\Local\\Temp\\ipykernel_23516\\2431815014.py:15: RuntimeWarning: divide by zero encountered in double_scalars\n",
      "  quarter_eps.yoy_growth.iloc[i] = (quarter_eps.eps.iloc[i] - quarter_eps.eps.iloc[i+4]) / quarter_eps.eps.iloc[i+4]\n",
      "C:\\Users\\Rain\\AppData\\Local\\Temp\\ipykernel_23516\\2431815014.py:15: RuntimeWarning: divide by zero encountered in double_scalars\n",
      "  quarter_eps.yoy_growth.iloc[i] = (quarter_eps.eps.iloc[i] - quarter_eps.eps.iloc[i+4]) / quarter_eps.eps.iloc[i+4]\n"
     ]
    },
    {
     "name": "stdout",
     "output_type": "stream",
     "text": [
      "CLMT not selected\n",
      "CLNE not selected\n"
     ]
    },
    {
     "name": "stderr",
     "output_type": "stream",
     "text": [
      "C:\\Users\\Rain\\AppData\\Local\\Temp\\ipykernel_23516\\2431815014.py:15: RuntimeWarning: divide by zero encountered in double_scalars\n",
      "  quarter_eps.yoy_growth.iloc[i] = (quarter_eps.eps.iloc[i] - quarter_eps.eps.iloc[i+4]) / quarter_eps.eps.iloc[i+4]\n"
     ]
    },
    {
     "name": "stdout",
     "output_type": "stream",
     "text": [
      "CLNN not selected\n",
      "CLOE data not enough\n"
     ]
    },
    {
     "name": "stderr",
     "output_type": "stream",
     "text": [
      "C:\\Users\\Rain\\AppData\\Local\\Temp\\ipykernel_23516\\2431815014.py:15: RuntimeWarning: divide by zero encountered in double_scalars\n",
      "  quarter_eps.yoy_growth.iloc[i] = (quarter_eps.eps.iloc[i] - quarter_eps.eps.iloc[i+4]) / quarter_eps.eps.iloc[i+4]\n",
      "C:\\Users\\Rain\\AppData\\Local\\Temp\\ipykernel_23516\\2431815014.py:15: RuntimeWarning: divide by zero encountered in double_scalars\n",
      "  quarter_eps.yoy_growth.iloc[i] = (quarter_eps.eps.iloc[i] - quarter_eps.eps.iloc[i+4]) / quarter_eps.eps.iloc[i+4]\n"
     ]
    },
    {
     "name": "stdout",
     "output_type": "stream",
     "text": [
      "CLOV not selected\n",
      "CLPR not selected\n"
     ]
    },
    {
     "name": "stderr",
     "output_type": "stream",
     "text": [
      "C:\\Users\\Rain\\AppData\\Local\\Temp\\ipykernel_23516\\2431815014.py:15: RuntimeWarning: invalid value encountered in double_scalars\n",
      "  quarter_eps.yoy_growth.iloc[i] = (quarter_eps.eps.iloc[i] - quarter_eps.eps.iloc[i+4]) / quarter_eps.eps.iloc[i+4]\n",
      "C:\\Users\\Rain\\AppData\\Local\\Temp\\ipykernel_23516\\2431815014.py:15: RuntimeWarning: divide by zero encountered in double_scalars\n",
      "  quarter_eps.yoy_growth.iloc[i] = (quarter_eps.eps.iloc[i] - quarter_eps.eps.iloc[i+4]) / quarter_eps.eps.iloc[i+4]\n"
     ]
    },
    {
     "name": "stdout",
     "output_type": "stream",
     "text": [
      "CLPS not selected\n",
      "CLPT not selected\n"
     ]
    },
    {
     "name": "stderr",
     "output_type": "stream",
     "text": [
      "C:\\Users\\Rain\\AppData\\Local\\Temp\\ipykernel_23516\\2431815014.py:15: RuntimeWarning: divide by zero encountered in double_scalars\n",
      "  quarter_eps.yoy_growth.iloc[i] = (quarter_eps.eps.iloc[i] - quarter_eps.eps.iloc[i+4]) / quarter_eps.eps.iloc[i+4]\n"
     ]
    },
    {
     "name": "stdout",
     "output_type": "stream",
     "text": [
      "CLR selected\n",
      "CLRB not exsit\n",
      "CLRC data not enough\n"
     ]
    },
    {
     "name": "stderr",
     "output_type": "stream",
     "text": [
      "C:\\Users\\Rain\\AppData\\Local\\Temp\\ipykernel_23516\\2431815014.py:15: RuntimeWarning: divide by zero encountered in double_scalars\n",
      "  quarter_eps.yoy_growth.iloc[i] = (quarter_eps.eps.iloc[i] - quarter_eps.eps.iloc[i+4]) / quarter_eps.eps.iloc[i+4]\n",
      "C:\\Users\\Rain\\AppData\\Local\\Temp\\ipykernel_23516\\2431815014.py:15: RuntimeWarning: divide by zero encountered in double_scalars\n",
      "  quarter_eps.yoy_growth.iloc[i] = (quarter_eps.eps.iloc[i] - quarter_eps.eps.iloc[i+4]) / quarter_eps.eps.iloc[i+4]\n"
     ]
    },
    {
     "name": "stdout",
     "output_type": "stream",
     "text": [
      "CLRM not selected\n",
      "CLRO not selected\n"
     ]
    },
    {
     "name": "stderr",
     "output_type": "stream",
     "text": [
      "C:\\Users\\Rain\\AppData\\Local\\Temp\\ipykernel_23516\\2431815014.py:15: RuntimeWarning: divide by zero encountered in double_scalars\n",
      "  quarter_eps.yoy_growth.iloc[i] = (quarter_eps.eps.iloc[i] - quarter_eps.eps.iloc[i+4]) / quarter_eps.eps.iloc[i+4]\n",
      "C:\\Users\\Rain\\AppData\\Local\\Temp\\ipykernel_23516\\2431815014.py:15: RuntimeWarning: divide by zero encountered in double_scalars\n",
      "  quarter_eps.yoy_growth.iloc[i] = (quarter_eps.eps.iloc[i] - quarter_eps.eps.iloc[i+4]) / quarter_eps.eps.iloc[i+4]\n"
     ]
    },
    {
     "name": "stdout",
     "output_type": "stream",
     "text": [
      "CLS not selected\n",
      "CLSD not selected\n"
     ]
    },
    {
     "name": "stderr",
     "output_type": "stream",
     "text": [
      "C:\\Users\\Rain\\AppData\\Local\\Temp\\ipykernel_23516\\2431815014.py:15: RuntimeWarning: divide by zero encountered in double_scalars\n",
      "  quarter_eps.yoy_growth.iloc[i] = (quarter_eps.eps.iloc[i] - quarter_eps.eps.iloc[i+4]) / quarter_eps.eps.iloc[i+4]\n",
      "C:\\Users\\Rain\\AppData\\Local\\Temp\\ipykernel_23516\\2431815014.py:15: RuntimeWarning: divide by zero encountered in double_scalars\n",
      "  quarter_eps.yoy_growth.iloc[i] = (quarter_eps.eps.iloc[i] - quarter_eps.eps.iloc[i+4]) / quarter_eps.eps.iloc[i+4]\n",
      "C:\\Users\\Rain\\AppData\\Local\\Temp\\ipykernel_23516\\2431815014.py:15: RuntimeWarning: invalid value encountered in double_scalars\n",
      "  quarter_eps.yoy_growth.iloc[i] = (quarter_eps.eps.iloc[i] - quarter_eps.eps.iloc[i+4]) / quarter_eps.eps.iloc[i+4]\n"
     ]
    },
    {
     "name": "stdout",
     "output_type": "stream",
     "text": [
      "CLSK not selected\n",
      "CLSN not exsit\n",
      "CLST selected\n"
     ]
    },
    {
     "name": "stderr",
     "output_type": "stream",
     "text": [
      "C:\\Users\\Rain\\AppData\\Local\\Temp\\ipykernel_23516\\2431815014.py:15: RuntimeWarning: divide by zero encountered in double_scalars\n",
      "  quarter_eps.yoy_growth.iloc[i] = (quarter_eps.eps.iloc[i] - quarter_eps.eps.iloc[i+4]) / quarter_eps.eps.iloc[i+4]\n",
      "C:\\Users\\Rain\\AppData\\Local\\Temp\\ipykernel_23516\\2431815014.py:15: RuntimeWarning: divide by zero encountered in double_scalars\n",
      "  quarter_eps.yoy_growth.iloc[i] = (quarter_eps.eps.iloc[i] - quarter_eps.eps.iloc[i+4]) / quarter_eps.eps.iloc[i+4]\n",
      "C:\\Users\\Rain\\AppData\\Local\\Temp\\ipykernel_23516\\2431815014.py:15: RuntimeWarning: divide by zero encountered in double_scalars\n",
      "  quarter_eps.yoy_growth.iloc[i] = (quarter_eps.eps.iloc[i] - quarter_eps.eps.iloc[i+4]) / quarter_eps.eps.iloc[i+4]\n"
     ]
    },
    {
     "name": "stdout",
     "output_type": "stream",
     "text": [
      "CLVR not selected\n",
      "CLVS not selected\n",
      "CLVT not selected\n",
      "CLW not selected\n",
      "CLWT not selected\n",
      "CLX not selected\n"
     ]
    },
    {
     "name": "stderr",
     "output_type": "stream",
     "text": [
      "C:\\Users\\Rain\\AppData\\Local\\Temp\\ipykernel_23516\\2431815014.py:15: RuntimeWarning: invalid value encountered in double_scalars\n",
      "  quarter_eps.yoy_growth.iloc[i] = (quarter_eps.eps.iloc[i] - quarter_eps.eps.iloc[i+4]) / quarter_eps.eps.iloc[i+4]\n",
      "C:\\Users\\Rain\\AppData\\Local\\Temp\\ipykernel_23516\\2431815014.py:15: RuntimeWarning: divide by zero encountered in double_scalars\n",
      "  quarter_eps.yoy_growth.iloc[i] = (quarter_eps.eps.iloc[i] - quarter_eps.eps.iloc[i+4]) / quarter_eps.eps.iloc[i+4]\n",
      "C:\\Users\\Rain\\AppData\\Local\\Temp\\ipykernel_23516\\2431815014.py:15: RuntimeWarning: divide by zero encountered in double_scalars\n",
      "  quarter_eps.yoy_growth.iloc[i] = (quarter_eps.eps.iloc[i] - quarter_eps.eps.iloc[i+4]) / quarter_eps.eps.iloc[i+4]\n"
     ]
    },
    {
     "name": "stdout",
     "output_type": "stream",
     "text": [
      "CLXT not selected\n",
      "CM not selected\n",
      "CMA not selected\n",
      "CMAX not selected\n"
     ]
    },
    {
     "name": "stderr",
     "output_type": "stream",
     "text": [
      "C:\\Users\\Rain\\AppData\\Local\\Temp\\ipykernel_23516\\2431815014.py:15: RuntimeWarning: divide by zero encountered in double_scalars\n",
      "  quarter_eps.yoy_growth.iloc[i] = (quarter_eps.eps.iloc[i] - quarter_eps.eps.iloc[i+4]) / quarter_eps.eps.iloc[i+4]\n",
      "C:\\Users\\Rain\\AppData\\Local\\Temp\\ipykernel_23516\\2431815014.py:15: RuntimeWarning: divide by zero encountered in double_scalars\n",
      "  quarter_eps.yoy_growth.iloc[i] = (quarter_eps.eps.iloc[i] - quarter_eps.eps.iloc[i+4]) / quarter_eps.eps.iloc[i+4]\n",
      "C:\\Users\\Rain\\AppData\\Local\\Temp\\ipykernel_23516\\2431815014.py:15: RuntimeWarning: divide by zero encountered in double_scalars\n",
      "  quarter_eps.yoy_growth.iloc[i] = (quarter_eps.eps.iloc[i] - quarter_eps.eps.iloc[i+4]) / quarter_eps.eps.iloc[i+4]\n"
     ]
    },
    {
     "name": "stdout",
     "output_type": "stream",
     "text": [
      "CMBM not selected\n",
      "CMC selected\n",
      "CMCA data not enough\n",
      "CMCL selected\n",
      "CMCM not selected"
     ]
    },
    {
     "name": "stderr",
     "output_type": "stream",
     "text": [
      "C:\\Users\\Rain\\AppData\\Local\\Temp\\ipykernel_23516\\2431815014.py:15: RuntimeWarning: divide by zero encountered in double_scalars\n",
      "  quarter_eps.yoy_growth.iloc[i] = (quarter_eps.eps.iloc[i] - quarter_eps.eps.iloc[i+4]) / quarter_eps.eps.iloc[i+4]\n",
      "C:\\Users\\Rain\\AppData\\Local\\Temp\\ipykernel_23516\\2431815014.py:15: RuntimeWarning: divide by zero encountered in double_scalars\n",
      "  quarter_eps.yoy_growth.iloc[i] = (quarter_eps.eps.iloc[i] - quarter_eps.eps.iloc[i+4]) / quarter_eps.eps.iloc[i+4]\n"
     ]
    },
    {
     "name": "stdout",
     "output_type": "stream",
     "text": [
      "\n",
      "CMCO not selected\n"
     ]
    },
    {
     "name": "stderr",
     "output_type": "stream",
     "text": [
      "C:\\Users\\Rain\\AppData\\Local\\Temp\\ipykernel_23516\\2431815014.py:15: RuntimeWarning: divide by zero encountered in double_scalars\n",
      "  quarter_eps.yoy_growth.iloc[i] = (quarter_eps.eps.iloc[i] - quarter_eps.eps.iloc[i+4]) / quarter_eps.eps.iloc[i+4]\n"
     ]
    },
    {
     "name": "stdout",
     "output_type": "stream",
     "text": [
      "CMCSA not selected\n",
      "CMCT not selected\n",
      "CME not selected\n",
      "CMG not selected\n",
      "CMI not selected\n",
      "CMLS not selected\n"
     ]
    },
    {
     "name": "stderr",
     "output_type": "stream",
     "text": [
      "C:\\Users\\Rain\\AppData\\Local\\Temp\\ipykernel_23516\\2431815014.py:15: RuntimeWarning: divide by zero encountered in double_scalars\n",
      "  quarter_eps.yoy_growth.iloc[i] = (quarter_eps.eps.iloc[i] - quarter_eps.eps.iloc[i+4]) / quarter_eps.eps.iloc[i+4]\n",
      "C:\\Users\\Rain\\AppData\\Local\\Temp\\ipykernel_23516\\2431815014.py:15: RuntimeWarning: invalid value encountered in double_scalars\n",
      "  quarter_eps.yoy_growth.iloc[i] = (quarter_eps.eps.iloc[i] - quarter_eps.eps.iloc[i+4]) / quarter_eps.eps.iloc[i+4]\n",
      "C:\\Users\\Rain\\AppData\\Local\\Temp\\ipykernel_23516\\2431815014.py:15: RuntimeWarning: divide by zero encountered in double_scalars\n",
      "  quarter_eps.yoy_growth.iloc[i] = (quarter_eps.eps.iloc[i] - quarter_eps.eps.iloc[i+4]) / quarter_eps.eps.iloc[i+4]\n",
      "C:\\Users\\Rain\\AppData\\Local\\Temp\\ipykernel_23516\\2431815014.py:15: RuntimeWarning: invalid value encountered in double_scalars\n",
      "  quarter_eps.yoy_growth.iloc[i] = (quarter_eps.eps.iloc[i] - quarter_eps.eps.iloc[i+4]) / quarter_eps.eps.iloc[i+4]\n"
     ]
    },
    {
     "name": "stdout",
     "output_type": "stream",
     "text": [
      "CMMB selected\n",
      "CMP not selected\n"
     ]
    },
    {
     "name": "stderr",
     "output_type": "stream",
     "text": [
      "C:\\Users\\Rain\\AppData\\Local\\Temp\\ipykernel_23516\\2431815014.py:15: RuntimeWarning: divide by zero encountered in double_scalars\n",
      "  quarter_eps.yoy_growth.iloc[i] = (quarter_eps.eps.iloc[i] - quarter_eps.eps.iloc[i+4]) / quarter_eps.eps.iloc[i+4]\n",
      "C:\\Users\\Rain\\AppData\\Local\\Temp\\ipykernel_23516\\2431815014.py:15: RuntimeWarning: invalid value encountered in double_scalars\n",
      "  quarter_eps.yoy_growth.iloc[i] = (quarter_eps.eps.iloc[i] - quarter_eps.eps.iloc[i+4]) / quarter_eps.eps.iloc[i+4]\n"
     ]
    },
    {
     "name": "stdout",
     "output_type": "stream",
     "text": [
      "CMPO selected\n",
      "CMPR not selected\n"
     ]
    },
    {
     "name": "stderr",
     "output_type": "stream",
     "text": [
      "C:\\Users\\Rain\\AppData\\Local\\Temp\\ipykernel_23516\\2431815014.py:15: RuntimeWarning: divide by zero encountered in double_scalars\n",
      "  quarter_eps.yoy_growth.iloc[i] = (quarter_eps.eps.iloc[i] - quarter_eps.eps.iloc[i+4]) / quarter_eps.eps.iloc[i+4]\n",
      "C:\\Users\\Rain\\AppData\\Local\\Temp\\ipykernel_23516\\2431815014.py:15: RuntimeWarning: invalid value encountered in double_scalars\n",
      "  quarter_eps.yoy_growth.iloc[i] = (quarter_eps.eps.iloc[i] - quarter_eps.eps.iloc[i+4]) / quarter_eps.eps.iloc[i+4]\n",
      "C:\\Users\\Rain\\AppData\\Local\\Temp\\ipykernel_23516\\2431815014.py:15: RuntimeWarning: divide by zero encountered in double_scalars\n",
      "  quarter_eps.yoy_growth.iloc[i] = (quarter_eps.eps.iloc[i] - quarter_eps.eps.iloc[i+4]) / quarter_eps.eps.iloc[i+4]\n",
      "C:\\Users\\Rain\\AppData\\Local\\Temp\\ipykernel_23516\\2431815014.py:15: RuntimeWarning: invalid value encountered in double_scalars\n",
      "  quarter_eps.yoy_growth.iloc[i] = (quarter_eps.eps.iloc[i] - quarter_eps.eps.iloc[i+4]) / quarter_eps.eps.iloc[i+4]\n",
      "C:\\Users\\Rain\\AppData\\Local\\Temp\\ipykernel_23516\\2431815014.py:15: RuntimeWarning: divide by zero encountered in double_scalars\n",
      "  quarter_eps.yoy_growth.iloc[i] = (quarter_eps.eps.iloc[i] - quarter_eps.eps.iloc[i+4]) / quarter_eps.eps.iloc[i+4]\n",
      "C:\\Users\\Rain\\AppData\\Local\\Temp\\ipykernel_23516\\2431815014.py:15: RuntimeWarning: divide by zero encountered in double_scalars\n",
      "  quarter_eps.yoy_growth.iloc[i] = (quarter_eps.eps.iloc[i] - quarter_eps.eps.iloc[i+4]) / quarter_eps.eps.iloc[i+4]\n"
     ]
    },
    {
     "name": "stdout",
     "output_type": "stream",
     "text": [
      "CMPS not selected\n",
      "CMPX not selected\n",
      "CMRA not selected\n",
      "CMRE not selected"
     ]
    },
    {
     "name": "stderr",
     "output_type": "stream",
     "text": [
      "C:\\Users\\Rain\\AppData\\Local\\Temp\\ipykernel_23516\\2431815014.py:15: RuntimeWarning: divide by zero encountered in double_scalars\n",
      "  quarter_eps.yoy_growth.iloc[i] = (quarter_eps.eps.iloc[i] - quarter_eps.eps.iloc[i+4]) / quarter_eps.eps.iloc[i+4]\n",
      "C:\\Users\\Rain\\AppData\\Local\\Temp\\ipykernel_23516\\2431815014.py:19: RuntimeWarning: invalid value encountered in double_scalars\n",
      "  quarter_eps.fixed_yoy_growth.iloc[i] = (quarter_eps.yoy_growth.iloc[i] + quarter_eps.yoy_growth.iloc[i+1]) / 2\n"
     ]
    },
    {
     "name": "stdout",
     "output_type": "stream",
     "text": [
      "\n",
      "CMRX not selected\n",
      "CMS not selected\n"
     ]
    },
    {
     "name": "stderr",
     "output_type": "stream",
     "text": [
      "C:\\Users\\Rain\\AppData\\Local\\Temp\\ipykernel_23516\\2431815014.py:15: RuntimeWarning: divide by zero encountered in double_scalars\n",
      "  quarter_eps.yoy_growth.iloc[i] = (quarter_eps.eps.iloc[i] - quarter_eps.eps.iloc[i+4]) / quarter_eps.eps.iloc[i+4]\n"
     ]
    },
    {
     "name": "stdout",
     "output_type": "stream",
     "text": [
      "CMT not selected\n",
      "CMTG not selected\n",
      "CMTL not selected\n",
      "CNA not selected\n",
      "CNC not selected\n",
      "CNCE not selected\n"
     ]
    },
    {
     "name": "stderr",
     "output_type": "stream",
     "text": [
      "C:\\Users\\Rain\\AppData\\Local\\Temp\\ipykernel_23516\\2431815014.py:15: RuntimeWarning: divide by zero encountered in double_scalars\n",
      "  quarter_eps.yoy_growth.iloc[i] = (quarter_eps.eps.iloc[i] - quarter_eps.eps.iloc[i+4]) / quarter_eps.eps.iloc[i+4]\n",
      "C:\\Users\\Rain\\AppData\\Local\\Temp\\ipykernel_23516\\2431815014.py:15: RuntimeWarning: divide by zero encountered in double_scalars\n",
      "  quarter_eps.yoy_growth.iloc[i] = (quarter_eps.eps.iloc[i] - quarter_eps.eps.iloc[i+4]) / quarter_eps.eps.iloc[i+4]\n"
     ]
    },
    {
     "name": "stdout",
     "output_type": "stream",
     "text": [
      "CND not selected\n",
      "CNDA data not enough\n",
      "CNDB data not enough\n"
     ]
    },
    {
     "name": "stderr",
     "output_type": "stream",
     "text": [
      "C:\\Users\\Rain\\AppData\\Local\\Temp\\ipykernel_23516\\2431815014.py:15: RuntimeWarning: divide by zero encountered in double_scalars\n",
      "  quarter_eps.yoy_growth.iloc[i] = (quarter_eps.eps.iloc[i] - quarter_eps.eps.iloc[i+4]) / quarter_eps.eps.iloc[i+4]\n",
      "C:\\Users\\Rain\\AppData\\Local\\Temp\\ipykernel_23516\\2431815014.py:15: RuntimeWarning: invalid value encountered in double_scalars\n",
      "  quarter_eps.yoy_growth.iloc[i] = (quarter_eps.eps.iloc[i] - quarter_eps.eps.iloc[i+4]) / quarter_eps.eps.iloc[i+4]\n",
      "C:\\Users\\Rain\\AppData\\Local\\Temp\\ipykernel_23516\\2431815014.py:19: RuntimeWarning: invalid value encountered in double_scalars\n",
      "  quarter_eps.fixed_yoy_growth.iloc[i] = (quarter_eps.yoy_growth.iloc[i] + quarter_eps.yoy_growth.iloc[i+1]) / 2\n",
      "C:\\Users\\Rain\\AppData\\Local\\Temp\\ipykernel_23516\\2431815014.py:15: RuntimeWarning: divide by zero encountered in double_scalars\n",
      "  quarter_eps.yoy_growth.iloc[i] = (quarter_eps.eps.iloc[i] - quarter_eps.eps.iloc[i+4]) / quarter_eps.eps.iloc[i+4]\n"
     ]
    },
    {
     "name": "stdout",
     "output_type": "stream",
     "text": [
      "CNDT not selected\n",
      "CNET not selected\n",
      "CNEY data not enough\n",
      "CNF not selected\n",
      "CNFR not selected\n"
     ]
    },
    {
     "name": "stderr",
     "output_type": "stream",
     "text": [
      "C:\\Users\\Rain\\AppData\\Local\\Temp\\ipykernel_23516\\2431815014.py:15: RuntimeWarning: divide by zero encountered in double_scalars\n",
      "  quarter_eps.yoy_growth.iloc[i] = (quarter_eps.eps.iloc[i] - quarter_eps.eps.iloc[i+4]) / quarter_eps.eps.iloc[i+4]\n"
     ]
    },
    {
     "name": "stdout",
     "output_type": "stream",
     "text": [
      "CNGL data not enough\n",
      "CNHI not selected\n"
     ]
    },
    {
     "name": "stderr",
     "output_type": "stream",
     "text": [
      "C:\\Users\\Rain\\AppData\\Local\\Temp\\ipykernel_23516\\2431815014.py:15: RuntimeWarning: divide by zero encountered in double_scalars\n",
      "  quarter_eps.yoy_growth.iloc[i] = (quarter_eps.eps.iloc[i] - quarter_eps.eps.iloc[i+4]) / quarter_eps.eps.iloc[i+4]\n"
     ]
    },
    {
     "name": "stdout",
     "output_type": "stream",
     "text": [
      "CNI not selected\n",
      "CNK not selected\n"
     ]
    },
    {
     "name": "stderr",
     "output_type": "stream",
     "text": [
      "C:\\Users\\Rain\\AppData\\Local\\Temp\\ipykernel_23516\\2431815014.py:15: RuntimeWarning: divide by zero encountered in double_scalars\n",
      "  quarter_eps.yoy_growth.iloc[i] = (quarter_eps.eps.iloc[i] - quarter_eps.eps.iloc[i+4]) / quarter_eps.eps.iloc[i+4]\n",
      "C:\\Users\\Rain\\AppData\\Local\\Temp\\ipykernel_23516\\2431815014.py:15: RuntimeWarning: invalid value encountered in double_scalars\n",
      "  quarter_eps.yoy_growth.iloc[i] = (quarter_eps.eps.iloc[i] - quarter_eps.eps.iloc[i+4]) / quarter_eps.eps.iloc[i+4]\n",
      "C:\\Users\\Rain\\AppData\\Local\\Temp\\ipykernel_23516\\2431815014.py:19: RuntimeWarning: invalid value encountered in double_scalars\n",
      "  quarter_eps.fixed_yoy_growth.iloc[i] = (quarter_eps.yoy_growth.iloc[i] + quarter_eps.yoy_growth.iloc[i+1]) / 2\n"
     ]
    },
    {
     "name": "stdout",
     "output_type": "stream",
     "text": [
      "CNM selected\n",
      "CNMD not selected\n"
     ]
    },
    {
     "name": "stderr",
     "output_type": "stream",
     "text": [
      "C:\\Users\\Rain\\AppData\\Local\\Temp\\ipykernel_23516\\2431815014.py:15: RuntimeWarning: divide by zero encountered in double_scalars\n",
      "  quarter_eps.yoy_growth.iloc[i] = (quarter_eps.eps.iloc[i] - quarter_eps.eps.iloc[i+4]) / quarter_eps.eps.iloc[i+4]\n",
      "C:\\Users\\Rain\\AppData\\Local\\Temp\\ipykernel_23516\\2431815014.py:19: RuntimeWarning: invalid value encountered in double_scalars\n",
      "  quarter_eps.fixed_yoy_growth.iloc[i] = (quarter_eps.yoy_growth.iloc[i] + quarter_eps.yoy_growth.iloc[i+1]) / 2\n",
      "C:\\Users\\Rain\\AppData\\Local\\Temp\\ipykernel_23516\\2431815014.py:15: RuntimeWarning: divide by zero encountered in double_scalars\n",
      "  quarter_eps.yoy_growth.iloc[i] = (quarter_eps.eps.iloc[i] - quarter_eps.eps.iloc[i+4]) / quarter_eps.eps.iloc[i+4]\n",
      "C:\\Users\\Rain\\AppData\\Local\\Temp\\ipykernel_23516\\2431815014.py:15: RuntimeWarning: invalid value encountered in double_scalars\n",
      "  quarter_eps.yoy_growth.iloc[i] = (quarter_eps.eps.iloc[i] - quarter_eps.eps.iloc[i+4]) / quarter_eps.eps.iloc[i+4]\n",
      "C:\\Users\\Rain\\AppData\\Local\\Temp\\ipykernel_23516\\2431815014.py:19: RuntimeWarning: invalid value encountered in double_scalars\n",
      "  quarter_eps.fixed_yoy_growth.iloc[i] = (quarter_eps.yoy_growth.iloc[i] + quarter_eps.yoy_growth.iloc[i+1]) / 2\n"
     ]
    },
    {
     "name": "stdout",
     "output_type": "stream",
     "text": [
      "CNNB not selected\n",
      "CNNE not selected\n",
      "CNO not selected\n",
      "CNOB not selected\n"
     ]
    },
    {
     "name": "stderr",
     "output_type": "stream",
     "text": [
      "C:\\Users\\Rain\\AppData\\Local\\Temp\\ipykernel_23516\\2431815014.py:15: RuntimeWarning: divide by zero encountered in double_scalars\n",
      "  quarter_eps.yoy_growth.iloc[i] = (quarter_eps.eps.iloc[i] - quarter_eps.eps.iloc[i+4]) / quarter_eps.eps.iloc[i+4]\n"
     ]
    },
    {
     "name": "stdout",
     "output_type": "stream",
     "text": [
      "CNP not selected\n",
      "CNQ selected\n",
      "CNS not selected\n",
      "CNSL not selected\n",
      "CNSP not selected"
     ]
    },
    {
     "name": "stderr",
     "output_type": "stream",
     "text": [
      "C:\\Users\\Rain\\AppData\\Local\\Temp\\ipykernel_23516\\2431815014.py:15: RuntimeWarning: divide by zero encountered in double_scalars\n",
      "  quarter_eps.yoy_growth.iloc[i] = (quarter_eps.eps.iloc[i] - quarter_eps.eps.iloc[i+4]) / quarter_eps.eps.iloc[i+4]\n",
      "C:\\Users\\Rain\\AppData\\Local\\Temp\\ipykernel_23516\\2431815014.py:15: RuntimeWarning: divide by zero encountered in double_scalars\n",
      "  quarter_eps.yoy_growth.iloc[i] = (quarter_eps.eps.iloc[i] - quarter_eps.eps.iloc[i+4]) / quarter_eps.eps.iloc[i+4]\n",
      "C:\\Users\\Rain\\AppData\\Local\\Temp\\ipykernel_23516\\2431815014.py:15: RuntimeWarning: divide by zero encountered in double_scalars\n",
      "  quarter_eps.yoy_growth.iloc[i] = (quarter_eps.eps.iloc[i] - quarter_eps.eps.iloc[i+4]) / quarter_eps.eps.iloc[i+4]\n"
     ]
    },
    {
     "name": "stdout",
     "output_type": "stream",
     "text": [
      "\n",
      "CNTA not selected\n",
      "CNTB data not enough\n",
      "CNTG not selected\n"
     ]
    },
    {
     "name": "stderr",
     "output_type": "stream",
     "text": [
      "C:\\Users\\Rain\\AppData\\Local\\Temp\\ipykernel_23516\\2431815014.py:15: RuntimeWarning: divide by zero encountered in double_scalars\n",
      "  quarter_eps.yoy_growth.iloc[i] = (quarter_eps.eps.iloc[i] - quarter_eps.eps.iloc[i+4]) / quarter_eps.eps.iloc[i+4]\n",
      "C:\\Users\\Rain\\AppData\\Local\\Temp\\ipykernel_23516\\2431815014.py:15: RuntimeWarning: divide by zero encountered in double_scalars\n",
      "  quarter_eps.yoy_growth.iloc[i] = (quarter_eps.eps.iloc[i] - quarter_eps.eps.iloc[i+4]) / quarter_eps.eps.iloc[i+4]\n",
      "C:\\Users\\Rain\\AppData\\Local\\Temp\\ipykernel_23516\\2431815014.py:19: RuntimeWarning: invalid value encountered in double_scalars\n",
      "  quarter_eps.fixed_yoy_growth.iloc[i] = (quarter_eps.yoy_growth.iloc[i] + quarter_eps.yoy_growth.iloc[i+1]) / 2\n"
     ]
    },
    {
     "name": "stdout",
     "output_type": "stream",
     "text": [
      "CNTQ not selected\n",
      "CNTX not selected\n",
      "CNTY not selected"
     ]
    },
    {
     "name": "stderr",
     "output_type": "stream",
     "text": [
      "C:\\Users\\Rain\\AppData\\Local\\Temp\\ipykernel_23516\\2431815014.py:15: RuntimeWarning: divide by zero encountered in double_scalars\n",
      "  quarter_eps.yoy_growth.iloc[i] = (quarter_eps.eps.iloc[i] - quarter_eps.eps.iloc[i+4]) / quarter_eps.eps.iloc[i+4]\n",
      "C:\\Users\\Rain\\AppData\\Local\\Temp\\ipykernel_23516\\2431815014.py:15: RuntimeWarning: divide by zero encountered in double_scalars\n",
      "  quarter_eps.yoy_growth.iloc[i] = (quarter_eps.eps.iloc[i] - quarter_eps.eps.iloc[i+4]) / quarter_eps.eps.iloc[i+4]\n"
     ]
    },
    {
     "name": "stdout",
     "output_type": "stream",
     "text": [
      "\n",
      "CNVY not selected\n"
     ]
    },
    {
     "name": "stderr",
     "output_type": "stream",
     "text": [
      "C:\\Users\\Rain\\AppData\\Local\\Temp\\ipykernel_23516\\2431815014.py:15: RuntimeWarning: divide by zero encountered in double_scalars\n",
      "  quarter_eps.yoy_growth.iloc[i] = (quarter_eps.eps.iloc[i] - quarter_eps.eps.iloc[i+4]) / quarter_eps.eps.iloc[i+4]\n"
     ]
    },
    {
     "name": "stdout",
     "output_type": "stream",
     "text": [
      "CNX not selected\n",
      "CNXA data not enough\n",
      "CNXC not selected"
     ]
    },
    {
     "name": "stderr",
     "output_type": "stream",
     "text": [
      "C:\\Users\\Rain\\AppData\\Local\\Temp\\ipykernel_23516\\2431815014.py:15: RuntimeWarning: divide by zero encountered in double_scalars\n",
      "  quarter_eps.yoy_growth.iloc[i] = (quarter_eps.eps.iloc[i] - quarter_eps.eps.iloc[i+4]) / quarter_eps.eps.iloc[i+4]\n",
      "C:\\Users\\Rain\\AppData\\Local\\Temp\\ipykernel_23516\\2431815014.py:15: RuntimeWarning: invalid value encountered in double_scalars\n",
      "  quarter_eps.yoy_growth.iloc[i] = (quarter_eps.eps.iloc[i] - quarter_eps.eps.iloc[i+4]) / quarter_eps.eps.iloc[i+4]\n"
     ]
    },
    {
     "name": "stdout",
     "output_type": "stream",
     "text": [
      "\n",
      "CNXN selected\n"
     ]
    },
    {
     "name": "stderr",
     "output_type": "stream",
     "text": [
      "C:\\Users\\Rain\\AppData\\Local\\Temp\\ipykernel_23516\\2431815014.py:15: RuntimeWarning: divide by zero encountered in double_scalars\n",
      "  quarter_eps.yoy_growth.iloc[i] = (quarter_eps.eps.iloc[i] - quarter_eps.eps.iloc[i+4]) / quarter_eps.eps.iloc[i+4]\n",
      "C:\\Users\\Rain\\AppData\\Local\\Temp\\ipykernel_23516\\2431815014.py:15: RuntimeWarning: divide by zero encountered in double_scalars\n",
      "  quarter_eps.yoy_growth.iloc[i] = (quarter_eps.eps.iloc[i] - quarter_eps.eps.iloc[i+4]) / quarter_eps.eps.iloc[i+4]\n",
      "C:\\Users\\Rain\\AppData\\Local\\Temp\\ipykernel_23516\\2431815014.py:15: RuntimeWarning: divide by zero encountered in double_scalars\n",
      "  quarter_eps.yoy_growth.iloc[i] = (quarter_eps.eps.iloc[i] - quarter_eps.eps.iloc[i+4]) / quarter_eps.eps.iloc[i+4]\n",
      "C:\\Users\\Rain\\AppData\\Local\\Temp\\ipykernel_23516\\2431815014.py:15: RuntimeWarning: invalid value encountered in double_scalars\n",
      "  quarter_eps.yoy_growth.iloc[i] = (quarter_eps.eps.iloc[i] - quarter_eps.eps.iloc[i+4]) / quarter_eps.eps.iloc[i+4]\n"
     ]
    },
    {
     "name": "stdout",
     "output_type": "stream",
     "text": [
      "CO not selected\n",
      "COCO not selected\n"
     ]
    },
    {
     "name": "stderr",
     "output_type": "stream",
     "text": [
      "C:\\Users\\Rain\\AppData\\Local\\Temp\\ipykernel_23516\\2431815014.py:15: RuntimeWarning: divide by zero encountered in double_scalars\n",
      "  quarter_eps.yoy_growth.iloc[i] = (quarter_eps.eps.iloc[i] - quarter_eps.eps.iloc[i+4]) / quarter_eps.eps.iloc[i+4]\n",
      "C:\\Users\\Rain\\AppData\\Local\\Temp\\ipykernel_23516\\2431815014.py:15: RuntimeWarning: divide by zero encountered in double_scalars\n",
      "  quarter_eps.yoy_growth.iloc[i] = (quarter_eps.eps.iloc[i] - quarter_eps.eps.iloc[i+4]) / quarter_eps.eps.iloc[i+4]\n"
     ]
    },
    {
     "name": "stdout",
     "output_type": "stream",
     "text": [
      "COCP selected\n",
      "CODA not selected\n",
      "CODI selected\n",
      "CODX not selected\n"
     ]
    },
    {
     "name": "stderr",
     "output_type": "stream",
     "text": [
      "C:\\Users\\Rain\\AppData\\Local\\Temp\\ipykernel_23516\\2431815014.py:15: RuntimeWarning: divide by zero encountered in double_scalars\n",
      "  quarter_eps.yoy_growth.iloc[i] = (quarter_eps.eps.iloc[i] - quarter_eps.eps.iloc[i+4]) / quarter_eps.eps.iloc[i+4]\n"
     ]
    },
    {
     "name": "stdout",
     "output_type": "stream",
     "text": [
      "COE not selected\n",
      "COF not selected\n"
     ]
    },
    {
     "name": "stderr",
     "output_type": "stream",
     "text": [
      "C:\\Users\\Rain\\AppData\\Local\\Temp\\ipykernel_23516\\2431815014.py:15: RuntimeWarning: divide by zero encountered in double_scalars\n",
      "  quarter_eps.yoy_growth.iloc[i] = (quarter_eps.eps.iloc[i] - quarter_eps.eps.iloc[i+4]) / quarter_eps.eps.iloc[i+4]\n",
      "C:\\Users\\Rain\\AppData\\Local\\Temp\\ipykernel_23516\\2431815014.py:15: RuntimeWarning: divide by zero encountered in double_scalars\n",
      "  quarter_eps.yoy_growth.iloc[i] = (quarter_eps.eps.iloc[i] - quarter_eps.eps.iloc[i+4]) / quarter_eps.eps.iloc[i+4]\n",
      "C:\\Users\\Rain\\AppData\\Local\\Temp\\ipykernel_23516\\2431815014.py:15: RuntimeWarning: divide by zero encountered in double_scalars\n",
      "  quarter_eps.yoy_growth.iloc[i] = (quarter_eps.eps.iloc[i] - quarter_eps.eps.iloc[i+4]) / quarter_eps.eps.iloc[i+4]\n"
     ]
    },
    {
     "name": "stdout",
     "output_type": "stream",
     "text": [
      "COFS not selected\n",
      "COGT not selected\n",
      "COHN not selected\n",
      "COHU not selected\n",
      "COIN not selected"
     ]
    },
    {
     "name": "stderr",
     "output_type": "stream",
     "text": [
      "C:\\Users\\Rain\\AppData\\Local\\Temp\\ipykernel_23516\\2431815014.py:15: RuntimeWarning: divide by zero encountered in double_scalars\n",
      "  quarter_eps.yoy_growth.iloc[i] = (quarter_eps.eps.iloc[i] - quarter_eps.eps.iloc[i+4]) / quarter_eps.eps.iloc[i+4]\n",
      "C:\\Users\\Rain\\AppData\\Local\\Temp\\ipykernel_23516\\2431815014.py:15: RuntimeWarning: divide by zero encountered in double_scalars\n",
      "  quarter_eps.yoy_growth.iloc[i] = (quarter_eps.eps.iloc[i] - quarter_eps.eps.iloc[i+4]) / quarter_eps.eps.iloc[i+4]\n"
     ]
    },
    {
     "name": "stdout",
     "output_type": "stream",
     "text": [
      "\n",
      "COKE selected\n",
      "COLB not selected\n",
      "COLD not selected\n"
     ]
    },
    {
     "name": "stderr",
     "output_type": "stream",
     "text": [
      "C:\\Users\\Rain\\AppData\\Local\\Temp\\ipykernel_23516\\2431815014.py:15: RuntimeWarning: divide by zero encountered in double_scalars\n",
      "  quarter_eps.yoy_growth.iloc[i] = (quarter_eps.eps.iloc[i] - quarter_eps.eps.iloc[i+4]) / quarter_eps.eps.iloc[i+4]\n",
      "C:\\Users\\Rain\\AppData\\Local\\Temp\\ipykernel_23516\\2431815014.py:15: RuntimeWarning: invalid value encountered in double_scalars\n",
      "  quarter_eps.yoy_growth.iloc[i] = (quarter_eps.eps.iloc[i] - quarter_eps.eps.iloc[i+4]) / quarter_eps.eps.iloc[i+4]\n",
      "C:\\Users\\Rain\\AppData\\Local\\Temp\\ipykernel_23516\\2431815014.py:15: RuntimeWarning: divide by zero encountered in double_scalars\n",
      "  quarter_eps.yoy_growth.iloc[i] = (quarter_eps.eps.iloc[i] - quarter_eps.eps.iloc[i+4]) / quarter_eps.eps.iloc[i+4]\n"
     ]
    },
    {
     "name": "stdout",
     "output_type": "stream",
     "text": [
      "COLI not selected\n",
      "COLL not selected\n"
     ]
    },
    {
     "name": "stderr",
     "output_type": "stream",
     "text": [
      "C:\\Users\\Rain\\AppData\\Local\\Temp\\ipykernel_23516\\2431815014.py:15: RuntimeWarning: divide by zero encountered in double_scalars\n",
      "  quarter_eps.yoy_growth.iloc[i] = (quarter_eps.eps.iloc[i] - quarter_eps.eps.iloc[i+4]) / quarter_eps.eps.iloc[i+4]\n",
      "C:\\Users\\Rain\\AppData\\Local\\Temp\\ipykernel_23516\\2431815014.py:15: RuntimeWarning: divide by zero encountered in double_scalars\n",
      "  quarter_eps.yoy_growth.iloc[i] = (quarter_eps.eps.iloc[i] - quarter_eps.eps.iloc[i+4]) / quarter_eps.eps.iloc[i+4]\n"
     ]
    },
    {
     "name": "stdout",
     "output_type": "stream",
     "text": [
      "COLM not selected\n",
      "COMM not selected\n"
     ]
    },
    {
     "name": "stderr",
     "output_type": "stream",
     "text": [
      "C:\\Users\\Rain\\AppData\\Local\\Temp\\ipykernel_23516\\2431815014.py:15: RuntimeWarning: divide by zero encountered in double_scalars\n",
      "  quarter_eps.yoy_growth.iloc[i] = (quarter_eps.eps.iloc[i] - quarter_eps.eps.iloc[i+4]) / quarter_eps.eps.iloc[i+4]\n",
      "C:\\Users\\Rain\\AppData\\Local\\Temp\\ipykernel_23516\\2431815014.py:15: RuntimeWarning: invalid value encountered in double_scalars\n",
      "  quarter_eps.yoy_growth.iloc[i] = (quarter_eps.eps.iloc[i] - quarter_eps.eps.iloc[i+4]) / quarter_eps.eps.iloc[i+4]\n",
      "C:\\Users\\Rain\\AppData\\Local\\Temp\\ipykernel_23516\\2431815014.py:15: RuntimeWarning: divide by zero encountered in double_scalars\n",
      "  quarter_eps.yoy_growth.iloc[i] = (quarter_eps.eps.iloc[i] - quarter_eps.eps.iloc[i+4]) / quarter_eps.eps.iloc[i+4]\n"
     ]
    },
    {
     "name": "stdout",
     "output_type": "stream",
     "text": [
      "COMP selected\n",
      "COMS selected\n"
     ]
    },
    {
     "name": "stderr",
     "output_type": "stream",
     "text": [
      "C:\\Users\\Rain\\AppData\\Local\\Temp\\ipykernel_23516\\2431815014.py:15: RuntimeWarning: divide by zero encountered in double_scalars\n",
      "  quarter_eps.yoy_growth.iloc[i] = (quarter_eps.eps.iloc[i] - quarter_eps.eps.iloc[i+4]) / quarter_eps.eps.iloc[i+4]\n",
      "C:\\Users\\Rain\\AppData\\Local\\Temp\\ipykernel_23516\\2431815014.py:15: RuntimeWarning: divide by zero encountered in double_scalars\n",
      "  quarter_eps.yoy_growth.iloc[i] = (quarter_eps.eps.iloc[i] - quarter_eps.eps.iloc[i+4]) / quarter_eps.eps.iloc[i+4]\n"
     ]
    },
    {
     "name": "stdout",
     "output_type": "stream",
     "text": [
      "CONN not selected\n",
      "CONX not selected\n",
      "COO not selected\n"
     ]
    },
    {
     "name": "stderr",
     "output_type": "stream",
     "text": [
      "C:\\Users\\Rain\\AppData\\Local\\Temp\\ipykernel_23516\\2431815014.py:15: RuntimeWarning: divide by zero encountered in double_scalars\n",
      "  quarter_eps.yoy_growth.iloc[i] = (quarter_eps.eps.iloc[i] - quarter_eps.eps.iloc[i+4]) / quarter_eps.eps.iloc[i+4]\n",
      "C:\\Users\\Rain\\AppData\\Local\\Temp\\ipykernel_23516\\2431815014.py:15: RuntimeWarning: divide by zero encountered in double_scalars\n",
      "  quarter_eps.yoy_growth.iloc[i] = (quarter_eps.eps.iloc[i] - quarter_eps.eps.iloc[i+4]) / quarter_eps.eps.iloc[i+4]\n",
      "C:\\Users\\Rain\\AppData\\Local\\Temp\\ipykernel_23516\\2431815014.py:15: RuntimeWarning: divide by zero encountered in double_scalars\n",
      "  quarter_eps.yoy_growth.iloc[i] = (quarter_eps.eps.iloc[i] - quarter_eps.eps.iloc[i+4]) / quarter_eps.eps.iloc[i+4]\n",
      "C:\\Users\\Rain\\AppData\\Local\\Temp\\ipykernel_23516\\2431815014.py:15: RuntimeWarning: divide by zero encountered in double_scalars\n",
      "  quarter_eps.yoy_growth.iloc[i] = (quarter_eps.eps.iloc[i] - quarter_eps.eps.iloc[i+4]) / quarter_eps.eps.iloc[i+4]\n"
     ]
    },
    {
     "name": "stdout",
     "output_type": "stream",
     "text": [
      "COOK selected\n",
      "COOL selected\n",
      "COOP not selected\n",
      "COP selected\n",
      "CORR not selected\n"
     ]
    },
    {
     "name": "stderr",
     "output_type": "stream",
     "text": [
      "C:\\Users\\Rain\\AppData\\Local\\Temp\\ipykernel_23516\\2431815014.py:15: RuntimeWarning: divide by zero encountered in double_scalars\n",
      "  quarter_eps.yoy_growth.iloc[i] = (quarter_eps.eps.iloc[i] - quarter_eps.eps.iloc[i+4]) / quarter_eps.eps.iloc[i+4]\n",
      "C:\\Users\\Rain\\AppData\\Local\\Temp\\ipykernel_23516\\2431815014.py:15: RuntimeWarning: invalid value encountered in double_scalars\n",
      "  quarter_eps.yoy_growth.iloc[i] = (quarter_eps.eps.iloc[i] - quarter_eps.eps.iloc[i+4]) / quarter_eps.eps.iloc[i+4]\n",
      "C:\\Users\\Rain\\AppData\\Local\\Temp\\ipykernel_23516\\2431815014.py:15: RuntimeWarning: divide by zero encountered in double_scalars\n",
      "  quarter_eps.yoy_growth.iloc[i] = (quarter_eps.eps.iloc[i] - quarter_eps.eps.iloc[i+4]) / quarter_eps.eps.iloc[i+4]\n",
      "C:\\Users\\Rain\\AppData\\Local\\Temp\\ipykernel_23516\\2431815014.py:15: RuntimeWarning: invalid value encountered in double_scalars\n",
      "  quarter_eps.yoy_growth.iloc[i] = (quarter_eps.eps.iloc[i] - quarter_eps.eps.iloc[i+4]) / quarter_eps.eps.iloc[i+4]\n",
      "C:\\Users\\Rain\\AppData\\Local\\Temp\\ipykernel_23516\\2431815014.py:19: RuntimeWarning: invalid value encountered in double_scalars\n",
      "  quarter_eps.fixed_yoy_growth.iloc[i] = (quarter_eps.yoy_growth.iloc[i] + quarter_eps.yoy_growth.iloc[i+1]) / 2\n"
     ]
    },
    {
     "name": "stdout",
     "output_type": "stream",
     "text": [
      "CORS not selected\n",
      "CORT not selected\n"
     ]
    },
    {
     "name": "stderr",
     "output_type": "stream",
     "text": [
      "C:\\Users\\Rain\\AppData\\Local\\Temp\\ipykernel_23516\\2431815014.py:15: RuntimeWarning: divide by zero encountered in double_scalars\n",
      "  quarter_eps.yoy_growth.iloc[i] = (quarter_eps.eps.iloc[i] - quarter_eps.eps.iloc[i+4]) / quarter_eps.eps.iloc[i+4]\n"
     ]
    },
    {
     "name": "stdout",
     "output_type": "stream",
     "text": [
      "CORZ data not enough\n",
      "COSM data not enough\n",
      "COST not selected\n",
      "COTY not selected\n"
     ]
    },
    {
     "name": "stderr",
     "output_type": "stream",
     "text": [
      "C:\\Users\\Rain\\AppData\\Local\\Temp\\ipykernel_23516\\2431815014.py:15: RuntimeWarning: divide by zero encountered in double_scalars\n",
      "  quarter_eps.yoy_growth.iloc[i] = (quarter_eps.eps.iloc[i] - quarter_eps.eps.iloc[i+4]) / quarter_eps.eps.iloc[i+4]\n",
      "C:\\Users\\Rain\\AppData\\Local\\Temp\\ipykernel_23516\\2431815014.py:19: RuntimeWarning: invalid value encountered in double_scalars\n",
      "  quarter_eps.fixed_yoy_growth.iloc[i] = (quarter_eps.yoy_growth.iloc[i] + quarter_eps.yoy_growth.iloc[i+1]) / 2\n",
      "C:\\Users\\Rain\\AppData\\Local\\Temp\\ipykernel_23516\\2431815014.py:15: RuntimeWarning: divide by zero encountered in double_scalars\n",
      "  quarter_eps.yoy_growth.iloc[i] = (quarter_eps.eps.iloc[i] - quarter_eps.eps.iloc[i+4]) / quarter_eps.eps.iloc[i+4]\n"
     ]
    },
    {
     "name": "stdout",
     "output_type": "stream",
     "text": [
      "COUP not selected\n",
      "COUR not selected\n",
      "COVA not selected"
     ]
    },
    {
     "name": "stderr",
     "output_type": "stream",
     "text": [
      "C:\\Users\\Rain\\AppData\\Local\\Temp\\ipykernel_23516\\2431815014.py:15: RuntimeWarning: divide by zero encountered in double_scalars\n",
      "  quarter_eps.yoy_growth.iloc[i] = (quarter_eps.eps.iloc[i] - quarter_eps.eps.iloc[i+4]) / quarter_eps.eps.iloc[i+4]\n",
      "C:\\Users\\Rain\\AppData\\Local\\Temp\\ipykernel_23516\\2431815014.py:15: RuntimeWarning: divide by zero encountered in double_scalars\n",
      "  quarter_eps.yoy_growth.iloc[i] = (quarter_eps.eps.iloc[i] - quarter_eps.eps.iloc[i+4]) / quarter_eps.eps.iloc[i+4]\n"
     ]
    },
    {
     "name": "stdout",
     "output_type": "stream",
     "text": [
      "\n",
      "COWN not selected\n"
     ]
    },
    {
     "name": "stderr",
     "output_type": "stream",
     "text": [
      "C:\\Users\\Rain\\AppData\\Local\\Temp\\ipykernel_23516\\2431815014.py:15: RuntimeWarning: divide by zero encountered in double_scalars\n",
      "  quarter_eps.yoy_growth.iloc[i] = (quarter_eps.eps.iloc[i] - quarter_eps.eps.iloc[i+4]) / quarter_eps.eps.iloc[i+4]\n"
     ]
    },
    {
     "name": "stdout",
     "output_type": "stream",
     "text": [
      "CP not selected\n",
      "CPA selected\n",
      "CPAA data not enough\n"
     ]
    },
    {
     "name": "stderr",
     "output_type": "stream",
     "text": [
      "C:\\Users\\Rain\\AppData\\Local\\Temp\\ipykernel_23516\\2431815014.py:15: RuntimeWarning: divide by zero encountered in double_scalars\n",
      "  quarter_eps.yoy_growth.iloc[i] = (quarter_eps.eps.iloc[i] - quarter_eps.eps.iloc[i+4]) / quarter_eps.eps.iloc[i+4]\n",
      "C:\\Users\\Rain\\AppData\\Local\\Temp\\ipykernel_23516\\2431815014.py:15: RuntimeWarning: divide by zero encountered in double_scalars\n",
      "  quarter_eps.yoy_growth.iloc[i] = (quarter_eps.eps.iloc[i] - quarter_eps.eps.iloc[i+4]) / quarter_eps.eps.iloc[i+4]\n"
     ]
    },
    {
     "name": "stdout",
     "output_type": "stream",
     "text": [
      "CPAC not selected\n",
      "CPAQ data not enough\n",
      "CPAR selected\n",
      "CPB not selected\n",
      "CPE not selected"
     ]
    },
    {
     "name": "stderr",
     "output_type": "stream",
     "text": [
      "C:\\Users\\Rain\\AppData\\Local\\Temp\\ipykernel_23516\\2431815014.py:15: RuntimeWarning: divide by zero encountered in double_scalars\n",
      "  quarter_eps.yoy_growth.iloc[i] = (quarter_eps.eps.iloc[i] - quarter_eps.eps.iloc[i+4]) / quarter_eps.eps.iloc[i+4]\n"
     ]
    },
    {
     "name": "stdout",
     "output_type": "stream",
     "text": [
      "\n",
      "CPF not selected\n"
     ]
    },
    {
     "name": "stderr",
     "output_type": "stream",
     "text": [
      "C:\\Users\\Rain\\AppData\\Local\\Temp\\ipykernel_23516\\2431815014.py:15: RuntimeWarning: divide by zero encountered in double_scalars\n",
      "  quarter_eps.yoy_growth.iloc[i] = (quarter_eps.eps.iloc[i] - quarter_eps.eps.iloc[i+4]) / quarter_eps.eps.iloc[i+4]\n",
      "C:\\Users\\Rain\\AppData\\Local\\Temp\\ipykernel_23516\\2431815014.py:15: RuntimeWarning: divide by zero encountered in double_scalars\n",
      "  quarter_eps.yoy_growth.iloc[i] = (quarter_eps.eps.iloc[i] - quarter_eps.eps.iloc[i+4]) / quarter_eps.eps.iloc[i+4]\n"
     ]
    },
    {
     "name": "stdout",
     "output_type": "stream",
     "text": [
      "CPG selected\n",
      "CPHC not selected\n"
     ]
    },
    {
     "name": "stderr",
     "output_type": "stream",
     "text": [
      "C:\\Users\\Rain\\AppData\\Local\\Temp\\ipykernel_23516\\2431815014.py:15: RuntimeWarning: divide by zero encountered in double_scalars\n",
      "  quarter_eps.yoy_growth.iloc[i] = (quarter_eps.eps.iloc[i] - quarter_eps.eps.iloc[i+4]) / quarter_eps.eps.iloc[i+4]\n",
      "C:\\Users\\Rain\\AppData\\Local\\Temp\\ipykernel_23516\\2431815014.py:15: RuntimeWarning: divide by zero encountered in double_scalars\n",
      "  quarter_eps.yoy_growth.iloc[i] = (quarter_eps.eps.iloc[i] - quarter_eps.eps.iloc[i+4]) / quarter_eps.eps.iloc[i+4]\n"
     ]
    },
    {
     "name": "stdout",
     "output_type": "stream",
     "text": [
      "CPHI not selected\n",
      "CPIX not selected\n"
     ]
    },
    {
     "name": "stderr",
     "output_type": "stream",
     "text": [
      "C:\\Users\\Rain\\AppData\\Local\\Temp\\ipykernel_23516\\2431815014.py:15: RuntimeWarning: divide by zero encountered in double_scalars\n",
      "  quarter_eps.yoy_growth.iloc[i] = (quarter_eps.eps.iloc[i] - quarter_eps.eps.iloc[i+4]) / quarter_eps.eps.iloc[i+4]\n",
      "C:\\Users\\Rain\\AppData\\Local\\Temp\\ipykernel_23516\\2431815014.py:15: RuntimeWarning: divide by zero encountered in double_scalars\n",
      "  quarter_eps.yoy_growth.iloc[i] = (quarter_eps.eps.iloc[i] - quarter_eps.eps.iloc[i+4]) / quarter_eps.eps.iloc[i+4]\n"
     ]
    },
    {
     "name": "stdout",
     "output_type": "stream",
     "text": [
      "CPK not selected\n",
      "CPLP selected\n",
      "CPNG not selected\n",
      "CPOP data not enough\n"
     ]
    },
    {
     "name": "stderr",
     "output_type": "stream",
     "text": [
      "C:\\Users\\Rain\\AppData\\Local\\Temp\\ipykernel_23516\\2431815014.py:15: RuntimeWarning: divide by zero encountered in double_scalars\n",
      "  quarter_eps.yoy_growth.iloc[i] = (quarter_eps.eps.iloc[i] - quarter_eps.eps.iloc[i+4]) / quarter_eps.eps.iloc[i+4]\n"
     ]
    },
    {
     "name": "stdout",
     "output_type": "stream",
     "text": [
      "CPRI not selected\n",
      "CPRT not selected\n"
     ]
    },
    {
     "name": "stderr",
     "output_type": "stream",
     "text": [
      "C:\\Users\\Rain\\AppData\\Local\\Temp\\ipykernel_23516\\2431815014.py:15: RuntimeWarning: divide by zero encountered in double_scalars\n",
      "  quarter_eps.yoy_growth.iloc[i] = (quarter_eps.eps.iloc[i] - quarter_eps.eps.iloc[i+4]) / quarter_eps.eps.iloc[i+4]\n",
      "C:\\Users\\Rain\\AppData\\Local\\Temp\\ipykernel_23516\\2431815014.py:15: RuntimeWarning: invalid value encountered in double_scalars\n",
      "  quarter_eps.yoy_growth.iloc[i] = (quarter_eps.eps.iloc[i] - quarter_eps.eps.iloc[i+4]) / quarter_eps.eps.iloc[i+4]\n",
      "C:\\Users\\Rain\\AppData\\Local\\Temp\\ipykernel_23516\\2431815014.py:15: RuntimeWarning: divide by zero encountered in double_scalars\n",
      "  quarter_eps.yoy_growth.iloc[i] = (quarter_eps.eps.iloc[i] - quarter_eps.eps.iloc[i+4]) / quarter_eps.eps.iloc[i+4]\n",
      "C:\\Users\\Rain\\AppData\\Local\\Temp\\ipykernel_23516\\2431815014.py:15: RuntimeWarning: invalid value encountered in double_scalars\n",
      "  quarter_eps.yoy_growth.iloc[i] = (quarter_eps.eps.iloc[i] - quarter_eps.eps.iloc[i+4]) / quarter_eps.eps.iloc[i+4]\n"
     ]
    },
    {
     "name": "stdout",
     "output_type": "stream",
     "text": [
      "CPRX not selected\n",
      "CPS not selected\n",
      "CPSH selected\n",
      "CPSI not selected\n",
      "CPSS selected\n",
      "CPT selected\n",
      "CPTK data not enough\n"
     ]
    },
    {
     "name": "stderr",
     "output_type": "stream",
     "text": [
      "C:\\Users\\Rain\\AppData\\Local\\Temp\\ipykernel_23516\\2431815014.py:15: RuntimeWarning: divide by zero encountered in double_scalars\n",
      "  quarter_eps.yoy_growth.iloc[i] = (quarter_eps.eps.iloc[i] - quarter_eps.eps.iloc[i+4]) / quarter_eps.eps.iloc[i+4]\n",
      "C:\\Users\\Rain\\AppData\\Local\\Temp\\ipykernel_23516\\2431815014.py:15: RuntimeWarning: invalid value encountered in double_scalars\n",
      "  quarter_eps.yoy_growth.iloc[i] = (quarter_eps.eps.iloc[i] - quarter_eps.eps.iloc[i+4]) / quarter_eps.eps.iloc[i+4]\n",
      "C:\\Users\\Rain\\AppData\\Local\\Temp\\ipykernel_23516\\2431815014.py:19: RuntimeWarning: invalid value encountered in double_scalars\n",
      "  quarter_eps.fixed_yoy_growth.iloc[i] = (quarter_eps.yoy_growth.iloc[i] + quarter_eps.yoy_growth.iloc[i+1]) / 2\n",
      "C:\\Users\\Rain\\AppData\\Local\\Temp\\ipykernel_23516\\2431815014.py:15: RuntimeWarning: divide by zero encountered in double_scalars\n",
      "  quarter_eps.yoy_growth.iloc[i] = (quarter_eps.eps.iloc[i] - quarter_eps.eps.iloc[i+4]) / quarter_eps.eps.iloc[i+4]\n"
     ]
    },
    {
     "name": "stdout",
     "output_type": "stream",
     "text": [
      "CPTN not selected\n",
      "CPUH not selected\n",
      "CQP not selected\n",
      "CR not selected\n"
     ]
    },
    {
     "name": "stderr",
     "output_type": "stream",
     "text": [
      "C:\\Users\\Rain\\AppData\\Local\\Temp\\ipykernel_23516\\2431815014.py:15: RuntimeWarning: divide by zero encountered in double_scalars\n",
      "  quarter_eps.yoy_growth.iloc[i] = (quarter_eps.eps.iloc[i] - quarter_eps.eps.iloc[i+4]) / quarter_eps.eps.iloc[i+4]\n",
      "C:\\Users\\Rain\\AppData\\Local\\Temp\\ipykernel_23516\\2431815014.py:15: RuntimeWarning: divide by zero encountered in double_scalars\n",
      "  quarter_eps.yoy_growth.iloc[i] = (quarter_eps.eps.iloc[i] - quarter_eps.eps.iloc[i+4]) / quarter_eps.eps.iloc[i+4]\n"
     ]
    },
    {
     "name": "stdout",
     "output_type": "stream",
     "text": [
      "CRAI not selected\n",
      "CRBP not selected\n"
     ]
    },
    {
     "name": "stderr",
     "output_type": "stream",
     "text": [
      "C:\\Users\\Rain\\AppData\\Local\\Temp\\ipykernel_23516\\2431815014.py:15: RuntimeWarning: divide by zero encountered in double_scalars\n",
      "  quarter_eps.yoy_growth.iloc[i] = (quarter_eps.eps.iloc[i] - quarter_eps.eps.iloc[i+4]) / quarter_eps.eps.iloc[i+4]\n",
      "C:\\Users\\Rain\\AppData\\Local\\Temp\\ipykernel_23516\\2431815014.py:15: RuntimeWarning: divide by zero encountered in double_scalars\n",
      "  quarter_eps.yoy_growth.iloc[i] = (quarter_eps.eps.iloc[i] - quarter_eps.eps.iloc[i+4]) / quarter_eps.eps.iloc[i+4]\n"
     ]
    },
    {
     "name": "stdout",
     "output_type": "stream",
     "text": [
      "CRBU not selected\n",
      "CRC not selected\n",
      "CRCT not selected\n",
      "CRDA not exsit\n",
      "CRDB not exsit\n",
      "CRDF not selected\n"
     ]
    },
    {
     "name": "stderr",
     "output_type": "stream",
     "text": [
      "C:\\Users\\Rain\\AppData\\Local\\Temp\\ipykernel_23516\\2431815014.py:15: RuntimeWarning: divide by zero encountered in double_scalars\n",
      "  quarter_eps.yoy_growth.iloc[i] = (quarter_eps.eps.iloc[i] - quarter_eps.eps.iloc[i+4]) / quarter_eps.eps.iloc[i+4]\n"
     ]
    },
    {
     "name": "stdout",
     "output_type": "stream",
     "text": [
      "CRDL data not enough\n",
      "CRDO data not enough\n",
      "CREC data not enough\n",
      "CREG not selected\n",
      "CRESY not selected\n"
     ]
    },
    {
     "name": "stderr",
     "output_type": "stream",
     "text": [
      "C:\\Users\\Rain\\AppData\\Local\\Temp\\ipykernel_23516\\2431815014.py:15: RuntimeWarning: divide by zero encountered in double_scalars\n",
      "  quarter_eps.yoy_growth.iloc[i] = (quarter_eps.eps.iloc[i] - quarter_eps.eps.iloc[i+4]) / quarter_eps.eps.iloc[i+4]\n",
      "C:\\Users\\Rain\\AppData\\Local\\Temp\\ipykernel_23516\\2431815014.py:15: RuntimeWarning: invalid value encountered in double_scalars\n",
      "  quarter_eps.yoy_growth.iloc[i] = (quarter_eps.eps.iloc[i] - quarter_eps.eps.iloc[i+4]) / quarter_eps.eps.iloc[i+4]\n",
      "C:\\Users\\Rain\\AppData\\Local\\Temp\\ipykernel_23516\\2431815014.py:15: RuntimeWarning: divide by zero encountered in double_scalars\n",
      "  quarter_eps.yoy_growth.iloc[i] = (quarter_eps.eps.iloc[i] - quarter_eps.eps.iloc[i+4]) / quarter_eps.eps.iloc[i+4]\n"
     ]
    },
    {
     "name": "stdout",
     "output_type": "stream",
     "text": [
      "CREX not selected\n",
      "CRGE selected\n"
     ]
    },
    {
     "name": "stderr",
     "output_type": "stream",
     "text": [
      "C:\\Users\\Rain\\AppData\\Local\\Temp\\ipykernel_23516\\2431815014.py:15: RuntimeWarning: divide by zero encountered in double_scalars\n",
      "  quarter_eps.yoy_growth.iloc[i] = (quarter_eps.eps.iloc[i] - quarter_eps.eps.iloc[i+4]) / quarter_eps.eps.iloc[i+4]\n",
      "C:\\Users\\Rain\\AppData\\Local\\Temp\\ipykernel_23516\\2431815014.py:15: RuntimeWarning: divide by zero encountered in double_scalars\n",
      "  quarter_eps.yoy_growth.iloc[i] = (quarter_eps.eps.iloc[i] - quarter_eps.eps.iloc[i+4]) / quarter_eps.eps.iloc[i+4]\n",
      "C:\\Users\\Rain\\AppData\\Local\\Temp\\ipykernel_23516\\2431815014.py:15: RuntimeWarning: invalid value encountered in double_scalars\n",
      "  quarter_eps.yoy_growth.iloc[i] = (quarter_eps.eps.iloc[i] - quarter_eps.eps.iloc[i+4]) / quarter_eps.eps.iloc[i+4]\n",
      "C:\\Users\\Rain\\AppData\\Local\\Temp\\ipykernel_23516\\2431815014.py:19: RuntimeWarning: invalid value encountered in double_scalars\n",
      "  quarter_eps.fixed_yoy_growth.iloc[i] = (quarter_eps.yoy_growth.iloc[i] + quarter_eps.yoy_growth.iloc[i+1]) / 2\n"
     ]
    },
    {
     "name": "stdout",
     "output_type": "stream",
     "text": [
      "CRGY selected\n",
      "CRH not selected\n",
      "CRHC selected"
     ]
    },
    {
     "name": "stderr",
     "output_type": "stream",
     "text": [
      "C:\\Users\\Rain\\AppData\\Local\\Temp\\ipykernel_23516\\2431815014.py:15: RuntimeWarning: invalid value encountered in double_scalars\n",
      "  quarter_eps.yoy_growth.iloc[i] = (quarter_eps.eps.iloc[i] - quarter_eps.eps.iloc[i+4]) / quarter_eps.eps.iloc[i+4]\n",
      "C:\\Users\\Rain\\AppData\\Local\\Temp\\ipykernel_23516\\2431815014.py:15: RuntimeWarning: divide by zero encountered in double_scalars\n",
      "  quarter_eps.yoy_growth.iloc[i] = (quarter_eps.eps.iloc[i] - quarter_eps.eps.iloc[i+4]) / quarter_eps.eps.iloc[i+4]\n"
     ]
    },
    {
     "name": "stdout",
     "output_type": "stream",
     "text": [
      "\n",
      "CRI not selected\n",
      "CRIS not selected\n",
      "CRK not selected\n",
      "CRKN not selected"
     ]
    },
    {
     "name": "stderr",
     "output_type": "stream",
     "text": [
      "C:\\Users\\Rain\\AppData\\Local\\Temp\\ipykernel_23516\\2431815014.py:15: RuntimeWarning: divide by zero encountered in double_scalars\n",
      "  quarter_eps.yoy_growth.iloc[i] = (quarter_eps.eps.iloc[i] - quarter_eps.eps.iloc[i+4]) / quarter_eps.eps.iloc[i+4]\n"
     ]
    },
    {
     "name": "stdout",
     "output_type": "stream",
     "text": [
      "\n",
      "CRL not selected\n"
     ]
    },
    {
     "name": "stderr",
     "output_type": "stream",
     "text": [
      "C:\\Users\\Rain\\AppData\\Local\\Temp\\ipykernel_23516\\2431815014.py:15: RuntimeWarning: divide by zero encountered in double_scalars\n",
      "  quarter_eps.yoy_growth.iloc[i] = (quarter_eps.eps.iloc[i] - quarter_eps.eps.iloc[i+4]) / quarter_eps.eps.iloc[i+4]\n",
      "C:\\Users\\Rain\\AppData\\Local\\Temp\\ipykernel_23516\\2431815014.py:15: RuntimeWarning: divide by zero encountered in double_scalars\n",
      "  quarter_eps.yoy_growth.iloc[i] = (quarter_eps.eps.iloc[i] - quarter_eps.eps.iloc[i+4]) / quarter_eps.eps.iloc[i+4]\n"
     ]
    },
    {
     "name": "stdout",
     "output_type": "stream",
     "text": [
      "CRM not selected\n",
      "CRMD not selected\n",
      "CRMT not selected\n"
     ]
    },
    {
     "name": "stderr",
     "output_type": "stream",
     "text": [
      "C:\\Users\\Rain\\AppData\\Local\\Temp\\ipykernel_23516\\2431815014.py:15: RuntimeWarning: divide by zero encountered in double_scalars\n",
      "  quarter_eps.yoy_growth.iloc[i] = (quarter_eps.eps.iloc[i] - quarter_eps.eps.iloc[i+4]) / quarter_eps.eps.iloc[i+4]\n",
      "C:\\Users\\Rain\\AppData\\Local\\Temp\\ipykernel_23516\\2431815014.py:15: RuntimeWarning: divide by zero encountered in double_scalars\n",
      "  quarter_eps.yoy_growth.iloc[i] = (quarter_eps.eps.iloc[i] - quarter_eps.eps.iloc[i+4]) / quarter_eps.eps.iloc[i+4]\n",
      "C:\\Users\\Rain\\AppData\\Local\\Temp\\ipykernel_23516\\2431815014.py:15: RuntimeWarning: divide by zero encountered in double_scalars\n",
      "  quarter_eps.yoy_growth.iloc[i] = (quarter_eps.eps.iloc[i] - quarter_eps.eps.iloc[i+4]) / quarter_eps.eps.iloc[i+4]\n"
     ]
    },
    {
     "name": "stdout",
     "output_type": "stream",
     "text": [
      "CRNC not selected\n",
      "CRNT not selected\n",
      "CRNX not selected"
     ]
    },
    {
     "name": "stderr",
     "output_type": "stream",
     "text": [
      "C:\\Users\\Rain\\AppData\\Local\\Temp\\ipykernel_23516\\2431815014.py:15: RuntimeWarning: divide by zero encountered in double_scalars\n",
      "  quarter_eps.yoy_growth.iloc[i] = (quarter_eps.eps.iloc[i] - quarter_eps.eps.iloc[i+4]) / quarter_eps.eps.iloc[i+4]\n",
      "C:\\Users\\Rain\\AppData\\Local\\Temp\\ipykernel_23516\\2431815014.py:15: RuntimeWarning: invalid value encountered in double_scalars\n",
      "  quarter_eps.yoy_growth.iloc[i] = (quarter_eps.eps.iloc[i] - quarter_eps.eps.iloc[i+4]) / quarter_eps.eps.iloc[i+4]\n"
     ]
    },
    {
     "name": "stdout",
     "output_type": "stream",
     "text": [
      "\n",
      "CRON not selected\n",
      "CROX not selected\n",
      "CRS not selected\n",
      "CRSP not selected\n",
      "CRSR not selected"
     ]
    },
    {
     "name": "stderr",
     "output_type": "stream",
     "text": [
      "C:\\Users\\Rain\\AppData\\Local\\Temp\\ipykernel_23516\\2431815014.py:15: RuntimeWarning: divide by zero encountered in double_scalars\n",
      "  quarter_eps.yoy_growth.iloc[i] = (quarter_eps.eps.iloc[i] - quarter_eps.eps.iloc[i+4]) / quarter_eps.eps.iloc[i+4]\n",
      "C:\\Users\\Rain\\AppData\\Local\\Temp\\ipykernel_23516\\2431815014.py:15: RuntimeWarning: invalid value encountered in double_scalars\n",
      "  quarter_eps.yoy_growth.iloc[i] = (quarter_eps.eps.iloc[i] - quarter_eps.eps.iloc[i+4]) / quarter_eps.eps.iloc[i+4]\n",
      "C:\\Users\\Rain\\AppData\\Local\\Temp\\ipykernel_23516\\2431815014.py:15: RuntimeWarning: divide by zero encountered in double_scalars\n",
      "  quarter_eps.yoy_growth.iloc[i] = (quarter_eps.eps.iloc[i] - quarter_eps.eps.iloc[i+4]) / quarter_eps.eps.iloc[i+4]\n"
     ]
    },
    {
     "name": "stdout",
     "output_type": "stream",
     "text": [
      "\n",
      "CRT selected\n"
     ]
    },
    {
     "name": "stderr",
     "output_type": "stream",
     "text": [
      "C:\\Users\\Rain\\AppData\\Local\\Temp\\ipykernel_23516\\2431815014.py:15: RuntimeWarning: divide by zero encountered in double_scalars\n",
      "  quarter_eps.yoy_growth.iloc[i] = (quarter_eps.eps.iloc[i] - quarter_eps.eps.iloc[i+4]) / quarter_eps.eps.iloc[i+4]\n",
      "C:\\Users\\Rain\\AppData\\Local\\Temp\\ipykernel_23516\\2431815014.py:15: RuntimeWarning: divide by zero encountered in double_scalars\n",
      "  quarter_eps.yoy_growth.iloc[i] = (quarter_eps.eps.iloc[i] - quarter_eps.eps.iloc[i+4]) / quarter_eps.eps.iloc[i+4]\n"
     ]
    },
    {
     "name": "stdout",
     "output_type": "stream",
     "text": [
      "CRTD not selected\n",
      "CRTO not selected\n"
     ]
    },
    {
     "name": "stderr",
     "output_type": "stream",
     "text": [
      "C:\\Users\\Rain\\AppData\\Local\\Temp\\ipykernel_23516\\2431815014.py:15: RuntimeWarning: divide by zero encountered in double_scalars\n",
      "  quarter_eps.yoy_growth.iloc[i] = (quarter_eps.eps.iloc[i] - quarter_eps.eps.iloc[i+4]) / quarter_eps.eps.iloc[i+4]\n",
      "C:\\Users\\Rain\\AppData\\Local\\Temp\\ipykernel_23516\\2431815014.py:15: RuntimeWarning: divide by zero encountered in double_scalars\n",
      "  quarter_eps.yoy_growth.iloc[i] = (quarter_eps.eps.iloc[i] - quarter_eps.eps.iloc[i+4]) / quarter_eps.eps.iloc[i+4]\n"
     ]
    },
    {
     "name": "stdout",
     "output_type": "stream",
     "text": [
      "CRU selected\n",
      "CRUS selected\n"
     ]
    },
    {
     "name": "stderr",
     "output_type": "stream",
     "text": [
      "C:\\Users\\Rain\\AppData\\Local\\Temp\\ipykernel_23516\\2431815014.py:15: RuntimeWarning: divide by zero encountered in double_scalars\n",
      "  quarter_eps.yoy_growth.iloc[i] = (quarter_eps.eps.iloc[i] - quarter_eps.eps.iloc[i+4]) / quarter_eps.eps.iloc[i+4]\n",
      "C:\\Users\\Rain\\AppData\\Local\\Temp\\ipykernel_23516\\2431815014.py:15: RuntimeWarning: divide by zero encountered in double_scalars\n",
      "  quarter_eps.yoy_growth.iloc[i] = (quarter_eps.eps.iloc[i] - quarter_eps.eps.iloc[i+4]) / quarter_eps.eps.iloc[i+4]\n"
     ]
    },
    {
     "name": "stdout",
     "output_type": "stream",
     "text": [
      "CRVL not selected\n",
      "CRVS not selected\n",
      "CRWD not selected\n",
      "CRWS selected\n",
      "CRXT not selected\n",
      "CRZN data not enough\n"
     ]
    },
    {
     "name": "stderr",
     "output_type": "stream",
     "text": [
      "C:\\Users\\Rain\\AppData\\Local\\Temp\\ipykernel_23516\\2431815014.py:15: RuntimeWarning: divide by zero encountered in double_scalars\n",
      "  quarter_eps.yoy_growth.iloc[i] = (quarter_eps.eps.iloc[i] - quarter_eps.eps.iloc[i+4]) / quarter_eps.eps.iloc[i+4]\n"
     ]
    },
    {
     "name": "stdout",
     "output_type": "stream",
     "text": [
      "CS not selected\n",
      "CSAN not selected\n"
     ]
    },
    {
     "name": "stderr",
     "output_type": "stream",
     "text": [
      "C:\\Users\\Rain\\AppData\\Local\\Temp\\ipykernel_23516\\2431815014.py:15: RuntimeWarning: divide by zero encountered in double_scalars\n",
      "  quarter_eps.yoy_growth.iloc[i] = (quarter_eps.eps.iloc[i] - quarter_eps.eps.iloc[i+4]) / quarter_eps.eps.iloc[i+4]\n",
      "C:\\Users\\Rain\\AppData\\Local\\Temp\\ipykernel_23516\\2431815014.py:15: RuntimeWarning: invalid value encountered in double_scalars\n",
      "  quarter_eps.yoy_growth.iloc[i] = (quarter_eps.eps.iloc[i] - quarter_eps.eps.iloc[i+4]) / quarter_eps.eps.iloc[i+4]\n",
      "C:\\Users\\Rain\\AppData\\Local\\Temp\\ipykernel_23516\\2431815014.py:15: RuntimeWarning: divide by zero encountered in double_scalars\n",
      "  quarter_eps.yoy_growth.iloc[i] = (quarter_eps.eps.iloc[i] - quarter_eps.eps.iloc[i+4]) / quarter_eps.eps.iloc[i+4]\n"
     ]
    },
    {
     "name": "stdout",
     "output_type": "stream",
     "text": [
      "CSBR not selected\n",
      "CSCO not selected\n",
      "CSCW not selected\n",
      "CSGP not selected\n",
      "CSGS not selected\n"
     ]
    },
    {
     "name": "stderr",
     "output_type": "stream",
     "text": [
      "C:\\Users\\Rain\\AppData\\Local\\Temp\\ipykernel_23516\\2431815014.py:15: RuntimeWarning: divide by zero encountered in double_scalars\n",
      "  quarter_eps.yoy_growth.iloc[i] = (quarter_eps.eps.iloc[i] - quarter_eps.eps.iloc[i+4]) / quarter_eps.eps.iloc[i+4]\n"
     ]
    },
    {
     "name": "stdout",
     "output_type": "stream",
     "text": [
      "CSII not selected\n",
      "CSIQ selected\n",
      "CSL selected\n",
      "CSLM data not enough\n",
      "CSPI not selected\n"
     ]
    },
    {
     "name": "stderr",
     "output_type": "stream",
     "text": [
      "C:\\Users\\Rain\\AppData\\Local\\Temp\\ipykernel_23516\\2431815014.py:15: RuntimeWarning: divide by zero encountered in double_scalars\n",
      "  quarter_eps.yoy_growth.iloc[i] = (quarter_eps.eps.iloc[i] - quarter_eps.eps.iloc[i+4]) / quarter_eps.eps.iloc[i+4]\n",
      "C:\\Users\\Rain\\AppData\\Local\\Temp\\ipykernel_23516\\2431815014.py:15: RuntimeWarning: divide by zero encountered in double_scalars\n",
      "  quarter_eps.yoy_growth.iloc[i] = (quarter_eps.eps.iloc[i] - quarter_eps.eps.iloc[i+4]) / quarter_eps.eps.iloc[i+4]\n",
      "C:\\Users\\Rain\\AppData\\Local\\Temp\\ipykernel_23516\\2431815014.py:15: RuntimeWarning: invalid value encountered in double_scalars\n",
      "  quarter_eps.yoy_growth.iloc[i] = (quarter_eps.eps.iloc[i] - quarter_eps.eps.iloc[i+4]) / quarter_eps.eps.iloc[i+4]\n"
     ]
    },
    {
     "name": "stdout",
     "output_type": "stream",
     "text": [
      "CSR not selected\n",
      "CSSE not selected\n",
      "CSTA not selected"
     ]
    },
    {
     "name": "stderr",
     "output_type": "stream",
     "text": [
      "C:\\Users\\Rain\\AppData\\Local\\Temp\\ipykernel_23516\\2431815014.py:15: RuntimeWarning: divide by zero encountered in double_scalars\n",
      "  quarter_eps.yoy_growth.iloc[i] = (quarter_eps.eps.iloc[i] - quarter_eps.eps.iloc[i+4]) / quarter_eps.eps.iloc[i+4]\n",
      "C:\\Users\\Rain\\AppData\\Local\\Temp\\ipykernel_23516\\2431815014.py:15: RuntimeWarning: divide by zero encountered in double_scalars\n",
      "  quarter_eps.yoy_growth.iloc[i] = (quarter_eps.eps.iloc[i] - quarter_eps.eps.iloc[i+4]) / quarter_eps.eps.iloc[i+4]\n"
     ]
    },
    {
     "name": "stdout",
     "output_type": "stream",
     "text": [
      "\n",
      "CSTE selected\n",
      "CSTL selected"
     ]
    },
    {
     "name": "stderr",
     "output_type": "stream",
     "text": [
      "C:\\Users\\Rain\\AppData\\Local\\Temp\\ipykernel_23516\\2431815014.py:15: RuntimeWarning: divide by zero encountered in double_scalars\n",
      "  quarter_eps.yoy_growth.iloc[i] = (quarter_eps.eps.iloc[i] - quarter_eps.eps.iloc[i+4]) / quarter_eps.eps.iloc[i+4]\n",
      "C:\\Users\\Rain\\AppData\\Local\\Temp\\ipykernel_23516\\2431815014.py:15: RuntimeWarning: divide by zero encountered in double_scalars\n",
      "  quarter_eps.yoy_growth.iloc[i] = (quarter_eps.eps.iloc[i] - quarter_eps.eps.iloc[i+4]) / quarter_eps.eps.iloc[i+4]\n"
     ]
    },
    {
     "name": "stdout",
     "output_type": "stream",
     "text": [
      "\n",
      "CSTM not selected\n",
      "CSTR not selected\n"
     ]
    },
    {
     "name": "stderr",
     "output_type": "stream",
     "text": [
      "C:\\Users\\Rain\\AppData\\Local\\Temp\\ipykernel_23516\\2431815014.py:15: RuntimeWarning: divide by zero encountered in double_scalars\n",
      "  quarter_eps.yoy_growth.iloc[i] = (quarter_eps.eps.iloc[i] - quarter_eps.eps.iloc[i+4]) / quarter_eps.eps.iloc[i+4]\n",
      "C:\\Users\\Rain\\AppData\\Local\\Temp\\ipykernel_23516\\2431815014.py:15: RuntimeWarning: invalid value encountered in double_scalars\n",
      "  quarter_eps.yoy_growth.iloc[i] = (quarter_eps.eps.iloc[i] - quarter_eps.eps.iloc[i+4]) / quarter_eps.eps.iloc[i+4]\n",
      "C:\\Users\\Rain\\AppData\\Local\\Temp\\ipykernel_23516\\2431815014.py:19: RuntimeWarning: invalid value encountered in double_scalars\n",
      "  quarter_eps.fixed_yoy_growth.iloc[i] = (quarter_eps.yoy_growth.iloc[i] + quarter_eps.yoy_growth.iloc[i+1]) / 2\n",
      "C:\\Users\\Rain\\AppData\\Local\\Temp\\ipykernel_23516\\2431815014.py:15: RuntimeWarning: divide by zero encountered in double_scalars\n",
      "  quarter_eps.yoy_growth.iloc[i] = (quarter_eps.eps.iloc[i] - quarter_eps.eps.iloc[i+4]) / quarter_eps.eps.iloc[i+4]\n"
     ]
    },
    {
     "name": "stdout",
     "output_type": "stream",
     "text": [
      "CSV not selected\n",
      "CSWC not selected\n",
      "CSWI not selected\n"
     ]
    },
    {
     "name": "stderr",
     "output_type": "stream",
     "text": [
      "C:\\Users\\Rain\\AppData\\Local\\Temp\\ipykernel_23516\\2431815014.py:15: RuntimeWarning: divide by zero encountered in double_scalars\n",
      "  quarter_eps.yoy_growth.iloc[i] = (quarter_eps.eps.iloc[i] - quarter_eps.eps.iloc[i+4]) / quarter_eps.eps.iloc[i+4]\n"
     ]
    },
    {
     "name": "stdout",
     "output_type": "stream",
     "text": [
      "CSX not selected\n",
      "CTAQ not selected\n",
      "CTAS not selected\n"
     ]
    },
    {
     "name": "stderr",
     "output_type": "stream",
     "text": [
      "C:\\Users\\Rain\\AppData\\Local\\Temp\\ipykernel_23516\\2431815014.py:15: RuntimeWarning: divide by zero encountered in double_scalars\n",
      "  quarter_eps.yoy_growth.iloc[i] = (quarter_eps.eps.iloc[i] - quarter_eps.eps.iloc[i+4]) / quarter_eps.eps.iloc[i+4]\n",
      "C:\\Users\\Rain\\AppData\\Local\\Temp\\ipykernel_23516\\2431815014.py:15: RuntimeWarning: invalid value encountered in double_scalars\n",
      "  quarter_eps.yoy_growth.iloc[i] = (quarter_eps.eps.iloc[i] - quarter_eps.eps.iloc[i+4]) / quarter_eps.eps.iloc[i+4]\n",
      "C:\\Users\\Rain\\AppData\\Local\\Temp\\ipykernel_23516\\2431815014.py:15: RuntimeWarning: divide by zero encountered in double_scalars\n",
      "  quarter_eps.yoy_growth.iloc[i] = (quarter_eps.eps.iloc[i] - quarter_eps.eps.iloc[i+4]) / quarter_eps.eps.iloc[i+4]\n"
     ]
    },
    {
     "name": "stdout",
     "output_type": "stream",
     "text": [
      "CTBI not selected\n",
      "CTEK not selected\n",
      "CTG not selected\n"
     ]
    },
    {
     "name": "stderr",
     "output_type": "stream",
     "text": [
      "C:\\Users\\Rain\\AppData\\Local\\Temp\\ipykernel_23516\\2431815014.py:15: RuntimeWarning: divide by zero encountered in double_scalars\n",
      "  quarter_eps.yoy_growth.iloc[i] = (quarter_eps.eps.iloc[i] - quarter_eps.eps.iloc[i+4]) / quarter_eps.eps.iloc[i+4]\n",
      "C:\\Users\\Rain\\AppData\\Local\\Temp\\ipykernel_23516\\2431815014.py:15: RuntimeWarning: divide by zero encountered in double_scalars\n",
      "  quarter_eps.yoy_growth.iloc[i] = (quarter_eps.eps.iloc[i] - quarter_eps.eps.iloc[i+4]) / quarter_eps.eps.iloc[i+4]\n",
      "C:\\Users\\Rain\\AppData\\Local\\Temp\\ipykernel_23516\\2431815014.py:15: RuntimeWarning: invalid value encountered in double_scalars\n",
      "  quarter_eps.yoy_growth.iloc[i] = (quarter_eps.eps.iloc[i] - quarter_eps.eps.iloc[i+4]) / quarter_eps.eps.iloc[i+4]\n",
      "C:\\Users\\Rain\\AppData\\Local\\Temp\\ipykernel_23516\\2431815014.py:15: RuntimeWarning: divide by zero encountered in double_scalars\n",
      "  quarter_eps.yoy_growth.iloc[i] = (quarter_eps.eps.iloc[i] - quarter_eps.eps.iloc[i+4]) / quarter_eps.eps.iloc[i+4]\n"
     ]
    },
    {
     "name": "stdout",
     "output_type": "stream",
     "text": [
      "CTGO not selected\n",
      "CTHR not selected\n",
      "CTIB not selected\n",
      "CTIC not selected\n",
      "CTKB not selected\n",
      "CTLP not selected\n"
     ]
    },
    {
     "name": "stderr",
     "output_type": "stream",
     "text": [
      "C:\\Users\\Rain\\AppData\\Local\\Temp\\ipykernel_23516\\2431815014.py:15: RuntimeWarning: invalid value encountered in double_scalars\n",
      "  quarter_eps.yoy_growth.iloc[i] = (quarter_eps.eps.iloc[i] - quarter_eps.eps.iloc[i+4]) / quarter_eps.eps.iloc[i+4]\n",
      "C:\\Users\\Rain\\AppData\\Local\\Temp\\ipykernel_23516\\2431815014.py:15: RuntimeWarning: divide by zero encountered in double_scalars\n",
      "  quarter_eps.yoy_growth.iloc[i] = (quarter_eps.eps.iloc[i] - quarter_eps.eps.iloc[i+4]) / quarter_eps.eps.iloc[i+4]\n",
      "C:\\Users\\Rain\\AppData\\Local\\Temp\\ipykernel_23516\\2431815014.py:15: RuntimeWarning: divide by zero encountered in double_scalars\n",
      "  quarter_eps.yoy_growth.iloc[i] = (quarter_eps.eps.iloc[i] - quarter_eps.eps.iloc[i+4]) / quarter_eps.eps.iloc[i+4]\n",
      "C:\\Users\\Rain\\AppData\\Local\\Temp\\ipykernel_23516\\2431815014.py:15: RuntimeWarning: divide by zero encountered in double_scalars\n",
      "  quarter_eps.yoy_growth.iloc[i] = (quarter_eps.eps.iloc[i] - quarter_eps.eps.iloc[i+4]) / quarter_eps.eps.iloc[i+4]\n",
      "C:\\Users\\Rain\\AppData\\Local\\Temp\\ipykernel_23516\\2431815014.py:19: RuntimeWarning: invalid value encountered in double_scalars\n",
      "  quarter_eps.fixed_yoy_growth.iloc[i] = (quarter_eps.yoy_growth.iloc[i] + quarter_eps.yoy_growth.iloc[i+1]) / 2\n",
      "C:\\Users\\Rain\\AppData\\Local\\Temp\\ipykernel_23516\\2431815014.py:15: RuntimeWarning: divide by zero encountered in double_scalars\n",
      "  quarter_eps.yoy_growth.iloc[i] = (quarter_eps.eps.iloc[i] - quarter_eps.eps.iloc[i+4]) / quarter_eps.eps.iloc[i+4]\n"
     ]
    },
    {
     "name": "stdout",
     "output_type": "stream",
     "text": [
      "CTLT not selected\n",
      "CTMX not selected\n"
     ]
    },
    {
     "name": "stderr",
     "output_type": "stream",
     "text": [
      "C:\\Users\\Rain\\AppData\\Local\\Temp\\ipykernel_23516\\2431815014.py:15: RuntimeWarning: divide by zero encountered in double_scalars\n",
      "  quarter_eps.yoy_growth.iloc[i] = (quarter_eps.eps.iloc[i] - quarter_eps.eps.iloc[i+4]) / quarter_eps.eps.iloc[i+4]\n",
      "C:\\Users\\Rain\\AppData\\Local\\Temp\\ipykernel_23516\\2431815014.py:15: RuntimeWarning: invalid value encountered in double_scalars\n",
      "  quarter_eps.yoy_growth.iloc[i] = (quarter_eps.eps.iloc[i] - quarter_eps.eps.iloc[i+4]) / quarter_eps.eps.iloc[i+4]\n",
      "C:\\Users\\Rain\\AppData\\Local\\Temp\\ipykernel_23516\\2431815014.py:15: RuntimeWarning: divide by zero encountered in double_scalars\n",
      "  quarter_eps.yoy_growth.iloc[i] = (quarter_eps.eps.iloc[i] - quarter_eps.eps.iloc[i+4]) / quarter_eps.eps.iloc[i+4]\n"
     ]
    },
    {
     "name": "stdout",
     "output_type": "stream",
     "text": [
      "CTO not selected\n",
      "CTOS not selected\n",
      "CTRA selected\n",
      "CTRE not selected\n"
     ]
    },
    {
     "name": "stderr",
     "output_type": "stream",
     "text": [
      "C:\\Users\\Rain\\AppData\\Local\\Temp\\ipykernel_23516\\2431815014.py:15: RuntimeWarning: divide by zero encountered in double_scalars\n",
      "  quarter_eps.yoy_growth.iloc[i] = (quarter_eps.eps.iloc[i] - quarter_eps.eps.iloc[i+4]) / quarter_eps.eps.iloc[i+4]\n",
      "C:\\Users\\Rain\\AppData\\Local\\Temp\\ipykernel_23516\\2431815014.py:15: RuntimeWarning: invalid value encountered in double_scalars\n",
      "  quarter_eps.yoy_growth.iloc[i] = (quarter_eps.eps.iloc[i] - quarter_eps.eps.iloc[i+4]) / quarter_eps.eps.iloc[i+4]\n",
      "C:\\Users\\Rain\\AppData\\Local\\Temp\\ipykernel_23516\\2431815014.py:15: RuntimeWarning: divide by zero encountered in double_scalars\n",
      "  quarter_eps.yoy_growth.iloc[i] = (quarter_eps.eps.iloc[i] - quarter_eps.eps.iloc[i+4]) / quarter_eps.eps.iloc[i+4]\n",
      "C:\\Users\\Rain\\AppData\\Local\\Temp\\ipykernel_23516\\2431815014.py:15: RuntimeWarning: invalid value encountered in double_scalars\n",
      "  quarter_eps.yoy_growth.iloc[i] = (quarter_eps.eps.iloc[i] - quarter_eps.eps.iloc[i+4]) / quarter_eps.eps.iloc[i+4]\n"
     ]
    },
    {
     "name": "stdout",
     "output_type": "stream",
     "text": [
      "CTRM selected\n",
      "CTRN not selected\n"
     ]
    },
    {
     "name": "stderr",
     "output_type": "stream",
     "text": [
      "C:\\Users\\Rain\\AppData\\Local\\Temp\\ipykernel_23516\\2431815014.py:15: RuntimeWarning: divide by zero encountered in double_scalars\n",
      "  quarter_eps.yoy_growth.iloc[i] = (quarter_eps.eps.iloc[i] - quarter_eps.eps.iloc[i+4]) / quarter_eps.eps.iloc[i+4]\n"
     ]
    },
    {
     "name": "stdout",
     "output_type": "stream",
     "text": [
      "CTS selected\n",
      "CTSH not selected\n"
     ]
    },
    {
     "name": "stderr",
     "output_type": "stream",
     "text": [
      "C:\\Users\\Rain\\AppData\\Local\\Temp\\ipykernel_23516\\2431815014.py:15: RuntimeWarning: divide by zero encountered in double_scalars\n",
      "  quarter_eps.yoy_growth.iloc[i] = (quarter_eps.eps.iloc[i] - quarter_eps.eps.iloc[i+4]) / quarter_eps.eps.iloc[i+4]\n",
      "C:\\Users\\Rain\\AppData\\Local\\Temp\\ipykernel_23516\\2431815014.py:15: RuntimeWarning: invalid value encountered in double_scalars\n",
      "  quarter_eps.yoy_growth.iloc[i] = (quarter_eps.eps.iloc[i] - quarter_eps.eps.iloc[i+4]) / quarter_eps.eps.iloc[i+4]\n",
      "C:\\Users\\Rain\\AppData\\Local\\Temp\\ipykernel_23516\\2431815014.py:15: RuntimeWarning: divide by zero encountered in double_scalars\n",
      "  quarter_eps.yoy_growth.iloc[i] = (quarter_eps.eps.iloc[i] - quarter_eps.eps.iloc[i+4]) / quarter_eps.eps.iloc[i+4]\n"
     ]
    },
    {
     "name": "stdout",
     "output_type": "stream",
     "text": [
      "CTSO selected\n",
      "CTT not selected\n",
      "CTV not selected\n",
      "CTVA not selected\n",
      "CTXR not selected"
     ]
    },
    {
     "name": "stderr",
     "output_type": "stream",
     "text": [
      "C:\\Users\\Rain\\AppData\\Local\\Temp\\ipykernel_23516\\2431815014.py:15: RuntimeWarning: divide by zero encountered in double_scalars\n",
      "  quarter_eps.yoy_growth.iloc[i] = (quarter_eps.eps.iloc[i] - quarter_eps.eps.iloc[i+4]) / quarter_eps.eps.iloc[i+4]\n",
      "C:\\Users\\Rain\\AppData\\Local\\Temp\\ipykernel_23516\\2431815014.py:19: RuntimeWarning: invalid value encountered in double_scalars\n",
      "  quarter_eps.fixed_yoy_growth.iloc[i] = (quarter_eps.yoy_growth.iloc[i] + quarter_eps.yoy_growth.iloc[i+1]) / 2\n",
      "C:\\Users\\Rain\\AppData\\Local\\Temp\\ipykernel_23516\\2431815014.py:15: RuntimeWarning: divide by zero encountered in double_scalars\n",
      "  quarter_eps.yoy_growth.iloc[i] = (quarter_eps.eps.iloc[i] - quarter_eps.eps.iloc[i+4]) / quarter_eps.eps.iloc[i+4]\n",
      "C:\\Users\\Rain\\AppData\\Local\\Temp\\ipykernel_23516\\2431815014.py:15: RuntimeWarning: invalid value encountered in double_scalars\n",
      "  quarter_eps.yoy_growth.iloc[i] = (quarter_eps.eps.iloc[i] - quarter_eps.eps.iloc[i+4]) / quarter_eps.eps.iloc[i+4]\n"
     ]
    },
    {
     "name": "stdout",
     "output_type": "stream",
     "text": [
      "\n",
      "CTXS not selected\n"
     ]
    },
    {
     "name": "stderr",
     "output_type": "stream",
     "text": [
      "C:\\Users\\Rain\\AppData\\Local\\Temp\\ipykernel_23516\\2431815014.py:15: RuntimeWarning: divide by zero encountered in double_scalars\n",
      "  quarter_eps.yoy_growth.iloc[i] = (quarter_eps.eps.iloc[i] - quarter_eps.eps.iloc[i+4]) / quarter_eps.eps.iloc[i+4]\n",
      "C:\\Users\\Rain\\AppData\\Local\\Temp\\ipykernel_23516\\2431815014.py:15: RuntimeWarning: divide by zero encountered in double_scalars\n",
      "  quarter_eps.yoy_growth.iloc[i] = (quarter_eps.eps.iloc[i] - quarter_eps.eps.iloc[i+4]) / quarter_eps.eps.iloc[i+4]\n"
     ]
    },
    {
     "name": "stdout",
     "output_type": "stream",
     "text": [
      "CUBE not selected\n",
      "CUBI not selected\n"
     ]
    },
    {
     "name": "stderr",
     "output_type": "stream",
     "text": [
      "C:\\Users\\Rain\\AppData\\Local\\Temp\\ipykernel_23516\\2431815014.py:15: RuntimeWarning: divide by zero encountered in double_scalars\n",
      "  quarter_eps.yoy_growth.iloc[i] = (quarter_eps.eps.iloc[i] - quarter_eps.eps.iloc[i+4]) / quarter_eps.eps.iloc[i+4]\n",
      "C:\\Users\\Rain\\AppData\\Local\\Temp\\ipykernel_23516\\2431815014.py:15: RuntimeWarning: divide by zero encountered in double_scalars\n",
      "  quarter_eps.yoy_growth.iloc[i] = (quarter_eps.eps.iloc[i] - quarter_eps.eps.iloc[i+4]) / quarter_eps.eps.iloc[i+4]\n",
      "C:\\Users\\Rain\\AppData\\Local\\Temp\\ipykernel_23516\\2431815014.py:15: RuntimeWarning: invalid value encountered in double_scalars\n",
      "  quarter_eps.yoy_growth.iloc[i] = (quarter_eps.eps.iloc[i] - quarter_eps.eps.iloc[i+4]) / quarter_eps.eps.iloc[i+4]\n"
     ]
    },
    {
     "name": "stdout",
     "output_type": "stream",
     "text": [
      "CUE not selected\n",
      "CUEN not selected\n",
      "CUK not selected\n",
      "CULL not selected\n"
     ]
    },
    {
     "name": "stderr",
     "output_type": "stream",
     "text": [
      "C:\\Users\\Rain\\AppData\\Local\\Temp\\ipykernel_23516\\2431815014.py:15: RuntimeWarning: divide by zero encountered in double_scalars\n",
      "  quarter_eps.yoy_growth.iloc[i] = (quarter_eps.eps.iloc[i] - quarter_eps.eps.iloc[i+4]) / quarter_eps.eps.iloc[i+4]\n"
     ]
    },
    {
     "name": "stdout",
     "output_type": "stream",
     "text": [
      "CULP not selected\n",
      "CURI not selected\n",
      "CURO not selected"
     ]
    },
    {
     "name": "stderr",
     "output_type": "stream",
     "text": [
      "C:\\Users\\Rain\\AppData\\Local\\Temp\\ipykernel_23516\\2431815014.py:15: RuntimeWarning: divide by zero encountered in double_scalars\n",
      "  quarter_eps.yoy_growth.iloc[i] = (quarter_eps.eps.iloc[i] - quarter_eps.eps.iloc[i+4]) / quarter_eps.eps.iloc[i+4]\n",
      "C:\\Users\\Rain\\AppData\\Local\\Temp\\ipykernel_23516\\2431815014.py:15: RuntimeWarning: divide by zero encountered in double_scalars\n",
      "  quarter_eps.yoy_growth.iloc[i] = (quarter_eps.eps.iloc[i] - quarter_eps.eps.iloc[i+4]) / quarter_eps.eps.iloc[i+4]\n"
     ]
    },
    {
     "name": "stdout",
     "output_type": "stream",
     "text": [
      "\n",
      "CURV not selected\n"
     ]
    },
    {
     "name": "stderr",
     "output_type": "stream",
     "text": [
      "C:\\Users\\Rain\\AppData\\Local\\Temp\\ipykernel_23516\\2431815014.py:15: RuntimeWarning: divide by zero encountered in double_scalars\n",
      "  quarter_eps.yoy_growth.iloc[i] = (quarter_eps.eps.iloc[i] - quarter_eps.eps.iloc[i+4]) / quarter_eps.eps.iloc[i+4]\n",
      "C:\\Users\\Rain\\AppData\\Local\\Temp\\ipykernel_23516\\2431815014.py:15: RuntimeWarning: divide by zero encountered in double_scalars\n",
      "  quarter_eps.yoy_growth.iloc[i] = (quarter_eps.eps.iloc[i] - quarter_eps.eps.iloc[i+4]) / quarter_eps.eps.iloc[i+4]\n"
     ]
    },
    {
     "name": "stdout",
     "output_type": "stream",
     "text": [
      "CUTR selected\n",
      "CUZ not selected\n",
      "CVAC data not enough\n",
      "CVBF not selected\n"
     ]
    },
    {
     "name": "stderr",
     "output_type": "stream",
     "text": [
      "C:\\Users\\Rain\\AppData\\Local\\Temp\\ipykernel_23516\\2431815014.py:15: RuntimeWarning: divide by zero encountered in double_scalars\n",
      "  quarter_eps.yoy_growth.iloc[i] = (quarter_eps.eps.iloc[i] - quarter_eps.eps.iloc[i+4]) / quarter_eps.eps.iloc[i+4]\n"
     ]
    },
    {
     "name": "stdout",
     "output_type": "stream",
     "text": [
      "CVCO selected\n",
      "CVCY not selected\n",
      "CVE selected\n",
      "CVEO not exsit\n",
      "CVET not selected\n"
     ]
    },
    {
     "name": "stderr",
     "output_type": "stream",
     "text": [
      "C:\\Users\\Rain\\AppData\\Local\\Temp\\ipykernel_23516\\2431815014.py:15: RuntimeWarning: divide by zero encountered in double_scalars\n",
      "  quarter_eps.yoy_growth.iloc[i] = (quarter_eps.eps.iloc[i] - quarter_eps.eps.iloc[i+4]) / quarter_eps.eps.iloc[i+4]\n",
      "C:\\Users\\Rain\\AppData\\Local\\Temp\\ipykernel_23516\\2431815014.py:15: RuntimeWarning: divide by zero encountered in double_scalars\n",
      "  quarter_eps.yoy_growth.iloc[i] = (quarter_eps.eps.iloc[i] - quarter_eps.eps.iloc[i+4]) / quarter_eps.eps.iloc[i+4]\n"
     ]
    },
    {
     "name": "stdout",
     "output_type": "stream",
     "text": [
      "CVGI not selected\n",
      "CVGW not selected\n",
      "CVI not selected\n",
      "CVII not selected\n"
     ]
    },
    {
     "name": "stderr",
     "output_type": "stream",
     "text": [
      "C:\\Users\\Rain\\AppData\\Local\\Temp\\ipykernel_23516\\2431815014.py:15: RuntimeWarning: divide by zero encountered in double_scalars\n",
      "  quarter_eps.yoy_growth.iloc[i] = (quarter_eps.eps.iloc[i] - quarter_eps.eps.iloc[i+4]) / quarter_eps.eps.iloc[i+4]\n",
      "C:\\Users\\Rain\\AppData\\Local\\Temp\\ipykernel_23516\\2431815014.py:15: RuntimeWarning: divide by zero encountered in double_scalars\n",
      "  quarter_eps.yoy_growth.iloc[i] = (quarter_eps.eps.iloc[i] - quarter_eps.eps.iloc[i+4]) / quarter_eps.eps.iloc[i+4]\n"
     ]
    },
    {
     "name": "stdout",
     "output_type": "stream",
     "text": [
      "CVLG not selected\n",
      "CVLT not selected\n"
     ]
    },
    {
     "name": "stderr",
     "output_type": "stream",
     "text": [
      "C:\\Users\\Rain\\AppData\\Local\\Temp\\ipykernel_23516\\2431815014.py:15: RuntimeWarning: divide by zero encountered in double_scalars\n",
      "  quarter_eps.yoy_growth.iloc[i] = (quarter_eps.eps.iloc[i] - quarter_eps.eps.iloc[i+4]) / quarter_eps.eps.iloc[i+4]\n",
      "C:\\Users\\Rain\\AppData\\Local\\Temp\\ipykernel_23516\\2431815014.py:15: RuntimeWarning: divide by zero encountered in double_scalars\n",
      "  quarter_eps.yoy_growth.iloc[i] = (quarter_eps.eps.iloc[i] - quarter_eps.eps.iloc[i+4]) / quarter_eps.eps.iloc[i+4]\n"
     ]
    },
    {
     "name": "stdout",
     "output_type": "stream",
     "text": [
      "CVLY not selected\n",
      "CVM not selected\n"
     ]
    },
    {
     "name": "stderr",
     "output_type": "stream",
     "text": [
      "C:\\Users\\Rain\\AppData\\Local\\Temp\\ipykernel_23516\\2431815014.py:15: RuntimeWarning: divide by zero encountered in double_scalars\n",
      "  quarter_eps.yoy_growth.iloc[i] = (quarter_eps.eps.iloc[i] - quarter_eps.eps.iloc[i+4]) / quarter_eps.eps.iloc[i+4]\n",
      "C:\\Users\\Rain\\AppData\\Local\\Temp\\ipykernel_23516\\2431815014.py:15: RuntimeWarning: divide by zero encountered in double_scalars\n",
      "  quarter_eps.yoy_growth.iloc[i] = (quarter_eps.eps.iloc[i] - quarter_eps.eps.iloc[i+4]) / quarter_eps.eps.iloc[i+4]\n"
     ]
    },
    {
     "name": "stdout",
     "output_type": "stream",
     "text": [
      "CVNA not selected\n",
      "CVR not selected\n",
      "CVRX not selected\n",
      "CVS not selected\n",
      "CVT not selected\n"
     ]
    },
    {
     "name": "stderr",
     "output_type": "stream",
     "text": [
      "C:\\Users\\Rain\\AppData\\Local\\Temp\\ipykernel_23516\\2431815014.py:15: RuntimeWarning: divide by zero encountered in double_scalars\n",
      "  quarter_eps.yoy_growth.iloc[i] = (quarter_eps.eps.iloc[i] - quarter_eps.eps.iloc[i+4]) / quarter_eps.eps.iloc[i+4]\n",
      "C:\\Users\\Rain\\AppData\\Local\\Temp\\ipykernel_23516\\2431815014.py:15: RuntimeWarning: divide by zero encountered in double_scalars\n",
      "  quarter_eps.yoy_growth.iloc[i] = (quarter_eps.eps.iloc[i] - quarter_eps.eps.iloc[i+4]) / quarter_eps.eps.iloc[i+4]\n"
     ]
    },
    {
     "name": "stdout",
     "output_type": "stream",
     "text": [
      "CVV not selected\n",
      "CVX selected\n",
      "CW not selected\n",
      "CWAN not selected\n",
      "CWBC not selected\n"
     ]
    },
    {
     "name": "stderr",
     "output_type": "stream",
     "text": [
      "C:\\Users\\Rain\\AppData\\Local\\Temp\\ipykernel_23516\\2431815014.py:15: RuntimeWarning: divide by zero encountered in double_scalars\n",
      "  quarter_eps.yoy_growth.iloc[i] = (quarter_eps.eps.iloc[i] - quarter_eps.eps.iloc[i+4]) / quarter_eps.eps.iloc[i+4]\n",
      "C:\\Users\\Rain\\AppData\\Local\\Temp\\ipykernel_23516\\2431815014.py:15: RuntimeWarning: invalid value encountered in double_scalars\n",
      "  quarter_eps.yoy_growth.iloc[i] = (quarter_eps.eps.iloc[i] - quarter_eps.eps.iloc[i+4]) / quarter_eps.eps.iloc[i+4]\n",
      "C:\\Users\\Rain\\AppData\\Local\\Temp\\ipykernel_23516\\2431815014.py:15: RuntimeWarning: divide by zero encountered in double_scalars\n",
      "  quarter_eps.yoy_growth.iloc[i] = (quarter_eps.eps.iloc[i] - quarter_eps.eps.iloc[i+4]) / quarter_eps.eps.iloc[i+4]\n"
     ]
    },
    {
     "name": "stdout",
     "output_type": "stream",
     "text": [
      "CWBR not selected\n",
      "CWCO not selected\n"
     ]
    },
    {
     "name": "stderr",
     "output_type": "stream",
     "text": [
      "C:\\Users\\Rain\\AppData\\Local\\Temp\\ipykernel_23516\\2431815014.py:15: RuntimeWarning: divide by zero encountered in double_scalars\n",
      "  quarter_eps.yoy_growth.iloc[i] = (quarter_eps.eps.iloc[i] - quarter_eps.eps.iloc[i+4]) / quarter_eps.eps.iloc[i+4]\n",
      "C:\\Users\\Rain\\AppData\\Local\\Temp\\ipykernel_23516\\2431815014.py:15: RuntimeWarning: invalid value encountered in double_scalars\n",
      "  quarter_eps.yoy_growth.iloc[i] = (quarter_eps.eps.iloc[i] - quarter_eps.eps.iloc[i+4]) / quarter_eps.eps.iloc[i+4]\n",
      "C:\\Users\\Rain\\AppData\\Local\\Temp\\ipykernel_23516\\2431815014.py:19: RuntimeWarning: invalid value encountered in double_scalars\n",
      "  quarter_eps.fixed_yoy_growth.iloc[i] = (quarter_eps.yoy_growth.iloc[i] + quarter_eps.yoy_growth.iloc[i+1]) / 2\n",
      "C:\\Users\\Rain\\AppData\\Local\\Temp\\ipykernel_23516\\2431815014.py:15: RuntimeWarning: divide by zero encountered in double_scalars\n",
      "  quarter_eps.yoy_growth.iloc[i] = (quarter_eps.eps.iloc[i] - quarter_eps.eps.iloc[i+4]) / quarter_eps.eps.iloc[i+4]\n",
      "C:\\Users\\Rain\\AppData\\Local\\Temp\\ipykernel_23516\\2431815014.py:15: RuntimeWarning: invalid value encountered in double_scalars\n",
      "  quarter_eps.yoy_growth.iloc[i] = (quarter_eps.eps.iloc[i] - quarter_eps.eps.iloc[i+4]) / quarter_eps.eps.iloc[i+4]\n",
      "C:\\Users\\Rain\\AppData\\Local\\Temp\\ipykernel_23516\\2431815014.py:19: RuntimeWarning: invalid value encountered in double_scalars\n",
      "  quarter_eps.fixed_yoy_growth.iloc[i] = (quarter_eps.yoy_growth.iloc[i] + quarter_eps.yoy_growth.iloc[i+1]) / 2\n",
      "C:\\Users\\Rain\\AppData\\Local\\Temp\\ipykernel_23516\\2431815014.py:15: RuntimeWarning: divide by zero encountered in double_scalars\n",
      "  quarter_eps.yoy_growth.iloc[i] = (quarter_eps.eps.iloc[i] - quarter_eps.eps.iloc[i+4]) / quarter_eps.eps.iloc[i+4]\n",
      "C:\\Users\\Rain\\AppData\\Local\\Temp\\ipykernel_23516\\2431815014.py:15: RuntimeWarning: invalid value encountered in double_scalars\n",
      "  quarter_eps.yoy_growth.iloc[i] = (quarter_eps.eps.iloc[i] - quarter_eps.eps.iloc[i+4]) / quarter_eps.eps.iloc[i+4]\n",
      "C:\\Users\\Rain\\AppData\\Local\\Temp\\ipykernel_23516\\2431815014.py:19: RuntimeWarning: invalid value encountered in double_scalars\n",
      "  quarter_eps.fixed_yoy_growth.iloc[i] = (quarter_eps.yoy_growth.iloc[i] + quarter_eps.yoy_growth.iloc[i+1]) / 2\n"
     ]
    },
    {
     "name": "stdout",
     "output_type": "stream",
     "text": [
      "CWEN selected\n",
      "CWENA selected\n"
     ]
    },
    {
     "name": "stderr",
     "output_type": "stream",
     "text": [
      "C:\\Users\\Rain\\AppData\\Local\\Temp\\ipykernel_23516\\2431815014.py:15: RuntimeWarning: divide by zero encountered in double_scalars\n",
      "  quarter_eps.yoy_growth.iloc[i] = (quarter_eps.eps.iloc[i] - quarter_eps.eps.iloc[i+4]) / quarter_eps.eps.iloc[i+4]\n",
      "C:\\Users\\Rain\\AppData\\Local\\Temp\\ipykernel_23516\\2431815014.py:15: RuntimeWarning: invalid value encountered in double_scalars\n",
      "  quarter_eps.yoy_growth.iloc[i] = (quarter_eps.eps.iloc[i] - quarter_eps.eps.iloc[i+4]) / quarter_eps.eps.iloc[i+4]\n",
      "C:\\Users\\Rain\\AppData\\Local\\Temp\\ipykernel_23516\\2431815014.py:15: RuntimeWarning: divide by zero encountered in double_scalars\n",
      "  quarter_eps.yoy_growth.iloc[i] = (quarter_eps.eps.iloc[i] - quarter_eps.eps.iloc[i+4]) / quarter_eps.eps.iloc[i+4]\n",
      "C:\\Users\\Rain\\AppData\\Local\\Temp\\ipykernel_23516\\2431815014.py:15: RuntimeWarning: invalid value encountered in double_scalars\n",
      "  quarter_eps.yoy_growth.iloc[i] = (quarter_eps.eps.iloc[i] - quarter_eps.eps.iloc[i+4]) / quarter_eps.eps.iloc[i+4]\n"
     ]
    },
    {
     "name": "stdout",
     "output_type": "stream",
     "text": [
      "CWH not selected\n",
      "CWK not selected\n",
      "CWST not selected\n",
      "CWT not selected\n",
      "CX not selected\n",
      "CXAC data not enough\n"
     ]
    },
    {
     "name": "stderr",
     "output_type": "stream",
     "text": [
      "C:\\Users\\Rain\\AppData\\Local\\Temp\\ipykernel_23516\\2431815014.py:15: RuntimeWarning: divide by zero encountered in double_scalars\n",
      "  quarter_eps.yoy_growth.iloc[i] = (quarter_eps.eps.iloc[i] - quarter_eps.eps.iloc[i+4]) / quarter_eps.eps.iloc[i+4]\n",
      "C:\\Users\\Rain\\AppData\\Local\\Temp\\ipykernel_23516\\2431815014.py:15: RuntimeWarning: divide by zero encountered in double_scalars\n",
      "  quarter_eps.yoy_growth.iloc[i] = (quarter_eps.eps.iloc[i] - quarter_eps.eps.iloc[i+4]) / quarter_eps.eps.iloc[i+4]\n",
      "C:\\Users\\Rain\\AppData\\Local\\Temp\\ipykernel_23516\\2431815014.py:19: RuntimeWarning: invalid value encountered in double_scalars\n",
      "  quarter_eps.fixed_yoy_growth.iloc[i] = (quarter_eps.yoy_growth.iloc[i] + quarter_eps.yoy_growth.iloc[i+1]) / 2\n",
      "C:\\Users\\Rain\\AppData\\Local\\Temp\\ipykernel_23516\\2431815014.py:15: RuntimeWarning: divide by zero encountered in double_scalars\n",
      "  quarter_eps.yoy_growth.iloc[i] = (quarter_eps.eps.iloc[i] - quarter_eps.eps.iloc[i+4]) / quarter_eps.eps.iloc[i+4]\n"
     ]
    },
    {
     "name": "stdout",
     "output_type": "stream",
     "text": [
      "CXDO not selected\n",
      "CXM not selected\n"
     ]
    },
    {
     "name": "stderr",
     "output_type": "stream",
     "text": [
      "C:\\Users\\Rain\\AppData\\Local\\Temp\\ipykernel_23516\\2431815014.py:15: RuntimeWarning: invalid value encountered in double_scalars\n",
      "  quarter_eps.yoy_growth.iloc[i] = (quarter_eps.eps.iloc[i] - quarter_eps.eps.iloc[i+4]) / quarter_eps.eps.iloc[i+4]\n",
      "C:\\Users\\Rain\\AppData\\Local\\Temp\\ipykernel_23516\\2431815014.py:15: RuntimeWarning: divide by zero encountered in double_scalars\n",
      "  quarter_eps.yoy_growth.iloc[i] = (quarter_eps.eps.iloc[i] - quarter_eps.eps.iloc[i+4]) / quarter_eps.eps.iloc[i+4]\n",
      "C:\\Users\\Rain\\AppData\\Local\\Temp\\ipykernel_23516\\2431815014.py:15: RuntimeWarning: divide by zero encountered in double_scalars\n",
      "  quarter_eps.yoy_growth.iloc[i] = (quarter_eps.eps.iloc[i] - quarter_eps.eps.iloc[i+4]) / quarter_eps.eps.iloc[i+4]\n",
      "C:\\Users\\Rain\\AppData\\Local\\Temp\\ipykernel_23516\\2431815014.py:15: RuntimeWarning: divide by zero encountered in double_scalars\n",
      "  quarter_eps.yoy_growth.iloc[i] = (quarter_eps.eps.iloc[i] - quarter_eps.eps.iloc[i+4]) / quarter_eps.eps.iloc[i+4]\n"
     ]
    },
    {
     "name": "stdout",
     "output_type": "stream",
     "text": [
      "CXW not selected\n",
      "CYAD not selected\n",
      "CYAN not selected\n",
      "CYBE not selected\n",
      "CYBN data not enough\n",
      "CYBR selected\n",
      "CYCC not exsit\n"
     ]
    },
    {
     "name": "stderr",
     "output_type": "stream",
     "text": [
      "C:\\Users\\Rain\\AppData\\Local\\Temp\\ipykernel_23516\\2431815014.py:15: RuntimeWarning: divide by zero encountered in double_scalars\n",
      "  quarter_eps.yoy_growth.iloc[i] = (quarter_eps.eps.iloc[i] - quarter_eps.eps.iloc[i+4]) / quarter_eps.eps.iloc[i+4]\n",
      "C:\\Users\\Rain\\AppData\\Local\\Temp\\ipykernel_23516\\2431815014.py:15: RuntimeWarning: divide by zero encountered in double_scalars\n",
      "  quarter_eps.yoy_growth.iloc[i] = (quarter_eps.eps.iloc[i] - quarter_eps.eps.iloc[i+4]) / quarter_eps.eps.iloc[i+4]\n"
     ]
    },
    {
     "name": "stdout",
     "output_type": "stream",
     "text": [
      "CYCN not selected\n",
      "CYD selected\n"
     ]
    },
    {
     "name": "stderr",
     "output_type": "stream",
     "text": [
      "C:\\Users\\Rain\\AppData\\Local\\Temp\\ipykernel_23516\\2431815014.py:15: RuntimeWarning: divide by zero encountered in double_scalars\n",
      "  quarter_eps.yoy_growth.iloc[i] = (quarter_eps.eps.iloc[i] - quarter_eps.eps.iloc[i+4]) / quarter_eps.eps.iloc[i+4]\n"
     ]
    },
    {
     "name": "stdout",
     "output_type": "stream",
     "text": [
      "CYH not selected\n",
      "CYN not selected\n"
     ]
    },
    {
     "name": "stderr",
     "output_type": "stream",
     "text": [
      "C:\\Users\\Rain\\AppData\\Local\\Temp\\ipykernel_23516\\2431815014.py:15: RuntimeWarning: divide by zero encountered in double_scalars\n",
      "  quarter_eps.yoy_growth.iloc[i] = (quarter_eps.eps.iloc[i] - quarter_eps.eps.iloc[i+4]) / quarter_eps.eps.iloc[i+4]\n",
      "C:\\Users\\Rain\\AppData\\Local\\Temp\\ipykernel_23516\\2431815014.py:15: RuntimeWarning: divide by zero encountered in double_scalars\n",
      "  quarter_eps.yoy_growth.iloc[i] = (quarter_eps.eps.iloc[i] - quarter_eps.eps.iloc[i+4]) / quarter_eps.eps.iloc[i+4]\n"
     ]
    },
    {
     "name": "stdout",
     "output_type": "stream",
     "text": [
      "CYRN not selected\n",
      "CYRX not selected\n"
     ]
    },
    {
     "name": "stderr",
     "output_type": "stream",
     "text": [
      "C:\\Users\\Rain\\AppData\\Local\\Temp\\ipykernel_23516\\2431815014.py:15: RuntimeWarning: divide by zero encountered in double_scalars\n",
      "  quarter_eps.yoy_growth.iloc[i] = (quarter_eps.eps.iloc[i] - quarter_eps.eps.iloc[i+4]) / quarter_eps.eps.iloc[i+4]\n",
      "C:\\Users\\Rain\\AppData\\Local\\Temp\\ipykernel_23516\\2431815014.py:15: RuntimeWarning: invalid value encountered in double_scalars\n",
      "  quarter_eps.yoy_growth.iloc[i] = (quarter_eps.eps.iloc[i] - quarter_eps.eps.iloc[i+4]) / quarter_eps.eps.iloc[i+4]\n",
      "C:\\Users\\Rain\\AppData\\Local\\Temp\\ipykernel_23516\\2431815014.py:15: RuntimeWarning: divide by zero encountered in double_scalars\n",
      "  quarter_eps.yoy_growth.iloc[i] = (quarter_eps.eps.iloc[i] - quarter_eps.eps.iloc[i+4]) / quarter_eps.eps.iloc[i+4]\n"
     ]
    },
    {
     "name": "stdout",
     "output_type": "stream",
     "text": [
      "CYT not selected\n",
      "CYTH not selected\n"
     ]
    },
    {
     "name": "stderr",
     "output_type": "stream",
     "text": [
      "C:\\Users\\Rain\\AppData\\Local\\Temp\\ipykernel_23516\\2431815014.py:15: RuntimeWarning: divide by zero encountered in double_scalars\n",
      "  quarter_eps.yoy_growth.iloc[i] = (quarter_eps.eps.iloc[i] - quarter_eps.eps.iloc[i+4]) / quarter_eps.eps.iloc[i+4]\n",
      "C:\\Users\\Rain\\AppData\\Local\\Temp\\ipykernel_23516\\2431815014.py:15: RuntimeWarning: invalid value encountered in double_scalars\n",
      "  quarter_eps.yoy_growth.iloc[i] = (quarter_eps.eps.iloc[i] - quarter_eps.eps.iloc[i+4]) / quarter_eps.eps.iloc[i+4]\n"
     ]
    },
    {
     "name": "stdout",
     "output_type": "stream",
     "text": [
      "CYTK not selected\n",
      "CYTO not selected\n"
     ]
    },
    {
     "name": "stderr",
     "output_type": "stream",
     "text": [
      "C:\\Users\\Rain\\AppData\\Local\\Temp\\ipykernel_23516\\2431815014.py:15: RuntimeWarning: divide by zero encountered in double_scalars\n",
      "  quarter_eps.yoy_growth.iloc[i] = (quarter_eps.eps.iloc[i] - quarter_eps.eps.iloc[i+4]) / quarter_eps.eps.iloc[i+4]\n"
     ]
    },
    {
     "name": "stdout",
     "output_type": "stream",
     "text": [
      "CYXT not selected\n",
      "CZNC not selected\n"
     ]
    }
   ],
   "source": [
    "# when target date equals to 0, means getting the lastest \n",
    "# when target date equals to 1, means getting the last quarter\n",
    "def select_by_eps(targetdate = 0):\n",
    "    pd.set_option('mode.chained_assignment', None)\n",
    "    selected_df = pd.DataFrame(columns=['ticker','eps_g1','eps_g2','eps_g3'])\n",
    "    for ticker in name_list:\n",
    "        try:\n",
    "            quarter_eps = pd.read_sql('{}'.format(ticker),con=quarter_engine)\n",
    "            if len(quarter_eps) < targetdate + 7:\n",
    "                print('{} data not enough'.format(ticker))\n",
    "                continue\n",
    "            targettime = quarter_eps.iloc[targetdate].datetime\n",
    "            quarter_eps['yoy_growth'] = 0\n",
    "            for i in range(len(quarter_eps)-4):\n",
    "                quarter_eps.yoy_growth.iloc[i] = (quarter_eps.eps.iloc[i] - quarter_eps.eps.iloc[i+4]) / quarter_eps.eps.iloc[i+4]\n",
    "            # fix the growth rate\n",
    "            quarter_eps['fixed_yoy_growth'] = 0\n",
    "            for i in range(len(quarter_eps)-1):\n",
    "                quarter_eps.fixed_yoy_growth.iloc[i] = (quarter_eps.yoy_growth.iloc[i] + quarter_eps.yoy_growth.iloc[i+1]) / 2 \n",
    "            # pick the ticker\n",
    "            if quarter_eps.iloc[targetdate].yoy_growth > quarter_eps.iloc[targetdate+1].yoy_growth > quarter_eps.iloc[targetdate+2].yoy_growth > 0.2 or quarter_eps.iloc[targetdate].yoy_growth > 1:\n",
    "                eps_g1 = quarter_eps.iloc[targetdate].yoy_growth\n",
    "                eps_g2 = quarter_eps.iloc[targetdate+1].yoy_growth\n",
    "                eps_g3 = quarter_eps.iloc[targetdate+2].yoy_growth\n",
    "                temp = pd.DataFrame([[ticker,eps_g1,eps_g2,eps_g3]],columns=['ticker','eps_g1','eps_g2','eps_g3'])\n",
    "                selected_df = pd.concat([selected_df,temp])\n",
    "                print('{} selected'.format(ticker))\n",
    "            elif quarter_eps.iloc[targetdate].fixed_yoy_growth > quarter_eps.iloc[targetdate+1].fixed_yoy_growth > quarter_eps.iloc[targetdate+2].fixed_yoy_growth > 0.2 or quarter_eps.iloc[targetdate].fixed_yoy_growth > 1:\n",
    "                eps_g1 = quarter_eps.iloc[targetdate].fixed_yoy_growth\n",
    "                eps_g2 = quarter_eps.iloc[targetdate+1].fixed_yoy_growth\n",
    "                eps_g3 = quarter_eps.iloc[targetdate+2].fixed_yoy_growth\n",
    "                temp = pd.DataFrame([[ticker,eps_g1,eps_g2,eps_g3]],columns=['ticker','eps_g1','eps_g2','eps_g3'])\n",
    "                selected_df = pd.concat([selected_df,temp])\n",
    "                print('{} selected'.format(ticker))\n",
    "            else:\n",
    "                print('{} not selected'.format(ticker))\n",
    "        except:\n",
    "            print('{} not exsit'.format(ticker))\n",
    "    # 删除inf\n",
    "    selected_df.replace([np.inf, -np.inf], np.nan,inplace=True)\n",
    "    selected_df.dropna(axis=0, inplace=True)\n",
    "    selected_df.index = range(len(selected_df))\n",
    "    selected_df.to_csv('./results/selected_ticker_by_eps_{}.csv'.format(targettime),index=None)\n",
    "    # selected_df.to_csv('selected_ticker_by_eps.csv',index=None)\n",
    "select_by_eps()"
   ]
  },
  {
   "cell_type": "code",
   "execution_count": 23,
   "metadata": {},
   "outputs": [
    {
     "data": {
      "text/html": [
       "<div>\n",
       "<style scoped>\n",
       "    .dataframe tbody tr th:only-of-type {\n",
       "        vertical-align: middle;\n",
       "    }\n",
       "\n",
       "    .dataframe tbody tr th {\n",
       "        vertical-align: top;\n",
       "    }\n",
       "\n",
       "    .dataframe thead th {\n",
       "        text-align: right;\n",
       "    }\n",
       "</style>\n",
       "<table border=\"1\" class=\"dataframe\">\n",
       "  <thead>\n",
       "    <tr style=\"text-align: right;\">\n",
       "      <th></th>\n",
       "      <th>ticker</th>\n",
       "      <th>eps1</th>\n",
       "      <th>eps2</th>\n",
       "      <th>eps3</th>\n",
       "    </tr>\n",
       "  </thead>\n",
       "  <tbody>\n",
       "    <tr>\n",
       "      <th>0</th>\n",
       "      <td>a</td>\n",
       "      <td>1</td>\n",
       "      <td>2</td>\n",
       "      <td>3</td>\n",
       "    </tr>\n",
       "  </tbody>\n",
       "</table>\n",
       "</div>"
      ],
      "text/plain": [
       "  ticker  eps1  eps2  eps3\n",
       "0      a     1     2     3"
      ]
     },
     "execution_count": 23,
     "metadata": {},
     "output_type": "execute_result"
    }
   ],
   "source": [
    "sl = [1,2,3,4]\n",
    "df = pd.DataFrame(sl,columns=['symbol'])\n",
    "df\n",
    "selected_df = pd.DataFrame([['a',1,2,3]],columns=['ticker','eps1','eps2','eps3'])\n",
    "selected_df"
   ]
  },
  {
   "cell_type": "markdown",
   "metadata": {},
   "source": [
    "# sample"
   ]
  },
  {
   "cell_type": "code",
   "execution_count": 2,
   "metadata": {},
   "outputs": [
    {
     "name": "stdout",
     "output_type": "stream",
     "text": [
      "not selected\n"
     ]
    }
   ],
   "source": [
    "pd.set_option('mode.chained_assignment', None)\n",
    " # quarter\n",
    "quarter_eps = pd.read_sql('{}'.format('AAPL'),con=quarter_engine)\n",
    "# quarter_eps = quarter_eps.head(8)\n",
    "# if len(quarter_eps) == 8:\n",
    "quarter_eps['yoy_growth'] = 0\n",
    "for i in range(len(quarter_eps)-4):\n",
    "    quarter_eps.yoy_growth.iloc[i] = (quarter_eps.eps.iloc[i] - quarter_eps.eps.iloc[i+4]) / quarter_eps.eps.iloc[i+4]\n",
    "# store the data\n",
    "quarter_eps\n",
    "# fix the growth rate\n",
    "quarter_eps['fixed_yoy_growth'] = 0\n",
    "for i in range(len(quarter_eps)-1):\n",
    "    quarter_eps.fixed_yoy_growth.iloc[i] = (quarter_eps.yoy_growth.iloc[i] + quarter_eps.yoy_growth.iloc[i+1]) / 2 \n",
    "quarter_eps\n",
    "# pick the ticker\n",
    "if quarter_eps.iloc[0].yoy_growth > quarter_eps.iloc[1].yoy_growth > quarter_eps.iloc[2].yoy_growth > 0.2 or quarter_eps.iloc[0].yoy_growth > 1:\n",
    "    print('selected')\n",
    "elif quarter_eps.iloc[0].yoy_growth > quarter_eps.iloc[1].fixed_yoy_growth > quarter_eps.iloc[2].fixed_yoy_growth > 0.2 or quarter_eps.iloc[0].fixed_yoy_growth > 1:\n",
    "    print('selected')\n",
    "else:\n",
    "    print('not selected')\n",
    "\n",
    "# if str(quarter_eps.iloc[0].datetime)[:4] != '2022':\n",
    "#     continue\n",
    "# elif quarter_eps.iloc[:3].eps.min() < 0:\n",
    "#     continue\n",
    "# else:\n",
    "#     updatetime = quarter_eps.iloc[0].datetime\n",
    "#     length = len(quarter_eps)\n",
    "#     quarter_eps['q_chg_rate'] = 0.0\n",
    "#     for i in range(length-1):\n",
    "#         quarter_eps['q_chg_rate'].iloc[i]  = round(((quarter_eps.iloc[i].eps - quarter_eps.iloc[i+1].eps) / quarter_eps.iloc[i+1].eps),3).copy()\n",
    "#     quarter_chg_rate = round(quarter_eps.iloc[:3].q_chg_rate.mean(),4)\n",
    "#     # print('{} eps: {}'.format(ticker, quarter_chg_rate))"
   ]
  },
  {
   "cell_type": "code",
   "execution_count": 4,
   "metadata": {},
   "outputs": [
    {
     "data": {
      "text/plain": [
       "'2022-03-31'"
      ]
     },
     "execution_count": 4,
     "metadata": {},
     "output_type": "execute_result"
    }
   ],
   "source": [
    "quarter_eps.iloc[1].datetime"
   ]
  },
  {
   "cell_type": "code",
   "execution_count": null,
   "metadata": {},
   "outputs": [],
   "source": []
  }
 ],
 "metadata": {
  "kernelspec": {
   "display_name": "Python 3.9.12 ('.env')",
   "language": "python",
   "name": "python3"
  },
  "language_info": {
   "codemirror_mode": {
    "name": "ipython",
    "version": 3
   },
   "file_extension": ".py",
   "mimetype": "text/x-python",
   "name": "python",
   "nbconvert_exporter": "python",
   "pygments_lexer": "ipython3",
   "version": "3.9.12"
  },
  "orig_nbformat": 4,
  "vscode": {
   "interpreter": {
    "hash": "275094a250fb64a879cf604ce7b88b81b1f18c35ecd757c3dc3951589b6fa1fd"
   }
  }
 },
 "nbformat": 4,
 "nbformat_minor": 2
}
