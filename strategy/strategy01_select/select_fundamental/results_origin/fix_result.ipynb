{
 "cells": [
  {
   "cell_type": "code",
   "execution_count": 2,
   "metadata": {},
   "outputs": [],
   "source": [
    "import pandas as pd"
   ]
  },
  {
   "cell_type": "code",
   "execution_count": 3,
   "metadata": {},
   "outputs": [],
   "source": [
    "eps_19_03 = pd.read_csv('../results/selected_ticker_by_eps_2019-03-31.csv')\n",
    "eps_19_06 = pd.read_csv('../results/selected_ticker_by_eps_2019-06-30.csv')\n",
    "eps_19_09 = pd.read_csv('../results/selected_ticker_by_eps_2019-09-30.csv')\n",
    "eps_19_12 = pd.read_csv('../results/selected_ticker_by_eps_2019-12-31.csv')\n",
    "eps_20_03 = pd.read_csv('../results/selected_ticker_by_eps_2020-03-31.csv')\n",
    "eps_20_06 = pd.read_csv('../results/selected_ticker_by_eps_2020-06-30.csv')\n",
    "eps_20_09 = pd.read_csv('../results/selected_ticker_by_eps_2020-09-30.csv')\n",
    "eps_20_12 = pd.read_csv('../results/selected_ticker_by_eps_2020-12-31.csv')\n",
    "eps_21_03 = pd.read_csv('../results/selected_ticker_by_eps_2021-03-31.csv')\n",
    "eps_21_06 = pd.read_csv('../results/selected_ticker_by_eps_2021-06-30.csv')\n",
    "eps_21_09 = pd.read_csv('../results/selected_ticker_by_eps_2021-09-30.csv')\n",
    "eps_21_12 = pd.read_csv('../results/selected_ticker_by_eps_2021-12-31.csv')\n",
    "\n",
    "# \n",
    "eps_22_03 = pd.read_csv('../results/selected_ticker_by_eps_2022-03-31.csv')\n",
    "eps_22_06 = pd.read_csv('../results/selected_ticker_by_eps_2022-06-30.csv')\n"
   ]
  },
  {
   "cell_type": "code",
   "execution_count": 20,
   "metadata": {},
   "outputs": [],
   "source": [
    "res_list = [    eps_19_03, eps_19_06, eps_19_09, eps_19_12,\n",
    "                eps_20_03, eps_20_06, eps_20_09, eps_20_12,\n",
    "                eps_21_03, eps_21_06, eps_21_09, eps_21_12]\n",
    "\n",
    "res_name_list = ['eps_19_03', 'eps_19_06', 'eps_19_09', 'eps_19_12',\n",
    "                'eps_20_03', 'eps_20_06', 'eps_20_09', 'eps_20_12',\n",
    "                'eps_21_03', 'eps_21_06', 'eps_21_09', 'eps_21_12']\n",
    "ind = 0\n",
    "for res in res_list:\n",
    "    res1 = res.query('eps_g1 < 1')\n",
    "    res1.index = range(len(res1))\n",
    "    res2 = res.query('eps_g3 > 1 and eps_g2 > 1 and eps_g1 > 1')\n",
    "    res2.index = range(len(res2))\n",
    "    res1.to_csv('../results_fixed/select_by_{}_1.csv'.format(res_name_list[ind]),index=None)\n",
    "    res2.to_csv('../results_fixed/select_by_{}_2.csv'.format(res_name_list[ind]),index=None)\n",
    "    ind += 1"
   ]
  },
  {
   "cell_type": "code",
   "execution_count": null,
   "metadata": {},
   "outputs": [],
   "source": []
  }
 ],
 "metadata": {
  "kernelspec": {
   "display_name": "Python 3.9.12 ('.env')",
   "language": "python",
   "name": "python3"
  },
  "language_info": {
   "codemirror_mode": {
    "name": "ipython",
    "version": 3
   },
   "file_extension": ".py",
   "mimetype": "text/x-python",
   "name": "python",
   "nbconvert_exporter": "python",
   "pygments_lexer": "ipython3",
   "version": "3.9.12"
  },
  "orig_nbformat": 4,
  "vscode": {
   "interpreter": {
    "hash": "275094a250fb64a879cf604ce7b88b81b1f18c35ecd757c3dc3951589b6fa1fd"
   }
  }
 },
 "nbformat": 4,
 "nbformat_minor": 2
}
