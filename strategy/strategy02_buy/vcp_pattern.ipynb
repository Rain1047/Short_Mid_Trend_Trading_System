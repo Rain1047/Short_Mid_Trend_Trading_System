{
 "cells": [
  {
   "cell_type": "code",
   "execution_count": 1,
   "metadata": {},
   "outputs": [],
   "source": [
    "import backtrader as bt\n",
    "import pandas as pd\n",
    "import numpy as np\n",
    "# from get_score import get_score_ch\n",
    "from sqlalchemy import create_engine\n",
    "import talib as ta\n",
    "import datetime\n",
    "import pandas as pd"
   ]
  },
  {
   "cell_type": "code",
   "execution_count": 2,
   "metadata": {},
   "outputs": [],
   "source": [
    "# indicators test\n",
    "## import data\n",
    "engine= create_engine('sqlite:///../../dataset/us/us_ticker_price_yf.db')\n",
    "df = pd.read_sql('AAPL', engine)\n",
    "df.rename(columns={'hgih':'high'},inplace=True)\n",
    "df['chg_pct'] = ((df.close - df.open)/df.open)*100\n",
    "df['close'] = df['close'].apply(lambda x: round(x,3))"
   ]
  },
  {
   "cell_type": "code",
   "execution_count": 3,
   "metadata": {},
   "outputs": [
    {
     "data": {
      "text/html": [
       "<div>\n",
       "<style scoped>\n",
       "    .dataframe tbody tr th:only-of-type {\n",
       "        vertical-align: middle;\n",
       "    }\n",
       "\n",
       "    .dataframe tbody tr th {\n",
       "        vertical-align: top;\n",
       "    }\n",
       "\n",
       "    .dataframe thead th {\n",
       "        text-align: right;\n",
       "    }\n",
       "</style>\n",
       "<table border=\"1\" class=\"dataframe\">\n",
       "  <thead>\n",
       "    <tr style=\"text-align: right;\">\n",
       "      <th></th>\n",
       "      <th>open</th>\n",
       "      <th>high</th>\n",
       "      <th>low</th>\n",
       "      <th>close</th>\n",
       "      <th>Adj Close</th>\n",
       "      <th>volume</th>\n",
       "      <th>datetime</th>\n",
       "      <th>chg_pct</th>\n",
       "    </tr>\n",
       "  </thead>\n",
       "  <tbody>\n",
       "    <tr>\n",
       "      <th>0</th>\n",
       "      <td>0.128348</td>\n",
       "      <td>0.128906</td>\n",
       "      <td>0.128348</td>\n",
       "      <td>0.128</td>\n",
       "      <td>0.100178</td>\n",
       "      <td>469033600</td>\n",
       "      <td>1980-12-12</td>\n",
       "      <td>0.000000</td>\n",
       "    </tr>\n",
       "    <tr>\n",
       "      <th>1</th>\n",
       "      <td>0.122210</td>\n",
       "      <td>0.122210</td>\n",
       "      <td>0.121652</td>\n",
       "      <td>0.122</td>\n",
       "      <td>0.094952</td>\n",
       "      <td>175884800</td>\n",
       "      <td>1980-12-15</td>\n",
       "      <td>-0.456594</td>\n",
       "    </tr>\n",
       "    <tr>\n",
       "      <th>2</th>\n",
       "      <td>0.113281</td>\n",
       "      <td>0.113281</td>\n",
       "      <td>0.112723</td>\n",
       "      <td>0.113</td>\n",
       "      <td>0.087983</td>\n",
       "      <td>105728000</td>\n",
       "      <td>1980-12-16</td>\n",
       "      <td>-0.492577</td>\n",
       "    </tr>\n",
       "    <tr>\n",
       "      <th>3</th>\n",
       "      <td>0.115513</td>\n",
       "      <td>0.116071</td>\n",
       "      <td>0.115513</td>\n",
       "      <td>0.116</td>\n",
       "      <td>0.090160</td>\n",
       "      <td>86441600</td>\n",
       "      <td>1980-12-17</td>\n",
       "      <td>0.000000</td>\n",
       "    </tr>\n",
       "    <tr>\n",
       "      <th>4</th>\n",
       "      <td>0.118862</td>\n",
       "      <td>0.119420</td>\n",
       "      <td>0.118862</td>\n",
       "      <td>0.119</td>\n",
       "      <td>0.092774</td>\n",
       "      <td>73449600</td>\n",
       "      <td>1980-12-18</td>\n",
       "      <td>0.000000</td>\n",
       "    </tr>\n",
       "    <tr>\n",
       "      <th>...</th>\n",
       "      <td>...</td>\n",
       "      <td>...</td>\n",
       "      <td>...</td>\n",
       "      <td>...</td>\n",
       "      <td>...</td>\n",
       "      <td>...</td>\n",
       "      <td>...</td>\n",
       "      <td>...</td>\n",
       "    </tr>\n",
       "    <tr>\n",
       "      <th>10480</th>\n",
       "      <td>145.259995</td>\n",
       "      <td>147.550003</td>\n",
       "      <td>145.000000</td>\n",
       "      <td>147.040</td>\n",
       "      <td>147.039993</td>\n",
       "      <td>64493200</td>\n",
       "      <td>2022-07-08</td>\n",
       "      <td>1.225388</td>\n",
       "    </tr>\n",
       "    <tr>\n",
       "      <th>10481</th>\n",
       "      <td>145.669998</td>\n",
       "      <td>146.639999</td>\n",
       "      <td>143.779999</td>\n",
       "      <td>144.870</td>\n",
       "      <td>144.869995</td>\n",
       "      <td>63141600</td>\n",
       "      <td>2022-07-11</td>\n",
       "      <td>-0.549189</td>\n",
       "    </tr>\n",
       "    <tr>\n",
       "      <th>10482</th>\n",
       "      <td>145.759995</td>\n",
       "      <td>148.449997</td>\n",
       "      <td>145.050003</td>\n",
       "      <td>145.860</td>\n",
       "      <td>145.860001</td>\n",
       "      <td>77588800</td>\n",
       "      <td>2022-07-12</td>\n",
       "      <td>0.068610</td>\n",
       "    </tr>\n",
       "    <tr>\n",
       "      <th>10483</th>\n",
       "      <td>142.990005</td>\n",
       "      <td>146.449997</td>\n",
       "      <td>142.119995</td>\n",
       "      <td>145.490</td>\n",
       "      <td>145.490005</td>\n",
       "      <td>71185600</td>\n",
       "      <td>2022-07-13</td>\n",
       "      <td>1.748374</td>\n",
       "    </tr>\n",
       "    <tr>\n",
       "      <th>10484</th>\n",
       "      <td>144.080002</td>\n",
       "      <td>148.949997</td>\n",
       "      <td>143.250000</td>\n",
       "      <td>148.470</td>\n",
       "      <td>148.470001</td>\n",
       "      <td>77996900</td>\n",
       "      <td>2022-07-14</td>\n",
       "      <td>3.046918</td>\n",
       "    </tr>\n",
       "  </tbody>\n",
       "</table>\n",
       "<p>10485 rows × 8 columns</p>\n",
       "</div>"
      ],
      "text/plain": [
       "             open        high         low    close   Adj Close     volume  \\\n",
       "0        0.128348    0.128906    0.128348    0.128    0.100178  469033600   \n",
       "1        0.122210    0.122210    0.121652    0.122    0.094952  175884800   \n",
       "2        0.113281    0.113281    0.112723    0.113    0.087983  105728000   \n",
       "3        0.115513    0.116071    0.115513    0.116    0.090160   86441600   \n",
       "4        0.118862    0.119420    0.118862    0.119    0.092774   73449600   \n",
       "...           ...         ...         ...      ...         ...        ...   \n",
       "10480  145.259995  147.550003  145.000000  147.040  147.039993   64493200   \n",
       "10481  145.669998  146.639999  143.779999  144.870  144.869995   63141600   \n",
       "10482  145.759995  148.449997  145.050003  145.860  145.860001   77588800   \n",
       "10483  142.990005  146.449997  142.119995  145.490  145.490005   71185600   \n",
       "10484  144.080002  148.949997  143.250000  148.470  148.470001   77996900   \n",
       "\n",
       "         datetime   chg_pct  \n",
       "0      1980-12-12  0.000000  \n",
       "1      1980-12-15 -0.456594  \n",
       "2      1980-12-16 -0.492577  \n",
       "3      1980-12-17  0.000000  \n",
       "4      1980-12-18  0.000000  \n",
       "...           ...       ...  \n",
       "10480  2022-07-08  1.225388  \n",
       "10481  2022-07-11 -0.549189  \n",
       "10482  2022-07-12  0.068610  \n",
       "10483  2022-07-13  1.748374  \n",
       "10484  2022-07-14  3.046918  \n",
       "\n",
       "[10485 rows x 8 columns]"
      ]
     },
     "execution_count": 3,
     "metadata": {},
     "output_type": "execute_result"
    }
   ],
   "source": [
    "df"
   ]
  },
  {
   "cell_type": "code",
   "execution_count": 4,
   "metadata": {},
   "outputs": [],
   "source": [
    "periods = [10,20,50,150,200]\n",
    "for period in periods:\n",
    "    df['MA{}'.format(period)] = ta.SMA(df.close, timeperiod=period)\n"
   ]
  },
  {
   "cell_type": "code",
   "execution_count": 5,
   "metadata": {},
   "outputs": [
    {
     "data": {
      "text/html": [
       "<div>\n",
       "<style scoped>\n",
       "    .dataframe tbody tr th:only-of-type {\n",
       "        vertical-align: middle;\n",
       "    }\n",
       "\n",
       "    .dataframe tbody tr th {\n",
       "        vertical-align: top;\n",
       "    }\n",
       "\n",
       "    .dataframe thead th {\n",
       "        text-align: right;\n",
       "    }\n",
       "</style>\n",
       "<table border=\"1\" class=\"dataframe\">\n",
       "  <thead>\n",
       "    <tr style=\"text-align: right;\">\n",
       "      <th></th>\n",
       "      <th>open</th>\n",
       "      <th>high</th>\n",
       "      <th>low</th>\n",
       "      <th>close</th>\n",
       "      <th>Adj Close</th>\n",
       "      <th>volume</th>\n",
       "      <th>datetime</th>\n",
       "      <th>chg_pct</th>\n",
       "      <th>MA10</th>\n",
       "      <th>MA20</th>\n",
       "      <th>MA50</th>\n",
       "      <th>MA150</th>\n",
       "      <th>MA200</th>\n",
       "    </tr>\n",
       "  </thead>\n",
       "  <tbody>\n",
       "    <tr>\n",
       "      <th>0</th>\n",
       "      <td>0.128348</td>\n",
       "      <td>0.128906</td>\n",
       "      <td>0.128348</td>\n",
       "      <td>0.128</td>\n",
       "      <td>0.100178</td>\n",
       "      <td>469033600</td>\n",
       "      <td>1980-12-12</td>\n",
       "      <td>0.000000</td>\n",
       "      <td>NaN</td>\n",
       "      <td>NaN</td>\n",
       "      <td>NaN</td>\n",
       "      <td>NaN</td>\n",
       "      <td>NaN</td>\n",
       "    </tr>\n",
       "    <tr>\n",
       "      <th>1</th>\n",
       "      <td>0.122210</td>\n",
       "      <td>0.122210</td>\n",
       "      <td>0.121652</td>\n",
       "      <td>0.122</td>\n",
       "      <td>0.094952</td>\n",
       "      <td>175884800</td>\n",
       "      <td>1980-12-15</td>\n",
       "      <td>-0.456594</td>\n",
       "      <td>NaN</td>\n",
       "      <td>NaN</td>\n",
       "      <td>NaN</td>\n",
       "      <td>NaN</td>\n",
       "      <td>NaN</td>\n",
       "    </tr>\n",
       "    <tr>\n",
       "      <th>2</th>\n",
       "      <td>0.113281</td>\n",
       "      <td>0.113281</td>\n",
       "      <td>0.112723</td>\n",
       "      <td>0.113</td>\n",
       "      <td>0.087983</td>\n",
       "      <td>105728000</td>\n",
       "      <td>1980-12-16</td>\n",
       "      <td>-0.492577</td>\n",
       "      <td>NaN</td>\n",
       "      <td>NaN</td>\n",
       "      <td>NaN</td>\n",
       "      <td>NaN</td>\n",
       "      <td>NaN</td>\n",
       "    </tr>\n",
       "    <tr>\n",
       "      <th>3</th>\n",
       "      <td>0.115513</td>\n",
       "      <td>0.116071</td>\n",
       "      <td>0.115513</td>\n",
       "      <td>0.116</td>\n",
       "      <td>0.090160</td>\n",
       "      <td>86441600</td>\n",
       "      <td>1980-12-17</td>\n",
       "      <td>0.000000</td>\n",
       "      <td>NaN</td>\n",
       "      <td>NaN</td>\n",
       "      <td>NaN</td>\n",
       "      <td>NaN</td>\n",
       "      <td>NaN</td>\n",
       "    </tr>\n",
       "    <tr>\n",
       "      <th>4</th>\n",
       "      <td>0.118862</td>\n",
       "      <td>0.119420</td>\n",
       "      <td>0.118862</td>\n",
       "      <td>0.119</td>\n",
       "      <td>0.092774</td>\n",
       "      <td>73449600</td>\n",
       "      <td>1980-12-18</td>\n",
       "      <td>0.000000</td>\n",
       "      <td>NaN</td>\n",
       "      <td>NaN</td>\n",
       "      <td>NaN</td>\n",
       "      <td>NaN</td>\n",
       "      <td>NaN</td>\n",
       "    </tr>\n",
       "    <tr>\n",
       "      <th>...</th>\n",
       "      <td>...</td>\n",
       "      <td>...</td>\n",
       "      <td>...</td>\n",
       "      <td>...</td>\n",
       "      <td>...</td>\n",
       "      <td>...</td>\n",
       "      <td>...</td>\n",
       "      <td>...</td>\n",
       "      <td>...</td>\n",
       "      <td>...</td>\n",
       "      <td>...</td>\n",
       "      <td>...</td>\n",
       "      <td>...</td>\n",
       "    </tr>\n",
       "    <tr>\n",
       "      <th>10480</th>\n",
       "      <td>145.259995</td>\n",
       "      <td>147.550003</td>\n",
       "      <td>145.000000</td>\n",
       "      <td>147.040</td>\n",
       "      <td>147.039993</td>\n",
       "      <td>64493200</td>\n",
       "      <td>2022-07-08</td>\n",
       "      <td>1.225388</td>\n",
       "      <td>141.351</td>\n",
       "      <td>138.2230</td>\n",
       "      <td>144.9494</td>\n",
       "      <td>161.237067</td>\n",
       "      <td>158.28875</td>\n",
       "    </tr>\n",
       "    <tr>\n",
       "      <th>10481</th>\n",
       "      <td>145.669998</td>\n",
       "      <td>146.639999</td>\n",
       "      <td>143.779999</td>\n",
       "      <td>144.870</td>\n",
       "      <td>144.869995</td>\n",
       "      <td>63141600</td>\n",
       "      <td>2022-07-11</td>\n",
       "      <td>-0.549189</td>\n",
       "      <td>141.672</td>\n",
       "      <td>138.3345</td>\n",
       "      <td>144.7154</td>\n",
       "      <td>161.111133</td>\n",
       "      <td>158.28385</td>\n",
       "    </tr>\n",
       "    <tr>\n",
       "      <th>10482</th>\n",
       "      <td>145.759995</td>\n",
       "      <td>148.449997</td>\n",
       "      <td>145.050003</td>\n",
       "      <td>145.860</td>\n",
       "      <td>145.860001</td>\n",
       "      <td>77588800</td>\n",
       "      <td>2022-07-12</td>\n",
       "      <td>0.068610</td>\n",
       "      <td>142.092</td>\n",
       "      <td>138.7710</td>\n",
       "      <td>144.3598</td>\n",
       "      <td>161.004600</td>\n",
       "      <td>158.27900</td>\n",
       "    </tr>\n",
       "    <tr>\n",
       "      <th>10483</th>\n",
       "      <td>142.990005</td>\n",
       "      <td>146.449997</td>\n",
       "      <td>142.119995</td>\n",
       "      <td>145.490</td>\n",
       "      <td>145.490005</td>\n",
       "      <td>71185600</td>\n",
       "      <td>2022-07-13</td>\n",
       "      <td>1.748374</td>\n",
       "      <td>142.897</td>\n",
       "      <td>139.4515</td>\n",
       "      <td>144.1166</td>\n",
       "      <td>160.872400</td>\n",
       "      <td>158.27185</td>\n",
       "    </tr>\n",
       "    <tr>\n",
       "      <th>10484</th>\n",
       "      <td>144.080002</td>\n",
       "      <td>148.949997</td>\n",
       "      <td>143.250000</td>\n",
       "      <td>148.470</td>\n",
       "      <td>148.470001</td>\n",
       "      <td>77996900</td>\n",
       "      <td>2022-07-14</td>\n",
       "      <td>3.046918</td>\n",
       "      <td>143.821</td>\n",
       "      <td>140.2370</td>\n",
       "      <td>143.9268</td>\n",
       "      <td>160.721000</td>\n",
       "      <td>158.28735</td>\n",
       "    </tr>\n",
       "  </tbody>\n",
       "</table>\n",
       "<p>10485 rows × 13 columns</p>\n",
       "</div>"
      ],
      "text/plain": [
       "             open        high         low    close   Adj Close     volume  \\\n",
       "0        0.128348    0.128906    0.128348    0.128    0.100178  469033600   \n",
       "1        0.122210    0.122210    0.121652    0.122    0.094952  175884800   \n",
       "2        0.113281    0.113281    0.112723    0.113    0.087983  105728000   \n",
       "3        0.115513    0.116071    0.115513    0.116    0.090160   86441600   \n",
       "4        0.118862    0.119420    0.118862    0.119    0.092774   73449600   \n",
       "...           ...         ...         ...      ...         ...        ...   \n",
       "10480  145.259995  147.550003  145.000000  147.040  147.039993   64493200   \n",
       "10481  145.669998  146.639999  143.779999  144.870  144.869995   63141600   \n",
       "10482  145.759995  148.449997  145.050003  145.860  145.860001   77588800   \n",
       "10483  142.990005  146.449997  142.119995  145.490  145.490005   71185600   \n",
       "10484  144.080002  148.949997  143.250000  148.470  148.470001   77996900   \n",
       "\n",
       "         datetime   chg_pct     MA10      MA20      MA50       MA150  \\\n",
       "0      1980-12-12  0.000000      NaN       NaN       NaN         NaN   \n",
       "1      1980-12-15 -0.456594      NaN       NaN       NaN         NaN   \n",
       "2      1980-12-16 -0.492577      NaN       NaN       NaN         NaN   \n",
       "3      1980-12-17  0.000000      NaN       NaN       NaN         NaN   \n",
       "4      1980-12-18  0.000000      NaN       NaN       NaN         NaN   \n",
       "...           ...       ...      ...       ...       ...         ...   \n",
       "10480  2022-07-08  1.225388  141.351  138.2230  144.9494  161.237067   \n",
       "10481  2022-07-11 -0.549189  141.672  138.3345  144.7154  161.111133   \n",
       "10482  2022-07-12  0.068610  142.092  138.7710  144.3598  161.004600   \n",
       "10483  2022-07-13  1.748374  142.897  139.4515  144.1166  160.872400   \n",
       "10484  2022-07-14  3.046918  143.821  140.2370  143.9268  160.721000   \n",
       "\n",
       "           MA200  \n",
       "0            NaN  \n",
       "1            NaN  \n",
       "2            NaN  \n",
       "3            NaN  \n",
       "4            NaN  \n",
       "...          ...  \n",
       "10480  158.28875  \n",
       "10481  158.28385  \n",
       "10482  158.27900  \n",
       "10483  158.27185  \n",
       "10484  158.28735  \n",
       "\n",
       "[10485 rows x 13 columns]"
      ]
     },
     "execution_count": 5,
     "metadata": {},
     "output_type": "execute_result"
    }
   ],
   "source": [
    "df"
   ]
  },
  {
   "cell_type": "markdown",
   "metadata": {},
   "source": []
  },
  {
   "cell_type": "code",
   "execution_count": 6,
   "metadata": {},
   "outputs": [
    {
     "data": {
      "text/html": [
       "<div>\n",
       "<style scoped>\n",
       "    .dataframe tbody tr th:only-of-type {\n",
       "        vertical-align: middle;\n",
       "    }\n",
       "\n",
       "    .dataframe tbody tr th {\n",
       "        vertical-align: top;\n",
       "    }\n",
       "\n",
       "    .dataframe thead th {\n",
       "        text-align: right;\n",
       "    }\n",
       "</style>\n",
       "<table border=\"1\" class=\"dataframe\">\n",
       "  <thead>\n",
       "    <tr style=\"text-align: right;\">\n",
       "      <th></th>\n",
       "      <th>ticker</th>\n",
       "      <th>conMA50</th>\n",
       "      <th>conMA200-trend</th>\n",
       "      <th>RSvalue</th>\n",
       "      <th>con52week-high</th>\n",
       "      <th>con52week-low</th>\n",
       "    </tr>\n",
       "  </thead>\n",
       "  <tbody>\n",
       "  </tbody>\n",
       "</table>\n",
       "</div>"
      ],
      "text/plain": [
       "Empty DataFrame\n",
       "Columns: [ticker, conMA50, conMA200-trend, RSvalue, con52week-high, con52week-low]\n",
       "Index: []"
      ]
     },
     "execution_count": 6,
     "metadata": {},
     "output_type": "execute_result"
    }
   ],
   "source": [
    "select = pd.DataFrame(columns=['ticker','conMA50','conMA200-trend','RSvalue','con52week-high','con52week-low'])\n",
    "select"
   ]
  },
  {
   "cell_type": "code",
   "execution_count": 7,
   "metadata": {},
   "outputs": [],
   "source": [
    "df_length = len(df)"
   ]
  },
  {
   "cell_type": "code",
   "execution_count": 8,
   "metadata": {},
   "outputs": [],
   "source": [
    "# con1,con2,con3,con4,con5 = 0,0,0,0,0\n",
    "# if df.iloc[df_length-1].close > df.iloc[df_length-1].MA50 > df.iloc[df_length-1].MA150 > df.iloc[df_length-1].MA200:\n",
    "#     con1 = 1\n",
    "# if "
   ]
  },
  {
   "cell_type": "code",
   "execution_count": 9,
   "metadata": {},
   "outputs": [
    {
     "data": {
      "text/plain": [
       "array([1.2800e-01, 1.2200e-01, 1.1300e-01, ..., 1.4586e+02, 1.4549e+02,\n",
       "       1.4847e+02])"
      ]
     },
     "execution_count": 9,
     "metadata": {},
     "output_type": "execute_result"
    }
   ],
   "source": [
    "# find vcp\n",
    "close_price = np.array(df.close)\n",
    "close_price"
   ]
  },
  {
   "cell_type": "code",
   "execution_count": 10,
   "metadata": {},
   "outputs": [],
   "source": [
    "import scipy.signal as sg"
   ]
  },
  {
   "cell_type": "code",
   "execution_count": 11,
   "metadata": {},
   "outputs": [],
   "source": [
    "max_index = sg.argrelmax(close_price)"
   ]
  },
  {
   "cell_type": "code",
   "execution_count": 12,
   "metadata": {},
   "outputs": [
    {
     "data": {
      "text/plain": [
       "(array([   10,    13,    18, ..., 10474, 10480, 10482]),)"
      ]
     },
     "execution_count": 12,
     "metadata": {},
     "output_type": "execute_result"
    }
   ],
   "source": [
    "max_index"
   ]
  },
  {
   "cell_type": "code",
   "execution_count": 13,
   "metadata": {},
   "outputs": [
    {
     "data": {
      "text/plain": [
       "(10352, 182.01)"
      ]
     },
     "execution_count": 13,
     "metadata": {},
     "output_type": "execute_result"
    }
   ],
   "source": [
    "np.argmax(close_price),np.max(close_price)"
   ]
  },
  {
   "cell_type": "code",
   "execution_count": 14,
   "metadata": {},
   "outputs": [],
   "source": [
    "df = df.tail(180)\n",
    "df.index = range(len(df))"
   ]
  },
  {
   "cell_type": "code",
   "execution_count": 15,
   "metadata": {},
   "outputs": [
    {
     "data": {
      "text/html": [
       "<div>\n",
       "<style scoped>\n",
       "    .dataframe tbody tr th:only-of-type {\n",
       "        vertical-align: middle;\n",
       "    }\n",
       "\n",
       "    .dataframe tbody tr th {\n",
       "        vertical-align: top;\n",
       "    }\n",
       "\n",
       "    .dataframe thead th {\n",
       "        text-align: right;\n",
       "    }\n",
       "</style>\n",
       "<table border=\"1\" class=\"dataframe\">\n",
       "  <thead>\n",
       "    <tr style=\"text-align: right;\">\n",
       "      <th></th>\n",
       "      <th>open</th>\n",
       "      <th>high</th>\n",
       "      <th>low</th>\n",
       "      <th>close</th>\n",
       "      <th>Adj Close</th>\n",
       "      <th>volume</th>\n",
       "      <th>datetime</th>\n",
       "      <th>chg_pct</th>\n",
       "      <th>MA10</th>\n",
       "      <th>MA20</th>\n",
       "      <th>MA50</th>\n",
       "      <th>MA150</th>\n",
       "      <th>MA200</th>\n",
       "    </tr>\n",
       "  </thead>\n",
       "  <tbody>\n",
       "    <tr>\n",
       "      <th>0</th>\n",
       "      <td>149.330002</td>\n",
       "      <td>150.839996</td>\n",
       "      <td>149.009995</td>\n",
       "      <td>149.32</td>\n",
       "      <td>148.694199</td>\n",
       "      <td>60893400</td>\n",
       "      <td>2021-10-26</td>\n",
       "      <td>-0.006693</td>\n",
       "      <td>147.021</td>\n",
       "      <td>144.4975</td>\n",
       "      <td>147.2054</td>\n",
       "      <td>138.639800</td>\n",
       "      <td>136.20800</td>\n",
       "    </tr>\n",
       "    <tr>\n",
       "      <th>1</th>\n",
       "      <td>149.360001</td>\n",
       "      <td>149.729996</td>\n",
       "      <td>148.490005</td>\n",
       "      <td>148.85</td>\n",
       "      <td>148.226166</td>\n",
       "      <td>56094900</td>\n",
       "      <td>2021-10-27</td>\n",
       "      <td>-0.341453</td>\n",
       "      <td>147.815</td>\n",
       "      <td>144.7985</td>\n",
       "      <td>147.1786</td>\n",
       "      <td>138.828200</td>\n",
       "      <td>136.30825</td>\n",
       "    </tr>\n",
       "    <tr>\n",
       "      <th>2</th>\n",
       "      <td>149.820007</td>\n",
       "      <td>153.169998</td>\n",
       "      <td>149.720001</td>\n",
       "      <td>152.57</td>\n",
       "      <td>151.930588</td>\n",
       "      <td>100077900</td>\n",
       "      <td>2021-10-28</td>\n",
       "      <td>1.835536</td>\n",
       "      <td>148.696</td>\n",
       "      <td>145.3520</td>\n",
       "      <td>147.3028</td>\n",
       "      <td>139.037267</td>\n",
       "      <td>136.41665</td>\n",
       "    </tr>\n",
       "    <tr>\n",
       "      <th>3</th>\n",
       "      <td>147.220001</td>\n",
       "      <td>149.940002</td>\n",
       "      <td>146.410004</td>\n",
       "      <td>149.80</td>\n",
       "      <td>149.172180</td>\n",
       "      <td>124953200</td>\n",
       "      <td>2021-10-29</td>\n",
       "      <td>1.752481</td>\n",
       "      <td>149.192</td>\n",
       "      <td>145.7095</td>\n",
       "      <td>147.3648</td>\n",
       "      <td>139.226667</td>\n",
       "      <td>136.52110</td>\n",
       "    </tr>\n",
       "    <tr>\n",
       "      <th>4</th>\n",
       "      <td>148.990005</td>\n",
       "      <td>149.699997</td>\n",
       "      <td>147.800003</td>\n",
       "      <td>148.96</td>\n",
       "      <td>148.335709</td>\n",
       "      <td>74588300</td>\n",
       "      <td>2021-11-01</td>\n",
       "      <td>-0.020135</td>\n",
       "      <td>149.433</td>\n",
       "      <td>146.2005</td>\n",
       "      <td>147.3802</td>\n",
       "      <td>139.420400</td>\n",
       "      <td>136.63020</td>\n",
       "    </tr>\n",
       "    <tr>\n",
       "      <th>...</th>\n",
       "      <td>...</td>\n",
       "      <td>...</td>\n",
       "      <td>...</td>\n",
       "      <td>...</td>\n",
       "      <td>...</td>\n",
       "      <td>...</td>\n",
       "      <td>...</td>\n",
       "      <td>...</td>\n",
       "      <td>...</td>\n",
       "      <td>...</td>\n",
       "      <td>...</td>\n",
       "      <td>...</td>\n",
       "      <td>...</td>\n",
       "    </tr>\n",
       "    <tr>\n",
       "      <th>175</th>\n",
       "      <td>145.259995</td>\n",
       "      <td>147.550003</td>\n",
       "      <td>145.000000</td>\n",
       "      <td>147.04</td>\n",
       "      <td>147.039993</td>\n",
       "      <td>64493200</td>\n",
       "      <td>2022-07-08</td>\n",
       "      <td>1.225388</td>\n",
       "      <td>141.351</td>\n",
       "      <td>138.2230</td>\n",
       "      <td>144.9494</td>\n",
       "      <td>161.237067</td>\n",
       "      <td>158.28875</td>\n",
       "    </tr>\n",
       "    <tr>\n",
       "      <th>176</th>\n",
       "      <td>145.669998</td>\n",
       "      <td>146.639999</td>\n",
       "      <td>143.779999</td>\n",
       "      <td>144.87</td>\n",
       "      <td>144.869995</td>\n",
       "      <td>63141600</td>\n",
       "      <td>2022-07-11</td>\n",
       "      <td>-0.549189</td>\n",
       "      <td>141.672</td>\n",
       "      <td>138.3345</td>\n",
       "      <td>144.7154</td>\n",
       "      <td>161.111133</td>\n",
       "      <td>158.28385</td>\n",
       "    </tr>\n",
       "    <tr>\n",
       "      <th>177</th>\n",
       "      <td>145.759995</td>\n",
       "      <td>148.449997</td>\n",
       "      <td>145.050003</td>\n",
       "      <td>145.86</td>\n",
       "      <td>145.860001</td>\n",
       "      <td>77588800</td>\n",
       "      <td>2022-07-12</td>\n",
       "      <td>0.068610</td>\n",
       "      <td>142.092</td>\n",
       "      <td>138.7710</td>\n",
       "      <td>144.3598</td>\n",
       "      <td>161.004600</td>\n",
       "      <td>158.27900</td>\n",
       "    </tr>\n",
       "    <tr>\n",
       "      <th>178</th>\n",
       "      <td>142.990005</td>\n",
       "      <td>146.449997</td>\n",
       "      <td>142.119995</td>\n",
       "      <td>145.49</td>\n",
       "      <td>145.490005</td>\n",
       "      <td>71185600</td>\n",
       "      <td>2022-07-13</td>\n",
       "      <td>1.748374</td>\n",
       "      <td>142.897</td>\n",
       "      <td>139.4515</td>\n",
       "      <td>144.1166</td>\n",
       "      <td>160.872400</td>\n",
       "      <td>158.27185</td>\n",
       "    </tr>\n",
       "    <tr>\n",
       "      <th>179</th>\n",
       "      <td>144.080002</td>\n",
       "      <td>148.949997</td>\n",
       "      <td>143.250000</td>\n",
       "      <td>148.47</td>\n",
       "      <td>148.470001</td>\n",
       "      <td>77996900</td>\n",
       "      <td>2022-07-14</td>\n",
       "      <td>3.046918</td>\n",
       "      <td>143.821</td>\n",
       "      <td>140.2370</td>\n",
       "      <td>143.9268</td>\n",
       "      <td>160.721000</td>\n",
       "      <td>158.28735</td>\n",
       "    </tr>\n",
       "  </tbody>\n",
       "</table>\n",
       "<p>180 rows × 13 columns</p>\n",
       "</div>"
      ],
      "text/plain": [
       "           open        high         low   close   Adj Close     volume  \\\n",
       "0    149.330002  150.839996  149.009995  149.32  148.694199   60893400   \n",
       "1    149.360001  149.729996  148.490005  148.85  148.226166   56094900   \n",
       "2    149.820007  153.169998  149.720001  152.57  151.930588  100077900   \n",
       "3    147.220001  149.940002  146.410004  149.80  149.172180  124953200   \n",
       "4    148.990005  149.699997  147.800003  148.96  148.335709   74588300   \n",
       "..          ...         ...         ...     ...         ...        ...   \n",
       "175  145.259995  147.550003  145.000000  147.04  147.039993   64493200   \n",
       "176  145.669998  146.639999  143.779999  144.87  144.869995   63141600   \n",
       "177  145.759995  148.449997  145.050003  145.86  145.860001   77588800   \n",
       "178  142.990005  146.449997  142.119995  145.49  145.490005   71185600   \n",
       "179  144.080002  148.949997  143.250000  148.47  148.470001   77996900   \n",
       "\n",
       "       datetime   chg_pct     MA10      MA20      MA50       MA150      MA200  \n",
       "0    2021-10-26 -0.006693  147.021  144.4975  147.2054  138.639800  136.20800  \n",
       "1    2021-10-27 -0.341453  147.815  144.7985  147.1786  138.828200  136.30825  \n",
       "2    2021-10-28  1.835536  148.696  145.3520  147.3028  139.037267  136.41665  \n",
       "3    2021-10-29  1.752481  149.192  145.7095  147.3648  139.226667  136.52110  \n",
       "4    2021-11-01 -0.020135  149.433  146.2005  147.3802  139.420400  136.63020  \n",
       "..          ...       ...      ...       ...       ...         ...        ...  \n",
       "175  2022-07-08  1.225388  141.351  138.2230  144.9494  161.237067  158.28875  \n",
       "176  2022-07-11 -0.549189  141.672  138.3345  144.7154  161.111133  158.28385  \n",
       "177  2022-07-12  0.068610  142.092  138.7710  144.3598  161.004600  158.27900  \n",
       "178  2022-07-13  1.748374  142.897  139.4515  144.1166  160.872400  158.27185  \n",
       "179  2022-07-14  3.046918  143.821  140.2370  143.9268  160.721000  158.28735  \n",
       "\n",
       "[180 rows x 13 columns]"
      ]
     },
     "execution_count": 15,
     "metadata": {},
     "output_type": "execute_result"
    }
   ],
   "source": [
    "df"
   ]
  },
  {
   "cell_type": "code",
   "execution_count": 16,
   "metadata": {},
   "outputs": [],
   "source": [
    "close_price = np.array(df.close)"
   ]
  },
  {
   "cell_type": "code",
   "execution_count": 17,
   "metadata": {},
   "outputs": [
    {
     "data": {
      "text/plain": [
       "(161, 130.06)"
      ]
     },
     "execution_count": 17,
     "metadata": {},
     "output_type": "execute_result"
    }
   ],
   "source": [
    "min1_val = np.min(close_price)\n",
    "min1_ind = np.argmin(close_price)\n",
    "min1_ind, min1_val"
   ]
  },
  {
   "cell_type": "code",
   "execution_count": 18,
   "metadata": {},
   "outputs": [],
   "source": [
    "max1_val = np.max(close_price[0:min1_ind])\n",
    "max1_ind = np.argmax(close_price[0:min1_ind])"
   ]
  },
  {
   "cell_type": "code",
   "execution_count": 19,
   "metadata": {},
   "outputs": [
    {
     "data": {
      "text/plain": [
       "182.01"
      ]
     },
     "execution_count": 19,
     "metadata": {},
     "output_type": "execute_result"
    }
   ],
   "source": [
    "max1_val"
   ]
  },
  {
   "cell_type": "code",
   "execution_count": 20,
   "metadata": {},
   "outputs": [
    {
     "data": {
      "text/plain": [
       "0.28542387780891154"
      ]
     },
     "execution_count": 20,
     "metadata": {},
     "output_type": "execute_result"
    }
   ],
   "source": [
    "dec_1 = (max1_val - min1_val) / max1_val\n",
    "dec_1"
   ]
  },
  {
   "cell_type": "code",
   "execution_count": 21,
   "metadata": {},
   "outputs": [],
   "source": [
    "min2_ind = np.argmin(close_price[min1_ind+10:])\n",
    "min2_val = np.min(close_price[min1_ind+10:])"
   ]
  },
  {
   "cell_type": "code",
   "execution_count": 22,
   "metadata": {},
   "outputs": [
    {
     "data": {
      "text/plain": [
       "array([131.56, 135.87, 135.35, 138.27, 141.66, 141.66, 137.44, 139.23,\n",
       "       136.72, 138.93, 141.56, 142.92, 146.35, 147.04, 144.87, 145.86,\n",
       "       145.49, 148.47])"
      ]
     },
     "execution_count": 22,
     "metadata": {},
     "output_type": "execute_result"
    }
   ],
   "source": [
    "close_price[min1_ind+1:]"
   ]
  },
  {
   "cell_type": "code",
   "execution_count": 23,
   "metadata": {},
   "outputs": [
    {
     "data": {
      "text/plain": [
       "161"
      ]
     },
     "execution_count": 23,
     "metadata": {},
     "output_type": "execute_result"
    }
   ],
   "source": [
    "min1_ind"
   ]
  },
  {
   "cell_type": "code",
   "execution_count": 24,
   "metadata": {},
   "outputs": [
    {
     "data": {
      "text/plain": [
       "(138.93, 0)"
      ]
     },
     "execution_count": 24,
     "metadata": {},
     "output_type": "execute_result"
    }
   ],
   "source": [
    "min2_val,min2_ind"
   ]
  },
  {
   "cell_type": "code",
   "execution_count": 25,
   "metadata": {},
   "outputs": [
    {
     "data": {
      "text/plain": [
       "(array([  1,   4,   7,   9,  12,  22,  27,  31,  34,  38,  43,  46,  50,\n",
       "         55,  64,  67,  71,  75,  82,  86,  91,  95, 109, 112, 115, 119,\n",
       "        123, 126, 128, 132, 134, 137, 139, 142, 145, 150, 152, 158, 161,\n",
       "        164, 168, 170, 176, 178]),)"
      ]
     },
     "execution_count": 25,
     "metadata": {},
     "output_type": "execute_result"
    }
   ],
   "source": [
    "min_index = sg.argrelmin(close_price)\n",
    "min_index"
   ]
  },
  {
   "cell_type": "code",
   "execution_count": 26,
   "metadata": {},
   "outputs": [
    {
     "data": {
      "text/plain": [
       "array([138.93, 141.56, 142.92, 146.35, 147.04, 144.87, 145.86, 145.49,\n",
       "       148.47])"
      ]
     },
     "execution_count": 26,
     "metadata": {},
     "output_type": "execute_result"
    }
   ],
   "source": [
    "close_price[171:]"
   ]
  },
  {
   "cell_type": "code",
   "execution_count": 27,
   "metadata": {},
   "outputs": [
    {
     "data": {
      "text/plain": [
       "135.35"
      ]
     },
     "execution_count": 27,
     "metadata": {},
     "output_type": "execute_result"
    }
   ],
   "source": [
    "close_price[164]"
   ]
  },
  {
   "cell_type": "code",
   "execution_count": 28,
   "metadata": {},
   "outputs": [],
   "source": [
    "df = pd.read_sql('INTC', engine)\n",
    "df.rename(columns={'hgih':'high'},inplace=True)\n",
    "df['chg_pct'] = ((df.close - df.open)/df.open)*100\n",
    "df['close'] = df['close'].apply(lambda x: round(x,3))"
   ]
  },
  {
   "cell_type": "code",
   "execution_count": 29,
   "metadata": {},
   "outputs": [
    {
     "data": {
      "text/html": [
       "<div>\n",
       "<style scoped>\n",
       "    .dataframe tbody tr th:only-of-type {\n",
       "        vertical-align: middle;\n",
       "    }\n",
       "\n",
       "    .dataframe tbody tr th {\n",
       "        vertical-align: top;\n",
       "    }\n",
       "\n",
       "    .dataframe thead th {\n",
       "        text-align: right;\n",
       "    }\n",
       "</style>\n",
       "<table border=\"1\" class=\"dataframe\">\n",
       "  <thead>\n",
       "    <tr style=\"text-align: right;\">\n",
       "      <th></th>\n",
       "      <th>open</th>\n",
       "      <th>high</th>\n",
       "      <th>low</th>\n",
       "      <th>close</th>\n",
       "      <th>Adj Close</th>\n",
       "      <th>volume</th>\n",
       "      <th>datetime</th>\n",
       "      <th>chg_pct</th>\n",
       "    </tr>\n",
       "  </thead>\n",
       "  <tbody>\n",
       "    <tr>\n",
       "      <th>0</th>\n",
       "      <td>0.325521</td>\n",
       "      <td>0.330729</td>\n",
       "      <td>0.325521</td>\n",
       "      <td>0.326</td>\n",
       "      <td>0.192692</td>\n",
       "      <td>10924800</td>\n",
       "      <td>1980-03-17</td>\n",
       "      <td>0.000000</td>\n",
       "    </tr>\n",
       "    <tr>\n",
       "      <th>1</th>\n",
       "      <td>0.325521</td>\n",
       "      <td>0.328125</td>\n",
       "      <td>0.322917</td>\n",
       "      <td>0.323</td>\n",
       "      <td>0.191150</td>\n",
       "      <td>17068800</td>\n",
       "      <td>1980-03-18</td>\n",
       "      <td>-0.799942</td>\n",
       "    </tr>\n",
       "    <tr>\n",
       "      <th>2</th>\n",
       "      <td>0.330729</td>\n",
       "      <td>0.335938</td>\n",
       "      <td>0.330729</td>\n",
       "      <td>0.331</td>\n",
       "      <td>0.195774</td>\n",
       "      <td>18508800</td>\n",
       "      <td>1980-03-19</td>\n",
       "      <td>0.000000</td>\n",
       "    </tr>\n",
       "    <tr>\n",
       "      <th>3</th>\n",
       "      <td>0.330729</td>\n",
       "      <td>0.334635</td>\n",
       "      <td>0.329427</td>\n",
       "      <td>0.329</td>\n",
       "      <td>0.195004</td>\n",
       "      <td>11174400</td>\n",
       "      <td>1980-03-20</td>\n",
       "      <td>-0.393677</td>\n",
       "    </tr>\n",
       "    <tr>\n",
       "      <th>4</th>\n",
       "      <td>0.322917</td>\n",
       "      <td>0.322917</td>\n",
       "      <td>0.317708</td>\n",
       "      <td>0.318</td>\n",
       "      <td>0.188067</td>\n",
       "      <td>12172800</td>\n",
       "      <td>1980-03-21</td>\n",
       "      <td>-1.613117</td>\n",
       "    </tr>\n",
       "    <tr>\n",
       "      <th>...</th>\n",
       "      <td>...</td>\n",
       "      <td>...</td>\n",
       "      <td>...</td>\n",
       "      <td>...</td>\n",
       "      <td>...</td>\n",
       "      <td>...</td>\n",
       "      <td>...</td>\n",
       "      <td>...</td>\n",
       "    </tr>\n",
       "    <tr>\n",
       "      <th>10668</th>\n",
       "      <td>37.660000</td>\n",
       "      <td>38.139999</td>\n",
       "      <td>37.389999</td>\n",
       "      <td>37.990</td>\n",
       "      <td>37.990002</td>\n",
       "      <td>22554800</td>\n",
       "      <td>2022-07-08</td>\n",
       "      <td>0.876266</td>\n",
       "    </tr>\n",
       "    <tr>\n",
       "      <th>10669</th>\n",
       "      <td>37.660000</td>\n",
       "      <td>37.669998</td>\n",
       "      <td>37.029999</td>\n",
       "      <td>37.200</td>\n",
       "      <td>37.200001</td>\n",
       "      <td>25904300</td>\n",
       "      <td>2022-07-11</td>\n",
       "      <td>-1.221453</td>\n",
       "    </tr>\n",
       "    <tr>\n",
       "      <th>10670</th>\n",
       "      <td>37.650002</td>\n",
       "      <td>37.700001</td>\n",
       "      <td>36.990002</td>\n",
       "      <td>37.210</td>\n",
       "      <td>37.209999</td>\n",
       "      <td>30546300</td>\n",
       "      <td>2022-07-12</td>\n",
       "      <td>-1.168665</td>\n",
       "    </tr>\n",
       "    <tr>\n",
       "      <th>10671</th>\n",
       "      <td>36.680000</td>\n",
       "      <td>37.430000</td>\n",
       "      <td>36.619999</td>\n",
       "      <td>37.210</td>\n",
       "      <td>37.209999</td>\n",
       "      <td>27059200</td>\n",
       "      <td>2022-07-13</td>\n",
       "      <td>1.444926</td>\n",
       "    </tr>\n",
       "    <tr>\n",
       "      <th>10672</th>\n",
       "      <td>36.990002</td>\n",
       "      <td>38.160000</td>\n",
       "      <td>36.290001</td>\n",
       "      <td>37.710</td>\n",
       "      <td>37.709999</td>\n",
       "      <td>36676700</td>\n",
       "      <td>2022-07-14</td>\n",
       "      <td>1.946465</td>\n",
       "    </tr>\n",
       "  </tbody>\n",
       "</table>\n",
       "<p>10673 rows × 8 columns</p>\n",
       "</div>"
      ],
      "text/plain": [
       "            open       high        low   close  Adj Close    volume  \\\n",
       "0       0.325521   0.330729   0.325521   0.326   0.192692  10924800   \n",
       "1       0.325521   0.328125   0.322917   0.323   0.191150  17068800   \n",
       "2       0.330729   0.335938   0.330729   0.331   0.195774  18508800   \n",
       "3       0.330729   0.334635   0.329427   0.329   0.195004  11174400   \n",
       "4       0.322917   0.322917   0.317708   0.318   0.188067  12172800   \n",
       "...          ...        ...        ...     ...        ...       ...   \n",
       "10668  37.660000  38.139999  37.389999  37.990  37.990002  22554800   \n",
       "10669  37.660000  37.669998  37.029999  37.200  37.200001  25904300   \n",
       "10670  37.650002  37.700001  36.990002  37.210  37.209999  30546300   \n",
       "10671  36.680000  37.430000  36.619999  37.210  37.209999  27059200   \n",
       "10672  36.990002  38.160000  36.290001  37.710  37.709999  36676700   \n",
       "\n",
       "         datetime   chg_pct  \n",
       "0      1980-03-17  0.000000  \n",
       "1      1980-03-18 -0.799942  \n",
       "2      1980-03-19  0.000000  \n",
       "3      1980-03-20 -0.393677  \n",
       "4      1980-03-21 -1.613117  \n",
       "...           ...       ...  \n",
       "10668  2022-07-08  0.876266  \n",
       "10669  2022-07-11 -1.221453  \n",
       "10670  2022-07-12 -1.168665  \n",
       "10671  2022-07-13  1.444926  \n",
       "10672  2022-07-14  1.946465  \n",
       "\n",
       "[10673 rows x 8 columns]"
      ]
     },
     "execution_count": 29,
     "metadata": {},
     "output_type": "execute_result"
    }
   ],
   "source": [
    "df"
   ]
  },
  {
   "cell_type": "code",
   "execution_count": 30,
   "metadata": {},
   "outputs": [
    {
     "data": {
      "text/html": [
       "<div>\n",
       "<style scoped>\n",
       "    .dataframe tbody tr th:only-of-type {\n",
       "        vertical-align: middle;\n",
       "    }\n",
       "\n",
       "    .dataframe tbody tr th {\n",
       "        vertical-align: top;\n",
       "    }\n",
       "\n",
       "    .dataframe thead th {\n",
       "        text-align: right;\n",
       "    }\n",
       "</style>\n",
       "<table border=\"1\" class=\"dataframe\">\n",
       "  <thead>\n",
       "    <tr style=\"text-align: right;\">\n",
       "      <th></th>\n",
       "      <th>open</th>\n",
       "      <th>high</th>\n",
       "      <th>low</th>\n",
       "      <th>close</th>\n",
       "      <th>Adj Close</th>\n",
       "      <th>volume</th>\n",
       "      <th>datetime</th>\n",
       "      <th>chg_pct</th>\n",
       "    </tr>\n",
       "  </thead>\n",
       "  <tbody>\n",
       "    <tr>\n",
       "      <th>9958</th>\n",
       "      <td>53.0</td>\n",
       "      <td>53.330002</td>\n",
       "      <td>52.07</td>\n",
       "      <td>53.01</td>\n",
       "      <td>49.371296</td>\n",
       "      <td>23308700</td>\n",
       "      <td>2019-09-12</td>\n",
       "      <td>0.018865</td>\n",
       "    </tr>\n",
       "  </tbody>\n",
       "</table>\n",
       "</div>"
      ],
      "text/plain": [
       "      open       high    low  close  Adj Close    volume    datetime   chg_pct\n",
       "9958  53.0  53.330002  52.07  53.01  49.371296  23308700  2019-09-12  0.018865"
      ]
     },
     "execution_count": 30,
     "metadata": {},
     "output_type": "execute_result"
    }
   ],
   "source": [
    "df[df.datetime == '2019-09-12']"
   ]
  },
  {
   "cell_type": "code",
   "execution_count": 31,
   "metadata": {},
   "outputs": [],
   "source": [
    "df = df[:9959]"
   ]
  },
  {
   "cell_type": "code",
   "execution_count": 32,
   "metadata": {},
   "outputs": [],
   "source": [
    "df = df[9759:9959]"
   ]
  },
  {
   "cell_type": "code",
   "execution_count": 33,
   "metadata": {},
   "outputs": [],
   "source": [
    "df.index = range(len(df))"
   ]
  },
  {
   "cell_type": "code",
   "execution_count": 34,
   "metadata": {},
   "outputs": [],
   "source": [
    "close_price = np.array(df.close)"
   ]
  },
  {
   "cell_type": "code",
   "execution_count": 35,
   "metadata": {},
   "outputs": [],
   "source": [
    "min1_ind = np.argmin(close_price)\n",
    "min1_val = np.min(close_price)"
   ]
  },
  {
   "cell_type": "code",
   "execution_count": 36,
   "metadata": {},
   "outputs": [
    {
     "data": {
      "text/plain": [
       "(128, 43.46)"
      ]
     },
     "execution_count": 36,
     "metadata": {},
     "output_type": "execute_result"
    }
   ],
   "source": [
    "min1_ind,min1_val"
   ]
  },
  {
   "cell_type": "code",
   "execution_count": 37,
   "metadata": {},
   "outputs": [
    {
     "data": {
      "text/plain": [
       "array([47.45, 48.07, 48.86, 47.7 , 49.31, 50.13, 47.75, 48.37, 46.24,\n",
       "       47.21, 47.38, 47.83, 48.29, 47.86, 47.08, 47.74, 45.57, 45.54,\n",
       "       44.84, 43.59, 46.19, 46.36, 46.75, 46.93, 47.08, 44.49, 47.22,\n",
       "       47.44, 47.74, 48.01, 48.56, 48.93, 48.35, 48.6 , 48.13, 48.47,\n",
       "       49.19, 48.27, 47.94, 49.76, 47.04, 46.71, 46.54, 47.54, 47.12,\n",
       "       48.73, 49.22, 50.01, 49.9 , 49.23, 48.84, 48.77, 50.01, 50.47,\n",
       "       50.81, 51.66, 51.4 , 51.39, 51.41, 52.49, 53.1 , 53.23, 53.24,\n",
       "       52.96, 53.3 , 53.94, 53.68, 52.95, 52.6 , 52.48, 53.35, 53.57,\n",
       "       54.37, 53.44, 54.33, 54.1 , 54.17, 53.82, 54.64, 53.26, 52.78,\n",
       "       53.44, 53.16, 53.11, 53.7 , 54.51, 54.36, 55.48, 55.92, 55.6 ,\n",
       "       55.68, 55.32, 55.75, 55.8 , 56.42, 56.28, 56.71, 58.56, 58.49,\n",
       "       58.82, 58.78, 58.72, 57.61, 52.43, 51.11, 51.04, 50.76, 50.55,\n",
       "       51.75, 51.22, 50.48, 49.24, 46.62, 46.2 , 44.76, 45.17, 45.62,\n",
       "       45.53, 44.89, 43.56, 44.46, 44.  , 44.53, 44.57, 43.57, 44.23,\n",
       "       44.73, 44.04, 43.46, 44.79, 44.55, 45.1 , 46.03, 46.8 , 46.85,\n",
       "       46.32, 46.7 , 46.19, 46.13, 47.37, 47.07, 47.19, 47.46, 47.63,\n",
       "       46.85, 48.19, 47.46, 47.87, 48.05, 48.12, 48.52, 48.08, 47.82,\n",
       "       47.75, 48.21, 48.6 , 49.92, 50.12, 49.17, 49.39, 49.94, 50.27,\n",
       "       51.35, 51.75, 52.92, 52.16, 51.59, 52.51, 51.7 , 50.55, 49.5 ,\n",
       "       48.68, 46.97, 46.96, 46.73, 47.17, 45.98, 45.6 , 46.84, 45.87,\n",
       "       45.7 , 46.5 , 47.23, 46.6 , 47.15, 46.78, 44.96, 45.56, 45.79,\n",
       "       45.79, 46.87, 47.41, 46.98, 48.92, 50.1 , 50.92, 51.59, 51.82,\n",
       "       52.79, 53.01])"
      ]
     },
     "execution_count": 37,
     "metadata": {},
     "output_type": "execute_result"
    }
   ],
   "source": [
    "close_price"
   ]
  },
  {
   "cell_type": "code",
   "execution_count": 38,
   "metadata": {},
   "outputs": [
    {
     "data": {
      "text/plain": [
       "open              44.25\n",
       "high              44.59\n",
       "low           43.200001\n",
       "close             43.46\n",
       "Adj Close     40.205376\n",
       "volume         31155700\n",
       "datetime     2019-06-03\n",
       "chg_pct       -1.785313\n",
       "Name: 128, dtype: object"
      ]
     },
     "execution_count": 38,
     "metadata": {},
     "output_type": "execute_result"
    }
   ],
   "source": [
    "df.iloc[min1_ind]"
   ]
  },
  {
   "cell_type": "code",
   "execution_count": 39,
   "metadata": {},
   "outputs": [],
   "source": [
    "max1_ind = np.argmax(close_price[0:min1_ind])\n",
    "max1_val = np.max(close_price[0:min1_ind])"
   ]
  },
  {
   "cell_type": "code",
   "execution_count": 40,
   "metadata": {},
   "outputs": [
    {
     "data": {
      "text/plain": [
       "(99, 58.82)"
      ]
     },
     "execution_count": 40,
     "metadata": {},
     "output_type": "execute_result"
    }
   ],
   "source": [
    "max1_ind, max1_val"
   ]
  },
  {
   "cell_type": "code",
   "execution_count": 41,
   "metadata": {},
   "outputs": [
    {
     "data": {
      "text/plain": [
       "open          58.150002\n",
       "high          58.830002\n",
       "low           57.880001\n",
       "close             58.82\n",
       "Adj Close     54.083878\n",
       "volume         12327500\n",
       "datetime     2019-04-22\n",
       "chg_pct        1.152189\n",
       "Name: 99, dtype: object"
      ]
     },
     "execution_count": 41,
     "metadata": {},
     "output_type": "execute_result"
    }
   ],
   "source": [
    "df.iloc[max1_ind]"
   ]
  },
  {
   "cell_type": "code",
   "execution_count": 42,
   "metadata": {},
   "outputs": [
    {
     "data": {
      "text/plain": [
       "0.2611356681400884"
      ]
     },
     "execution_count": 42,
     "metadata": {},
     "output_type": "execute_result"
    }
   ],
   "source": [
    "dec_1 = (max1_val - min1_val) / max1_val\n",
    "dec_1"
   ]
  },
  {
   "cell_type": "code",
   "execution_count": 43,
   "metadata": {},
   "outputs": [
    {
     "data": {
      "text/html": [
       "<div>\n",
       "<style scoped>\n",
       "    .dataframe tbody tr th:only-of-type {\n",
       "        vertical-align: middle;\n",
       "    }\n",
       "\n",
       "    .dataframe tbody tr th {\n",
       "        vertical-align: top;\n",
       "    }\n",
       "\n",
       "    .dataframe thead th {\n",
       "        text-align: right;\n",
       "    }\n",
       "</style>\n",
       "<table border=\"1\" class=\"dataframe\">\n",
       "  <thead>\n",
       "    <tr style=\"text-align: right;\">\n",
       "      <th></th>\n",
       "      <th>open</th>\n",
       "      <th>high</th>\n",
       "      <th>low</th>\n",
       "      <th>close</th>\n",
       "      <th>Adj Close</th>\n",
       "      <th>volume</th>\n",
       "      <th>datetime</th>\n",
       "      <th>chg_pct</th>\n",
       "    </tr>\n",
       "  </thead>\n",
       "  <tbody>\n",
       "    <tr>\n",
       "      <th>0</th>\n",
       "      <td>47.270000</td>\n",
       "      <td>47.459999</td>\n",
       "      <td>46.700001</td>\n",
       "      <td>47.45</td>\n",
       "      <td>43.354565</td>\n",
       "      <td>20723000</td>\n",
       "      <td>2018-11-26</td>\n",
       "      <td>0.380792</td>\n",
       "    </tr>\n",
       "    <tr>\n",
       "      <th>1</th>\n",
       "      <td>46.939999</td>\n",
       "      <td>48.220001</td>\n",
       "      <td>46.590000</td>\n",
       "      <td>48.07</td>\n",
       "      <td>43.921059</td>\n",
       "      <td>27621000</td>\n",
       "      <td>2018-11-27</td>\n",
       "      <td>2.407331</td>\n",
       "    </tr>\n",
       "    <tr>\n",
       "      <th>2</th>\n",
       "      <td>47.939999</td>\n",
       "      <td>48.880001</td>\n",
       "      <td>47.650002</td>\n",
       "      <td>48.86</td>\n",
       "      <td>44.642876</td>\n",
       "      <td>28003200</td>\n",
       "      <td>2018-11-28</td>\n",
       "      <td>1.919070</td>\n",
       "    </tr>\n",
       "    <tr>\n",
       "      <th>3</th>\n",
       "      <td>48.490002</td>\n",
       "      <td>48.560001</td>\n",
       "      <td>47.630001</td>\n",
       "      <td>47.70</td>\n",
       "      <td>43.582989</td>\n",
       "      <td>23592500</td>\n",
       "      <td>2018-11-29</td>\n",
       "      <td>-1.629204</td>\n",
       "    </tr>\n",
       "    <tr>\n",
       "      <th>4</th>\n",
       "      <td>47.950001</td>\n",
       "      <td>49.320000</td>\n",
       "      <td>47.560001</td>\n",
       "      <td>49.31</td>\n",
       "      <td>45.054031</td>\n",
       "      <td>43313700</td>\n",
       "      <td>2018-11-30</td>\n",
       "      <td>2.836289</td>\n",
       "    </tr>\n",
       "    <tr>\n",
       "      <th>...</th>\n",
       "      <td>...</td>\n",
       "      <td>...</td>\n",
       "      <td>...</td>\n",
       "      <td>...</td>\n",
       "      <td>...</td>\n",
       "      <td>...</td>\n",
       "      <td>...</td>\n",
       "      <td>...</td>\n",
       "    </tr>\n",
       "    <tr>\n",
       "      <th>195</th>\n",
       "      <td>50.250000</td>\n",
       "      <td>50.990002</td>\n",
       "      <td>50.070000</td>\n",
       "      <td>50.92</td>\n",
       "      <td>47.424763</td>\n",
       "      <td>17067900</td>\n",
       "      <td>2019-09-06</td>\n",
       "      <td>1.333330</td>\n",
       "    </tr>\n",
       "    <tr>\n",
       "      <th>196</th>\n",
       "      <td>51.060001</td>\n",
       "      <td>52.029999</td>\n",
       "      <td>51.020000</td>\n",
       "      <td>51.59</td>\n",
       "      <td>48.048771</td>\n",
       "      <td>20749700</td>\n",
       "      <td>2019-09-09</td>\n",
       "      <td>1.037992</td>\n",
       "    </tr>\n",
       "    <tr>\n",
       "      <th>197</th>\n",
       "      <td>51.330002</td>\n",
       "      <td>51.840000</td>\n",
       "      <td>50.830002</td>\n",
       "      <td>51.82</td>\n",
       "      <td>48.262981</td>\n",
       "      <td>18532000</td>\n",
       "      <td>2019-09-10</td>\n",
       "      <td>0.954603</td>\n",
       "    </tr>\n",
       "    <tr>\n",
       "      <th>198</th>\n",
       "      <td>51.599998</td>\n",
       "      <td>52.790001</td>\n",
       "      <td>51.380001</td>\n",
       "      <td>52.79</td>\n",
       "      <td>49.166405</td>\n",
       "      <td>18968900</td>\n",
       "      <td>2019-09-11</td>\n",
       "      <td>2.306206</td>\n",
       "    </tr>\n",
       "    <tr>\n",
       "      <th>199</th>\n",
       "      <td>53.000000</td>\n",
       "      <td>53.330002</td>\n",
       "      <td>52.070000</td>\n",
       "      <td>53.01</td>\n",
       "      <td>49.371296</td>\n",
       "      <td>23308700</td>\n",
       "      <td>2019-09-12</td>\n",
       "      <td>0.018865</td>\n",
       "    </tr>\n",
       "  </tbody>\n",
       "</table>\n",
       "<p>200 rows × 8 columns</p>\n",
       "</div>"
      ],
      "text/plain": [
       "          open       high        low  close  Adj Close    volume    datetime  \\\n",
       "0    47.270000  47.459999  46.700001  47.45  43.354565  20723000  2018-11-26   \n",
       "1    46.939999  48.220001  46.590000  48.07  43.921059  27621000  2018-11-27   \n",
       "2    47.939999  48.880001  47.650002  48.86  44.642876  28003200  2018-11-28   \n",
       "3    48.490002  48.560001  47.630001  47.70  43.582989  23592500  2018-11-29   \n",
       "4    47.950001  49.320000  47.560001  49.31  45.054031  43313700  2018-11-30   \n",
       "..         ...        ...        ...    ...        ...       ...         ...   \n",
       "195  50.250000  50.990002  50.070000  50.92  47.424763  17067900  2019-09-06   \n",
       "196  51.060001  52.029999  51.020000  51.59  48.048771  20749700  2019-09-09   \n",
       "197  51.330002  51.840000  50.830002  51.82  48.262981  18532000  2019-09-10   \n",
       "198  51.599998  52.790001  51.380001  52.79  49.166405  18968900  2019-09-11   \n",
       "199  53.000000  53.330002  52.070000  53.01  49.371296  23308700  2019-09-12   \n",
       "\n",
       "      chg_pct  \n",
       "0    0.380792  \n",
       "1    2.407331  \n",
       "2    1.919070  \n",
       "3   -1.629204  \n",
       "4    2.836289  \n",
       "..        ...  \n",
       "195  1.333330  \n",
       "196  1.037992  \n",
       "197  0.954603  \n",
       "198  2.306206  \n",
       "199  0.018865  \n",
       "\n",
       "[200 rows x 8 columns]"
      ]
     },
     "execution_count": 43,
     "metadata": {},
     "output_type": "execute_result"
    }
   ],
   "source": [
    "df"
   ]
  },
  {
   "cell_type": "code",
   "execution_count": 44,
   "metadata": {},
   "outputs": [],
   "source": [
    "min2_ind = np.argmin(close_price[min1_ind+7:])\n",
    "min2_val = np.min(close_price[min1_ind+7:])"
   ]
  },
  {
   "cell_type": "code",
   "execution_count": 45,
   "metadata": {},
   "outputs": [
    {
     "data": {
      "text/plain": [
       "array([46.32, 46.7 , 46.19, 46.13, 47.37, 47.07, 47.19, 47.46, 47.63,\n",
       "       46.85, 48.19, 47.46, 47.87, 48.05, 48.12, 48.52, 48.08, 47.82,\n",
       "       47.75, 48.21, 48.6 , 49.92, 50.12, 49.17, 49.39, 49.94, 50.27,\n",
       "       51.35, 51.75, 52.92, 52.16, 51.59, 52.51, 51.7 , 50.55, 49.5 ,\n",
       "       48.68, 46.97, 46.96, 46.73, 47.17, 45.98, 45.6 , 46.84, 45.87,\n",
       "       45.7 , 46.5 , 47.23, 46.6 , 47.15, 46.78, 44.96, 45.56, 45.79,\n",
       "       45.79, 46.87, 47.41, 46.98, 48.92, 50.1 , 50.92, 51.59, 51.82,\n",
       "       52.79, 53.01])"
      ]
     },
     "execution_count": 45,
     "metadata": {},
     "output_type": "execute_result"
    }
   ],
   "source": [
    "close_price[min1_ind+7:]"
   ]
  },
  {
   "cell_type": "code",
   "execution_count": 46,
   "metadata": {},
   "outputs": [],
   "source": [
    "min2_ind = min2_ind + min1_ind + 7"
   ]
  },
  {
   "cell_type": "code",
   "execution_count": 47,
   "metadata": {},
   "outputs": [
    {
     "data": {
      "text/plain": [
       "open          46.349998\n",
       "high          46.630001\n",
       "low           44.799999\n",
       "close             44.96\n",
       "Adj Close     41.873863\n",
       "volume         32814000\n",
       "datetime     2019-08-23\n",
       "chg_pct        -2.99892\n",
       "Name: 186, dtype: object"
      ]
     },
     "execution_count": 47,
     "metadata": {},
     "output_type": "execute_result"
    }
   ],
   "source": [
    "df.iloc[min2_ind]"
   ]
  },
  {
   "cell_type": "code",
   "execution_count": 48,
   "metadata": {},
   "outputs": [],
   "source": [
    "max2_ind = np.argmax(close_price[min1_ind:min2_ind])\n",
    "max2_val = np.max(close_price[min1_ind:min2_ind])"
   ]
  },
  {
   "cell_type": "code",
   "execution_count": 49,
   "metadata": {},
   "outputs": [
    {
     "data": {
      "text/plain": [
       "(36, 52.92)"
      ]
     },
     "execution_count": 49,
     "metadata": {},
     "output_type": "execute_result"
    }
   ],
   "source": [
    "max2_ind,max2_val"
   ]
  },
  {
   "cell_type": "code",
   "execution_count": 50,
   "metadata": {},
   "outputs": [],
   "source": [
    "dec_2 = (max2_val -min2_val) / max2_val"
   ]
  },
  {
   "cell_type": "code",
   "execution_count": 51,
   "metadata": {},
   "outputs": [
    {
     "data": {
      "text/plain": [
       "0.15041572184429328"
      ]
     },
     "execution_count": 51,
     "metadata": {},
     "output_type": "execute_result"
    }
   ],
   "source": [
    "dec_2"
   ]
  },
  {
   "cell_type": "code",
   "execution_count": 52,
   "metadata": {},
   "outputs": [],
   "source": [
    "min3_ind = np.argmin(close_price[min2_ind+3:])\n",
    "min3_val = np.min(close_price[min2_ind+3:])"
   ]
  },
  {
   "cell_type": "code",
   "execution_count": 53,
   "metadata": {},
   "outputs": [
    {
     "data": {
      "text/plain": [
       "(0, 45.79)"
      ]
     },
     "execution_count": 53,
     "metadata": {},
     "output_type": "execute_result"
    }
   ],
   "source": [
    "min3_ind,min3_val"
   ]
  },
  {
   "cell_type": "code",
   "execution_count": 54,
   "metadata": {},
   "outputs": [
    {
     "data": {
      "text/plain": [
       "array([45.79, 46.87, 47.41, 46.98, 48.92, 50.1 , 50.92, 51.59, 51.82,\n",
       "       52.79, 53.01])"
      ]
     },
     "execution_count": 54,
     "metadata": {},
     "output_type": "execute_result"
    }
   ],
   "source": [
    "close_price[min2_ind+3:]"
   ]
  },
  {
   "cell_type": "code",
   "execution_count": 55,
   "metadata": {},
   "outputs": [],
   "source": [
    "# 判断是不是前后5天的极值点"
   ]
  },
  {
   "cell_type": "code",
   "execution_count": 56,
   "metadata": {},
   "outputs": [
    {
     "data": {
      "text/plain": [
       "0        NaN\n",
       "1        NaN\n",
       "2        NaN\n",
       "3        NaN\n",
       "4        NaN\n",
       "       ...  \n",
       "195    44.96\n",
       "196    45.56\n",
       "197    45.79\n",
       "198    45.79\n",
       "199    46.87\n",
       "Name: close, Length: 200, dtype: float64"
      ]
     },
     "execution_count": 56,
     "metadata": {},
     "output_type": "execute_result"
    }
   ],
   "source": [
    "df.close.rolling(window=10).min()"
   ]
  },
  {
   "cell_type": "code",
   "execution_count": 57,
   "metadata": {},
   "outputs": [],
   "source": [
    "df_length = len(df)"
   ]
  },
  {
   "cell_type": "code",
   "execution_count": 58,
   "metadata": {},
   "outputs": [
    {
     "data": {
      "text/plain": [
       "200"
      ]
     },
     "execution_count": 58,
     "metadata": {},
     "output_type": "execute_result"
    }
   ],
   "source": [
    "df_length"
   ]
  },
  {
   "cell_type": "code",
   "execution_count": 59,
   "metadata": {},
   "outputs": [
    {
     "data": {
      "text/plain": [
       "200"
      ]
     },
     "execution_count": 59,
     "metadata": {},
     "output_type": "execute_result"
    }
   ],
   "source": [
    "df_length"
   ]
  },
  {
   "cell_type": "code",
   "execution_count": 60,
   "metadata": {},
   "outputs": [
    {
     "name": "stderr",
     "output_type": "stream",
     "text": [
      "/var/folders/lz/kp_y7_p51sbc8gskvwtst_6h0000gp/T/ipykernel_11636/3506821763.py:4: SettingWithCopyWarning: \n",
      "A value is trying to be set on a copy of a slice from a DataFrame\n",
      "\n",
      "See the caveats in the documentation: https://pandas.pydata.org/pandas-docs/stable/user_guide/indexing.html#returning-a-view-versus-a-copy\n",
      "  df['extremum'].loc[i] = 1\n"
     ]
    }
   ],
   "source": [
    "df['extremum'] = 0\n",
    "for i in range(5,df_length):\n",
    "    if df.close.loc[i] == df.close.loc[i-5:i+5].min() or df.close.loc[i] == df.close.loc[i-5:i+5].max() :\n",
    "        df['extremum'].loc[i] = 1"
   ]
  },
  {
   "cell_type": "code",
   "execution_count": 61,
   "metadata": {},
   "outputs": [],
   "source": [
    "index_arr = np.array(df[df.extremum == 1].index)\n",
    "close_arr = np.array(df[df.extremum == 1].close)"
   ]
  },
  {
   "cell_type": "code",
   "execution_count": 62,
   "metadata": {},
   "outputs": [
    {
     "data": {
      "text/plain": [
       "array([50.13, 46.24, 43.59, 44.49, 49.76, 46.54, 50.01, 48.77, 53.94,\n",
       "       52.48, 54.37, 54.64, 52.78, 55.92, 58.82, 43.56, 43.46, 46.13,\n",
       "       46.85, 47.75, 52.92, 45.6 , 47.23, 44.96, 53.01])"
      ]
     },
     "execution_count": 62,
     "metadata": {},
     "output_type": "execute_result"
    }
   ],
   "source": [
    "close_arr"
   ]
  },
  {
   "cell_type": "code",
   "execution_count": 63,
   "metadata": {},
   "outputs": [
    {
     "data": {
      "text/plain": [
       "array([  5,   8,  19,  25,  39,  42,  47,  51,  65,  69,  72,  78,  80,\n",
       "        88,  99, 119, 128, 138, 144, 153, 164, 177, 182, 186, 199])"
      ]
     },
     "execution_count": 63,
     "metadata": {},
     "output_type": "execute_result"
    }
   ],
   "source": [
    "index_arr"
   ]
  },
  {
   "cell_type": "code",
   "execution_count": 64,
   "metadata": {},
   "outputs": [],
   "source": [
    "min1_val = np.min(close_arr)\n",
    "min1_ind = np.argmin(close_arr)"
   ]
  },
  {
   "cell_type": "code",
   "execution_count": 65,
   "metadata": {},
   "outputs": [
    {
     "data": {
      "text/plain": [
       "(16, 43.46)"
      ]
     },
     "execution_count": 65,
     "metadata": {},
     "output_type": "execute_result"
    }
   ],
   "source": [
    "min1_ind, min1_val"
   ]
  },
  {
   "cell_type": "code",
   "execution_count": 66,
   "metadata": {},
   "outputs": [],
   "source": [
    "max1_val = np.max(close_arr[:min1_ind])\n",
    "max1_ind = index_arr[np.argmax(close_arr[:min1_ind])]"
   ]
  },
  {
   "cell_type": "code",
   "execution_count": 67,
   "metadata": {},
   "outputs": [
    {
     "data": {
      "text/plain": [
       "(99, 58.82)"
      ]
     },
     "execution_count": 67,
     "metadata": {},
     "output_type": "execute_result"
    }
   ],
   "source": [
    "max1_ind, max1_val"
   ]
  },
  {
   "cell_type": "code",
   "execution_count": 68,
   "metadata": {},
   "outputs": [
    {
     "data": {
      "text/plain": [
       "array([43.46, 46.13, 46.85, 47.75, 52.92, 45.6 , 47.23, 44.96, 53.01])"
      ]
     },
     "execution_count": 68,
     "metadata": {},
     "output_type": "execute_result"
    }
   ],
   "source": [
    "close_arr[min1_ind:]"
   ]
  },
  {
   "cell_type": "code",
   "execution_count": 69,
   "metadata": {},
   "outputs": [],
   "source": [
    "min2_val = np.min(close_arr[min1_ind+1:])\n",
    "min2_ind = np.argmin(close_arr[min1_ind+1:]) + min1_ind + 1"
   ]
  },
  {
   "cell_type": "code",
   "execution_count": 70,
   "metadata": {},
   "outputs": [
    {
     "data": {
      "text/plain": [
       "(23, 44.96)"
      ]
     },
     "execution_count": 70,
     "metadata": {},
     "output_type": "execute_result"
    }
   ],
   "source": [
    "min2_ind, min2_val"
   ]
  },
  {
   "cell_type": "code",
   "execution_count": 71,
   "metadata": {},
   "outputs": [],
   "source": [
    "max2_val = np.max(close_arr[min1_ind:min2_ind])\n",
    "max2_ind = np.argmax(close_arr[min1_ind:min2_ind]) + min1_ind"
   ]
  },
  {
   "cell_type": "code",
   "execution_count": 72,
   "metadata": {},
   "outputs": [
    {
     "data": {
      "text/plain": [
       "array([43.46, 46.13, 46.85, 47.75, 52.92, 45.6 , 47.23])"
      ]
     },
     "execution_count": 72,
     "metadata": {},
     "output_type": "execute_result"
    }
   ],
   "source": [
    "close_arr[min1_ind:min2_ind]"
   ]
  },
  {
   "cell_type": "code",
   "execution_count": 73,
   "metadata": {},
   "outputs": [
    {
     "data": {
      "text/plain": [
       "array([128, 138, 144, 153, 164, 177, 182])"
      ]
     },
     "execution_count": 73,
     "metadata": {},
     "output_type": "execute_result"
    }
   ],
   "source": [
    "index_arr[min1_ind:min2_ind]"
   ]
  },
  {
   "cell_type": "code",
   "execution_count": 74,
   "metadata": {},
   "outputs": [
    {
     "data": {
      "text/plain": [
       "open              51.98\n",
       "high          52.970001\n",
       "low           51.799999\n",
       "close             52.92\n",
       "Adj Close      48.95694\n",
       "volume         20896400\n",
       "datetime     2019-07-24\n",
       "chg_pct        1.808385\n",
       "extremum              1\n",
       "Name: 164, dtype: object"
      ]
     },
     "execution_count": 74,
     "metadata": {},
     "output_type": "execute_result"
    }
   ],
   "source": [
    "df.iloc[164]"
   ]
  },
  {
   "cell_type": "code",
   "execution_count": 75,
   "metadata": {},
   "outputs": [
    {
     "data": {
      "text/plain": [
       "20"
      ]
     },
     "execution_count": 75,
     "metadata": {},
     "output_type": "execute_result"
    }
   ],
   "source": [
    "max2_ind"
   ]
  },
  {
   "cell_type": "code",
   "execution_count": 76,
   "metadata": {},
   "outputs": [
    {
     "data": {
      "text/plain": [
       "164"
      ]
     },
     "execution_count": 76,
     "metadata": {},
     "output_type": "execute_result"
    }
   ],
   "source": [
    "index_arr[max2_ind]"
   ]
  },
  {
   "cell_type": "code",
   "execution_count": 77,
   "metadata": {},
   "outputs": [
    {
     "data": {
      "text/plain": [
       "23"
      ]
     },
     "execution_count": 77,
     "metadata": {},
     "output_type": "execute_result"
    }
   ],
   "source": [
    "min2_ind"
   ]
  },
  {
   "cell_type": "code",
   "execution_count": 78,
   "metadata": {},
   "outputs": [
    {
     "data": {
      "text/plain": [
       "25"
      ]
     },
     "execution_count": 78,
     "metadata": {},
     "output_type": "execute_result"
    }
   ],
   "source": [
    "len(close_arr)"
   ]
  },
  {
   "cell_type": "code",
   "execution_count": 79,
   "metadata": {},
   "outputs": [
    {
     "data": {
      "text/plain": [
       "open          45.759998\n",
       "high              46.07\n",
       "low           45.439999\n",
       "close              45.6\n",
       "Adj Close     42.469936\n",
       "volume         18494300\n",
       "datetime     2019-08-12\n",
       "chg_pct        -0.34965\n",
       "extremum              1\n",
       "Name: 177, dtype: object"
      ]
     },
     "execution_count": 79,
     "metadata": {},
     "output_type": "execute_result"
    }
   ],
   "source": [
    "df.iloc[177]"
   ]
  },
  {
   "cell_type": "code",
   "execution_count": 80,
   "metadata": {},
   "outputs": [
    {
     "data": {
      "text/html": [
       "<div>\n",
       "<style scoped>\n",
       "    .dataframe tbody tr th:only-of-type {\n",
       "        vertical-align: middle;\n",
       "    }\n",
       "\n",
       "    .dataframe tbody tr th {\n",
       "        vertical-align: top;\n",
       "    }\n",
       "\n",
       "    .dataframe thead th {\n",
       "        text-align: right;\n",
       "    }\n",
       "</style>\n",
       "<table border=\"1\" class=\"dataframe\">\n",
       "  <thead>\n",
       "    <tr style=\"text-align: right;\">\n",
       "      <th></th>\n",
       "      <th>open</th>\n",
       "      <th>high</th>\n",
       "      <th>low</th>\n",
       "      <th>close</th>\n",
       "      <th>Adj Close</th>\n",
       "      <th>volume</th>\n",
       "      <th>datetime</th>\n",
       "      <th>chg_pct</th>\n",
       "      <th>extremum</th>\n",
       "    </tr>\n",
       "  </thead>\n",
       "  <tbody>\n",
       "    <tr>\n",
       "      <th>186</th>\n",
       "      <td>46.349998</td>\n",
       "      <td>46.630001</td>\n",
       "      <td>44.799999</td>\n",
       "      <td>44.96</td>\n",
       "      <td>41.873863</td>\n",
       "      <td>32814000</td>\n",
       "      <td>2019-08-23</td>\n",
       "      <td>-2.99892</td>\n",
       "      <td>1</td>\n",
       "    </tr>\n",
       "  </tbody>\n",
       "</table>\n",
       "</div>"
      ],
      "text/plain": [
       "          open       high        low  close  Adj Close    volume    datetime  \\\n",
       "186  46.349998  46.630001  44.799999  44.96  41.873863  32814000  2019-08-23   \n",
       "\n",
       "     chg_pct  extremum  \n",
       "186 -2.99892         1  "
      ]
     },
     "execution_count": 80,
     "metadata": {},
     "output_type": "execute_result"
    }
   ],
   "source": [
    "df[df.datetime=='2019-08-23']"
   ]
  },
  {
   "cell_type": "code",
   "execution_count": 81,
   "metadata": {},
   "outputs": [
    {
     "data": {
      "text/plain": [
       "open               53.0\n",
       "high          53.330002\n",
       "low               52.07\n",
       "close             53.01\n",
       "Adj Close     49.371296\n",
       "volume         23308700\n",
       "datetime     2019-09-12\n",
       "chg_pct        0.018865\n",
       "extremum              1\n",
       "Name: 199, dtype: object"
      ]
     },
     "execution_count": 81,
     "metadata": {},
     "output_type": "execute_result"
    }
   ],
   "source": [
    "df.iloc[199]"
   ]
  },
  {
   "cell_type": "code",
   "execution_count": 2,
   "metadata": {},
   "outputs": [
    {
     "data": {
      "text/html": [
       "<div>\n",
       "<style scoped>\n",
       "    .dataframe tbody tr th:only-of-type {\n",
       "        vertical-align: middle;\n",
       "    }\n",
       "\n",
       "    .dataframe tbody tr th {\n",
       "        vertical-align: top;\n",
       "    }\n",
       "\n",
       "    .dataframe thead th {\n",
       "        text-align: right;\n",
       "    }\n",
       "</style>\n",
       "<table border=\"1\" class=\"dataframe\">\n",
       "  <thead>\n",
       "    <tr style=\"text-align: right;\">\n",
       "      <th></th>\n",
       "      <th>ticker</th>\n",
       "      <th>datetime</th>\n",
       "      <th>vcp</th>\n",
       "      <th>cup</th>\n",
       "      <th>db</th>\n",
       "    </tr>\n",
       "  </thead>\n",
       "  <tbody>\n",
       "    <tr>\n",
       "      <th>0</th>\n",
       "      <td>name</td>\n",
       "      <td>date</td>\n",
       "      <td>0</td>\n",
       "      <td>0</td>\n",
       "      <td>0</td>\n",
       "    </tr>\n",
       "  </tbody>\n",
       "</table>\n",
       "</div>"
      ],
      "text/plain": [
       "  ticker datetime  vcp  cup  db\n",
       "0   name     date    0    0   0"
      ]
     },
     "execution_count": 2,
     "metadata": {},
     "output_type": "execute_result"
    }
   ],
   "source": [
    "import pandas as pd\n",
    "res = pd.DataFrame([['name','date',0,0,0]],columns=['ticker','datetime','vcp','cup','db'])\n",
    "res"
   ]
  },
  {
   "cell_type": "code",
   "execution_count": null,
   "metadata": {},
   "outputs": [],
   "source": []
  }
 ],
 "metadata": {
  "kernelspec": {
   "display_name": "Python 3.9.12 ('.env')",
   "language": "python",
   "name": "python3"
  },
  "language_info": {
   "codemirror_mode": {
    "name": "ipython",
    "version": 3
   },
   "file_extension": ".py",
   "mimetype": "text/x-python",
   "name": "python",
   "nbconvert_exporter": "python",
   "pygments_lexer": "ipython3",
   "version": "3.9.12"
  },
  "orig_nbformat": 4,
  "vscode": {
   "interpreter": {
    "hash": "275094a250fb64a879cf604ce7b88b81b1f18c35ecd757c3dc3951589b6fa1fd"
   }
  }
 },
 "nbformat": 4,
 "nbformat_minor": 2
}
