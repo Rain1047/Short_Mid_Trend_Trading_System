{
 "cells": [
  {
   "cell_type": "code",
   "execution_count": 1,
   "metadata": {},
   "outputs": [],
   "source": [
    "# ----------------------------------------#\n",
    "# N=新产品、新管理阶层、股价新高：选择怎样的入市时机\n",
    "#! 价格分析：\n",
    "# 股价新高：用价格捕捉，在价格系统中进行筛选\n",
    "# 52周新高\n",
    "# 60天新高\n",
    "# ----------------------------------------#"
   ]
  },
  {
   "cell_type": "code",
   "execution_count": 7,
   "metadata": {},
   "outputs": [],
   "source": [
    "import backtrader as bt\n",
    "import pandas as pd\n",
    "import numpy as np\n",
    "# from get_score import get_score_ch\n",
    "from sqlalchemy import create_engine\n",
    "import talib as ta\n",
    "import datetime\n",
    "import pandas as pd\n",
    "\n",
    "engine= create_engine('sqlite:///../../dataset/us/us_ticker_price_yf.db')"
   ]
  },
  {
   "cell_type": "code",
   "execution_count": 48,
   "metadata": {},
   "outputs": [],
   "source": [
    "ticker = 'INTC'\n",
    "ticker_list = ['INTC','AAPL','GOOG','BABA']\n"
   ]
  },
  {
   "cell_type": "code",
   "execution_count": 49,
   "metadata": {},
   "outputs": [],
   "source": []
  },
  {
   "cell_type": "code",
   "execution_count": 52,
   "metadata": {},
   "outputs": [
    {
     "name": "stdout",
     "output_type": "stream",
     "text": [
      "进入52周前高区\n",
      "离开52周低价区\n",
      "离开60天低价区\n",
      "离开52周低价区\n",
      "离开60天低价区\n"
     ]
    }
   ],
   "source": [
    "total = pd.DataFrame()\n",
    "for ticker in ticker_list:\n",
    "    hist = pd.read_sql(ticker, engine)\n",
    "    hist.rename(columns={'hgih':'high'},inplace=True)\n",
    "    # hist['chg_pct'] = ((hist.close - hist.open)/hist.open)*100\n",
    "    hist['close'] = hist['close'].apply(lambda x: round(x,3))\n",
    "    # temp = hist.tail(1)\n",
    "    temp = pd.DataFrame()\n",
    "    temp['symbol'] = 'symbol'\n",
    "    temp['datetime'] = hist.tail(1).datetime\n",
    "    temp.symbol = ticker\n",
    "    temp.index = range(len(temp))\n",
    "    # temp = temp[['Open, High, Low, Close, Volume, datetime']\n",
    "    # 注：为1就是好的\n",
    "    if hist.iloc[-1].close >= hist.tail(365).close.max() *0.75:\n",
    "        temp['52-week-high-zone'] = 1\n",
    "        print('进入52周前高区')\n",
    "    else: \n",
    "        temp['52-week-high-zone'] = 0\n",
    "    if hist.iloc[-1].close >= hist.tail(365).close.min() * 1.25:\n",
    "        temp['52-week-low-zone'] = 1\n",
    "        print('离开52周低价区')\n",
    "    else:\n",
    "        temp['52-week-low-zone'] = 0\n",
    "    if hist.iloc[-1].close > hist.tail(60).close.max() *0.9:\n",
    "        print('进入60天前高区')\n",
    "        temp['60-day-high-zone'] = 1\n",
    "    else:\n",
    "        temp['60-day-high-zone'] = 0\n",
    "    if hist.iloc[-1].close > hist.tail(60).close.min() * 1.1:\n",
    "        print('离开60天低价区')\n",
    "        temp['60-day-low-zone'] = 1\n",
    "    else:\n",
    "        temp['60-day-low-zone'] = 0\n",
    "\n",
    "    total = pd.concat([total, temp])"
   ]
  },
  {
   "cell_type": "code",
   "execution_count": 43,
   "metadata": {},
   "outputs": [],
   "source": [
    "\n",
    "if hist.iloc[-1].close >= hist.tail(365).close.max() *0.75:\n",
    "    temp['52-week-high-zone'] = 1\n",
    "    print('进入52周前高区')\n",
    "else: \n",
    "    temp['52-week-high-zone'] = 0\n",
    "if hist.iloc[-1].close >= hist.tail(365).close.min() * 1.25:\n",
    "    temp['52-week-low-zone'] = 1\n",
    "    print('离开52周低价区')\n",
    "else:\n",
    "    temp['52-week-low-zone'] = 0\n",
    "if hist.iloc[-1].close > hist.tail(60).close.max() *0.9:\n",
    "    print('进入60天前高区')\n",
    "    temp['60-day-high-zone'] = 1\n",
    "else:\n",
    "    temp['60-day-high-zone'] = 0\n",
    "if hist.iloc[-1].close > hist.tail(60).close.min() * 1.1:\n",
    "    print('离开60天低价区')\n",
    "    temp['60-day-low-zone'] = 1\n",
    "else:\n",
    "    temp['60-day-low-zone'] = 0"
   ]
  },
  {
   "cell_type": "code",
   "execution_count": 44,
   "metadata": {},
   "outputs": [
    {
     "data": {
      "text/html": [
       "<div>\n",
       "<style scoped>\n",
       "    .dataframe tbody tr th:only-of-type {\n",
       "        vertical-align: middle;\n",
       "    }\n",
       "\n",
       "    .dataframe tbody tr th {\n",
       "        vertical-align: top;\n",
       "    }\n",
       "\n",
       "    .dataframe thead th {\n",
       "        text-align: right;\n",
       "    }\n",
       "</style>\n",
       "<table border=\"1\" class=\"dataframe\">\n",
       "  <thead>\n",
       "    <tr style=\"text-align: right;\">\n",
       "      <th></th>\n",
       "      <th>symbol</th>\n",
       "      <th>datetime</th>\n",
       "      <th>52-week-high-zone</th>\n",
       "      <th>52-week-low-zone</th>\n",
       "      <th>60-day-high-zone</th>\n",
       "      <th>60-day-low-zone</th>\n",
       "    </tr>\n",
       "  </thead>\n",
       "  <tbody>\n",
       "    <tr>\n",
       "      <th>0</th>\n",
       "      <td>INTC</td>\n",
       "      <td>2022-07-14</td>\n",
       "      <td>0</td>\n",
       "      <td>0</td>\n",
       "      <td>0</td>\n",
       "      <td>0</td>\n",
       "    </tr>\n",
       "  </tbody>\n",
       "</table>\n",
       "</div>"
      ],
      "text/plain": [
       "  symbol    datetime  52-week-high-zone  52-week-low-zone  60-day-high-zone  \\\n",
       "0   INTC  2022-07-14                  0                 0                 0   \n",
       "\n",
       "   60-day-low-zone  \n",
       "0                0  "
      ]
     },
     "execution_count": 44,
     "metadata": {},
     "output_type": "execute_result"
    }
   ],
   "source": [
    "temp"
   ]
  },
  {
   "cell_type": "code",
   "execution_count": 45,
   "metadata": {},
   "outputs": [
    {
     "data": {
      "text/html": [
       "<div>\n",
       "<style scoped>\n",
       "    .dataframe tbody tr th:only-of-type {\n",
       "        vertical-align: middle;\n",
       "    }\n",
       "\n",
       "    .dataframe tbody tr th {\n",
       "        vertical-align: top;\n",
       "    }\n",
       "\n",
       "    .dataframe thead th {\n",
       "        text-align: right;\n",
       "    }\n",
       "</style>\n",
       "<table border=\"1\" class=\"dataframe\">\n",
       "  <thead>\n",
       "    <tr style=\"text-align: right;\">\n",
       "      <th></th>\n",
       "      <th>symbol</th>\n",
       "      <th>datetime</th>\n",
       "      <th>52-week-high-zone</th>\n",
       "      <th>52-week-low-zone</th>\n",
       "      <th>60-day-high-zone</th>\n",
       "      <th>60-day-low-zone</th>\n",
       "    </tr>\n",
       "  </thead>\n",
       "  <tbody>\n",
       "    <tr>\n",
       "      <th>0</th>\n",
       "      <td>INTC</td>\n",
       "      <td>2022-07-14</td>\n",
       "      <td>0</td>\n",
       "      <td>0</td>\n",
       "      <td>0</td>\n",
       "      <td>0</td>\n",
       "    </tr>\n",
       "  </tbody>\n",
       "</table>\n",
       "</div>"
      ],
      "text/plain": [
       "  symbol    datetime  52-week-high-zone  52-week-low-zone  60-day-high-zone  \\\n",
       "0   INTC  2022-07-14                  0                 0                 0   \n",
       "\n",
       "   60-day-low-zone  \n",
       "0                0  "
      ]
     },
     "execution_count": 45,
     "metadata": {},
     "output_type": "execute_result"
    }
   ],
   "source": [
    "total = pd.concat([total, temp])\n",
    "total"
   ]
  },
  {
   "cell_type": "code",
   "execution_count": 10,
   "metadata": {},
   "outputs": [
    {
     "data": {
      "text/plain": [
       "'2022816'"
      ]
     },
     "execution_count": 10,
     "metadata": {},
     "output_type": "execute_result"
    }
   ],
   "source": [
    "currenttime = datetime.now()\n",
    "deltatime = timedelta(day=365)\n",
    "currentday = str(currenttime.year) + str(currenttime.month) + str(currenttime.day)\n",
    "currentday"
   ]
  },
  {
   "cell_type": "code",
   "execution_count": 37,
   "metadata": {},
   "outputs": [
    {
     "name": "stdout",
     "output_type": "stream",
     "text": [
      "date:20200622 close:358.87\n",
      "date:20200623 close:366.53\n",
      "date:20200706 close:373.85\n",
      "date:20200708 close:381.37\n",
      "date:20200709 close:382.73\n",
      "date:20200710 close:383.68\n",
      "date:20200714 close:388.23\n",
      "date:20200715 close:390.9\n",
      "date:20200720 close:393.43\n",
      "date:20200731 close:425.04\n",
      "date:20200803 close:435.75\n",
      "date:20200804 close:438.66\n",
      "date:20200805 close:440.25\n",
      "date:20200806 close:455.61\n",
      "date:20200813 close:460.04\n",
      "date:20200818 close:462.25\n",
      "date:20200819 close:462.83\n",
      "date:20200820 close:473.1\n",
      "date:20200821 close:497.48\n",
      "date:20200824 close:503.43\n",
      "date:20200826 close:506.09\n"
     ]
    }
   ],
   "source": [
    "len_ = len(aapl)\n",
    "for i in range(365,len_):\n",
    "    if aapl.loc[i].close == aapl.loc[i-365:i].close.max():\n",
    "        print(\"date:{} close:{}\".format(aapl.loc[i].trade_date,aapl.loc[i].close))"
   ]
  },
  {
   "cell_type": "code",
   "execution_count": 1,
   "metadata": {},
   "outputs": [],
   "source": [
    "# ----------------------------------------#\n",
    "#! 价格分析：\n",
    "# 供应和需求\n",
    "# 股票的单日成交量是评估供需情况的最佳指标。如果一支股票的价格发生回落，\n",
    "# 你就必须观察一下交易量是否萎缩。如果交易萎缩，则意味着市场有卖空的压力。\n",
    "# 如果股票价格上升，你要进一步观察交易量是否有显著扩张，\n",
    "# 这种情况下很可能是由于机构投资者在买进此种股票建仓的缘故。\n",
    "#! 进一步查看\n",
    "# 一旦股票自底部整理形态（见第12章 关于如何阅读股价图以及识别领导股的价格形态）向上突破之后，\n",
    "# 日成交量应该较正常水准至少高出50%，有的时候甚至可能超过100%或者更高。\n",
    "\n",
    "# 个人理解：\n",
    "# 这里强调了两个重点，一个是市场的卖空压力电，也就是我们的卖出点\n",
    "# 二是成交量的突破，也就是说我们价格的反转点，从这个交易量起市场就要走向上升状态\n",
    "# 但是这两个点的成立和判断还需要价格的辅助，特别是第一个卖出点的判断，而且这些不属于我们识别股票的阶段，\n",
    "# 应该是选择买入卖出时机的时候，更加需要这个条件帮助我们去判断\n",
    "# ----------------------------------------#"
   ]
  },
  {
   "cell_type": "code",
   "execution_count": 3,
   "metadata": {},
   "outputs": [],
   "source": [
    "# ----------------------------------------#\n",
    "#! 价格分析\n",
    "# RS评级是用于比较一支特定股票在过去一年（52周）\n",
    "# 内相对于市场其他股票的价格表现的一种专利评级。\n",
    "# 简而言之：大家都跌的时候我跌的少，大家都涨的时候我才能涨得快\n",
    "# ----------------------------------------#\n",
    "# RS指标是我个人认为最好的指标之一，其特性使其在任何市场都游刃有余，\n",
    "# 但是其获取的过程也相对复杂，需要很多的数据作为支持，\n",
    "# 下面的过程我们将主要的时间和精力都去做出这个指标并且力求和Investor'Daily 的结果相同\n"
   ]
  },
  {
   "cell_type": "code",
   "execution_count": null,
   "metadata": {},
   "outputs": [],
   "source": []
  },
  {
   "cell_type": "code",
   "execution_count": null,
   "metadata": {},
   "outputs": [],
   "source": [
    "# ----------------------------------------#\n",
    "# M=市场走向：如何判断大盘走势 Market\n",
    "# SP500 & Nasdaq\n",
    "# 要想识别大盘顶点，你就要紧密跟踪每天的标准普尔500、纳斯达克指数。\n",
    "# 在上涨行情中，必有某一天市场成交总量较前一天会有增加，\n",
    "# 但是其指数却会出现回落倾向（主要表现是这一天的价格涨幅明显小于前一天的价格涨幅）\n",
    "# ----------------------------------------#\n",
    "# 这一部分看似最简单，只需要简单的获取下指数然后算个MA50或MA200就结束了，\n",
    "# 但是由于权值股的存在，使得SP500并不能很好的展示趋势"
   ]
  },
  {
   "cell_type": "code",
   "execution_count": 42,
   "metadata": {},
   "outputs": [
    {
     "data": {
      "text/plain": [
       "Date\n",
       "2003-02-19    0.08\n",
       "2003-10-15    0.16\n",
       "2004-08-23    0.08\n",
       "2004-11-15    3.08\n",
       "2005-02-15    0.08\n",
       "              ... \n",
       "2020-05-20    0.51\n",
       "2020-08-19    0.51\n",
       "2020-11-18    0.56\n",
       "2021-02-17    0.56\n",
       "2021-05-19    0.56\n",
       "Name: Dividends, Length: 70, dtype: float64"
      ]
     },
     "execution_count": 42,
     "metadata": {},
     "output_type": "execute_result"
    }
   ],
   "source": [
    "import yfinance as yf\n",
    "mstf = yf.Ticker('MSFT')\n",
    "mstf.dividends"
   ]
  },
  {
   "cell_type": "code",
   "execution_count": 43,
   "metadata": {},
   "outputs": [
    {
     "data": {
      "text/plain": [
       "{'zip': '98052-6399',\n",
       " 'sector': 'Technology',\n",
       " 'fullTimeEmployees': 221000,\n",
       " 'longBusinessSummary': 'Microsoft Corporation develops, licenses, and supports software, services, devices, and solutions worldwide. The company operates in three segments: Productivity and Business Processes, Intelligent Cloud, and More Personal Computing. The Productivity and Business Processes segment offers Office, Exchange, SharePoint, Microsoft Teams, Office 365 Security and Compliance, Microsoft Viva, and Skype for Business; Skype, Outlook.com, OneDrive, and LinkedIn; and Dynamics 365, a set of cloud-based and on-premises business solutions for organizations and enterprise divisions. The Intelligent Cloud segment licenses SQL, Windows Servers, Visual Studio, System Center, and related Client Access Licenses; GitHub that provides a collaboration platform and code hosting service for developers; Nuance provides healthcare and enterprise AI solutions; and Azure, a cloud platform. It also offers enterprise support, Microsoft consulting, and nuance professional services to assist customers in developing, deploying, and managing Microsoft server and desktop solutions; and training and certification on Microsoft products. The More Personal Computing segment provides Windows original equipment manufacturer (OEM) licensing and other non-volume licensing of the Windows operating system; Windows Commercial, such as volume licensing of the Windows operating system, Windows cloud services, and other Windows commercial offerings; patent licensing; and Windows Internet of Things. It also offers Surface, PC accessories, PCs, tablets, gaming and entertainment consoles, and other devices; Gaming, including Xbox hardware, and Xbox content and services; video games and third-party video game royalties; and Search, including Bing and Microsoft advertising. The company sells its products through OEMs, distributors, and resellers; and directly through digital marketplaces, online stores, and retail stores. Microsoft Corporation was founded in 1975 and is headquartered in Redmond, Washington.',\n",
       " 'city': 'Redmond',\n",
       " 'phone': '425 882 8080',\n",
       " 'state': 'WA',\n",
       " 'country': 'United States',\n",
       " 'companyOfficers': [],\n",
       " 'website': 'https://www.microsoft.com',\n",
       " 'maxAge': 1,\n",
       " 'address1': 'One Microsoft Way',\n",
       " 'fax': '425 706 7329',\n",
       " 'industry': 'Software—Infrastructure',\n",
       " 'ebitdaMargins': 0.49418998,\n",
       " 'profitMargins': 0.36686,\n",
       " 'grossMargins': 0.68402,\n",
       " 'operatingCashflow': 89034997760,\n",
       " 'revenueGrowth': 0.124,\n",
       " 'operatingMargins': 0.42055,\n",
       " 'ebitda': 97982996480,\n",
       " 'targetLowPrice': 275,\n",
       " 'recommendationKey': 'buy',\n",
       " 'grossProfits': 135620000000,\n",
       " 'freeCashflow': 49479000064,\n",
       " 'targetMedianPrice': 330,\n",
       " 'currentPrice': 292.71,\n",
       " 'earningsGrowth': 0.031,\n",
       " 'currentRatio': 1.785,\n",
       " 'returnOnAssets': 0.14919,\n",
       " 'numberOfAnalystOpinions': 46,\n",
       " 'targetMeanPrice': 339.48,\n",
       " 'debtToEquity': 47.075,\n",
       " 'returnOnEquity': 0.47151002,\n",
       " 'targetHighPrice': 425.96,\n",
       " 'totalCash': 104748998656,\n",
       " 'totalDebt': 78399995904,\n",
       " 'totalRevenue': 198269992960,\n",
       " 'totalCashPerShare': 14.045,\n",
       " 'financialCurrency': 'USD',\n",
       " 'revenuePerShare': 26.45,\n",
       " 'quickRatio': 1.567,\n",
       " 'recommendationMean': 1.7,\n",
       " 'exchange': 'NMS',\n",
       " 'shortName': 'Microsoft Corporation',\n",
       " 'longName': 'Microsoft Corporation',\n",
       " 'exchangeTimezoneName': 'America/New_York',\n",
       " 'exchangeTimezoneShortName': 'EDT',\n",
       " 'isEsgPopulated': True,\n",
       " 'gmtOffSetMilliseconds': '-14400000',\n",
       " 'underlyingSymbol': None,\n",
       " 'quoteType': 'EQUITY',\n",
       " 'symbol': 'MSFT',\n",
       " 'underlyingExchangeSymbol': None,\n",
       " 'headSymbol': None,\n",
       " 'messageBoardId': 'finmb_21835',\n",
       " 'uuid': 'b004b3ec-de24-385e-b2c1-923f10d3fb62',\n",
       " 'market': 'us_market',\n",
       " 'annualHoldingsTurnover': None,\n",
       " 'enterpriseToRevenue': 10.427,\n",
       " 'beta3Year': None,\n",
       " 'enterpriseToEbitda': 21.099,\n",
       " '52WeekChange': None,\n",
       " 'morningStarRiskRating': None,\n",
       " 'forwardEps': 10.54,\n",
       " 'revenueQuarterlyGrowth': None,\n",
       " 'sharesOutstanding': 7507979776,\n",
       " 'fundInceptionDate': None,\n",
       " 'annualReportExpenseRatio': None,\n",
       " 'totalAssets': None,\n",
       " 'bookValue': 20.242,\n",
       " 'sharesShort': 38999356,\n",
       " 'sharesPercentSharesOut': 0.0052,\n",
       " 'fundFamily': None,\n",
       " 'lastFiscalYearEnd': 1656547200,\n",
       " 'heldPercentInstitutions': 0.72120005,\n",
       " 'netIncomeToCommon': 72737996800,\n",
       " 'trailingEps': 8.939,\n",
       " 'lastDividendValue': None,\n",
       " 'SandP52WeekChange': None,\n",
       " 'priceToBook': 14.460526,\n",
       " 'heldPercentInsiders': 0.00075,\n",
       " 'nextFiscalYearEnd': 1719705600,\n",
       " 'yield': None,\n",
       " 'mostRecentQuarter': 1656547200,\n",
       " 'shortRatio': 1.42,\n",
       " 'sharesShortPreviousMonthDate': 1655251200,\n",
       " 'floatShares': 7450956033,\n",
       " 'beta': 0.932311,\n",
       " 'enterpriseValue': 2067379519488,\n",
       " 'priceHint': 2,\n",
       " 'threeYearAverageReturn': None,\n",
       " 'lastSplitDate': 1045526400,\n",
       " 'lastSplitFactor': '2:1',\n",
       " 'legalType': None,\n",
       " 'morningStarOverallRating': None,\n",
       " 'earningsQuarterlyGrowth': 0.017,\n",
       " 'priceToSalesTrailing12Months': 11.084182,\n",
       " 'dateShortInterest': 1657843200,\n",
       " 'pegRatio': 1.73,\n",
       " 'ytdReturn': None,\n",
       " 'forwardPE': 27.771347,\n",
       " 'lastCapGain': None,\n",
       " 'shortPercentOfFloat': 0.0052,\n",
       " 'sharesShortPriorMonth': 48150433,\n",
       " 'category': None,\n",
       " 'fiveYearAverageReturn': None,\n",
       " 'previousClose': 293.47,\n",
       " 'regularMarketOpen': 291.99,\n",
       " 'twoHundredDayAverage': 294.2482,\n",
       " 'trailingAnnualDividendYield': 0.007837257,\n",
       " 'payoutRatio': 0.2508,\n",
       " 'volume24Hr': None,\n",
       " 'regularMarketDayHigh': 294.04,\n",
       " 'navPrice': None,\n",
       " 'averageDailyVolume10Day': 20404560,\n",
       " 'regularMarketPreviousClose': 293.47,\n",
       " 'fiftyDayAverage': 265.9096,\n",
       " 'trailingAnnualDividendRate': 2.3,\n",
       " 'open': 291.99,\n",
       " 'averageVolume10days': 20404560,\n",
       " 'expireDate': None,\n",
       " 'algorithm': None,\n",
       " 'dividendRate': 2.48,\n",
       " 'exDividendDate': 1660694400,\n",
       " 'circulatingSupply': None,\n",
       " 'startDate': None,\n",
       " 'regularMarketDayLow': 290.42,\n",
       " 'currency': 'USD',\n",
       " 'trailingPE': 32.745274,\n",
       " 'regularMarketVolume': 18040916,\n",
       " 'lastMarket': None,\n",
       " 'maxSupply': None,\n",
       " 'openInterest': None,\n",
       " 'marketCap': 2197660631040,\n",
       " 'volumeAllCurrencies': None,\n",
       " 'strikePrice': None,\n",
       " 'averageVolume': 27231217,\n",
       " 'dayLow': 290.42,\n",
       " 'ask': 293,\n",
       " 'askSize': 800,\n",
       " 'volume': 18040916,\n",
       " 'fiftyTwoWeekHigh': 349.67,\n",
       " 'fromCurrency': None,\n",
       " 'fiveYearAvgDividendYield': 1.23,\n",
       " 'fiftyTwoWeekLow': 241.51,\n",
       " 'bid': 292.81,\n",
       " 'tradeable': False,\n",
       " 'dividendYield': 0.0088,\n",
       " 'bidSize': 1000,\n",
       " 'dayHigh': 294.04,\n",
       " 'regularMarketPrice': 292.71,\n",
       " 'preMarketPrice': 291.8,\n",
       " 'logo_url': 'https://logo.clearbit.com/microsoft.com',\n",
       " 'trailingPegRatio': 2.186}"
      ]
     },
     "execution_count": 43,
     "metadata": {},
     "output_type": "execute_result"
    }
   ],
   "source": [
    "mstf.info"
   ]
  },
  {
   "cell_type": "code",
   "execution_count": null,
   "metadata": {},
   "outputs": [],
   "source": []
  }
 ],
 "metadata": {
  "interpreter": {
   "hash": "c54b1d546a55c7081c560ec6c5e5b60c965bd5490ee7c941cda7746260792115"
  },
  "kernelspec": {
   "display_name": "Python 3.9.12 64-bit ('env_trade': conda)",
   "language": "python",
   "name": "python3"
  },
  "language_info": {
   "codemirror_mode": {
    "name": "ipython",
    "version": 3
   },
   "file_extension": ".py",
   "mimetype": "text/x-python",
   "name": "python",
   "nbconvert_exporter": "python",
   "pygments_lexer": "ipython3",
   "version": "3.9.12"
  },
  "orig_nbformat": 4
 },
 "nbformat": 4,
 "nbformat_minor": 2
}
