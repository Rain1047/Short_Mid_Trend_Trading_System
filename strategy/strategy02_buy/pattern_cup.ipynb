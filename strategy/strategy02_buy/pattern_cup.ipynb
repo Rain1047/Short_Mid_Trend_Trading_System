{
 "cells": [
  {
   "cell_type": "code",
   "execution_count": 21,
   "metadata": {},
   "outputs": [],
   "source": [
    "import backtrader as bt\n",
    "import pandas as pd\n",
    "import numpy as np\n",
    "# from get_score import get_score_ch\n",
    "from sqlalchemy import create_engine\n",
    "import talib as ta\n",
    "import datetime\n",
    "import pandas as pd"
   ]
  },
  {
   "cell_type": "code",
   "execution_count": 22,
   "metadata": {},
   "outputs": [],
   "source": [
    "engine= create_engine('sqlite:///../../dataset/us/us_ticker_price_yf.db')"
   ]
  },
  {
   "cell_type": "code",
   "execution_count": 25,
   "metadata": {},
   "outputs": [
    {
     "data": {
      "text/html": [
       "<div>\n",
       "<style scoped>\n",
       "    .dataframe tbody tr th:only-of-type {\n",
       "        vertical-align: middle;\n",
       "    }\n",
       "\n",
       "    .dataframe tbody tr th {\n",
       "        vertical-align: top;\n",
       "    }\n",
       "\n",
       "    .dataframe thead th {\n",
       "        text-align: right;\n",
       "    }\n",
       "</style>\n",
       "<table border=\"1\" class=\"dataframe\">\n",
       "  <thead>\n",
       "    <tr style=\"text-align: right;\">\n",
       "      <th></th>\n",
       "      <th>open</th>\n",
       "      <th>high</th>\n",
       "      <th>low</th>\n",
       "      <th>close</th>\n",
       "      <th>Adj Close</th>\n",
       "      <th>volume</th>\n",
       "      <th>datetime</th>\n",
       "      <th>VMA20</th>\n",
       "    </tr>\n",
       "  </thead>\n",
       "  <tbody>\n",
       "    <tr>\n",
       "      <th>0</th>\n",
       "      <td>0.437500</td>\n",
       "      <td>0.488281</td>\n",
       "      <td>0.388021</td>\n",
       "      <td>0.410</td>\n",
       "      <td>0.376630</td>\n",
       "      <td>271468800.0</td>\n",
       "      <td>1999-01-22</td>\n",
       "      <td>NaN</td>\n",
       "    </tr>\n",
       "    <tr>\n",
       "      <th>1</th>\n",
       "      <td>0.442708</td>\n",
       "      <td>0.458333</td>\n",
       "      <td>0.410156</td>\n",
       "      <td>0.453</td>\n",
       "      <td>0.416086</td>\n",
       "      <td>51048000.0</td>\n",
       "      <td>1999-01-25</td>\n",
       "      <td>NaN</td>\n",
       "    </tr>\n",
       "    <tr>\n",
       "      <th>2</th>\n",
       "      <td>0.458333</td>\n",
       "      <td>0.467448</td>\n",
       "      <td>0.411458</td>\n",
       "      <td>0.418</td>\n",
       "      <td>0.383804</td>\n",
       "      <td>34320000.0</td>\n",
       "      <td>1999-01-26</td>\n",
       "      <td>NaN</td>\n",
       "    </tr>\n",
       "    <tr>\n",
       "      <th>3</th>\n",
       "      <td>0.419271</td>\n",
       "      <td>0.429688</td>\n",
       "      <td>0.395833</td>\n",
       "      <td>0.417</td>\n",
       "      <td>0.382609</td>\n",
       "      <td>24436800.0</td>\n",
       "      <td>1999-01-27</td>\n",
       "      <td>NaN</td>\n",
       "    </tr>\n",
       "    <tr>\n",
       "      <th>4</th>\n",
       "      <td>0.416667</td>\n",
       "      <td>0.419271</td>\n",
       "      <td>0.412760</td>\n",
       "      <td>0.415</td>\n",
       "      <td>0.381413</td>\n",
       "      <td>22752000.0</td>\n",
       "      <td>1999-01-28</td>\n",
       "      <td>NaN</td>\n",
       "    </tr>\n",
       "    <tr>\n",
       "      <th>...</th>\n",
       "      <td>...</td>\n",
       "      <td>...</td>\n",
       "      <td>...</td>\n",
       "      <td>...</td>\n",
       "      <td>...</td>\n",
       "      <td>...</td>\n",
       "      <td>...</td>\n",
       "      <td>...</td>\n",
       "    </tr>\n",
       "    <tr>\n",
       "      <th>5904</th>\n",
       "      <td>154.300003</td>\n",
       "      <td>160.369995</td>\n",
       "      <td>153.889999</td>\n",
       "      <td>158.380</td>\n",
       "      <td>158.380005</td>\n",
       "      <td>46763500.0</td>\n",
       "      <td>2022-07-08</td>\n",
       "      <td>NaN</td>\n",
       "    </tr>\n",
       "    <tr>\n",
       "      <th>5905</th>\n",
       "      <td>155.259995</td>\n",
       "      <td>155.270004</td>\n",
       "      <td>150.380005</td>\n",
       "      <td>151.520</td>\n",
       "      <td>151.520004</td>\n",
       "      <td>43732100.0</td>\n",
       "      <td>2022-07-11</td>\n",
       "      <td>NaN</td>\n",
       "    </tr>\n",
       "    <tr>\n",
       "      <th>5906</th>\n",
       "      <td>152.679993</td>\n",
       "      <td>154.309998</td>\n",
       "      <td>148.770004</td>\n",
       "      <td>150.820</td>\n",
       "      <td>150.820007</td>\n",
       "      <td>45848300.0</td>\n",
       "      <td>2022-07-12</td>\n",
       "      <td>NaN</td>\n",
       "    </tr>\n",
       "    <tr>\n",
       "      <th>5907</th>\n",
       "      <td>145.899994</td>\n",
       "      <td>153.750000</td>\n",
       "      <td>144.649994</td>\n",
       "      <td>151.640</td>\n",
       "      <td>151.639999</td>\n",
       "      <td>52191800.0</td>\n",
       "      <td>2022-07-13</td>\n",
       "      <td>NaN</td>\n",
       "    </tr>\n",
       "    <tr>\n",
       "      <th>5908</th>\n",
       "      <td>151.080002</td>\n",
       "      <td>154.729996</td>\n",
       "      <td>147.279999</td>\n",
       "      <td>153.720</td>\n",
       "      <td>153.720001</td>\n",
       "      <td>45484300.0</td>\n",
       "      <td>2022-07-14</td>\n",
       "      <td>NaN</td>\n",
       "    </tr>\n",
       "  </tbody>\n",
       "</table>\n",
       "<p>5909 rows × 8 columns</p>\n",
       "</div>"
      ],
      "text/plain": [
       "            open        high         low    close   Adj Close       volume  \\\n",
       "0       0.437500    0.488281    0.388021    0.410    0.376630  271468800.0   \n",
       "1       0.442708    0.458333    0.410156    0.453    0.416086   51048000.0   \n",
       "2       0.458333    0.467448    0.411458    0.418    0.383804   34320000.0   \n",
       "3       0.419271    0.429688    0.395833    0.417    0.382609   24436800.0   \n",
       "4       0.416667    0.419271    0.412760    0.415    0.381413   22752000.0   \n",
       "...          ...         ...         ...      ...         ...          ...   \n",
       "5904  154.300003  160.369995  153.889999  158.380  158.380005   46763500.0   \n",
       "5905  155.259995  155.270004  150.380005  151.520  151.520004   43732100.0   \n",
       "5906  152.679993  154.309998  148.770004  150.820  150.820007   45848300.0   \n",
       "5907  145.899994  153.750000  144.649994  151.640  151.639999   52191800.0   \n",
       "5908  151.080002  154.729996  147.279999  153.720  153.720001   45484300.0   \n",
       "\n",
       "        datetime  VMA20  \n",
       "0     1999-01-22    NaN  \n",
       "1     1999-01-25    NaN  \n",
       "2     1999-01-26    NaN  \n",
       "3     1999-01-27    NaN  \n",
       "4     1999-01-28    NaN  \n",
       "...          ...    ...  \n",
       "5904  2022-07-08    NaN  \n",
       "5905  2022-07-11    NaN  \n",
       "5906  2022-07-12    NaN  \n",
       "5907  2022-07-13    NaN  \n",
       "5908  2022-07-14    NaN  \n",
       "\n",
       "[5909 rows x 8 columns]"
      ]
     },
     "execution_count": 25,
     "metadata": {},
     "output_type": "execute_result"
    }
   ],
   "source": [
    "ticker_name = 'NVDA'\n",
    "df = pd.read_sql('{}'.format(ticker_name), engine)\n",
    "df.rename(columns={'hgih':'high'},inplace=True)\n",
    "# df['chg_pct'] = ((df.close - df.open)/df.open)*100\n",
    "df['close'] = df['close'].apply(lambda x: round(x,3))\n",
    "df['VMA20'] = 0\n",
    "df['VMA20'] = ta.SMA(df.volume, timeperiod=20)\n",
    "df"
   ]
  },
  {
   "cell_type": "code",
   "execution_count": 17,
   "metadata": {},
   "outputs": [
    {
     "name": "stdout",
     "output_type": "stream",
     "text": [
      "fine\n"
     ]
    }
   ],
   "source": [
    "# make sure target date\n",
    "target_date = '2021-10-19'\n",
    "target_index = df[df.datetime == target_date].index.values[0] + 1\n",
    "# \n",
    "time_zone = 60\n",
    "start_index = target_index - time_zone\n",
    "window = df[start_index : target_index]\n",
    "window.index = range(len(window))\n",
    "price_max = window.high.max()\n",
    "index_max = window[window.high == price_max].index.values[0]\n",
    "price_min = window[index_max:].low.min()\n",
    "index_min = window[window.low == price_min].index.values[0]\n",
    "if (price_max - price_min) / price_max < 0.3:\n",
    "    print('fine')\n",
    "if window.tail(1).close.values[0] < (price_max - price_min)/3+ price_min and window.tail(3).volume.mean() < window.tail(3).VMA20.mean():\n",
    "    print('cheat zone')\n",
    "if window.tail(1).close.values[0] > price_max - (price_max - price_min)/3 and window.tail(3).volume.mean() < window.tail(3).VMA20.mean():\n",
    "    print('handle zone')"
   ]
  },
  {
   "cell_type": "code",
   "execution_count": 18,
   "metadata": {},
   "outputs": [
    {
     "data": {
      "text/plain": [
       "(19265366.666666668, nan)"
      ]
     },
     "execution_count": 18,
     "metadata": {},
     "output_type": "execute_result"
    }
   ],
   "source": [
    "window.tail(3).volume.mean(), window.tail(3).VMA20.mean()"
   ]
  },
  {
   "cell_type": "code",
   "execution_count": 8,
   "metadata": {},
   "outputs": [
    {
     "data": {
      "text/plain": [
       "59    222.9\n",
       "Name: close, dtype: float64"
      ]
     },
     "execution_count": 8,
     "metadata": {},
     "output_type": "execute_result"
    }
   ],
   "source": [
    "window.tail(1).close"
   ]
  },
  {
   "cell_type": "code",
   "execution_count": 6,
   "metadata": {},
   "outputs": [
    {
     "data": {
      "text/plain": [
       "(24, 230.42999267578125, 48, 195.5500030517578)"
      ]
     },
     "execution_count": 6,
     "metadata": {},
     "output_type": "execute_result"
    }
   ],
   "source": [
    "index_max, price_max,index_min, price_min, "
   ]
  },
  {
   "cell_type": "code",
   "execution_count": 21,
   "metadata": {},
   "outputs": [],
   "source": []
  },
  {
   "cell_type": "code",
   "execution_count": 22,
   "metadata": {},
   "outputs": [
    {
     "data": {
      "text/plain": [
       "(56, 44.79999923706055)"
      ]
     },
     "execution_count": 22,
     "metadata": {},
     "output_type": "execute_result"
    }
   ],
   "source": []
  },
  {
   "cell_type": "code",
   "execution_count": 23,
   "metadata": {},
   "outputs": [
    {
     "name": "stdout",
     "output_type": "stream",
     "text": [
      "fine\n"
     ]
    }
   ],
   "source": []
  },
  {
   "cell_type": "code",
   "execution_count": null,
   "metadata": {},
   "outputs": [],
   "source": []
  }
 ],
 "metadata": {
  "interpreter": {
   "hash": "c54b1d546a55c7081c560ec6c5e5b60c965bd5490ee7c941cda7746260792115"
  },
  "kernelspec": {
   "display_name": "Python 3.9.12 64-bit ('env_trade': conda)",
   "language": "python",
   "name": "python3"
  },
  "language_info": {
   "codemirror_mode": {
    "name": "ipython",
    "version": 3
   },
   "file_extension": ".py",
   "mimetype": "text/x-python",
   "name": "python",
   "nbconvert_exporter": "python",
   "pygments_lexer": "ipython3",
   "version": "3.9.12"
  },
  "orig_nbformat": 4
 },
 "nbformat": 4,
 "nbformat_minor": 2
}
