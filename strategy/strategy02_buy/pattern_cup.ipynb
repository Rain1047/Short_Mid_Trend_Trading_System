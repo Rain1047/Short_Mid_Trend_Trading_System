{
 "cells": [
  {
   "cell_type": "code",
   "execution_count": 1,
   "metadata": {},
   "outputs": [
    {
     "data": {
      "text/html": [
       "<div>\n",
       "<style scoped>\n",
       "    .dataframe tbody tr th:only-of-type {\n",
       "        vertical-align: middle;\n",
       "    }\n",
       "\n",
       "    .dataframe tbody tr th {\n",
       "        vertical-align: top;\n",
       "    }\n",
       "\n",
       "    .dataframe thead th {\n",
       "        text-align: right;\n",
       "    }\n",
       "</style>\n",
       "<table border=\"1\" class=\"dataframe\">\n",
       "  <thead>\n",
       "    <tr style=\"text-align: right;\">\n",
       "      <th></th>\n",
       "      <th>Open</th>\n",
       "      <th>High</th>\n",
       "      <th>Low</th>\n",
       "      <th>Close</th>\n",
       "      <th>Volume</th>\n",
       "      <th>datetime</th>\n",
       "      <th>VMA20</th>\n",
       "    </tr>\n",
       "  </thead>\n",
       "  <tbody>\n",
       "    <tr>\n",
       "      <th>0</th>\n",
       "      <td>5.485806</td>\n",
       "      <td>5.512577</td>\n",
       "      <td>5.410357</td>\n",
       "      <td>5.420</td>\n",
       "      <td>26255600.0</td>\n",
       "      <td>2015-09-03</td>\n",
       "      <td>NaN</td>\n",
       "    </tr>\n",
       "    <tr>\n",
       "      <th>1</th>\n",
       "      <td>5.327606</td>\n",
       "      <td>5.412790</td>\n",
       "      <td>5.291099</td>\n",
       "      <td>5.294</td>\n",
       "      <td>28797200.0</td>\n",
       "      <td>2015-09-04</td>\n",
       "      <td>NaN</td>\n",
       "    </tr>\n",
       "    <tr>\n",
       "      <th>2</th>\n",
       "      <td>5.422525</td>\n",
       "      <td>5.541781</td>\n",
       "      <td>5.400620</td>\n",
       "      <td>5.520</td>\n",
       "      <td>23844800.0</td>\n",
       "      <td>2015-09-08</td>\n",
       "      <td>NaN</td>\n",
       "    </tr>\n",
       "    <tr>\n",
       "      <th>3</th>\n",
       "      <td>5.536915</td>\n",
       "      <td>5.583158</td>\n",
       "      <td>5.398188</td>\n",
       "      <td>5.410</td>\n",
       "      <td>28939200.0</td>\n",
       "      <td>2015-09-09</td>\n",
       "      <td>NaN</td>\n",
       "    </tr>\n",
       "    <tr>\n",
       "      <th>4</th>\n",
       "      <td>5.378717</td>\n",
       "      <td>5.563686</td>\n",
       "      <td>5.354378</td>\n",
       "      <td>5.496</td>\n",
       "      <td>35707600.0</td>\n",
       "      <td>2015-09-10</td>\n",
       "      <td>NaN</td>\n",
       "    </tr>\n",
       "    <tr>\n",
       "      <th>...</th>\n",
       "      <td>...</td>\n",
       "      <td>...</td>\n",
       "      <td>...</td>\n",
       "      <td>...</td>\n",
       "      <td>...</td>\n",
       "      <td>...</td>\n",
       "      <td>...</td>\n",
       "    </tr>\n",
       "    <tr>\n",
       "      <th>1758</th>\n",
       "      <td>160.199997</td>\n",
       "      <td>163.380005</td>\n",
       "      <td>157.669998</td>\n",
       "      <td>158.010</td>\n",
       "      <td>49613200.0</td>\n",
       "      <td>2022-08-29</td>\n",
       "      <td>52438850.0</td>\n",
       "    </tr>\n",
       "    <tr>\n",
       "      <th>1759</th>\n",
       "      <td>159.600006</td>\n",
       "      <td>160.389999</td>\n",
       "      <td>151.820007</td>\n",
       "      <td>154.680</td>\n",
       "      <td>53018100.0</td>\n",
       "      <td>2022-08-30</td>\n",
       "      <td>52642120.0</td>\n",
       "    </tr>\n",
       "    <tr>\n",
       "      <th>1760</th>\n",
       "      <td>153.839996</td>\n",
       "      <td>155.399994</td>\n",
       "      <td>149.589996</td>\n",
       "      <td>150.940</td>\n",
       "      <td>57371000.0</td>\n",
       "      <td>2022-08-31</td>\n",
       "      <td>53419940.0</td>\n",
       "    </tr>\n",
       "    <tr>\n",
       "      <th>1761</th>\n",
       "      <td>142.089996</td>\n",
       "      <td>143.800003</td>\n",
       "      <td>132.699997</td>\n",
       "      <td>139.370</td>\n",
       "      <td>117886500.0</td>\n",
       "      <td>2022-09-01</td>\n",
       "      <td>57266005.0</td>\n",
       "    </tr>\n",
       "    <tr>\n",
       "      <th>1762</th>\n",
       "      <td>141.000000</td>\n",
       "      <td>141.710007</td>\n",
       "      <td>135.910004</td>\n",
       "      <td>136.470</td>\n",
       "      <td>74259000.0</td>\n",
       "      <td>2022-09-02</td>\n",
       "      <td>59049950.0</td>\n",
       "    </tr>\n",
       "  </tbody>\n",
       "</table>\n",
       "<p>1763 rows × 7 columns</p>\n",
       "</div>"
      ],
      "text/plain": [
       "            Open        High         Low    Close       Volume    datetime  \\\n",
       "0       5.485806    5.512577    5.410357    5.420   26255600.0  2015-09-03   \n",
       "1       5.327606    5.412790    5.291099    5.294   28797200.0  2015-09-04   \n",
       "2       5.422525    5.541781    5.400620    5.520   23844800.0  2015-09-08   \n",
       "3       5.536915    5.583158    5.398188    5.410   28939200.0  2015-09-09   \n",
       "4       5.378717    5.563686    5.354378    5.496   35707600.0  2015-09-10   \n",
       "...          ...         ...         ...      ...          ...         ...   \n",
       "1758  160.199997  163.380005  157.669998  158.010   49613200.0  2022-08-29   \n",
       "1759  159.600006  160.389999  151.820007  154.680   53018100.0  2022-08-30   \n",
       "1760  153.839996  155.399994  149.589996  150.940   57371000.0  2022-08-31   \n",
       "1761  142.089996  143.800003  132.699997  139.370  117886500.0  2022-09-01   \n",
       "1762  141.000000  141.710007  135.910004  136.470   74259000.0  2022-09-02   \n",
       "\n",
       "           VMA20  \n",
       "0            NaN  \n",
       "1            NaN  \n",
       "2            NaN  \n",
       "3            NaN  \n",
       "4            NaN  \n",
       "...          ...  \n",
       "1758  52438850.0  \n",
       "1759  52642120.0  \n",
       "1760  53419940.0  \n",
       "1761  57266005.0  \n",
       "1762  59049950.0  \n",
       "\n",
       "[1763 rows x 7 columns]"
      ]
     },
     "execution_count": 1,
     "metadata": {},
     "output_type": "execute_result"
    }
   ],
   "source": [
    "import backtrader as bt\n",
    "import pandas as pd\n",
    "import numpy as np\n",
    "# from get_score import get_score_ch\n",
    "from sqlalchemy import create_engine\n",
    "import talib as ta\n",
    "import datetime\n",
    "import pandas as pd\n",
    "engine= create_engine('sqlite:///../../dataset/us/us_ticker_seven_year_price.db')\n",
    "ticker_name = 'NVDA'\n",
    "df = pd.read_sql('{}'.format(ticker_name), engine)\n",
    "df.rename(columns={'hgih':'high'},inplace=True)\n",
    "# # df['chg_pct'] = ((df.Close - df.open)/df.open)*100\n",
    "df['Close'] = df['Close'].apply(lambda x: round(x,3))\n",
    "df['Volume'] = df['Volume'].apply(lambda x: round(x,3))\n",
    "df['VMA20'] = ta.SMA(df.Volume, timeperiod=20)\n",
    "df"
   ]
  },
  {
   "cell_type": "code",
   "execution_count": 2,
   "metadata": {},
   "outputs": [
    {
     "data": {
      "text/plain": [
       "346.2953987488861"
      ]
     },
     "execution_count": 2,
     "metadata": {},
     "output_type": "execute_result"
    }
   ],
   "source": [
    "df.High.max()"
   ]
  },
  {
   "cell_type": "code",
   "execution_count": 55,
   "metadata": {},
   "outputs": [
    {
     "name": "stdout",
     "output_type": "stream",
     "text": [
      "handle zone\n"
     ]
    }
   ],
   "source": [
    "# make sure target date\n",
    "target_date = '2021-10-19'\n",
    "target_index = df[df.datetime == target_date].index.values[0] + 1\n",
    "# \n",
    "time_zone = 60\n",
    "start_index = target_index - time_zone\n",
    "window = df[start_index : target_index]\n",
    "window.index = range(len(window))\n",
    "price_max = window.High.max()\n",
    "index_max = window[window.High == price_max].index.values[0]\n",
    "price_min = window[index_max:].Low.min()\n",
    "index_min = window[window.Low == price_min].index.values[0]\n",
    "tail = window.tail(3)\n",
    "len_cut = len(tail[tail.Volume < tail.VMA20])\n",
    "if (price_max - price_min) / price_max < 0.3:\n",
    "    if window.tail(1).Close.values[0] < (price_max - price_min)/3+ price_min and len_cut == 3:\n",
    "        print('cheat zone')\n",
    "    elif window.tail(1).Close.values[0] > price_max - (price_max - price_min)/3 and len_cut == 3:\n",
    "        print('handle zone')"
   ]
  },
  {
   "cell_type": "code",
   "execution_count": 53,
   "metadata": {},
   "outputs": [
    {
     "data": {
      "text/plain": [
       "0"
      ]
     },
     "execution_count": 53,
     "metadata": {},
     "output_type": "execute_result"
    }
   ],
   "source": [
    "tail = df.tail(3)\n",
    "len(tail[tail.Volume < tail.VMA20])"
   ]
  },
  {
   "cell_type": "code",
   "execution_count": 18,
   "metadata": {},
   "outputs": [
    {
     "data": {
      "text/plain": [
       "(19265366.666666668, nan)"
      ]
     },
     "execution_count": 18,
     "metadata": {},
     "output_type": "execute_result"
    }
   ],
   "source": [
    "window.tail(3).volume.mean(), window.tail(3).VMA20.mean()"
   ]
  },
  {
   "cell_type": "code",
   "execution_count": 8,
   "metadata": {},
   "outputs": [
    {
     "data": {
      "text/plain": [
       "59    222.9\n",
       "Name: close, dtype: float64"
      ]
     },
     "execution_count": 8,
     "metadata": {},
     "output_type": "execute_result"
    }
   ],
   "source": [
    "window.tail(1).close"
   ]
  },
  {
   "cell_type": "code",
   "execution_count": 6,
   "metadata": {},
   "outputs": [
    {
     "data": {
      "text/plain": [
       "(24, 230.42999267578125, 48, 195.5500030517578)"
      ]
     },
     "execution_count": 6,
     "metadata": {},
     "output_type": "execute_result"
    }
   ],
   "source": [
    "index_max, price_max,index_min, price_min, "
   ]
  },
  {
   "cell_type": "code",
   "execution_count": 21,
   "metadata": {},
   "outputs": [],
   "source": []
  },
  {
   "cell_type": "code",
   "execution_count": 22,
   "metadata": {},
   "outputs": [
    {
     "data": {
      "text/plain": [
       "(56, 44.79999923706055)"
      ]
     },
     "execution_count": 22,
     "metadata": {},
     "output_type": "execute_result"
    }
   ],
   "source": []
  },
  {
   "cell_type": "code",
   "execution_count": 23,
   "metadata": {},
   "outputs": [
    {
     "name": "stdout",
     "output_type": "stream",
     "text": [
      "fine\n"
     ]
    }
   ],
   "source": []
  },
  {
   "cell_type": "code",
   "execution_count": null,
   "metadata": {},
   "outputs": [],
   "source": []
  }
 ],
 "metadata": {
  "kernelspec": {
   "display_name": "Python 3.9.12 ('.env')",
   "language": "python",
   "name": "python3"
  },
  "language_info": {
   "codemirror_mode": {
    "name": "ipython",
    "version": 3
   },
   "file_extension": ".py",
   "mimetype": "text/x-python",
   "name": "python",
   "nbconvert_exporter": "python",
   "pygments_lexer": "ipython3",
   "version": "3.9.12"
  },
  "orig_nbformat": 4,
  "vscode": {
   "interpreter": {
    "hash": "275094a250fb64a879cf604ce7b88b81b1f18c35ecd757c3dc3951589b6fa1fd"
   }
  }
 },
 "nbformat": 4,
 "nbformat_minor": 2
}
