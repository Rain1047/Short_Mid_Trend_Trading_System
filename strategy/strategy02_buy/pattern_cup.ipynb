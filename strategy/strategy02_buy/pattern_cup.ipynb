{
 "cells": [
  {
   "cell_type": "code",
   "execution_count": 1,
   "metadata": {},
   "outputs": [],
   "source": [
    "import backtrader as bt\n",
    "import pandas as pd\n",
    "import numpy as np\n",
    "# from get_score import get_score_ch\n",
    "from sqlalchemy import create_engine\n",
    "import talib as ta\n",
    "import datetime\n",
    "import pandas as pd"
   ]
  },
  {
   "cell_type": "code",
   "execution_count": 2,
   "metadata": {},
   "outputs": [],
   "source": [
    "engine= create_engine('sqlite:///../../dataset/us/us_ticker_price_yf.db')"
   ]
  },
  {
   "cell_type": "code",
   "execution_count": 3,
   "metadata": {},
   "outputs": [
    {
     "data": {
      "text/html": [
       "<div>\n",
       "<style scoped>\n",
       "    .dataframe tbody tr th:only-of-type {\n",
       "        vertical-align: middle;\n",
       "    }\n",
       "\n",
       "    .dataframe tbody tr th {\n",
       "        vertical-align: top;\n",
       "    }\n",
       "\n",
       "    .dataframe thead th {\n",
       "        text-align: right;\n",
       "    }\n",
       "</style>\n",
       "<table border=\"1\" class=\"dataframe\">\n",
       "  <thead>\n",
       "    <tr style=\"text-align: right;\">\n",
       "      <th></th>\n",
       "      <th>open</th>\n",
       "      <th>high</th>\n",
       "      <th>low</th>\n",
       "      <th>close</th>\n",
       "      <th>Adj Close</th>\n",
       "      <th>volume</th>\n",
       "      <th>datetime</th>\n",
       "    </tr>\n",
       "  </thead>\n",
       "  <tbody>\n",
       "    <tr>\n",
       "      <th>0</th>\n",
       "      <td>0.325521</td>\n",
       "      <td>0.330729</td>\n",
       "      <td>0.325521</td>\n",
       "      <td>0.326</td>\n",
       "      <td>0.192692</td>\n",
       "      <td>10924800</td>\n",
       "      <td>1980-03-17</td>\n",
       "    </tr>\n",
       "    <tr>\n",
       "      <th>1</th>\n",
       "      <td>0.325521</td>\n",
       "      <td>0.328125</td>\n",
       "      <td>0.322917</td>\n",
       "      <td>0.323</td>\n",
       "      <td>0.191150</td>\n",
       "      <td>17068800</td>\n",
       "      <td>1980-03-18</td>\n",
       "    </tr>\n",
       "    <tr>\n",
       "      <th>2</th>\n",
       "      <td>0.330729</td>\n",
       "      <td>0.335938</td>\n",
       "      <td>0.330729</td>\n",
       "      <td>0.331</td>\n",
       "      <td>0.195774</td>\n",
       "      <td>18508800</td>\n",
       "      <td>1980-03-19</td>\n",
       "    </tr>\n",
       "    <tr>\n",
       "      <th>3</th>\n",
       "      <td>0.330729</td>\n",
       "      <td>0.334635</td>\n",
       "      <td>0.329427</td>\n",
       "      <td>0.329</td>\n",
       "      <td>0.195004</td>\n",
       "      <td>11174400</td>\n",
       "      <td>1980-03-20</td>\n",
       "    </tr>\n",
       "    <tr>\n",
       "      <th>4</th>\n",
       "      <td>0.322917</td>\n",
       "      <td>0.322917</td>\n",
       "      <td>0.317708</td>\n",
       "      <td>0.318</td>\n",
       "      <td>0.188067</td>\n",
       "      <td>12172800</td>\n",
       "      <td>1980-03-21</td>\n",
       "    </tr>\n",
       "    <tr>\n",
       "      <th>...</th>\n",
       "      <td>...</td>\n",
       "      <td>...</td>\n",
       "      <td>...</td>\n",
       "      <td>...</td>\n",
       "      <td>...</td>\n",
       "      <td>...</td>\n",
       "      <td>...</td>\n",
       "    </tr>\n",
       "    <tr>\n",
       "      <th>10668</th>\n",
       "      <td>37.660000</td>\n",
       "      <td>38.139999</td>\n",
       "      <td>37.389999</td>\n",
       "      <td>37.990</td>\n",
       "      <td>37.990002</td>\n",
       "      <td>22554800</td>\n",
       "      <td>2022-07-08</td>\n",
       "    </tr>\n",
       "    <tr>\n",
       "      <th>10669</th>\n",
       "      <td>37.660000</td>\n",
       "      <td>37.669998</td>\n",
       "      <td>37.029999</td>\n",
       "      <td>37.200</td>\n",
       "      <td>37.200001</td>\n",
       "      <td>25904300</td>\n",
       "      <td>2022-07-11</td>\n",
       "    </tr>\n",
       "    <tr>\n",
       "      <th>10670</th>\n",
       "      <td>37.650002</td>\n",
       "      <td>37.700001</td>\n",
       "      <td>36.990002</td>\n",
       "      <td>37.210</td>\n",
       "      <td>37.209999</td>\n",
       "      <td>30546300</td>\n",
       "      <td>2022-07-12</td>\n",
       "    </tr>\n",
       "    <tr>\n",
       "      <th>10671</th>\n",
       "      <td>36.680000</td>\n",
       "      <td>37.430000</td>\n",
       "      <td>36.619999</td>\n",
       "      <td>37.210</td>\n",
       "      <td>37.209999</td>\n",
       "      <td>27059200</td>\n",
       "      <td>2022-07-13</td>\n",
       "    </tr>\n",
       "    <tr>\n",
       "      <th>10672</th>\n",
       "      <td>36.990002</td>\n",
       "      <td>38.160000</td>\n",
       "      <td>36.290001</td>\n",
       "      <td>37.710</td>\n",
       "      <td>37.709999</td>\n",
       "      <td>36676700</td>\n",
       "      <td>2022-07-14</td>\n",
       "    </tr>\n",
       "  </tbody>\n",
       "</table>\n",
       "<p>10673 rows × 7 columns</p>\n",
       "</div>"
      ],
      "text/plain": [
       "            open       high        low   close  Adj Close    volume  \\\n",
       "0       0.325521   0.330729   0.325521   0.326   0.192692  10924800   \n",
       "1       0.325521   0.328125   0.322917   0.323   0.191150  17068800   \n",
       "2       0.330729   0.335938   0.330729   0.331   0.195774  18508800   \n",
       "3       0.330729   0.334635   0.329427   0.329   0.195004  11174400   \n",
       "4       0.322917   0.322917   0.317708   0.318   0.188067  12172800   \n",
       "...          ...        ...        ...     ...        ...       ...   \n",
       "10668  37.660000  38.139999  37.389999  37.990  37.990002  22554800   \n",
       "10669  37.660000  37.669998  37.029999  37.200  37.200001  25904300   \n",
       "10670  37.650002  37.700001  36.990002  37.210  37.209999  30546300   \n",
       "10671  36.680000  37.430000  36.619999  37.210  37.209999  27059200   \n",
       "10672  36.990002  38.160000  36.290001  37.710  37.709999  36676700   \n",
       "\n",
       "         datetime  \n",
       "0      1980-03-17  \n",
       "1      1980-03-18  \n",
       "2      1980-03-19  \n",
       "3      1980-03-20  \n",
       "4      1980-03-21  \n",
       "...           ...  \n",
       "10668  2022-07-08  \n",
       "10669  2022-07-11  \n",
       "10670  2022-07-12  \n",
       "10671  2022-07-13  \n",
       "10672  2022-07-14  \n",
       "\n",
       "[10673 rows x 7 columns]"
      ]
     },
     "execution_count": 3,
     "metadata": {},
     "output_type": "execute_result"
    }
   ],
   "source": [
    "df = pd.read_sql('INTC', engine)\n",
    "df.rename(columns={'hgih':'high'},inplace=True)\n",
    "# df['chg_pct'] = ((df.close - df.open)/df.open)*100\n",
    "df['close'] = df['close'].apply(lambda x: round(x,3))\n",
    "df"
   ]
  },
  {
   "cell_type": "code",
   "execution_count": 18,
   "metadata": {},
   "outputs": [],
   "source": [
    "# make sure target date\n",
    "target_date = '2019-10-10'\n",
    "target_index = df[df.datetime == target_date].index.values[0] + 1\n",
    "start_index = target_index - 90\n",
    "window = df[start_index : target_index]\n",
    "window.index = range(len(window))\n",
    "price_max = window.high.max()\n",
    "index_max = window[window.high == price_max].index.values[0]"
   ]
  },
  {
   "cell_type": "code",
   "execution_count": 19,
   "metadata": {},
   "outputs": [
    {
     "data": {
      "text/plain": [
       "(36, 53.5)"
      ]
     },
     "execution_count": 19,
     "metadata": {},
     "output_type": "execute_result"
    }
   ],
   "source": [
    "index_max, price_max"
   ]
  },
  {
   "cell_type": "code",
   "execution_count": 21,
   "metadata": {},
   "outputs": [],
   "source": [
    "price_min = window[index_max:].low.min()\n",
    "index_min = window[window.low == price_min].index.values[0]"
   ]
  },
  {
   "cell_type": "code",
   "execution_count": 22,
   "metadata": {},
   "outputs": [
    {
     "data": {
      "text/plain": [
       "(56, 44.79999923706055)"
      ]
     },
     "execution_count": 22,
     "metadata": {},
     "output_type": "execute_result"
    }
   ],
   "source": [
    "index_min, price_min"
   ]
  },
  {
   "cell_type": "code",
   "execution_count": 23,
   "metadata": {},
   "outputs": [
    {
     "name": "stdout",
     "output_type": "stream",
     "text": [
      "fine\n"
     ]
    }
   ],
   "source": [
    "if (price_max - price_min) / price_max < 0.3:\n",
    "    print('fine')"
   ]
  },
  {
   "cell_type": "code",
   "execution_count": null,
   "metadata": {},
   "outputs": [],
   "source": []
  }
 ],
 "metadata": {
  "interpreter": {
   "hash": "c54b1d546a55c7081c560ec6c5e5b60c965bd5490ee7c941cda7746260792115"
  },
  "kernelspec": {
   "display_name": "Python 3.9.12 64-bit ('env_trade': conda)",
   "language": "python",
   "name": "python3"
  },
  "language_info": {
   "codemirror_mode": {
    "name": "ipython",
    "version": 3
   },
   "file_extension": ".py",
   "mimetype": "text/x-python",
   "name": "python",
   "nbconvert_exporter": "python",
   "pygments_lexer": "ipython3",
   "version": "3.9.12"
  },
  "orig_nbformat": 4
 },
 "nbformat": 4,
 "nbformat_minor": 2
}
