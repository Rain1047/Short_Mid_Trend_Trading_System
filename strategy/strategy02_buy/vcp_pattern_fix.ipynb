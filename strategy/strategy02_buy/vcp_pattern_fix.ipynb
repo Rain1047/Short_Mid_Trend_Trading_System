{
 "cells": [
  {
   "cell_type": "markdown",
   "metadata": {},
   "source": [
    "# [完整代码](#full-code)"
   ]
  },
  {
   "cell_type": "markdown",
   "metadata": {},
   "source": [
    "# Import Libraries"
   ]
  },
  {
   "cell_type": "code",
   "execution_count": 7,
   "metadata": {},
   "outputs": [],
   "source": [
    "import backtrader as bt\n",
    "import pandas as pd\n",
    "import numpy as np\n",
    "# from get_score import get_score_ch\n",
    "from sqlalchemy import create_engine\n",
    "import talib as ta\n",
    "import datetime\n",
    "import pandas as pd"
   ]
  },
  {
   "cell_type": "code",
   "execution_count": 8,
   "metadata": {},
   "outputs": [],
   "source": [
    "engine= create_engine('sqlite:///../../dataset/us/us_ticker_price_yf.db')"
   ]
  },
  {
   "cell_type": "markdown",
   "metadata": {},
   "source": [
    "# Gather Data"
   ]
  },
  {
   "cell_type": "code",
   "execution_count": 9,
   "metadata": {},
   "outputs": [
    {
     "data": {
      "text/html": [
       "<div>\n",
       "<style scoped>\n",
       "    .dataframe tbody tr th:only-of-type {\n",
       "        vertical-align: middle;\n",
       "    }\n",
       "\n",
       "    .dataframe tbody tr th {\n",
       "        vertical-align: top;\n",
       "    }\n",
       "\n",
       "    .dataframe thead th {\n",
       "        text-align: right;\n",
       "    }\n",
       "</style>\n",
       "<table border=\"1\" class=\"dataframe\">\n",
       "  <thead>\n",
       "    <tr style=\"text-align: right;\">\n",
       "      <th></th>\n",
       "      <th>open</th>\n",
       "      <th>high</th>\n",
       "      <th>low</th>\n",
       "      <th>close</th>\n",
       "      <th>Adj Close</th>\n",
       "      <th>volume</th>\n",
       "      <th>datetime</th>\n",
       "    </tr>\n",
       "  </thead>\n",
       "  <tbody>\n",
       "    <tr>\n",
       "      <th>0</th>\n",
       "      <td>0.325521</td>\n",
       "      <td>0.330729</td>\n",
       "      <td>0.325521</td>\n",
       "      <td>0.326</td>\n",
       "      <td>0.192692</td>\n",
       "      <td>10924800</td>\n",
       "      <td>1980-03-17</td>\n",
       "    </tr>\n",
       "    <tr>\n",
       "      <th>1</th>\n",
       "      <td>0.325521</td>\n",
       "      <td>0.328125</td>\n",
       "      <td>0.322917</td>\n",
       "      <td>0.323</td>\n",
       "      <td>0.191150</td>\n",
       "      <td>17068800</td>\n",
       "      <td>1980-03-18</td>\n",
       "    </tr>\n",
       "    <tr>\n",
       "      <th>2</th>\n",
       "      <td>0.330729</td>\n",
       "      <td>0.335938</td>\n",
       "      <td>0.330729</td>\n",
       "      <td>0.331</td>\n",
       "      <td>0.195774</td>\n",
       "      <td>18508800</td>\n",
       "      <td>1980-03-19</td>\n",
       "    </tr>\n",
       "    <tr>\n",
       "      <th>3</th>\n",
       "      <td>0.330729</td>\n",
       "      <td>0.334635</td>\n",
       "      <td>0.329427</td>\n",
       "      <td>0.329</td>\n",
       "      <td>0.195004</td>\n",
       "      <td>11174400</td>\n",
       "      <td>1980-03-20</td>\n",
       "    </tr>\n",
       "    <tr>\n",
       "      <th>4</th>\n",
       "      <td>0.322917</td>\n",
       "      <td>0.322917</td>\n",
       "      <td>0.317708</td>\n",
       "      <td>0.318</td>\n",
       "      <td>0.188067</td>\n",
       "      <td>12172800</td>\n",
       "      <td>1980-03-21</td>\n",
       "    </tr>\n",
       "    <tr>\n",
       "      <th>...</th>\n",
       "      <td>...</td>\n",
       "      <td>...</td>\n",
       "      <td>...</td>\n",
       "      <td>...</td>\n",
       "      <td>...</td>\n",
       "      <td>...</td>\n",
       "      <td>...</td>\n",
       "    </tr>\n",
       "    <tr>\n",
       "      <th>10668</th>\n",
       "      <td>37.660000</td>\n",
       "      <td>38.139999</td>\n",
       "      <td>37.389999</td>\n",
       "      <td>37.990</td>\n",
       "      <td>37.990002</td>\n",
       "      <td>22554800</td>\n",
       "      <td>2022-07-08</td>\n",
       "    </tr>\n",
       "    <tr>\n",
       "      <th>10669</th>\n",
       "      <td>37.660000</td>\n",
       "      <td>37.669998</td>\n",
       "      <td>37.029999</td>\n",
       "      <td>37.200</td>\n",
       "      <td>37.200001</td>\n",
       "      <td>25904300</td>\n",
       "      <td>2022-07-11</td>\n",
       "    </tr>\n",
       "    <tr>\n",
       "      <th>10670</th>\n",
       "      <td>37.650002</td>\n",
       "      <td>37.700001</td>\n",
       "      <td>36.990002</td>\n",
       "      <td>37.210</td>\n",
       "      <td>37.209999</td>\n",
       "      <td>30546300</td>\n",
       "      <td>2022-07-12</td>\n",
       "    </tr>\n",
       "    <tr>\n",
       "      <th>10671</th>\n",
       "      <td>36.680000</td>\n",
       "      <td>37.430000</td>\n",
       "      <td>36.619999</td>\n",
       "      <td>37.210</td>\n",
       "      <td>37.209999</td>\n",
       "      <td>27059200</td>\n",
       "      <td>2022-07-13</td>\n",
       "    </tr>\n",
       "    <tr>\n",
       "      <th>10672</th>\n",
       "      <td>36.990002</td>\n",
       "      <td>38.160000</td>\n",
       "      <td>36.290001</td>\n",
       "      <td>37.710</td>\n",
       "      <td>37.709999</td>\n",
       "      <td>36676700</td>\n",
       "      <td>2022-07-14</td>\n",
       "    </tr>\n",
       "  </tbody>\n",
       "</table>\n",
       "<p>10673 rows × 7 columns</p>\n",
       "</div>"
      ],
      "text/plain": [
       "            open       high        low   close  Adj Close    volume  \\\n",
       "0       0.325521   0.330729   0.325521   0.326   0.192692  10924800   \n",
       "1       0.325521   0.328125   0.322917   0.323   0.191150  17068800   \n",
       "2       0.330729   0.335938   0.330729   0.331   0.195774  18508800   \n",
       "3       0.330729   0.334635   0.329427   0.329   0.195004  11174400   \n",
       "4       0.322917   0.322917   0.317708   0.318   0.188067  12172800   \n",
       "...          ...        ...        ...     ...        ...       ...   \n",
       "10668  37.660000  38.139999  37.389999  37.990  37.990002  22554800   \n",
       "10669  37.660000  37.669998  37.029999  37.200  37.200001  25904300   \n",
       "10670  37.650002  37.700001  36.990002  37.210  37.209999  30546300   \n",
       "10671  36.680000  37.430000  36.619999  37.210  37.209999  27059200   \n",
       "10672  36.990002  38.160000  36.290001  37.710  37.709999  36676700   \n",
       "\n",
       "         datetime  \n",
       "0      1980-03-17  \n",
       "1      1980-03-18  \n",
       "2      1980-03-19  \n",
       "3      1980-03-20  \n",
       "4      1980-03-21  \n",
       "...           ...  \n",
       "10668  2022-07-08  \n",
       "10669  2022-07-11  \n",
       "10670  2022-07-12  \n",
       "10671  2022-07-13  \n",
       "10672  2022-07-14  \n",
       "\n",
       "[10673 rows x 7 columns]"
      ]
     },
     "execution_count": 9,
     "metadata": {},
     "output_type": "execute_result"
    }
   ],
   "source": [
    "df = pd.read_sql('INTC', engine)\n",
    "df.rename(columns={'hgih':'high'},inplace=True)\n",
    "# df['chg_pct'] = ((df.close - df.open)/df.open)*100\n",
    "df['close'] = df['close'].apply(lambda x: round(x,3))\n",
    "df"
   ]
  },
  {
   "cell_type": "markdown",
   "metadata": {},
   "source": [
    "# Main Function"
   ]
  },
  {
   "cell_type": "markdown",
   "metadata": {},
   "source": [
    "## Set Time"
   ]
  },
  {
   "cell_type": "code",
   "execution_count": 10,
   "metadata": {},
   "outputs": [],
   "source": [
    "# 140约等于200天\n",
    "df = df[9834:9984]\n",
    "df.index = range(len(df))\n",
    "df_length = len(df)"
   ]
  },
  {
   "cell_type": "markdown",
   "metadata": {},
   "source": [
    "## Gather Data"
   ]
  },
  {
   "cell_type": "code",
   "execution_count": 11,
   "metadata": {},
   "outputs": [
    {
     "name": "stderr",
     "output_type": "stream",
     "text": [
      "C:\\Users\\Rain\\AppData\\Local\\Temp\\ipykernel_26416\\2692695270.py:1: SettingWithCopyWarning: \n",
      "A value is trying to be set on a copy of a slice from a DataFrame.\n",
      "Try using .loc[row_indexer,col_indexer] = value instead\n",
      "\n",
      "See the caveats in the documentation: https://pandas.pydata.org/pandas-docs/stable/user_guide/indexing.html#returning-a-view-versus-a-copy\n",
      "  df['VMA20'] = ta.SMA(df.volume, timeperiod=20)\n",
      "C:\\Users\\Rain\\AppData\\Local\\Temp\\ipykernel_26416\\2692695270.py:3: SettingWithCopyWarning: \n",
      "A value is trying to be set on a copy of a slice from a DataFrame.\n",
      "Try using .loc[row_indexer,col_indexer] = value instead\n",
      "\n",
      "See the caveats in the documentation: https://pandas.pydata.org/pandas-docs/stable/user_guide/indexing.html#returning-a-view-versus-a-copy\n",
      "  df['extremum'] = 0\n",
      "C:\\Users\\Rain\\AppData\\Local\\Temp\\ipykernel_26416\\2692695270.py:7: SettingWithCopyWarning: \n",
      "A value is trying to be set on a copy of a slice from a DataFrame\n",
      "\n",
      "See the caveats in the documentation: https://pandas.pydata.org/pandas-docs/stable/user_guide/indexing.html#returning-a-view-versus-a-copy\n",
      "  df['extremum'].loc[i] = 1\n"
     ]
    }
   ],
   "source": [
    "df['VMA20'] = ta.SMA(df.volume, timeperiod=20)\n",
    "# 判断是不是10天内的极值点\n",
    "df['extremum'] = 0\n",
    "for i in range(5,df_length):\n",
    "    # or df.close.loc[i] == df.close.loc[i-5:i+5].max() \n",
    "    if df.close.loc[i] == df.close.loc[i-5:i+5].min():\n",
    "        df['extremum'].loc[i] = 1\n",
    "        \n",
    "minimum_index = np.array(df[df['extremum']==1].index)\n",
    "minimum_value = np.array(df[df['extremum']==1].close)"
   ]
  },
  {
   "cell_type": "code",
   "execution_count": 12,
   "metadata": {},
   "outputs": [
    {
     "data": {
      "text/html": [
       "<div>\n",
       "<style scoped>\n",
       "    .dataframe tbody tr th:only-of-type {\n",
       "        vertical-align: middle;\n",
       "    }\n",
       "\n",
       "    .dataframe tbody tr th {\n",
       "        vertical-align: top;\n",
       "    }\n",
       "\n",
       "    .dataframe thead th {\n",
       "        text-align: right;\n",
       "    }\n",
       "</style>\n",
       "<table border=\"1\" class=\"dataframe\">\n",
       "  <thead>\n",
       "    <tr style=\"text-align: right;\">\n",
       "      <th></th>\n",
       "      <th>open</th>\n",
       "      <th>high</th>\n",
       "      <th>low</th>\n",
       "      <th>close</th>\n",
       "      <th>Adj Close</th>\n",
       "      <th>volume</th>\n",
       "      <th>datetime</th>\n",
       "      <th>VMA20</th>\n",
       "      <th>extremum</th>\n",
       "    </tr>\n",
       "  </thead>\n",
       "  <tbody>\n",
       "    <tr>\n",
       "      <th>0</th>\n",
       "      <td>54.419998</td>\n",
       "      <td>54.509998</td>\n",
       "      <td>53.869999</td>\n",
       "      <td>54.10</td>\n",
       "      <td>49.743919</td>\n",
       "      <td>16274000</td>\n",
       "      <td>2019-03-18</td>\n",
       "      <td>NaN</td>\n",
       "      <td>0</td>\n",
       "    </tr>\n",
       "    <tr>\n",
       "      <th>1</th>\n",
       "      <td>54.470001</td>\n",
       "      <td>54.650002</td>\n",
       "      <td>54.000000</td>\n",
       "      <td>54.17</td>\n",
       "      <td>49.808285</td>\n",
       "      <td>18274800</td>\n",
       "      <td>2019-03-19</td>\n",
       "      <td>NaN</td>\n",
       "      <td>0</td>\n",
       "    </tr>\n",
       "    <tr>\n",
       "      <th>2</th>\n",
       "      <td>54.060001</td>\n",
       "      <td>54.400002</td>\n",
       "      <td>53.610001</td>\n",
       "      <td>53.82</td>\n",
       "      <td>49.486473</td>\n",
       "      <td>24325300</td>\n",
       "      <td>2019-03-20</td>\n",
       "      <td>NaN</td>\n",
       "      <td>0</td>\n",
       "    </tr>\n",
       "    <tr>\n",
       "      <th>3</th>\n",
       "      <td>53.919998</td>\n",
       "      <td>54.990002</td>\n",
       "      <td>53.840000</td>\n",
       "      <td>54.64</td>\n",
       "      <td>50.240452</td>\n",
       "      <td>19127200</td>\n",
       "      <td>2019-03-21</td>\n",
       "      <td>NaN</td>\n",
       "      <td>0</td>\n",
       "    </tr>\n",
       "    <tr>\n",
       "      <th>4</th>\n",
       "      <td>54.400002</td>\n",
       "      <td>54.619999</td>\n",
       "      <td>53.209999</td>\n",
       "      <td>53.26</td>\n",
       "      <td>48.971558</td>\n",
       "      <td>21438400</td>\n",
       "      <td>2019-03-22</td>\n",
       "      <td>NaN</td>\n",
       "      <td>0</td>\n",
       "    </tr>\n",
       "    <tr>\n",
       "      <th>...</th>\n",
       "      <td>...</td>\n",
       "      <td>...</td>\n",
       "      <td>...</td>\n",
       "      <td>...</td>\n",
       "      <td>...</td>\n",
       "      <td>...</td>\n",
       "      <td>...</td>\n",
       "      <td>...</td>\n",
       "      <td>...</td>\n",
       "    </tr>\n",
       "    <tr>\n",
       "      <th>145</th>\n",
       "      <td>52.000000</td>\n",
       "      <td>52.790001</td>\n",
       "      <td>51.820000</td>\n",
       "      <td>52.09</td>\n",
       "      <td>48.514450</td>\n",
       "      <td>24072500</td>\n",
       "      <td>2019-10-11</td>\n",
       "      <td>17480585.0</td>\n",
       "      <td>0</td>\n",
       "    </tr>\n",
       "    <tr>\n",
       "      <th>146</th>\n",
       "      <td>51.900002</td>\n",
       "      <td>51.950001</td>\n",
       "      <td>51.439999</td>\n",
       "      <td>51.64</td>\n",
       "      <td>48.095337</td>\n",
       "      <td>15016800</td>\n",
       "      <td>2019-10-14</td>\n",
       "      <td>17563695.0</td>\n",
       "      <td>0</td>\n",
       "    </tr>\n",
       "    <tr>\n",
       "      <th>147</th>\n",
       "      <td>51.930000</td>\n",
       "      <td>53.070000</td>\n",
       "      <td>51.830002</td>\n",
       "      <td>52.65</td>\n",
       "      <td>49.036015</td>\n",
       "      <td>18878100</td>\n",
       "      <td>2019-10-15</td>\n",
       "      <td>17525545.0</td>\n",
       "      <td>0</td>\n",
       "    </tr>\n",
       "    <tr>\n",
       "      <th>148</th>\n",
       "      <td>52.349998</td>\n",
       "      <td>52.560001</td>\n",
       "      <td>52.119999</td>\n",
       "      <td>52.45</td>\n",
       "      <td>48.849743</td>\n",
       "      <td>14769300</td>\n",
       "      <td>2019-10-16</td>\n",
       "      <td>17518670.0</td>\n",
       "      <td>0</td>\n",
       "    </tr>\n",
       "    <tr>\n",
       "      <th>149</th>\n",
       "      <td>52.639999</td>\n",
       "      <td>52.840000</td>\n",
       "      <td>51.380001</td>\n",
       "      <td>51.86</td>\n",
       "      <td>48.300232</td>\n",
       "      <td>16533900</td>\n",
       "      <td>2019-10-17</td>\n",
       "      <td>17773945.0</td>\n",
       "      <td>0</td>\n",
       "    </tr>\n",
       "  </tbody>\n",
       "</table>\n",
       "<p>150 rows × 9 columns</p>\n",
       "</div>"
      ],
      "text/plain": [
       "          open       high        low  close  Adj Close    volume    datetime  \\\n",
       "0    54.419998  54.509998  53.869999  54.10  49.743919  16274000  2019-03-18   \n",
       "1    54.470001  54.650002  54.000000  54.17  49.808285  18274800  2019-03-19   \n",
       "2    54.060001  54.400002  53.610001  53.82  49.486473  24325300  2019-03-20   \n",
       "3    53.919998  54.990002  53.840000  54.64  50.240452  19127200  2019-03-21   \n",
       "4    54.400002  54.619999  53.209999  53.26  48.971558  21438400  2019-03-22   \n",
       "..         ...        ...        ...    ...        ...       ...         ...   \n",
       "145  52.000000  52.790001  51.820000  52.09  48.514450  24072500  2019-10-11   \n",
       "146  51.900002  51.950001  51.439999  51.64  48.095337  15016800  2019-10-14   \n",
       "147  51.930000  53.070000  51.830002  52.65  49.036015  18878100  2019-10-15   \n",
       "148  52.349998  52.560001  52.119999  52.45  48.849743  14769300  2019-10-16   \n",
       "149  52.639999  52.840000  51.380001  51.86  48.300232  16533900  2019-10-17   \n",
       "\n",
       "          VMA20  extremum  \n",
       "0           NaN         0  \n",
       "1           NaN         0  \n",
       "2           NaN         0  \n",
       "3           NaN         0  \n",
       "4           NaN         0  \n",
       "..          ...       ...  \n",
       "145  17480585.0         0  \n",
       "146  17563695.0         0  \n",
       "147  17525545.0         0  \n",
       "148  17518670.0         0  \n",
       "149  17773945.0         0  \n",
       "\n",
       "[150 rows x 9 columns]"
      ]
     },
     "execution_count": 12,
     "metadata": {},
     "output_type": "execute_result"
    }
   ],
   "source": [
    "df"
   ]
  },
  {
   "cell_type": "code",
   "execution_count": 60,
   "metadata": {},
   "outputs": [],
   "source": [
    "# find the min1\n",
    "min1_val = np.min(minimum_value)\n",
    "min1_pos = np.argmin(minimum_value)\n",
    "min1_ind = minimum_index[min1_pos]\n",
    "# find the max1\n",
    "max1_val = df.iloc[:min1_ind].close.max()\n",
    "\n",
    "# min2\n",
    "min2_val = np.min(minimum_value[min1_pos+1:])\n",
    "min2_pos = np.argmin(minimum_value[min1_pos+1:]) + min1_pos + 1\n",
    "min2_ind = minimum_index[min2_pos]\n",
    "# max2\n",
    "max2_val = df.iloc[min1_ind:min2_ind].close.max()\n",
    "\n",
    "# min3\n",
    "min3_val = np.min(minimum_value[min2_pos+1:])\n",
    "min3_pos = np.argmin(minimum_value[min2_pos+1:]) + min2_pos + 1\n",
    "min3_ind = minimum_index[min3_pos]\n",
    "# max3\n",
    "max3_val = df.iloc[min2_ind:min3_ind].close.max()"
   ]
  },
  {
   "cell_type": "markdown",
   "metadata": {},
   "source": [
    "## Select Condition"
   ]
  },
  {
   "cell_type": "markdown",
   "metadata": {},
   "source": [
    "### prepare data"
   ]
  },
  {
   "cell_type": "code",
   "execution_count": 65,
   "metadata": {},
   "outputs": [],
   "source": [
    "vol1 = df.iloc[min1_ind].VMA20\n",
    "vol2 = df.iloc[min2_ind].VMA20\n",
    "vol3 = df.iloc[min3_ind].VMA20"
   ]
  },
  {
   "cell_type": "code",
   "execution_count": 66,
   "metadata": {},
   "outputs": [
    {
     "data": {
      "text/plain": [
       "(30011880.0, 25265195.0, 19399655.0)"
      ]
     },
     "execution_count": 66,
     "metadata": {},
     "output_type": "execute_result"
    }
   ],
   "source": [
    "vol1, vol2, vol3"
   ]
  },
  {
   "cell_type": "code",
   "execution_count": 67,
   "metadata": {},
   "outputs": [],
   "source": [
    "dec1 = (max1_val - min1_val) / max1_val\n",
    "dec2 = (max2_val - min2_val) / max2_val\n",
    "dec3 = (max3_val - min3_val) / max3_val"
   ]
  },
  {
   "cell_type": "code",
   "execution_count": 68,
   "metadata": {},
   "outputs": [
    {
     "data": {
      "text/plain": [
       "(0.2611356681400884, 0.15041572184429328, 0.06828900207508012)"
      ]
     },
     "execution_count": 68,
     "metadata": {},
     "output_type": "execute_result"
    }
   ],
   "source": [
    "dec1,dec2,dec3"
   ]
  },
  {
   "cell_type": "code",
   "execution_count": 70,
   "metadata": {},
   "outputs": [
    {
     "name": "stdout",
     "output_type": "stream",
     "text": [
      "ticker is vcp\n"
     ]
    }
   ],
   "source": [
    "# \n",
    "if vol1 > vol2 > vol3 and dec1 > dec2 >dec3 and max2_val*1.05 > max3_val:\n",
    "    print('ticker is vcp')\n",
    "else:\n",
    "    print('not vcp pattern')"
   ]
  },
  {
   "cell_type": "markdown",
   "metadata": {},
   "source": [
    "<h1><span id=\"full-code\">Full code</span></h1>"
   ]
  },
  {
   "cell_type": "code",
   "execution_count": null,
   "metadata": {},
   "outputs": [],
   "source": [
    "# 获取Volume MA\n",
    "df['VMA20'] = ta.SMA(df.volume, timeperiod=20)\n",
    "# 判断是不是10天内的极值点\n",
    "df['extremum'] = 0\n",
    "for i in range(5,df_length):\n",
    "    # or df.close.loc[i] == df.close.loc[i-5:i+5].max() \n",
    "    if df.close.loc[i] == df.close.loc[i-5:i+5].min():\n",
    "        df['extremum'].loc[i] = 1\n",
    "        \n",
    "minimum_index = np.array(df[df['extremum']==1].index)\n",
    "minimum_value = np.array(df[df['extremum']==1].close)\n",
    "\n",
    "# Main\n",
    "# 140约等于200天\n",
    "df = df[9834:9984]\n",
    "df.index = range(len(df))\n",
    "df_length = len(df)\n",
    "\n",
    "# find the min1\n",
    "min1_val = np.min(minimum_value)\n",
    "min1_pos = np.argmin(minimum_value)\n",
    "min1_ind = minimum_index[min1_pos]\n",
    "# find the max1\n",
    "max1_val = df.iloc[:min1_ind].close.max()\n",
    "\n",
    "# min2\n",
    "min2_val = np.min(minimum_value[min1_pos+1:])\n",
    "min2_pos = np.argmin(minimum_value[min1_pos+1:]) + min1_pos + 1\n",
    "min2_ind = minimum_index[min2_pos]\n",
    "# max2\n",
    "max2_val = df.iloc[min1_ind:min2_ind].close.max()\n",
    "\n",
    "# min3\n",
    "min3_val = np.min(minimum_value[min2_pos+1:])\n",
    "min3_pos = np.argmin(minimum_value[min2_pos+1:]) + min2_pos + 1\n",
    "min3_ind = minimum_index[min3_pos]\n",
    "# max3\n",
    "max3_val = df.iloc[min2_ind:min3_ind].close.max()\n",
    "\n",
    "vol1 = df.iloc[min1_ind].VMA20\n",
    "vol2 = df.iloc[min2_ind].VMA20\n",
    "vol3 = df.iloc[min3_ind].VMA20\n",
    "\n",
    "dec1 = (max1_val - min1_val) / max1_val\n",
    "dec2 = (max2_val - min2_val) / max2_val\n",
    "dec3 = (max3_val - min3_val) / max3_val\n",
    "\n",
    "# \n",
    "if vol1 > vol2 > vol3 and dec1 > dec2 >dec3 and max2_val*1.05 > max3_val:\n",
    "    print('ticker is vcp')\n",
    "else:\n",
    "    print('not vcp pattern')"
   ]
  }
 ],
 "metadata": {
  "kernelspec": {
   "display_name": "Python 3.9.12 ('.env')",
   "language": "python",
   "name": "python3"
  },
  "language_info": {
   "codemirror_mode": {
    "name": "ipython",
    "version": 3
   },
   "file_extension": ".py",
   "mimetype": "text/x-python",
   "name": "python",
   "nbconvert_exporter": "python",
   "pygments_lexer": "ipython3",
   "version": "3.9.12"
  },
  "orig_nbformat": 4,
  "vscode": {
   "interpreter": {
    "hash": "275094a250fb64a879cf604ce7b88b81b1f18c35ecd757c3dc3951589b6fa1fd"
   }
  }
 },
 "nbformat": 4,
 "nbformat_minor": 2
}
