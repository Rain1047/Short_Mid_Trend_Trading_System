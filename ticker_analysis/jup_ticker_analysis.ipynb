{
 "cells": [
  {
   "cell_type": "code",
   "execution_count": 1,
   "metadata": {},
   "outputs": [],
   "source": [
    "# Pandas\n",
    "import pandas as pd\n",
    "import talib as ta\n",
    "import numpy as np\n",
    "from sqlalchemy import create_engine\n",
    "from get_score import get_score_ch\n",
    "engine= create_engine('sqlite:///../../dataset/ch/ch_ticker_baostock.db')\n",
    "\n",
    "# ticker = input(\"input ticker symbol:\")\n",
    "# # 我们选取近十年的\n",
    "# df = pd.read_sql('{}'.format(ticker),engine)\n",
    "# df.rename(columns={'hgih':'high'},inplace=True)\n",
    "# score_df = get_score_ch(df)\n",
    "# score_df.to_csv('{}_score.csv'.format(ticker),index=False)\n",
    "\n",
    "# df = pd.read_csv('AAPL_score.csv')"
   ]
  },
  {
   "cell_type": "code",
   "execution_count": 110,
   "metadata": {},
   "outputs": [],
   "source": [
    "# 算法demo\n",
    "minus_list= [1,2,3,4,5,6,7,8,11,12,13,14,15,16,20,21,22,23,24]\n",
    "len_m = len(minus_list)\n",
    "l, r = 0, 1 \n",
    "minus_zone = []\n",
    "for i in range(len_m):\n",
    "    while l <= r and r < len_m:\n",
    "        if (minus_list[r] - minus_list[l]) == r - l:\n",
    "            r += 1\n",
    "        else: \n",
    "            minus_zone.append([minus_list[l],minus_list[r-1]])\n",
    "            l = r \n",
    "            r = l + 1\n",
    "minus_zone.append([minus_list[l],minus_list[r-1]])"
   ]
  },
  {
   "cell_type": "code",
   "execution_count": 2,
   "metadata": {},
   "outputs": [
    {
     "data": {
      "text/plain": [
       "0.609"
      ]
     },
     "execution_count": 2,
     "metadata": {},
     "output_type": "execute_result"
    }
   ],
   "source": [
    "df = df[['datetime', 'total_score']]\n",
    "round((len(df[df.total_score > 0]) / len(df)),3)"
   ]
  },
  {
   "cell_type": "code",
   "execution_count": 3,
   "metadata": {},
   "outputs": [],
   "source": [
    "minus_list = []\n",
    "len_ = len(df)\n",
    "for i in range(360, len_):\n",
    "    if df.loc[i].total_score < 0:\n",
    "        minus_list.append(i)\n",
    "    else:\n",
    "        continue"
   ]
  },
  {
   "cell_type": "code",
   "execution_count": 4,
   "metadata": {},
   "outputs": [
    {
     "data": {
      "text/plain": [
       "3734"
      ]
     },
     "execution_count": 4,
     "metadata": {},
     "output_type": "execute_result"
    }
   ],
   "source": [
    "len_m = len(minus_list)\n",
    "len_m"
   ]
  },
  {
   "cell_type": "code",
   "execution_count": 5,
   "metadata": {},
   "outputs": [],
   "source": [
    "l, r = 0, 1 \n",
    "minus_zone = []\n",
    "for i in range(len_m):\n",
    "    while l <= r and r < len_m:\n",
    "        if (minus_list[r] - minus_list[l]) == r - l:\n",
    "            r += 1\n",
    "        else: \n",
    "            minus_zone.append([minus_list[l],minus_list[r-1]])\n",
    "            l = r \n",
    "            r = l + 1\n",
    "minus_zone.append([minus_list[l],minus_list[r-1]])"
   ]
  },
  {
   "cell_type": "code",
   "execution_count": 6,
   "metadata": {},
   "outputs": [
    {
     "data": {
      "text/plain": [
       "314"
      ]
     },
     "execution_count": 6,
     "metadata": {},
     "output_type": "execute_result"
    }
   ],
   "source": [
    "len(minus_zone)"
   ]
  },
  {
   "cell_type": "code",
   "execution_count": 7,
   "metadata": {},
   "outputs": [
    {
     "data": {
      "text/plain": [
       "314"
      ]
     },
     "execution_count": 7,
     "metadata": {},
     "output_type": "execute_result"
    }
   ],
   "source": [
    "len_z = len(minus_zone)\n",
    "len_z"
   ]
  },
  {
   "cell_type": "code",
   "execution_count": 8,
   "metadata": {},
   "outputs": [],
   "source": [
    "right_zone = []\n",
    "for i in range(len_z):\n",
    "    if minus_zone[i][1] - minus_zone[i][0] >= 10:\n",
    "        right_zone.append(minus_zone[i])"
   ]
  },
  {
   "cell_type": "code",
   "execution_count": 9,
   "metadata": {},
   "outputs": [
    {
     "data": {
      "text/plain": [
       "51"
      ]
     },
     "execution_count": 9,
     "metadata": {},
     "output_type": "execute_result"
    }
   ],
   "source": [
    "len(right_zone)"
   ]
  },
  {
   "cell_type": "code",
   "execution_count": 10,
   "metadata": {},
   "outputs": [
    {
     "data": {
      "text/plain": [
       "[[360, 402],\n",
       " [458, 473],\n",
       " [661, 843],\n",
       " [955, 1001],\n",
       " [1063, 1232],\n",
       " [1731, 1774],\n",
       " [1839, 1888],\n",
       " [1939, 1964],\n",
       " [1974, 2028],\n",
       " [2053, 2110],\n",
       " [2271, 2340],\n",
       " [2363, 2374],\n",
       " [2394, 2405],\n",
       " [2445, 2521],\n",
       " [2649, 2670],\n",
       " [2717, 2740],\n",
       " [2763, 2788],\n",
       " [2898, 3008],\n",
       " [3107, 3131],\n",
       " [3155, 3314],\n",
       " [3398, 3440],\n",
       " [3730, 3773],\n",
       " [3775, 3791],\n",
       " [3793, 4002],\n",
       " [4046, 4201],\n",
       " [4259, 4279],\n",
       " [4285, 4320],\n",
       " [4601, 4625],\n",
       " [4912, 4933],\n",
       " [4956, 4977],\n",
       " [4999, 5162],\n",
       " [5168, 5188],\n",
       " [5203, 5275],\n",
       " [5277, 5291],\n",
       " [5426, 5655],\n",
       " [6424, 6443],\n",
       " [6445, 6460],\n",
       " [6839, 6881],\n",
       " [6967, 6977],\n",
       " [6996, 7145],\n",
       " [8047, 8057],\n",
       " [8066, 8079],\n",
       " [8084, 8168],\n",
       " [8170, 8232],\n",
       " [8755, 8770],\n",
       " [8772, 8790],\n",
       " [8821, 8909],\n",
       " [8912, 8983],\n",
       " [9562, 9652],\n",
       " [9685, 9703],\n",
       " [10437, 10484]]"
      ]
     },
     "execution_count": 10,
     "metadata": {},
     "output_type": "execute_result"
    }
   ],
   "source": [
    "right_zone"
   ]
  },
  {
   "cell_type": "code",
   "execution_count": 11,
   "metadata": {},
   "outputs": [
    {
     "data": {
      "text/plain": [
       "[['1982/5/18', '1982/7/19'],\n",
       " ['1982/10/6', '1982/10/27'],\n",
       " ['1983/7/26', '1984/4/12'],\n",
       " ['1984/9/21', '1984/11/27'],\n",
       " ['1985/2/26', '1985/10/28'],\n",
       " ['1987/10/19', '1987/12/18'],\n",
       " ['1988/3/23', '1988/6/2'],\n",
       " ['1988/8/15', '1988/9/20'],\n",
       " ['1988/10/4', '1988/12/20'],\n",
       " ['1989/1/26', '1989/4/19'],\n",
       " ['1989/12/6', '1990/3/16'],\n",
       " ['1990/4/19', '1990/5/4'],\n",
       " ['1990/6/4', '1990/6/19'],\n",
       " ['1990/8/15', '1990/12/3'],\n",
       " ['1991/6/6', '1991/7/8'],\n",
       " ['1991/9/12', '1991/10/15'],\n",
       " ['1991/11/15', '1991/12/23'],\n",
       " ['1992/6/1', '1992/11/4'],\n",
       " ['1993/3/29', '1993/5/3'],\n",
       " ['1993/6/7', '1994/1/20'],\n",
       " ['1994/5/23', '1994/7/22'],\n",
       " ['1995/9/14', '1995/11/14'],\n",
       " ['1995/11/16', '1995/12/11'],\n",
       " ['1995/12/13', '1996/10/10'],\n",
       " ['1996/12/12', '1997/7/25'],\n",
       " ['1997/10/16', '1997/11/13'],\n",
       " ['1997/11/21', '1998/1/14'],\n",
       " ['1999/2/26', '1999/4/1'],\n",
       " ['2000/5/19', '2000/6/20'],\n",
       " ['2000/7/24', '2000/8/22'],\n",
       " ['2000/9/22', '2001/5/17'],\n",
       " ['2001/5/25', '2001/6/25'],\n",
       " ['2001/7/17', '2001/11/1'],\n",
       " ['2001/11/5', '2001/11/26'],\n",
       " ['2002/6/11', '2003/5/8'],\n",
       " ['2006/5/26', '2006/6/23'],\n",
       " ['2006/6/27', '2006/7/19'],\n",
       " ['2008/1/22', '2008/3/24'],\n",
       " ['2008/7/24', '2008/8/7'],\n",
       " ['2008/9/4', '2009/4/8'],\n",
       " ['2012/11/6', '2012/11/20'],\n",
       " ['2012/12/4', '2012/12/21'],\n",
       " ['2012/12/31', '2013/5/2'],\n",
       " ['2013/5/6', '2013/8/2'],\n",
       " ['2015/8/31', '2015/9/22'],\n",
       " ['2015/9/24', '2015/10/20'],\n",
       " ['2015/12/3', '2016/4/12'],\n",
       " ['2016/4/15', '2016/7/27'],\n",
       " ['2018/11/12', '2019/3/26'],\n",
       " ['2019/5/13', '2019/6/7'],\n",
       " ['2022/5/5', '2022/7/14']]"
      ]
     },
     "execution_count": 11,
     "metadata": {},
     "output_type": "execute_result"
    }
   ],
   "source": [
    "date_zone = []\n",
    "for item in right_zone:\n",
    "    date_zone.append([df.loc[item[0]].datetime, df.loc[item[1]].datetime])\n",
    "date_zone"
   ]
  },
  {
   "cell_type": "code",
   "execution_count": 13,
   "metadata": {},
   "outputs": [
    {
     "data": {
      "text/plain": [
       "[['2018/11/12', '2019/3/26'],\n",
       " ['2019/5/13', '2019/6/7'],\n",
       " ['2022/5/5', '2022/7/14']]"
      ]
     },
     "execution_count": 13,
     "metadata": {},
     "output_type": "execute_result"
    }
   ],
   "source": [
    "len_d = len(date_zone)\n",
    "date_zone[len_d-3:len_d]"
   ]
  },
  {
   "cell_type": "code",
   "execution_count": null,
   "metadata": {},
   "outputs": [],
   "source": []
  }
 ],
 "metadata": {
  "kernelspec": {
   "display_name": "Python 3.9.12 ('.env')",
   "language": "python",
   "name": "python3"
  },
  "language_info": {
   "codemirror_mode": {
    "name": "ipython",
    "version": 3
   },
   "file_extension": ".py",
   "mimetype": "text/x-python",
   "name": "python",
   "nbconvert_exporter": "python",
   "pygments_lexer": "ipython3",
   "version": "3.9.12"
  },
  "orig_nbformat": 4,
  "vscode": {
   "interpreter": {
    "hash": "275094a250fb64a879cf604ce7b88b81b1f18c35ecd757c3dc3951589b6fa1fd"
   }
  }
 },
 "nbformat": 4,
 "nbformat_minor": 2
}
