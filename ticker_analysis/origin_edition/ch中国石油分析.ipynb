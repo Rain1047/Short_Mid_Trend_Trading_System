{
 "cells": [
  {
   "cell_type": "code",
   "execution_count": 1,
   "metadata": {},
   "outputs": [
    {
     "name": "stderr",
     "output_type": "stream",
     "text": [
      "c:\\Users\\Rain\\Dropbox\\My PC (DESKTOP-EC6QP18)\\Desktop\\Trade\\ticker_analysis\\ch\\get_score.py:29: SettingWithCopyWarning: \n",
      "A value is trying to be set on a copy of a slice from a DataFrame\n",
      "\n",
      "See the caveats in the documentation: https://pandas.pydata.org/pandas-docs/stable/user_guide/indexing.html#returning-a-view-versus-a-copy\n",
      "  df.vscore.loc[i] = (1 - (df.loc[i].volume / df.loc[i]['VMA 50'])) * 10\n",
      "c:\\Users\\Rain\\Dropbox\\My PC (DESKTOP-EC6QP18)\\Desktop\\Trade\\ticker_analysis\\ch\\get_score.py:38: SettingWithCopyWarning: \n",
      "A value is trying to be set on a copy of a slice from a DataFrame\n",
      "\n",
      "See the caveats in the documentation: https://pandas.pydata.org/pandas-docs/stable/user_guide/indexing.html#returning-a-view-versus-a-copy\n",
      "  df.score.loc[i] = score\n",
      "c:\\Users\\Rain\\Dropbox\\My PC (DESKTOP-EC6QP18)\\Desktop\\Trade\\ticker_analysis\\ch\\get_score.py:162: SettingWithCopyWarning: \n",
      "A value is trying to be set on a copy of a slice from a DataFrame\n",
      "\n",
      "See the caveats in the documentation: https://pandas.pydata.org/pandas-docs/stable/user_guide/indexing.html#returning-a-view-versus-a-copy\n",
      "  df.score.loc[i] = score\n",
      "c:\\Users\\Rain\\Dropbox\\My PC (DESKTOP-EC6QP18)\\Desktop\\Trade\\ticker_analysis\\ch\\get_score.py:162: SettingWithCopyWarning: \n",
      "A value is trying to be set on a copy of a slice from a DataFrame\n",
      "\n",
      "See the caveats in the documentation: https://pandas.pydata.org/pandas-docs/stable/user_guide/indexing.html#returning-a-view-versus-a-copy\n",
      "  df.score.loc[i] = score\n"
     ]
    }
   ],
   "source": [
    "# Pandas\n",
    "import pandas as pd\n",
    "import talib as ta\n",
    "import numpy as np\n",
    "from sqlalchemy import create_engine\n",
    "from get_score import get_score_ch\n",
    "engine= create_engine('sqlite:///../../dataset/ch/total_ch_baostock.db')\n",
    "\n",
    "df = pd.read_sql('601857.SH',engine).loc[::-1]\n",
    "df.index = range(len(df))\n",
    "df.rename(columns={'vol':'volume'},inplace=True)\n",
    "\n",
    "score_df = get_score_ch(df)\n",
    "\n",
    "score_df.to_csv('score_中国石油.csv',index=False)"
   ]
  },
  {
   "cell_type": "code",
   "execution_count": null,
   "metadata": {},
   "outputs": [],
   "source": []
  }
 ],
 "metadata": {
  "kernelspec": {
   "display_name": "Python 3.9.12 ('.env')",
   "language": "python",
   "name": "python3"
  },
  "language_info": {
   "codemirror_mode": {
    "name": "ipython",
    "version": 3
   },
   "file_extension": ".py",
   "mimetype": "text/x-python",
   "name": "python",
   "nbconvert_exporter": "python",
   "pygments_lexer": "ipython3",
   "version": "3.9.12"
  },
  "orig_nbformat": 4,
  "vscode": {
   "interpreter": {
    "hash": "275094a250fb64a879cf604ce7b88b81b1f18c35ecd757c3dc3951589b6fa1fd"
   }
  }
 },
 "nbformat": 4,
 "nbformat_minor": 2
}
