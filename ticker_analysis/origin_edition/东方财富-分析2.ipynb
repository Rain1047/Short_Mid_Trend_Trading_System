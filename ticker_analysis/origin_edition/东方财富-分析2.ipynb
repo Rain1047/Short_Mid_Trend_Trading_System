{
 "cells": [
  {
   "cell_type": "code",
   "execution_count": 3,
   "metadata": {},
   "outputs": [],
   "source": [
    "# Pandas\n",
    "import pandas as pd\n",
    "import talib as ta\n",
    "import numpy as np\n",
    "from get_score import get_score_ch\n",
    "from sqlalchemy import create_engine\n",
    "\n"
   ]
  },
  {
   "cell_type": "code",
   "execution_count": 4,
   "metadata": {},
   "outputs": [],
   "source": [
    "engine= create_engine('sqlite:///../../single_ticker_price/ch/ch_ticker_price.db')\n",
    "df = pd.read_sql('sz.300059', engine)"
   ]
  },
  {
   "cell_type": "code",
   "execution_count": 5,
   "metadata": {},
   "outputs": [
    {
     "data": {
      "text/plain": [
       "0       2015-01-05\n",
       "1       2015-01-06\n",
       "2       2015-01-07\n",
       "3       2015-01-08\n",
       "4       2015-01-09\n",
       "           ...    \n",
       "1826    2022-07-07\n",
       "1827    2022-07-08\n",
       "1828    2022-07-11\n",
       "1829    2022-07-12\n",
       "1830    2022-07-13\n",
       "Name: date, Length: 1831, dtype: object"
      ]
     },
     "execution_count": 5,
     "metadata": {},
     "output_type": "execute_result"
    }
   ],
   "source": [
    "df.date"
   ]
  },
  {
   "cell_type": "code",
   "execution_count": 6,
   "metadata": {},
   "outputs": [],
   "source": [
    "df[['open','high', 'low', 'close','volume', 'amount', 'pctChg']] = df[['open','high', 'low', 'close', 'volume', 'amount', 'pctChg']].astype(float)"
   ]
  },
  {
   "cell_type": "code",
   "execution_count": 7,
   "metadata": {},
   "outputs": [
    {
     "name": "stderr",
     "output_type": "stream",
     "text": [
      "c:\\Users\\Rain\\Dropbox\\My PC (DESKTOP-EC6QP18)\\Desktop\\futu_trade\\ticker_analysis\\ch\\get_score.py:29: SettingWithCopyWarning: \n",
      "A value is trying to be set on a copy of a slice from a DataFrame\n",
      "\n",
      "See the caveats in the documentation: https://pandas.pydata.org/pandas-docs/stable/user_guide/indexing.html#returning-a-view-versus-a-copy\n",
      "  df.vscore.loc[i] = (1 - (df.loc[i].volume / df.loc[i]['VMA 50'])) * 10\n",
      "c:\\Users\\Rain\\Dropbox\\My PC (DESKTOP-EC6QP18)\\Desktop\\futu_trade\\ticker_analysis\\ch\\get_score.py:38: SettingWithCopyWarning: \n",
      "A value is trying to be set on a copy of a slice from a DataFrame\n",
      "\n",
      "See the caveats in the documentation: https://pandas.pydata.org/pandas-docs/stable/user_guide/indexing.html#returning-a-view-versus-a-copy\n",
      "  df.score.loc[i] = score\n",
      "c:\\Users\\Rain\\Dropbox\\My PC (DESKTOP-EC6QP18)\\Desktop\\futu_trade\\ticker_analysis\\ch\\get_score.py:162: SettingWithCopyWarning: \n",
      "A value is trying to be set on a copy of a slice from a DataFrame\n",
      "\n",
      "See the caveats in the documentation: https://pandas.pydata.org/pandas-docs/stable/user_guide/indexing.html#returning-a-view-versus-a-copy\n",
      "  df.score.loc[i] = score\n",
      "c:\\Users\\Rain\\Dropbox\\My PC (DESKTOP-EC6QP18)\\Desktop\\futu_trade\\ticker_analysis\\ch\\get_score.py:162: SettingWithCopyWarning: \n",
      "A value is trying to be set on a copy of a slice from a DataFrame\n",
      "\n",
      "See the caveats in the documentation: https://pandas.pydata.org/pandas-docs/stable/user_guide/indexing.html#returning-a-view-versus-a-copy\n",
      "  df.score.loc[i] = score\n"
     ]
    }
   ],
   "source": [
    "df = get_score_ch(df)"
   ]
  },
  {
   "cell_type": "code",
   "execution_count": 8,
   "metadata": {},
   "outputs": [],
   "source": [
    "df.to_csv('东方财富-分析(更新数据).csv',index=False)"
   ]
  },
  {
   "cell_type": "code",
   "execution_count": null,
   "metadata": {},
   "outputs": [],
   "source": []
  }
 ],
 "metadata": {
  "kernelspec": {
   "display_name": "Python 3.9.12 ('.env')",
   "language": "python",
   "name": "python3"
  },
  "language_info": {
   "codemirror_mode": {
    "name": "ipython",
    "version": 3
   },
   "file_extension": ".py",
   "mimetype": "text/x-python",
   "name": "python",
   "nbconvert_exporter": "python",
   "pygments_lexer": "ipython3",
   "version": "3.9.12"
  },
  "orig_nbformat": 4,
  "vscode": {
   "interpreter": {
    "hash": "275094a250fb64a879cf604ce7b88b81b1f18c35ecd757c3dc3951589b6fa1fd"
   }
  }
 },
 "nbformat": 4,
 "nbformat_minor": 2
}
